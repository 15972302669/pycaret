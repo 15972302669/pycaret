{
 "cells": [
  {
   "cell_type": "code",
   "execution_count": 1,
   "metadata": {},
   "outputs": [
    {
     "data": {
      "text/html": [
       "<div>\n",
       "<style scoped>\n",
       "    .dataframe tbody tr th:only-of-type {\n",
       "        vertical-align: middle;\n",
       "    }\n",
       "\n",
       "    .dataframe tbody tr th {\n",
       "        vertical-align: top;\n",
       "    }\n",
       "\n",
       "    .dataframe thead th {\n",
       "        text-align: right;\n",
       "    }\n",
       "</style>\n",
       "<table border=\"1\" class=\"dataframe\">\n",
       "  <thead>\n",
       "    <tr style=\"text-align: right;\">\n",
       "      <th></th>\n",
       "      <th>Age</th>\n",
       "      <th>Income</th>\n",
       "      <th>SpendingScore</th>\n",
       "      <th>Savings</th>\n",
       "    </tr>\n",
       "  </thead>\n",
       "  <tbody>\n",
       "    <tr>\n",
       "      <th>0</th>\n",
       "      <td>58</td>\n",
       "      <td>77769</td>\n",
       "      <td>0.791329</td>\n",
       "      <td>6559.829923</td>\n",
       "    </tr>\n",
       "    <tr>\n",
       "      <th>1</th>\n",
       "      <td>59</td>\n",
       "      <td>81799</td>\n",
       "      <td>0.791082</td>\n",
       "      <td>5417.661426</td>\n",
       "    </tr>\n",
       "    <tr>\n",
       "      <th>2</th>\n",
       "      <td>62</td>\n",
       "      <td>74751</td>\n",
       "      <td>0.702657</td>\n",
       "      <td>9258.992965</td>\n",
       "    </tr>\n",
       "    <tr>\n",
       "      <th>3</th>\n",
       "      <td>59</td>\n",
       "      <td>74373</td>\n",
       "      <td>0.765680</td>\n",
       "      <td>7346.334504</td>\n",
       "    </tr>\n",
       "    <tr>\n",
       "      <th>4</th>\n",
       "      <td>87</td>\n",
       "      <td>17760</td>\n",
       "      <td>0.348778</td>\n",
       "      <td>16869.507130</td>\n",
       "    </tr>\n",
       "  </tbody>\n",
       "</table>\n",
       "</div>"
      ],
      "text/plain": [
       "   Age  Income  SpendingScore       Savings\n",
       "0   58   77769       0.791329   6559.829923\n",
       "1   59   81799       0.791082   5417.661426\n",
       "2   62   74751       0.702657   9258.992965\n",
       "3   59   74373       0.765680   7346.334504\n",
       "4   87   17760       0.348778  16869.507130"
      ]
     },
     "metadata": {},
     "output_type": "display_data"
    }
   ],
   "source": [
    "from pycaret.datasets import get_data\n",
    "data = get_data('jewellery')"
   ]
  },
  {
   "cell_type": "code",
   "execution_count": 33,
   "metadata": {},
   "outputs": [],
   "source": [
    "from pycaret.clustering import *"
   ]
  },
  {
   "cell_type": "markdown",
   "metadata": {},
   "source": [
    "## Initialize setup"
   ]
  },
  {
   "cell_type": "code",
   "execution_count": 4,
   "metadata": {},
   "outputs": [
    {
     "data": {
      "text/html": [
       "<style  type=\"text/css\" >\n",
       "</style><table id=\"T_bf97e478_37ce_11ea_9f4b_84fdd13f47d7\" ><thead>    <tr>        <th class=\"col_heading level0 col0\" >Description</th>        <th class=\"col_heading level0 col1\" >Value</th>    </tr></thead><tbody>\n",
       "                <tr>\n",
       "                                <td id=\"T_bf97e478_37ce_11ea_9f4b_84fdd13f47d7row0_col0\" class=\"data row0 col0\" >session_id</td>\n",
       "                        <td id=\"T_bf97e478_37ce_11ea_9f4b_84fdd13f47d7row0_col1\" class=\"data row0 col1\" >786</td>\n",
       "            </tr>\n",
       "            <tr>\n",
       "                                <td id=\"T_bf97e478_37ce_11ea_9f4b_84fdd13f47d7row1_col0\" class=\"data row1 col0\" >Scaling</td>\n",
       "                        <td id=\"T_bf97e478_37ce_11ea_9f4b_84fdd13f47d7row1_col1\" class=\"data row1 col1\" >True</td>\n",
       "            </tr>\n",
       "            <tr>\n",
       "                                <td id=\"T_bf97e478_37ce_11ea_9f4b_84fdd13f47d7row2_col0\" class=\"data row2 col0\" >Shape</td>\n",
       "                        <td id=\"T_bf97e478_37ce_11ea_9f4b_84fdd13f47d7row2_col1\" class=\"data row2 col1\" >(505, 4)</td>\n",
       "            </tr>\n",
       "    </tbody></table>"
      ],
      "text/plain": [
       "<pandas.io.formats.style.Styler at 0x2890b99dd48>"
      ]
     },
     "metadata": {},
     "output_type": "display_data"
    }
   ],
   "source": [
    "s = setup(data, normalize=True, session_id=786)"
   ]
  },
  {
   "cell_type": "markdown",
   "metadata": {},
   "source": [
    "## Create Model"
   ]
  },
  {
   "cell_type": "code",
   "execution_count": 5,
   "metadata": {},
   "outputs": [],
   "source": [
    "kmeans = create_model(model='kmeans')"
   ]
  },
  {
   "cell_type": "code",
   "execution_count": 6,
   "metadata": {},
   "outputs": [],
   "source": [
    "kmodes = create_model(model='kmodes')"
   ]
  },
  {
   "cell_type": "code",
   "execution_count": 7,
   "metadata": {},
   "outputs": [],
   "source": [
    "skmeans = create_model(model='skmeans')"
   ]
  },
  {
   "cell_type": "code",
   "execution_count": 8,
   "metadata": {},
   "outputs": [],
   "source": [
    "hclust = create_model(model='hclust')"
   ]
  },
  {
   "cell_type": "code",
   "execution_count": 9,
   "metadata": {},
   "outputs": [],
   "source": [
    "birch = create_model(model='birch')"
   ]
  },
  {
   "cell_type": "code",
   "execution_count": 10,
   "metadata": {},
   "outputs": [],
   "source": [
    "dbscan = create_model(model='dbscan')"
   ]
  },
  {
   "cell_type": "markdown",
   "metadata": {},
   "source": [
    "## Assign Model"
   ]
  },
  {
   "cell_type": "code",
   "execution_count": 11,
   "metadata": {},
   "outputs": [
    {
     "data": {
      "text/html": [
       "<div>\n",
       "<style scoped>\n",
       "    .dataframe tbody tr th:only-of-type {\n",
       "        vertical-align: middle;\n",
       "    }\n",
       "\n",
       "    .dataframe tbody tr th {\n",
       "        vertical-align: top;\n",
       "    }\n",
       "\n",
       "    .dataframe thead th {\n",
       "        text-align: right;\n",
       "    }\n",
       "</style>\n",
       "<table border=\"1\" class=\"dataframe\">\n",
       "  <thead>\n",
       "    <tr style=\"text-align: right;\">\n",
       "      <th></th>\n",
       "      <th>Age</th>\n",
       "      <th>Income</th>\n",
       "      <th>SpendingScore</th>\n",
       "      <th>Savings</th>\n",
       "      <th>Cluster</th>\n",
       "    </tr>\n",
       "  </thead>\n",
       "  <tbody>\n",
       "    <tr>\n",
       "      <th>0</th>\n",
       "      <td>58</td>\n",
       "      <td>77769</td>\n",
       "      <td>0.791329</td>\n",
       "      <td>6559.829923</td>\n",
       "      <td>Cluster 2</td>\n",
       "    </tr>\n",
       "    <tr>\n",
       "      <th>1</th>\n",
       "      <td>59</td>\n",
       "      <td>81799</td>\n",
       "      <td>0.791082</td>\n",
       "      <td>5417.661426</td>\n",
       "      <td>Cluster 2</td>\n",
       "    </tr>\n",
       "    <tr>\n",
       "      <th>2</th>\n",
       "      <td>62</td>\n",
       "      <td>74751</td>\n",
       "      <td>0.702657</td>\n",
       "      <td>9258.992965</td>\n",
       "      <td>Cluster 2</td>\n",
       "    </tr>\n",
       "    <tr>\n",
       "      <th>3</th>\n",
       "      <td>59</td>\n",
       "      <td>74373</td>\n",
       "      <td>0.765680</td>\n",
       "      <td>7346.334504</td>\n",
       "      <td>Cluster 2</td>\n",
       "    </tr>\n",
       "    <tr>\n",
       "      <th>4</th>\n",
       "      <td>87</td>\n",
       "      <td>17760</td>\n",
       "      <td>0.348778</td>\n",
       "      <td>16869.507130</td>\n",
       "      <td>Cluster 0</td>\n",
       "    </tr>\n",
       "    <tr>\n",
       "      <th>...</th>\n",
       "      <td>...</td>\n",
       "      <td>...</td>\n",
       "      <td>...</td>\n",
       "      <td>...</td>\n",
       "      <td>...</td>\n",
       "    </tr>\n",
       "    <tr>\n",
       "      <th>500</th>\n",
       "      <td>28</td>\n",
       "      <td>101206</td>\n",
       "      <td>0.387441</td>\n",
       "      <td>14936.775389</td>\n",
       "      <td>Cluster 1</td>\n",
       "    </tr>\n",
       "    <tr>\n",
       "      <th>501</th>\n",
       "      <td>93</td>\n",
       "      <td>19934</td>\n",
       "      <td>0.203140</td>\n",
       "      <td>17969.693769</td>\n",
       "      <td>Cluster 0</td>\n",
       "    </tr>\n",
       "    <tr>\n",
       "      <th>502</th>\n",
       "      <td>90</td>\n",
       "      <td>35297</td>\n",
       "      <td>0.355149</td>\n",
       "      <td>16091.401954</td>\n",
       "      <td>Cluster 0</td>\n",
       "    </tr>\n",
       "    <tr>\n",
       "      <th>503</th>\n",
       "      <td>91</td>\n",
       "      <td>20681</td>\n",
       "      <td>0.354679</td>\n",
       "      <td>18401.088445</td>\n",
       "      <td>Cluster 0</td>\n",
       "    </tr>\n",
       "    <tr>\n",
       "      <th>504</th>\n",
       "      <td>89</td>\n",
       "      <td>30267</td>\n",
       "      <td>0.289310</td>\n",
       "      <td>14386.351880</td>\n",
       "      <td>Cluster 0</td>\n",
       "    </tr>\n",
       "  </tbody>\n",
       "</table>\n",
       "<p>505 rows × 5 columns</p>\n",
       "</div>"
      ],
      "text/plain": [
       "     Age  Income  SpendingScore       Savings    Cluster\n",
       "0     58   77769       0.791329   6559.829923  Cluster 2\n",
       "1     59   81799       0.791082   5417.661426  Cluster 2\n",
       "2     62   74751       0.702657   9258.992965  Cluster 2\n",
       "3     59   74373       0.765680   7346.334504  Cluster 2\n",
       "4     87   17760       0.348778  16869.507130  Cluster 0\n",
       "..   ...     ...            ...           ...        ...\n",
       "500   28  101206       0.387441  14936.775389  Cluster 1\n",
       "501   93   19934       0.203140  17969.693769  Cluster 0\n",
       "502   90   35297       0.355149  16091.401954  Cluster 0\n",
       "503   91   20681       0.354679  18401.088445  Cluster 0\n",
       "504   89   30267       0.289310  14386.351880  Cluster 0\n",
       "\n",
       "[505 rows x 5 columns]"
      ]
     },
     "execution_count": 11,
     "metadata": {},
     "output_type": "execute_result"
    }
   ],
   "source": [
    "assign_model(kmeans)"
   ]
  },
  {
   "cell_type": "code",
   "execution_count": 12,
   "metadata": {},
   "outputs": [
    {
     "data": {
      "text/html": [
       "<div>\n",
       "<style scoped>\n",
       "    .dataframe tbody tr th:only-of-type {\n",
       "        vertical-align: middle;\n",
       "    }\n",
       "\n",
       "    .dataframe tbody tr th {\n",
       "        vertical-align: top;\n",
       "    }\n",
       "\n",
       "    .dataframe thead th {\n",
       "        text-align: right;\n",
       "    }\n",
       "</style>\n",
       "<table border=\"1\" class=\"dataframe\">\n",
       "  <thead>\n",
       "    <tr style=\"text-align: right;\">\n",
       "      <th></th>\n",
       "      <th>Age</th>\n",
       "      <th>Income</th>\n",
       "      <th>SpendingScore</th>\n",
       "      <th>Savings</th>\n",
       "      <th>Cluster</th>\n",
       "    </tr>\n",
       "  </thead>\n",
       "  <tbody>\n",
       "    <tr>\n",
       "      <th>0</th>\n",
       "      <td>58</td>\n",
       "      <td>77769</td>\n",
       "      <td>0.791329</td>\n",
       "      <td>6559.829923</td>\n",
       "      <td>Cluster 3</td>\n",
       "    </tr>\n",
       "    <tr>\n",
       "      <th>1</th>\n",
       "      <td>59</td>\n",
       "      <td>81799</td>\n",
       "      <td>0.791082</td>\n",
       "      <td>5417.661426</td>\n",
       "      <td>Cluster 0</td>\n",
       "    </tr>\n",
       "    <tr>\n",
       "      <th>2</th>\n",
       "      <td>62</td>\n",
       "      <td>74751</td>\n",
       "      <td>0.702657</td>\n",
       "      <td>9258.992965</td>\n",
       "      <td>Cluster 0</td>\n",
       "    </tr>\n",
       "    <tr>\n",
       "      <th>3</th>\n",
       "      <td>59</td>\n",
       "      <td>74373</td>\n",
       "      <td>0.765680</td>\n",
       "      <td>7346.334504</td>\n",
       "      <td>Cluster 0</td>\n",
       "    </tr>\n",
       "    <tr>\n",
       "      <th>4</th>\n",
       "      <td>87</td>\n",
       "      <td>17760</td>\n",
       "      <td>0.348778</td>\n",
       "      <td>16869.507130</td>\n",
       "      <td>Cluster 2</td>\n",
       "    </tr>\n",
       "    <tr>\n",
       "      <th>...</th>\n",
       "      <td>...</td>\n",
       "      <td>...</td>\n",
       "      <td>...</td>\n",
       "      <td>...</td>\n",
       "      <td>...</td>\n",
       "    </tr>\n",
       "    <tr>\n",
       "      <th>500</th>\n",
       "      <td>28</td>\n",
       "      <td>101206</td>\n",
       "      <td>0.387441</td>\n",
       "      <td>14936.775389</td>\n",
       "      <td>Cluster 0</td>\n",
       "    </tr>\n",
       "    <tr>\n",
       "      <th>501</th>\n",
       "      <td>93</td>\n",
       "      <td>19934</td>\n",
       "      <td>0.203140</td>\n",
       "      <td>17969.693769</td>\n",
       "      <td>Cluster 0</td>\n",
       "    </tr>\n",
       "    <tr>\n",
       "      <th>502</th>\n",
       "      <td>90</td>\n",
       "      <td>35297</td>\n",
       "      <td>0.355149</td>\n",
       "      <td>16091.401954</td>\n",
       "      <td>Cluster 0</td>\n",
       "    </tr>\n",
       "    <tr>\n",
       "      <th>503</th>\n",
       "      <td>91</td>\n",
       "      <td>20681</td>\n",
       "      <td>0.354679</td>\n",
       "      <td>18401.088445</td>\n",
       "      <td>Cluster 0</td>\n",
       "    </tr>\n",
       "    <tr>\n",
       "      <th>504</th>\n",
       "      <td>89</td>\n",
       "      <td>30267</td>\n",
       "      <td>0.289310</td>\n",
       "      <td>14386.351880</td>\n",
       "      <td>Cluster 0</td>\n",
       "    </tr>\n",
       "  </tbody>\n",
       "</table>\n",
       "<p>505 rows × 5 columns</p>\n",
       "</div>"
      ],
      "text/plain": [
       "     Age  Income  SpendingScore       Savings    Cluster\n",
       "0     58   77769       0.791329   6559.829923  Cluster 3\n",
       "1     59   81799       0.791082   5417.661426  Cluster 0\n",
       "2     62   74751       0.702657   9258.992965  Cluster 0\n",
       "3     59   74373       0.765680   7346.334504  Cluster 0\n",
       "4     87   17760       0.348778  16869.507130  Cluster 2\n",
       "..   ...     ...            ...           ...        ...\n",
       "500   28  101206       0.387441  14936.775389  Cluster 0\n",
       "501   93   19934       0.203140  17969.693769  Cluster 0\n",
       "502   90   35297       0.355149  16091.401954  Cluster 0\n",
       "503   91   20681       0.354679  18401.088445  Cluster 0\n",
       "504   89   30267       0.289310  14386.351880  Cluster 0\n",
       "\n",
       "[505 rows x 5 columns]"
      ]
     },
     "execution_count": 12,
     "metadata": {},
     "output_type": "execute_result"
    }
   ],
   "source": [
    "assign_model(kmodes)"
   ]
  },
  {
   "cell_type": "code",
   "execution_count": 13,
   "metadata": {},
   "outputs": [
    {
     "data": {
      "text/html": [
       "<div>\n",
       "<style scoped>\n",
       "    .dataframe tbody tr th:only-of-type {\n",
       "        vertical-align: middle;\n",
       "    }\n",
       "\n",
       "    .dataframe tbody tr th {\n",
       "        vertical-align: top;\n",
       "    }\n",
       "\n",
       "    .dataframe thead th {\n",
       "        text-align: right;\n",
       "    }\n",
       "</style>\n",
       "<table border=\"1\" class=\"dataframe\">\n",
       "  <thead>\n",
       "    <tr style=\"text-align: right;\">\n",
       "      <th></th>\n",
       "      <th>Age</th>\n",
       "      <th>Income</th>\n",
       "      <th>SpendingScore</th>\n",
       "      <th>Savings</th>\n",
       "      <th>Cluster</th>\n",
       "    </tr>\n",
       "  </thead>\n",
       "  <tbody>\n",
       "    <tr>\n",
       "      <th>0</th>\n",
       "      <td>58</td>\n",
       "      <td>77769</td>\n",
       "      <td>0.791329</td>\n",
       "      <td>6559.829923</td>\n",
       "      <td>Cluster 0</td>\n",
       "    </tr>\n",
       "    <tr>\n",
       "      <th>1</th>\n",
       "      <td>59</td>\n",
       "      <td>81799</td>\n",
       "      <td>0.791082</td>\n",
       "      <td>5417.661426</td>\n",
       "      <td>Cluster 0</td>\n",
       "    </tr>\n",
       "    <tr>\n",
       "      <th>2</th>\n",
       "      <td>62</td>\n",
       "      <td>74751</td>\n",
       "      <td>0.702657</td>\n",
       "      <td>9258.992965</td>\n",
       "      <td>Cluster 0</td>\n",
       "    </tr>\n",
       "    <tr>\n",
       "      <th>3</th>\n",
       "      <td>59</td>\n",
       "      <td>74373</td>\n",
       "      <td>0.765680</td>\n",
       "      <td>7346.334504</td>\n",
       "      <td>Cluster 0</td>\n",
       "    </tr>\n",
       "    <tr>\n",
       "      <th>4</th>\n",
       "      <td>87</td>\n",
       "      <td>17760</td>\n",
       "      <td>0.348778</td>\n",
       "      <td>16869.507130</td>\n",
       "      <td>Cluster 1</td>\n",
       "    </tr>\n",
       "    <tr>\n",
       "      <th>...</th>\n",
       "      <td>...</td>\n",
       "      <td>...</td>\n",
       "      <td>...</td>\n",
       "      <td>...</td>\n",
       "      <td>...</td>\n",
       "    </tr>\n",
       "    <tr>\n",
       "      <th>500</th>\n",
       "      <td>28</td>\n",
       "      <td>101206</td>\n",
       "      <td>0.387441</td>\n",
       "      <td>14936.775389</td>\n",
       "      <td>Cluster 2</td>\n",
       "    </tr>\n",
       "    <tr>\n",
       "      <th>501</th>\n",
       "      <td>93</td>\n",
       "      <td>19934</td>\n",
       "      <td>0.203140</td>\n",
       "      <td>17969.693769</td>\n",
       "      <td>Cluster 1</td>\n",
       "    </tr>\n",
       "    <tr>\n",
       "      <th>502</th>\n",
       "      <td>90</td>\n",
       "      <td>35297</td>\n",
       "      <td>0.355149</td>\n",
       "      <td>16091.401954</td>\n",
       "      <td>Cluster 1</td>\n",
       "    </tr>\n",
       "    <tr>\n",
       "      <th>503</th>\n",
       "      <td>91</td>\n",
       "      <td>20681</td>\n",
       "      <td>0.354679</td>\n",
       "      <td>18401.088445</td>\n",
       "      <td>Cluster 1</td>\n",
       "    </tr>\n",
       "    <tr>\n",
       "      <th>504</th>\n",
       "      <td>89</td>\n",
       "      <td>30267</td>\n",
       "      <td>0.289310</td>\n",
       "      <td>14386.351880</td>\n",
       "      <td>Cluster 1</td>\n",
       "    </tr>\n",
       "  </tbody>\n",
       "</table>\n",
       "<p>505 rows × 5 columns</p>\n",
       "</div>"
      ],
      "text/plain": [
       "     Age  Income  SpendingScore       Savings    Cluster\n",
       "0     58   77769       0.791329   6559.829923  Cluster 0\n",
       "1     59   81799       0.791082   5417.661426  Cluster 0\n",
       "2     62   74751       0.702657   9258.992965  Cluster 0\n",
       "3     59   74373       0.765680   7346.334504  Cluster 0\n",
       "4     87   17760       0.348778  16869.507130  Cluster 1\n",
       "..   ...     ...            ...           ...        ...\n",
       "500   28  101206       0.387441  14936.775389  Cluster 2\n",
       "501   93   19934       0.203140  17969.693769  Cluster 1\n",
       "502   90   35297       0.355149  16091.401954  Cluster 1\n",
       "503   91   20681       0.354679  18401.088445  Cluster 1\n",
       "504   89   30267       0.289310  14386.351880  Cluster 1\n",
       "\n",
       "[505 rows x 5 columns]"
      ]
     },
     "execution_count": 13,
     "metadata": {},
     "output_type": "execute_result"
    }
   ],
   "source": [
    "assign_model(skmeans)"
   ]
  },
  {
   "cell_type": "code",
   "execution_count": 14,
   "metadata": {},
   "outputs": [
    {
     "data": {
      "text/html": [
       "<div>\n",
       "<style scoped>\n",
       "    .dataframe tbody tr th:only-of-type {\n",
       "        vertical-align: middle;\n",
       "    }\n",
       "\n",
       "    .dataframe tbody tr th {\n",
       "        vertical-align: top;\n",
       "    }\n",
       "\n",
       "    .dataframe thead th {\n",
       "        text-align: right;\n",
       "    }\n",
       "</style>\n",
       "<table border=\"1\" class=\"dataframe\">\n",
       "  <thead>\n",
       "    <tr style=\"text-align: right;\">\n",
       "      <th></th>\n",
       "      <th>Age</th>\n",
       "      <th>Income</th>\n",
       "      <th>SpendingScore</th>\n",
       "      <th>Savings</th>\n",
       "      <th>Cluster</th>\n",
       "    </tr>\n",
       "  </thead>\n",
       "  <tbody>\n",
       "    <tr>\n",
       "      <th>0</th>\n",
       "      <td>58</td>\n",
       "      <td>77769</td>\n",
       "      <td>0.791329</td>\n",
       "      <td>6559.829923</td>\n",
       "      <td>Cluster 2</td>\n",
       "    </tr>\n",
       "    <tr>\n",
       "      <th>1</th>\n",
       "      <td>59</td>\n",
       "      <td>81799</td>\n",
       "      <td>0.791082</td>\n",
       "      <td>5417.661426</td>\n",
       "      <td>Cluster 2</td>\n",
       "    </tr>\n",
       "    <tr>\n",
       "      <th>2</th>\n",
       "      <td>62</td>\n",
       "      <td>74751</td>\n",
       "      <td>0.702657</td>\n",
       "      <td>9258.992965</td>\n",
       "      <td>Cluster 2</td>\n",
       "    </tr>\n",
       "    <tr>\n",
       "      <th>3</th>\n",
       "      <td>59</td>\n",
       "      <td>74373</td>\n",
       "      <td>0.765680</td>\n",
       "      <td>7346.334504</td>\n",
       "      <td>Cluster 2</td>\n",
       "    </tr>\n",
       "    <tr>\n",
       "      <th>4</th>\n",
       "      <td>87</td>\n",
       "      <td>17760</td>\n",
       "      <td>0.348778</td>\n",
       "      <td>16869.507130</td>\n",
       "      <td>Cluster 1</td>\n",
       "    </tr>\n",
       "    <tr>\n",
       "      <th>...</th>\n",
       "      <td>...</td>\n",
       "      <td>...</td>\n",
       "      <td>...</td>\n",
       "      <td>...</td>\n",
       "      <td>...</td>\n",
       "    </tr>\n",
       "    <tr>\n",
       "      <th>500</th>\n",
       "      <td>28</td>\n",
       "      <td>101206</td>\n",
       "      <td>0.387441</td>\n",
       "      <td>14936.775389</td>\n",
       "      <td>Cluster 0</td>\n",
       "    </tr>\n",
       "    <tr>\n",
       "      <th>501</th>\n",
       "      <td>93</td>\n",
       "      <td>19934</td>\n",
       "      <td>0.203140</td>\n",
       "      <td>17969.693769</td>\n",
       "      <td>Cluster 1</td>\n",
       "    </tr>\n",
       "    <tr>\n",
       "      <th>502</th>\n",
       "      <td>90</td>\n",
       "      <td>35297</td>\n",
       "      <td>0.355149</td>\n",
       "      <td>16091.401954</td>\n",
       "      <td>Cluster 1</td>\n",
       "    </tr>\n",
       "    <tr>\n",
       "      <th>503</th>\n",
       "      <td>91</td>\n",
       "      <td>20681</td>\n",
       "      <td>0.354679</td>\n",
       "      <td>18401.088445</td>\n",
       "      <td>Cluster 1</td>\n",
       "    </tr>\n",
       "    <tr>\n",
       "      <th>504</th>\n",
       "      <td>89</td>\n",
       "      <td>30267</td>\n",
       "      <td>0.289310</td>\n",
       "      <td>14386.351880</td>\n",
       "      <td>Cluster 1</td>\n",
       "    </tr>\n",
       "  </tbody>\n",
       "</table>\n",
       "<p>505 rows × 5 columns</p>\n",
       "</div>"
      ],
      "text/plain": [
       "     Age  Income  SpendingScore       Savings    Cluster\n",
       "0     58   77769       0.791329   6559.829923  Cluster 2\n",
       "1     59   81799       0.791082   5417.661426  Cluster 2\n",
       "2     62   74751       0.702657   9258.992965  Cluster 2\n",
       "3     59   74373       0.765680   7346.334504  Cluster 2\n",
       "4     87   17760       0.348778  16869.507130  Cluster 1\n",
       "..   ...     ...            ...           ...        ...\n",
       "500   28  101206       0.387441  14936.775389  Cluster 0\n",
       "501   93   19934       0.203140  17969.693769  Cluster 1\n",
       "502   90   35297       0.355149  16091.401954  Cluster 1\n",
       "503   91   20681       0.354679  18401.088445  Cluster 1\n",
       "504   89   30267       0.289310  14386.351880  Cluster 1\n",
       "\n",
       "[505 rows x 5 columns]"
      ]
     },
     "execution_count": 14,
     "metadata": {},
     "output_type": "execute_result"
    }
   ],
   "source": [
    "assign_model(hclust)"
   ]
  },
  {
   "cell_type": "code",
   "execution_count": 16,
   "metadata": {},
   "outputs": [
    {
     "data": {
      "text/html": [
       "<div>\n",
       "<style scoped>\n",
       "    .dataframe tbody tr th:only-of-type {\n",
       "        vertical-align: middle;\n",
       "    }\n",
       "\n",
       "    .dataframe tbody tr th {\n",
       "        vertical-align: top;\n",
       "    }\n",
       "\n",
       "    .dataframe thead th {\n",
       "        text-align: right;\n",
       "    }\n",
       "</style>\n",
       "<table border=\"1\" class=\"dataframe\">\n",
       "  <thead>\n",
       "    <tr style=\"text-align: right;\">\n",
       "      <th></th>\n",
       "      <th>Age</th>\n",
       "      <th>Income</th>\n",
       "      <th>SpendingScore</th>\n",
       "      <th>Savings</th>\n",
       "      <th>Cluster</th>\n",
       "    </tr>\n",
       "  </thead>\n",
       "  <tbody>\n",
       "    <tr>\n",
       "      <th>0</th>\n",
       "      <td>58</td>\n",
       "      <td>77769</td>\n",
       "      <td>0.791329</td>\n",
       "      <td>6559.829923</td>\n",
       "      <td>Cluster 0</td>\n",
       "    </tr>\n",
       "    <tr>\n",
       "      <th>1</th>\n",
       "      <td>59</td>\n",
       "      <td>81799</td>\n",
       "      <td>0.791082</td>\n",
       "      <td>5417.661426</td>\n",
       "      <td>Cluster 0</td>\n",
       "    </tr>\n",
       "    <tr>\n",
       "      <th>2</th>\n",
       "      <td>62</td>\n",
       "      <td>74751</td>\n",
       "      <td>0.702657</td>\n",
       "      <td>9258.992965</td>\n",
       "      <td>Cluster 0</td>\n",
       "    </tr>\n",
       "    <tr>\n",
       "      <th>3</th>\n",
       "      <td>59</td>\n",
       "      <td>74373</td>\n",
       "      <td>0.765680</td>\n",
       "      <td>7346.334504</td>\n",
       "      <td>Cluster 0</td>\n",
       "    </tr>\n",
       "    <tr>\n",
       "      <th>4</th>\n",
       "      <td>87</td>\n",
       "      <td>17760</td>\n",
       "      <td>0.348778</td>\n",
       "      <td>16869.507130</td>\n",
       "      <td>Cluster 0</td>\n",
       "    </tr>\n",
       "    <tr>\n",
       "      <th>...</th>\n",
       "      <td>...</td>\n",
       "      <td>...</td>\n",
       "      <td>...</td>\n",
       "      <td>...</td>\n",
       "      <td>...</td>\n",
       "    </tr>\n",
       "    <tr>\n",
       "      <th>500</th>\n",
       "      <td>28</td>\n",
       "      <td>101206</td>\n",
       "      <td>0.387441</td>\n",
       "      <td>14936.775389</td>\n",
       "      <td>Cluster 0</td>\n",
       "    </tr>\n",
       "    <tr>\n",
       "      <th>501</th>\n",
       "      <td>93</td>\n",
       "      <td>19934</td>\n",
       "      <td>0.203140</td>\n",
       "      <td>17969.693769</td>\n",
       "      <td>Cluster 0</td>\n",
       "    </tr>\n",
       "    <tr>\n",
       "      <th>502</th>\n",
       "      <td>90</td>\n",
       "      <td>35297</td>\n",
       "      <td>0.355149</td>\n",
       "      <td>16091.401954</td>\n",
       "      <td>Cluster 0</td>\n",
       "    </tr>\n",
       "    <tr>\n",
       "      <th>503</th>\n",
       "      <td>91</td>\n",
       "      <td>20681</td>\n",
       "      <td>0.354679</td>\n",
       "      <td>18401.088445</td>\n",
       "      <td>Cluster 0</td>\n",
       "    </tr>\n",
       "    <tr>\n",
       "      <th>504</th>\n",
       "      <td>89</td>\n",
       "      <td>30267</td>\n",
       "      <td>0.289310</td>\n",
       "      <td>14386.351880</td>\n",
       "      <td>Cluster 0</td>\n",
       "    </tr>\n",
       "  </tbody>\n",
       "</table>\n",
       "<p>505 rows × 5 columns</p>\n",
       "</div>"
      ],
      "text/plain": [
       "     Age  Income  SpendingScore       Savings    Cluster\n",
       "0     58   77769       0.791329   6559.829923  Cluster 0\n",
       "1     59   81799       0.791082   5417.661426  Cluster 0\n",
       "2     62   74751       0.702657   9258.992965  Cluster 0\n",
       "3     59   74373       0.765680   7346.334504  Cluster 0\n",
       "4     87   17760       0.348778  16869.507130  Cluster 0\n",
       "..   ...     ...            ...           ...        ...\n",
       "500   28  101206       0.387441  14936.775389  Cluster 0\n",
       "501   93   19934       0.203140  17969.693769  Cluster 0\n",
       "502   90   35297       0.355149  16091.401954  Cluster 0\n",
       "503   91   20681       0.354679  18401.088445  Cluster 0\n",
       "504   89   30267       0.289310  14386.351880  Cluster 0\n",
       "\n",
       "[505 rows x 5 columns]"
      ]
     },
     "execution_count": 16,
     "metadata": {},
     "output_type": "execute_result"
    }
   ],
   "source": [
    "assign_model(birch)"
   ]
  },
  {
   "cell_type": "code",
   "execution_count": 17,
   "metadata": {},
   "outputs": [
    {
     "data": {
      "text/html": [
       "<div>\n",
       "<style scoped>\n",
       "    .dataframe tbody tr th:only-of-type {\n",
       "        vertical-align: middle;\n",
       "    }\n",
       "\n",
       "    .dataframe tbody tr th {\n",
       "        vertical-align: top;\n",
       "    }\n",
       "\n",
       "    .dataframe thead th {\n",
       "        text-align: right;\n",
       "    }\n",
       "</style>\n",
       "<table border=\"1\" class=\"dataframe\">\n",
       "  <thead>\n",
       "    <tr style=\"text-align: right;\">\n",
       "      <th></th>\n",
       "      <th>Age</th>\n",
       "      <th>Income</th>\n",
       "      <th>SpendingScore</th>\n",
       "      <th>Savings</th>\n",
       "      <th>Cluster</th>\n",
       "    </tr>\n",
       "  </thead>\n",
       "  <tbody>\n",
       "    <tr>\n",
       "      <th>0</th>\n",
       "      <td>58</td>\n",
       "      <td>77769</td>\n",
       "      <td>0.791329</td>\n",
       "      <td>6559.829923</td>\n",
       "      <td>Cluster 0</td>\n",
       "    </tr>\n",
       "    <tr>\n",
       "      <th>1</th>\n",
       "      <td>59</td>\n",
       "      <td>81799</td>\n",
       "      <td>0.791082</td>\n",
       "      <td>5417.661426</td>\n",
       "      <td>Cluster 0</td>\n",
       "    </tr>\n",
       "    <tr>\n",
       "      <th>2</th>\n",
       "      <td>62</td>\n",
       "      <td>74751</td>\n",
       "      <td>0.702657</td>\n",
       "      <td>9258.992965</td>\n",
       "      <td>Cluster 0</td>\n",
       "    </tr>\n",
       "    <tr>\n",
       "      <th>3</th>\n",
       "      <td>59</td>\n",
       "      <td>74373</td>\n",
       "      <td>0.765680</td>\n",
       "      <td>7346.334504</td>\n",
       "      <td>Cluster 0</td>\n",
       "    </tr>\n",
       "    <tr>\n",
       "      <th>4</th>\n",
       "      <td>87</td>\n",
       "      <td>17760</td>\n",
       "      <td>0.348778</td>\n",
       "      <td>16869.507130</td>\n",
       "      <td>Cluster 1</td>\n",
       "    </tr>\n",
       "    <tr>\n",
       "      <th>...</th>\n",
       "      <td>...</td>\n",
       "      <td>...</td>\n",
       "      <td>...</td>\n",
       "      <td>...</td>\n",
       "      <td>...</td>\n",
       "    </tr>\n",
       "    <tr>\n",
       "      <th>500</th>\n",
       "      <td>28</td>\n",
       "      <td>101206</td>\n",
       "      <td>0.387441</td>\n",
       "      <td>14936.775389</td>\n",
       "      <td>Cluster 0</td>\n",
       "    </tr>\n",
       "    <tr>\n",
       "      <th>501</th>\n",
       "      <td>93</td>\n",
       "      <td>19934</td>\n",
       "      <td>0.203140</td>\n",
       "      <td>17969.693769</td>\n",
       "      <td>Cluster 1</td>\n",
       "    </tr>\n",
       "    <tr>\n",
       "      <th>502</th>\n",
       "      <td>90</td>\n",
       "      <td>35297</td>\n",
       "      <td>0.355149</td>\n",
       "      <td>16091.401954</td>\n",
       "      <td>Cluster 1</td>\n",
       "    </tr>\n",
       "    <tr>\n",
       "      <th>503</th>\n",
       "      <td>91</td>\n",
       "      <td>20681</td>\n",
       "      <td>0.354679</td>\n",
       "      <td>18401.088445</td>\n",
       "      <td>Cluster 1</td>\n",
       "    </tr>\n",
       "    <tr>\n",
       "      <th>504</th>\n",
       "      <td>89</td>\n",
       "      <td>30267</td>\n",
       "      <td>0.289310</td>\n",
       "      <td>14386.351880</td>\n",
       "      <td>Cluster 1</td>\n",
       "    </tr>\n",
       "  </tbody>\n",
       "</table>\n",
       "<p>505 rows × 5 columns</p>\n",
       "</div>"
      ],
      "text/plain": [
       "     Age  Income  SpendingScore       Savings    Cluster\n",
       "0     58   77769       0.791329   6559.829923  Cluster 0\n",
       "1     59   81799       0.791082   5417.661426  Cluster 0\n",
       "2     62   74751       0.702657   9258.992965  Cluster 0\n",
       "3     59   74373       0.765680   7346.334504  Cluster 0\n",
       "4     87   17760       0.348778  16869.507130  Cluster 1\n",
       "..   ...     ...            ...           ...        ...\n",
       "500   28  101206       0.387441  14936.775389  Cluster 0\n",
       "501   93   19934       0.203140  17969.693769  Cluster 1\n",
       "502   90   35297       0.355149  16091.401954  Cluster 1\n",
       "503   91   20681       0.354679  18401.088445  Cluster 1\n",
       "504   89   30267       0.289310  14386.351880  Cluster 1\n",
       "\n",
       "[505 rows x 5 columns]"
      ]
     },
     "execution_count": 17,
     "metadata": {},
     "output_type": "execute_result"
    }
   ],
   "source": [
    "assign_model(dbscan)"
   ]
  },
  {
   "cell_type": "markdown",
   "metadata": {},
   "source": [
    "## Plot Model"
   ]
  },
  {
   "cell_type": "code",
   "execution_count": 18,
   "metadata": {},
   "outputs": [
    {
     "data": {
      "text/html": [
       "        <script type=\"text/javascript\">\n",
       "        window.PlotlyConfig = {MathJaxConfig: 'local'};\n",
       "        if (window.MathJax) {MathJax.Hub.Config({SVG: {font: \"STIX-Web\"}});}\n",
       "        if (typeof require !== 'undefined') {\n",
       "        require.undef(\"plotly\");\n",
       "        requirejs.config({\n",
       "            paths: {\n",
       "                'plotly': ['https://cdn.plot.ly/plotly-latest.min']\n",
       "            }\n",
       "        });\n",
       "        require(['plotly'], function(Plotly) {\n",
       "            window._Plotly = Plotly;\n",
       "        });\n",
       "        }\n",
       "        </script>\n",
       "        "
      ]
     },
     "metadata": {},
     "output_type": "display_data"
    },
    {
     "data": {
      "application/vnd.plotly.v1+json": {
       "config": {
        "plotlyServerURL": "https://plot.ly"
       },
       "data": [
        {
         "hoverlabel": {
          "namelength": 0
         },
         "hovertemplate": "Cluster=Cluster 0<br>PCA1=%{x}<br>PCA2=%{y}",
         "legendgroup": "Cluster=Cluster 0",
         "marker": {
          "color": "#636efa",
          "opacity": 0.5,
          "symbol": "circle"
         },
         "mode": "markers",
         "name": "Cluster=Cluster 0",
         "showlegend": true,
         "textposition": "top center",
         "type": "scatter",
         "x": [
          -45316.58140609552,
          -47129.844163420574,
          -47975.629894303645,
          -57176.86780610599,
          -47490.053373637034,
          -55300.43835611643,
          -43231.47790879875,
          -45592.662714596416,
          -55368.98427568005,
          -48469.75822555573,
          -51191.18311026792,
          -42594.24300193294,
          -41047.376366850265,
          -48754.55322293141,
          -49610.675010159655,
          -28705.212826769788,
          -47927.75615335322,
          -49952.56386424751,
          -42194.79873495238,
          -56491.72616160139,
          -47211.30921897935,
          -42432.64509966223,
          -49427.52413702609,
          -42805.174693662244,
          -44680.8935093192,
          -43219.57063079793,
          -42382.69883203616,
          -40276.44813108953,
          -44316.39097613647,
          -46294.696525815045,
          -49640.51633393586,
          -33685.82303783498,
          -41654.28537091668,
          -46752.171891149046,
          -51240.79467490205,
          -47339.94733410822,
          -39708.646989663444,
          -41090.432711623616,
          -60035.355735186255,
          -45489.12002421859,
          -47271.41327624208,
          -59885.183450800825,
          -54957.49098917229,
          -44945.69901444296,
          -51335.696362197974,
          -47148.04950665256,
          -58306.89374121128,
          -40907.251477988044,
          -53680.72058527785,
          -51006.62596717175,
          -37510.58801132114,
          -46897.2872048418,
          -37730.76934060816,
          -28723.99191956599,
          -48890.16204283161,
          -56854.24491468404,
          -46206.76070917283,
          -44821.271955370896,
          -56178.67327005172,
          -49206.07297923617,
          -54413.15855352469,
          -53514.36608306818,
          -39063.28667619087,
          -63656.34758998007,
          -40724.15688509661,
          -63634.7220027395,
          -43811.47262039384,
          -45504.92821664381,
          -56820.0875536042,
          -42172.0914237281,
          -48762.36466827115,
          -58127.50387026996,
          -42253.872877958194,
          -50504.82314273767,
          -45508.35388587763,
          -43012.76978349137,
          -57495.82751822275,
          -36822.882729901045,
          -39882.02333138299,
          -50446.68725850554,
          -50055.78756429352,
          -48329.37521986339,
          -48254.006229924846,
          -47000.171708792855,
          -48496.847924973,
          -53103.847912897276,
          -41272.895339861774,
          -46522.91941975114,
          -55116.83601816832,
          -51459.51350546337,
          -39916.59061152686,
          -48448.18982139336,
          -46108.564418073074,
          -57750.757746123854,
          -49274.442396159255,
          -53484.99044797614,
          -45148.06214608786,
          -50029.04867348438,
          -48459.57885316462,
          -58771.33010043613,
          -46888.40589877372,
          -53329.08890863789,
          -46621.675189920825,
          -52745.27199507378,
          -51858.952852259696,
          -45889.161245283896,
          -44207.36919669001,
          -51590.97205811297,
          -42152.502819378715,
          -55003.11473536289,
          -45243.33599570976,
          -42334.0476715063,
          -49618.56425158385,
          -39730.75492373195,
          -52957.616291780934,
          -51304.420791210156,
          -41183.652071657074,
          -39255.47386551343,
          -38257.012522678655,
          -48031.6003386983,
          -38870.67264138031,
          -48338.70466261928,
          -56895.33602609459,
          -53120.54070874577,
          -47591.22511121996,
          -52877.38164603332,
          -57888.98693798612,
          -49855.36023906113,
          -52219.788910263196,
          -47072.832708278765,
          -47366.64939309709,
          -52508.303533435675,
          -52350.13688160762,
          -53905.33080870664,
          -49083.98904448343,
          -45053.50115134013,
          -42546.3092870338,
          -42485.19893050835,
          -57945.29400939375,
          -44891.726940178116,
          -48867.3342241247,
          -41229.085326467866,
          -55837.896212559026,
          -33223.78792758687,
          -40392.52353813572,
          -57516.27318363637,
          -48086.47161506776
         ],
         "xaxis": "x",
         "y": [
          72.34189620852624,
          -2166.9455265130223,
          -2697.480649636869,
          -500.38222602903477,
          -1025.6556377131567,
          -2379.445392952533,
          -2464.366506729345,
          -1858.7415428672732,
          -990.6075970316527,
          -975.0110199269357,
          -2999.0481368530036,
          -4573.135949676127,
          163.00860194240713,
          -3476.7575329414044,
          -2494.346015854766,
          -2125.5165732968303,
          1139.0677249894088,
          -1016.3628176053345,
          -2831.244972649774,
          -1529.9495201383816,
          -497.0287321468139,
          -2804.3175987818145,
          -3282.4967836895144,
          -2383.923586492432,
          -3320.238109106739,
          -982.6374045457419,
          -1026.2178281219403,
          -3159.4030652887363,
          -1681.1078093986143,
          -3445.1407626668733,
          -2403.4526565005253,
          -2359.981060852435,
          -1284.2763352325999,
          -4260.667936777421,
          -337.5831102994572,
          -2756.2104567652127,
          -2812.6408322745237,
          -2507.468037848856,
          -2067.785202202856,
          -857.2365574199105,
          -1422.2632521531443,
          968.1821841701752,
          -1273.034090967153,
          -2663.4363034143566,
          -2253.324954790312,
          -948.1700320034128,
          -1498.3070625903995,
          -2247.7230980697573,
          -1523.1531827794747,
          1229.6342021038004,
          -2385.9306735999694,
          -1500.5997535503448,
          -3447.522865699349,
          -1283.2493416842178,
          -3117.043572435122,
          -1039.8869670204488,
          -3972.437291114196,
          -809.247850406612,
          -1450.731868886661,
          646.5438723752047,
          -1055.9968931753679,
          -3511.650542757556,
          -2178.9512608782643,
          -672.1303645870984,
          -3403.3549980948765,
          -958.5365645110759,
          -3844.050642994281,
          -1656.4250558163028,
          -2626.4947601230388,
          -3482.9509244203123,
          -1902.3037525718105,
          -3329.4241557503874,
          -2813.4088657560997,
          -2541.1040744024194,
          -1716.0957515179923,
          -2388.397515567184,
          -874.5938320396226,
          -3004.135925035729,
          -3145.8388116696283,
          -1789.8310613735036,
          -458.73293797346827,
          -2106.9565485318553,
          -3586.3929123393596,
          -3258.592731249427,
          -1255.023121717518,
          -1838.6646455566577,
          -2039.051945091476,
          -2395.1506203279073,
          -3386.631387427834,
          -1443.631221061166,
          -5860.406970913427,
          -424.49445160246927,
          -4704.900718140074,
          -1546.786022798463,
          -1819.1411133435652,
          -2964.871161538942,
          -918.4435413744566,
          -2907.798180135489,
          -623.0248233972336,
          -1946.4256348815313,
          -1747.2845158743733,
          -3704.11520306688,
          -1061.3928297006266,
          -3270.250012030124,
          -1998.3145148841243,
          -3656.8600405231186,
          -1788.595019255137,
          -1709.6809922654013,
          -3595.426499455152,
          -1806.3716349634742,
          -2386.7446703879677,
          -946.4427010468263,
          -1200.4987085746995,
          -3215.311753103615,
          -512.1681616652344,
          -1341.6421504993355,
          -2299.1775764582503,
          -2456.0624695072033,
          -3209.7056998551193,
          -2520.8796709258963,
          -4966.632983631625,
          -296.94791022013453,
          -219.83567344031968,
          -2373.9068521136132,
          -2876.0168218541594,
          -1034.0462861180677,
          -2297.410428456013,
          -2551.640945867298,
          -361.82287722905915,
          -3652.1430220775023,
          -2226.5238835946816,
          -2003.3795586148929,
          -1271.836696800181,
          776.7213551828809,
          -2706.9542458595392,
          -3267.8530880659646,
          -2323.9550250667403,
          -1573.129333946467,
          -1690.2235244245383,
          -1059.509970558915,
          -3330.0950893142603,
          -559.8887343311554,
          -2913.1513261933897,
          -4327.599800404024,
          -1918.0706539765338,
          -2662.237917413056,
          -3267.664533478742
         ],
         "yaxis": "y"
        },
        {
         "hoverlabel": {
          "namelength": 0
         },
         "hovertemplate": "Cluster=Cluster 1<br>PCA1=%{x}<br>PCA2=%{y}",
         "legendgroup": "Cluster=Cluster 1",
         "marker": {
          "color": "#EF553B",
          "opacity": 0.5,
          "symbol": "circle"
         },
         "mode": "markers",
         "name": "Cluster=Cluster 1",
         "showlegend": true,
         "textposition": "top center",
         "type": "scatter",
         "x": [
          35572.71538685353,
          30155.334159636957,
          25328.06996228165,
          31045.22025567876,
          27758.387575808185,
          22350.769816321543,
          43600.216180309726,
          34834.901794659934,
          42157.805428700936,
          24491.38889864471,
          37228.73474520065,
          18943.372817813015,
          39135.37622313003,
          20592.34661300775,
          37939.7170089123,
          23470.847033328,
          42045.79570257135,
          43629.01273923749,
          30806.77634195276,
          31361.085267799117,
          32572.750272366167,
          35758.275435536656,
          25732.344972190545,
          24706.128352845135,
          32289.540207166618,
          41859.15436997554,
          32561.025360063268,
          32912.89206331581,
          40419.576695104115,
          30949.636901997914,
          38847.16976776075,
          43084.431301068325,
          24294.808478346316,
          19295.26768680955,
          29861.54666962142,
          33379.42058468906,
          23967.006087975602,
          24613.751980326095,
          35579.205815806265,
          21973.30795044381,
          34815.25492053802,
          32210.979768642374,
          38869.649452671656,
          22224.556143435268,
          40673.859644327415,
          23032.68012465125,
          31253.468530449394,
          25474.40276379727,
          14006.000965365392,
          42414.139844093894,
          32307.936729140907,
          41298.63129283503,
          21900.78530003274,
          25938.050496756223,
          43861.74709102545,
          22105.034591078234,
          48410.00929047225,
          30148.682673916057,
          15764.49143141582,
          41580.27174463817,
          46993.641087908334,
          25376.693266073136,
          35036.71585548718,
          44952.90203538889,
          30584.12461511322,
          32797.64366935491,
          22393.41773018011,
          37194.902279074166,
          31911.00123936631,
          47182.06858155575,
          26298.148410246697,
          52844.21454083208,
          44074.74432267945,
          32416.939873895517,
          30046.489080926036,
          31960.75451420723,
          36813.767134203925,
          28639.385002450465,
          23748.677815454033,
          30268.70548126327,
          32322.90855312244,
          19017.16946491749,
          23858.598240023406,
          22258.60866856988,
          32149.921292682848,
          36008.72535912228,
          45920.30384600755,
          39513.27355543237,
          26312.372968927506,
          47964.55226138687,
          31614.442565419064,
          33203.842568887994,
          31317.29806455368,
          28960.63496494675,
          40849.4805976906,
          38543.62512292864,
          24819.360949497725,
          31202.412682476046,
          31330.34398452475,
          34360.481807350545,
          20486.140695945443,
          32691.8695616857,
          48577.24594456363,
          28627.25985640028,
          26343.67867390244,
          52679.137422450534,
          32345.70842870056,
          28912.895136199917,
          31502.360342968197,
          34060.87750047381,
          36260.39985707385,
          24827.978780545956,
          39941.23737509606,
          30614.16577855354,
          50874.59373315181,
          35187.910534684626,
          50433.8513845333,
          29210.55694643967,
          39399.401381811454,
          34753.14848573077,
          27412.691405421207,
          34830.86603735355,
          31016.952770667845,
          23392.942046850574,
          35023.21627080026,
          30950.101839682367,
          29240.50974864807,
          32853.06228369523,
          23022.218263126633,
          25765.790042328343,
          26228.376286436174,
          26983.04636427817,
          33345.15627123116,
          23196.213306438214,
          30836.978307627414,
          25363.919226720394,
          26003.522431925594,
          38938.11813871431,
          27456.91326667308,
          41328.25266330995,
          26507.042872359885,
          26071.98118135922,
          26023.56635140614,
          19785.994393274657,
          33217.92661094806,
          22236.169474372262,
          26578.153196266154,
          16918.676201100112,
          35711.07999432942,
          23896.368807904062,
          28681.549887585727
         ],
         "xaxis": "x",
         "y": [
          -4807.665202226772,
          -6491.845916302059,
          -4507.818852759069,
          -4354.880673536973,
          -3524.601882041492,
          -5405.192380070507,
          -5657.478831520004,
          -5079.54093073174,
          -5954.454601851139,
          -3378.5440905478667,
          -4575.537648425249,
          -6099.926511675157,
          -4339.707016425752,
          -4611.587648361569,
          -4683.440281859747,
          -4720.248925408385,
          -3106.1034758683545,
          -6254.840941209119,
          -5560.204679599998,
          -4837.5896046077505,
          -6711.005814772022,
          -4122.472097486009,
          -4846.280009746115,
          -6304.28687157794,
          -3634.3413606407366,
          -4543.326267067191,
          -5658.529147335394,
          -4588.664684244308,
          -6642.233640263945,
          -4397.197322284789,
          -8209.639308093867,
          -4660.855622444503,
          -3156.174867738149,
          -3266.6501002799114,
          -4210.4917427973205,
          -4139.053044046936,
          -5918.696393593374,
          -3288.4642893518317,
          -6195.2565154027225,
          -5227.972306159946,
          -5108.2816705717105,
          -5806.362366658895,
          -4117.836047019009,
          -5737.014216399168,
          -5771.827716588525,
          -5461.17904452095,
          -4792.820172444659,
          -4541.161711915863,
          -1775.6050399833507,
          -5432.281819509639,
          -3401.0815217687755,
          -6422.065006311347,
          -5234.9144354362425,
          -4054.2528418970824,
          -6877.035883382061,
          -4346.187741550606,
          -5693.665441157445,
          -3727.641222685243,
          -2149.152212076622,
          -5615.560772408635,
          -4647.1290885886465,
          -3922.329207394539,
          -6415.699536226245,
          -4985.514801220391,
          -5198.651743783718,
          -5654.5468483893155,
          -5150.74692828821,
          -4030.486076235748,
          -2672.911296966151,
          -4557.716601791871,
          -5023.03875519227,
          -5677.667475551906,
          -6307.669140625973,
          -3316.8737845198484,
          -2733.109485171262,
          -7950.137679904536,
          -4615.462129870625,
          -3130.9505393461,
          -4085.3878885407757,
          -4917.675594824383,
          -3681.2903856818,
          -4587.056600403994,
          -4857.997302514549,
          -5195.925409188552,
          -5508.945169399091,
          -6111.705171395255,
          -4953.921129423357,
          -4805.682520520933,
          -4286.40536028733,
          -4397.186114919674,
          -3948.413153701504,
          -6552.893169384938,
          -6141.76326355349,
          -5439.902381792005,
          -5591.430862352505,
          -7198.0637530044305,
          -6443.116567478196,
          -4006.88078240412,
          -5635.163544619182,
          -5038.816440742174,
          -4804.2037003567975,
          -6066.457122934571,
          -6305.307759672725,
          -3324.8164217780127,
          -3863.006874934304,
          -4749.0570257153595,
          -2201.7204362153525,
          -5224.554435670839,
          -5081.205331963818,
          -5075.678351149001,
          -3890.344796261252,
          -5088.608312301605,
          -5237.495032300998,
          -4762.434912619334,
          -5178.052813440067,
          -4164.858385743969,
          -6854.206134077951,
          -6286.3569089641005,
          -5202.090344164463,
          -4008.5890127538974,
          -5970.6596058177765,
          -5377.229021116211,
          -4865.004407317277,
          -5117.926369906288,
          -4416.577273256113,
          -6274.399407676455,
          -5240.709879901136,
          -5910.5957245401,
          -4439.12285942063,
          -4647.515091833698,
          -4266.4841646877985,
          -2897.418110778118,
          -6080.299826048198,
          -5613.714946473867,
          -4248.4109987799275,
          -6518.877743618619,
          -3786.133642471527,
          -4443.169815276384,
          -4868.312164441823,
          -4823.645899335594,
          -5484.674656121093,
          -4687.764619495444,
          -7172.334785619932,
          -4699.391527469762,
          -4387.404636496322,
          -4400.04233100077,
          -4542.181472406765,
          -2877.194607876875,
          -4543.481105344731,
          -4653.572550884039,
          -4194.112454577067
         ],
         "yaxis": "y"
        },
        {
         "hoverlabel": {
          "namelength": 0
         },
         "hovertemplate": "Cluster=Cluster 2<br>PCA1=%{x}<br>PCA2=%{y}",
         "legendgroup": "Cluster=Cluster 2",
         "marker": {
          "color": "#00cc96",
          "opacity": 0.5,
          "symbol": "circle"
         },
         "mode": "markers",
         "name": "Cluster=Cluster 2",
         "showlegend": true,
         "textposition": "top center",
         "type": "scatter",
         "x": [
          -811.2733012583036,
          -7981.746810683427,
          7034.5669918468675,
          -9270.983246113963,
          2868.6753358918063,
          -6586.375015596336,
          -7827.50439260574,
          -1864.5940590614443,
          -7225.656651496547,
          -9176.939917160438,
          -12402.614006035725,
          3574.867628285125,
          -1755.3663563989887,
          -4588.845682887322,
          -4114.66581250266,
          -5787.584457334282,
          -1424.296852785251,
          -4661.643199436441,
          -4794.730185972456,
          -1709.0067116984342,
          4615.6045897838885,
          15177.319714667667,
          5679.935032255551,
          -5149.414552966307,
          -7431.169946592941,
          -11770.09622190468,
          1855.0479869186793,
          -6075.7239459118655,
          1547.912439559423,
          -805.5182840466944,
          -7793.211508914153,
          3607.6218475354412,
          -3147.9716901023976,
          5122.282562298911,
          -3127.746475407182,
          -3197.770674931706,
          7017.407229806939,
          -4883.720561797805,
          4968.764645874565,
          -10419.650727093263,
          -6214.354917756371,
          3333.0370081988895,
          -6270.130057704634,
          -967.1345292294826,
          -9823.292971418645,
          2555.784235160243,
          -6529.597912750251,
          4848.442764387972,
          -5327.512619806878,
          -1710.009100629776,
          -2630.794135208179,
          1381.2925438038922,
          -10238.837928743025,
          -2329.616759752767,
          -3536.624899618861,
          -11570.01362947228,
          -12594.175242128516,
          -3881.2792235448255,
          -9447.56695701965,
          -4595.725467462921,
          -4972.922141129962,
          5567.478117111797,
          499.49661809613417,
          -4176.722631704308,
          -7423.928769536224,
          -9153.99210091783,
          4864.683651412989,
          -7249.028129796921,
          7325.256189492681,
          1198.2155272857194,
          -6945.490220855894,
          -5628.983771409202,
          -6874.447300583772,
          3175.730100887676,
          -10072.875118803526,
          9121.208329826166,
          10499.407295945566,
          11129.424149229597,
          -4333.353171495312,
          6644.597612798221,
          -611.8920766835445,
          -879.6961231840185,
          1270.5926186365093,
          -3354.4093954920463,
          -3652.051627219515,
          1535.3200349238598,
          3442.067865401043,
          1691.1469990054993,
          -9514.742122293756,
          -5495.93003066568,
          -11393.264281389027,
          -1006.7942808926969,
          -11385.80729775087,
          -5228.773548143092,
          106.44730782999628,
          -2009.708614175169,
          -847.3002227743389,
          -13124.39160403839,
          -6112.701966838931,
          -14757.626854505594,
          -5414.451723823091,
          -4197.995995572502,
          -907.6690876091177,
          4241.775895153041,
          -2601.8696283459435,
          1797.8692846207518,
          -860.4354477953774,
          13091.374153516663,
          -5806.077052611813,
          11039.026942031693,
          -1148.5927138363152,
          -5506.504775277297,
          -7927.279393999552,
          -9600.009525716885,
          -10817.514881421725,
          -182.8750970628986,
          -12401.012614422616,
          -1867.501195205511,
          384.4886537787821,
          -15876.014194933854,
          3735.2223001205402,
          2392.951400013225,
          -3222.028497117642,
          -18832.323089995076,
          -4856.1602776190775,
          -9604.976101231387,
          375.61202524741293,
          834.6063416853503,
          -3578.6411667637294,
          3594.0424216908245,
          -5713.304475031712,
          -7793.45435208652,
          1223.3332842063523,
          -4025.5345868614927,
          2663.8141427242563,
          1380.9095854822572,
          -5414.849621380288,
          -10371.487057071705,
          3385.822049131316,
          -8175.9447838416445,
          -2220.635450610062,
          -3902.650760127404,
          -4335.121223668239,
          -284.93461613174975,
          5073.487356522338,
          2456.114942910878,
          8122.080380415532,
          871.0561448640428,
          277.3194547180353,
          -7740.90487908971,
          5619.1255387636165,
          -18377.080919160875,
          -6051.798027149633,
          -15159.901916245657,
          -5898.7444796811415,
          -9955.599000501958,
          -1254.796105082279
         ],
         "xaxis": "x",
         "y": [
          4771.515153180692,
          3467.565974911419,
          3374.2871342934277,
          5996.549152653392,
          5223.6423303903575,
          4795.659622307598,
          5701.697575023512,
          5267.352553209776,
          4564.617621855316,
          7146.662858252777,
          4277.420432790431,
          6638.189488143045,
          4273.2053018476345,
          4468.268102563843,
          3078.8964384945925,
          5711.628393266968,
          7267.328542397005,
          4875.41203439204,
          5174.470545977293,
          3684.6952959403584,
          5713.442041909502,
          4253.670268811264,
          4711.285967238693,
          5556.666139133818,
          6342.036901878027,
          5001.42078319685,
          5468.743274286696,
          3500.5964543132536,
          3973.906997486513,
          4348.095679784138,
          6334.243251982047,
          4852.444518767337,
          5506.99662291386,
          3424.073603905289,
          5318.281993622225,
          5127.949261280454,
          5588.800602998204,
          4688.370746949258,
          3943.1170736339127,
          5982.858221439132,
          8154.2005338638055,
          4012.2154933423153,
          5401.821696967168,
          4638.724240674152,
          6862.247572080606,
          5164.690387393549,
          5174.06001607075,
          6716.389270082328,
          5507.674538617934,
          5692.091704359399,
          5512.809888472099,
          5207.221097509009,
          7423.315368546434,
          6502.20788277559,
          5070.413098436325,
          6393.584927460234,
          5058.593507665866,
          3532.750801645637,
          6026.370137728771,
          4575.315245883315,
          5053.974394482307,
          6399.679457928577,
          4450.572465085801,
          5121.948177991019,
          5595.425208078428,
          6237.455006749797,
          4834.953991865887,
          5030.1015099048445,
          5245.750156657963,
          6031.597780098119,
          5240.2836976266035,
          3413.4609900340333,
          3266.470183264379,
          4727.0798130553485,
          7033.83230622547,
          4076.1888638584987,
          4092.5868105824966,
          2451.3956456354927,
          6791.121727987128,
          6074.108821940036,
          2642.85646287331,
          4574.029852480233,
          4918.861099714735,
          4039.0497082186084,
          4298.147934215798,
          6617.143404468856,
          3293.9257098257854,
          4305.605513370139,
          5484.062210130749,
          5033.927181148622,
          4760.726683836119,
          6827.736752280866,
          5239.83448625213,
          4906.8213691170085,
          5019.545071865859,
          4571.311601888514,
          5435.293808150464,
          5122.298575466132,
          7150.265686204209,
          5008.012103778607,
          6401.496850378556,
          4646.423038232094,
          4662.571801362161,
          4854.373611538006,
          5720.063910631848,
          3616.906622264862,
          1366.2175061913908,
          3878.074005604354,
          5686.132349951807,
          4384.687289531572,
          6154.518606181514,
          6298.430178867735,
          5673.527728610802,
          4923.281603355221,
          6677.4821015909365,
          4411.3243537762855,
          6731.622371228141,
          2685.662685436796,
          6845.141814371279,
          7337.462584330767,
          4370.467828822717,
          5992.684094109707,
          4129.181189416356,
          6823.253328040566,
          6861.841710581506,
          5517.45699879979,
          5049.606296947775,
          5141.101367432591,
          4687.331305792245,
          5244.223767536204,
          6098.407171499208,
          5788.853893383747,
          5666.367954752699,
          5644.552199614269,
          3399.1203547303226,
          5567.112673818731,
          4509.37894804773,
          6211.274488459199,
          4513.159427781258,
          5599.274828311292,
          4177.140129281849,
          5499.3393327217655,
          2658.2975188904134,
          4064.0083360808094,
          5244.436809348917,
          5539.978254276126,
          4731.01205876093,
          5689.0004530919105,
          5152.077722121314,
          5133.639471687387,
          4314.803908984969,
          5086.374324713103,
          6221.683453940018,
          5573.2435927687275,
          5205.840154213877,
          4085.3122504461217,
          6380.915494292792
         ],
         "yaxis": "y"
        },
        {
         "hoverlabel": {
          "namelength": 0
         },
         "hovertemplate": "Cluster=Cluster 3<br>PCA1=%{x}<br>PCA2=%{y}",
         "legendgroup": "Cluster=Cluster 3",
         "marker": {
          "color": "#ab63fa",
          "opacity": 0.5,
          "symbol": "circle"
         },
         "mode": "markers",
         "name": "Cluster=Cluster 3",
         "showlegend": true,
         "textposition": "top center",
         "type": "scatter",
         "x": [
          62912.457097805636,
          55587.35173073356,
          46271.74999066808,
          47836.4483918268,
          53899.23405997955,
          58984.55027496723,
          48602.57111184018,
          47842.88367906647,
          59798.17482849969,
          47549.762546227044,
          57857.28905692225,
          56449.678138281364,
          53422.55248570121,
          59803.045579192956,
          41933.876349092076,
          55168.45154506184,
          48697.32854440992,
          48029.23598296087,
          45728.40114434408,
          54542.56026091126,
          50397.083897731325,
          48281.96476402187,
          54230.31142047657,
          47415.3891624053,
          59239.853528398104,
          52086.38065892719,
          46000.80248469952,
          54778.9199096914,
          51532.47005840448,
          52263.49410874443,
          63317.066532442885,
          45302.57090416741,
          56651.455483747435,
          61085.161815426865,
          45280.2964574876,
          55795.997914963926,
          55783.42885801488,
          55809.60825993976,
          47518.881318567896,
          61617.25602185718,
          49923.232402586276,
          52465.03358665987,
          59196.59308633907,
          66750.62108457649,
          53924.59703955873,
          47210.61128412959,
          48551.897791192605,
          51395.22435599946,
          45049.71303774845,
          53976.790002631256
         ],
         "xaxis": "x",
         "y": [
          5261.355213266388,
          3427.13519525881,
          4207.414796612182,
          6059.983323374549,
          3176.7468854090903,
          3350.7116179336463,
          6249.537360930081,
          4758.188729714914,
          4315.751792559066,
          3437.8964823947804,
          5717.501137167641,
          5101.398697367521,
          3894.2354791277485,
          8450.30756249261,
          4717.997205237609,
          4016.9816222016148,
          5282.497809754306,
          5422.323757682562,
          3658.306501252221,
          4193.882999372306,
          2890.5509685647035,
          8499.966944599806,
          3238.428770323685,
          4709.388807631826,
          4745.144589124807,
          3388.427034681375,
          3884.4528513190844,
          4629.791365281097,
          6006.733833662532,
          5916.358054129831,
          4946.1775101205085,
          3778.1814213096072,
          4271.292185091136,
          4243.721728508765,
          4437.356566167739,
          4252.8975407069975,
          4732.087714707707,
          3879.149733262657,
          4941.99936297327,
          6726.313750520613,
          6048.724079227706,
          3371.533065013098,
          3903.9749268153705,
          2693.008186621752,
          5765.842845736464,
          6674.234677495916,
          4668.214697412172,
          5657.241494980816,
          4590.8725834561055,
          5488.389984582106
         ],
         "yaxis": "y"
        }
       ],
       "layout": {
        "height": 600,
        "legend": {
         "tracegroupgap": 0
        },
        "margin": {
         "t": 60
        },
        "plot_bgcolor": "rgb(240,240,240)",
        "template": {
         "data": {
          "bar": [
           {
            "error_x": {
             "color": "#2a3f5f"
            },
            "error_y": {
             "color": "#2a3f5f"
            },
            "marker": {
             "line": {
              "color": "#E5ECF6",
              "width": 0.5
             }
            },
            "type": "bar"
           }
          ],
          "barpolar": [
           {
            "marker": {
             "line": {
              "color": "#E5ECF6",
              "width": 0.5
             }
            },
            "type": "barpolar"
           }
          ],
          "carpet": [
           {
            "aaxis": {
             "endlinecolor": "#2a3f5f",
             "gridcolor": "white",
             "linecolor": "white",
             "minorgridcolor": "white",
             "startlinecolor": "#2a3f5f"
            },
            "baxis": {
             "endlinecolor": "#2a3f5f",
             "gridcolor": "white",
             "linecolor": "white",
             "minorgridcolor": "white",
             "startlinecolor": "#2a3f5f"
            },
            "type": "carpet"
           }
          ],
          "choropleth": [
           {
            "colorbar": {
             "outlinewidth": 0,
             "ticks": ""
            },
            "type": "choropleth"
           }
          ],
          "contour": [
           {
            "colorbar": {
             "outlinewidth": 0,
             "ticks": ""
            },
            "colorscale": [
             [
              0,
              "#0d0887"
             ],
             [
              0.1111111111111111,
              "#46039f"
             ],
             [
              0.2222222222222222,
              "#7201a8"
             ],
             [
              0.3333333333333333,
              "#9c179e"
             ],
             [
              0.4444444444444444,
              "#bd3786"
             ],
             [
              0.5555555555555556,
              "#d8576b"
             ],
             [
              0.6666666666666666,
              "#ed7953"
             ],
             [
              0.7777777777777778,
              "#fb9f3a"
             ],
             [
              0.8888888888888888,
              "#fdca26"
             ],
             [
              1,
              "#f0f921"
             ]
            ],
            "type": "contour"
           }
          ],
          "contourcarpet": [
           {
            "colorbar": {
             "outlinewidth": 0,
             "ticks": ""
            },
            "type": "contourcarpet"
           }
          ],
          "heatmap": [
           {
            "colorbar": {
             "outlinewidth": 0,
             "ticks": ""
            },
            "colorscale": [
             [
              0,
              "#0d0887"
             ],
             [
              0.1111111111111111,
              "#46039f"
             ],
             [
              0.2222222222222222,
              "#7201a8"
             ],
             [
              0.3333333333333333,
              "#9c179e"
             ],
             [
              0.4444444444444444,
              "#bd3786"
             ],
             [
              0.5555555555555556,
              "#d8576b"
             ],
             [
              0.6666666666666666,
              "#ed7953"
             ],
             [
              0.7777777777777778,
              "#fb9f3a"
             ],
             [
              0.8888888888888888,
              "#fdca26"
             ],
             [
              1,
              "#f0f921"
             ]
            ],
            "type": "heatmap"
           }
          ],
          "heatmapgl": [
           {
            "colorbar": {
             "outlinewidth": 0,
             "ticks": ""
            },
            "colorscale": [
             [
              0,
              "#0d0887"
             ],
             [
              0.1111111111111111,
              "#46039f"
             ],
             [
              0.2222222222222222,
              "#7201a8"
             ],
             [
              0.3333333333333333,
              "#9c179e"
             ],
             [
              0.4444444444444444,
              "#bd3786"
             ],
             [
              0.5555555555555556,
              "#d8576b"
             ],
             [
              0.6666666666666666,
              "#ed7953"
             ],
             [
              0.7777777777777778,
              "#fb9f3a"
             ],
             [
              0.8888888888888888,
              "#fdca26"
             ],
             [
              1,
              "#f0f921"
             ]
            ],
            "type": "heatmapgl"
           }
          ],
          "histogram": [
           {
            "marker": {
             "colorbar": {
              "outlinewidth": 0,
              "ticks": ""
             }
            },
            "type": "histogram"
           }
          ],
          "histogram2d": [
           {
            "colorbar": {
             "outlinewidth": 0,
             "ticks": ""
            },
            "colorscale": [
             [
              0,
              "#0d0887"
             ],
             [
              0.1111111111111111,
              "#46039f"
             ],
             [
              0.2222222222222222,
              "#7201a8"
             ],
             [
              0.3333333333333333,
              "#9c179e"
             ],
             [
              0.4444444444444444,
              "#bd3786"
             ],
             [
              0.5555555555555556,
              "#d8576b"
             ],
             [
              0.6666666666666666,
              "#ed7953"
             ],
             [
              0.7777777777777778,
              "#fb9f3a"
             ],
             [
              0.8888888888888888,
              "#fdca26"
             ],
             [
              1,
              "#f0f921"
             ]
            ],
            "type": "histogram2d"
           }
          ],
          "histogram2dcontour": [
           {
            "colorbar": {
             "outlinewidth": 0,
             "ticks": ""
            },
            "colorscale": [
             [
              0,
              "#0d0887"
             ],
             [
              0.1111111111111111,
              "#46039f"
             ],
             [
              0.2222222222222222,
              "#7201a8"
             ],
             [
              0.3333333333333333,
              "#9c179e"
             ],
             [
              0.4444444444444444,
              "#bd3786"
             ],
             [
              0.5555555555555556,
              "#d8576b"
             ],
             [
              0.6666666666666666,
              "#ed7953"
             ],
             [
              0.7777777777777778,
              "#fb9f3a"
             ],
             [
              0.8888888888888888,
              "#fdca26"
             ],
             [
              1,
              "#f0f921"
             ]
            ],
            "type": "histogram2dcontour"
           }
          ],
          "mesh3d": [
           {
            "colorbar": {
             "outlinewidth": 0,
             "ticks": ""
            },
            "type": "mesh3d"
           }
          ],
          "parcoords": [
           {
            "line": {
             "colorbar": {
              "outlinewidth": 0,
              "ticks": ""
             }
            },
            "type": "parcoords"
           }
          ],
          "pie": [
           {
            "automargin": true,
            "type": "pie"
           }
          ],
          "scatter": [
           {
            "marker": {
             "colorbar": {
              "outlinewidth": 0,
              "ticks": ""
             }
            },
            "type": "scatter"
           }
          ],
          "scatter3d": [
           {
            "line": {
             "colorbar": {
              "outlinewidth": 0,
              "ticks": ""
             }
            },
            "marker": {
             "colorbar": {
              "outlinewidth": 0,
              "ticks": ""
             }
            },
            "type": "scatter3d"
           }
          ],
          "scattercarpet": [
           {
            "marker": {
             "colorbar": {
              "outlinewidth": 0,
              "ticks": ""
             }
            },
            "type": "scattercarpet"
           }
          ],
          "scattergeo": [
           {
            "marker": {
             "colorbar": {
              "outlinewidth": 0,
              "ticks": ""
             }
            },
            "type": "scattergeo"
           }
          ],
          "scattergl": [
           {
            "marker": {
             "colorbar": {
              "outlinewidth": 0,
              "ticks": ""
             }
            },
            "type": "scattergl"
           }
          ],
          "scattermapbox": [
           {
            "marker": {
             "colorbar": {
              "outlinewidth": 0,
              "ticks": ""
             }
            },
            "type": "scattermapbox"
           }
          ],
          "scatterpolar": [
           {
            "marker": {
             "colorbar": {
              "outlinewidth": 0,
              "ticks": ""
             }
            },
            "type": "scatterpolar"
           }
          ],
          "scatterpolargl": [
           {
            "marker": {
             "colorbar": {
              "outlinewidth": 0,
              "ticks": ""
             }
            },
            "type": "scatterpolargl"
           }
          ],
          "scatterternary": [
           {
            "marker": {
             "colorbar": {
              "outlinewidth": 0,
              "ticks": ""
             }
            },
            "type": "scatterternary"
           }
          ],
          "surface": [
           {
            "colorbar": {
             "outlinewidth": 0,
             "ticks": ""
            },
            "colorscale": [
             [
              0,
              "#0d0887"
             ],
             [
              0.1111111111111111,
              "#46039f"
             ],
             [
              0.2222222222222222,
              "#7201a8"
             ],
             [
              0.3333333333333333,
              "#9c179e"
             ],
             [
              0.4444444444444444,
              "#bd3786"
             ],
             [
              0.5555555555555556,
              "#d8576b"
             ],
             [
              0.6666666666666666,
              "#ed7953"
             ],
             [
              0.7777777777777778,
              "#fb9f3a"
             ],
             [
              0.8888888888888888,
              "#fdca26"
             ],
             [
              1,
              "#f0f921"
             ]
            ],
            "type": "surface"
           }
          ],
          "table": [
           {
            "cells": {
             "fill": {
              "color": "#EBF0F8"
             },
             "line": {
              "color": "white"
             }
            },
            "header": {
             "fill": {
              "color": "#C8D4E3"
             },
             "line": {
              "color": "white"
             }
            },
            "type": "table"
           }
          ]
         },
         "layout": {
          "annotationdefaults": {
           "arrowcolor": "#2a3f5f",
           "arrowhead": 0,
           "arrowwidth": 1
          },
          "coloraxis": {
           "colorbar": {
            "outlinewidth": 0,
            "ticks": ""
           }
          },
          "colorscale": {
           "diverging": [
            [
             0,
             "#8e0152"
            ],
            [
             0.1,
             "#c51b7d"
            ],
            [
             0.2,
             "#de77ae"
            ],
            [
             0.3,
             "#f1b6da"
            ],
            [
             0.4,
             "#fde0ef"
            ],
            [
             0.5,
             "#f7f7f7"
            ],
            [
             0.6,
             "#e6f5d0"
            ],
            [
             0.7,
             "#b8e186"
            ],
            [
             0.8,
             "#7fbc41"
            ],
            [
             0.9,
             "#4d9221"
            ],
            [
             1,
             "#276419"
            ]
           ],
           "sequential": [
            [
             0,
             "#0d0887"
            ],
            [
             0.1111111111111111,
             "#46039f"
            ],
            [
             0.2222222222222222,
             "#7201a8"
            ],
            [
             0.3333333333333333,
             "#9c179e"
            ],
            [
             0.4444444444444444,
             "#bd3786"
            ],
            [
             0.5555555555555556,
             "#d8576b"
            ],
            [
             0.6666666666666666,
             "#ed7953"
            ],
            [
             0.7777777777777778,
             "#fb9f3a"
            ],
            [
             0.8888888888888888,
             "#fdca26"
            ],
            [
             1,
             "#f0f921"
            ]
           ],
           "sequentialminus": [
            [
             0,
             "#0d0887"
            ],
            [
             0.1111111111111111,
             "#46039f"
            ],
            [
             0.2222222222222222,
             "#7201a8"
            ],
            [
             0.3333333333333333,
             "#9c179e"
            ],
            [
             0.4444444444444444,
             "#bd3786"
            ],
            [
             0.5555555555555556,
             "#d8576b"
            ],
            [
             0.6666666666666666,
             "#ed7953"
            ],
            [
             0.7777777777777778,
             "#fb9f3a"
            ],
            [
             0.8888888888888888,
             "#fdca26"
            ],
            [
             1,
             "#f0f921"
            ]
           ]
          },
          "colorway": [
           "#636efa",
           "#EF553B",
           "#00cc96",
           "#ab63fa",
           "#FFA15A",
           "#19d3f3",
           "#FF6692",
           "#B6E880",
           "#FF97FF",
           "#FECB52"
          ],
          "font": {
           "color": "#2a3f5f"
          },
          "geo": {
           "bgcolor": "white",
           "lakecolor": "white",
           "landcolor": "#E5ECF6",
           "showlakes": true,
           "showland": true,
           "subunitcolor": "white"
          },
          "hoverlabel": {
           "align": "left"
          },
          "hovermode": "closest",
          "mapbox": {
           "style": "light"
          },
          "paper_bgcolor": "white",
          "plot_bgcolor": "#E5ECF6",
          "polar": {
           "angularaxis": {
            "gridcolor": "white",
            "linecolor": "white",
            "ticks": ""
           },
           "bgcolor": "#E5ECF6",
           "radialaxis": {
            "gridcolor": "white",
            "linecolor": "white",
            "ticks": ""
           }
          },
          "scene": {
           "xaxis": {
            "backgroundcolor": "#E5ECF6",
            "gridcolor": "white",
            "gridwidth": 2,
            "linecolor": "white",
            "showbackground": true,
            "ticks": "",
            "zerolinecolor": "white"
           },
           "yaxis": {
            "backgroundcolor": "#E5ECF6",
            "gridcolor": "white",
            "gridwidth": 2,
            "linecolor": "white",
            "showbackground": true,
            "ticks": "",
            "zerolinecolor": "white"
           },
           "zaxis": {
            "backgroundcolor": "#E5ECF6",
            "gridcolor": "white",
            "gridwidth": 2,
            "linecolor": "white",
            "showbackground": true,
            "ticks": "",
            "zerolinecolor": "white"
           }
          },
          "shapedefaults": {
           "line": {
            "color": "#2a3f5f"
           }
          },
          "ternary": {
           "aaxis": {
            "gridcolor": "white",
            "linecolor": "white",
            "ticks": ""
           },
           "baxis": {
            "gridcolor": "white",
            "linecolor": "white",
            "ticks": ""
           },
           "bgcolor": "#E5ECF6",
           "caxis": {
            "gridcolor": "white",
            "linecolor": "white",
            "ticks": ""
           }
          },
          "title": {
           "x": 0.05
          },
          "xaxis": {
           "automargin": true,
           "gridcolor": "white",
           "linecolor": "white",
           "ticks": "",
           "title": {
            "standoff": 15
           },
           "zerolinecolor": "white",
           "zerolinewidth": 2
          },
          "yaxis": {
           "automargin": true,
           "gridcolor": "white",
           "linecolor": "white",
           "ticks": "",
           "title": {
            "standoff": 15
           },
           "zerolinecolor": "white",
           "zerolinewidth": 2
          }
         }
        },
        "title": {
         "text": "2D Cluster PCA Plot"
        },
        "xaxis": {
         "anchor": "y",
         "domain": [
          0,
          1
         ],
         "title": {
          "text": "PCA1"
         }
        },
        "yaxis": {
         "anchor": "x",
         "domain": [
          0,
          1
         ],
         "title": {
          "text": "PCA2"
         }
        }
       }
      },
      "text/html": [
       "<div>\n",
       "        \n",
       "        \n",
       "            <div id=\"6fefcdd8-22db-445e-a62f-b55343e68149\" class=\"plotly-graph-div\" style=\"height:600px; width:100%;\"></div>\n",
       "            <script type=\"text/javascript\">\n",
       "                require([\"plotly\"], function(Plotly) {\n",
       "                    window.PLOTLYENV=window.PLOTLYENV || {};\n",
       "                    \n",
       "                if (document.getElementById(\"6fefcdd8-22db-445e-a62f-b55343e68149\")) {\n",
       "                    Plotly.newPlot(\n",
       "                        '6fefcdd8-22db-445e-a62f-b55343e68149',\n",
       "                        [{\"hoverlabel\": {\"namelength\": 0}, \"hovertemplate\": \"Cluster=Cluster 0<br>PCA1=%{x}<br>PCA2=%{y}\", \"legendgroup\": \"Cluster=Cluster 0\", \"marker\": {\"color\": \"#636efa\", \"opacity\": 0.5, \"symbol\": \"circle\"}, \"mode\": \"markers\", \"name\": \"Cluster=Cluster 0\", \"showlegend\": true, \"textposition\": \"top center\", \"type\": \"scatter\", \"x\": [-45316.58140609552, -47129.844163420574, -47975.629894303645, -57176.86780610599, -47490.053373637034, -55300.43835611643, -43231.47790879875, -45592.662714596416, -55368.98427568005, -48469.75822555573, -51191.18311026792, -42594.24300193294, -41047.376366850265, -48754.55322293141, -49610.675010159655, -28705.212826769788, -47927.75615335322, -49952.56386424751, -42194.79873495238, -56491.72616160139, -47211.30921897935, -42432.64509966223, -49427.52413702609, -42805.174693662244, -44680.8935093192, -43219.57063079793, -42382.69883203616, -40276.44813108953, -44316.39097613647, -46294.696525815045, -49640.51633393586, -33685.82303783498, -41654.28537091668, -46752.171891149046, -51240.79467490205, -47339.94733410822, -39708.646989663444, -41090.432711623616, -60035.355735186255, -45489.12002421859, -47271.41327624208, -59885.183450800825, -54957.49098917229, -44945.69901444296, -51335.696362197974, -47148.04950665256, -58306.89374121128, -40907.251477988044, -53680.72058527785, -51006.62596717175, -37510.58801132114, -46897.2872048418, -37730.76934060816, -28723.99191956599, -48890.16204283161, -56854.24491468404, -46206.76070917283, -44821.271955370896, -56178.67327005172, -49206.07297923617, -54413.15855352469, -53514.36608306818, -39063.28667619087, -63656.34758998007, -40724.15688509661, -63634.7220027395, -43811.47262039384, -45504.92821664381, -56820.0875536042, -42172.0914237281, -48762.36466827115, -58127.50387026996, -42253.872877958194, -50504.82314273767, -45508.35388587763, -43012.76978349137, -57495.82751822275, -36822.882729901045, -39882.02333138299, -50446.68725850554, -50055.78756429352, -48329.37521986339, -48254.006229924846, -47000.171708792855, -48496.847924973, -53103.847912897276, -41272.895339861774, -46522.91941975114, -55116.83601816832, -51459.51350546337, -39916.59061152686, -48448.18982139336, -46108.564418073074, -57750.757746123854, -49274.442396159255, -53484.99044797614, -45148.06214608786, -50029.04867348438, -48459.57885316462, -58771.33010043613, -46888.40589877372, -53329.08890863789, -46621.675189920825, -52745.27199507378, -51858.952852259696, -45889.161245283896, -44207.36919669001, -51590.97205811297, -42152.502819378715, -55003.11473536289, -45243.33599570976, -42334.0476715063, -49618.56425158385, -39730.75492373195, -52957.616291780934, -51304.420791210156, -41183.652071657074, -39255.47386551343, -38257.012522678655, -48031.6003386983, -38870.67264138031, -48338.70466261928, -56895.33602609459, -53120.54070874577, -47591.22511121996, -52877.38164603332, -57888.98693798612, -49855.36023906113, -52219.788910263196, -47072.832708278765, -47366.64939309709, -52508.303533435675, -52350.13688160762, -53905.33080870664, -49083.98904448343, -45053.50115134013, -42546.3092870338, -42485.19893050835, -57945.29400939375, -44891.726940178116, -48867.3342241247, -41229.085326467866, -55837.896212559026, -33223.78792758687, -40392.52353813572, -57516.27318363637, -48086.47161506776], \"xaxis\": \"x\", \"y\": [72.34189620852624, -2166.9455265130223, -2697.480649636869, -500.38222602903477, -1025.6556377131567, -2379.445392952533, -2464.366506729345, -1858.7415428672732, -990.6075970316527, -975.0110199269357, -2999.0481368530036, -4573.135949676127, 163.00860194240713, -3476.7575329414044, -2494.346015854766, -2125.5165732968303, 1139.0677249894088, -1016.3628176053345, -2831.244972649774, -1529.9495201383816, -497.0287321468139, -2804.3175987818145, -3282.4967836895144, -2383.923586492432, -3320.238109106739, -982.6374045457419, -1026.2178281219403, -3159.4030652887363, -1681.1078093986143, -3445.1407626668733, -2403.4526565005253, -2359.981060852435, -1284.2763352325999, -4260.667936777421, -337.5831102994572, -2756.2104567652127, -2812.6408322745237, -2507.468037848856, -2067.785202202856, -857.2365574199105, -1422.2632521531443, 968.1821841701752, -1273.034090967153, -2663.4363034143566, -2253.324954790312, -948.1700320034128, -1498.3070625903995, -2247.7230980697573, -1523.1531827794747, 1229.6342021038004, -2385.9306735999694, -1500.5997535503448, -3447.522865699349, -1283.2493416842178, -3117.043572435122, -1039.8869670204488, -3972.437291114196, -809.247850406612, -1450.731868886661, 646.5438723752047, -1055.9968931753679, -3511.650542757556, -2178.9512608782643, -672.1303645870984, -3403.3549980948765, -958.5365645110759, -3844.050642994281, -1656.4250558163028, -2626.4947601230388, -3482.9509244203123, -1902.3037525718105, -3329.4241557503874, -2813.4088657560997, -2541.1040744024194, -1716.0957515179923, -2388.397515567184, -874.5938320396226, -3004.135925035729, -3145.8388116696283, -1789.8310613735036, -458.73293797346827, -2106.9565485318553, -3586.3929123393596, -3258.592731249427, -1255.023121717518, -1838.6646455566577, -2039.051945091476, -2395.1506203279073, -3386.631387427834, -1443.631221061166, -5860.406970913427, -424.49445160246927, -4704.900718140074, -1546.786022798463, -1819.1411133435652, -2964.871161538942, -918.4435413744566, -2907.798180135489, -623.0248233972336, -1946.4256348815313, -1747.2845158743733, -3704.11520306688, -1061.3928297006266, -3270.250012030124, -1998.3145148841243, -3656.8600405231186, -1788.595019255137, -1709.6809922654013, -3595.426499455152, -1806.3716349634742, -2386.7446703879677, -946.4427010468263, -1200.4987085746995, -3215.311753103615, -512.1681616652344, -1341.6421504993355, -2299.1775764582503, -2456.0624695072033, -3209.7056998551193, -2520.8796709258963, -4966.632983631625, -296.94791022013453, -219.83567344031968, -2373.9068521136132, -2876.0168218541594, -1034.0462861180677, -2297.410428456013, -2551.640945867298, -361.82287722905915, -3652.1430220775023, -2226.5238835946816, -2003.3795586148929, -1271.836696800181, 776.7213551828809, -2706.9542458595392, -3267.8530880659646, -2323.9550250667403, -1573.129333946467, -1690.2235244245383, -1059.509970558915, -3330.0950893142603, -559.8887343311554, -2913.1513261933897, -4327.599800404024, -1918.0706539765338, -2662.237917413056, -3267.664533478742], \"yaxis\": \"y\"}, {\"hoverlabel\": {\"namelength\": 0}, \"hovertemplate\": \"Cluster=Cluster 1<br>PCA1=%{x}<br>PCA2=%{y}\", \"legendgroup\": \"Cluster=Cluster 1\", \"marker\": {\"color\": \"#EF553B\", \"opacity\": 0.5, \"symbol\": \"circle\"}, \"mode\": \"markers\", \"name\": \"Cluster=Cluster 1\", \"showlegend\": true, \"textposition\": \"top center\", \"type\": \"scatter\", \"x\": [35572.71538685353, 30155.334159636957, 25328.06996228165, 31045.22025567876, 27758.387575808185, 22350.769816321543, 43600.216180309726, 34834.901794659934, 42157.805428700936, 24491.38889864471, 37228.73474520065, 18943.372817813015, 39135.37622313003, 20592.34661300775, 37939.7170089123, 23470.847033328, 42045.79570257135, 43629.01273923749, 30806.77634195276, 31361.085267799117, 32572.750272366167, 35758.275435536656, 25732.344972190545, 24706.128352845135, 32289.540207166618, 41859.15436997554, 32561.025360063268, 32912.89206331581, 40419.576695104115, 30949.636901997914, 38847.16976776075, 43084.431301068325, 24294.808478346316, 19295.26768680955, 29861.54666962142, 33379.42058468906, 23967.006087975602, 24613.751980326095, 35579.205815806265, 21973.30795044381, 34815.25492053802, 32210.979768642374, 38869.649452671656, 22224.556143435268, 40673.859644327415, 23032.68012465125, 31253.468530449394, 25474.40276379727, 14006.000965365392, 42414.139844093894, 32307.936729140907, 41298.63129283503, 21900.78530003274, 25938.050496756223, 43861.74709102545, 22105.034591078234, 48410.00929047225, 30148.682673916057, 15764.49143141582, 41580.27174463817, 46993.641087908334, 25376.693266073136, 35036.71585548718, 44952.90203538889, 30584.12461511322, 32797.64366935491, 22393.41773018011, 37194.902279074166, 31911.00123936631, 47182.06858155575, 26298.148410246697, 52844.21454083208, 44074.74432267945, 32416.939873895517, 30046.489080926036, 31960.75451420723, 36813.767134203925, 28639.385002450465, 23748.677815454033, 30268.70548126327, 32322.90855312244, 19017.16946491749, 23858.598240023406, 22258.60866856988, 32149.921292682848, 36008.72535912228, 45920.30384600755, 39513.27355543237, 26312.372968927506, 47964.55226138687, 31614.442565419064, 33203.842568887994, 31317.29806455368, 28960.63496494675, 40849.4805976906, 38543.62512292864, 24819.360949497725, 31202.412682476046, 31330.34398452475, 34360.481807350545, 20486.140695945443, 32691.8695616857, 48577.24594456363, 28627.25985640028, 26343.67867390244, 52679.137422450534, 32345.70842870056, 28912.895136199917, 31502.360342968197, 34060.87750047381, 36260.39985707385, 24827.978780545956, 39941.23737509606, 30614.16577855354, 50874.59373315181, 35187.910534684626, 50433.8513845333, 29210.55694643967, 39399.401381811454, 34753.14848573077, 27412.691405421207, 34830.86603735355, 31016.952770667845, 23392.942046850574, 35023.21627080026, 30950.101839682367, 29240.50974864807, 32853.06228369523, 23022.218263126633, 25765.790042328343, 26228.376286436174, 26983.04636427817, 33345.15627123116, 23196.213306438214, 30836.978307627414, 25363.919226720394, 26003.522431925594, 38938.11813871431, 27456.91326667308, 41328.25266330995, 26507.042872359885, 26071.98118135922, 26023.56635140614, 19785.994393274657, 33217.92661094806, 22236.169474372262, 26578.153196266154, 16918.676201100112, 35711.07999432942, 23896.368807904062, 28681.549887585727], \"xaxis\": \"x\", \"y\": [-4807.665202226772, -6491.845916302059, -4507.818852759069, -4354.880673536973, -3524.601882041492, -5405.192380070507, -5657.478831520004, -5079.54093073174, -5954.454601851139, -3378.5440905478667, -4575.537648425249, -6099.926511675157, -4339.707016425752, -4611.587648361569, -4683.440281859747, -4720.248925408385, -3106.1034758683545, -6254.840941209119, -5560.204679599998, -4837.5896046077505, -6711.005814772022, -4122.472097486009, -4846.280009746115, -6304.28687157794, -3634.3413606407366, -4543.326267067191, -5658.529147335394, -4588.664684244308, -6642.233640263945, -4397.197322284789, -8209.639308093867, -4660.855622444503, -3156.174867738149, -3266.6501002799114, -4210.4917427973205, -4139.053044046936, -5918.696393593374, -3288.4642893518317, -6195.2565154027225, -5227.972306159946, -5108.2816705717105, -5806.362366658895, -4117.836047019009, -5737.014216399168, -5771.827716588525, -5461.17904452095, -4792.820172444659, -4541.161711915863, -1775.6050399833507, -5432.281819509639, -3401.0815217687755, -6422.065006311347, -5234.9144354362425, -4054.2528418970824, -6877.035883382061, -4346.187741550606, -5693.665441157445, -3727.641222685243, -2149.152212076622, -5615.560772408635, -4647.1290885886465, -3922.329207394539, -6415.699536226245, -4985.514801220391, -5198.651743783718, -5654.5468483893155, -5150.74692828821, -4030.486076235748, -2672.911296966151, -4557.716601791871, -5023.03875519227, -5677.667475551906, -6307.669140625973, -3316.8737845198484, -2733.109485171262, -7950.137679904536, -4615.462129870625, -3130.9505393461, -4085.3878885407757, -4917.675594824383, -3681.2903856818, -4587.056600403994, -4857.997302514549, -5195.925409188552, -5508.945169399091, -6111.705171395255, -4953.921129423357, -4805.682520520933, -4286.40536028733, -4397.186114919674, -3948.413153701504, -6552.893169384938, -6141.76326355349, -5439.902381792005, -5591.430862352505, -7198.0637530044305, -6443.116567478196, -4006.88078240412, -5635.163544619182, -5038.816440742174, -4804.2037003567975, -6066.457122934571, -6305.307759672725, -3324.8164217780127, -3863.006874934304, -4749.0570257153595, -2201.7204362153525, -5224.554435670839, -5081.205331963818, -5075.678351149001, -3890.344796261252, -5088.608312301605, -5237.495032300998, -4762.434912619334, -5178.052813440067, -4164.858385743969, -6854.206134077951, -6286.3569089641005, -5202.090344164463, -4008.5890127538974, -5970.6596058177765, -5377.229021116211, -4865.004407317277, -5117.926369906288, -4416.577273256113, -6274.399407676455, -5240.709879901136, -5910.5957245401, -4439.12285942063, -4647.515091833698, -4266.4841646877985, -2897.418110778118, -6080.299826048198, -5613.714946473867, -4248.4109987799275, -6518.877743618619, -3786.133642471527, -4443.169815276384, -4868.312164441823, -4823.645899335594, -5484.674656121093, -4687.764619495444, -7172.334785619932, -4699.391527469762, -4387.404636496322, -4400.04233100077, -4542.181472406765, -2877.194607876875, -4543.481105344731, -4653.572550884039, -4194.112454577067], \"yaxis\": \"y\"}, {\"hoverlabel\": {\"namelength\": 0}, \"hovertemplate\": \"Cluster=Cluster 2<br>PCA1=%{x}<br>PCA2=%{y}\", \"legendgroup\": \"Cluster=Cluster 2\", \"marker\": {\"color\": \"#00cc96\", \"opacity\": 0.5, \"symbol\": \"circle\"}, \"mode\": \"markers\", \"name\": \"Cluster=Cluster 2\", \"showlegend\": true, \"textposition\": \"top center\", \"type\": \"scatter\", \"x\": [-811.2733012583036, -7981.746810683427, 7034.5669918468675, -9270.983246113963, 2868.6753358918063, -6586.375015596336, -7827.50439260574, -1864.5940590614443, -7225.656651496547, -9176.939917160438, -12402.614006035725, 3574.867628285125, -1755.3663563989887, -4588.845682887322, -4114.66581250266, -5787.584457334282, -1424.296852785251, -4661.643199436441, -4794.730185972456, -1709.0067116984342, 4615.6045897838885, 15177.319714667667, 5679.935032255551, -5149.414552966307, -7431.169946592941, -11770.09622190468, 1855.0479869186793, -6075.7239459118655, 1547.912439559423, -805.5182840466944, -7793.211508914153, 3607.6218475354412, -3147.9716901023976, 5122.282562298911, -3127.746475407182, -3197.770674931706, 7017.407229806939, -4883.720561797805, 4968.764645874565, -10419.650727093263, -6214.354917756371, 3333.0370081988895, -6270.130057704634, -967.1345292294826, -9823.292971418645, 2555.784235160243, -6529.597912750251, 4848.442764387972, -5327.512619806878, -1710.009100629776, -2630.794135208179, 1381.2925438038922, -10238.837928743025, -2329.616759752767, -3536.624899618861, -11570.01362947228, -12594.175242128516, -3881.2792235448255, -9447.56695701965, -4595.725467462921, -4972.922141129962, 5567.478117111797, 499.49661809613417, -4176.722631704308, -7423.928769536224, -9153.99210091783, 4864.683651412989, -7249.028129796921, 7325.256189492681, 1198.2155272857194, -6945.490220855894, -5628.983771409202, -6874.447300583772, 3175.730100887676, -10072.875118803526, 9121.208329826166, 10499.407295945566, 11129.424149229597, -4333.353171495312, 6644.597612798221, -611.8920766835445, -879.6961231840185, 1270.5926186365093, -3354.4093954920463, -3652.051627219515, 1535.3200349238598, 3442.067865401043, 1691.1469990054993, -9514.742122293756, -5495.93003066568, -11393.264281389027, -1006.7942808926969, -11385.80729775087, -5228.773548143092, 106.44730782999628, -2009.708614175169, -847.3002227743389, -13124.39160403839, -6112.701966838931, -14757.626854505594, -5414.451723823091, -4197.995995572502, -907.6690876091177, 4241.775895153041, -2601.8696283459435, 1797.8692846207518, -860.4354477953774, 13091.374153516663, -5806.077052611813, 11039.026942031693, -1148.5927138363152, -5506.504775277297, -7927.279393999552, -9600.009525716885, -10817.514881421725, -182.8750970628986, -12401.012614422616, -1867.501195205511, 384.4886537787821, -15876.014194933854, 3735.2223001205402, 2392.951400013225, -3222.028497117642, -18832.323089995076, -4856.1602776190775, -9604.976101231387, 375.61202524741293, 834.6063416853503, -3578.6411667637294, 3594.0424216908245, -5713.304475031712, -7793.45435208652, 1223.3332842063523, -4025.5345868614927, 2663.8141427242563, 1380.9095854822572, -5414.849621380288, -10371.487057071705, 3385.822049131316, -8175.9447838416445, -2220.635450610062, -3902.650760127404, -4335.121223668239, -284.93461613174975, 5073.487356522338, 2456.114942910878, 8122.080380415532, 871.0561448640428, 277.3194547180353, -7740.90487908971, 5619.1255387636165, -18377.080919160875, -6051.798027149633, -15159.901916245657, -5898.7444796811415, -9955.599000501958, -1254.796105082279], \"xaxis\": \"x\", \"y\": [4771.515153180692, 3467.565974911419, 3374.2871342934277, 5996.549152653392, 5223.6423303903575, 4795.659622307598, 5701.697575023512, 5267.352553209776, 4564.617621855316, 7146.662858252777, 4277.420432790431, 6638.189488143045, 4273.2053018476345, 4468.268102563843, 3078.8964384945925, 5711.628393266968, 7267.328542397005, 4875.41203439204, 5174.470545977293, 3684.6952959403584, 5713.442041909502, 4253.670268811264, 4711.285967238693, 5556.666139133818, 6342.036901878027, 5001.42078319685, 5468.743274286696, 3500.5964543132536, 3973.906997486513, 4348.095679784138, 6334.243251982047, 4852.444518767337, 5506.99662291386, 3424.073603905289, 5318.281993622225, 5127.949261280454, 5588.800602998204, 4688.370746949258, 3943.1170736339127, 5982.858221439132, 8154.2005338638055, 4012.2154933423153, 5401.821696967168, 4638.724240674152, 6862.247572080606, 5164.690387393549, 5174.06001607075, 6716.389270082328, 5507.674538617934, 5692.091704359399, 5512.809888472099, 5207.221097509009, 7423.315368546434, 6502.20788277559, 5070.413098436325, 6393.584927460234, 5058.593507665866, 3532.750801645637, 6026.370137728771, 4575.315245883315, 5053.974394482307, 6399.679457928577, 4450.572465085801, 5121.948177991019, 5595.425208078428, 6237.455006749797, 4834.953991865887, 5030.1015099048445, 5245.750156657963, 6031.597780098119, 5240.2836976266035, 3413.4609900340333, 3266.470183264379, 4727.0798130553485, 7033.83230622547, 4076.1888638584987, 4092.5868105824966, 2451.3956456354927, 6791.121727987128, 6074.108821940036, 2642.85646287331, 4574.029852480233, 4918.861099714735, 4039.0497082186084, 4298.147934215798, 6617.143404468856, 3293.9257098257854, 4305.605513370139, 5484.062210130749, 5033.927181148622, 4760.726683836119, 6827.736752280866, 5239.83448625213, 4906.8213691170085, 5019.545071865859, 4571.311601888514, 5435.293808150464, 5122.298575466132, 7150.265686204209, 5008.012103778607, 6401.496850378556, 4646.423038232094, 4662.571801362161, 4854.373611538006, 5720.063910631848, 3616.906622264862, 1366.2175061913908, 3878.074005604354, 5686.132349951807, 4384.687289531572, 6154.518606181514, 6298.430178867735, 5673.527728610802, 4923.281603355221, 6677.4821015909365, 4411.3243537762855, 6731.622371228141, 2685.662685436796, 6845.141814371279, 7337.462584330767, 4370.467828822717, 5992.684094109707, 4129.181189416356, 6823.253328040566, 6861.841710581506, 5517.45699879979, 5049.606296947775, 5141.101367432591, 4687.331305792245, 5244.223767536204, 6098.407171499208, 5788.853893383747, 5666.367954752699, 5644.552199614269, 3399.1203547303226, 5567.112673818731, 4509.37894804773, 6211.274488459199, 4513.159427781258, 5599.274828311292, 4177.140129281849, 5499.3393327217655, 2658.2975188904134, 4064.0083360808094, 5244.436809348917, 5539.978254276126, 4731.01205876093, 5689.0004530919105, 5152.077722121314, 5133.639471687387, 4314.803908984969, 5086.374324713103, 6221.683453940018, 5573.2435927687275, 5205.840154213877, 4085.3122504461217, 6380.915494292792], \"yaxis\": \"y\"}, {\"hoverlabel\": {\"namelength\": 0}, \"hovertemplate\": \"Cluster=Cluster 3<br>PCA1=%{x}<br>PCA2=%{y}\", \"legendgroup\": \"Cluster=Cluster 3\", \"marker\": {\"color\": \"#ab63fa\", \"opacity\": 0.5, \"symbol\": \"circle\"}, \"mode\": \"markers\", \"name\": \"Cluster=Cluster 3\", \"showlegend\": true, \"textposition\": \"top center\", \"type\": \"scatter\", \"x\": [62912.457097805636, 55587.35173073356, 46271.74999066808, 47836.4483918268, 53899.23405997955, 58984.55027496723, 48602.57111184018, 47842.88367906647, 59798.17482849969, 47549.762546227044, 57857.28905692225, 56449.678138281364, 53422.55248570121, 59803.045579192956, 41933.876349092076, 55168.45154506184, 48697.32854440992, 48029.23598296087, 45728.40114434408, 54542.56026091126, 50397.083897731325, 48281.96476402187, 54230.31142047657, 47415.3891624053, 59239.853528398104, 52086.38065892719, 46000.80248469952, 54778.9199096914, 51532.47005840448, 52263.49410874443, 63317.066532442885, 45302.57090416741, 56651.455483747435, 61085.161815426865, 45280.2964574876, 55795.997914963926, 55783.42885801488, 55809.60825993976, 47518.881318567896, 61617.25602185718, 49923.232402586276, 52465.03358665987, 59196.59308633907, 66750.62108457649, 53924.59703955873, 47210.61128412959, 48551.897791192605, 51395.22435599946, 45049.71303774845, 53976.790002631256], \"xaxis\": \"x\", \"y\": [5261.355213266388, 3427.13519525881, 4207.414796612182, 6059.983323374549, 3176.7468854090903, 3350.7116179336463, 6249.537360930081, 4758.188729714914, 4315.751792559066, 3437.8964823947804, 5717.501137167641, 5101.398697367521, 3894.2354791277485, 8450.30756249261, 4717.997205237609, 4016.9816222016148, 5282.497809754306, 5422.323757682562, 3658.306501252221, 4193.882999372306, 2890.5509685647035, 8499.966944599806, 3238.428770323685, 4709.388807631826, 4745.144589124807, 3388.427034681375, 3884.4528513190844, 4629.791365281097, 6006.733833662532, 5916.358054129831, 4946.1775101205085, 3778.1814213096072, 4271.292185091136, 4243.721728508765, 4437.356566167739, 4252.8975407069975, 4732.087714707707, 3879.149733262657, 4941.99936297327, 6726.313750520613, 6048.724079227706, 3371.533065013098, 3903.9749268153705, 2693.008186621752, 5765.842845736464, 6674.234677495916, 4668.214697412172, 5657.241494980816, 4590.8725834561055, 5488.389984582106], \"yaxis\": \"y\"}],\n",
       "                        {\"height\": 600, \"legend\": {\"tracegroupgap\": 0}, \"margin\": {\"t\": 60}, \"plot_bgcolor\": \"rgb(240,240,240)\", \"template\": {\"data\": {\"bar\": [{\"error_x\": {\"color\": \"#2a3f5f\"}, \"error_y\": {\"color\": \"#2a3f5f\"}, \"marker\": {\"line\": {\"color\": \"#E5ECF6\", \"width\": 0.5}}, \"type\": \"bar\"}], \"barpolar\": [{\"marker\": {\"line\": {\"color\": \"#E5ECF6\", \"width\": 0.5}}, \"type\": \"barpolar\"}], \"carpet\": [{\"aaxis\": {\"endlinecolor\": \"#2a3f5f\", \"gridcolor\": \"white\", \"linecolor\": \"white\", \"minorgridcolor\": \"white\", \"startlinecolor\": \"#2a3f5f\"}, \"baxis\": {\"endlinecolor\": \"#2a3f5f\", \"gridcolor\": \"white\", \"linecolor\": \"white\", \"minorgridcolor\": \"white\", \"startlinecolor\": \"#2a3f5f\"}, \"type\": \"carpet\"}], \"choropleth\": [{\"colorbar\": {\"outlinewidth\": 0, \"ticks\": \"\"}, \"type\": \"choropleth\"}], \"contour\": [{\"colorbar\": {\"outlinewidth\": 0, \"ticks\": \"\"}, \"colorscale\": [[0.0, \"#0d0887\"], [0.1111111111111111, \"#46039f\"], [0.2222222222222222, \"#7201a8\"], [0.3333333333333333, \"#9c179e\"], [0.4444444444444444, \"#bd3786\"], [0.5555555555555556, \"#d8576b\"], [0.6666666666666666, \"#ed7953\"], [0.7777777777777778, \"#fb9f3a\"], [0.8888888888888888, \"#fdca26\"], [1.0, \"#f0f921\"]], \"type\": \"contour\"}], \"contourcarpet\": [{\"colorbar\": {\"outlinewidth\": 0, \"ticks\": \"\"}, \"type\": \"contourcarpet\"}], \"heatmap\": [{\"colorbar\": {\"outlinewidth\": 0, \"ticks\": \"\"}, \"colorscale\": [[0.0, \"#0d0887\"], [0.1111111111111111, \"#46039f\"], [0.2222222222222222, \"#7201a8\"], [0.3333333333333333, \"#9c179e\"], [0.4444444444444444, \"#bd3786\"], [0.5555555555555556, \"#d8576b\"], [0.6666666666666666, \"#ed7953\"], [0.7777777777777778, \"#fb9f3a\"], [0.8888888888888888, \"#fdca26\"], [1.0, \"#f0f921\"]], \"type\": \"heatmap\"}], \"heatmapgl\": [{\"colorbar\": {\"outlinewidth\": 0, \"ticks\": \"\"}, \"colorscale\": [[0.0, \"#0d0887\"], [0.1111111111111111, \"#46039f\"], [0.2222222222222222, \"#7201a8\"], [0.3333333333333333, \"#9c179e\"], [0.4444444444444444, \"#bd3786\"], [0.5555555555555556, \"#d8576b\"], [0.6666666666666666, \"#ed7953\"], [0.7777777777777778, \"#fb9f3a\"], [0.8888888888888888, \"#fdca26\"], [1.0, \"#f0f921\"]], \"type\": \"heatmapgl\"}], \"histogram\": [{\"marker\": {\"colorbar\": {\"outlinewidth\": 0, \"ticks\": \"\"}}, \"type\": \"histogram\"}], \"histogram2d\": [{\"colorbar\": {\"outlinewidth\": 0, \"ticks\": \"\"}, \"colorscale\": [[0.0, \"#0d0887\"], [0.1111111111111111, \"#46039f\"], [0.2222222222222222, \"#7201a8\"], [0.3333333333333333, \"#9c179e\"], [0.4444444444444444, \"#bd3786\"], [0.5555555555555556, \"#d8576b\"], [0.6666666666666666, \"#ed7953\"], [0.7777777777777778, \"#fb9f3a\"], [0.8888888888888888, \"#fdca26\"], [1.0, \"#f0f921\"]], \"type\": \"histogram2d\"}], \"histogram2dcontour\": [{\"colorbar\": {\"outlinewidth\": 0, \"ticks\": \"\"}, \"colorscale\": [[0.0, \"#0d0887\"], [0.1111111111111111, \"#46039f\"], [0.2222222222222222, \"#7201a8\"], [0.3333333333333333, \"#9c179e\"], [0.4444444444444444, \"#bd3786\"], [0.5555555555555556, \"#d8576b\"], [0.6666666666666666, \"#ed7953\"], [0.7777777777777778, \"#fb9f3a\"], [0.8888888888888888, \"#fdca26\"], [1.0, \"#f0f921\"]], \"type\": \"histogram2dcontour\"}], \"mesh3d\": [{\"colorbar\": {\"outlinewidth\": 0, \"ticks\": \"\"}, \"type\": \"mesh3d\"}], \"parcoords\": [{\"line\": {\"colorbar\": {\"outlinewidth\": 0, \"ticks\": \"\"}}, \"type\": \"parcoords\"}], \"pie\": [{\"automargin\": true, \"type\": \"pie\"}], \"scatter\": [{\"marker\": {\"colorbar\": {\"outlinewidth\": 0, \"ticks\": \"\"}}, \"type\": \"scatter\"}], \"scatter3d\": [{\"line\": {\"colorbar\": {\"outlinewidth\": 0, \"ticks\": \"\"}}, \"marker\": {\"colorbar\": {\"outlinewidth\": 0, \"ticks\": \"\"}}, \"type\": \"scatter3d\"}], \"scattercarpet\": [{\"marker\": {\"colorbar\": {\"outlinewidth\": 0, \"ticks\": \"\"}}, \"type\": \"scattercarpet\"}], \"scattergeo\": [{\"marker\": {\"colorbar\": {\"outlinewidth\": 0, \"ticks\": \"\"}}, \"type\": \"scattergeo\"}], \"scattergl\": [{\"marker\": {\"colorbar\": {\"outlinewidth\": 0, \"ticks\": \"\"}}, \"type\": \"scattergl\"}], \"scattermapbox\": [{\"marker\": {\"colorbar\": {\"outlinewidth\": 0, \"ticks\": \"\"}}, \"type\": \"scattermapbox\"}], \"scatterpolar\": [{\"marker\": {\"colorbar\": {\"outlinewidth\": 0, \"ticks\": \"\"}}, \"type\": \"scatterpolar\"}], \"scatterpolargl\": [{\"marker\": {\"colorbar\": {\"outlinewidth\": 0, \"ticks\": \"\"}}, \"type\": \"scatterpolargl\"}], \"scatterternary\": [{\"marker\": {\"colorbar\": {\"outlinewidth\": 0, \"ticks\": \"\"}}, \"type\": \"scatterternary\"}], \"surface\": [{\"colorbar\": {\"outlinewidth\": 0, \"ticks\": \"\"}, \"colorscale\": [[0.0, \"#0d0887\"], [0.1111111111111111, \"#46039f\"], [0.2222222222222222, \"#7201a8\"], [0.3333333333333333, \"#9c179e\"], [0.4444444444444444, \"#bd3786\"], [0.5555555555555556, \"#d8576b\"], [0.6666666666666666, \"#ed7953\"], [0.7777777777777778, \"#fb9f3a\"], [0.8888888888888888, \"#fdca26\"], [1.0, \"#f0f921\"]], \"type\": \"surface\"}], \"table\": [{\"cells\": {\"fill\": {\"color\": \"#EBF0F8\"}, \"line\": {\"color\": \"white\"}}, \"header\": {\"fill\": {\"color\": \"#C8D4E3\"}, \"line\": {\"color\": \"white\"}}, \"type\": \"table\"}]}, \"layout\": {\"annotationdefaults\": {\"arrowcolor\": \"#2a3f5f\", \"arrowhead\": 0, \"arrowwidth\": 1}, \"coloraxis\": {\"colorbar\": {\"outlinewidth\": 0, \"ticks\": \"\"}}, \"colorscale\": {\"diverging\": [[0, \"#8e0152\"], [0.1, \"#c51b7d\"], [0.2, \"#de77ae\"], [0.3, \"#f1b6da\"], [0.4, \"#fde0ef\"], [0.5, \"#f7f7f7\"], [0.6, \"#e6f5d0\"], [0.7, \"#b8e186\"], [0.8, \"#7fbc41\"], [0.9, \"#4d9221\"], [1, \"#276419\"]], \"sequential\": [[0.0, \"#0d0887\"], [0.1111111111111111, \"#46039f\"], [0.2222222222222222, \"#7201a8\"], [0.3333333333333333, \"#9c179e\"], [0.4444444444444444, \"#bd3786\"], [0.5555555555555556, \"#d8576b\"], [0.6666666666666666, \"#ed7953\"], [0.7777777777777778, \"#fb9f3a\"], [0.8888888888888888, \"#fdca26\"], [1.0, \"#f0f921\"]], \"sequentialminus\": [[0.0, \"#0d0887\"], [0.1111111111111111, \"#46039f\"], [0.2222222222222222, \"#7201a8\"], [0.3333333333333333, \"#9c179e\"], [0.4444444444444444, \"#bd3786\"], [0.5555555555555556, \"#d8576b\"], [0.6666666666666666, \"#ed7953\"], [0.7777777777777778, \"#fb9f3a\"], [0.8888888888888888, \"#fdca26\"], [1.0, \"#f0f921\"]]}, \"colorway\": [\"#636efa\", \"#EF553B\", \"#00cc96\", \"#ab63fa\", \"#FFA15A\", \"#19d3f3\", \"#FF6692\", \"#B6E880\", \"#FF97FF\", \"#FECB52\"], \"font\": {\"color\": \"#2a3f5f\"}, \"geo\": {\"bgcolor\": \"white\", \"lakecolor\": \"white\", \"landcolor\": \"#E5ECF6\", \"showlakes\": true, \"showland\": true, \"subunitcolor\": \"white\"}, \"hoverlabel\": {\"align\": \"left\"}, \"hovermode\": \"closest\", \"mapbox\": {\"style\": \"light\"}, \"paper_bgcolor\": \"white\", \"plot_bgcolor\": \"#E5ECF6\", \"polar\": {\"angularaxis\": {\"gridcolor\": \"white\", \"linecolor\": \"white\", \"ticks\": \"\"}, \"bgcolor\": \"#E5ECF6\", \"radialaxis\": {\"gridcolor\": \"white\", \"linecolor\": \"white\", \"ticks\": \"\"}}, \"scene\": {\"xaxis\": {\"backgroundcolor\": \"#E5ECF6\", \"gridcolor\": \"white\", \"gridwidth\": 2, \"linecolor\": \"white\", \"showbackground\": true, \"ticks\": \"\", \"zerolinecolor\": \"white\"}, \"yaxis\": {\"backgroundcolor\": \"#E5ECF6\", \"gridcolor\": \"white\", \"gridwidth\": 2, \"linecolor\": \"white\", \"showbackground\": true, \"ticks\": \"\", \"zerolinecolor\": \"white\"}, \"zaxis\": {\"backgroundcolor\": \"#E5ECF6\", \"gridcolor\": \"white\", \"gridwidth\": 2, \"linecolor\": \"white\", \"showbackground\": true, \"ticks\": \"\", \"zerolinecolor\": \"white\"}}, \"shapedefaults\": {\"line\": {\"color\": \"#2a3f5f\"}}, \"ternary\": {\"aaxis\": {\"gridcolor\": \"white\", \"linecolor\": \"white\", \"ticks\": \"\"}, \"baxis\": {\"gridcolor\": \"white\", \"linecolor\": \"white\", \"ticks\": \"\"}, \"bgcolor\": \"#E5ECF6\", \"caxis\": {\"gridcolor\": \"white\", \"linecolor\": \"white\", \"ticks\": \"\"}}, \"title\": {\"x\": 0.05}, \"xaxis\": {\"automargin\": true, \"gridcolor\": \"white\", \"linecolor\": \"white\", \"ticks\": \"\", \"title\": {\"standoff\": 15}, \"zerolinecolor\": \"white\", \"zerolinewidth\": 2}, \"yaxis\": {\"automargin\": true, \"gridcolor\": \"white\", \"linecolor\": \"white\", \"ticks\": \"\", \"title\": {\"standoff\": 15}, \"zerolinecolor\": \"white\", \"zerolinewidth\": 2}}}, \"title\": {\"text\": \"2D Cluster PCA Plot\"}, \"xaxis\": {\"anchor\": \"y\", \"domain\": [0.0, 1.0], \"title\": {\"text\": \"PCA1\"}}, \"yaxis\": {\"anchor\": \"x\", \"domain\": [0.0, 1.0], \"title\": {\"text\": \"PCA2\"}}},\n",
       "                        {\"responsive\": true}\n",
       "                    ).then(function(){\n",
       "                            \n",
       "var gd = document.getElementById('6fefcdd8-22db-445e-a62f-b55343e68149');\n",
       "var x = new MutationObserver(function (mutations, observer) {{\n",
       "        var display = window.getComputedStyle(gd).display;\n",
       "        if (!display || display === 'none') {{\n",
       "            console.log([gd, 'removed!']);\n",
       "            Plotly.purge(gd);\n",
       "            observer.disconnect();\n",
       "        }}\n",
       "}});\n",
       "\n",
       "// Listen for the removal of the full notebook cells\n",
       "var notebookContainer = gd.closest('#notebook-container');\n",
       "if (notebookContainer) {{\n",
       "    x.observe(notebookContainer, {childList: true});\n",
       "}}\n",
       "\n",
       "// Listen for the clearing of the current output cell\n",
       "var outputEl = gd.closest('.output');\n",
       "if (outputEl) {{\n",
       "    x.observe(outputEl, {childList: true});\n",
       "}}\n",
       "\n",
       "                        })\n",
       "                };\n",
       "                });\n",
       "            </script>\n",
       "        </div>"
      ]
     },
     "metadata": {},
     "output_type": "display_data"
    }
   ],
   "source": [
    "plot_model(kmeans)"
   ]
  },
  {
   "cell_type": "code",
   "execution_count": 19,
   "metadata": {},
   "outputs": [
    {
     "data": {
      "text/html": [
       "        <script type=\"text/javascript\">\n",
       "        window.PlotlyConfig = {MathJaxConfig: 'local'};\n",
       "        if (window.MathJax) {MathJax.Hub.Config({SVG: {font: \"STIX-Web\"}});}\n",
       "        if (typeof require !== 'undefined') {\n",
       "        require.undef(\"plotly\");\n",
       "        requirejs.config({\n",
       "            paths: {\n",
       "                'plotly': ['https://cdn.plot.ly/plotly-latest.min']\n",
       "            }\n",
       "        });\n",
       "        require(['plotly'], function(Plotly) {\n",
       "            window._Plotly = Plotly;\n",
       "        });\n",
       "        }\n",
       "        </script>\n",
       "        "
      ]
     },
     "metadata": {},
     "output_type": "display_data"
    },
    {
     "data": {
      "application/vnd.plotly.v1+json": {
       "config": {
        "plotlyServerURL": "https://plot.ly"
       },
       "data": [
        {
         "hoverlabel": {
          "namelength": 0
         },
         "hovertemplate": "Cluster=Cluster 0<br>0=%{x}<br>1=%{y}<br>2=%{z}",
         "legendgroup": "Cluster=Cluster 0",
         "marker": {
          "color": "#636efa",
          "opacity": 0.7,
          "symbol": "circle"
         },
         "mode": "markers",
         "name": "Cluster=Cluster 0",
         "scene": "scene",
         "showlegend": true,
         "type": "scatter3d",
         "x": [
          -10.203344345092773,
          -11.435230255126953,
          -6.314375400543213,
          82.36720275878906,
          -2.9639556407928467,
          85.75724029541016,
          -42.10618591308594,
          -19.040054321289062,
          81.622802734375,
          11.064024925231934,
          36.10451889038086,
          -59.7748908996582,
          -52.234291076660156,
          2.826655864715576,
          24.9595947265625,
          -73.01683044433594,
          18.429384231567383,
          27.611103057861328,
          -58.25442886352539,
          55.75082015991211,
          2.7252378463745117,
          -57.70411682128906,
          18.490880966186523,
          -47.85617446899414,
          -28.17036247253418,
          -30.15182113647461,
          -36.696441650390625,
          -76.32054138183594,
          -19.039268493652344,
          -24.633628845214844,
          16.786033630371094,
          -84.44621276855469,
          -51.49124526977539,
          -34.68942642211914,
          46.67384338378906,
          -19.608863830566406,
          -71.3989486694336,
          -56.8745002746582,
          55.52279281616211,
          -6.084103107452393,
          -2.144379138946533,
          76.7646713256836,
          66.52043914794922,
          -30.076749801635742,
          28.598337173461914,
          -8.847420692443848,
          65.50554656982422,
          46.87565612792969,
          70.37832641601562,
          45.37477111816406,
          -80.25625610351562,
          -41.17564392089844,
          -83.02342987060547,
          -82.02189636230469,
          10.597513198852539,
          72.05843353271484,
          -23.33026885986328,
          -13.76473331451416,
          -88.46861267089844,
          30.425228118896484,
          77.13970947265625,
          58.13104248046875,
          -67.48792266845703,
          70.28684997558594,
          -69.08828735351562,
          63.558841705322266,
          -43.47233200073242,
          -5.162399768829346,
          -88.21923828125,
          367.8202819824219,
          15.38506031036377,
          61.42850875854492,
          -50.91730499267578,
          22.88055992126465,
          -14.860828399658203,
          -36.12992858886719,
          69.17640686035156,
          -94.21550750732422,
          -72.30013275146484,
          31.82399559020996,
          0.49790656566619873,
          1.5665922164916992,
          -9.53049373626709,
          -11.84969711303711,
          9.16152572631836,
          63.671226501464844,
          -61.651397705078125,
          -26.467479705810547,
          68.20600128173828,
          39.08989334106445,
          -85.9410400390625,
          10.141088485717773,
          -36.757652282714844,
          58.499969482421875,
          18.366886138916016,
          62.56158447265625,
          -3.1665735244750977,
          19.072792053222656,
          21.009729385375977,
          55.006309509277344,
          -17.637187957763672,
          50.38330841064453,
          -12.340751647949219,
          46.887107849121094,
          37.213539123535156,
          -38.04193878173828,
          -28.238786697387695,
          43.206546783447266,
          -850.7069091796875,
          -129.53758239746094,
          -17.11516571044922,
          -38.81170654296875,
          30.14568519592285,
          -79.76300811767578,
          68.24739074707031,
          39.35214614868164,
          63.708309173583984,
          -71.67486572265625,
          -87.34630584716797,
          1.19621741771698,
          -90.91189575195312,
          16.342317581176758,
          73.31166076660156,
          55.07296371459961,
          -18.0922794342041,
          58.39038848876953,
          49.26948547363281,
          29.076709747314453,
          56.385597229003906,
          -22.204795837402344,
          -12.230025291442871,
          49.72452163696289,
          53.25054168701172,
          68.50426483154297,
          10.237281799316406,
          -31.146242141723633,
          -43.966957092285156,
          -45.329132080078125,
          76.92759704589844,
          -21.630996704101562,
          4.409858226776123,
          -47.216793060302734,
          71.11785888671875,
          -87.71407318115234,
          -95.19261932373047,
          58.88225555419922,
          -5.565510272979736
         ],
         "y": [
          53.548583984375,
          21.231124877929688,
          6.27486515045166,
          -16.987621307373047,
          36.86092758178711,
          -18.699434280395508,
          35.32623291015625,
          28.89225196838379,
          -6.274639129638672,
          30.066728591918945,
          -4.638588905334473,
          18.303810119628906,
          70.51061248779297,
          -6.10258674621582,
          4.796324729919434,
          56.90854263305664,
          55.73684310913086,
          26.932769775390625,
          38.326927185058594,
          -0.16802653670310974,
          47.22282409667969,
          35.60457992553711,
          -9.601051330566406,
          29.303651809692383,
          14.525368690490723,
          48.77980422973633,
          53.77163314819336,
          37.136409759521484,
          33.00956726074219,
          9.863079071044922,
          6.105510711669922,
          65.41158294677734,
          55.328819274902344,
          4.401005744934082,
          21.657958984375,
          12.007706642150879,
          43.35983657836914,
          45.66987609863281,
          -37.77519607543945,
          39.617088317871094,
          32.328895568847656,
          -28.537965774536133,
          -3.319483995437622,
          21.726715087890625,
          13.489201545715332,
          48.109535217285156,
          -26.65097999572754,
          -8.731767654418945,
          2.2687909603118896,
          37.52901840209961,
          68.40337371826172,
          -72.57892608642578,
          52.70424270629883,
          59.2535514831543,
          -0.9493322372436523,
          -17.211523056030273,
          -3.1411733627319336,
          45.249881744384766,
          5.144723892211914,
          45.201698303222656,
          7.4411163330078125,
          -18.38182830810547,
          59.300621032714844,
          -43.59833526611328,
          32.391910552978516,
          -35.86437225341797,
          14.146796226501465,
          24.473526000976562,
          1.8603519201278687,
          -39.69889450073242,
          16.165987014770508,
          -38.299964904785156,
          30.26572608947754,
          1.0549159049987793,
          28.5699405670166,
          29.939620971679688,
          -14.267409324645996,
          61.216590881347656,
          47.892478942871094,
          12.338263511657715,
          33.799713134765625,
          15.9990873336792,
          -8.325469970703125,
          4.425692081451416,
          29.56034278869629,
          10.58407974243164,
          52.29935073852539,
          23.70907974243164,
          -15.532347679138184,
          19.762954711914062,
          33.22246551513672,
          45.254180908203125,
          -3.423389434814453,
          -13.285184860229492,
          16.731204986572266,
          -5.2409563064575195,
          35.54960632324219,
          -9.240296363830566,
          36.83974075317383,
          -22.168256759643555,
          33.66543960571289,
          -14.779112815856934,
          42.41653060913086,
          -7.754238128662109,
          4.136282444000244,
          11.622429847717285,
          34.428993225097656,
          10.117707252502441,
          207.40872192382812,
          38.7796516418457,
          15.083847999572754,
          61.43464660644531,
          23.00650978088379,
          51.68136978149414,
          19.96614646911621,
          24.237003326416016,
          -7.3075852394104,
          62.86991500854492,
          60.539546966552734,
          14.690564155578613,
          44.96856689453125,
          41.21210479736328,
          -3.774831533432007,
          -0.6668005585670471,
          7.415981769561768,
          10.908547401428223,
          -26.23404312133789,
          -1.2587939500808716,
          27.148786544799805,
          -3.059626579284668,
          22.12390899658203,
          7.946434497833252,
          19.321605682373047,
          17.328184127807617,
          3.361855983734131,
          7.202169418334961,
          41.564064025878906,
          49.40390396118164,
          -31.931167602539062,
          42.670143127441406,
          -10.862077713012695,
          66.07136535644531,
          -28.658185958862305,
          51.73229217529297,
          -4.774224281311035,
          -24.10699462890625,
          -0.3361659646034241
         ],
         "z": [
          -34.00815200805664,
          -52.94532012939453,
          -64.55437469482422,
          -67.81572723388672,
          -67.41841888427734,
          -37.608577728271484,
          -27.17903709411621,
          -39.001434326171875,
          -51.408817291259766,
          -62.915679931640625,
          -43.16245651245117,
          -11.88840389251709,
          -13.498372077941895,
          -56.15685272216797,
          -69.84117889404297,
          26.201757431030273,
          -60.49885559082031,
          -54.261390686035156,
          -12.109357833862305,
          -76.16252136230469,
          -53.04158401489258,
          -26.113733291625977,
          -66.7403793334961,
          -16.49322509765625,
          -17.70427131652832,
          -16.206289291381836,
          -3.524325370788574,
          -14.06194019317627,
          -12.12890911102295,
          -44.7844123840332,
          -53.57197189331055,
          20.316192626953125,
          -8.903499603271484,
          -56.42643737792969,
          -55.23237609863281,
          -60.37697219848633,
          9.811899185180664,
          2.347508192062378,
          -72.56961059570312,
          -34.55733108520508,
          -53.84432601928711,
          -79.70982360839844,
          -50.19059371948242,
          -30.66623878479004,
          -36.96280288696289,
          -61.69462585449219,
          -67.95503997802734,
          33.69451904296875,
          -35.31168746948242,
          -55.52067947387695,
          4.805131435394287,
          -32.76434326171875,
          5.958442687988281,
          34.14002990722656,
          -79.0831069946289,
          -57.34006118774414,
          -39.63290023803711,
          -21.246013641357422,
          1.5035678148269653,
          -61.98198699951172,
          -46.81722640991211,
          -25.508506774902344,
          6.163017749786377,
          -76.751708984375,
          -1.3612042665481567,
          -86.77859497070312,
          -18.69329071044922,
          -34.34842300415039,
          -19.73052406311035,
          595.5916748046875,
          -76.48237609863281,
          -57.035499572753906,
          -1.2958790063858032,
          -41.558563232421875,
          -25.947566986083984,
          -8.598331451416016,
          -76.47811889648438,
          7.887070178985596,
          -4.428353309631348,
          -52.453006744384766,
          -88.86827087402344,
          -73.07967376708984,
          -64.71875,
          -49.02873992919922,
          -76.09688568115234,
          -25.995542526245117,
          -19.352632522583008,
          -52.41701126098633,
          -37.20777130126953,
          -28.926939010620117,
          1.5954152345657349,
          -70.1048355102539,
          -44.21552658081055,
          -64.26793670654297,
          -62.623416900634766,
          -23.222599029541016,
          -21.262659072875977,
          -51.58182144165039,
          -71.8309097290039,
          -77.91130065917969,
          -59.53459167480469,
          -36.5804328918457,
          -48.69550323486328,
          -24.207509994506836,
          -29.87336540222168,
          -42.119056701660156,
          -22.102588653564453,
          -41.72368621826172,
          -190.08209228515625,
          -0.00834713689982891,
          -29.292198181152344,
          -16.280149459838867,
          -67.96723937988281,
          -16.57933807373047,
          -38.98966979980469,
          -42.157623291015625,
          32.85335922241211,
          -7.918463706970215,
          -6.236822605133057,
          -58.04637908935547,
          -4.949755668640137,
          -57.09050369262695,
          -66.56404113769531,
          -35.38494873046875,
          -72.98687744140625,
          -44.40279769897461,
          -63.385066986083984,
          -58.24864959716797,
          -45.285518646240234,
          -56.12501907348633,
          -67.69041442871094,
          -24.33856201171875,
          -33.267608642578125,
          -55.769493103027344,
          -65.72016143798828,
          -28.894399642944336,
          -9.366177558898926,
          -22.149621963500977,
          -60.62166213989258,
          -32.717506408691406,
          -69.94742584228516,
          -0.03676672652363777,
          -43.144569396972656,
          21.827499389648438,
          23.5839786529541,
          -52.4308967590332,
          -77.11756896972656
         ]
        },
        {
         "hoverlabel": {
          "namelength": 0
         },
         "hovertemplate": "Cluster=Cluster 1<br>0=%{x}<br>1=%{y}<br>2=%{z}",
         "legendgroup": "Cluster=Cluster 1",
         "marker": {
          "color": "#EF553B",
          "opacity": 0.7,
          "symbol": "circle"
         },
         "mode": "markers",
         "name": "Cluster=Cluster 1",
         "scene": "scene",
         "showlegend": true,
         "type": "scatter3d",
         "x": [
          -1.1501777172088623,
          65.03084564208984,
          -0.4658428430557251,
          28.79244613647461,
          30.3720645904541,
          25.490421295166016,
          6.901125907897949,
          3.931401491165161,
          6.186041355133057,
          8.495144844055176,
          -1.5706626176834106,
          16.405454635620117,
          -17.04817771911621,
          11.973016738891602,
          -15.210165023803711,
          0.26935794949531555,
          -0.6358314752578735,
          14.030447959899902,
          50.726200103759766,
          30.308656692504883,
          47.632450103759766,
          -14.312538146972656,
          23.756975173950195,
          -1.3291786909103394,
          14.67866039276123,
          0.7916407585144043,
          30.307037353515625,
          16.261003494262695,
          -6.212743759155273,
          -65.96593475341797,
          -21.278656005859375,
          -0.5143283605575562,
          22.088930130004883,
          26.527162551879883,
          38.628196716308594,
          2.913694381713867,
          -5.695527076721191,
          23.812152862548828,
          8.81434154510498,
          -2.7668569087982178,
          11.888253211975098,
          41.57969665527344,
          0.3591086268424988,
          23.162052154541016,
          -8.204850196838379,
          6.341986656188965,
          41.7574462890625,
          7.916708469390869,
          27.790924072265625,
          -8.71374797821045,
          3.2137250900268555,
          -4.191323757171631,
          -2.2957425117492676,
          22.507726669311523,
          73.94203186035156,
          10.211837768554688,
          37.95907974243164,
          26.703975677490234,
          32.441104888916016,
          -4.813814163208008,
          24.68290901184082,
          15.356481552124023,
          21.97161293029785,
          11.60299301147461,
          56.13113021850586,
          30.40310287475586,
          -4.777568817138672,
          -5.882748603820801,
          7.393207550048828,
          25.578155517578125,
          57.69700241088867,
          33.164241790771484,
          16.683961868286133,
          3.0855836868286133,
          15.531018257141113,
          57.04430389404297,
          -16.803918838500977,
          26.20383644104004,
          11.458942413330078,
          49.12744140625,
          15.45808219909668,
          12.8422212600708,
          -1.0090322494506836,
          19.005535125732422,
          31.618267059326172,
          10.464118003845215,
          15.259223937988281,
          0.7177658677101135,
          24.009611129760742,
          23.909584045410156,
          14.936561584472656,
          41.877464294433594,
          55.37078094482422,
          54.854801177978516,
          -17.89561653137207,
          -21.539688110351562,
          -10.856216430664062,
          23.282413482666016,
          43.12614059448242,
          12.158458709716797,
          2.325188398361206,
          38.80078125,
          29.66510581970215,
          26.529645919799805,
          23.079801559448242,
          40.5325927734375,
          -5.7398810386657715,
          52.10273742675781,
          40.0986328125,
          12.961417198181152,
          -12.583924293518066,
          6.228911876678467,
          -22.36061668395996,
          37.45038986206055,
          43.366539001464844,
          -8.002861976623535,
          38.15986251831055,
          60.650634765625,
          -11.063728332519531,
          -3.546449899673462,
          30.232223510742188,
          16.63958740234375,
          -58.82829666137695,
          12.959022521972656,
          -0.8444259762763977,
          52.989986419677734,
          45.447410583496094,
          28.14202117919922,
          5.031707763671875,
          8.769371032714844,
          11.004308700561523,
          24.94651222229004,
          30.476009368896484,
          -10.699880599975586,
          33.562862396240234,
          -3.7968976497650146,
          29.938684463500977,
          -25.751766204833984,
          37.698909759521484,
          -13.303376197814941,
          39.50514221191406,
          35.04573440551758,
          8.823348045349121,
          14.288315773010254,
          13.271683692932129,
          19.63308334350586,
          19.197185516357422,
          28.74432945251465,
          -7.9372477531433105,
          11.43947982788086,
          40.17230224609375
         ],
         "y": [
          -27.46431541442871,
          -44.68571853637695,
          -14.225852966308594,
          -69.17473602294922,
          -38.00985336303711,
          -251.2327423095703,
          -90.57841491699219,
          -15.712974548339844,
          -74.99578094482422,
          0.8410325050354004,
          -42.831298828125,
          43.39198684692383,
          -66.74694061279297,
          30.39223861694336,
          -40.006675720214844,
          92.45105743408203,
          -70.1045913696289,
          -88.5122299194336,
          -48.92908477783203,
          -54.02031326293945,
          -31.83308219909668,
          -23.017459869384766,
          -39.909027099609375,
          -23.363155364990234,
          -55.16600036621094,
          -77.02488708496094,
          -44.19036865234375,
          -39.40510940551758,
          -65.54762268066406,
          -0.5737888813018799,
          -72.44168090820312,
          -85.27352905273438,
          4.827876567840576,
          30.139158248901367,
          -60.714420318603516,
          -37.38994216918945,
          -8.729850769042969,
          -2.322319507598877,
          -18.845338821411133,
          22.61052894592285,
          -28.728485107421875,
          -35.01091003417969,
          -56.180397033691406,
          -47.747398376464844,
          -71.8099136352539,
          -2.300004005432129,
          -63.04694366455078,
          -15.23262882232666,
          30.952899932861328,
          -90.78807067871094,
          -53.86404800415039,
          -87.96391296386719,
          21.768157958984375,
          -11.406380653381348,
          -28.59046173095703,
          15.034966468811035,
          -87.88646697998047,
          -68.30596160888672,
          25.054168701171875,
          -80.77647399902344,
          -90.30231475830078,
          -11.951394081115723,
          -24.797767639160156,
          -96.16426086425781,
          -60.61757278442383,
          -25.165254592895508,
          8.615034103393555,
          -34.150203704833984,
          -56.63315963745117,
          -92.11068725585938,
          -62.625404357910156,
          -65.55416870117188,
          -76.3740463256836,
          -42.860267639160156,
          -59.479957580566406,
          -28.63050079345703,
          -28.754745483398438,
          -47.33980178833008,
          8.37514877319336,
          -63.394527435302734,
          -46.47758102416992,
          37.9569206237793,
          -0.8751596212387085,
          29.040756225585938,
          -37.220760345458984,
          -33.532989501953125,
          -81.31017303466797,
          -64.08197021484375,
          -24.4021053314209,
          -78.7913589477539,
          -65.87409210205078,
          -26.419736862182617,
          -45.86177062988281,
          -53.981834411621094,
          -81.63456726074219,
          -59.234291076660156,
          -19.68086814880371,
          -58.4283447265625,
          -46.559391021728516,
          -19.01611328125,
          35.851806640625,
          -41.21257400512695,
          -76.16297912597656,
          -53.58320617675781,
          -24.251720428466797,
          -71.38812255859375,
          -56.58622360229492,
          -41.40339660644531,
          -57.093135833740234,
          116.86653137207031,
          -36.9821891784668,
          -16.292774200439453,
          -67.90544128417969,
          -53.809654235839844,
          -74.28034210205078,
          -10.587725639343262,
          -84.32524108886719,
          -42.60197067260742,
          -56.93472671508789,
          -19.28941535949707,
          -42.177757263183594,
          -12.949877738952637,
          -2.856069803237915,
          -59.25102233886719,
          -29.137155532836914,
          -35.33226013183594,
          -44.470787048339844,
          -32.284950256347656,
          9.69370174407959,
          -26.094303131103516,
          -30.625839233398438,
          -27.77846908569336,
          -18.25959014892578,
          6.104615688323975,
          -69.84770965576172,
          -32.26228332519531,
          -12.6747407913208,
          -52.45412063598633,
          -35.0169792175293,
          -77.99468231201172,
          -22.658437728881836,
          -40.86297607421875,
          -35.864620208740234,
          26.31884002685547,
          -29.60264778137207,
          11.312990188598633,
          -37.15024185180664,
          38.40083694458008,
          -16.028383255004883,
          -3.778414249420166,
          -50.22932052612305
         ],
         "z": [
          -11.743305206298828,
          29.95296287536621,
          71.74475860595703,
          20.29653549194336,
          59.93574905395508,
          58.30586624145508,
          -19.074655532836914,
          -4.87869930267334,
          -5.798765182495117,
          68.25667572021484,
          -12.510769844055176,
          98.18260955810547,
          -23.549535751342773,
          107.32026672363281,
          -14.207077026367188,
          50.27542495727539,
          -33.536155700683594,
          -6.752896785736084,
          31.76561737060547,
          21.92844581604004,
          -6.135168552398682,
          -2.9029181003570557,
          -44.0276985168457,
          98.13042449951172,
          14.651280403137207,
          -20.341365814208984,
          8.068405151367188,
          11.604900360107422,
          2.4971439838409424,
          -42.42204284667969,
          4.5038886070251465,
          -33.40590286254883,
          69.50177001953125,
          100.06377410888672,
          50.02870559692383,
          16.031721115112305,
          97.34255981445312,
          81.7732925415039,
          -20.624040603637695,
          103.8746337890625,
          -4.524716377258301,
          11.260481834411621,
          -24.28568458557129,
          -73.60784912109375,
          -10.148449897766113,
          106.68578338623047,
          23.58502960205078,
          59.993892669677734,
          74.18524169921875,
          -21.91744041442871,
          21.84670639038086,
          -8.291155815124512,
          88.19429016113281,
          57.90513610839844,
          60.76630401611328,
          110.85797882080078,
          -27.974567413330078,
          47.84121322631836,
          85.16712188720703,
          3.2358925342559814,
          -22.27483367919922,
          72.98868560791016,
          -15.818860054016113,
          -31.63019371032715,
          25.35007667541504,
          14.240793228149414,
          108.90377807617188,
          -25.8709716796875,
          37.06822967529297,
          -36.72854995727539,
          -5.164308071136475,
          -38.2979736328125,
          -16.73198127746582,
          31.629762649536133,
          51.592567443847656,
          8.364078521728516,
          -16.45524787902832,
          50.854942321777344,
          81.56082916259766,
          39.11276626586914,
          26.55280113220215,
          84.17060089111328,
          83.56988525390625,
          129.682373046875,
          21.97331428527832,
          -20.28319549560547,
          -31.175430297851562,
          -13.180721282958984,
          80.10924530029297,
          -42.39060974121094,
          25.81365394592285,
          -2.5215301513671875,
          13.742814064025879,
          53.078556060791016,
          -10.3792724609375,
          2.27113676071167,
          87.45468139648438,
          34.62419509887695,
          20.69379997253418,
          6.849814414978027,
          96.2433090209961,
          -2.986485481262207,
          -27.938617706298828,
          62.74226760864258,
          64.94657897949219,
          -47.44549560546875,
          33.16746139526367,
          58.93171310424805,
          10.497448921203613,
          37.249656677246094,
          -3.0373475551605225,
          85.8090591430664,
          -13.008088111877441,
          35.65980529785156,
          -33.279136657714844,
          -0.04010776802897453,
          -42.254878997802734,
          44.781558990478516,
          -8.654765129089355,
          11.413928985595703,
          84.12903594970703,
          -7.676696300506592,
          -26.43570327758789,
          -63.0367546081543,
          2.240384340286255,
          25.376018524169922,
          47.050392150878906,
          1.907766580581665,
          95.38543701171875,
          73.85321807861328,
          59.67382049560547,
          49.68926239013672,
          0.9420914053916931,
          93.9598388671875,
          34.473960876464844,
          85.65828704833984,
          71.50611114501953,
          -13.551158905029297,
          73.16569519042969,
          -24.911191940307617,
          64.39632415771484,
          -30.471586227416992,
          92.32391357421875,
          92.39297485351562,
          20.858182907104492,
          99.7510757446289,
          72.2872543334961,
          86.89681243896484,
          -15.568814277648926,
          91.75267791748047,
          61.88373947143555
         ]
        },
        {
         "hoverlabel": {
          "namelength": 0
         },
         "hovertemplate": "Cluster=Cluster 2<br>0=%{x}<br>1=%{y}<br>2=%{z}",
         "legendgroup": "Cluster=Cluster 2",
         "marker": {
          "color": "#00cc96",
          "opacity": 0.7,
          "symbol": "circle"
         },
         "mode": "markers",
         "name": "Cluster=Cluster 2",
         "scene": "scene",
         "showlegend": true,
         "type": "scatter3d",
         "x": [
          -33.80732727050781,
          43.69004821777344,
          -33.142860412597656,
          22.796894073486328,
          -67.89737701416016,
          57.79985427856445,
          39.31040573120117,
          -20.569969177246094,
          57.37348175048828,
          17.560821533203125,
          20.3892765045166,
          -72.65042114257812,
          -21.05181312561035,
          25.771202087402344,
          11.464457511901855,
          57.06350326538086,
          -18.111770629882812,
          30.540014266967773,
          30.593849182128906,
          -23.312528610229492,
          -69.29685974121094,
          -14.717045783996582,
          -48.89737319946289,
          45.39104461669922,
          43.32200241088867,
          0.9793381690979004,
          74.45037078857422,
          -42.589332580566406,
          -59.92988204956055,
          -43.471988677978516,
          36.27863693237305,
          -68.40821838378906,
          -82.0010757446289,
          -38.627254486083984,
          1.6737093925476074,
          2.9760406017303467,
          -44.06576156616211,
          29.024742126464844,
          -45.7700080871582,
          1.7572611570358276,
          66.20416259765625,
          80.40653228759766,
          15.476950645446777,
          -22.40497589111328,
          7.66556453704834,
          -53.088478088378906,
          55.041019439697266,
          -63.509490966796875,
          41.89642333984375,
          -13.734588623046875,
          -7.281209468841553,
          -66.19705200195312,
          3.611949920654297,
          -8.58681583404541,
          8.71999740600586,
          19.837276458740234,
          12.585836410522461,
          14.206335067749023,
          27.84515953063965,
          21.488008499145508,
          28.6419677734375,
          -60.59253692626953,
          -51.053955078125,
          17.46995735168457,
          51.052616119384766,
          20.6932430267334,
          -51.512451171875,
          46.39208984375,
          -43.687843322753906,
          -50.45977020263672,
          62.32538986206055,
          -30.18792724609375,
          46.956912994384766,
          -61.127655029296875,
          15.878902435302734,
          -34.75545120239258,
          -20.782604217529297,
          -23.515588760375977,
          31.340368270874023,
          -54.100704193115234,
          -26.15209197998047,
          -29.1224422454834,
          -50.114200592041016,
          0.12643712759017944,
          7.702725410461426,
          -46.84075164794922,
          -44.08230972290039,
          81.61161804199219,
          28.19944190979004,
          49.433101654052734,
          6.554582595825195,
          -449.0340576171875,
          14.02348518371582,
          36.28839111328125,
          -41.780452728271484,
          -13.937821388244629,
          -27.04458236694336,
          25.788860321044922,
          53.68480682373047,
          28.883182525634766,
          39.89622116088867,
          15.716645240783691,
          -35.22021484375,
          -58.14168930053711,
          -10.374073028564453,
          -47.74968338012695,
          -25.24803924560547,
          -27.704158782958984,
          41.13858413696289,
          -26.67893409729004,
          -25.011396408081055,
          51.59841537475586,
          47.082176208496094,
          -9.803729057312012,
          4.220637321472168,
          -38.72610092163086,
          10.277761459350586,
          -13.524982452392578,
          -33.36508560180664,
          31.539127349853516,
          -58.5914421081543,
          -67.25988006591797,
          4.787530422210693,
          41.785316467285156,
          43.67606735229492,
          14.278645515441895,
          -53.081634521484375,
          -55.40909194946289,
          5.631625652313232,
          -59.0460319519043,
          54.08323287963867,
          35.801429748535156,
          -62.6171989440918,
          19.157588958740234,
          -41.137638092041016,
          -57.94124984741211,
          39.27360153198242,
          14.824917793273926,
          -51.38157272338867,
          -19.175369262695312,
          -10.401044845581055,
          14.645910263061523,
          10.8406982421875,
          -38.14624786376953,
          -48.82754135131836,
          79.43516540527344,
          -31.53554916381836,
          -44.07734680175781,
          -41.357421875,
          53.265106201171875,
          -47.6300163269043,
          38.63170623779297,
          48.82548141479492,
          23.02928924560547,
          46.04478073120117,
          23.479005813598633,
          -16.338298797607422
         ],
         "y": [
          25.468067169189453,
          71.39908599853516,
          -38.531185150146484,
          63.10700988769531,
          -8.078752517700195,
          48.77175521850586,
          62.34491729736328,
          22.218425750732422,
          63.00132751464844,
          57.22804260253906,
          98.39009094238281,
          -25.224477767944336,
          37.51808547973633,
          38.037132263183594,
          50.908050537109375,
          27.89631462097168,
          1.0403186082839966,
          23.710899353027344,
          17.050321578979492,
          49.85459518432617,
          -33.54066467285156,
          -29.02726936340332,
          -34.720001220703125,
          17.22476577758789,
          40.94865417480469,
          93.24151611328125,
          43.878639221191406,
          -27.173891067504883,
          12.893508911132812,
          37.759010314941406,
          52.54999542236328,
          -17.4938907623291,
          -18.248655319213867,
          -24.019140243530273,
          17.354007720947266,
          15.760993957519531,
          -50.6658935546875,
          43.63763427734375,
          -27.10523223876953,
          75.99102783203125,
          12.304008483886719,
          -12.2774076461792,
          -69.50325012207031,
          38.63511657714844,
          60.8514404296875,
          -7.535076141357422,
          40.586307525634766,
          -38.85441207885742,
          23.657188415527344,
          20.9999942779541,
          25.321260452270508,
          10.105965614318848,
          65.41854858398438,
          5.958796501159668,
          29.331308364868164,
          83.81826782226562,
          102.72954559326172,
          48.7331657409668,
          67.77462005615234,
          34.23443603515625,
          30.10487174987793,
          -46.15830612182617,
          24.46788215637207,
          22.43646240234375,
          51.09334182739258,
          53.0118293762207,
          -29.808996200561523,
          54.31820297241211,
          -43.72793960571289,
          9.739018440246582,
          52.18977355957031,
          64.10115051269531,
          62.78264236450195,
          -4.48064661026001,
          70.83380126953125,
          -32.37096405029297,
          -36.4163932800293,
          -22.464941024780273,
          5.098374366760254,
          -52.74518585205078,
          57.262908935546875,
          37.05161666870117,
          8.333353996276855,
          44.68531799316406,
          35.00048828125,
          -4.435279369354248,
          -9.595964431762695,
          -32.067970275878906,
          76.79925537109375,
          32.530059814453125,
          91.19869232177734,
          84.89965057373047,
          86.73782348632812,
          31.72997283935547,
          23.704269409179688,
          35.69738006591797,
          24.44282341003418,
          94.1479721069336,
          11.597938537597656,
          108.19339752197266,
          16.772916793823242,
          22.590044021606445,
          38.191070556640625,
          -27.976110458374023,
          10.909001350402832,
          9.074548721313477,
          66.30138397216797,
          -25.686344146728516,
          32.496925354003906,
          -39.86709213256836,
          10.944293975830078,
          12.390829086303711,
          62.468101501464844,
          -80.07239532470703,
          80.1840591430664,
          37.94915771484375,
          94.4568099975586,
          57.35844802856445,
          6.502005100250244,
          94.44629669189453,
          -15.282342910766602,
          -12.345270156860352,
          44.11281204223633,
          94.96208953857422,
          2.872795581817627,
          73.54154205322266,
          31.158267974853516,
          18.465850830078125,
          31.32483673095703,
          -21.65305519104004,
          24.092212677001953,
          48.87113952636719,
          15.465240478515625,
          16.033071517944336,
          -2.869364023208618,
          3.0703964233398438,
          44.810604095458984,
          72.75978088378906,
          -14.596932411193848,
          -72.29778289794922,
          46.061798095703125,
          8.550675392150879,
          61.73087692260742,
          49.234642028808594,
          22.73339080810547,
          31.15686798095703,
          -48.05244827270508,
          9.558425903320312,
          23.758148193359375,
          65.81098175048828,
          -40.32741928100586,
          107.0640869140625,
          26.42805290222168,
          105.3875961303711,
          38.99595260620117,
          86.30146026611328,
          15.013650894165039
         ],
         "z": [
          31.476892471313477,
          20.045089721679688,
          23.78207778930664,
          3.8869709968566895,
          36.10196304321289,
          23.900848388671875,
          1.7203174829483032,
          26.137184143066406,
          18.07562255859375,
          -18.42422866821289,
          5.676286220550537,
          42.158329010009766,
          21.35167694091797,
          47.05303192138672,
          50.51242446899414,
          25.423160552978516,
          48.948326110839844,
          44.14311981201172,
          31.115673065185547,
          30.058420181274414,
          27.854963302612305,
          50.3546257019043,
          30.54970359802246,
          34.82939147949219,
          -8.533158302307129,
          -6.194681644439697,
          -19.92605209350586,
          80.72887420654297,
          24.800865173339844,
          35.17387771606445,
          -12.531962394714355,
          23.507061004638672,
          4.321238994598389,
          22.197265625,
          31.213125228881836,
          16.652555465698242,
          28.24643325805664,
          27.73508644104004,
          9.972352027893066,
          -1.4167671203613281,
          8.457132339477539,
          4.327396392822266,
          79.00202178955078,
          48.78220748901367,
          -3.059870958328247,
          39.07770538330078,
          11.595806121826172,
          40.8415412902832,
          22.97359848022461,
          38.591896057128906,
          21.30916404724121,
          40.774658203125,
          -16.51828384399414,
          37.900150299072266,
          17.767011642456055,
          -17.097877502441406,
          -6.383312225341797,
          36.55253219604492,
          -11.258641242980957,
          34.774932861328125,
          21.325313568115234,
          26.877649307250977,
          31.699129104614258,
          28.291942596435547,
          -1.4866331815719604,
          -5.291567802429199,
          53.364749908447266,
          13.173919677734375,
          42.927249908447266,
          63.81373596191406,
          8.12021255493164,
          -103.47109985351562,
          31.572601318359375,
          22.57377815246582,
          -23.61522102355957,
          38.97783660888672,
          36.947452545166016,
          38.474700927734375,
          17.584484100341797,
          38.84018325805664,
          46.36199188232422,
          37.217559814453125,
          36.47601318359375,
          38.43348693847656,
          45.71638488769531,
          58.89558792114258,
          10.888838768005371,
          -1.9497456550598145,
          1.4539008140563965,
          38.28765106201172,
          8.018033981323242,
          37.501220703125,
          -3.1836371421813965,
          33.81968307495117,
          43.53575897216797,
          33.756446838378906,
          46.28935623168945,
          -7.6585869789123535,
          2.3607523441314697,
          -6.086905002593994,
          9.012357711791992,
          42.7377815246582,
          24.112882614135742,
          19.683849334716797,
          23.735183715820312,
          18.03362274169922,
          36.03722381591797,
          52.226768493652344,
          11.485390663146973,
          49.733909606933594,
          39.35932159423828,
          20.036684036254883,
          -10.477866172790527,
          38.156864166259766,
          -16.563142776489258,
          49.97452163696289,
          -20.134689331054688,
          38.31032180786133,
          60.60355758666992,
          -24.803003311157227,
          11.42715835571289,
          56.49407196044922,
          24.746065139770508,
          -13.621719360351562,
          12.014925003051758,
          8.46603775024414,
          50.031280517578125,
          45.39457702636719,
          32.04762649536133,
          35.24230194091797,
          12.513517379760742,
          2.319136381149292,
          57.52324295043945,
          15.287946701049805,
          23.713895797729492,
          50.90378189086914,
          39.416439056396484,
          -7.750642776489258,
          25.094451904296875,
          54.059268951416016,
          24.197988510131836,
          27.876401901245117,
          41.9642448425293,
          40.32398986816406,
          137.97030639648438,
          -9.068716049194336,
          35.95624923706055,
          50.131805419921875,
          57.61875534057617,
          3.5596532821655273,
          16.61494255065918,
          -19.11669921875,
          -0.11128300428390503,
          -19.34973907470703,
          24.131813049316406,
          21.955507278442383,
          51.94477462768555
         ]
        },
        {
         "hoverlabel": {
          "namelength": 0
         },
         "hovertemplate": "Cluster=Cluster 3<br>0=%{x}<br>1=%{y}<br>2=%{z}",
         "legendgroup": "Cluster=Cluster 3",
         "marker": {
          "color": "#ab63fa",
          "opacity": 0.7,
          "symbol": "circle"
         },
         "mode": "markers",
         "name": "Cluster=Cluster 3",
         "scene": "scene",
         "showlegend": true,
         "type": "scatter3d",
         "x": [
          -22.84542465209961,
          -25.00677490234375,
          -67.13179016113281,
          -75.22850036621094,
          -25.97054672241211,
          -13.365705490112305,
          -64.08570861816406,
          -64.18449401855469,
          39.874229431152344,
          -61.90917205810547,
          -32.6700553894043,
          -30.877283096313477,
          -41.94884490966797,
          -41.3178596496582,
          -87.83760070800781,
          -16.14165496826172,
          -51.29302978515625,
          -64.34133911132812,
          -81.70291137695312,
          17.052404403686523,
          -41.89935302734375,
          -68.17481231689453,
          -24.770008087158203,
          -55.54417037963867,
          -27.71735954284668,
          -37.67441940307617,
          -70.70587921142578,
          -34.75648498535156,
          -46.94065856933594,
          -51.59465408325195,
          -26.43498992919922,
          -77.04618072509766,
          -17.433637619018555,
          -18.525915145874023,
          -87.28773498535156,
          -27.615272521972656,
          -42.14512634277344,
          -18.121826171875,
          -73.43938446044922,
          -36.313934326171875,
          -55.71672439575195,
          51.526065826416016,
          -23.875267028808594,
          -10.972837448120117,
          -46.80302810668945,
          -78.92329406738281,
          -56.46102523803711,
          -40.74827194213867,
          -75.46226501464844,
          -39.28550338745117
         ],
         "y": [
          -41.72598648071289,
          -29.982202529907227,
          -31.568307876586914,
          -41.817134857177734,
          -52.931583404541016,
          -48.0081901550293,
          -32.42997360229492,
          -42.7218132019043,
          112.6478271484375,
          -53.97098159790039,
          -25.761884689331055,
          -40.572364807128906,
          -54.87166213989258,
          -33.62580108642578,
          -46.91063690185547,
          -53.09908676147461,
          -50.981571197509766,
          -57.601280212402344,
          -32.58325958251953,
          12.977723121643066,
          -38.24069595336914,
          -53.41717529296875,
          -37.53761672973633,
          -40.58582305908203,
          -53.736793518066406,
          -45.04750442504883,
          -43.863304138183594,
          -42.785240173339844,
          -31.92465591430664,
          -41.02149963378906,
          -26.565715789794922,
          -57.775306701660156,
          -31.034788131713867,
          -83.54007720947266,
          -40.972412109375,
          -55.298336029052734,
          -50.28338623046875,
          -43.682857513427734,
          -30.128957748413086,
          -45.892520904541016,
          -45.56322479248047,
          4.213468074798584,
          -38.70888900756836,
          -32.40986633300781,
          -34.88270568847656,
          -54.840675354003906,
          -30.26114273071289,
          10.17900276184082,
          -44.846046447753906,
          -28.90181541442871
         ],
         "z": [
          -105.04459381103516,
          -65.23040008544922,
          -19.20009422302246,
          -42.850669860839844,
          -54.51401901245117,
          -83.55735778808594,
          -45.70520782470703,
          -31.92900848388672,
          -79.54881286621094,
          -19.09506607055664,
          -80.7548599243164,
          -76.78211975097656,
          -57.872947692871094,
          -91.63235473632812,
          -14.703337669372559,
          -20.2645320892334,
          -30.88780975341797,
          -34.45456314086914,
          -18.67206573486328,
          -134.78955078125,
          -31.236881256103516,
          -50.073211669921875,
          -52.02693557739258,
          -19.130874633789062,
          -87.95597839355469,
          -45.37247085571289,
          -10.627689361572266,
          -63.09020233154297,
          -46.48902130126953,
          -58.08216094970703,
          -99.3749771118164,
          -18.87759780883789,
          -77.64015197753906,
          -141.91189575195312,
          -30.799470901489258,
          -70.87403869628906,
          -75.8049545288086,
          -66.75796508789062,
          -33.06611251831055,
          -98.70329284667969,
          -44.07320022583008,
          60.48139953613281,
          -89.46964263916016,
          -99.6051025390625,
          -71.2398910522461,
          -36.329017639160156,
          -31.411466598510742,
          102.75243377685547,
          -24.224851608276367,
          -59.71626663208008
         ]
        }
       ],
       "layout": {
        "height": 800,
        "legend": {
         "tracegroupgap": 0
        },
        "scene": {
         "domain": {
          "x": [
           0,
           1
          ],
          "y": [
           0,
           1
          ]
         },
         "xaxis": {
          "title": {
           "text": "0"
          }
         },
         "yaxis": {
          "title": {
           "text": "1"
          }
         },
         "zaxis": {
          "title": {
           "text": "2"
          }
         }
        },
        "template": {
         "data": {
          "bar": [
           {
            "error_x": {
             "color": "#2a3f5f"
            },
            "error_y": {
             "color": "#2a3f5f"
            },
            "marker": {
             "line": {
              "color": "#E5ECF6",
              "width": 0.5
             }
            },
            "type": "bar"
           }
          ],
          "barpolar": [
           {
            "marker": {
             "line": {
              "color": "#E5ECF6",
              "width": 0.5
             }
            },
            "type": "barpolar"
           }
          ],
          "carpet": [
           {
            "aaxis": {
             "endlinecolor": "#2a3f5f",
             "gridcolor": "white",
             "linecolor": "white",
             "minorgridcolor": "white",
             "startlinecolor": "#2a3f5f"
            },
            "baxis": {
             "endlinecolor": "#2a3f5f",
             "gridcolor": "white",
             "linecolor": "white",
             "minorgridcolor": "white",
             "startlinecolor": "#2a3f5f"
            },
            "type": "carpet"
           }
          ],
          "choropleth": [
           {
            "colorbar": {
             "outlinewidth": 0,
             "ticks": ""
            },
            "type": "choropleth"
           }
          ],
          "contour": [
           {
            "colorbar": {
             "outlinewidth": 0,
             "ticks": ""
            },
            "colorscale": [
             [
              0,
              "#0d0887"
             ],
             [
              0.1111111111111111,
              "#46039f"
             ],
             [
              0.2222222222222222,
              "#7201a8"
             ],
             [
              0.3333333333333333,
              "#9c179e"
             ],
             [
              0.4444444444444444,
              "#bd3786"
             ],
             [
              0.5555555555555556,
              "#d8576b"
             ],
             [
              0.6666666666666666,
              "#ed7953"
             ],
             [
              0.7777777777777778,
              "#fb9f3a"
             ],
             [
              0.8888888888888888,
              "#fdca26"
             ],
             [
              1,
              "#f0f921"
             ]
            ],
            "type": "contour"
           }
          ],
          "contourcarpet": [
           {
            "colorbar": {
             "outlinewidth": 0,
             "ticks": ""
            },
            "type": "contourcarpet"
           }
          ],
          "heatmap": [
           {
            "colorbar": {
             "outlinewidth": 0,
             "ticks": ""
            },
            "colorscale": [
             [
              0,
              "#0d0887"
             ],
             [
              0.1111111111111111,
              "#46039f"
             ],
             [
              0.2222222222222222,
              "#7201a8"
             ],
             [
              0.3333333333333333,
              "#9c179e"
             ],
             [
              0.4444444444444444,
              "#bd3786"
             ],
             [
              0.5555555555555556,
              "#d8576b"
             ],
             [
              0.6666666666666666,
              "#ed7953"
             ],
             [
              0.7777777777777778,
              "#fb9f3a"
             ],
             [
              0.8888888888888888,
              "#fdca26"
             ],
             [
              1,
              "#f0f921"
             ]
            ],
            "type": "heatmap"
           }
          ],
          "heatmapgl": [
           {
            "colorbar": {
             "outlinewidth": 0,
             "ticks": ""
            },
            "colorscale": [
             [
              0,
              "#0d0887"
             ],
             [
              0.1111111111111111,
              "#46039f"
             ],
             [
              0.2222222222222222,
              "#7201a8"
             ],
             [
              0.3333333333333333,
              "#9c179e"
             ],
             [
              0.4444444444444444,
              "#bd3786"
             ],
             [
              0.5555555555555556,
              "#d8576b"
             ],
             [
              0.6666666666666666,
              "#ed7953"
             ],
             [
              0.7777777777777778,
              "#fb9f3a"
             ],
             [
              0.8888888888888888,
              "#fdca26"
             ],
             [
              1,
              "#f0f921"
             ]
            ],
            "type": "heatmapgl"
           }
          ],
          "histogram": [
           {
            "marker": {
             "colorbar": {
              "outlinewidth": 0,
              "ticks": ""
             }
            },
            "type": "histogram"
           }
          ],
          "histogram2d": [
           {
            "colorbar": {
             "outlinewidth": 0,
             "ticks": ""
            },
            "colorscale": [
             [
              0,
              "#0d0887"
             ],
             [
              0.1111111111111111,
              "#46039f"
             ],
             [
              0.2222222222222222,
              "#7201a8"
             ],
             [
              0.3333333333333333,
              "#9c179e"
             ],
             [
              0.4444444444444444,
              "#bd3786"
             ],
             [
              0.5555555555555556,
              "#d8576b"
             ],
             [
              0.6666666666666666,
              "#ed7953"
             ],
             [
              0.7777777777777778,
              "#fb9f3a"
             ],
             [
              0.8888888888888888,
              "#fdca26"
             ],
             [
              1,
              "#f0f921"
             ]
            ],
            "type": "histogram2d"
           }
          ],
          "histogram2dcontour": [
           {
            "colorbar": {
             "outlinewidth": 0,
             "ticks": ""
            },
            "colorscale": [
             [
              0,
              "#0d0887"
             ],
             [
              0.1111111111111111,
              "#46039f"
             ],
             [
              0.2222222222222222,
              "#7201a8"
             ],
             [
              0.3333333333333333,
              "#9c179e"
             ],
             [
              0.4444444444444444,
              "#bd3786"
             ],
             [
              0.5555555555555556,
              "#d8576b"
             ],
             [
              0.6666666666666666,
              "#ed7953"
             ],
             [
              0.7777777777777778,
              "#fb9f3a"
             ],
             [
              0.8888888888888888,
              "#fdca26"
             ],
             [
              1,
              "#f0f921"
             ]
            ],
            "type": "histogram2dcontour"
           }
          ],
          "mesh3d": [
           {
            "colorbar": {
             "outlinewidth": 0,
             "ticks": ""
            },
            "type": "mesh3d"
           }
          ],
          "parcoords": [
           {
            "line": {
             "colorbar": {
              "outlinewidth": 0,
              "ticks": ""
             }
            },
            "type": "parcoords"
           }
          ],
          "pie": [
           {
            "automargin": true,
            "type": "pie"
           }
          ],
          "scatter": [
           {
            "marker": {
             "colorbar": {
              "outlinewidth": 0,
              "ticks": ""
             }
            },
            "type": "scatter"
           }
          ],
          "scatter3d": [
           {
            "line": {
             "colorbar": {
              "outlinewidth": 0,
              "ticks": ""
             }
            },
            "marker": {
             "colorbar": {
              "outlinewidth": 0,
              "ticks": ""
             }
            },
            "type": "scatter3d"
           }
          ],
          "scattercarpet": [
           {
            "marker": {
             "colorbar": {
              "outlinewidth": 0,
              "ticks": ""
             }
            },
            "type": "scattercarpet"
           }
          ],
          "scattergeo": [
           {
            "marker": {
             "colorbar": {
              "outlinewidth": 0,
              "ticks": ""
             }
            },
            "type": "scattergeo"
           }
          ],
          "scattergl": [
           {
            "marker": {
             "colorbar": {
              "outlinewidth": 0,
              "ticks": ""
             }
            },
            "type": "scattergl"
           }
          ],
          "scattermapbox": [
           {
            "marker": {
             "colorbar": {
              "outlinewidth": 0,
              "ticks": ""
             }
            },
            "type": "scattermapbox"
           }
          ],
          "scatterpolar": [
           {
            "marker": {
             "colorbar": {
              "outlinewidth": 0,
              "ticks": ""
             }
            },
            "type": "scatterpolar"
           }
          ],
          "scatterpolargl": [
           {
            "marker": {
             "colorbar": {
              "outlinewidth": 0,
              "ticks": ""
             }
            },
            "type": "scatterpolargl"
           }
          ],
          "scatterternary": [
           {
            "marker": {
             "colorbar": {
              "outlinewidth": 0,
              "ticks": ""
             }
            },
            "type": "scatterternary"
           }
          ],
          "surface": [
           {
            "colorbar": {
             "outlinewidth": 0,
             "ticks": ""
            },
            "colorscale": [
             [
              0,
              "#0d0887"
             ],
             [
              0.1111111111111111,
              "#46039f"
             ],
             [
              0.2222222222222222,
              "#7201a8"
             ],
             [
              0.3333333333333333,
              "#9c179e"
             ],
             [
              0.4444444444444444,
              "#bd3786"
             ],
             [
              0.5555555555555556,
              "#d8576b"
             ],
             [
              0.6666666666666666,
              "#ed7953"
             ],
             [
              0.7777777777777778,
              "#fb9f3a"
             ],
             [
              0.8888888888888888,
              "#fdca26"
             ],
             [
              1,
              "#f0f921"
             ]
            ],
            "type": "surface"
           }
          ],
          "table": [
           {
            "cells": {
             "fill": {
              "color": "#EBF0F8"
             },
             "line": {
              "color": "white"
             }
            },
            "header": {
             "fill": {
              "color": "#C8D4E3"
             },
             "line": {
              "color": "white"
             }
            },
            "type": "table"
           }
          ]
         },
         "layout": {
          "annotationdefaults": {
           "arrowcolor": "#2a3f5f",
           "arrowhead": 0,
           "arrowwidth": 1
          },
          "coloraxis": {
           "colorbar": {
            "outlinewidth": 0,
            "ticks": ""
           }
          },
          "colorscale": {
           "diverging": [
            [
             0,
             "#8e0152"
            ],
            [
             0.1,
             "#c51b7d"
            ],
            [
             0.2,
             "#de77ae"
            ],
            [
             0.3,
             "#f1b6da"
            ],
            [
             0.4,
             "#fde0ef"
            ],
            [
             0.5,
             "#f7f7f7"
            ],
            [
             0.6,
             "#e6f5d0"
            ],
            [
             0.7,
             "#b8e186"
            ],
            [
             0.8,
             "#7fbc41"
            ],
            [
             0.9,
             "#4d9221"
            ],
            [
             1,
             "#276419"
            ]
           ],
           "sequential": [
            [
             0,
             "#0d0887"
            ],
            [
             0.1111111111111111,
             "#46039f"
            ],
            [
             0.2222222222222222,
             "#7201a8"
            ],
            [
             0.3333333333333333,
             "#9c179e"
            ],
            [
             0.4444444444444444,
             "#bd3786"
            ],
            [
             0.5555555555555556,
             "#d8576b"
            ],
            [
             0.6666666666666666,
             "#ed7953"
            ],
            [
             0.7777777777777778,
             "#fb9f3a"
            ],
            [
             0.8888888888888888,
             "#fdca26"
            ],
            [
             1,
             "#f0f921"
            ]
           ],
           "sequentialminus": [
            [
             0,
             "#0d0887"
            ],
            [
             0.1111111111111111,
             "#46039f"
            ],
            [
             0.2222222222222222,
             "#7201a8"
            ],
            [
             0.3333333333333333,
             "#9c179e"
            ],
            [
             0.4444444444444444,
             "#bd3786"
            ],
            [
             0.5555555555555556,
             "#d8576b"
            ],
            [
             0.6666666666666666,
             "#ed7953"
            ],
            [
             0.7777777777777778,
             "#fb9f3a"
            ],
            [
             0.8888888888888888,
             "#fdca26"
            ],
            [
             1,
             "#f0f921"
            ]
           ]
          },
          "colorway": [
           "#636efa",
           "#EF553B",
           "#00cc96",
           "#ab63fa",
           "#FFA15A",
           "#19d3f3",
           "#FF6692",
           "#B6E880",
           "#FF97FF",
           "#FECB52"
          ],
          "font": {
           "color": "#2a3f5f"
          },
          "geo": {
           "bgcolor": "white",
           "lakecolor": "white",
           "landcolor": "#E5ECF6",
           "showlakes": true,
           "showland": true,
           "subunitcolor": "white"
          },
          "hoverlabel": {
           "align": "left"
          },
          "hovermode": "closest",
          "mapbox": {
           "style": "light"
          },
          "paper_bgcolor": "white",
          "plot_bgcolor": "#E5ECF6",
          "polar": {
           "angularaxis": {
            "gridcolor": "white",
            "linecolor": "white",
            "ticks": ""
           },
           "bgcolor": "#E5ECF6",
           "radialaxis": {
            "gridcolor": "white",
            "linecolor": "white",
            "ticks": ""
           }
          },
          "scene": {
           "xaxis": {
            "backgroundcolor": "#E5ECF6",
            "gridcolor": "white",
            "gridwidth": 2,
            "linecolor": "white",
            "showbackground": true,
            "ticks": "",
            "zerolinecolor": "white"
           },
           "yaxis": {
            "backgroundcolor": "#E5ECF6",
            "gridcolor": "white",
            "gridwidth": 2,
            "linecolor": "white",
            "showbackground": true,
            "ticks": "",
            "zerolinecolor": "white"
           },
           "zaxis": {
            "backgroundcolor": "#E5ECF6",
            "gridcolor": "white",
            "gridwidth": 2,
            "linecolor": "white",
            "showbackground": true,
            "ticks": "",
            "zerolinecolor": "white"
           }
          },
          "shapedefaults": {
           "line": {
            "color": "#2a3f5f"
           }
          },
          "ternary": {
           "aaxis": {
            "gridcolor": "white",
            "linecolor": "white",
            "ticks": ""
           },
           "baxis": {
            "gridcolor": "white",
            "linecolor": "white",
            "ticks": ""
           },
           "bgcolor": "#E5ECF6",
           "caxis": {
            "gridcolor": "white",
            "linecolor": "white",
            "ticks": ""
           }
          },
          "title": {
           "x": 0.05
          },
          "xaxis": {
           "automargin": true,
           "gridcolor": "white",
           "linecolor": "white",
           "ticks": "",
           "title": {
            "standoff": 15
           },
           "zerolinecolor": "white",
           "zerolinewidth": 2
          },
          "yaxis": {
           "automargin": true,
           "gridcolor": "white",
           "linecolor": "white",
           "ticks": "",
           "title": {
            "standoff": 15
           },
           "zerolinecolor": "white",
           "zerolinewidth": 2
          }
         }
        },
        "title": {
         "text": "3d TSNE Plot for Clusters"
        },
        "width": 900
       }
      },
      "text/html": [
       "<div>\n",
       "        \n",
       "        \n",
       "            <div id=\"59617143-6412-44c6-9a04-83c6b94b4e1c\" class=\"plotly-graph-div\" style=\"height:800px; width:900px;\"></div>\n",
       "            <script type=\"text/javascript\">\n",
       "                require([\"plotly\"], function(Plotly) {\n",
       "                    window.PLOTLYENV=window.PLOTLYENV || {};\n",
       "                    \n",
       "                if (document.getElementById(\"59617143-6412-44c6-9a04-83c6b94b4e1c\")) {\n",
       "                    Plotly.newPlot(\n",
       "                        '59617143-6412-44c6-9a04-83c6b94b4e1c',\n",
       "                        [{\"hoverlabel\": {\"namelength\": 0}, \"hovertemplate\": \"Cluster=Cluster 0<br>0=%{x}<br>1=%{y}<br>2=%{z}\", \"legendgroup\": \"Cluster=Cluster 0\", \"marker\": {\"color\": \"#636efa\", \"opacity\": 0.7, \"symbol\": \"circle\"}, \"mode\": \"markers\", \"name\": \"Cluster=Cluster 0\", \"scene\": \"scene\", \"showlegend\": true, \"type\": \"scatter3d\", \"x\": [-10.203344345092773, -11.435230255126953, -6.314375400543213, 82.36720275878906, -2.9639556407928467, 85.75724029541016, -42.10618591308594, -19.040054321289062, 81.622802734375, 11.064024925231934, 36.10451889038086, -59.7748908996582, -52.234291076660156, 2.826655864715576, 24.9595947265625, -73.01683044433594, 18.429384231567383, 27.611103057861328, -58.25442886352539, 55.75082015991211, 2.7252378463745117, -57.70411682128906, 18.490880966186523, -47.85617446899414, -28.17036247253418, -30.15182113647461, -36.696441650390625, -76.32054138183594, -19.039268493652344, -24.633628845214844, 16.786033630371094, -84.44621276855469, -51.49124526977539, -34.68942642211914, 46.67384338378906, -19.608863830566406, -71.3989486694336, -56.8745002746582, 55.52279281616211, -6.084103107452393, -2.144379138946533, 76.7646713256836, 66.52043914794922, -30.076749801635742, 28.598337173461914, -8.847420692443848, 65.50554656982422, 46.87565612792969, 70.37832641601562, 45.37477111816406, -80.25625610351562, -41.17564392089844, -83.02342987060547, -82.02189636230469, 10.597513198852539, 72.05843353271484, -23.33026885986328, -13.76473331451416, -88.46861267089844, 30.425228118896484, 77.13970947265625, 58.13104248046875, -67.48792266845703, 70.28684997558594, -69.08828735351562, 63.558841705322266, -43.47233200073242, -5.162399768829346, -88.21923828125, 367.8202819824219, 15.38506031036377, 61.42850875854492, -50.91730499267578, 22.88055992126465, -14.860828399658203, -36.12992858886719, 69.17640686035156, -94.21550750732422, -72.30013275146484, 31.82399559020996, 0.49790656566619873, 1.5665922164916992, -9.53049373626709, -11.84969711303711, 9.16152572631836, 63.671226501464844, -61.651397705078125, -26.467479705810547, 68.20600128173828, 39.08989334106445, -85.9410400390625, 10.141088485717773, -36.757652282714844, 58.499969482421875, 18.366886138916016, 62.56158447265625, -3.1665735244750977, 19.072792053222656, 21.009729385375977, 55.006309509277344, -17.637187957763672, 50.38330841064453, -12.340751647949219, 46.887107849121094, 37.213539123535156, -38.04193878173828, -28.238786697387695, 43.206546783447266, -850.7069091796875, -129.53758239746094, -17.11516571044922, -38.81170654296875, 30.14568519592285, -79.76300811767578, 68.24739074707031, 39.35214614868164, 63.708309173583984, -71.67486572265625, -87.34630584716797, 1.19621741771698, -90.91189575195312, 16.342317581176758, 73.31166076660156, 55.07296371459961, -18.0922794342041, 58.39038848876953, 49.26948547363281, 29.076709747314453, 56.385597229003906, -22.204795837402344, -12.230025291442871, 49.72452163696289, 53.25054168701172, 68.50426483154297, 10.237281799316406, -31.146242141723633, -43.966957092285156, -45.329132080078125, 76.92759704589844, -21.630996704101562, 4.409858226776123, -47.216793060302734, 71.11785888671875, -87.71407318115234, -95.19261932373047, 58.88225555419922, -5.565510272979736], \"y\": [53.548583984375, 21.231124877929688, 6.27486515045166, -16.987621307373047, 36.86092758178711, -18.699434280395508, 35.32623291015625, 28.89225196838379, -6.274639129638672, 30.066728591918945, -4.638588905334473, 18.303810119628906, 70.51061248779297, -6.10258674621582, 4.796324729919434, 56.90854263305664, 55.73684310913086, 26.932769775390625, 38.326927185058594, -0.16802653670310974, 47.22282409667969, 35.60457992553711, -9.601051330566406, 29.303651809692383, 14.525368690490723, 48.77980422973633, 53.77163314819336, 37.136409759521484, 33.00956726074219, 9.863079071044922, 6.105510711669922, 65.41158294677734, 55.328819274902344, 4.401005744934082, 21.657958984375, 12.007706642150879, 43.35983657836914, 45.66987609863281, -37.77519607543945, 39.617088317871094, 32.328895568847656, -28.537965774536133, -3.319483995437622, 21.726715087890625, 13.489201545715332, 48.109535217285156, -26.65097999572754, -8.731767654418945, 2.2687909603118896, 37.52901840209961, 68.40337371826172, -72.57892608642578, 52.70424270629883, 59.2535514831543, -0.9493322372436523, -17.211523056030273, -3.1411733627319336, 45.249881744384766, 5.144723892211914, 45.201698303222656, 7.4411163330078125, -18.38182830810547, 59.300621032714844, -43.59833526611328, 32.391910552978516, -35.86437225341797, 14.146796226501465, 24.473526000976562, 1.8603519201278687, -39.69889450073242, 16.165987014770508, -38.299964904785156, 30.26572608947754, 1.0549159049987793, 28.5699405670166, 29.939620971679688, -14.267409324645996, 61.216590881347656, 47.892478942871094, 12.338263511657715, 33.799713134765625, 15.9990873336792, -8.325469970703125, 4.425692081451416, 29.56034278869629, 10.58407974243164, 52.29935073852539, 23.70907974243164, -15.532347679138184, 19.762954711914062, 33.22246551513672, 45.254180908203125, -3.423389434814453, -13.285184860229492, 16.731204986572266, -5.2409563064575195, 35.54960632324219, -9.240296363830566, 36.83974075317383, -22.168256759643555, 33.66543960571289, -14.779112815856934, 42.41653060913086, -7.754238128662109, 4.136282444000244, 11.622429847717285, 34.428993225097656, 10.117707252502441, 207.40872192382812, 38.7796516418457, 15.083847999572754, 61.43464660644531, 23.00650978088379, 51.68136978149414, 19.96614646911621, 24.237003326416016, -7.3075852394104, 62.86991500854492, 60.539546966552734, 14.690564155578613, 44.96856689453125, 41.21210479736328, -3.774831533432007, -0.6668005585670471, 7.415981769561768, 10.908547401428223, -26.23404312133789, -1.2587939500808716, 27.148786544799805, -3.059626579284668, 22.12390899658203, 7.946434497833252, 19.321605682373047, 17.328184127807617, 3.361855983734131, 7.202169418334961, 41.564064025878906, 49.40390396118164, -31.931167602539062, 42.670143127441406, -10.862077713012695, 66.07136535644531, -28.658185958862305, 51.73229217529297, -4.774224281311035, -24.10699462890625, -0.3361659646034241], \"z\": [-34.00815200805664, -52.94532012939453, -64.55437469482422, -67.81572723388672, -67.41841888427734, -37.608577728271484, -27.17903709411621, -39.001434326171875, -51.408817291259766, -62.915679931640625, -43.16245651245117, -11.88840389251709, -13.498372077941895, -56.15685272216797, -69.84117889404297, 26.201757431030273, -60.49885559082031, -54.261390686035156, -12.109357833862305, -76.16252136230469, -53.04158401489258, -26.113733291625977, -66.7403793334961, -16.49322509765625, -17.70427131652832, -16.206289291381836, -3.524325370788574, -14.06194019317627, -12.12890911102295, -44.7844123840332, -53.57197189331055, 20.316192626953125, -8.903499603271484, -56.42643737792969, -55.23237609863281, -60.37697219848633, 9.811899185180664, 2.347508192062378, -72.56961059570312, -34.55733108520508, -53.84432601928711, -79.70982360839844, -50.19059371948242, -30.66623878479004, -36.96280288696289, -61.69462585449219, -67.95503997802734, 33.69451904296875, -35.31168746948242, -55.52067947387695, 4.805131435394287, -32.76434326171875, 5.958442687988281, 34.14002990722656, -79.0831069946289, -57.34006118774414, -39.63290023803711, -21.246013641357422, 1.5035678148269653, -61.98198699951172, -46.81722640991211, -25.508506774902344, 6.163017749786377, -76.751708984375, -1.3612042665481567, -86.77859497070312, -18.69329071044922, -34.34842300415039, -19.73052406311035, 595.5916748046875, -76.48237609863281, -57.035499572753906, -1.2958790063858032, -41.558563232421875, -25.947566986083984, -8.598331451416016, -76.47811889648438, 7.887070178985596, -4.428353309631348, -52.453006744384766, -88.86827087402344, -73.07967376708984, -64.71875, -49.02873992919922, -76.09688568115234, -25.995542526245117, -19.352632522583008, -52.41701126098633, -37.20777130126953, -28.926939010620117, 1.5954152345657349, -70.1048355102539, -44.21552658081055, -64.26793670654297, -62.623416900634766, -23.222599029541016, -21.262659072875977, -51.58182144165039, -71.8309097290039, -77.91130065917969, -59.53459167480469, -36.5804328918457, -48.69550323486328, -24.207509994506836, -29.87336540222168, -42.119056701660156, -22.102588653564453, -41.72368621826172, -190.08209228515625, -0.00834713689982891, -29.292198181152344, -16.280149459838867, -67.96723937988281, -16.57933807373047, -38.98966979980469, -42.157623291015625, 32.85335922241211, -7.918463706970215, -6.236822605133057, -58.04637908935547, -4.949755668640137, -57.09050369262695, -66.56404113769531, -35.38494873046875, -72.98687744140625, -44.40279769897461, -63.385066986083984, -58.24864959716797, -45.285518646240234, -56.12501907348633, -67.69041442871094, -24.33856201171875, -33.267608642578125, -55.769493103027344, -65.72016143798828, -28.894399642944336, -9.366177558898926, -22.149621963500977, -60.62166213989258, -32.717506408691406, -69.94742584228516, -0.03676672652363777, -43.144569396972656, 21.827499389648438, 23.5839786529541, -52.4308967590332, -77.11756896972656]}, {\"hoverlabel\": {\"namelength\": 0}, \"hovertemplate\": \"Cluster=Cluster 1<br>0=%{x}<br>1=%{y}<br>2=%{z}\", \"legendgroup\": \"Cluster=Cluster 1\", \"marker\": {\"color\": \"#EF553B\", \"opacity\": 0.7, \"symbol\": \"circle\"}, \"mode\": \"markers\", \"name\": \"Cluster=Cluster 1\", \"scene\": \"scene\", \"showlegend\": true, \"type\": \"scatter3d\", \"x\": [-1.1501777172088623, 65.03084564208984, -0.4658428430557251, 28.79244613647461, 30.3720645904541, 25.490421295166016, 6.901125907897949, 3.931401491165161, 6.186041355133057, 8.495144844055176, -1.5706626176834106, 16.405454635620117, -17.04817771911621, 11.973016738891602, -15.210165023803711, 0.26935794949531555, -0.6358314752578735, 14.030447959899902, 50.726200103759766, 30.308656692504883, 47.632450103759766, -14.312538146972656, 23.756975173950195, -1.3291786909103394, 14.67866039276123, 0.7916407585144043, 30.307037353515625, 16.261003494262695, -6.212743759155273, -65.96593475341797, -21.278656005859375, -0.5143283605575562, 22.088930130004883, 26.527162551879883, 38.628196716308594, 2.913694381713867, -5.695527076721191, 23.812152862548828, 8.81434154510498, -2.7668569087982178, 11.888253211975098, 41.57969665527344, 0.3591086268424988, 23.162052154541016, -8.204850196838379, 6.341986656188965, 41.7574462890625, 7.916708469390869, 27.790924072265625, -8.71374797821045, 3.2137250900268555, -4.191323757171631, -2.2957425117492676, 22.507726669311523, 73.94203186035156, 10.211837768554688, 37.95907974243164, 26.703975677490234, 32.441104888916016, -4.813814163208008, 24.68290901184082, 15.356481552124023, 21.97161293029785, 11.60299301147461, 56.13113021850586, 30.40310287475586, -4.777568817138672, -5.882748603820801, 7.393207550048828, 25.578155517578125, 57.69700241088867, 33.164241790771484, 16.683961868286133, 3.0855836868286133, 15.531018257141113, 57.04430389404297, -16.803918838500977, 26.20383644104004, 11.458942413330078, 49.12744140625, 15.45808219909668, 12.8422212600708, -1.0090322494506836, 19.005535125732422, 31.618267059326172, 10.464118003845215, 15.259223937988281, 0.7177658677101135, 24.009611129760742, 23.909584045410156, 14.936561584472656, 41.877464294433594, 55.37078094482422, 54.854801177978516, -17.89561653137207, -21.539688110351562, -10.856216430664062, 23.282413482666016, 43.12614059448242, 12.158458709716797, 2.325188398361206, 38.80078125, 29.66510581970215, 26.529645919799805, 23.079801559448242, 40.5325927734375, -5.7398810386657715, 52.10273742675781, 40.0986328125, 12.961417198181152, -12.583924293518066, 6.228911876678467, -22.36061668395996, 37.45038986206055, 43.366539001464844, -8.002861976623535, 38.15986251831055, 60.650634765625, -11.063728332519531, -3.546449899673462, 30.232223510742188, 16.63958740234375, -58.82829666137695, 12.959022521972656, -0.8444259762763977, 52.989986419677734, 45.447410583496094, 28.14202117919922, 5.031707763671875, 8.769371032714844, 11.004308700561523, 24.94651222229004, 30.476009368896484, -10.699880599975586, 33.562862396240234, -3.7968976497650146, 29.938684463500977, -25.751766204833984, 37.698909759521484, -13.303376197814941, 39.50514221191406, 35.04573440551758, 8.823348045349121, 14.288315773010254, 13.271683692932129, 19.63308334350586, 19.197185516357422, 28.74432945251465, -7.9372477531433105, 11.43947982788086, 40.17230224609375], \"y\": [-27.46431541442871, -44.68571853637695, -14.225852966308594, -69.17473602294922, -38.00985336303711, -251.2327423095703, -90.57841491699219, -15.712974548339844, -74.99578094482422, 0.8410325050354004, -42.831298828125, 43.39198684692383, -66.74694061279297, 30.39223861694336, -40.006675720214844, 92.45105743408203, -70.1045913696289, -88.5122299194336, -48.92908477783203, -54.02031326293945, -31.83308219909668, -23.017459869384766, -39.909027099609375, -23.363155364990234, -55.16600036621094, -77.02488708496094, -44.19036865234375, -39.40510940551758, -65.54762268066406, -0.5737888813018799, -72.44168090820312, -85.27352905273438, 4.827876567840576, 30.139158248901367, -60.714420318603516, -37.38994216918945, -8.729850769042969, -2.322319507598877, -18.845338821411133, 22.61052894592285, -28.728485107421875, -35.01091003417969, -56.180397033691406, -47.747398376464844, -71.8099136352539, -2.300004005432129, -63.04694366455078, -15.23262882232666, 30.952899932861328, -90.78807067871094, -53.86404800415039, -87.96391296386719, 21.768157958984375, -11.406380653381348, -28.59046173095703, 15.034966468811035, -87.88646697998047, -68.30596160888672, 25.054168701171875, -80.77647399902344, -90.30231475830078, -11.951394081115723, -24.797767639160156, -96.16426086425781, -60.61757278442383, -25.165254592895508, 8.615034103393555, -34.150203704833984, -56.63315963745117, -92.11068725585938, -62.625404357910156, -65.55416870117188, -76.3740463256836, -42.860267639160156, -59.479957580566406, -28.63050079345703, -28.754745483398438, -47.33980178833008, 8.37514877319336, -63.394527435302734, -46.47758102416992, 37.9569206237793, -0.8751596212387085, 29.040756225585938, -37.220760345458984, -33.532989501953125, -81.31017303466797, -64.08197021484375, -24.4021053314209, -78.7913589477539, -65.87409210205078, -26.419736862182617, -45.86177062988281, -53.981834411621094, -81.63456726074219, -59.234291076660156, -19.68086814880371, -58.4283447265625, -46.559391021728516, -19.01611328125, 35.851806640625, -41.21257400512695, -76.16297912597656, -53.58320617675781, -24.251720428466797, -71.38812255859375, -56.58622360229492, -41.40339660644531, -57.093135833740234, 116.86653137207031, -36.9821891784668, -16.292774200439453, -67.90544128417969, -53.809654235839844, -74.28034210205078, -10.587725639343262, -84.32524108886719, -42.60197067260742, -56.93472671508789, -19.28941535949707, -42.177757263183594, -12.949877738952637, -2.856069803237915, -59.25102233886719, -29.137155532836914, -35.33226013183594, -44.470787048339844, -32.284950256347656, 9.69370174407959, -26.094303131103516, -30.625839233398438, -27.77846908569336, -18.25959014892578, 6.104615688323975, -69.84770965576172, -32.26228332519531, -12.6747407913208, -52.45412063598633, -35.0169792175293, -77.99468231201172, -22.658437728881836, -40.86297607421875, -35.864620208740234, 26.31884002685547, -29.60264778137207, 11.312990188598633, -37.15024185180664, 38.40083694458008, -16.028383255004883, -3.778414249420166, -50.22932052612305], \"z\": [-11.743305206298828, 29.95296287536621, 71.74475860595703, 20.29653549194336, 59.93574905395508, 58.30586624145508, -19.074655532836914, -4.87869930267334, -5.798765182495117, 68.25667572021484, -12.510769844055176, 98.18260955810547, -23.549535751342773, 107.32026672363281, -14.207077026367188, 50.27542495727539, -33.536155700683594, -6.752896785736084, 31.76561737060547, 21.92844581604004, -6.135168552398682, -2.9029181003570557, -44.0276985168457, 98.13042449951172, 14.651280403137207, -20.341365814208984, 8.068405151367188, 11.604900360107422, 2.4971439838409424, -42.42204284667969, 4.5038886070251465, -33.40590286254883, 69.50177001953125, 100.06377410888672, 50.02870559692383, 16.031721115112305, 97.34255981445312, 81.7732925415039, -20.624040603637695, 103.8746337890625, -4.524716377258301, 11.260481834411621, -24.28568458557129, -73.60784912109375, -10.148449897766113, 106.68578338623047, 23.58502960205078, 59.993892669677734, 74.18524169921875, -21.91744041442871, 21.84670639038086, -8.291155815124512, 88.19429016113281, 57.90513610839844, 60.76630401611328, 110.85797882080078, -27.974567413330078, 47.84121322631836, 85.16712188720703, 3.2358925342559814, -22.27483367919922, 72.98868560791016, -15.818860054016113, -31.63019371032715, 25.35007667541504, 14.240793228149414, 108.90377807617188, -25.8709716796875, 37.06822967529297, -36.72854995727539, -5.164308071136475, -38.2979736328125, -16.73198127746582, 31.629762649536133, 51.592567443847656, 8.364078521728516, -16.45524787902832, 50.854942321777344, 81.56082916259766, 39.11276626586914, 26.55280113220215, 84.17060089111328, 83.56988525390625, 129.682373046875, 21.97331428527832, -20.28319549560547, -31.175430297851562, -13.180721282958984, 80.10924530029297, -42.39060974121094, 25.81365394592285, -2.5215301513671875, 13.742814064025879, 53.078556060791016, -10.3792724609375, 2.27113676071167, 87.45468139648438, 34.62419509887695, 20.69379997253418, 6.849814414978027, 96.2433090209961, -2.986485481262207, -27.938617706298828, 62.74226760864258, 64.94657897949219, -47.44549560546875, 33.16746139526367, 58.93171310424805, 10.497448921203613, 37.249656677246094, -3.0373475551605225, 85.8090591430664, -13.008088111877441, 35.65980529785156, -33.279136657714844, -0.04010776802897453, -42.254878997802734, 44.781558990478516, -8.654765129089355, 11.413928985595703, 84.12903594970703, -7.676696300506592, -26.43570327758789, -63.0367546081543, 2.240384340286255, 25.376018524169922, 47.050392150878906, 1.907766580581665, 95.38543701171875, 73.85321807861328, 59.67382049560547, 49.68926239013672, 0.9420914053916931, 93.9598388671875, 34.473960876464844, 85.65828704833984, 71.50611114501953, -13.551158905029297, 73.16569519042969, -24.911191940307617, 64.39632415771484, -30.471586227416992, 92.32391357421875, 92.39297485351562, 20.858182907104492, 99.7510757446289, 72.2872543334961, 86.89681243896484, -15.568814277648926, 91.75267791748047, 61.88373947143555]}, {\"hoverlabel\": {\"namelength\": 0}, \"hovertemplate\": \"Cluster=Cluster 2<br>0=%{x}<br>1=%{y}<br>2=%{z}\", \"legendgroup\": \"Cluster=Cluster 2\", \"marker\": {\"color\": \"#00cc96\", \"opacity\": 0.7, \"symbol\": \"circle\"}, \"mode\": \"markers\", \"name\": \"Cluster=Cluster 2\", \"scene\": \"scene\", \"showlegend\": true, \"type\": \"scatter3d\", \"x\": [-33.80732727050781, 43.69004821777344, -33.142860412597656, 22.796894073486328, -67.89737701416016, 57.79985427856445, 39.31040573120117, -20.569969177246094, 57.37348175048828, 17.560821533203125, 20.3892765045166, -72.65042114257812, -21.05181312561035, 25.771202087402344, 11.464457511901855, 57.06350326538086, -18.111770629882812, 30.540014266967773, 30.593849182128906, -23.312528610229492, -69.29685974121094, -14.717045783996582, -48.89737319946289, 45.39104461669922, 43.32200241088867, 0.9793381690979004, 74.45037078857422, -42.589332580566406, -59.92988204956055, -43.471988677978516, 36.27863693237305, -68.40821838378906, -82.0010757446289, -38.627254486083984, 1.6737093925476074, 2.9760406017303467, -44.06576156616211, 29.024742126464844, -45.7700080871582, 1.7572611570358276, 66.20416259765625, 80.40653228759766, 15.476950645446777, -22.40497589111328, 7.66556453704834, -53.088478088378906, 55.041019439697266, -63.509490966796875, 41.89642333984375, -13.734588623046875, -7.281209468841553, -66.19705200195312, 3.611949920654297, -8.58681583404541, 8.71999740600586, 19.837276458740234, 12.585836410522461, 14.206335067749023, 27.84515953063965, 21.488008499145508, 28.6419677734375, -60.59253692626953, -51.053955078125, 17.46995735168457, 51.052616119384766, 20.6932430267334, -51.512451171875, 46.39208984375, -43.687843322753906, -50.45977020263672, 62.32538986206055, -30.18792724609375, 46.956912994384766, -61.127655029296875, 15.878902435302734, -34.75545120239258, -20.782604217529297, -23.515588760375977, 31.340368270874023, -54.100704193115234, -26.15209197998047, -29.1224422454834, -50.114200592041016, 0.12643712759017944, 7.702725410461426, -46.84075164794922, -44.08230972290039, 81.61161804199219, 28.19944190979004, 49.433101654052734, 6.554582595825195, -449.0340576171875, 14.02348518371582, 36.28839111328125, -41.780452728271484, -13.937821388244629, -27.04458236694336, 25.788860321044922, 53.68480682373047, 28.883182525634766, 39.89622116088867, 15.716645240783691, -35.22021484375, -58.14168930053711, -10.374073028564453, -47.74968338012695, -25.24803924560547, -27.704158782958984, 41.13858413696289, -26.67893409729004, -25.011396408081055, 51.59841537475586, 47.082176208496094, -9.803729057312012, 4.220637321472168, -38.72610092163086, 10.277761459350586, -13.524982452392578, -33.36508560180664, 31.539127349853516, -58.5914421081543, -67.25988006591797, 4.787530422210693, 41.785316467285156, 43.67606735229492, 14.278645515441895, -53.081634521484375, -55.40909194946289, 5.631625652313232, -59.0460319519043, 54.08323287963867, 35.801429748535156, -62.6171989440918, 19.157588958740234, -41.137638092041016, -57.94124984741211, 39.27360153198242, 14.824917793273926, -51.38157272338867, -19.175369262695312, -10.401044845581055, 14.645910263061523, 10.8406982421875, -38.14624786376953, -48.82754135131836, 79.43516540527344, -31.53554916381836, -44.07734680175781, -41.357421875, 53.265106201171875, -47.6300163269043, 38.63170623779297, 48.82548141479492, 23.02928924560547, 46.04478073120117, 23.479005813598633, -16.338298797607422], \"y\": [25.468067169189453, 71.39908599853516, -38.531185150146484, 63.10700988769531, -8.078752517700195, 48.77175521850586, 62.34491729736328, 22.218425750732422, 63.00132751464844, 57.22804260253906, 98.39009094238281, -25.224477767944336, 37.51808547973633, 38.037132263183594, 50.908050537109375, 27.89631462097168, 1.0403186082839966, 23.710899353027344, 17.050321578979492, 49.85459518432617, -33.54066467285156, -29.02726936340332, -34.720001220703125, 17.22476577758789, 40.94865417480469, 93.24151611328125, 43.878639221191406, -27.173891067504883, 12.893508911132812, 37.759010314941406, 52.54999542236328, -17.4938907623291, -18.248655319213867, -24.019140243530273, 17.354007720947266, 15.760993957519531, -50.6658935546875, 43.63763427734375, -27.10523223876953, 75.99102783203125, 12.304008483886719, -12.2774076461792, -69.50325012207031, 38.63511657714844, 60.8514404296875, -7.535076141357422, 40.586307525634766, -38.85441207885742, 23.657188415527344, 20.9999942779541, 25.321260452270508, 10.105965614318848, 65.41854858398438, 5.958796501159668, 29.331308364868164, 83.81826782226562, 102.72954559326172, 48.7331657409668, 67.77462005615234, 34.23443603515625, 30.10487174987793, -46.15830612182617, 24.46788215637207, 22.43646240234375, 51.09334182739258, 53.0118293762207, -29.808996200561523, 54.31820297241211, -43.72793960571289, 9.739018440246582, 52.18977355957031, 64.10115051269531, 62.78264236450195, -4.48064661026001, 70.83380126953125, -32.37096405029297, -36.4163932800293, -22.464941024780273, 5.098374366760254, -52.74518585205078, 57.262908935546875, 37.05161666870117, 8.333353996276855, 44.68531799316406, 35.00048828125, -4.435279369354248, -9.595964431762695, -32.067970275878906, 76.79925537109375, 32.530059814453125, 91.19869232177734, 84.89965057373047, 86.73782348632812, 31.72997283935547, 23.704269409179688, 35.69738006591797, 24.44282341003418, 94.1479721069336, 11.597938537597656, 108.19339752197266, 16.772916793823242, 22.590044021606445, 38.191070556640625, -27.976110458374023, 10.909001350402832, 9.074548721313477, 66.30138397216797, -25.686344146728516, 32.496925354003906, -39.86709213256836, 10.944293975830078, 12.390829086303711, 62.468101501464844, -80.07239532470703, 80.1840591430664, 37.94915771484375, 94.4568099975586, 57.35844802856445, 6.502005100250244, 94.44629669189453, -15.282342910766602, -12.345270156860352, 44.11281204223633, 94.96208953857422, 2.872795581817627, 73.54154205322266, 31.158267974853516, 18.465850830078125, 31.32483673095703, -21.65305519104004, 24.092212677001953, 48.87113952636719, 15.465240478515625, 16.033071517944336, -2.869364023208618, 3.0703964233398438, 44.810604095458984, 72.75978088378906, -14.596932411193848, -72.29778289794922, 46.061798095703125, 8.550675392150879, 61.73087692260742, 49.234642028808594, 22.73339080810547, 31.15686798095703, -48.05244827270508, 9.558425903320312, 23.758148193359375, 65.81098175048828, -40.32741928100586, 107.0640869140625, 26.42805290222168, 105.3875961303711, 38.99595260620117, 86.30146026611328, 15.013650894165039], \"z\": [31.476892471313477, 20.045089721679688, 23.78207778930664, 3.8869709968566895, 36.10196304321289, 23.900848388671875, 1.7203174829483032, 26.137184143066406, 18.07562255859375, -18.42422866821289, 5.676286220550537, 42.158329010009766, 21.35167694091797, 47.05303192138672, 50.51242446899414, 25.423160552978516, 48.948326110839844, 44.14311981201172, 31.115673065185547, 30.058420181274414, 27.854963302612305, 50.3546257019043, 30.54970359802246, 34.82939147949219, -8.533158302307129, -6.194681644439697, -19.92605209350586, 80.72887420654297, 24.800865173339844, 35.17387771606445, -12.531962394714355, 23.507061004638672, 4.321238994598389, 22.197265625, 31.213125228881836, 16.652555465698242, 28.24643325805664, 27.73508644104004, 9.972352027893066, -1.4167671203613281, 8.457132339477539, 4.327396392822266, 79.00202178955078, 48.78220748901367, -3.059870958328247, 39.07770538330078, 11.595806121826172, 40.8415412902832, 22.97359848022461, 38.591896057128906, 21.30916404724121, 40.774658203125, -16.51828384399414, 37.900150299072266, 17.767011642456055, -17.097877502441406, -6.383312225341797, 36.55253219604492, -11.258641242980957, 34.774932861328125, 21.325313568115234, 26.877649307250977, 31.699129104614258, 28.291942596435547, -1.4866331815719604, -5.291567802429199, 53.364749908447266, 13.173919677734375, 42.927249908447266, 63.81373596191406, 8.12021255493164, -103.47109985351562, 31.572601318359375, 22.57377815246582, -23.61522102355957, 38.97783660888672, 36.947452545166016, 38.474700927734375, 17.584484100341797, 38.84018325805664, 46.36199188232422, 37.217559814453125, 36.47601318359375, 38.43348693847656, 45.71638488769531, 58.89558792114258, 10.888838768005371, -1.9497456550598145, 1.4539008140563965, 38.28765106201172, 8.018033981323242, 37.501220703125, -3.1836371421813965, 33.81968307495117, 43.53575897216797, 33.756446838378906, 46.28935623168945, -7.6585869789123535, 2.3607523441314697, -6.086905002593994, 9.012357711791992, 42.7377815246582, 24.112882614135742, 19.683849334716797, 23.735183715820312, 18.03362274169922, 36.03722381591797, 52.226768493652344, 11.485390663146973, 49.733909606933594, 39.35932159423828, 20.036684036254883, -10.477866172790527, 38.156864166259766, -16.563142776489258, 49.97452163696289, -20.134689331054688, 38.31032180786133, 60.60355758666992, -24.803003311157227, 11.42715835571289, 56.49407196044922, 24.746065139770508, -13.621719360351562, 12.014925003051758, 8.46603775024414, 50.031280517578125, 45.39457702636719, 32.04762649536133, 35.24230194091797, 12.513517379760742, 2.319136381149292, 57.52324295043945, 15.287946701049805, 23.713895797729492, 50.90378189086914, 39.416439056396484, -7.750642776489258, 25.094451904296875, 54.059268951416016, 24.197988510131836, 27.876401901245117, 41.9642448425293, 40.32398986816406, 137.97030639648438, -9.068716049194336, 35.95624923706055, 50.131805419921875, 57.61875534057617, 3.5596532821655273, 16.61494255065918, -19.11669921875, -0.11128300428390503, -19.34973907470703, 24.131813049316406, 21.955507278442383, 51.94477462768555]}, {\"hoverlabel\": {\"namelength\": 0}, \"hovertemplate\": \"Cluster=Cluster 3<br>0=%{x}<br>1=%{y}<br>2=%{z}\", \"legendgroup\": \"Cluster=Cluster 3\", \"marker\": {\"color\": \"#ab63fa\", \"opacity\": 0.7, \"symbol\": \"circle\"}, \"mode\": \"markers\", \"name\": \"Cluster=Cluster 3\", \"scene\": \"scene\", \"showlegend\": true, \"type\": \"scatter3d\", \"x\": [-22.84542465209961, -25.00677490234375, -67.13179016113281, -75.22850036621094, -25.97054672241211, -13.365705490112305, -64.08570861816406, -64.18449401855469, 39.874229431152344, -61.90917205810547, -32.6700553894043, -30.877283096313477, -41.94884490966797, -41.3178596496582, -87.83760070800781, -16.14165496826172, -51.29302978515625, -64.34133911132812, -81.70291137695312, 17.052404403686523, -41.89935302734375, -68.17481231689453, -24.770008087158203, -55.54417037963867, -27.71735954284668, -37.67441940307617, -70.70587921142578, -34.75648498535156, -46.94065856933594, -51.59465408325195, -26.43498992919922, -77.04618072509766, -17.433637619018555, -18.525915145874023, -87.28773498535156, -27.615272521972656, -42.14512634277344, -18.121826171875, -73.43938446044922, -36.313934326171875, -55.71672439575195, 51.526065826416016, -23.875267028808594, -10.972837448120117, -46.80302810668945, -78.92329406738281, -56.46102523803711, -40.74827194213867, -75.46226501464844, -39.28550338745117], \"y\": [-41.72598648071289, -29.982202529907227, -31.568307876586914, -41.817134857177734, -52.931583404541016, -48.0081901550293, -32.42997360229492, -42.7218132019043, 112.6478271484375, -53.97098159790039, -25.761884689331055, -40.572364807128906, -54.87166213989258, -33.62580108642578, -46.91063690185547, -53.09908676147461, -50.981571197509766, -57.601280212402344, -32.58325958251953, 12.977723121643066, -38.24069595336914, -53.41717529296875, -37.53761672973633, -40.58582305908203, -53.736793518066406, -45.04750442504883, -43.863304138183594, -42.785240173339844, -31.92465591430664, -41.02149963378906, -26.565715789794922, -57.775306701660156, -31.034788131713867, -83.54007720947266, -40.972412109375, -55.298336029052734, -50.28338623046875, -43.682857513427734, -30.128957748413086, -45.892520904541016, -45.56322479248047, 4.213468074798584, -38.70888900756836, -32.40986633300781, -34.88270568847656, -54.840675354003906, -30.26114273071289, 10.17900276184082, -44.846046447753906, -28.90181541442871], \"z\": [-105.04459381103516, -65.23040008544922, -19.20009422302246, -42.850669860839844, -54.51401901245117, -83.55735778808594, -45.70520782470703, -31.92900848388672, -79.54881286621094, -19.09506607055664, -80.7548599243164, -76.78211975097656, -57.872947692871094, -91.63235473632812, -14.703337669372559, -20.2645320892334, -30.88780975341797, -34.45456314086914, -18.67206573486328, -134.78955078125, -31.236881256103516, -50.073211669921875, -52.02693557739258, -19.130874633789062, -87.95597839355469, -45.37247085571289, -10.627689361572266, -63.09020233154297, -46.48902130126953, -58.08216094970703, -99.3749771118164, -18.87759780883789, -77.64015197753906, -141.91189575195312, -30.799470901489258, -70.87403869628906, -75.8049545288086, -66.75796508789062, -33.06611251831055, -98.70329284667969, -44.07320022583008, 60.48139953613281, -89.46964263916016, -99.6051025390625, -71.2398910522461, -36.329017639160156, -31.411466598510742, 102.75243377685547, -24.224851608276367, -59.71626663208008]}],\n",
       "                        {\"height\": 800, \"legend\": {\"tracegroupgap\": 0}, \"scene\": {\"domain\": {\"x\": [0.0, 1.0], \"y\": [0.0, 1.0]}, \"xaxis\": {\"title\": {\"text\": \"0\"}}, \"yaxis\": {\"title\": {\"text\": \"1\"}}, \"zaxis\": {\"title\": {\"text\": \"2\"}}}, \"template\": {\"data\": {\"bar\": [{\"error_x\": {\"color\": \"#2a3f5f\"}, \"error_y\": {\"color\": \"#2a3f5f\"}, \"marker\": {\"line\": {\"color\": \"#E5ECF6\", \"width\": 0.5}}, \"type\": \"bar\"}], \"barpolar\": [{\"marker\": {\"line\": {\"color\": \"#E5ECF6\", \"width\": 0.5}}, \"type\": \"barpolar\"}], \"carpet\": [{\"aaxis\": {\"endlinecolor\": \"#2a3f5f\", \"gridcolor\": \"white\", \"linecolor\": \"white\", \"minorgridcolor\": \"white\", \"startlinecolor\": \"#2a3f5f\"}, \"baxis\": {\"endlinecolor\": \"#2a3f5f\", \"gridcolor\": \"white\", \"linecolor\": \"white\", \"minorgridcolor\": \"white\", \"startlinecolor\": \"#2a3f5f\"}, \"type\": \"carpet\"}], \"choropleth\": [{\"colorbar\": {\"outlinewidth\": 0, \"ticks\": \"\"}, \"type\": \"choropleth\"}], \"contour\": [{\"colorbar\": {\"outlinewidth\": 0, \"ticks\": \"\"}, \"colorscale\": [[0.0, \"#0d0887\"], [0.1111111111111111, \"#46039f\"], [0.2222222222222222, \"#7201a8\"], [0.3333333333333333, \"#9c179e\"], [0.4444444444444444, \"#bd3786\"], [0.5555555555555556, \"#d8576b\"], [0.6666666666666666, \"#ed7953\"], [0.7777777777777778, \"#fb9f3a\"], [0.8888888888888888, \"#fdca26\"], [1.0, \"#f0f921\"]], \"type\": \"contour\"}], \"contourcarpet\": [{\"colorbar\": {\"outlinewidth\": 0, \"ticks\": \"\"}, \"type\": \"contourcarpet\"}], \"heatmap\": [{\"colorbar\": {\"outlinewidth\": 0, \"ticks\": \"\"}, \"colorscale\": [[0.0, \"#0d0887\"], [0.1111111111111111, \"#46039f\"], [0.2222222222222222, \"#7201a8\"], [0.3333333333333333, \"#9c179e\"], [0.4444444444444444, \"#bd3786\"], [0.5555555555555556, \"#d8576b\"], [0.6666666666666666, \"#ed7953\"], [0.7777777777777778, \"#fb9f3a\"], [0.8888888888888888, \"#fdca26\"], [1.0, \"#f0f921\"]], \"type\": \"heatmap\"}], \"heatmapgl\": [{\"colorbar\": {\"outlinewidth\": 0, \"ticks\": \"\"}, \"colorscale\": [[0.0, \"#0d0887\"], [0.1111111111111111, \"#46039f\"], [0.2222222222222222, \"#7201a8\"], [0.3333333333333333, \"#9c179e\"], [0.4444444444444444, \"#bd3786\"], [0.5555555555555556, \"#d8576b\"], [0.6666666666666666, \"#ed7953\"], [0.7777777777777778, \"#fb9f3a\"], [0.8888888888888888, \"#fdca26\"], [1.0, \"#f0f921\"]], \"type\": \"heatmapgl\"}], \"histogram\": [{\"marker\": {\"colorbar\": {\"outlinewidth\": 0, \"ticks\": \"\"}}, \"type\": \"histogram\"}], \"histogram2d\": [{\"colorbar\": {\"outlinewidth\": 0, \"ticks\": \"\"}, \"colorscale\": [[0.0, \"#0d0887\"], [0.1111111111111111, \"#46039f\"], [0.2222222222222222, \"#7201a8\"], [0.3333333333333333, \"#9c179e\"], [0.4444444444444444, \"#bd3786\"], [0.5555555555555556, \"#d8576b\"], [0.6666666666666666, \"#ed7953\"], [0.7777777777777778, \"#fb9f3a\"], [0.8888888888888888, \"#fdca26\"], [1.0, \"#f0f921\"]], \"type\": \"histogram2d\"}], \"histogram2dcontour\": [{\"colorbar\": {\"outlinewidth\": 0, \"ticks\": \"\"}, \"colorscale\": [[0.0, \"#0d0887\"], [0.1111111111111111, \"#46039f\"], [0.2222222222222222, \"#7201a8\"], [0.3333333333333333, \"#9c179e\"], [0.4444444444444444, \"#bd3786\"], [0.5555555555555556, \"#d8576b\"], [0.6666666666666666, \"#ed7953\"], [0.7777777777777778, \"#fb9f3a\"], [0.8888888888888888, \"#fdca26\"], [1.0, \"#f0f921\"]], \"type\": \"histogram2dcontour\"}], \"mesh3d\": [{\"colorbar\": {\"outlinewidth\": 0, \"ticks\": \"\"}, \"type\": \"mesh3d\"}], \"parcoords\": [{\"line\": {\"colorbar\": {\"outlinewidth\": 0, \"ticks\": \"\"}}, \"type\": \"parcoords\"}], \"pie\": [{\"automargin\": true, \"type\": \"pie\"}], \"scatter\": [{\"marker\": {\"colorbar\": {\"outlinewidth\": 0, \"ticks\": \"\"}}, \"type\": \"scatter\"}], \"scatter3d\": [{\"line\": {\"colorbar\": {\"outlinewidth\": 0, \"ticks\": \"\"}}, \"marker\": {\"colorbar\": {\"outlinewidth\": 0, \"ticks\": \"\"}}, \"type\": \"scatter3d\"}], \"scattercarpet\": [{\"marker\": {\"colorbar\": {\"outlinewidth\": 0, \"ticks\": \"\"}}, \"type\": \"scattercarpet\"}], \"scattergeo\": [{\"marker\": {\"colorbar\": {\"outlinewidth\": 0, \"ticks\": \"\"}}, \"type\": \"scattergeo\"}], \"scattergl\": [{\"marker\": {\"colorbar\": {\"outlinewidth\": 0, \"ticks\": \"\"}}, \"type\": \"scattergl\"}], \"scattermapbox\": [{\"marker\": {\"colorbar\": {\"outlinewidth\": 0, \"ticks\": \"\"}}, \"type\": \"scattermapbox\"}], \"scatterpolar\": [{\"marker\": {\"colorbar\": {\"outlinewidth\": 0, \"ticks\": \"\"}}, \"type\": \"scatterpolar\"}], \"scatterpolargl\": [{\"marker\": {\"colorbar\": {\"outlinewidth\": 0, \"ticks\": \"\"}}, \"type\": \"scatterpolargl\"}], \"scatterternary\": [{\"marker\": {\"colorbar\": {\"outlinewidth\": 0, \"ticks\": \"\"}}, \"type\": \"scatterternary\"}], \"surface\": [{\"colorbar\": {\"outlinewidth\": 0, \"ticks\": \"\"}, \"colorscale\": [[0.0, \"#0d0887\"], [0.1111111111111111, \"#46039f\"], [0.2222222222222222, \"#7201a8\"], [0.3333333333333333, \"#9c179e\"], [0.4444444444444444, \"#bd3786\"], [0.5555555555555556, \"#d8576b\"], [0.6666666666666666, \"#ed7953\"], [0.7777777777777778, \"#fb9f3a\"], [0.8888888888888888, \"#fdca26\"], [1.0, \"#f0f921\"]], \"type\": \"surface\"}], \"table\": [{\"cells\": {\"fill\": {\"color\": \"#EBF0F8\"}, \"line\": {\"color\": \"white\"}}, \"header\": {\"fill\": {\"color\": \"#C8D4E3\"}, \"line\": {\"color\": \"white\"}}, \"type\": \"table\"}]}, \"layout\": {\"annotationdefaults\": {\"arrowcolor\": \"#2a3f5f\", \"arrowhead\": 0, \"arrowwidth\": 1}, \"coloraxis\": {\"colorbar\": {\"outlinewidth\": 0, \"ticks\": \"\"}}, \"colorscale\": {\"diverging\": [[0, \"#8e0152\"], [0.1, \"#c51b7d\"], [0.2, \"#de77ae\"], [0.3, \"#f1b6da\"], [0.4, \"#fde0ef\"], [0.5, \"#f7f7f7\"], [0.6, \"#e6f5d0\"], [0.7, \"#b8e186\"], [0.8, \"#7fbc41\"], [0.9, \"#4d9221\"], [1, \"#276419\"]], \"sequential\": [[0.0, \"#0d0887\"], [0.1111111111111111, \"#46039f\"], [0.2222222222222222, \"#7201a8\"], [0.3333333333333333, \"#9c179e\"], [0.4444444444444444, \"#bd3786\"], [0.5555555555555556, \"#d8576b\"], [0.6666666666666666, \"#ed7953\"], [0.7777777777777778, \"#fb9f3a\"], [0.8888888888888888, \"#fdca26\"], [1.0, \"#f0f921\"]], \"sequentialminus\": [[0.0, \"#0d0887\"], [0.1111111111111111, \"#46039f\"], [0.2222222222222222, \"#7201a8\"], [0.3333333333333333, \"#9c179e\"], [0.4444444444444444, \"#bd3786\"], [0.5555555555555556, \"#d8576b\"], [0.6666666666666666, \"#ed7953\"], [0.7777777777777778, \"#fb9f3a\"], [0.8888888888888888, \"#fdca26\"], [1.0, \"#f0f921\"]]}, \"colorway\": [\"#636efa\", \"#EF553B\", \"#00cc96\", \"#ab63fa\", \"#FFA15A\", \"#19d3f3\", \"#FF6692\", \"#B6E880\", \"#FF97FF\", \"#FECB52\"], \"font\": {\"color\": \"#2a3f5f\"}, \"geo\": {\"bgcolor\": \"white\", \"lakecolor\": \"white\", \"landcolor\": \"#E5ECF6\", \"showlakes\": true, \"showland\": true, \"subunitcolor\": \"white\"}, \"hoverlabel\": {\"align\": \"left\"}, \"hovermode\": \"closest\", \"mapbox\": {\"style\": \"light\"}, \"paper_bgcolor\": \"white\", \"plot_bgcolor\": \"#E5ECF6\", \"polar\": {\"angularaxis\": {\"gridcolor\": \"white\", \"linecolor\": \"white\", \"ticks\": \"\"}, \"bgcolor\": \"#E5ECF6\", \"radialaxis\": {\"gridcolor\": \"white\", \"linecolor\": \"white\", \"ticks\": \"\"}}, \"scene\": {\"xaxis\": {\"backgroundcolor\": \"#E5ECF6\", \"gridcolor\": \"white\", \"gridwidth\": 2, \"linecolor\": \"white\", \"showbackground\": true, \"ticks\": \"\", \"zerolinecolor\": \"white\"}, \"yaxis\": {\"backgroundcolor\": \"#E5ECF6\", \"gridcolor\": \"white\", \"gridwidth\": 2, \"linecolor\": \"white\", \"showbackground\": true, \"ticks\": \"\", \"zerolinecolor\": \"white\"}, \"zaxis\": {\"backgroundcolor\": \"#E5ECF6\", \"gridcolor\": \"white\", \"gridwidth\": 2, \"linecolor\": \"white\", \"showbackground\": true, \"ticks\": \"\", \"zerolinecolor\": \"white\"}}, \"shapedefaults\": {\"line\": {\"color\": \"#2a3f5f\"}}, \"ternary\": {\"aaxis\": {\"gridcolor\": \"white\", \"linecolor\": \"white\", \"ticks\": \"\"}, \"baxis\": {\"gridcolor\": \"white\", \"linecolor\": \"white\", \"ticks\": \"\"}, \"bgcolor\": \"#E5ECF6\", \"caxis\": {\"gridcolor\": \"white\", \"linecolor\": \"white\", \"ticks\": \"\"}}, \"title\": {\"x\": 0.05}, \"xaxis\": {\"automargin\": true, \"gridcolor\": \"white\", \"linecolor\": \"white\", \"ticks\": \"\", \"title\": {\"standoff\": 15}, \"zerolinecolor\": \"white\", \"zerolinewidth\": 2}, \"yaxis\": {\"automargin\": true, \"gridcolor\": \"white\", \"linecolor\": \"white\", \"ticks\": \"\", \"title\": {\"standoff\": 15}, \"zerolinecolor\": \"white\", \"zerolinewidth\": 2}}}, \"title\": {\"text\": \"3d TSNE Plot for Clusters\"}, \"width\": 900},\n",
       "                        {\"responsive\": true}\n",
       "                    ).then(function(){\n",
       "                            \n",
       "var gd = document.getElementById('59617143-6412-44c6-9a04-83c6b94b4e1c');\n",
       "var x = new MutationObserver(function (mutations, observer) {{\n",
       "        var display = window.getComputedStyle(gd).display;\n",
       "        if (!display || display === 'none') {{\n",
       "            console.log([gd, 'removed!']);\n",
       "            Plotly.purge(gd);\n",
       "            observer.disconnect();\n",
       "        }}\n",
       "}});\n",
       "\n",
       "// Listen for the removal of the full notebook cells\n",
       "var notebookContainer = gd.closest('#notebook-container');\n",
       "if (notebookContainer) {{\n",
       "    x.observe(notebookContainer, {childList: true});\n",
       "}}\n",
       "\n",
       "// Listen for the clearing of the current output cell\n",
       "var outputEl = gd.closest('.output');\n",
       "if (outputEl) {{\n",
       "    x.observe(outputEl, {childList: true});\n",
       "}}\n",
       "\n",
       "                        })\n",
       "                };\n",
       "                });\n",
       "            </script>\n",
       "        </div>"
      ]
     },
     "metadata": {},
     "output_type": "display_data"
    }
   ],
   "source": [
    "plot_model(kmeans, plot = 'tsne')"
   ]
  },
  {
   "cell_type": "code",
   "execution_count": 20,
   "metadata": {},
   "outputs": [
    {
     "data": {
      "text/html": [
       "        <script type=\"text/javascript\">\n",
       "        window.PlotlyConfig = {MathJaxConfig: 'local'};\n",
       "        if (window.MathJax) {MathJax.Hub.Config({SVG: {font: \"STIX-Web\"}});}\n",
       "        if (typeof require !== 'undefined') {\n",
       "        require.undef(\"plotly\");\n",
       "        requirejs.config({\n",
       "            paths: {\n",
       "                'plotly': ['https://cdn.plot.ly/plotly-latest.min']\n",
       "            }\n",
       "        });\n",
       "        require(['plotly'], function(Plotly) {\n",
       "            window._Plotly = Plotly;\n",
       "        });\n",
       "        }\n",
       "        </script>\n",
       "        "
      ]
     },
     "metadata": {},
     "output_type": "display_data"
    },
    {
     "data": {
      "image/png": "[encoded data removed]",
      "text/plain": [
       "<Figure size 576x396 with 1 Axes>"
      ]
     },
     "metadata": {},
     "output_type": "display_data"
    }
   ],
   "source": [
    "plot_model(kmeans, plot = 'elbow')"
   ]
  },
  {
   "cell_type": "code",
   "execution_count": 21,
   "metadata": {},
   "outputs": [
    {
     "data": {
      "text/html": [
       "        <script type=\"text/javascript\">\n",
       "        window.PlotlyConfig = {MathJaxConfig: 'local'};\n",
       "        if (window.MathJax) {MathJax.Hub.Config({SVG: {font: \"STIX-Web\"}});}\n",
       "        if (typeof require !== 'undefined') {\n",
       "        require.undef(\"plotly\");\n",
       "        requirejs.config({\n",
       "            paths: {\n",
       "                'plotly': ['https://cdn.plot.ly/plotly-latest.min']\n",
       "            }\n",
       "        });\n",
       "        require(['plotly'], function(Plotly) {\n",
       "            window._Plotly = Plotly;\n",
       "        });\n",
       "        }\n",
       "        </script>\n",
       "        "
      ]
     },
     "metadata": {},
     "output_type": "display_data"
    },
    {
     "data": {
      "image/png": "[encoded data removed]",
      "text/plain": [
       "<Figure size 576x396 with 1 Axes>"
      ]
     },
     "metadata": {},
     "output_type": "display_data"
    }
   ],
   "source": [
    "plot_model(kmeans, plot = 'silhouette')"
   ]
  },
  {
   "cell_type": "code",
   "execution_count": 22,
   "metadata": {},
   "outputs": [
    {
     "data": {
      "text/html": [
       "        <script type=\"text/javascript\">\n",
       "        window.PlotlyConfig = {MathJaxConfig: 'local'};\n",
       "        if (window.MathJax) {MathJax.Hub.Config({SVG: {font: \"STIX-Web\"}});}\n",
       "        if (typeof require !== 'undefined') {\n",
       "        require.undef(\"plotly\");\n",
       "        requirejs.config({\n",
       "            paths: {\n",
       "                'plotly': ['https://cdn.plot.ly/plotly-latest.min']\n",
       "            }\n",
       "        });\n",
       "        require(['plotly'], function(Plotly) {\n",
       "            window._Plotly = Plotly;\n",
       "        });\n",
       "        }\n",
       "        </script>\n",
       "        "
      ]
     },
     "metadata": {},
     "output_type": "display_data"
    },
    {
     "data": {
      "image/png": "[encoded data removed]",
      "text/plain": [
       "<Figure size 576x396 with 2 Axes>"
      ]
     },
     "metadata": {},
     "output_type": "display_data"
    }
   ],
   "source": [
    "plot_model(kmeans, plot = 'distance')"
   ]
  },
  {
   "cell_type": "code",
   "execution_count": 23,
   "metadata": {},
   "outputs": [
    {
     "data": {
      "application/vnd.plotly.v1+json": {
       "config": {
        "plotlyServerURL": "https://plot.ly"
       },
       "data": [
        {
         "alignmentgroup": "True",
         "bingroup": "x",
         "hoverlabel": {
          "namelength": 0
         },
         "hovertemplate": "Cluster=%{x}<br>count=%{y}",
         "legendgroup": "Cluster=Cluster 0",
         "marker": {
          "color": "#636efa",
          "opacity": 0.7
         },
         "name": "Cluster=Cluster 0",
         "offsetgroup": "Cluster=Cluster 0",
         "orientation": "v",
         "showlegend": true,
         "type": "histogram",
         "x": [
          "Cluster 0",
          "Cluster 0",
          "Cluster 0",
          "Cluster 0",
          "Cluster 0",
          "Cluster 0",
          "Cluster 0",
          "Cluster 0",
          "Cluster 0",
          "Cluster 0",
          "Cluster 0",
          "Cluster 0",
          "Cluster 0",
          "Cluster 0",
          "Cluster 0",
          "Cluster 0",
          "Cluster 0",
          "Cluster 0",
          "Cluster 0",
          "Cluster 0",
          "Cluster 0",
          "Cluster 0",
          "Cluster 0",
          "Cluster 0",
          "Cluster 0",
          "Cluster 0",
          "Cluster 0",
          "Cluster 0",
          "Cluster 0",
          "Cluster 0",
          "Cluster 0",
          "Cluster 0",
          "Cluster 0",
          "Cluster 0",
          "Cluster 0",
          "Cluster 0",
          "Cluster 0",
          "Cluster 0",
          "Cluster 0",
          "Cluster 0",
          "Cluster 0",
          "Cluster 0",
          "Cluster 0",
          "Cluster 0",
          "Cluster 0",
          "Cluster 0",
          "Cluster 0",
          "Cluster 0",
          "Cluster 0",
          "Cluster 0",
          "Cluster 0",
          "Cluster 0",
          "Cluster 0",
          "Cluster 0",
          "Cluster 0",
          "Cluster 0",
          "Cluster 0",
          "Cluster 0",
          "Cluster 0",
          "Cluster 0",
          "Cluster 0",
          "Cluster 0",
          "Cluster 0",
          "Cluster 0",
          "Cluster 0",
          "Cluster 0",
          "Cluster 0",
          "Cluster 0",
          "Cluster 0",
          "Cluster 0",
          "Cluster 0",
          "Cluster 0",
          "Cluster 0",
          "Cluster 0",
          "Cluster 0",
          "Cluster 0",
          "Cluster 0",
          "Cluster 0",
          "Cluster 0",
          "Cluster 0",
          "Cluster 0",
          "Cluster 0",
          "Cluster 0",
          "Cluster 0",
          "Cluster 0",
          "Cluster 0",
          "Cluster 0",
          "Cluster 0",
          "Cluster 0",
          "Cluster 0",
          "Cluster 0",
          "Cluster 0",
          "Cluster 0",
          "Cluster 0",
          "Cluster 0",
          "Cluster 0",
          "Cluster 0",
          "Cluster 0",
          "Cluster 0",
          "Cluster 0",
          "Cluster 0",
          "Cluster 0",
          "Cluster 0",
          "Cluster 0",
          "Cluster 0",
          "Cluster 0",
          "Cluster 0",
          "Cluster 0",
          "Cluster 0",
          "Cluster 0",
          "Cluster 0",
          "Cluster 0",
          "Cluster 0",
          "Cluster 0",
          "Cluster 0",
          "Cluster 0",
          "Cluster 0",
          "Cluster 0",
          "Cluster 0",
          "Cluster 0",
          "Cluster 0",
          "Cluster 0",
          "Cluster 0",
          "Cluster 0",
          "Cluster 0",
          "Cluster 0",
          "Cluster 0",
          "Cluster 0",
          "Cluster 0",
          "Cluster 0",
          "Cluster 0",
          "Cluster 0",
          "Cluster 0",
          "Cluster 0",
          "Cluster 0",
          "Cluster 0",
          "Cluster 0",
          "Cluster 0",
          "Cluster 0",
          "Cluster 0",
          "Cluster 0",
          "Cluster 0",
          "Cluster 0",
          "Cluster 0",
          "Cluster 0",
          "Cluster 0",
          "Cluster 0"
         ],
         "xaxis": "x",
         "yaxis": "y"
        },
        {
         "alignmentgroup": "True",
         "customdata": [
          [
           89,
           30267,
           0.2893100658351509,
           14386.351879589123,
           "Cluster 0"
          ],
          [
           88,
           28585,
           0.3977396663840213,
           16725.841854363774,
           "Cluster 0"
          ],
          [
           94,
           27771,
           0.3025032231546657,
           17303.957194969433,
           "Cluster 0"
          ],
          [
           87,
           18459,
           0.2645499059687874,
           15637.59765457844,
           "Cluster 0"
          ],
          [
           89,
           28160,
           0.3388488510290433,
           15607.061781887898,
           "Cluster 0"
          ],
          [
           93,
           20440,
           0.2975730342292497,
           17406.074017844054,
           "Cluster 0"
          ],
          [
           82,
           32494,
           0.3273154026360584,
           16799.444266662453,
           "Cluster 0"
          ],
          [
           87,
           30102,
           0.3903905943444749,
           16330.081190027211,
           "Cluster 0"
          ],
          [
           89,
           20292,
           0.3121481952107594,
           16023.4456584523,
           "Cluster 0"
          ],
          [
           84,
           27179,
           0.3474234168306904,
           15612.628547766899,
           "Cluster 0"
          ],
          [
           87,
           24578,
           0.37616545875063534,
           17789.247521813828,
           "Cluster 0"
          ],
          [
           88,
           33251,
           0.3043913649608802,
           18868.24161249696,
           "Cluster 0"
          ],
          [
           89,
           34524,
           0.348118273264174,
           14051.256515312789,
           "Cluster 0"
          ],
          [
           95,
           27038,
           0.3313520070109344,
           18126.577451151075,
           "Cluster 0"
          ],
          [
           89,
           26127,
           0.3044743722681633,
           17194.828018777476,
           "Cluster 0"
          ],
          [
           86,
           46977,
           0.2827283910152334,
           15628.957075805025,
           "Cluster 0"
          ],
          [
           85,
           27599,
           0.2819950483303406,
           13470.97060503703,
           "Cluster 0"
          ],
          [
           87,
           25701,
           0.3152205738281265,
           15738.859295516553,
           "Cluster 0"
          ],
          [
           92,
           33550,
           0.3685156285793065,
           17106.32591058189,
           "Cluster 0"
          ],
          [
           89,
           19202,
           0.3819877440174351,
           16626.22236147723,
           "Cluster 0"
          ],
          [
           85,
           28408,
           0.3580738593579665,
           15063.335797441836,
           "Cluster 0"
          ],
          [
           89,
           33311,
           0.3761469685086391,
           17093.06995548225,
           "Cluster 0"
          ],
          [
           85,
           26355,
           0.34234066669498114,
           17971.19363998381,
           "Cluster 0"
          ],
          [
           92,
           32915,
           0.3885749195868542,
           16694.706839244012,
           "Cluster 0"
          ],
          [
           89,
           31096,
           0.2785878455435617,
           17736.94259966666,
           "Cluster 0"
          ],
          [
           79,
           32421,
           0.3032762059432743,
           15319.467662272391,
           "Cluster 0"
          ],
          [
           90,
           33259,
           0.377571058498228,
           15315.028503741696,
           "Cluster 0"
          ],
          [
           92,
           35484,
           0.3970636039704499,
           17324.045112814925,
           "Cluster 0"
          ],
          [
           88,
           31366,
           0.3796208481334848,
           16079.622699815933,
           "Cluster 0"
          ],
          [
           84,
           29492,
           0.3336031402694437,
           17954.09505703969,
           "Cluster 0"
          ],
          [
           88,
           26092,
           0.3128732065230775,
           17105.79392615357,
           "Cluster 0"
          ],
          [
           84,
           42018,
           0.29799360218993026,
           16148.370454036614,
           "Cluster 0"
          ],
          [
           88,
           34001,
           0.33756932388752803,
           15530.934134298665,
           "Cluster 0"
          ],
          [
           91,
           29082,
           0.28248852137129143,
           18794.488169074688,
           "Cluster 0"
          ],
          [
           90,
           24376,
           0.2812794569155436,
           15134.994226396464,
           "Cluster 0"
          ],
          [
           88,
           28409,
           0.30565353367521064,
           17326.175608364214,
           "Cluster 0"
          ],
          [
           86,
           36031,
           0.2401766350783482,
           16945.326244896307,
           "Cluster 0"
          ],
          [
           85,
           34634,
           0.3690001696241634,
           16719.815875018445,
           "Cluster 0"
          ],
          [
           86,
           15695,
           0.25717496647489363,
           17366.186263516567,
           "Cluster 0"
          ],
          [
           91,
           30148,
           0.2773889467565771,
           15324.287405101717,
           "Cluster 0"
          ],
          [
           85,
           28401,
           0.3694371368158697,
           15990.49413056604,
           "Cluster 0"
          ],
          [
           87,
           15671,
           0.3507250914944152,
           14326.601120246103,
           "Cluster 0"
          ],
          [
           94,
           20719,
           0.336402269797664,
           16281.832273239006,
           "Cluster 0"
          ],
          [
           85,
           30794,
           0.2862292747117072,
           17096.39150937826,
           "Cluster 0"
          ],
          [
           82,
           24391,
           0.27610134635529604,
           17053.03010738692,
           "Cluster 0"
          ],
          [
           83,
           28497,
           0.3938023931664613,
           15510.112981164848,
           "Cluster 0"
          ],
          [
           88,
           17388,
           0.4661894446652393,
           16698.6210372462,
           "Cluster 0"
          ],
          [
           85,
           34802,
           0.2987969233586417,
           16450.003270402787,
           "Cluster 0"
          ],
          [
           89,
           22008,
           0.3819060693389532,
           16458.398097731253,
           "Cluster 0"
          ],
          [
           89,
           24520,
           0.44383270684567067,
           13556.9358834699,
           "Cluster 0"
          ],
          [
           79,
           38201,
           0.3697828881534748,
           16393.395697309446,
           "Cluster 0"
          ],
          [
           86,
           28779,
           0.3365233301816881,
           16047.268331461928,
           "Cluster 0"
          ],
          [
           84,
           38042,
           0.3660858718547989,
           17465.856285855403,
           "Cluster 0"
          ],
          [
           87,
           46910,
           0.3085616998317755,
           14789.14847617646,
           "Cluster 0"
          ],
          [
           83,
           26882,
           0.34797963237384105,
           17775.22817123954,
           "Cluster 0"
          ],
          [
           86,
           18812,
           0.34154576038705153,
           16157.734142403422,
           "Cluster 0"
          ],
          [
           85,
           29610,
           0.3181352453742131,
           18475.487468080933,
           "Cluster 0"
          ],
          [
           87,
           30812,
           0.3144631516753479,
           15238.118997598334,
           "Cluster 0"
          ],
          [
           88,
           19510,
           0.3167510258154691,
           16529.20080632274,
           "Cluster 0"
          ],
          [
           88,
           26351,
           0.3041682062164747,
           14035.917553542351,
           "Cluster 0"
          ],
          [
           85,
           21250,
           0.3104101151420252,
           16033.971166673777,
           "Cluster 0"
          ],
          [
           90,
           22288,
           0.2713268321051208,
           18434.099152391347,
           "Cluster 0"
          ],
          [
           91,
           36639,
           0.3261988874784867,
           16275.703341192586,
           "Cluster 0"
          ],
          [
           87,
           12000,
           0.3429910076112659,
           16180.26525174153,
           "Cluster 0"
          ],
          [
           88,
           35051,
           0.3860515062876169,
           17593.24679258195,
           "Cluster 0"
          ],
          [
           91,
           12038,
           0.3498032558856572,
           16464.960504438823,
           "Cluster 0"
          ],
          [
           86,
           31994,
           0.24947694035510065,
           18210.088099070614,
           "Cluster 0"
          ],
          [
           87,
           30178,
           0.2793159778940049,
           16123.070750832,
           "Cluster 0"
          ],
          [
           94,
           18937,
           0.3470950600753079,
           17739.776098377628,
           "Cluster 0"
          ],
          [
           82,
           33610,
           0.3012532342412973,
           17755.664940228176,
           "Cluster 0"
          ],
          [
           89,
           26940,
           0.3260051328059917,
           16555.159377159824,
           "Cluster 0"
          ],
          [
           93,
           17672,
           0.3032923688871533,
           18516.451810726718,
           "Cluster 0"
          ],
          [
           90,
           33490,
           0.4199085281737912,
           17091.904228934392,
           "Cluster 0"
          ],
          [
           91,
           25237,
           0.3535018242414266,
           17292.733103848248,
           "Cluster 0"
          ],
          [
           90,
           30178,
           0.2823512821567113,
           16182.8384364088,
           "Cluster 0"
          ],
          [
           88,
           32708,
           0.3682153159958089,
           16711.0679804242,
           "Cluster 0"
          ],
          [
           83,
           18162,
           0.3013734548863509,
           16029.469213914268,
           "Cluster 0"
          ],
          [
           94,
           38923,
           0.33022601809734325,
           16971.181554867213,
           "Cluster 0"
          ],
          [
           92,
           35877,
           0.3668917159124752,
           17287.907016982324,
           "Cluster 0"
          ],
          [
           89,
           25252,
           0.32176522093208865,
           16539.364186086335,
           "Cluster 0"
          ],
          [
           87,
           25566,
           0.3167603729756968,
           15188.058749407255,
           "Cluster 0"
          ],
          [
           84,
           27384,
           0.31364671699548896,
           16734.672754073246,
           "Cluster 0"
          ],
          [
           84,
           27544,
           0.2309337663207005,
           18207.36169648481,
           "Cluster 0"
          ],
          [
           91,
           28777,
           0.324193555035782,
           17808.2662415687,
           "Cluster 0"
          ],
          [
           91,
           27168,
           0.3322388165540652,
           15893.729773516614,
           "Cluster 0"
          ],
          [
           88,
           22602,
           0.35674482887974684,
           16740.343496726702,
           "Cluster 0"
          ],
          [
           81,
           34425,
           0.2726097792323641,
           16262.623790655764,
           "Cluster 0"
          ],
          [
           85,
           29204,
           0.3254914498834959,
           16918.903460369133,
           "Cluster 0"
          ],
          [
           91,
           20681,
           0.3546791690549572,
           18401.08844474873,
           "Cluster 0"
          ],
          [
           82,
           24221,
           0.4735496605323542,
           16251.759445212669,
           "Cluster 0"
          ],
          [
           86,
           35998,
           0.3216356471662456,
           20000,
           "Cluster 0"
          ],
          [
           94,
           27169,
           0.3141730453838618,
           15061.776215142369,
           "Cluster 0"
          ],
          [
           91,
           29750,
           0.2884703320713124,
           19201.11991627576,
           "Cluster 0"
          ],
          [
           88,
           17946,
           0.26964363039994416,
           16715.160017840968,
           "Cluster 0"
          ],
          [
           91,
           26424,
           0.3193886529047028,
           16501.46877669979,
           "Cluster 0"
          ],
          [
           84,
           22286,
           0.3955062459001081,
           17886.53737311577,
           "Cluster 0"
          ],
          [
           83,
           30492,
           0.3016314685914632,
           15365.85846293255,
           "Cluster 0"
          ],
          [
           90,
           25733,
           0.3385629680709827,
           17631.56888411863,
           "Cluster 0"
          ],
          [
           88,
           27169,
           0.28005950486141434,
           15260.635546195437,
           "Cluster 0"
          ],
          [
           91,
           16950,
           0.32300404344763,
           17172.609400509067,
           "Cluster 0"
          ],
          [
           88,
           28802,
           0.4083878319987073,
           16293.038332542192,
           "Cluster 0"
          ],
          [
           92,
           22484,
           0.3317732623948493,
           18615.632589788456,
           "Cluster 0"
          ],
          [
           90,
           29029,
           0.30375897133462404,
           15592.991530526488,
           "Cluster 0"
          ],
          [
           87,
           23042,
           0.3663120107544869,
           18149.035872923057,
           "Cluster 0"
          ],
          [
           94,
           23854,
           0.3144466826182581,
           16828.410118749016,
           "Cluster 0"
          ],
          [
           87,
           29909,
           0.3421516318130469,
           18142.232746738577,
           "Cluster 0"
          ],
          [
           87,
           31481,
           0.317423970601333,
           16180.68808203422,
           "Cluster 0"
          ],
          [
           84,
           24105,
           0.2718090229374729,
           16524.902538052145,
           "Cluster 0"
          ],
          [
           82,
           33636,
           0.3717829785401914,
           17866.83359752812,
           "Cluster 0"
          ],
          [
           84,
           20704,
           0.3794963151514172,
           16816.911895743782,
           "Cluster 0"
          ],
          [
           84,
           30481,
           0.3970228936031003,
           16837.205964813103,
           "Cluster 0"
          ],
          [
           88,
           33303,
           0.39971568554521497,
           15232.598068845287,
           "Cluster 0"
          ],
          [
           87,
           26045,
           0.3752921226023748,
           15903.558359374925,
           "Cluster 0"
          ],
          [
           92,
           36032,
           0.3369683066109672,
           17348.5998812573,
           "Cluster 0"
          ],
          [
           91,
           22672,
           0.2710645345158169,
           15407.646761130874,
           "Cluster 0"
          ],
          [
           91,
           24370,
           0.2963285713632805,
           16141.048981383728,
           "Cluster 0"
          ],
          [
           83,
           34529,
           0.3172075114569807,
           16517.208746949746,
           "Cluster 0"
          ],
          [
           84,
           36463,
           0.3536209572557781,
           16563.372591147832,
           "Cluster 0"
          ],
          [
           90,
           37503,
           0.35778831446458764,
           17258.57497274541,
           "Cluster 0"
          ],
          [
           86,
           27705,
           0.3293769514872405,
           17130.85610211788,
           "Cluster 0"
          ],
          [
           91,
           36991,
           0.2685979050949868,
           19047.77233878285,
           "Cluster 0"
          ],
          [
           97,
           27271,
           0.28392289527040304,
           14928.165597390327,
           "Cluster 0"
          ],
          [
           92,
           18724,
           0.3278623148176303,
           15341.381109594675,
           "Cluster 0"
          ],
          [
           92,
           22616,
           0.3228506824321553,
           17275.66131398456,
           "Cluster 0"
          ],
          [
           91,
           28165,
           0.3036929225036061,
           17460.179350212424,
           "Cluster 0"
          ],
          [
           90,
           22782,
           0.3563068710287742,
           15924.071707885845,
           "Cluster 0"
          ],
          [
           88,
           17851,
           0.2898659849627828,
           17472.470686173863,
           "Cluster 0"
          ],
          [
           91,
           25886,
           0.30175376758370465,
           17266.045729118025,
           "Cluster 0"
          ],
          [
           86,
           23400,
           0.27803553844702666,
           15215.28126373834,
           "Cluster 0"
          ],
          [
           83,
           28727,
           0.3082630418510537,
           18205.33626089001,
           "Cluster 0"
          ],
          [
           94,
           28352,
           0.37687573531685575,
           16798.886114738052,
           "Cluster 0"
          ],
          [
           83,
           23206,
           0.3212403632065312,
           16870.672003783384,
           "Cluster 0"
          ],
          [
           87,
           23322,
           0.30682119734644964,
           16131.267659393414,
           "Cluster 0"
          ],
          [
           85,
           21652,
           0.3184561372216806,
           14175.16988549895,
           "Cluster 0"
          ],
          [
           87,
           26665,
           0.4021456613889217,
           17376.914743318182,
           "Cluster 0"
          ],
          [
           83,
           30721,
           0.3311418077630257,
           17705.99238527814,
           "Cluster 0"
          ],
          [
           83,
           33170,
           0.24107774427464634,
           16620.010473689304,
           "Cluster 0"
          ],
          [
           90,
           33188,
           0.24881006879023135,
           15866.913937696345,
           "Cluster 0"
          ],
          [
           87,
           17760,
           0.34877754843050746,
           16869.507130301474,
           "Cluster 0"
          ],
          [
           91,
           30756,
           0.30369803009825364,
           15492.004711465304,
           "Cluster 0"
          ],
          [
           91,
           26917,
           0.37671353045834655,
           17986.618644605885,
           "Cluster 0"
          ],
          [
           83,
           34384,
           0.3247186821733417,
           14783.379085794499,
           "Cluster 0"
          ],
          [
           93,
           19934,
           0.20314023979537812,
           17969.693768505334,
           "Cluster 0"
          ],
          [
           87,
           42592,
           0.35528968203827593,
           18086.287157859304,
           "Cluster 0"
          ],
          [
           90,
           35297,
           0.35514901905663643,
           16091.401954058958,
           "Cluster 0"
          ],
          [
           84,
           18244,
           0.29266337446440194,
           17815.348406878897,
           "Cluster 0"
          ],
          [
           84,
           27693,
           0.3670629731870412,
           17879.558905551898,
           "Cluster 0"
          ]
         ],
         "hoverlabel": {
          "namelength": 0
         },
         "hovertemplate": "Cluster=%{customdata[4]}<br>Age=%{customdata[0]}<br>Income=%{customdata[1]}<br>SpendingScore=%{customdata[2]}<br>Savings=%{customdata[3]}",
         "legendgroup": "Cluster=Cluster 0",
         "marker": {
          "color": "#636efa"
         },
         "name": "Cluster=Cluster 0",
         "notched": true,
         "offsetgroup": "Cluster=Cluster 0",
         "showlegend": false,
         "type": "box",
         "x": [
          "Cluster 0",
          "Cluster 0",
          "Cluster 0",
          "Cluster 0",
          "Cluster 0",
          "Cluster 0",
          "Cluster 0",
          "Cluster 0",
          "Cluster 0",
          "Cluster 0",
          "Cluster 0",
          "Cluster 0",
          "Cluster 0",
          "Cluster 0",
          "Cluster 0",
          "Cluster 0",
          "Cluster 0",
          "Cluster 0",
          "Cluster 0",
          "Cluster 0",
          "Cluster 0",
          "Cluster 0",
          "Cluster 0",
          "Cluster 0",
          "Cluster 0",
          "Cluster 0",
          "Cluster 0",
          "Cluster 0",
          "Cluster 0",
          "Cluster 0",
          "Cluster 0",
          "Cluster 0",
          "Cluster 0",
          "Cluster 0",
          "Cluster 0",
          "Cluster 0",
          "Cluster 0",
          "Cluster 0",
          "Cluster 0",
          "Cluster 0",
          "Cluster 0",
          "Cluster 0",
          "Cluster 0",
          "Cluster 0",
          "Cluster 0",
          "Cluster 0",
          "Cluster 0",
          "Cluster 0",
          "Cluster 0",
          "Cluster 0",
          "Cluster 0",
          "Cluster 0",
          "Cluster 0",
          "Cluster 0",
          "Cluster 0",
          "Cluster 0",
          "Cluster 0",
          "Cluster 0",
          "Cluster 0",
          "Cluster 0",
          "Cluster 0",
          "Cluster 0",
          "Cluster 0",
          "Cluster 0",
          "Cluster 0",
          "Cluster 0",
          "Cluster 0",
          "Cluster 0",
          "Cluster 0",
          "Cluster 0",
          "Cluster 0",
          "Cluster 0",
          "Cluster 0",
          "Cluster 0",
          "Cluster 0",
          "Cluster 0",
          "Cluster 0",
          "Cluster 0",
          "Cluster 0",
          "Cluster 0",
          "Cluster 0",
          "Cluster 0",
          "Cluster 0",
          "Cluster 0",
          "Cluster 0",
          "Cluster 0",
          "Cluster 0",
          "Cluster 0",
          "Cluster 0",
          "Cluster 0",
          "Cluster 0",
          "Cluster 0",
          "Cluster 0",
          "Cluster 0",
          "Cluster 0",
          "Cluster 0",
          "Cluster 0",
          "Cluster 0",
          "Cluster 0",
          "Cluster 0",
          "Cluster 0",
          "Cluster 0",
          "Cluster 0",
          "Cluster 0",
          "Cluster 0",
          "Cluster 0",
          "Cluster 0",
          "Cluster 0",
          "Cluster 0",
          "Cluster 0",
          "Cluster 0",
          "Cluster 0",
          "Cluster 0",
          "Cluster 0",
          "Cluster 0",
          "Cluster 0",
          "Cluster 0",
          "Cluster 0",
          "Cluster 0",
          "Cluster 0",
          "Cluster 0",
          "Cluster 0",
          "Cluster 0",
          "Cluster 0",
          "Cluster 0",
          "Cluster 0",
          "Cluster 0",
          "Cluster 0",
          "Cluster 0",
          "Cluster 0",
          "Cluster 0",
          "Cluster 0",
          "Cluster 0",
          "Cluster 0",
          "Cluster 0",
          "Cluster 0",
          "Cluster 0",
          "Cluster 0",
          "Cluster 0",
          "Cluster 0",
          "Cluster 0",
          "Cluster 0",
          "Cluster 0",
          "Cluster 0",
          "Cluster 0",
          "Cluster 0",
          "Cluster 0"
         ],
         "xaxis": "x2",
         "yaxis": "y2"
        },
        {
         "alignmentgroup": "True",
         "bingroup": "x",
         "hoverlabel": {
          "namelength": 0
         },
         "hovertemplate": "Cluster=%{x}<br>count=%{y}",
         "legendgroup": "Cluster=Cluster 1",
         "marker": {
          "color": "#EF553B",
          "opacity": 0.7
         },
         "name": "Cluster=Cluster 1",
         "offsetgroup": "Cluster=Cluster 1",
         "orientation": "v",
         "showlegend": true,
         "type": "histogram",
         "x": [
          "Cluster 1",
          "Cluster 1",
          "Cluster 1",
          "Cluster 1",
          "Cluster 1",
          "Cluster 1",
          "Cluster 1",
          "Cluster 1",
          "Cluster 1",
          "Cluster 1",
          "Cluster 1",
          "Cluster 1",
          "Cluster 1",
          "Cluster 1",
          "Cluster 1",
          "Cluster 1",
          "Cluster 1",
          "Cluster 1",
          "Cluster 1",
          "Cluster 1",
          "Cluster 1",
          "Cluster 1",
          "Cluster 1",
          "Cluster 1",
          "Cluster 1",
          "Cluster 1",
          "Cluster 1",
          "Cluster 1",
          "Cluster 1",
          "Cluster 1",
          "Cluster 1",
          "Cluster 1",
          "Cluster 1",
          "Cluster 1",
          "Cluster 1",
          "Cluster 1",
          "Cluster 1",
          "Cluster 1",
          "Cluster 1",
          "Cluster 1",
          "Cluster 1",
          "Cluster 1",
          "Cluster 1",
          "Cluster 1",
          "Cluster 1",
          "Cluster 1",
          "Cluster 1",
          "Cluster 1",
          "Cluster 1",
          "Cluster 1",
          "Cluster 1",
          "Cluster 1",
          "Cluster 1",
          "Cluster 1",
          "Cluster 1",
          "Cluster 1",
          "Cluster 1",
          "Cluster 1",
          "Cluster 1",
          "Cluster 1",
          "Cluster 1",
          "Cluster 1",
          "Cluster 1",
          "Cluster 1",
          "Cluster 1",
          "Cluster 1",
          "Cluster 1",
          "Cluster 1",
          "Cluster 1",
          "Cluster 1",
          "Cluster 1",
          "Cluster 1",
          "Cluster 1",
          "Cluster 1",
          "Cluster 1",
          "Cluster 1",
          "Cluster 1",
          "Cluster 1",
          "Cluster 1",
          "Cluster 1",
          "Cluster 1",
          "Cluster 1",
          "Cluster 1",
          "Cluster 1",
          "Cluster 1",
          "Cluster 1",
          "Cluster 1",
          "Cluster 1",
          "Cluster 1",
          "Cluster 1",
          "Cluster 1",
          "Cluster 1",
          "Cluster 1",
          "Cluster 1",
          "Cluster 1",
          "Cluster 1",
          "Cluster 1",
          "Cluster 1",
          "Cluster 1",
          "Cluster 1",
          "Cluster 1",
          "Cluster 1",
          "Cluster 1",
          "Cluster 1",
          "Cluster 1",
          "Cluster 1",
          "Cluster 1",
          "Cluster 1",
          "Cluster 1",
          "Cluster 1",
          "Cluster 1",
          "Cluster 1",
          "Cluster 1",
          "Cluster 1",
          "Cluster 1",
          "Cluster 1",
          "Cluster 1",
          "Cluster 1",
          "Cluster 1",
          "Cluster 1",
          "Cluster 1",
          "Cluster 1",
          "Cluster 1",
          "Cluster 1",
          "Cluster 1",
          "Cluster 1",
          "Cluster 1",
          "Cluster 1",
          "Cluster 1",
          "Cluster 1",
          "Cluster 1",
          "Cluster 1",
          "Cluster 1",
          "Cluster 1",
          "Cluster 1",
          "Cluster 1",
          "Cluster 1",
          "Cluster 1",
          "Cluster 1",
          "Cluster 1",
          "Cluster 1",
          "Cluster 1",
          "Cluster 1",
          "Cluster 1",
          "Cluster 1",
          "Cluster 1",
          "Cluster 1",
          "Cluster 1",
          "Cluster 1",
          "Cluster 1",
          "Cluster 1"
         ],
         "xaxis": "x",
         "yaxis": "y"
        },
        {
         "alignmentgroup": "True",
         "customdata": [
          [
           34,
           111303,
           0.34531257710928803,
           14624.318634976555,
           "Cluster 1"
          ],
          [
           35,
           105991,
           0.34337797815210225,
           16616.088239618915,
           "Cluster 1"
          ],
          [
           33,
           101058,
           0.3150815497840024,
           14911.868398206978,
           "Cluster 1"
          ],
          [
           33,
           106757,
           0.25839611372125515,
           14431.652799234367,
           "Cluster 1"
          ],
          [
           34,
           103428,
           0.2474244093916156,
           13791.035761571968,
           "Cluster 1"
          ],
          [
           36,
           98137,
           0.29740129315965397,
           15978.332837131276,
           "Cluster 1"
          ],
          [
           29,
           119366,
           0.3587713900686116,
           15012.853014226299,
           "Cluster 1"
          ],
          [
           84,
           110582,
           0.07904903227945975,
           14937.995169685584,
           "Cluster 1"
          ],
          [
           83,
           117943,
           0.07721324003343044,
           15391.95219220651,
           "Cluster 1"
          ],
          [
           36,
           100158,
           0.31606041409802405,
           13832.379370734528,
           "Cluster 1"
          ],
          [
           31,
           112943,
           0.34123950330738706,
           14297.702229457283,
           "Cluster 1"
          ],
          [
           38,
           94775,
           0.3803902009461493,
           16867.13082002739,
           "Cluster 1"
          ],
          [
           31,
           114833,
           0.3050696862135815,
           13953.029721407644,
           "Cluster 1"
          ],
          [
           36,
           96336,
           0.28809756719298163,
           15286.769335194167,
           "Cluster 1"
          ],
          [
           38,
           113659,
           0.3334859873871594,
           14364.693391419,
           "Cluster 1"
          ],
          [
           39,
           99216,
           0.21660614339457274,
           15230.345105300736,
           "Cluster 1"
          ],
          [
           90,
           117668,
           0.08272274299401555,
           12554.692742420659,
           "Cluster 1"
          ],
          [
           83,
           119429,
           0.042154801078558464,
           15607.561541234569,
           "Cluster 1"
          ],
          [
           35,
           106588,
           0.3422142051018276,
           15648.65667046098,
           "Cluster 1"
          ],
          [
           33,
           107100,
           0.3424354833732075,
           14895.473479049117,
           "Cluster 1"
          ],
          [
           32,
           108417,
           0.28737086714008075,
           16696.398659007995,
           "Cluster 1"
          ],
          [
           31,
           111449,
           0.29410620308282165,
           13929.62155143948,
           "Cluster 1"
          ],
          [
           31,
           101481,
           0.2702350511848681,
           15226.614133627569,
           "Cluster 1"
          ],
          [
           39,
           100540,
           0.3849229829012918,
           16741.013894847743,
           "Cluster 1"
          ],
          [
           37,
           107958,
           0.34666907654318496,
           13641.009538079368,
           "Cluster 1"
          ],
          [
           87,
           117564,
           0.1282795957567026,
           14000.248964992143,
           "Cluster 1"
          ],
          [
           33,
           108345,
           0.32541328975821004,
           15646.32171735943,
           "Cluster 1"
          ],
          [
           37,
           108635,
           0.28649570314839057,
           14558.054542315444,
           "Cluster 1"
          ],
          [
           31,
           116247,
           0.2943151380482853,
           16178.204715186297,
           "Cluster 1"
          ],
          [
           37,
           106664,
           0.2775867542026021,
           14479.374117495967,
           "Cluster 1"
          ],
          [
           88,
           114767,
           0.032207542338926365,
           17833.093470094427,
           "Cluster 1"
          ],
          [
           91,
           118794,
           0.0192120658984376,
           14047.388986415735,
           "Cluster 1"
          ],
          [
           30,
           99949,
           0.344679223509786,
           13621.639726331408,
           "Cluster 1"
          ],
          [
           33,
           94964,
           0.3302325026567214,
           14018.349867336628,
           "Cluster 1"
          ],
          [
           36,
           105567,
           0.3126388486955741,
           14355.31094653896,
           "Cluster 1"
          ],
          [
           28,
           109075,
           0.36276196062401134,
           14082.458238005996,
           "Cluster 1"
          ],
          [
           36,
           99780,
           0.2654326074020303,
           16398.40133318453,
           "Cluster 1"
          ],
          [
           33,
           100275,
           0.3630856827120957,
           13735.438742381079,
           "Cluster 1"
          ],
          [
           85,
           111389,
           0.0367953622110323,
           16009.237762922363,
           "Cluster 1"
          ],
          [
           26,
           97750,
           0.2934087605160681,
           15823.032361634105,
           "Cluster 1"
          ],
          [
           24,
           110564,
           0.3049430059244969,
           14967.839625179657,
           "Cluster 1"
          ],
          [
           36,
           108004,
           0.3089229914936124,
           15813.964573146997,
           "Cluster 1"
          ],
          [
           33,
           114555,
           0.2792568364789493,
           13746.745438440072,
           "Cluster 1"
          ],
          [
           30,
           98030,
           0.4111117138132285,
           16316.842905166694,
           "Cluster 1"
          ],
          [
           29,
           116451,
           0.3406596106851227,
           15294.661511529368,
           "Cluster 1"
          ],
          [
           40,
           98821,
           0.27908085018704903,
           15995.160053914664,
           "Cluster 1"
          ],
          [
           42,
           106990,
           0.330065422314764,
           14856.938997469417,
           "Cluster 1"
          ],
          [
           28,
           101206,
           0.3874406981253433,
           14936.775388622864,
           "Cluster 1"
          ],
          [
           34,
           89598,
           0.3401523810436963,
           12832.768720823738,
           "Cluster 1"
          ],
          [
           85,
           118169,
           0.123196057747337,
           14855.951023927619,
           "Cluster 1"
          ],
          [
           31,
           107963,
           0.2905086327499087,
           13407.081391032512,
           "Cluster 1"
          ],
          [
           35,
           117112,
           0.3047918711384766,
           15908.035997555322,
           "Cluster 1"
          ],
          [
           37,
           97678,
           0.2574704443875843,
           15834.113173627364,
           "Cluster 1"
          ],
          [
           43,
           101641,
           0.3819838041034955,
           14424.097995592982,
           "Cluster 1"
          ],
          [
           89,
           119697,
           0.0916792017028315,
           16215.399076555514,
           "Cluster 1"
          ],
          [
           37,
           97831,
           0.3744658274308825,
           14935.144813058325,
           "Cluster 1"
          ],
          [
           90,
           124170,
           0.030751314393913882,
           14773.407205599842,
           "Cluster 1"
          ],
          [
           31,
           105826,
           0.2862743235826754,
           13856.805832195869,
           "Cluster 1"
          ],
          [
           29,
           91375,
           0.2354504258588228,
           13104.962760687613,
           "Cluster 1"
          ],
          [
           83,
           117347,
           0.15569409232860987,
           15086.701120471576,
           "Cluster 1"
          ],
          [
           84,
           122696,
           0.08218683192473558,
           13809.734086698068,
           "Cluster 1"
          ],
          [
           30,
           101073,
           0.3143871202044516,
           14324.555977118509,
           "Cluster 1"
          ],
          [
           29,
           110860,
           0.31944030103524745,
           16260.42103081417,
           "Cluster 1"
          ],
          [
           88,
           120678,
           0.06327285129660287,
           14264.473846639943,
           "Cluster 1"
          ],
          [
           33,
           106345,
           0.3392354218755358,
           15300.45379012999,
           "Cluster 1"
          ],
          [
           30,
           108581,
           0.3094467811568005,
           15628.791650531211,
           "Cluster 1"
          ],
          [
           34,
           98165,
           0.17412049382306485,
           15721.86284266975,
           "Cluster 1"
          ],
          [
           35,
           112878,
           0.3009135799974076,
           13755.48230187328,
           "Cluster 1"
          ],
          [
           30,
           107525,
           0.2948164301396663,
           12702.847385049918,
           "Cluster 1"
          ],
          [
           92,
           122879,
           0.0607240352184939,
           13709.670274517475,
           "Cluster 1"
          ],
          [
           30,
           102056,
           0.2607006223919937,
           15370.66882713054,
           "Cluster 1"
          ],
          [
           77,
           128596,
           0.04082407066250976,
           14503.410786381415,
           "Cluster 1"
          ],
          [
           34,
           119877,
           0.3054369951589357,
           15634.788286084158,
           "Cluster 1"
          ],
          [
           31,
           108067,
           0.2686742663930692,
           13316.767286164832,
           "Cluster 1"
          ],
          [
           33,
           105667,
           0.25075080562386165,
           12869.761073905089,
           "Cluster 1"
          ],
          [
           37,
           107877,
           0.3346179841546032,
           17968.55392863446,
           "Cluster 1"
          ],
          [
           29,
           112531,
           0.3427661743407053,
           14361.334979176147,
           "Cluster 1"
          ],
          [
           36,
           104285,
           0.2123600508972585,
           13347.558779497918,
           "Cluster 1"
          ],
          [
           31,
           99457,
           0.3658064971511749,
           14580.613477014092,
           "Cluster 1"
          ],
          [
           29,
           106014,
           0.34794511357773106,
           15038.010746320377,
           "Cluster 1"
          ],
          [
           31,
           107994,
           0.2944689389706671,
           13685.972361738892,
           "Cluster 1"
          ],
          [
           28,
           94762,
           0.3035961911057213,
           15352.521936894913,
           "Cluster 1"
          ],
          [
           28,
           99611,
           0.2795578681222758,
           15345.658121390226,
           "Cluster 1"
          ],
          [
           33,
           98033,
           0.30951111585458696,
           15774.690605560645,
           "Cluster 1"
          ],
          [
           30,
           107926,
           0.2301607310342209,
           15520.536309707046,
           "Cluster 1"
          ],
          [
           33,
           111813,
           0.2382437868013801,
           15901.238967721652,
           "Cluster 1"
          ],
          [
           82,
           121642,
           0.054653190464209855,
           14177.513323069668,
           "Cluster 1"
          ],
          [
           84,
           115237,
           0.06877820981367339,
           14396.568282311468,
           "Cluster 1"
          ],
          [
           29,
           102028,
           0.2889604994756899,
           14634.430692347907,
           "Cluster 1"
          ],
          [
           88,
           123651,
           0.02902714029105191,
           13504.577571797938,
           "Cluster 1"
          ],
          [
           30,
           107302,
           0.2396771776819925,
           13993.24401848172,
           "Cluster 1"
          ],
          [
           36,
           109038,
           0.3242132027621541,
           16502.389477657125,
           "Cluster 1"
          ],
          [
           35,
           107131,
           0.2424731551814769,
           16200.013010637644,
           "Cluster 1"
          ],
          [
           38,
           104738,
           0.4059588503683713,
           15634.313868027426,
           "Cluster 1"
          ],
          [
           33,
           116616,
           0.3209300476959025,
           15104.49811363824,
           "Cluster 1"
          ],
          [
           84,
           114406,
           0.12383837464097253,
           16840.570583774286,
           "Cluster 1"
          ],
          [
           39,
           100661,
           0.3766412501689559,
           16873.128638209408,
           "Cluster 1"
          ],
          [
           37,
           106894,
           0.3432357689892068,
           14075.217365594552,
           "Cluster 1"
          ],
          [
           31,
           107115,
           0.3280420856997338,
           15693.499570389358,
           "Cluster 1"
          ],
          [
           35,
           110106,
           0.2867692710102035,
           14924.537223475552,
           "Cluster 1"
          ],
          [
           30,
           96241,
           0.3773384910014747,
           15485.156009739387,
           "Cluster 1"
          ],
          [
           35,
           108499,
           0.2612719132713158,
           16046.08301542436,
           "Cluster 1"
          ],
          [
           86,
           124372,
           0,
           15374.465952896948,
           "Cluster 1"
          ],
          [
           34,
           104284,
           0.34454541177986714,
           13541.801770810564,
           "Cluster 1"
          ],
          [
           32,
           102035,
           0.26207035616469115,
           14209.932802396092,
           "Cluster 1"
          ],
          [
           86,
           128378,
           0.12608340975849852,
           13585.778624417357,
           "Cluster 1"
          ],
          [
           31,
           107932,
           0.3742421881649845,
           12207.526078087714,
           "Cluster 1"
          ],
          [
           35,
           104678,
           0.3279928581002429,
           15422.055799721802,
           "Cluster 1"
          ],
          [
           34,
           107255,
           0.3283430294033384,
           15130.595225546444,
           "Cluster 1"
          ],
          [
           36,
           109809,
           0.355660187354229,
           14978.502144076487,
           "Cluster 1"
          ],
          [
           28,
           111937,
           0.2537347301209012,
           13669.110632506934,
           "Cluster 1"
          ],
          [
           28,
           100592,
           0.2595983487762325,
           15520.355775683653,
           "Cluster 1"
          ],
          [
           86,
           115689,
           0.057842956133581036,
           14803.153273493916,
           "Cluster 1"
          ],
          [
           30,
           106350,
           0.3694162857692797,
           14863.233588279092,
           "Cluster 1"
          ],
          [
           93,
           126601,
           0.025170169477345742,
           14117.44703707058,
           "Cluster 1"
          ],
          [
           31,
           110882,
           0.3252806065281125,
           14004.61374291491,
           "Cluster 1"
          ],
          [
           82,
           126257,
           0.07809619439943333,
           15816.101922357922,
           "Cluster 1"
          ],
          [
           31,
           105036,
           0.2722279930569666,
           16465.063521972657,
           "Cluster 1"
          ],
          [
           38,
           115146,
           0.3144900731288347,
           14798.868153501797,
           "Cluster 1"
          ],
          [
           32,
           110439,
           0.30699015827427256,
           13873.50756985278,
           "Cluster 1"
          ],
          [
           29,
           103223,
           0.3388162937437745,
           16252.883053065632,
           "Cluster 1"
          ],
          [
           37,
           110595,
           0.28664850500199834,
           15235.445457133224,
           "Cluster 1"
          ],
          [
           27,
           106758,
           0.2662947092346973,
           14942.560723173168,
           "Cluster 1"
          ],
          [
           29,
           99161,
           0.3079200040396055,
           15631.836772980834,
           "Cluster 1"
          ],
          [
           37,
           110732,
           0.3226762482802641,
           14265.351840497759,
           "Cluster 1"
          ],
          [
           25,
           106772,
           0.3909047196000217,
           16353.471790615497,
           "Cluster 1"
          ],
          [
           31,
           105006,
           0.3741658782934958,
           15419.41776312329,
           "Cluster 1"
          ],
          [
           37,
           108651,
           0.1923436158292553,
           15881.242198260683,
           "Cluster 1"
          ],
          [
           34,
           98752,
           0.3720337099315751,
           14975.384238944334,
           "Cluster 1"
          ],
          [
           25,
           101503,
           0.28846885607409833,
           15026.262148820157,
           "Cluster 1"
          ],
          [
           29,
           101943,
           0.3256230614429721,
           14619.354282159029,
           "Cluster 1"
          ],
          [
           31,
           102618,
           0.2763779214063509,
           13209.301612848929,
           "Cluster 1"
          ],
          [
           22,
           109152,
           0.32344641636242355,
           16022.482482363523,
           "Cluster 1"
          ],
          [
           34,
           98993,
           0.3229930887837502,
           16138.079373431863,
           "Cluster 1"
          ],
          [
           32,
           106543,
           0.3107432443044589,
           14337.288328489092,
           "Cluster 1"
          ],
          [
           31,
           101209,
           0.3043229953712128,
           16917.571691218804,
           "Cluster 1"
          ],
          [
           35,
           101691,
           0.3491110181825554,
           14152.671689505803,
           "Cluster 1"
          ],
          [
           44,
           114642,
           0.3092049154534188,
           14067.617788950563,
           "Cluster 1"
          ],
          [
           34,
           103204,
           0.30108735378393314,
           15149.810421179482,
           "Cluster 1"
          ],
          [
           32,
           117050,
           0.3113555349689566,
           14310.546206532163,
           "Cluster 1"
          ],
          [
           34,
           102291,
           0.24786227611431386,
           15819.577601160518,
           "Cluster 1"
          ],
          [
           36,
           101811,
           0.3406667947415742,
           15048.89961242685,
           "Cluster 1"
          ],
          [
           32,
           101905,
           0.3074763135926987,
           17532.16478349903,
           "Cluster 1"
          ],
          [
           32,
           95536,
           0.26624605681014885,
           15420.625644002741,
           "Cluster 1"
          ],
          [
           30,
           108928,
           0.30386361503665704,
           14339.652917342728,
           "Cluster 1"
          ],
          [
           28,
           97965,
           0.3134915614599665,
           14981.402201916082,
           "Cluster 1"
          ],
          [
           35,
           102308,
           0.2751372175012177,
           14874.557991326978,
           "Cluster 1"
          ],
          [
           33,
           92569,
           0.33607980556714456,
           13765.685995748696,
           "Cluster 1"
          ],
          [
           29,
           111426,
           0.4002811559385194,
           14352.643773230728,
           "Cluster 1"
          ],
          [
           33,
           99637,
           0.2282170773869075,
           15139.403142647532,
           "Cluster 1"
          ],
          [
           31,
           104388,
           0.2864732316476225,
           14406.561248437842,
           "Cluster 1"
          ]
         ],
         "hoverlabel": {
          "namelength": 0
         },
         "hovertemplate": "Cluster=%{customdata[4]}<br>Age=%{customdata[0]}<br>Income=%{customdata[1]}<br>SpendingScore=%{customdata[2]}<br>Savings=%{customdata[3]}",
         "legendgroup": "Cluster=Cluster 1",
         "marker": {
          "color": "#EF553B"
         },
         "name": "Cluster=Cluster 1",
         "notched": true,
         "offsetgroup": "Cluster=Cluster 1",
         "showlegend": false,
         "type": "box",
         "x": [
          "Cluster 1",
          "Cluster 1",
          "Cluster 1",
          "Cluster 1",
          "Cluster 1",
          "Cluster 1",
          "Cluster 1",
          "Cluster 1",
          "Cluster 1",
          "Cluster 1",
          "Cluster 1",
          "Cluster 1",
          "Cluster 1",
          "Cluster 1",
          "Cluster 1",
          "Cluster 1",
          "Cluster 1",
          "Cluster 1",
          "Cluster 1",
          "Cluster 1",
          "Cluster 1",
          "Cluster 1",
          "Cluster 1",
          "Cluster 1",
          "Cluster 1",
          "Cluster 1",
          "Cluster 1",
          "Cluster 1",
          "Cluster 1",
          "Cluster 1",
          "Cluster 1",
          "Cluster 1",
          "Cluster 1",
          "Cluster 1",
          "Cluster 1",
          "Cluster 1",
          "Cluster 1",
          "Cluster 1",
          "Cluster 1",
          "Cluster 1",
          "Cluster 1",
          "Cluster 1",
          "Cluster 1",
          "Cluster 1",
          "Cluster 1",
          "Cluster 1",
          "Cluster 1",
          "Cluster 1",
          "Cluster 1",
          "Cluster 1",
          "Cluster 1",
          "Cluster 1",
          "Cluster 1",
          "Cluster 1",
          "Cluster 1",
          "Cluster 1",
          "Cluster 1",
          "Cluster 1",
          "Cluster 1",
          "Cluster 1",
          "Cluster 1",
          "Cluster 1",
          "Cluster 1",
          "Cluster 1",
          "Cluster 1",
          "Cluster 1",
          "Cluster 1",
          "Cluster 1",
          "Cluster 1",
          "Cluster 1",
          "Cluster 1",
          "Cluster 1",
          "Cluster 1",
          "Cluster 1",
          "Cluster 1",
          "Cluster 1",
          "Cluster 1",
          "Cluster 1",
          "Cluster 1",
          "Cluster 1",
          "Cluster 1",
          "Cluster 1",
          "Cluster 1",
          "Cluster 1",
          "Cluster 1",
          "Cluster 1",
          "Cluster 1",
          "Cluster 1",
          "Cluster 1",
          "Cluster 1",
          "Cluster 1",
          "Cluster 1",
          "Cluster 1",
          "Cluster 1",
          "Cluster 1",
          "Cluster 1",
          "Cluster 1",
          "Cluster 1",
          "Cluster 1",
          "Cluster 1",
          "Cluster 1",
          "Cluster 1",
          "Cluster 1",
          "Cluster 1",
          "Cluster 1",
          "Cluster 1",
          "Cluster 1",
          "Cluster 1",
          "Cluster 1",
          "Cluster 1",
          "Cluster 1",
          "Cluster 1",
          "Cluster 1",
          "Cluster 1",
          "Cluster 1",
          "Cluster 1",
          "Cluster 1",
          "Cluster 1",
          "Cluster 1",
          "Cluster 1",
          "Cluster 1",
          "Cluster 1",
          "Cluster 1",
          "Cluster 1",
          "Cluster 1",
          "Cluster 1",
          "Cluster 1",
          "Cluster 1",
          "Cluster 1",
          "Cluster 1",
          "Cluster 1",
          "Cluster 1",
          "Cluster 1",
          "Cluster 1",
          "Cluster 1",
          "Cluster 1",
          "Cluster 1",
          "Cluster 1",
          "Cluster 1",
          "Cluster 1",
          "Cluster 1",
          "Cluster 1",
          "Cluster 1",
          "Cluster 1",
          "Cluster 1",
          "Cluster 1",
          "Cluster 1",
          "Cluster 1",
          "Cluster 1",
          "Cluster 1",
          "Cluster 1"
         ],
         "xaxis": "x2",
         "yaxis": "y2"
        },
        {
         "alignmentgroup": "True",
         "bingroup": "x",
         "hoverlabel": {
          "namelength": 0
         },
         "hovertemplate": "Cluster=%{x}<br>count=%{y}",
         "legendgroup": "Cluster=Cluster 2",
         "marker": {
          "color": "#00cc96",
          "opacity": 0.7
         },
         "name": "Cluster=Cluster 2",
         "offsetgroup": "Cluster=Cluster 2",
         "orientation": "v",
         "showlegend": true,
         "type": "histogram",
         "x": [
          "Cluster 2",
          "Cluster 2",
          "Cluster 2",
          "Cluster 2",
          "Cluster 2",
          "Cluster 2",
          "Cluster 2",
          "Cluster 2",
          "Cluster 2",
          "Cluster 2",
          "Cluster 2",
          "Cluster 2",
          "Cluster 2",
          "Cluster 2",
          "Cluster 2",
          "Cluster 2",
          "Cluster 2",
          "Cluster 2",
          "Cluster 2",
          "Cluster 2",
          "Cluster 2",
          "Cluster 2",
          "Cluster 2",
          "Cluster 2",
          "Cluster 2",
          "Cluster 2",
          "Cluster 2",
          "Cluster 2",
          "Cluster 2",
          "Cluster 2",
          "Cluster 2",
          "Cluster 2",
          "Cluster 2",
          "Cluster 2",
          "Cluster 2",
          "Cluster 2",
          "Cluster 2",
          "Cluster 2",
          "Cluster 2",
          "Cluster 2",
          "Cluster 2",
          "Cluster 2",
          "Cluster 2",
          "Cluster 2",
          "Cluster 2",
          "Cluster 2",
          "Cluster 2",
          "Cluster 2",
          "Cluster 2",
          "Cluster 2",
          "Cluster 2",
          "Cluster 2",
          "Cluster 2",
          "Cluster 2",
          "Cluster 2",
          "Cluster 2",
          "Cluster 2",
          "Cluster 2",
          "Cluster 2",
          "Cluster 2",
          "Cluster 2",
          "Cluster 2",
          "Cluster 2",
          "Cluster 2",
          "Cluster 2",
          "Cluster 2",
          "Cluster 2",
          "Cluster 2",
          "Cluster 2",
          "Cluster 2",
          "Cluster 2",
          "Cluster 2",
          "Cluster 2",
          "Cluster 2",
          "Cluster 2",
          "Cluster 2",
          "Cluster 2",
          "Cluster 2",
          "Cluster 2",
          "Cluster 2",
          "Cluster 2",
          "Cluster 2",
          "Cluster 2",
          "Cluster 2",
          "Cluster 2",
          "Cluster 2",
          "Cluster 2",
          "Cluster 2",
          "Cluster 2",
          "Cluster 2",
          "Cluster 2",
          "Cluster 2",
          "Cluster 2",
          "Cluster 2",
          "Cluster 2",
          "Cluster 2",
          "Cluster 2",
          "Cluster 2",
          "Cluster 2",
          "Cluster 2",
          "Cluster 2",
          "Cluster 2",
          "Cluster 2",
          "Cluster 2",
          "Cluster 2",
          "Cluster 2",
          "Cluster 2",
          "Cluster 2",
          "Cluster 2",
          "Cluster 2",
          "Cluster 2",
          "Cluster 2",
          "Cluster 2",
          "Cluster 2",
          "Cluster 2",
          "Cluster 2",
          "Cluster 2",
          "Cluster 2",
          "Cluster 2",
          "Cluster 2",
          "Cluster 2",
          "Cluster 2",
          "Cluster 2",
          "Cluster 2",
          "Cluster 2",
          "Cluster 2",
          "Cluster 2",
          "Cluster 2",
          "Cluster 2",
          "Cluster 2",
          "Cluster 2",
          "Cluster 2",
          "Cluster 2",
          "Cluster 2",
          "Cluster 2",
          "Cluster 2",
          "Cluster 2",
          "Cluster 2",
          "Cluster 2",
          "Cluster 2",
          "Cluster 2",
          "Cluster 2",
          "Cluster 2",
          "Cluster 2",
          "Cluster 2",
          "Cluster 2",
          "Cluster 2",
          "Cluster 2",
          "Cluster 2",
          "Cluster 2",
          "Cluster 2",
          "Cluster 2",
          "Cluster 2",
          "Cluster 2",
          "Cluster 2",
          "Cluster 2",
          "Cluster 2"
         ],
         "xaxis": "x",
         "yaxis": "y"
        },
        {
         "alignmentgroup": "True",
         "customdata": [
          [
           65,
           74430,
           0.7517741617758547,
           7145.251128357927,
           "Cluster 2"
          ],
          [
           59,
           67346,
           0.7251568963089163,
           8857.849116294088,
           "Cluster 2"
          ],
          [
           63,
           82343,
           0.7323186222078123,
           8090.706739679063,
           "Cluster 2"
          ],
          [
           61,
           65914,
           0.7781022309770123,
           6406.8771303520325,
           "Cluster 2"
          ],
          [
           58,
           78078,
           0.7837795500405715,
           6483.049643745244,
           "Cluster 2"
          ],
          [
           67,
           68663,
           0.7738336308243648,
           7451.9940140258705,
           "Cluster 2"
          ],
          [
           61,
           67372,
           0.7340673095092516,
           6618.549336247915,
           "Cluster 2"
          ],
          [
           59,
           73350,
           0.6797735912164855,
           6710.5740183754415,
           "Cluster 2"
          ],
          [
           59,
           68038,
           0.8014869916095588,
           7719.283632687176,
           "Cluster 2"
          ],
          [
           60,
           65942,
           0.8005783854654352,
           5253.2650066086435,
           "Cluster 2"
          ],
          [
           64,
           62886,
           0.7480162682831766,
           8302.588638401632,
           "Cluster 2"
          ],
          [
           67,
           78702,
           0.7632736815688779,
           5030.364838791924,
           "Cluster 2"
          ],
          [
           56,
           73516,
           0.806499154055182,
           7696.832373798451,
           "Cluster 2"
          ],
          [
           58,
           70676,
           0.7640283880376706,
           7664.415650964042,
           "Cluster 2"
          ],
          [
           65,
           71229,
           0.7878897626638453,
           9024.337460598084,
           "Cluster 2"
          ],
          [
           59,
           69408,
           0.8799059975919311,
           6491.771149967824,
           "Cluster 2"
          ],
          [
           62,
           73675,
           0.7966191667425384,
           4688.657157271711,
           "Cluster 2"
          ],
          [
           63,
           70580,
           0.7665090449070475,
           7262.108723452133,
           "Cluster 2"
          ],
          [
           65,
           70430,
           0.6969942581249643,
           6971.164886262858,
           "Cluster 2"
          ],
          [
           59,
           73596,
           0.8567042188430352,
           8281.718740320448,
           "Cluster 2"
          ],
          [
           57,
           79794,
           0.82240840085096,
           5893.975284946178,
           "Cluster 2"
          ],
          [
           59,
           90422,
           0.8062102206275251,
           6746.281083820821,
           "Cluster 2"
          ],
          [
           67,
           80914,
           0.8196642592960329,
           6833.507136694643,
           "Cluster 2"
          ],
          [
           60,
           70054,
           0.7143393610830643,
           6609.918507412548,
           "Cluster 2"
          ],
          [
           62,
           67731,
           0.8191699488980382,
           5956.555677017446,
           "Cluster 2"
          ],
          [
           60,
           63476,
           0.7519000198498227,
           7543.542801728056,
           "Cluster 2"
          ],
          [
           66,
           77052,
           0.7072624347132287,
           6296.417311227459,
           "Cluster 2"
          ],
          [
           58,
           69247,
           0.7237211912021976,
           8715.67957429646,
           "Cluster 2"
          ],
          [
           55,
           76831,
           0.7421137340413241,
           7806.398750466399,
           "Cluster 2"
          ],
          [
           60,
           74460,
           0.7545393292392412,
           7567.6476522203675,
           "Cluster 2"
          ],
          [
           63,
           67370,
           0.8999405530923943,
           5985.077029740457,
           "Cluster 2"
          ],
          [
           61,
           78837,
           0.7459489746307642,
           6811.303235949058,
           "Cluster 2"
          ],
          [
           57,
           72055,
           0.7549723463413129,
           6544.847498075687,
           "Cluster 2"
          ],
          [
           56,
           80431,
           0.7594315957853627,
           8150.55743948241,
           "Cluster 2"
          ],
          [
           51,
           72086,
           0.7911147257599156,
           6732.096068632267,
           "Cluster 2"
          ],
          [
           61,
           72027,
           0.7623249166772856,
           6926.123598416466,
           "Cluster 2"
          ],
          [
           59,
           82199,
           0.8035145098215853,
           5880.814834306347,
           "Cluster 2"
          ],
          [
           58,
           70369,
           0.9045204855363144,
           7461.567502649429,
           "Cluster 2"
          ],
          [
           58,
           80248,
           0.7249557054919687,
           7641.16038162423,
           "Cluster 2"
          ],
          [
           55,
           64768,
           0.7332568512323248,
           6486.353872691102,
           "Cluster 2"
          ],
          [
           61,
           68842,
           0.7544065421993587,
           4077.6586565080543,
           "Cluster 2"
          ],
          [
           58,
           78611,
           0.910416682938019,
           7665.884294519009,
           "Cluster 2"
          ],
          [
           68,
           68944,
           0.7455674638713768,
           6828.709702363695,
           "Cluster 2"
          ],
          [
           61,
           74282,
           0.6922364738673796,
           7286.754751068365,
           "Cluster 2"
          ],
          [
           56,
           65313,
           0.7546029986455771,
           5574.2436767070985,
           "Cluster 2"
          ],
          [
           58,
           77769,
           0.7913287771988531,
           6559.8299230048315,
           "Cluster 2"
          ],
          [
           56,
           68698,
           0.7162678503859907,
           7070.967006969191,
           "Cluster 2"
          ],
          [
           60,
           79969,
           0.812104912914789,
           4879.334872972362,
           "Cluster 2"
          ],
          [
           58,
           69879,
           0.7209986871945887,
           6669.033518051874,
           "Cluster 2"
          ],
          [
           62,
           73480,
           0.7391949797931453,
           6277.675150528886,
           "Cluster 2"
          ],
          [
           66,
           72571,
           0.8115483367376335,
           6509.41150610998,
           "Cluster 2"
          ],
          [
           57,
           76594,
           0.7906578552491133,
           6584.654681310476,
           "Cluster 2"
          ],
          [
           66,
           64866,
           0.7665941891374249,
           5037.899138583947,
           "Cluster 2"
          ],
          [
           63,
           72815,
           0.8200359737627068,
           5504.385543801038,
           "Cluster 2"
          ],
          [
           64,
           71692,
           0.8426521453196145,
           7002.9765543033545,
           "Cluster 2"
          ],
          [
           62,
           63596,
           0.7453271943508174,
           6142.201619345869,
           "Cluster 2"
          ],
          [
           62,
           62650,
           0.766572365027147,
           7533.673609198676,
           "Cluster 2"
          ],
          [
           60,
           71436,
           0.8320590985324969,
           8557.86012627717,
           "Cluster 2"
          ],
          [
           65,
           65736,
           0.7785687658100923,
           6387.2196944302905,
           "Cluster 2"
          ],
          [
           60,
           70663,
           0.7153396972946453,
           7557.937593550947,
           "Cluster 2"
          ],
          [
           58,
           70259,
           0.7697129169369328,
           7101.674514204499,
           "Cluster 2"
          ],
          [
           63,
           80705,
           0.7626699527314824,
           5154.330634621805,
           "Cluster 2"
          ],
          [
           58,
           75757,
           0.8097944168848634,
           7390.5772934370325,
           "Cluster 2"
          ],
          [
           62,
           71050,
           0.7353568506694507,
           6988.197368273879,
           "Cluster 2"
          ],
          [
           59,
           67781,
           0.7225483489421433,
           6701.527664794541,
           "Cluster 2"
          ],
          [
           65,
           66017,
           0.7861892594159869,
           6159.662935925753,
           "Cluster 2"
          ],
          [
           62,
           80093,
           0.6909167811268888,
           6756.749072752337,
           "Cluster 2"
          ],
          [
           59,
           67988,
           0.8114707012366371,
           7255.903114334659,
           "Cluster 2"
          ],
          [
           66,
           82526,
           0.7696800667721441,
           6205.662650191712,
           "Cluster 2"
          ],
          [
           64,
           76364,
           0.6993887663543108,
           5772.1171358549755,
           "Cluster 2"
          ],
          [
           62,
           68279,
           0.7196850779929922,
           7028.675510384212,
           "Cluster 2"
          ],
          [
           61,
           69698,
           0.7416839698444291,
           8777.077471725162,
           "Cluster 2"
          ],
          [
           56,
           68463,
           0.8157116929554062,
           8995.180087953215,
           "Cluster 2"
          ],
          [
           62,
           78413,
           0.7907090657200839,
           6961.2041923680945,
           "Cluster 2"
          ],
          [
           60,
           65054,
           0.7086131723969877,
           5417.237293788358,
           "Cluster 2"
          ],
          [
           56,
           84386,
           0.7849450699605269,
           7270.41953428175,
           "Cluster 2"
          ],
          [
           63,
           85761,
           0.8005979105724924,
           7175.090218501247,
           "Cluster 2"
          ],
          [
           56,
           86484,
           0.7321233689266612,
           8777.496176839057,
           "Cluster 2"
          ],
          [
           58,
           70798,
           0.7535283874245788,
           5330.73989989779,
           "Cluster 2"
          ],
          [
           59,
           81799,
           0.7910820467274178,
           5417.661426197439,
           "Cluster 2"
          ],
          [
           62,
           74751,
           0.7026569520102857,
           9258.99296503407,
           "Cluster 2"
          ],
          [
           59,
           74373,
           0.7656795619984281,
           7346.334503537976,
           "Cluster 2"
          ],
          [
           54,
           76500,
           0.7851978501165687,
           6878.884248553974,
           "Cluster 2"
          ],
          [
           61,
           71933,
           0.8441067966472876,
           8022.208541100706,
           "Cluster 2"
          ],
          [
           55,
           71621,
           0.7533426836166189,
           7780.589913955977,
           "Cluster 2"
          ],
          [
           53,
           76667,
           0.7600576501232099,
           5168.225474983632,
           "Cluster 2"
          ],
          [
           55,
           78761,
           0.8271741985123882,
           8376.74947779104,
           "Cluster 2"
          ],
          [
           61,
           76955,
           0.7771175646074471,
           7467.036702314494,
           "Cluster 2"
          ],
          [
           59,
           65700,
           0.8114711740198254,
           6932.487932327357,
           "Cluster 2"
          ],
          [
           59,
           69738,
           0.7421121217155721,
           7151.650866065035,
           "Cluster 2"
          ],
          [
           56,
           63866,
           0.7618879582513512,
           7762.255066659051,
           "Cluster 2"
          ],
          [
           61,
           74117,
           0.7702140596767938,
           5103.609230428381,
           "Cluster 2"
          ],
          [
           61,
           63846,
           0.8278622414878984,
           7283.504772674617,
           "Cluster 2"
          ],
          [
           60,
           70012,
           0.7944610508231513,
           7263.242447729872,
           "Cluster 2"
          ],
          [
           57,
           75332,
           0.7215024376129366,
           6845.056822204781,
           "Cluster 2"
          ],
          [
           61,
           73245,
           0.811160373170345,
           7413.784487271215,
           "Cluster 2"
          ],
          [
           55,
           74356,
           0.7998269700906482,
           6484.630737953294,
           "Cluster 2"
          ],
          [
           53,
           62117,
           0.7331388477995737,
           7500.452413594261,
           "Cluster 2"
          ],
          [
           61,
           69001,
           0.8216687745413516,
           5074.12121172259,
           "Cluster 2"
          ],
          [
           64,
           60493,
           0.7680563479442216,
           7708.112609459162,
           "Cluster 2"
          ],
          [
           62,
           69741,
           0.8462196017575947,
           5781.658046536959,
           "Cluster 2"
          ],
          [
           55,
           71056,
           0.7565897119333272,
           7464.163256732262,
           "Cluster 2"
          ],
          [
           58,
           74340,
           0.7351650452097145,
           7259.540921675672,
           "Cluster 2"
          ],
          [
           57,
           79470,
           0.7734352958312237,
           6773.049089777121,
           "Cluster 2"
          ],
          [
           59,
           72588,
           0.8017156979122673,
           6300.8437570950255,
           "Cluster 2"
          ],
          [
           58,
           77101,
           0.7667195837506832,
           8148.49184821177,
           "Cluster 2"
          ],
          [
           59,
           74576,
           0.7812961239072382,
           10547.775367695343,
           "Cluster 2"
          ],
          [
           64,
           88361,
           0.7745562258521365,
           7240.759687480846,
           "Cluster 2"
          ],
          [
           62,
           69391,
           0.7921059737158539,
           6518.283467894094,
           "Cluster 2"
          ],
          [
           64,
           86283,
           0.7568019251873561,
           6852.5548669147165,
           "Cluster 2"
          ],
          [
           57,
           74014,
           0.787378081122989,
           5783.846928267082,
           "Cluster 2"
          ],
          [
           57,
           69655,
           0.6748906779058501,
           5889.831167170132,
           "Cluster 2"
          ],
          [
           56,
           67274,
           0.7798516671891869,
           6652.391024403152,
           "Cluster 2"
          ],
          [
           61,
           65647,
           0.7174899773841509,
           7497.231607003855,
           "Cluster 2"
          ],
          [
           64,
           64331,
           0.7571277508774099,
           5815.660096290825,
           "Cluster 2"
          ],
          [
           63,
           75078,
           0.7831591503681397,
           7468.8510795028005,
           "Cluster 2"
          ],
          [
           62,
           62747,
           0.7705945596869115,
           5852.326242628098,
           "Cluster 2"
          ],
          [
           61,
           73495,
           0.7727563051023116,
           9288.189785744367,
           "Cluster 2"
          ],
          [
           59,
           75505,
           0.7682786576081454,
           5006.528691371692,
           "Cluster 2"
          ],
          [
           67,
           59243,
           0.7436599996604758,
           5446.557472721708,
           "Cluster 2"
          ],
          [
           56,
           78992,
           0.8122757021441627,
           7285.18043685174,
           "Cluster 2"
          ],
          [
           58,
           77559,
           0.7122963723872477,
           5742.524488088997,
           "Cluster 2"
          ],
          [
           61,
           72060,
           0.8334590233217959,
           7924.6411381540165,
           "Cluster 2"
          ],
          [
           59,
           56321,
           0.806565925193039,
           6129.288986032587,
           "Cluster 2"
          ],
          [
           58,
           70272,
           0.8229596005059499,
           5290.087044285296,
           "Cluster 2"
          ],
          [
           57,
           65608,
           0.7662313009024402,
           6904.318224287022,
           "Cluster 2"
          ],
          [
           56,
           75599,
           0.7737370986430746,
           6799.625271842961,
           "Cluster 2"
          ],
          [
           58,
           76052,
           0.7215881830727278,
           6681.9843863770275,
           "Cluster 2"
          ],
          [
           66,
           71672,
           0.7538892176112998,
           7387.835437850721,
           "Cluster 2"
          ],
          [
           64,
           78801,
           0.7403674891662984,
           6420.9440712002615,
           "Cluster 2"
          ],
          [
           59,
           69460,
           0.7527238381125997,
           6101.372146632121,
           "Cluster 2"
          ],
          [
           59,
           67401,
           0.7114339697492305,
           6529.586309935448,
           "Cluster 2"
          ],
          [
           64,
           76410,
           0.7756041848937439,
           6135.308197117819,
           "Cluster 2"
          ],
          [
           61,
           71171,
           0.7210804930623951,
           6457.790641224788,
           "Cluster 2"
          ],
          [
           59,
           77978,
           0.7188952048526104,
           8316.31110205122,
           "Cluster 2"
          ],
          [
           57,
           76573,
           0.8405990704520518,
           6225.3760824332285,
           "Cluster 2"
          ],
          [
           63,
           69849,
           0.7403870808915297,
           7670.6909659413295,
           "Cluster 2"
          ],
          [
           57,
           64803,
           0.7285849289103553,
           6255.552641057161,
           "Cluster 2"
          ],
          [
           58,
           78635,
           0.7864400503429185,
           7162.739043055361,
           "Cluster 2"
          ],
          [
           62,
           67030,
           0.7467384433463651,
           6740.765182071713,
           "Cluster 2"
          ],
          [
           59,
           73057,
           0.8302949092020397,
           7819.393215767329,
           "Cluster 2"
          ],
          [
           59,
           71302,
           0.7020090041734849,
           6595.726010227134,
           "Cluster 2"
          ],
          [
           61,
           71033,
           0.8380950724014863,
           9456.876962701137,
           "Cluster 2"
          ],
          [
           53,
           74996,
           0.7387310917031671,
           7821.447803561914,
           "Cluster 2"
          ],
          [
           58,
           80278,
           0.8233589910091558,
           6335.97831998802,
           "Cluster 2"
          ],
          [
           68,
           77648,
           0.7965446939835457,
           6190.864082788901,
           "Cluster 2"
          ],
          [
           58,
           83351,
           0.8406978038692191,
           6673.909711092488,
           "Cluster 2"
          ],
          [
           55,
           76057,
           0.8778279844516369,
           6132.898204816149,
           "Cluster 2"
          ],
          [
           59,
           75495,
           0.7945029052198103,
           6702.9519263157545,
           "Cluster 2"
          ],
          [
           60,
           67491,
           0.84661848692906,
           7180.713788260257,
           "Cluster 2"
          ],
          [
           59,
           80876,
           0.6573140731575163,
           7232.825142650888,
           "Cluster 2"
          ],
          [
           63,
           56875,
           0.7622805817657738,
           7837.233619544163,
           "Cluster 2"
          ],
          [
           59,
           69115,
           0.7598834338453199,
           5997.690199856996,
           "Cluster 2"
          ],
          [
           56,
           60059,
           0.7275840223364691,
           7166.858605155183,
           "Cluster 2"
          ],
          [
           62,
           69326,
           0.7980123380544829,
           7003.095703317772,
           "Cluster 2"
          ],
          [
           60,
           65340,
           0.7316484923943142,
           8354.196507802662,
           "Cluster 2"
          ],
          [
           55,
           73895,
           0.7471254610291731,
           5563.906948891499,
           "Cluster 2"
          ]
         ],
         "hoverlabel": {
          "namelength": 0
         },
         "hovertemplate": "Cluster=%{customdata[4]}<br>Age=%{customdata[0]}<br>Income=%{customdata[1]}<br>SpendingScore=%{customdata[2]}<br>Savings=%{customdata[3]}",
         "legendgroup": "Cluster=Cluster 2",
         "marker": {
          "color": "#00cc96"
         },
         "name": "Cluster=Cluster 2",
         "notched": true,
         "offsetgroup": "Cluster=Cluster 2",
         "showlegend": false,
         "type": "box",
         "x": [
          "Cluster 2",
          "Cluster 2",
          "Cluster 2",
          "Cluster 2",
          "Cluster 2",
          "Cluster 2",
          "Cluster 2",
          "Cluster 2",
          "Cluster 2",
          "Cluster 2",
          "Cluster 2",
          "Cluster 2",
          "Cluster 2",
          "Cluster 2",
          "Cluster 2",
          "Cluster 2",
          "Cluster 2",
          "Cluster 2",
          "Cluster 2",
          "Cluster 2",
          "Cluster 2",
          "Cluster 2",
          "Cluster 2",
          "Cluster 2",
          "Cluster 2",
          "Cluster 2",
          "Cluster 2",
          "Cluster 2",
          "Cluster 2",
          "Cluster 2",
          "Cluster 2",
          "Cluster 2",
          "Cluster 2",
          "Cluster 2",
          "Cluster 2",
          "Cluster 2",
          "Cluster 2",
          "Cluster 2",
          "Cluster 2",
          "Cluster 2",
          "Cluster 2",
          "Cluster 2",
          "Cluster 2",
          "Cluster 2",
          "Cluster 2",
          "Cluster 2",
          "Cluster 2",
          "Cluster 2",
          "Cluster 2",
          "Cluster 2",
          "Cluster 2",
          "Cluster 2",
          "Cluster 2",
          "Cluster 2",
          "Cluster 2",
          "Cluster 2",
          "Cluster 2",
          "Cluster 2",
          "Cluster 2",
          "Cluster 2",
          "Cluster 2",
          "Cluster 2",
          "Cluster 2",
          "Cluster 2",
          "Cluster 2",
          "Cluster 2",
          "Cluster 2",
          "Cluster 2",
          "Cluster 2",
          "Cluster 2",
          "Cluster 2",
          "Cluster 2",
          "Cluster 2",
          "Cluster 2",
          "Cluster 2",
          "Cluster 2",
          "Cluster 2",
          "Cluster 2",
          "Cluster 2",
          "Cluster 2",
          "Cluster 2",
          "Cluster 2",
          "Cluster 2",
          "Cluster 2",
          "Cluster 2",
          "Cluster 2",
          "Cluster 2",
          "Cluster 2",
          "Cluster 2",
          "Cluster 2",
          "Cluster 2",
          "Cluster 2",
          "Cluster 2",
          "Cluster 2",
          "Cluster 2",
          "Cluster 2",
          "Cluster 2",
          "Cluster 2",
          "Cluster 2",
          "Cluster 2",
          "Cluster 2",
          "Cluster 2",
          "Cluster 2",
          "Cluster 2",
          "Cluster 2",
          "Cluster 2",
          "Cluster 2",
          "Cluster 2",
          "Cluster 2",
          "Cluster 2",
          "Cluster 2",
          "Cluster 2",
          "Cluster 2",
          "Cluster 2",
          "Cluster 2",
          "Cluster 2",
          "Cluster 2",
          "Cluster 2",
          "Cluster 2",
          "Cluster 2",
          "Cluster 2",
          "Cluster 2",
          "Cluster 2",
          "Cluster 2",
          "Cluster 2",
          "Cluster 2",
          "Cluster 2",
          "Cluster 2",
          "Cluster 2",
          "Cluster 2",
          "Cluster 2",
          "Cluster 2",
          "Cluster 2",
          "Cluster 2",
          "Cluster 2",
          "Cluster 2",
          "Cluster 2",
          "Cluster 2",
          "Cluster 2",
          "Cluster 2",
          "Cluster 2",
          "Cluster 2",
          "Cluster 2",
          "Cluster 2",
          "Cluster 2",
          "Cluster 2",
          "Cluster 2",
          "Cluster 2",
          "Cluster 2",
          "Cluster 2",
          "Cluster 2",
          "Cluster 2",
          "Cluster 2",
          "Cluster 2",
          "Cluster 2",
          "Cluster 2",
          "Cluster 2"
         ],
         "xaxis": "x2",
         "yaxis": "y2"
        },
        {
         "alignmentgroup": "True",
         "bingroup": "x",
         "hoverlabel": {
          "namelength": 0
         },
         "hovertemplate": "Cluster=%{x}<br>count=%{y}",
         "legendgroup": "Cluster=Cluster 3",
         "marker": {
          "color": "#ab63fa",
          "opacity": 0.7
         },
         "name": "Cluster=Cluster 3",
         "offsetgroup": "Cluster=Cluster 3",
         "orientation": "v",
         "showlegend": true,
         "type": "histogram",
         "x": [
          "Cluster 3",
          "Cluster 3",
          "Cluster 3",
          "Cluster 3",
          "Cluster 3",
          "Cluster 3",
          "Cluster 3",
          "Cluster 3",
          "Cluster 3",
          "Cluster 3",
          "Cluster 3",
          "Cluster 3",
          "Cluster 3",
          "Cluster 3",
          "Cluster 3",
          "Cluster 3",
          "Cluster 3",
          "Cluster 3",
          "Cluster 3",
          "Cluster 3",
          "Cluster 3",
          "Cluster 3",
          "Cluster 3",
          "Cluster 3",
          "Cluster 3",
          "Cluster 3",
          "Cluster 3",
          "Cluster 3",
          "Cluster 3",
          "Cluster 3",
          "Cluster 3",
          "Cluster 3",
          "Cluster 3",
          "Cluster 3",
          "Cluster 3",
          "Cluster 3",
          "Cluster 3",
          "Cluster 3",
          "Cluster 3",
          "Cluster 3",
          "Cluster 3",
          "Cluster 3",
          "Cluster 3",
          "Cluster 3",
          "Cluster 3",
          "Cluster 3",
          "Cluster 3",
          "Cluster 3",
          "Cluster 3",
          "Cluster 3"
         ],
         "xaxis": "x",
         "yaxis": "y"
        },
        {
         "alignmentgroup": "True",
         "customdata": [
          [
           25,
           138021,
           0.944017175810026,
           3005.577482475175,
           "Cluster 3"
          ],
          [
           18,
           130813,
           0.8908912472675831,
           5256.434559627984,
           "Cluster 3"
          ],
          [
           27,
           121468,
           0.9206489879585448,
           5011.112062373318,
           "Cluster 3"
          ],
          [
           31,
           122924,
           0.89046022417733,
           3071.944576152969,
           "Cluster 3"
          ],
          [
           20,
           129142,
           0.8870519941988757,
           5603.121027746489,
           "Cluster 3"
          ],
          [
           22,
           134209,
           0.8706980046008759,
           5138.109568643242,
           "Cluster 3"
          ],
          [
           21,
           123678,
           0.8320252689431032,
           2838.8158208359087,
           "Cluster 3"
          ],
          [
           26,
           123005,
           0.9845261943505972,
           4371.23473281147,
           "Cluster 3"
          ],
          [
           17,
           134966,
           0.9072421746334024,
           4128.044795832438,
           "Cluster 3"
          ],
          [
           30,
           122788,
           0.8728724057273831,
           5706.149573297764,
           "Cluster 3"
          ],
          [
           22,
           132948,
           0.8898001728484242,
           2839.7863574778585,
           "Cluster 3"
          ],
          [
           29,
           131578,
           0.8470341025128371,
           3535.5143522162816,
           "Cluster 3"
          ],
          [
           25,
           128625,
           0.8167389887954251,
           4914.117127206949,
           "Cluster 3"
          ],
          [
           17,
           134734,
           0.8579216672301577,
           0,
           "Cluster 3"
          ],
          [
           28,
           117108,
           0.857078493256913,
           4749.879237491619,
           "Cluster 3"
          ],
          [
           25,
           130361,
           0.9254385568124625,
           4691.55213906238,
           "Cluster 3"
          ],
          [
           17,
           123828,
           0.9420129076091708,
           3798.8403998790254,
           "Cluster 3"
          ],
          [
           28,
           123153,
           0.9842407862639496,
           3697.5136453853297,
           "Cluster 3"
          ],
          [
           25,
           120957,
           0.8776734245644572,
           5590.447216086322,
           "Cluster 3"
          ],
          [
           21,
           129726,
           0.9517923119702948,
           4550.7995216878835,
           "Cluster 3"
          ],
          [
           26,
           125662,
           0.9268183658411524,
           6089.47832250152,
           "Cluster 3"
          ],
          [
           28,
           123229,
           0.8733219541371664,
           610.4462190811464,
           "Cluster 3"
          ],
          [
           20,
           129469,
           0.9399954311014268,
           5522.573424346325,
           "Cluster 3"
          ],
          [
           20,
           122581,
           0.8940806156500202,
           4444.4476842520535,
           "Cluster 3"
          ],
          [
           24,
           134384,
           0.8747208244890404,
           3731.3397614449186,
           "Cluster 3"
          ],
          [
           26,
           127320,
           0.8250298045601994,
           5495.642137901324,
           "Cluster 3"
          ],
          [
           28,
           121216,
           0.8569692823607705,
           5349.065446955783,
           "Cluster 3"
          ],
          [
           23,
           129937,
           0.8727356634334804,
           4102.065424707484,
           "Cluster 3"
          ],
          [
           26,
           126617,
           0.8770521049168103,
           2913.368146562765,
           "Cluster 3"
          ],
          [
           24,
           127352,
           0.9054521594192038,
           2961.716874324024,
           "Cluster 3"
          ],
          [
           23,
           138443,
           0.9226565539031124,
           3297.058843994153,
           "Cluster 3"
          ],
          [
           22,
           120525,
           1,
           5495.165732288548,
           "Cluster 3"
          ],
          [
           26,
           131827,
           0.8807194909406801,
           4352.699304837541,
           "Cluster 3"
          ],
          [
           17,
           136255,
           0.935876103673024,
           4126.226651408871,
           "Cluster 3"
          ],
          [
           24,
           120465,
           0.9074853865005544,
           4838.348350281593,
           "Cluster 3"
          ],
          [
           24,
           130974,
           0.9118386021444842,
           4420.0727101369375,
           "Cluster 3"
          ],
          [
           25,
           130934,
           0.9137660194970426,
           3942.389134492165,
           "Cluster 3"
          ],
          [
           25,
           131009,
           0.8640569016468125,
           4792.426581212785,
           "Cluster 3"
          ],
          [
           27,
           122671,
           0.910107112831516,
           4206.287238709509,
           "Cluster 3"
          ],
          [
           24,
           136644,
           0.8716976842508705,
           1617.2257000775644,
           "Cluster 3"
          ],
          [
           27,
           125008,
           0.9596454072349518,
           2963.6377080587795,
           "Cluster 3"
          ],
          [
           28,
           127699,
           0.8814245468734898,
           5490.814955670689,
           "Cluster 3"
          ],
          [
           24,
           134389,
           0.9388521378701832,
           4573.60634580409,
           "Cluster 3"
          ],
          [
           29,
           142000,
           0.9400873084125808,
           5349.821181717665,
           "Cluster 3"
          ],
          [
           28,
           129019,
           0.9308319590820414,
           3016.8206434862623,
           "Cluster 3"
          ],
          [
           29,
           122264,
           0.8985788437238403,
           2494.55627432471,
           "Cluster 3"
          ],
          [
           18,
           123718,
           0.8065528615489801,
           4420.445820614172,
           "Cluster 3"
          ],
          [
           23,
           126500,
           0.8650328592458483,
           3270.150434407087,
           "Cluster 3"
          ],
          [
           23,
           120226,
           0.8819129663041946,
           4698.294710949844,
           "Cluster 3"
          ],
          [
           24,
           129087,
           0.8271179432765905,
           3290.829468618805,
           "Cluster 3"
          ]
         ],
         "hoverlabel": {
          "namelength": 0
         },
         "hovertemplate": "Cluster=%{customdata[4]}<br>Age=%{customdata[0]}<br>Income=%{customdata[1]}<br>SpendingScore=%{customdata[2]}<br>Savings=%{customdata[3]}",
         "legendgroup": "Cluster=Cluster 3",
         "marker": {
          "color": "#ab63fa"
         },
         "name": "Cluster=Cluster 3",
         "notched": true,
         "offsetgroup": "Cluster=Cluster 3",
         "showlegend": false,
         "type": "box",
         "x": [
          "Cluster 3",
          "Cluster 3",
          "Cluster 3",
          "Cluster 3",
          "Cluster 3",
          "Cluster 3",
          "Cluster 3",
          "Cluster 3",
          "Cluster 3",
          "Cluster 3",
          "Cluster 3",
          "Cluster 3",
          "Cluster 3",
          "Cluster 3",
          "Cluster 3",
          "Cluster 3",
          "Cluster 3",
          "Cluster 3",
          "Cluster 3",
          "Cluster 3",
          "Cluster 3",
          "Cluster 3",
          "Cluster 3",
          "Cluster 3",
          "Cluster 3",
          "Cluster 3",
          "Cluster 3",
          "Cluster 3",
          "Cluster 3",
          "Cluster 3",
          "Cluster 3",
          "Cluster 3",
          "Cluster 3",
          "Cluster 3",
          "Cluster 3",
          "Cluster 3",
          "Cluster 3",
          "Cluster 3",
          "Cluster 3",
          "Cluster 3",
          "Cluster 3",
          "Cluster 3",
          "Cluster 3",
          "Cluster 3",
          "Cluster 3",
          "Cluster 3",
          "Cluster 3",
          "Cluster 3",
          "Cluster 3",
          "Cluster 3"
         ],
         "xaxis": "x2",
         "yaxis": "y2"
        }
       ],
       "layout": {
        "barmode": "relative",
        "legend": {
         "tracegroupgap": 0
        },
        "margin": {
         "t": 60
        },
        "template": {
         "data": {
          "bar": [
           {
            "error_x": {
             "color": "#2a3f5f"
            },
            "error_y": {
             "color": "#2a3f5f"
            },
            "marker": {
             "line": {
              "color": "#E5ECF6",
              "width": 0.5
             }
            },
            "type": "bar"
           }
          ],
          "barpolar": [
           {
            "marker": {
             "line": {
              "color": "#E5ECF6",
              "width": 0.5
             }
            },
            "type": "barpolar"
           }
          ],
          "carpet": [
           {
            "aaxis": {
             "endlinecolor": "#2a3f5f",
             "gridcolor": "white",
             "linecolor": "white",
             "minorgridcolor": "white",
             "startlinecolor": "#2a3f5f"
            },
            "baxis": {
             "endlinecolor": "#2a3f5f",
             "gridcolor": "white",
             "linecolor": "white",
             "minorgridcolor": "white",
             "startlinecolor": "#2a3f5f"
            },
            "type": "carpet"
           }
          ],
          "choropleth": [
           {
            "colorbar": {
             "outlinewidth": 0,
             "ticks": ""
            },
            "type": "choropleth"
           }
          ],
          "contour": [
           {
            "colorbar": {
             "outlinewidth": 0,
             "ticks": ""
            },
            "colorscale": [
             [
              0,
              "#0d0887"
             ],
             [
              0.1111111111111111,
              "#46039f"
             ],
             [
              0.2222222222222222,
              "#7201a8"
             ],
             [
              0.3333333333333333,
              "#9c179e"
             ],
             [
              0.4444444444444444,
              "#bd3786"
             ],
             [
              0.5555555555555556,
              "#d8576b"
             ],
             [
              0.6666666666666666,
              "#ed7953"
             ],
             [
              0.7777777777777778,
              "#fb9f3a"
             ],
             [
              0.8888888888888888,
              "#fdca26"
             ],
             [
              1,
              "#f0f921"
             ]
            ],
            "type": "contour"
           }
          ],
          "contourcarpet": [
           {
            "colorbar": {
             "outlinewidth": 0,
             "ticks": ""
            },
            "type": "contourcarpet"
           }
          ],
          "heatmap": [
           {
            "colorbar": {
             "outlinewidth": 0,
             "ticks": ""
            },
            "colorscale": [
             [
              0,
              "#0d0887"
             ],
             [
              0.1111111111111111,
              "#46039f"
             ],
             [
              0.2222222222222222,
              "#7201a8"
             ],
             [
              0.3333333333333333,
              "#9c179e"
             ],
             [
              0.4444444444444444,
              "#bd3786"
             ],
             [
              0.5555555555555556,
              "#d8576b"
             ],
             [
              0.6666666666666666,
              "#ed7953"
             ],
             [
              0.7777777777777778,
              "#fb9f3a"
             ],
             [
              0.8888888888888888,
              "#fdca26"
             ],
             [
              1,
              "#f0f921"
             ]
            ],
            "type": "heatmap"
           }
          ],
          "heatmapgl": [
           {
            "colorbar": {
             "outlinewidth": 0,
             "ticks": ""
            },
            "colorscale": [
             [
              0,
              "#0d0887"
             ],
             [
              0.1111111111111111,
              "#46039f"
             ],
             [
              0.2222222222222222,
              "#7201a8"
             ],
             [
              0.3333333333333333,
              "#9c179e"
             ],
             [
              0.4444444444444444,
              "#bd3786"
             ],
             [
              0.5555555555555556,
              "#d8576b"
             ],
             [
              0.6666666666666666,
              "#ed7953"
             ],
             [
              0.7777777777777778,
              "#fb9f3a"
             ],
             [
              0.8888888888888888,
              "#fdca26"
             ],
             [
              1,
              "#f0f921"
             ]
            ],
            "type": "heatmapgl"
           }
          ],
          "histogram": [
           {
            "marker": {
             "colorbar": {
              "outlinewidth": 0,
              "ticks": ""
             }
            },
            "type": "histogram"
           }
          ],
          "histogram2d": [
           {
            "colorbar": {
             "outlinewidth": 0,
             "ticks": ""
            },
            "colorscale": [
             [
              0,
              "#0d0887"
             ],
             [
              0.1111111111111111,
              "#46039f"
             ],
             [
              0.2222222222222222,
              "#7201a8"
             ],
             [
              0.3333333333333333,
              "#9c179e"
             ],
             [
              0.4444444444444444,
              "#bd3786"
             ],
             [
              0.5555555555555556,
              "#d8576b"
             ],
             [
              0.6666666666666666,
              "#ed7953"
             ],
             [
              0.7777777777777778,
              "#fb9f3a"
             ],
             [
              0.8888888888888888,
              "#fdca26"
             ],
             [
              1,
              "#f0f921"
             ]
            ],
            "type": "histogram2d"
           }
          ],
          "histogram2dcontour": [
           {
            "colorbar": {
             "outlinewidth": 0,
             "ticks": ""
            },
            "colorscale": [
             [
              0,
              "#0d0887"
             ],
             [
              0.1111111111111111,
              "#46039f"
             ],
             [
              0.2222222222222222,
              "#7201a8"
             ],
             [
              0.3333333333333333,
              "#9c179e"
             ],
             [
              0.4444444444444444,
              "#bd3786"
             ],
             [
              0.5555555555555556,
              "#d8576b"
             ],
             [
              0.6666666666666666,
              "#ed7953"
             ],
             [
              0.7777777777777778,
              "#fb9f3a"
             ],
             [
              0.8888888888888888,
              "#fdca26"
             ],
             [
              1,
              "#f0f921"
             ]
            ],
            "type": "histogram2dcontour"
           }
          ],
          "mesh3d": [
           {
            "colorbar": {
             "outlinewidth": 0,
             "ticks": ""
            },
            "type": "mesh3d"
           }
          ],
          "parcoords": [
           {
            "line": {
             "colorbar": {
              "outlinewidth": 0,
              "ticks": ""
             }
            },
            "type": "parcoords"
           }
          ],
          "pie": [
           {
            "automargin": true,
            "type": "pie"
           }
          ],
          "scatter": [
           {
            "marker": {
             "colorbar": {
              "outlinewidth": 0,
              "ticks": ""
             }
            },
            "type": "scatter"
           }
          ],
          "scatter3d": [
           {
            "line": {
             "colorbar": {
              "outlinewidth": 0,
              "ticks": ""
             }
            },
            "marker": {
             "colorbar": {
              "outlinewidth": 0,
              "ticks": ""
             }
            },
            "type": "scatter3d"
           }
          ],
          "scattercarpet": [
           {
            "marker": {
             "colorbar": {
              "outlinewidth": 0,
              "ticks": ""
             }
            },
            "type": "scattercarpet"
           }
          ],
          "scattergeo": [
           {
            "marker": {
             "colorbar": {
              "outlinewidth": 0,
              "ticks": ""
             }
            },
            "type": "scattergeo"
           }
          ],
          "scattergl": [
           {
            "marker": {
             "colorbar": {
              "outlinewidth": 0,
              "ticks": ""
             }
            },
            "type": "scattergl"
           }
          ],
          "scattermapbox": [
           {
            "marker": {
             "colorbar": {
              "outlinewidth": 0,
              "ticks": ""
             }
            },
            "type": "scattermapbox"
           }
          ],
          "scatterpolar": [
           {
            "marker": {
             "colorbar": {
              "outlinewidth": 0,
              "ticks": ""
             }
            },
            "type": "scatterpolar"
           }
          ],
          "scatterpolargl": [
           {
            "marker": {
             "colorbar": {
              "outlinewidth": 0,
              "ticks": ""
             }
            },
            "type": "scatterpolargl"
           }
          ],
          "scatterternary": [
           {
            "marker": {
             "colorbar": {
              "outlinewidth": 0,
              "ticks": ""
             }
            },
            "type": "scatterternary"
           }
          ],
          "surface": [
           {
            "colorbar": {
             "outlinewidth": 0,
             "ticks": ""
            },
            "colorscale": [
             [
              0,
              "#0d0887"
             ],
             [
              0.1111111111111111,
              "#46039f"
             ],
             [
              0.2222222222222222,
              "#7201a8"
             ],
             [
              0.3333333333333333,
              "#9c179e"
             ],
             [
              0.4444444444444444,
              "#bd3786"
             ],
             [
              0.5555555555555556,
              "#d8576b"
             ],
             [
              0.6666666666666666,
              "#ed7953"
             ],
             [
              0.7777777777777778,
              "#fb9f3a"
             ],
             [
              0.8888888888888888,
              "#fdca26"
             ],
             [
              1,
              "#f0f921"
             ]
            ],
            "type": "surface"
           }
          ],
          "table": [
           {
            "cells": {
             "fill": {
              "color": "#EBF0F8"
             },
             "line": {
              "color": "white"
             }
            },
            "header": {
             "fill": {
              "color": "#C8D4E3"
             },
             "line": {
              "color": "white"
             }
            },
            "type": "table"
           }
          ]
         },
         "layout": {
          "annotationdefaults": {
           "arrowcolor": "#2a3f5f",
           "arrowhead": 0,
           "arrowwidth": 1
          },
          "coloraxis": {
           "colorbar": {
            "outlinewidth": 0,
            "ticks": ""
           }
          },
          "colorscale": {
           "diverging": [
            [
             0,
             "#8e0152"
            ],
            [
             0.1,
             "#c51b7d"
            ],
            [
             0.2,
             "#de77ae"
            ],
            [
             0.3,
             "#f1b6da"
            ],
            [
             0.4,
             "#fde0ef"
            ],
            [
             0.5,
             "#f7f7f7"
            ],
            [
             0.6,
             "#e6f5d0"
            ],
            [
             0.7,
             "#b8e186"
            ],
            [
             0.8,
             "#7fbc41"
            ],
            [
             0.9,
             "#4d9221"
            ],
            [
             1,
             "#276419"
            ]
           ],
           "sequential": [
            [
             0,
             "#0d0887"
            ],
            [
             0.1111111111111111,
             "#46039f"
            ],
            [
             0.2222222222222222,
             "#7201a8"
            ],
            [
             0.3333333333333333,
             "#9c179e"
            ],
            [
             0.4444444444444444,
             "#bd3786"
            ],
            [
             0.5555555555555556,
             "#d8576b"
            ],
            [
             0.6666666666666666,
             "#ed7953"
            ],
            [
             0.7777777777777778,
             "#fb9f3a"
            ],
            [
             0.8888888888888888,
             "#fdca26"
            ],
            [
             1,
             "#f0f921"
            ]
           ],
           "sequentialminus": [
            [
             0,
             "#0d0887"
            ],
            [
             0.1111111111111111,
             "#46039f"
            ],
            [
             0.2222222222222222,
             "#7201a8"
            ],
            [
             0.3333333333333333,
             "#9c179e"
            ],
            [
             0.4444444444444444,
             "#bd3786"
            ],
            [
             0.5555555555555556,
             "#d8576b"
            ],
            [
             0.6666666666666666,
             "#ed7953"
            ],
            [
             0.7777777777777778,
             "#fb9f3a"
            ],
            [
             0.8888888888888888,
             "#fdca26"
            ],
            [
             1,
             "#f0f921"
            ]
           ]
          },
          "colorway": [
           "#636efa",
           "#EF553B",
           "#00cc96",
           "#ab63fa",
           "#FFA15A",
           "#19d3f3",
           "#FF6692",
           "#B6E880",
           "#FF97FF",
           "#FECB52"
          ],
          "font": {
           "color": "#2a3f5f"
          },
          "geo": {
           "bgcolor": "white",
           "lakecolor": "white",
           "landcolor": "#E5ECF6",
           "showlakes": true,
           "showland": true,
           "subunitcolor": "white"
          },
          "hoverlabel": {
           "align": "left"
          },
          "hovermode": "closest",
          "mapbox": {
           "style": "light"
          },
          "paper_bgcolor": "white",
          "plot_bgcolor": "#E5ECF6",
          "polar": {
           "angularaxis": {
            "gridcolor": "white",
            "linecolor": "white",
            "ticks": ""
           },
           "bgcolor": "#E5ECF6",
           "radialaxis": {
            "gridcolor": "white",
            "linecolor": "white",
            "ticks": ""
           }
          },
          "scene": {
           "xaxis": {
            "backgroundcolor": "#E5ECF6",
            "gridcolor": "white",
            "gridwidth": 2,
            "linecolor": "white",
            "showbackground": true,
            "ticks": "",
            "zerolinecolor": "white"
           },
           "yaxis": {
            "backgroundcolor": "#E5ECF6",
            "gridcolor": "white",
            "gridwidth": 2,
            "linecolor": "white",
            "showbackground": true,
            "ticks": "",
            "zerolinecolor": "white"
           },
           "zaxis": {
            "backgroundcolor": "#E5ECF6",
            "gridcolor": "white",
            "gridwidth": 2,
            "linecolor": "white",
            "showbackground": true,
            "ticks": "",
            "zerolinecolor": "white"
           }
          },
          "shapedefaults": {
           "line": {
            "color": "#2a3f5f"
           }
          },
          "ternary": {
           "aaxis": {
            "gridcolor": "white",
            "linecolor": "white",
            "ticks": ""
           },
           "baxis": {
            "gridcolor": "white",
            "linecolor": "white",
            "ticks": ""
           },
           "bgcolor": "#E5ECF6",
           "caxis": {
            "gridcolor": "white",
            "linecolor": "white",
            "ticks": ""
           }
          },
          "title": {
           "x": 0.05
          },
          "xaxis": {
           "automargin": true,
           "gridcolor": "white",
           "linecolor": "white",
           "ticks": "",
           "title": {
            "standoff": 15
           },
           "zerolinecolor": "white",
           "zerolinewidth": 2
          },
          "yaxis": {
           "automargin": true,
           "gridcolor": "white",
           "linecolor": "white",
           "ticks": "",
           "title": {
            "standoff": 15
           },
           "zerolinecolor": "white",
           "zerolinewidth": 2
          }
         }
        },
        "xaxis": {
         "anchor": "y",
         "categoryarray": [
          "Cluster 0",
          "Cluster 1",
          "Cluster 2",
          "Cluster 3"
         ],
         "categoryorder": "array",
         "domain": [
          0,
          1
         ],
         "title": {
          "text": "Cluster"
         }
        },
        "xaxis2": {
         "anchor": "y2",
         "domain": [
          0,
          1
         ],
         "matches": "x",
         "showgrid": true,
         "showticklabels": false
        },
        "yaxis": {
         "anchor": "x",
         "domain": [
          0,
          0.7326
         ],
         "title": {
          "text": "count"
         }
        },
        "yaxis2": {
         "anchor": "x2",
         "domain": [
          0.7426,
          1
         ],
         "matches": "y2",
         "showgrid": false,
         "showline": false,
         "showticklabels": false,
         "ticks": ""
        }
       }
      },
      "text/html": [
       "<div>\n",
       "        \n",
       "        \n",
       "            <div id=\"60132d45-b484-4ab7-8727-2c6424b3732a\" class=\"plotly-graph-div\" style=\"height:525px; width:100%;\"></div>\n",
       "            <script type=\"text/javascript\">\n",
       "                require([\"plotly\"], function(Plotly) {\n",
       "                    window.PLOTLYENV=window.PLOTLYENV || {};\n",
       "                    \n",
       "                if (document.getElementById(\"60132d45-b484-4ab7-8727-2c6424b3732a\")) {\n",
       "                    Plotly.newPlot(\n",
       "                        '60132d45-b484-4ab7-8727-2c6424b3732a',\n",
       "                        [{\"alignmentgroup\": \"True\", \"bingroup\": \"x\", \"hoverlabel\": {\"namelength\": 0}, \"hovertemplate\": \"Cluster=%{x}<br>count=%{y}\", \"legendgroup\": \"Cluster=Cluster 0\", \"marker\": {\"color\": \"#636efa\", \"opacity\": 0.7}, \"name\": \"Cluster=Cluster 0\", \"offsetgroup\": \"Cluster=Cluster 0\", \"orientation\": \"v\", \"showlegend\": true, \"type\": \"histogram\", \"x\": [\"Cluster 0\", \"Cluster 0\", \"Cluster 0\", \"Cluster 0\", \"Cluster 0\", \"Cluster 0\", \"Cluster 0\", \"Cluster 0\", \"Cluster 0\", \"Cluster 0\", \"Cluster 0\", \"Cluster 0\", \"Cluster 0\", \"Cluster 0\", \"Cluster 0\", \"Cluster 0\", \"Cluster 0\", \"Cluster 0\", \"Cluster 0\", \"Cluster 0\", \"Cluster 0\", \"Cluster 0\", \"Cluster 0\", \"Cluster 0\", \"Cluster 0\", \"Cluster 0\", \"Cluster 0\", \"Cluster 0\", \"Cluster 0\", \"Cluster 0\", \"Cluster 0\", \"Cluster 0\", \"Cluster 0\", \"Cluster 0\", \"Cluster 0\", \"Cluster 0\", \"Cluster 0\", \"Cluster 0\", \"Cluster 0\", \"Cluster 0\", \"Cluster 0\", \"Cluster 0\", \"Cluster 0\", \"Cluster 0\", \"Cluster 0\", \"Cluster 0\", \"Cluster 0\", \"Cluster 0\", \"Cluster 0\", \"Cluster 0\", \"Cluster 0\", \"Cluster 0\", \"Cluster 0\", \"Cluster 0\", \"Cluster 0\", \"Cluster 0\", \"Cluster 0\", \"Cluster 0\", \"Cluster 0\", \"Cluster 0\", \"Cluster 0\", \"Cluster 0\", \"Cluster 0\", \"Cluster 0\", \"Cluster 0\", \"Cluster 0\", \"Cluster 0\", \"Cluster 0\", \"Cluster 0\", \"Cluster 0\", \"Cluster 0\", \"Cluster 0\", \"Cluster 0\", \"Cluster 0\", \"Cluster 0\", \"Cluster 0\", \"Cluster 0\", \"Cluster 0\", \"Cluster 0\", \"Cluster 0\", \"Cluster 0\", \"Cluster 0\", \"Cluster 0\", \"Cluster 0\", \"Cluster 0\", \"Cluster 0\", \"Cluster 0\", \"Cluster 0\", \"Cluster 0\", \"Cluster 0\", \"Cluster 0\", \"Cluster 0\", \"Cluster 0\", \"Cluster 0\", \"Cluster 0\", \"Cluster 0\", \"Cluster 0\", \"Cluster 0\", \"Cluster 0\", \"Cluster 0\", \"Cluster 0\", \"Cluster 0\", \"Cluster 0\", \"Cluster 0\", \"Cluster 0\", \"Cluster 0\", \"Cluster 0\", \"Cluster 0\", \"Cluster 0\", \"Cluster 0\", \"Cluster 0\", \"Cluster 0\", \"Cluster 0\", \"Cluster 0\", \"Cluster 0\", \"Cluster 0\", \"Cluster 0\", \"Cluster 0\", \"Cluster 0\", \"Cluster 0\", \"Cluster 0\", \"Cluster 0\", \"Cluster 0\", \"Cluster 0\", \"Cluster 0\", \"Cluster 0\", \"Cluster 0\", \"Cluster 0\", \"Cluster 0\", \"Cluster 0\", \"Cluster 0\", \"Cluster 0\", \"Cluster 0\", \"Cluster 0\", \"Cluster 0\", \"Cluster 0\", \"Cluster 0\", \"Cluster 0\", \"Cluster 0\", \"Cluster 0\", \"Cluster 0\", \"Cluster 0\", \"Cluster 0\", \"Cluster 0\", \"Cluster 0\", \"Cluster 0\", \"Cluster 0\"], \"xaxis\": \"x\", \"yaxis\": \"y\"}, {\"alignmentgroup\": \"True\", \"customdata\": [[89.0, 30267.0, 0.2893100658351509, 14386.351879589123, \"Cluster 0\"], [88.0, 28585.0, 0.3977396663840213, 16725.841854363774, \"Cluster 0\"], [94.0, 27771.0, 0.3025032231546657, 17303.957194969433, \"Cluster 0\"], [87.0, 18459.0, 0.2645499059687874, 15637.59765457844, \"Cluster 0\"], [89.0, 28160.0, 0.3388488510290433, 15607.061781887898, \"Cluster 0\"], [93.0, 20440.0, 0.2975730342292497, 17406.074017844054, \"Cluster 0\"], [82.0, 32494.0, 0.3273154026360584, 16799.444266662453, \"Cluster 0\"], [87.0, 30102.0, 0.3903905943444749, 16330.081190027211, \"Cluster 0\"], [89.0, 20292.0, 0.3121481952107594, 16023.4456584523, \"Cluster 0\"], [84.0, 27179.0, 0.3474234168306904, 15612.628547766899, \"Cluster 0\"], [87.0, 24578.0, 0.37616545875063534, 17789.247521813828, \"Cluster 0\"], [88.0, 33251.0, 0.3043913649608802, 18868.24161249696, \"Cluster 0\"], [89.0, 34524.0, 0.348118273264174, 14051.256515312789, \"Cluster 0\"], [95.0, 27038.0, 0.3313520070109344, 18126.577451151075, \"Cluster 0\"], [89.0, 26127.0, 0.3044743722681633, 17194.828018777476, \"Cluster 0\"], [86.0, 46977.0, 0.2827283910152334, 15628.957075805025, \"Cluster 0\"], [85.0, 27599.0, 0.2819950483303406, 13470.97060503703, \"Cluster 0\"], [87.0, 25701.0, 0.3152205738281265, 15738.859295516553, \"Cluster 0\"], [92.0, 33550.0, 0.3685156285793065, 17106.32591058189, \"Cluster 0\"], [89.0, 19202.0, 0.3819877440174351, 16626.22236147723, \"Cluster 0\"], [85.0, 28408.0, 0.3580738593579665, 15063.335797441836, \"Cluster 0\"], [89.0, 33311.0, 0.3761469685086391, 17093.06995548225, \"Cluster 0\"], [85.0, 26355.0, 0.34234066669498114, 17971.19363998381, \"Cluster 0\"], [92.0, 32915.0, 0.3885749195868542, 16694.706839244012, \"Cluster 0\"], [89.0, 31096.0, 0.2785878455435617, 17736.94259966666, \"Cluster 0\"], [79.0, 32421.0, 0.3032762059432743, 15319.467662272391, \"Cluster 0\"], [90.0, 33259.0, 0.377571058498228, 15315.028503741696, \"Cluster 0\"], [92.0, 35484.0, 0.3970636039704499, 17324.045112814925, \"Cluster 0\"], [88.0, 31366.0, 0.3796208481334848, 16079.622699815933, \"Cluster 0\"], [84.0, 29492.0, 0.3336031402694437, 17954.09505703969, \"Cluster 0\"], [88.0, 26092.0, 0.3128732065230775, 17105.79392615357, \"Cluster 0\"], [84.0, 42018.0, 0.29799360218993026, 16148.370454036614, \"Cluster 0\"], [88.0, 34001.0, 0.33756932388752803, 15530.934134298665, \"Cluster 0\"], [91.0, 29082.0, 0.28248852137129143, 18794.488169074688, \"Cluster 0\"], [90.0, 24376.0, 0.2812794569155436, 15134.994226396464, \"Cluster 0\"], [88.0, 28409.0, 0.30565353367521064, 17326.175608364214, \"Cluster 0\"], [86.0, 36031.0, 0.2401766350783482, 16945.326244896307, \"Cluster 0\"], [85.0, 34634.0, 0.3690001696241634, 16719.815875018445, \"Cluster 0\"], [86.0, 15695.0, 0.25717496647489363, 17366.186263516567, \"Cluster 0\"], [91.0, 30148.0, 0.2773889467565771, 15324.287405101717, \"Cluster 0\"], [85.0, 28401.0, 0.3694371368158697, 15990.49413056604, \"Cluster 0\"], [87.0, 15671.0, 0.3507250914944152, 14326.601120246103, \"Cluster 0\"], [94.0, 20719.0, 0.336402269797664, 16281.832273239006, \"Cluster 0\"], [85.0, 30794.0, 0.2862292747117072, 17096.39150937826, \"Cluster 0\"], [82.0, 24391.0, 0.27610134635529604, 17053.03010738692, \"Cluster 0\"], [83.0, 28497.0, 0.3938023931664613, 15510.112981164848, \"Cluster 0\"], [88.0, 17388.0, 0.4661894446652393, 16698.6210372462, \"Cluster 0\"], [85.0, 34802.0, 0.2987969233586417, 16450.003270402787, \"Cluster 0\"], [89.0, 22008.0, 0.3819060693389532, 16458.398097731253, \"Cluster 0\"], [89.0, 24520.0, 0.44383270684567067, 13556.9358834699, \"Cluster 0\"], [79.0, 38201.0, 0.3697828881534748, 16393.395697309446, \"Cluster 0\"], [86.0, 28779.0, 0.3365233301816881, 16047.268331461928, \"Cluster 0\"], [84.0, 38042.0, 0.3660858718547989, 17465.856285855403, \"Cluster 0\"], [87.0, 46910.0, 0.3085616998317755, 14789.14847617646, \"Cluster 0\"], [83.0, 26882.0, 0.34797963237384105, 17775.22817123954, \"Cluster 0\"], [86.0, 18812.0, 0.34154576038705153, 16157.734142403422, \"Cluster 0\"], [85.0, 29610.0, 0.3181352453742131, 18475.487468080933, \"Cluster 0\"], [87.0, 30812.0, 0.3144631516753479, 15238.118997598334, \"Cluster 0\"], [88.0, 19510.0, 0.3167510258154691, 16529.20080632274, \"Cluster 0\"], [88.0, 26351.0, 0.3041682062164747, 14035.917553542351, \"Cluster 0\"], [85.0, 21250.0, 0.3104101151420252, 16033.971166673777, \"Cluster 0\"], [90.0, 22288.0, 0.2713268321051208, 18434.099152391347, \"Cluster 0\"], [91.0, 36639.0, 0.3261988874784867, 16275.703341192586, \"Cluster 0\"], [87.0, 12000.0, 0.3429910076112659, 16180.26525174153, \"Cluster 0\"], [88.0, 35051.0, 0.3860515062876169, 17593.24679258195, \"Cluster 0\"], [91.0, 12038.0, 0.3498032558856572, 16464.960504438823, \"Cluster 0\"], [86.0, 31994.0, 0.24947694035510065, 18210.088099070614, \"Cluster 0\"], [87.0, 30178.0, 0.2793159778940049, 16123.070750832, \"Cluster 0\"], [94.0, 18937.0, 0.3470950600753079, 17739.776098377628, \"Cluster 0\"], [82.0, 33610.0, 0.3012532342412973, 17755.664940228176, \"Cluster 0\"], [89.0, 26940.0, 0.3260051328059917, 16555.159377159824, \"Cluster 0\"], [93.0, 17672.0, 0.3032923688871533, 18516.451810726718, \"Cluster 0\"], [90.0, 33490.0, 0.4199085281737912, 17091.904228934392, \"Cluster 0\"], [91.0, 25237.0, 0.3535018242414266, 17292.733103848248, \"Cluster 0\"], [90.0, 30178.0, 0.2823512821567113, 16182.8384364088, \"Cluster 0\"], [88.0, 32708.0, 0.3682153159958089, 16711.0679804242, \"Cluster 0\"], [83.0, 18162.0, 0.3013734548863509, 16029.469213914268, \"Cluster 0\"], [94.0, 38923.0, 0.33022601809734325, 16971.181554867213, \"Cluster 0\"], [92.0, 35877.0, 0.3668917159124752, 17287.907016982324, \"Cluster 0\"], [89.0, 25252.0, 0.32176522093208865, 16539.364186086335, \"Cluster 0\"], [87.0, 25566.0, 0.3167603729756968, 15188.058749407255, \"Cluster 0\"], [84.0, 27384.0, 0.31364671699548896, 16734.672754073246, \"Cluster 0\"], [84.0, 27544.0, 0.2309337663207005, 18207.36169648481, \"Cluster 0\"], [91.0, 28777.0, 0.324193555035782, 17808.2662415687, \"Cluster 0\"], [91.0, 27168.0, 0.3322388165540652, 15893.729773516614, \"Cluster 0\"], [88.0, 22602.0, 0.35674482887974684, 16740.343496726702, \"Cluster 0\"], [81.0, 34425.0, 0.2726097792323641, 16262.623790655764, \"Cluster 0\"], [85.0, 29204.0, 0.3254914498834959, 16918.903460369133, \"Cluster 0\"], [91.0, 20681.0, 0.3546791690549572, 18401.08844474873, \"Cluster 0\"], [82.0, 24221.0, 0.4735496605323542, 16251.759445212669, \"Cluster 0\"], [86.0, 35998.0, 0.3216356471662456, 20000.0, \"Cluster 0\"], [94.0, 27169.0, 0.3141730453838618, 15061.776215142369, \"Cluster 0\"], [91.0, 29750.0, 0.2884703320713124, 19201.11991627576, \"Cluster 0\"], [88.0, 17946.0, 0.26964363039994416, 16715.160017840968, \"Cluster 0\"], [91.0, 26424.0, 0.3193886529047028, 16501.46877669979, \"Cluster 0\"], [84.0, 22286.0, 0.3955062459001081, 17886.53737311577, \"Cluster 0\"], [83.0, 30492.0, 0.3016314685914632, 15365.85846293255, \"Cluster 0\"], [90.0, 25733.0, 0.3385629680709827, 17631.56888411863, \"Cluster 0\"], [88.0, 27169.0, 0.28005950486141434, 15260.635546195437, \"Cluster 0\"], [91.0, 16950.0, 0.32300404344763, 17172.609400509067, \"Cluster 0\"], [88.0, 28802.0, 0.4083878319987073, 16293.038332542192, \"Cluster 0\"], [92.0, 22484.0, 0.3317732623948493, 18615.632589788456, \"Cluster 0\"], [90.0, 29029.0, 0.30375897133462404, 15592.991530526488, \"Cluster 0\"], [87.0, 23042.0, 0.3663120107544869, 18149.035872923057, \"Cluster 0\"], [94.0, 23854.0, 0.3144466826182581, 16828.410118749016, \"Cluster 0\"], [87.0, 29909.0, 0.3421516318130469, 18142.232746738577, \"Cluster 0\"], [87.0, 31481.0, 0.317423970601333, 16180.68808203422, \"Cluster 0\"], [84.0, 24105.0, 0.2718090229374729, 16524.902538052145, \"Cluster 0\"], [82.0, 33636.0, 0.3717829785401914, 17866.83359752812, \"Cluster 0\"], [84.0, 20704.0, 0.3794963151514172, 16816.911895743782, \"Cluster 0\"], [84.0, 30481.0, 0.3970228936031003, 16837.205964813103, \"Cluster 0\"], [88.0, 33303.0, 0.39971568554521497, 15232.598068845287, \"Cluster 0\"], [87.0, 26045.0, 0.3752921226023748, 15903.558359374925, \"Cluster 0\"], [92.0, 36032.0, 0.3369683066109672, 17348.5998812573, \"Cluster 0\"], [91.0, 22672.0, 0.2710645345158169, 15407.646761130874, \"Cluster 0\"], [91.0, 24370.0, 0.2963285713632805, 16141.048981383728, \"Cluster 0\"], [83.0, 34529.0, 0.3172075114569807, 16517.208746949746, \"Cluster 0\"], [84.0, 36463.0, 0.3536209572557781, 16563.372591147832, \"Cluster 0\"], [90.0, 37503.0, 0.35778831446458764, 17258.57497274541, \"Cluster 0\"], [86.0, 27705.0, 0.3293769514872405, 17130.85610211788, \"Cluster 0\"], [91.0, 36991.0, 0.2685979050949868, 19047.77233878285, \"Cluster 0\"], [97.0, 27271.0, 0.28392289527040304, 14928.165597390327, \"Cluster 0\"], [92.0, 18724.0, 0.3278623148176303, 15341.381109594675, \"Cluster 0\"], [92.0, 22616.0, 0.3228506824321553, 17275.66131398456, \"Cluster 0\"], [91.0, 28165.0, 0.3036929225036061, 17460.179350212424, \"Cluster 0\"], [90.0, 22782.0, 0.3563068710287742, 15924.071707885845, \"Cluster 0\"], [88.0, 17851.0, 0.2898659849627828, 17472.470686173863, \"Cluster 0\"], [91.0, 25886.0, 0.30175376758370465, 17266.045729118025, \"Cluster 0\"], [86.0, 23400.0, 0.27803553844702666, 15215.28126373834, \"Cluster 0\"], [83.0, 28727.0, 0.3082630418510537, 18205.33626089001, \"Cluster 0\"], [94.0, 28352.0, 0.37687573531685575, 16798.886114738052, \"Cluster 0\"], [83.0, 23206.0, 0.3212403632065312, 16870.672003783384, \"Cluster 0\"], [87.0, 23322.0, 0.30682119734644964, 16131.267659393414, \"Cluster 0\"], [85.0, 21652.0, 0.3184561372216806, 14175.16988549895, \"Cluster 0\"], [87.0, 26665.0, 0.4021456613889217, 17376.914743318182, \"Cluster 0\"], [83.0, 30721.0, 0.3311418077630257, 17705.99238527814, \"Cluster 0\"], [83.0, 33170.0, 0.24107774427464634, 16620.010473689304, \"Cluster 0\"], [90.0, 33188.0, 0.24881006879023135, 15866.913937696345, \"Cluster 0\"], [87.0, 17760.0, 0.34877754843050746, 16869.507130301474, \"Cluster 0\"], [91.0, 30756.0, 0.30369803009825364, 15492.004711465304, \"Cluster 0\"], [91.0, 26917.0, 0.37671353045834655, 17986.618644605885, \"Cluster 0\"], [83.0, 34384.0, 0.3247186821733417, 14783.379085794499, \"Cluster 0\"], [93.0, 19934.0, 0.20314023979537812, 17969.693768505334, \"Cluster 0\"], [87.0, 42592.0, 0.35528968203827593, 18086.287157859304, \"Cluster 0\"], [90.0, 35297.0, 0.35514901905663643, 16091.401954058958, \"Cluster 0\"], [84.0, 18244.0, 0.29266337446440194, 17815.348406878897, \"Cluster 0\"], [84.0, 27693.0, 0.3670629731870412, 17879.558905551898, \"Cluster 0\"]], \"hoverlabel\": {\"namelength\": 0}, \"hovertemplate\": \"Cluster=%{customdata[4]}<br>Age=%{customdata[0]}<br>Income=%{customdata[1]}<br>SpendingScore=%{customdata[2]}<br>Savings=%{customdata[3]}\", \"legendgroup\": \"Cluster=Cluster 0\", \"marker\": {\"color\": \"#636efa\"}, \"name\": \"Cluster=Cluster 0\", \"notched\": true, \"offsetgroup\": \"Cluster=Cluster 0\", \"showlegend\": false, \"type\": \"box\", \"x\": [\"Cluster 0\", \"Cluster 0\", \"Cluster 0\", \"Cluster 0\", \"Cluster 0\", \"Cluster 0\", \"Cluster 0\", \"Cluster 0\", \"Cluster 0\", \"Cluster 0\", \"Cluster 0\", \"Cluster 0\", \"Cluster 0\", \"Cluster 0\", \"Cluster 0\", \"Cluster 0\", \"Cluster 0\", \"Cluster 0\", \"Cluster 0\", \"Cluster 0\", \"Cluster 0\", \"Cluster 0\", \"Cluster 0\", \"Cluster 0\", \"Cluster 0\", \"Cluster 0\", \"Cluster 0\", \"Cluster 0\", \"Cluster 0\", \"Cluster 0\", \"Cluster 0\", \"Cluster 0\", \"Cluster 0\", \"Cluster 0\", \"Cluster 0\", \"Cluster 0\", \"Cluster 0\", \"Cluster 0\", \"Cluster 0\", \"Cluster 0\", \"Cluster 0\", \"Cluster 0\", \"Cluster 0\", \"Cluster 0\", \"Cluster 0\", \"Cluster 0\", \"Cluster 0\", \"Cluster 0\", \"Cluster 0\", \"Cluster 0\", \"Cluster 0\", \"Cluster 0\", \"Cluster 0\", \"Cluster 0\", \"Cluster 0\", \"Cluster 0\", \"Cluster 0\", \"Cluster 0\", \"Cluster 0\", \"Cluster 0\", \"Cluster 0\", \"Cluster 0\", \"Cluster 0\", \"Cluster 0\", \"Cluster 0\", \"Cluster 0\", \"Cluster 0\", \"Cluster 0\", \"Cluster 0\", \"Cluster 0\", \"Cluster 0\", \"Cluster 0\", \"Cluster 0\", \"Cluster 0\", \"Cluster 0\", \"Cluster 0\", \"Cluster 0\", \"Cluster 0\", \"Cluster 0\", \"Cluster 0\", \"Cluster 0\", \"Cluster 0\", \"Cluster 0\", \"Cluster 0\", \"Cluster 0\", \"Cluster 0\", \"Cluster 0\", \"Cluster 0\", \"Cluster 0\", \"Cluster 0\", \"Cluster 0\", \"Cluster 0\", \"Cluster 0\", \"Cluster 0\", \"Cluster 0\", \"Cluster 0\", \"Cluster 0\", \"Cluster 0\", \"Cluster 0\", \"Cluster 0\", \"Cluster 0\", \"Cluster 0\", \"Cluster 0\", \"Cluster 0\", \"Cluster 0\", \"Cluster 0\", \"Cluster 0\", \"Cluster 0\", \"Cluster 0\", \"Cluster 0\", \"Cluster 0\", \"Cluster 0\", \"Cluster 0\", \"Cluster 0\", \"Cluster 0\", \"Cluster 0\", \"Cluster 0\", \"Cluster 0\", \"Cluster 0\", \"Cluster 0\", \"Cluster 0\", \"Cluster 0\", \"Cluster 0\", \"Cluster 0\", \"Cluster 0\", \"Cluster 0\", \"Cluster 0\", \"Cluster 0\", \"Cluster 0\", \"Cluster 0\", \"Cluster 0\", \"Cluster 0\", \"Cluster 0\", \"Cluster 0\", \"Cluster 0\", \"Cluster 0\", \"Cluster 0\", \"Cluster 0\", \"Cluster 0\", \"Cluster 0\", \"Cluster 0\", \"Cluster 0\", \"Cluster 0\", \"Cluster 0\", \"Cluster 0\", \"Cluster 0\", \"Cluster 0\"], \"xaxis\": \"x2\", \"yaxis\": \"y2\"}, {\"alignmentgroup\": \"True\", \"bingroup\": \"x\", \"hoverlabel\": {\"namelength\": 0}, \"hovertemplate\": \"Cluster=%{x}<br>count=%{y}\", \"legendgroup\": \"Cluster=Cluster 1\", \"marker\": {\"color\": \"#EF553B\", \"opacity\": 0.7}, \"name\": \"Cluster=Cluster 1\", \"offsetgroup\": \"Cluster=Cluster 1\", \"orientation\": \"v\", \"showlegend\": true, \"type\": \"histogram\", \"x\": [\"Cluster 1\", \"Cluster 1\", \"Cluster 1\", \"Cluster 1\", \"Cluster 1\", \"Cluster 1\", \"Cluster 1\", \"Cluster 1\", \"Cluster 1\", \"Cluster 1\", \"Cluster 1\", \"Cluster 1\", \"Cluster 1\", \"Cluster 1\", \"Cluster 1\", \"Cluster 1\", \"Cluster 1\", \"Cluster 1\", \"Cluster 1\", \"Cluster 1\", \"Cluster 1\", \"Cluster 1\", \"Cluster 1\", \"Cluster 1\", \"Cluster 1\", \"Cluster 1\", \"Cluster 1\", \"Cluster 1\", \"Cluster 1\", \"Cluster 1\", \"Cluster 1\", \"Cluster 1\", \"Cluster 1\", \"Cluster 1\", \"Cluster 1\", \"Cluster 1\", \"Cluster 1\", \"Cluster 1\", \"Cluster 1\", \"Cluster 1\", \"Cluster 1\", \"Cluster 1\", \"Cluster 1\", \"Cluster 1\", \"Cluster 1\", \"Cluster 1\", \"Cluster 1\", \"Cluster 1\", \"Cluster 1\", \"Cluster 1\", \"Cluster 1\", \"Cluster 1\", \"Cluster 1\", \"Cluster 1\", \"Cluster 1\", \"Cluster 1\", \"Cluster 1\", \"Cluster 1\", \"Cluster 1\", \"Cluster 1\", \"Cluster 1\", \"Cluster 1\", \"Cluster 1\", \"Cluster 1\", \"Cluster 1\", \"Cluster 1\", \"Cluster 1\", \"Cluster 1\", \"Cluster 1\", \"Cluster 1\", \"Cluster 1\", \"Cluster 1\", \"Cluster 1\", \"Cluster 1\", \"Cluster 1\", \"Cluster 1\", \"Cluster 1\", \"Cluster 1\", \"Cluster 1\", \"Cluster 1\", \"Cluster 1\", \"Cluster 1\", \"Cluster 1\", \"Cluster 1\", \"Cluster 1\", \"Cluster 1\", \"Cluster 1\", \"Cluster 1\", \"Cluster 1\", \"Cluster 1\", \"Cluster 1\", \"Cluster 1\", \"Cluster 1\", \"Cluster 1\", \"Cluster 1\", \"Cluster 1\", \"Cluster 1\", \"Cluster 1\", \"Cluster 1\", \"Cluster 1\", \"Cluster 1\", \"Cluster 1\", \"Cluster 1\", \"Cluster 1\", \"Cluster 1\", \"Cluster 1\", \"Cluster 1\", \"Cluster 1\", \"Cluster 1\", \"Cluster 1\", \"Cluster 1\", \"Cluster 1\", \"Cluster 1\", \"Cluster 1\", \"Cluster 1\", \"Cluster 1\", \"Cluster 1\", \"Cluster 1\", \"Cluster 1\", \"Cluster 1\", \"Cluster 1\", \"Cluster 1\", \"Cluster 1\", \"Cluster 1\", \"Cluster 1\", \"Cluster 1\", \"Cluster 1\", \"Cluster 1\", \"Cluster 1\", \"Cluster 1\", \"Cluster 1\", \"Cluster 1\", \"Cluster 1\", \"Cluster 1\", \"Cluster 1\", \"Cluster 1\", \"Cluster 1\", \"Cluster 1\", \"Cluster 1\", \"Cluster 1\", \"Cluster 1\", \"Cluster 1\", \"Cluster 1\", \"Cluster 1\", \"Cluster 1\", \"Cluster 1\", \"Cluster 1\", \"Cluster 1\", \"Cluster 1\", \"Cluster 1\", \"Cluster 1\"], \"xaxis\": \"x\", \"yaxis\": \"y\"}, {\"alignmentgroup\": \"True\", \"customdata\": [[34.0, 111303.0, 0.34531257710928803, 14624.318634976555, \"Cluster 1\"], [35.0, 105991.0, 0.34337797815210225, 16616.088239618915, \"Cluster 1\"], [33.0, 101058.0, 0.3150815497840024, 14911.868398206978, \"Cluster 1\"], [33.0, 106757.0, 0.25839611372125515, 14431.652799234367, \"Cluster 1\"], [34.0, 103428.0, 0.2474244093916156, 13791.035761571968, \"Cluster 1\"], [36.0, 98137.0, 0.29740129315965397, 15978.332837131276, \"Cluster 1\"], [29.0, 119366.0, 0.3587713900686116, 15012.853014226299, \"Cluster 1\"], [84.0, 110582.0, 0.07904903227945975, 14937.995169685584, \"Cluster 1\"], [83.0, 117943.0, 0.07721324003343044, 15391.95219220651, \"Cluster 1\"], [36.0, 100158.0, 0.31606041409802405, 13832.379370734528, \"Cluster 1\"], [31.0, 112943.0, 0.34123950330738706, 14297.702229457283, \"Cluster 1\"], [38.0, 94775.0, 0.3803902009461493, 16867.13082002739, \"Cluster 1\"], [31.0, 114833.0, 0.3050696862135815, 13953.029721407644, \"Cluster 1\"], [36.0, 96336.0, 0.28809756719298163, 15286.769335194167, \"Cluster 1\"], [38.0, 113659.0, 0.3334859873871594, 14364.693391419, \"Cluster 1\"], [39.0, 99216.0, 0.21660614339457274, 15230.345105300736, \"Cluster 1\"], [90.0, 117668.0, 0.08272274299401555, 12554.692742420659, \"Cluster 1\"], [83.0, 119429.0, 0.042154801078558464, 15607.561541234569, \"Cluster 1\"], [35.0, 106588.0, 0.3422142051018276, 15648.65667046098, \"Cluster 1\"], [33.0, 107100.0, 0.3424354833732075, 14895.473479049117, \"Cluster 1\"], [32.0, 108417.0, 0.28737086714008075, 16696.398659007995, \"Cluster 1\"], [31.0, 111449.0, 0.29410620308282165, 13929.62155143948, \"Cluster 1\"], [31.0, 101481.0, 0.2702350511848681, 15226.614133627569, \"Cluster 1\"], [39.0, 100540.0, 0.3849229829012918, 16741.013894847743, \"Cluster 1\"], [37.0, 107958.0, 0.34666907654318496, 13641.009538079368, \"Cluster 1\"], [87.0, 117564.0, 0.1282795957567026, 14000.248964992143, \"Cluster 1\"], [33.0, 108345.0, 0.32541328975821004, 15646.32171735943, \"Cluster 1\"], [37.0, 108635.0, 0.28649570314839057, 14558.054542315444, \"Cluster 1\"], [31.0, 116247.0, 0.2943151380482853, 16178.204715186297, \"Cluster 1\"], [37.0, 106664.0, 0.2775867542026021, 14479.374117495967, \"Cluster 1\"], [88.0, 114767.0, 0.032207542338926365, 17833.093470094427, \"Cluster 1\"], [91.0, 118794.0, 0.0192120658984376, 14047.388986415735, \"Cluster 1\"], [30.0, 99949.0, 0.344679223509786, 13621.639726331408, \"Cluster 1\"], [33.0, 94964.0, 0.3302325026567214, 14018.349867336628, \"Cluster 1\"], [36.0, 105567.0, 0.3126388486955741, 14355.31094653896, \"Cluster 1\"], [28.0, 109075.0, 0.36276196062401134, 14082.458238005996, \"Cluster 1\"], [36.0, 99780.0, 0.2654326074020303, 16398.40133318453, \"Cluster 1\"], [33.0, 100275.0, 0.3630856827120957, 13735.438742381079, \"Cluster 1\"], [85.0, 111389.0, 0.0367953622110323, 16009.237762922363, \"Cluster 1\"], [26.0, 97750.0, 0.2934087605160681, 15823.032361634105, \"Cluster 1\"], [24.0, 110564.0, 0.3049430059244969, 14967.839625179657, \"Cluster 1\"], [36.0, 108004.0, 0.3089229914936124, 15813.964573146997, \"Cluster 1\"], [33.0, 114555.0, 0.2792568364789493, 13746.745438440072, \"Cluster 1\"], [30.0, 98030.0, 0.4111117138132285, 16316.842905166694, \"Cluster 1\"], [29.0, 116451.0, 0.3406596106851227, 15294.661511529368, \"Cluster 1\"], [40.0, 98821.0, 0.27908085018704903, 15995.160053914664, \"Cluster 1\"], [42.0, 106990.0, 0.330065422314764, 14856.938997469417, \"Cluster 1\"], [28.0, 101206.0, 0.3874406981253433, 14936.775388622864, \"Cluster 1\"], [34.0, 89598.0, 0.3401523810436963, 12832.768720823738, \"Cluster 1\"], [85.0, 118169.0, 0.123196057747337, 14855.951023927619, \"Cluster 1\"], [31.0, 107963.0, 0.2905086327499087, 13407.081391032512, \"Cluster 1\"], [35.0, 117112.0, 0.3047918711384766, 15908.035997555322, \"Cluster 1\"], [37.0, 97678.0, 0.2574704443875843, 15834.113173627364, \"Cluster 1\"], [43.0, 101641.0, 0.3819838041034955, 14424.097995592982, \"Cluster 1\"], [89.0, 119697.0, 0.0916792017028315, 16215.399076555514, \"Cluster 1\"], [37.0, 97831.0, 0.3744658274308825, 14935.144813058325, \"Cluster 1\"], [90.0, 124170.0, 0.030751314393913882, 14773.407205599842, \"Cluster 1\"], [31.0, 105826.0, 0.2862743235826754, 13856.805832195869, \"Cluster 1\"], [29.0, 91375.0, 0.2354504258588228, 13104.962760687613, \"Cluster 1\"], [83.0, 117347.0, 0.15569409232860987, 15086.701120471576, \"Cluster 1\"], [84.0, 122696.0, 0.08218683192473558, 13809.734086698068, \"Cluster 1\"], [30.0, 101073.0, 0.3143871202044516, 14324.555977118509, \"Cluster 1\"], [29.0, 110860.0, 0.31944030103524745, 16260.42103081417, \"Cluster 1\"], [88.0, 120678.0, 0.06327285129660287, 14264.473846639943, \"Cluster 1\"], [33.0, 106345.0, 0.3392354218755358, 15300.45379012999, \"Cluster 1\"], [30.0, 108581.0, 0.3094467811568005, 15628.791650531211, \"Cluster 1\"], [34.0, 98165.0, 0.17412049382306485, 15721.86284266975, \"Cluster 1\"], [35.0, 112878.0, 0.3009135799974076, 13755.48230187328, \"Cluster 1\"], [30.0, 107525.0, 0.2948164301396663, 12702.847385049918, \"Cluster 1\"], [92.0, 122879.0, 0.0607240352184939, 13709.670274517475, \"Cluster 1\"], [30.0, 102056.0, 0.2607006223919937, 15370.66882713054, \"Cluster 1\"], [77.0, 128596.0, 0.04082407066250976, 14503.410786381415, \"Cluster 1\"], [34.0, 119877.0, 0.3054369951589357, 15634.788286084158, \"Cluster 1\"], [31.0, 108067.0, 0.2686742663930692, 13316.767286164832, \"Cluster 1\"], [33.0, 105667.0, 0.25075080562386165, 12869.761073905089, \"Cluster 1\"], [37.0, 107877.0, 0.3346179841546032, 17968.55392863446, \"Cluster 1\"], [29.0, 112531.0, 0.3427661743407053, 14361.334979176147, \"Cluster 1\"], [36.0, 104285.0, 0.2123600508972585, 13347.558779497918, \"Cluster 1\"], [31.0, 99457.0, 0.3658064971511749, 14580.613477014092, \"Cluster 1\"], [29.0, 106014.0, 0.34794511357773106, 15038.010746320377, \"Cluster 1\"], [31.0, 107994.0, 0.2944689389706671, 13685.972361738892, \"Cluster 1\"], [28.0, 94762.0, 0.3035961911057213, 15352.521936894913, \"Cluster 1\"], [28.0, 99611.0, 0.2795578681222758, 15345.658121390226, \"Cluster 1\"], [33.0, 98033.0, 0.30951111585458696, 15774.690605560645, \"Cluster 1\"], [30.0, 107926.0, 0.2301607310342209, 15520.536309707046, \"Cluster 1\"], [33.0, 111813.0, 0.2382437868013801, 15901.238967721652, \"Cluster 1\"], [82.0, 121642.0, 0.054653190464209855, 14177.513323069668, \"Cluster 1\"], [84.0, 115237.0, 0.06877820981367339, 14396.568282311468, \"Cluster 1\"], [29.0, 102028.0, 0.2889604994756899, 14634.430692347907, \"Cluster 1\"], [88.0, 123651.0, 0.02902714029105191, 13504.577571797938, \"Cluster 1\"], [30.0, 107302.0, 0.2396771776819925, 13993.24401848172, \"Cluster 1\"], [36.0, 109038.0, 0.3242132027621541, 16502.389477657125, \"Cluster 1\"], [35.0, 107131.0, 0.2424731551814769, 16200.013010637644, \"Cluster 1\"], [38.0, 104738.0, 0.4059588503683713, 15634.313868027426, \"Cluster 1\"], [33.0, 116616.0, 0.3209300476959025, 15104.49811363824, \"Cluster 1\"], [84.0, 114406.0, 0.12383837464097253, 16840.570583774286, \"Cluster 1\"], [39.0, 100661.0, 0.3766412501689559, 16873.128638209408, \"Cluster 1\"], [37.0, 106894.0, 0.3432357689892068, 14075.217365594552, \"Cluster 1\"], [31.0, 107115.0, 0.3280420856997338, 15693.499570389358, \"Cluster 1\"], [35.0, 110106.0, 0.2867692710102035, 14924.537223475552, \"Cluster 1\"], [30.0, 96241.0, 0.3773384910014747, 15485.156009739387, \"Cluster 1\"], [35.0, 108499.0, 0.2612719132713158, 16046.08301542436, \"Cluster 1\"], [86.0, 124372.0, 0.0, 15374.465952896948, \"Cluster 1\"], [34.0, 104284.0, 0.34454541177986714, 13541.801770810564, \"Cluster 1\"], [32.0, 102035.0, 0.26207035616469115, 14209.932802396092, \"Cluster 1\"], [86.0, 128378.0, 0.12608340975849852, 13585.778624417357, \"Cluster 1\"], [31.0, 107932.0, 0.3742421881649845, 12207.526078087714, \"Cluster 1\"], [35.0, 104678.0, 0.3279928581002429, 15422.055799721802, \"Cluster 1\"], [34.0, 107255.0, 0.3283430294033384, 15130.595225546444, \"Cluster 1\"], [36.0, 109809.0, 0.355660187354229, 14978.502144076487, \"Cluster 1\"], [28.0, 111937.0, 0.2537347301209012, 13669.110632506934, \"Cluster 1\"], [28.0, 100592.0, 0.2595983487762325, 15520.355775683653, \"Cluster 1\"], [86.0, 115689.0, 0.057842956133581036, 14803.153273493916, \"Cluster 1\"], [30.0, 106350.0, 0.3694162857692797, 14863.233588279092, \"Cluster 1\"], [93.0, 126601.0, 0.025170169477345742, 14117.44703707058, \"Cluster 1\"], [31.0, 110882.0, 0.3252806065281125, 14004.61374291491, \"Cluster 1\"], [82.0, 126257.0, 0.07809619439943333, 15816.101922357922, \"Cluster 1\"], [31.0, 105036.0, 0.2722279930569666, 16465.063521972657, \"Cluster 1\"], [38.0, 115146.0, 0.3144900731288347, 14798.868153501797, \"Cluster 1\"], [32.0, 110439.0, 0.30699015827427256, 13873.50756985278, \"Cluster 1\"], [29.0, 103223.0, 0.3388162937437745, 16252.883053065632, \"Cluster 1\"], [37.0, 110595.0, 0.28664850500199834, 15235.445457133224, \"Cluster 1\"], [27.0, 106758.0, 0.2662947092346973, 14942.560723173168, \"Cluster 1\"], [29.0, 99161.0, 0.3079200040396055, 15631.836772980834, \"Cluster 1\"], [37.0, 110732.0, 0.3226762482802641, 14265.351840497759, \"Cluster 1\"], [25.0, 106772.0, 0.3909047196000217, 16353.471790615497, \"Cluster 1\"], [31.0, 105006.0, 0.3741658782934958, 15419.41776312329, \"Cluster 1\"], [37.0, 108651.0, 0.1923436158292553, 15881.242198260683, \"Cluster 1\"], [34.0, 98752.0, 0.3720337099315751, 14975.384238944334, \"Cluster 1\"], [25.0, 101503.0, 0.28846885607409833, 15026.262148820157, \"Cluster 1\"], [29.0, 101943.0, 0.3256230614429721, 14619.354282159029, \"Cluster 1\"], [31.0, 102618.0, 0.2763779214063509, 13209.301612848929, \"Cluster 1\"], [22.0, 109152.0, 0.32344641636242355, 16022.482482363523, \"Cluster 1\"], [34.0, 98993.0, 0.3229930887837502, 16138.079373431863, \"Cluster 1\"], [32.0, 106543.0, 0.3107432443044589, 14337.288328489092, \"Cluster 1\"], [31.0, 101209.0, 0.3043229953712128, 16917.571691218804, \"Cluster 1\"], [35.0, 101691.0, 0.3491110181825554, 14152.671689505803, \"Cluster 1\"], [44.0, 114642.0, 0.3092049154534188, 14067.617788950563, \"Cluster 1\"], [34.0, 103204.0, 0.30108735378393314, 15149.810421179482, \"Cluster 1\"], [32.0, 117050.0, 0.3113555349689566, 14310.546206532163, \"Cluster 1\"], [34.0, 102291.0, 0.24786227611431386, 15819.577601160518, \"Cluster 1\"], [36.0, 101811.0, 0.3406667947415742, 15048.89961242685, \"Cluster 1\"], [32.0, 101905.0, 0.3074763135926987, 17532.16478349903, \"Cluster 1\"], [32.0, 95536.0, 0.26624605681014885, 15420.625644002741, \"Cluster 1\"], [30.0, 108928.0, 0.30386361503665704, 14339.652917342728, \"Cluster 1\"], [28.0, 97965.0, 0.3134915614599665, 14981.402201916082, \"Cluster 1\"], [35.0, 102308.0, 0.2751372175012177, 14874.557991326978, \"Cluster 1\"], [33.0, 92569.0, 0.33607980556714456, 13765.685995748696, \"Cluster 1\"], [29.0, 111426.0, 0.4002811559385194, 14352.643773230728, \"Cluster 1\"], [33.0, 99637.0, 0.2282170773869075, 15139.403142647532, \"Cluster 1\"], [31.0, 104388.0, 0.2864732316476225, 14406.561248437842, \"Cluster 1\"]], \"hoverlabel\": {\"namelength\": 0}, \"hovertemplate\": \"Cluster=%{customdata[4]}<br>Age=%{customdata[0]}<br>Income=%{customdata[1]}<br>SpendingScore=%{customdata[2]}<br>Savings=%{customdata[3]}\", \"legendgroup\": \"Cluster=Cluster 1\", \"marker\": {\"color\": \"#EF553B\"}, \"name\": \"Cluster=Cluster 1\", \"notched\": true, \"offsetgroup\": \"Cluster=Cluster 1\", \"showlegend\": false, \"type\": \"box\", \"x\": [\"Cluster 1\", \"Cluster 1\", \"Cluster 1\", \"Cluster 1\", \"Cluster 1\", \"Cluster 1\", \"Cluster 1\", \"Cluster 1\", \"Cluster 1\", \"Cluster 1\", \"Cluster 1\", \"Cluster 1\", \"Cluster 1\", \"Cluster 1\", \"Cluster 1\", \"Cluster 1\", \"Cluster 1\", \"Cluster 1\", \"Cluster 1\", \"Cluster 1\", \"Cluster 1\", \"Cluster 1\", \"Cluster 1\", \"Cluster 1\", \"Cluster 1\", \"Cluster 1\", \"Cluster 1\", \"Cluster 1\", \"Cluster 1\", \"Cluster 1\", \"Cluster 1\", \"Cluster 1\", \"Cluster 1\", \"Cluster 1\", \"Cluster 1\", \"Cluster 1\", \"Cluster 1\", \"Cluster 1\", \"Cluster 1\", \"Cluster 1\", \"Cluster 1\", \"Cluster 1\", \"Cluster 1\", \"Cluster 1\", \"Cluster 1\", \"Cluster 1\", \"Cluster 1\", \"Cluster 1\", \"Cluster 1\", \"Cluster 1\", \"Cluster 1\", \"Cluster 1\", \"Cluster 1\", \"Cluster 1\", \"Cluster 1\", \"Cluster 1\", \"Cluster 1\", \"Cluster 1\", \"Cluster 1\", \"Cluster 1\", \"Cluster 1\", \"Cluster 1\", \"Cluster 1\", \"Cluster 1\", \"Cluster 1\", \"Cluster 1\", \"Cluster 1\", \"Cluster 1\", \"Cluster 1\", \"Cluster 1\", \"Cluster 1\", \"Cluster 1\", \"Cluster 1\", \"Cluster 1\", \"Cluster 1\", \"Cluster 1\", \"Cluster 1\", \"Cluster 1\", \"Cluster 1\", \"Cluster 1\", \"Cluster 1\", \"Cluster 1\", \"Cluster 1\", \"Cluster 1\", \"Cluster 1\", \"Cluster 1\", \"Cluster 1\", \"Cluster 1\", \"Cluster 1\", \"Cluster 1\", \"Cluster 1\", \"Cluster 1\", \"Cluster 1\", \"Cluster 1\", \"Cluster 1\", \"Cluster 1\", \"Cluster 1\", \"Cluster 1\", \"Cluster 1\", \"Cluster 1\", \"Cluster 1\", \"Cluster 1\", \"Cluster 1\", \"Cluster 1\", \"Cluster 1\", \"Cluster 1\", \"Cluster 1\", \"Cluster 1\", \"Cluster 1\", \"Cluster 1\", \"Cluster 1\", \"Cluster 1\", \"Cluster 1\", \"Cluster 1\", \"Cluster 1\", \"Cluster 1\", \"Cluster 1\", \"Cluster 1\", \"Cluster 1\", \"Cluster 1\", \"Cluster 1\", \"Cluster 1\", \"Cluster 1\", \"Cluster 1\", \"Cluster 1\", \"Cluster 1\", \"Cluster 1\", \"Cluster 1\", \"Cluster 1\", \"Cluster 1\", \"Cluster 1\", \"Cluster 1\", \"Cluster 1\", \"Cluster 1\", \"Cluster 1\", \"Cluster 1\", \"Cluster 1\", \"Cluster 1\", \"Cluster 1\", \"Cluster 1\", \"Cluster 1\", \"Cluster 1\", \"Cluster 1\", \"Cluster 1\", \"Cluster 1\", \"Cluster 1\", \"Cluster 1\", \"Cluster 1\", \"Cluster 1\", \"Cluster 1\", \"Cluster 1\"], \"xaxis\": \"x2\", \"yaxis\": \"y2\"}, {\"alignmentgroup\": \"True\", \"bingroup\": \"x\", \"hoverlabel\": {\"namelength\": 0}, \"hovertemplate\": \"Cluster=%{x}<br>count=%{y}\", \"legendgroup\": \"Cluster=Cluster 2\", \"marker\": {\"color\": \"#00cc96\", \"opacity\": 0.7}, \"name\": \"Cluster=Cluster 2\", \"offsetgroup\": \"Cluster=Cluster 2\", \"orientation\": \"v\", \"showlegend\": true, \"type\": \"histogram\", \"x\": [\"Cluster 2\", \"Cluster 2\", \"Cluster 2\", \"Cluster 2\", \"Cluster 2\", \"Cluster 2\", \"Cluster 2\", \"Cluster 2\", \"Cluster 2\", \"Cluster 2\", \"Cluster 2\", \"Cluster 2\", \"Cluster 2\", \"Cluster 2\", \"Cluster 2\", \"Cluster 2\", \"Cluster 2\", \"Cluster 2\", \"Cluster 2\", \"Cluster 2\", \"Cluster 2\", \"Cluster 2\", \"Cluster 2\", \"Cluster 2\", \"Cluster 2\", \"Cluster 2\", \"Cluster 2\", \"Cluster 2\", \"Cluster 2\", \"Cluster 2\", \"Cluster 2\", \"Cluster 2\", \"Cluster 2\", \"Cluster 2\", \"Cluster 2\", \"Cluster 2\", \"Cluster 2\", \"Cluster 2\", \"Cluster 2\", \"Cluster 2\", \"Cluster 2\", \"Cluster 2\", \"Cluster 2\", \"Cluster 2\", \"Cluster 2\", \"Cluster 2\", \"Cluster 2\", \"Cluster 2\", \"Cluster 2\", \"Cluster 2\", \"Cluster 2\", \"Cluster 2\", \"Cluster 2\", \"Cluster 2\", \"Cluster 2\", \"Cluster 2\", \"Cluster 2\", \"Cluster 2\", \"Cluster 2\", \"Cluster 2\", \"Cluster 2\", \"Cluster 2\", \"Cluster 2\", \"Cluster 2\", \"Cluster 2\", \"Cluster 2\", \"Cluster 2\", \"Cluster 2\", \"Cluster 2\", \"Cluster 2\", \"Cluster 2\", \"Cluster 2\", \"Cluster 2\", \"Cluster 2\", \"Cluster 2\", \"Cluster 2\", \"Cluster 2\", \"Cluster 2\", \"Cluster 2\", \"Cluster 2\", \"Cluster 2\", \"Cluster 2\", \"Cluster 2\", \"Cluster 2\", \"Cluster 2\", \"Cluster 2\", \"Cluster 2\", \"Cluster 2\", \"Cluster 2\", \"Cluster 2\", \"Cluster 2\", \"Cluster 2\", \"Cluster 2\", \"Cluster 2\", \"Cluster 2\", \"Cluster 2\", \"Cluster 2\", \"Cluster 2\", \"Cluster 2\", \"Cluster 2\", \"Cluster 2\", \"Cluster 2\", \"Cluster 2\", \"Cluster 2\", \"Cluster 2\", \"Cluster 2\", \"Cluster 2\", \"Cluster 2\", \"Cluster 2\", \"Cluster 2\", \"Cluster 2\", \"Cluster 2\", \"Cluster 2\", \"Cluster 2\", \"Cluster 2\", \"Cluster 2\", \"Cluster 2\", \"Cluster 2\", \"Cluster 2\", \"Cluster 2\", \"Cluster 2\", \"Cluster 2\", \"Cluster 2\", \"Cluster 2\", \"Cluster 2\", \"Cluster 2\", \"Cluster 2\", \"Cluster 2\", \"Cluster 2\", \"Cluster 2\", \"Cluster 2\", \"Cluster 2\", \"Cluster 2\", \"Cluster 2\", \"Cluster 2\", \"Cluster 2\", \"Cluster 2\", \"Cluster 2\", \"Cluster 2\", \"Cluster 2\", \"Cluster 2\", \"Cluster 2\", \"Cluster 2\", \"Cluster 2\", \"Cluster 2\", \"Cluster 2\", \"Cluster 2\", \"Cluster 2\", \"Cluster 2\", \"Cluster 2\", \"Cluster 2\", \"Cluster 2\", \"Cluster 2\", \"Cluster 2\", \"Cluster 2\", \"Cluster 2\", \"Cluster 2\"], \"xaxis\": \"x\", \"yaxis\": \"y\"}, {\"alignmentgroup\": \"True\", \"customdata\": [[65.0, 74430.0, 0.7517741617758547, 7145.251128357927, \"Cluster 2\"], [59.0, 67346.0, 0.7251568963089163, 8857.849116294088, \"Cluster 2\"], [63.0, 82343.0, 0.7323186222078123, 8090.706739679063, \"Cluster 2\"], [61.0, 65914.0, 0.7781022309770123, 6406.8771303520325, \"Cluster 2\"], [58.0, 78078.0, 0.7837795500405715, 6483.049643745244, \"Cluster 2\"], [67.0, 68663.0, 0.7738336308243648, 7451.9940140258705, \"Cluster 2\"], [61.0, 67372.0, 0.7340673095092516, 6618.549336247915, \"Cluster 2\"], [59.0, 73350.0, 0.6797735912164855, 6710.5740183754415, \"Cluster 2\"], [59.0, 68038.0, 0.8014869916095588, 7719.283632687176, \"Cluster 2\"], [60.0, 65942.0, 0.8005783854654352, 5253.2650066086435, \"Cluster 2\"], [64.0, 62886.0, 0.7480162682831766, 8302.588638401632, \"Cluster 2\"], [67.0, 78702.0, 0.7632736815688779, 5030.364838791924, \"Cluster 2\"], [56.0, 73516.0, 0.806499154055182, 7696.832373798451, \"Cluster 2\"], [58.0, 70676.0, 0.7640283880376706, 7664.415650964042, \"Cluster 2\"], [65.0, 71229.0, 0.7878897626638453, 9024.337460598084, \"Cluster 2\"], [59.0, 69408.0, 0.8799059975919311, 6491.771149967824, \"Cluster 2\"], [62.0, 73675.0, 0.7966191667425384, 4688.657157271711, \"Cluster 2\"], [63.0, 70580.0, 0.7665090449070475, 7262.108723452133, \"Cluster 2\"], [65.0, 70430.0, 0.6969942581249643, 6971.164886262858, \"Cluster 2\"], [59.0, 73596.0, 0.8567042188430352, 8281.718740320448, \"Cluster 2\"], [57.0, 79794.0, 0.82240840085096, 5893.975284946178, \"Cluster 2\"], [59.0, 90422.0, 0.8062102206275251, 6746.281083820821, \"Cluster 2\"], [67.0, 80914.0, 0.8196642592960329, 6833.507136694643, \"Cluster 2\"], [60.0, 70054.0, 0.7143393610830643, 6609.918507412548, \"Cluster 2\"], [62.0, 67731.0, 0.8191699488980382, 5956.555677017446, \"Cluster 2\"], [60.0, 63476.0, 0.7519000198498227, 7543.542801728056, \"Cluster 2\"], [66.0, 77052.0, 0.7072624347132287, 6296.417311227459, \"Cluster 2\"], [58.0, 69247.0, 0.7237211912021976, 8715.67957429646, \"Cluster 2\"], [55.0, 76831.0, 0.7421137340413241, 7806.398750466399, \"Cluster 2\"], [60.0, 74460.0, 0.7545393292392412, 7567.6476522203675, \"Cluster 2\"], [63.0, 67370.0, 0.8999405530923943, 5985.077029740457, \"Cluster 2\"], [61.0, 78837.0, 0.7459489746307642, 6811.303235949058, \"Cluster 2\"], [57.0, 72055.0, 0.7549723463413129, 6544.847498075687, \"Cluster 2\"], [56.0, 80431.0, 0.7594315957853627, 8150.55743948241, \"Cluster 2\"], [51.0, 72086.0, 0.7911147257599156, 6732.096068632267, \"Cluster 2\"], [61.0, 72027.0, 0.7623249166772856, 6926.123598416466, \"Cluster 2\"], [59.0, 82199.0, 0.8035145098215853, 5880.814834306347, \"Cluster 2\"], [58.0, 70369.0, 0.9045204855363144, 7461.567502649429, \"Cluster 2\"], [58.0, 80248.0, 0.7249557054919687, 7641.16038162423, \"Cluster 2\"], [55.0, 64768.0, 0.7332568512323248, 6486.353872691102, \"Cluster 2\"], [61.0, 68842.0, 0.7544065421993587, 4077.6586565080543, \"Cluster 2\"], [58.0, 78611.0, 0.910416682938019, 7665.884294519009, \"Cluster 2\"], [68.0, 68944.0, 0.7455674638713768, 6828.709702363695, \"Cluster 2\"], [61.0, 74282.0, 0.6922364738673796, 7286.754751068365, \"Cluster 2\"], [56.0, 65313.0, 0.7546029986455771, 5574.2436767070985, \"Cluster 2\"], [58.0, 77769.0, 0.7913287771988531, 6559.8299230048315, \"Cluster 2\"], [56.0, 68698.0, 0.7162678503859907, 7070.967006969191, \"Cluster 2\"], [60.0, 79969.0, 0.812104912914789, 4879.334872972362, \"Cluster 2\"], [58.0, 69879.0, 0.7209986871945887, 6669.033518051874, \"Cluster 2\"], [62.0, 73480.0, 0.7391949797931453, 6277.675150528886, \"Cluster 2\"], [66.0, 72571.0, 0.8115483367376335, 6509.41150610998, \"Cluster 2\"], [57.0, 76594.0, 0.7906578552491133, 6584.654681310476, \"Cluster 2\"], [66.0, 64866.0, 0.7665941891374249, 5037.899138583947, \"Cluster 2\"], [63.0, 72815.0, 0.8200359737627068, 5504.385543801038, \"Cluster 2\"], [64.0, 71692.0, 0.8426521453196145, 7002.9765543033545, \"Cluster 2\"], [62.0, 63596.0, 0.7453271943508174, 6142.201619345869, \"Cluster 2\"], [62.0, 62650.0, 0.766572365027147, 7533.673609198676, \"Cluster 2\"], [60.0, 71436.0, 0.8320590985324969, 8557.86012627717, \"Cluster 2\"], [65.0, 65736.0, 0.7785687658100923, 6387.2196944302905, \"Cluster 2\"], [60.0, 70663.0, 0.7153396972946453, 7557.937593550947, \"Cluster 2\"], [58.0, 70259.0, 0.7697129169369328, 7101.674514204499, \"Cluster 2\"], [63.0, 80705.0, 0.7626699527314824, 5154.330634621805, \"Cluster 2\"], [58.0, 75757.0, 0.8097944168848634, 7390.5772934370325, \"Cluster 2\"], [62.0, 71050.0, 0.7353568506694507, 6988.197368273879, \"Cluster 2\"], [59.0, 67781.0, 0.7225483489421433, 6701.527664794541, \"Cluster 2\"], [65.0, 66017.0, 0.7861892594159869, 6159.662935925753, \"Cluster 2\"], [62.0, 80093.0, 0.6909167811268888, 6756.749072752337, \"Cluster 2\"], [59.0, 67988.0, 0.8114707012366371, 7255.903114334659, \"Cluster 2\"], [66.0, 82526.0, 0.7696800667721441, 6205.662650191712, \"Cluster 2\"], [64.0, 76364.0, 0.6993887663543108, 5772.1171358549755, \"Cluster 2\"], [62.0, 68279.0, 0.7196850779929922, 7028.675510384212, \"Cluster 2\"], [61.0, 69698.0, 0.7416839698444291, 8777.077471725162, \"Cluster 2\"], [56.0, 68463.0, 0.8157116929554062, 8995.180087953215, \"Cluster 2\"], [62.0, 78413.0, 0.7907090657200839, 6961.2041923680945, \"Cluster 2\"], [60.0, 65054.0, 0.7086131723969877, 5417.237293788358, \"Cluster 2\"], [56.0, 84386.0, 0.7849450699605269, 7270.41953428175, \"Cluster 2\"], [63.0, 85761.0, 0.8005979105724924, 7175.090218501247, \"Cluster 2\"], [56.0, 86484.0, 0.7321233689266612, 8777.496176839057, \"Cluster 2\"], [58.0, 70798.0, 0.7535283874245788, 5330.73989989779, \"Cluster 2\"], [59.0, 81799.0, 0.7910820467274178, 5417.661426197439, \"Cluster 2\"], [62.0, 74751.0, 0.7026569520102857, 9258.99296503407, \"Cluster 2\"], [59.0, 74373.0, 0.7656795619984281, 7346.334503537976, \"Cluster 2\"], [54.0, 76500.0, 0.7851978501165687, 6878.884248553974, \"Cluster 2\"], [61.0, 71933.0, 0.8441067966472876, 8022.208541100706, \"Cluster 2\"], [55.0, 71621.0, 0.7533426836166189, 7780.589913955977, \"Cluster 2\"], [53.0, 76667.0, 0.7600576501232099, 5168.225474983632, \"Cluster 2\"], [55.0, 78761.0, 0.8271741985123882, 8376.74947779104, \"Cluster 2\"], [61.0, 76955.0, 0.7771175646074471, 7467.036702314494, \"Cluster 2\"], [59.0, 65700.0, 0.8114711740198254, 6932.487932327357, \"Cluster 2\"], [59.0, 69738.0, 0.7421121217155721, 7151.650866065035, \"Cluster 2\"], [56.0, 63866.0, 0.7618879582513512, 7762.255066659051, \"Cluster 2\"], [61.0, 74117.0, 0.7702140596767938, 5103.609230428381, \"Cluster 2\"], [61.0, 63846.0, 0.8278622414878984, 7283.504772674617, \"Cluster 2\"], [60.0, 70012.0, 0.7944610508231513, 7263.242447729872, \"Cluster 2\"], [57.0, 75332.0, 0.7215024376129366, 6845.056822204781, \"Cluster 2\"], [61.0, 73245.0, 0.811160373170345, 7413.784487271215, \"Cluster 2\"], [55.0, 74356.0, 0.7998269700906482, 6484.630737953294, \"Cluster 2\"], [53.0, 62117.0, 0.7331388477995737, 7500.452413594261, \"Cluster 2\"], [61.0, 69001.0, 0.8216687745413516, 5074.12121172259, \"Cluster 2\"], [64.0, 60493.0, 0.7680563479442216, 7708.112609459162, \"Cluster 2\"], [62.0, 69741.0, 0.8462196017575947, 5781.658046536959, \"Cluster 2\"], [55.0, 71056.0, 0.7565897119333272, 7464.163256732262, \"Cluster 2\"], [58.0, 74340.0, 0.7351650452097145, 7259.540921675672, \"Cluster 2\"], [57.0, 79470.0, 0.7734352958312237, 6773.049089777121, \"Cluster 2\"], [59.0, 72588.0, 0.8017156979122673, 6300.8437570950255, \"Cluster 2\"], [58.0, 77101.0, 0.7667195837506832, 8148.49184821177, \"Cluster 2\"], [59.0, 74576.0, 0.7812961239072382, 10547.775367695343, \"Cluster 2\"], [64.0, 88361.0, 0.7745562258521365, 7240.759687480846, \"Cluster 2\"], [62.0, 69391.0, 0.7921059737158539, 6518.283467894094, \"Cluster 2\"], [64.0, 86283.0, 0.7568019251873561, 6852.5548669147165, \"Cluster 2\"], [57.0, 74014.0, 0.787378081122989, 5783.846928267082, \"Cluster 2\"], [57.0, 69655.0, 0.6748906779058501, 5889.831167170132, \"Cluster 2\"], [56.0, 67274.0, 0.7798516671891869, 6652.391024403152, \"Cluster 2\"], [61.0, 65647.0, 0.7174899773841509, 7497.231607003855, \"Cluster 2\"], [64.0, 64331.0, 0.7571277508774099, 5815.660096290825, \"Cluster 2\"], [63.0, 75078.0, 0.7831591503681397, 7468.8510795028005, \"Cluster 2\"], [62.0, 62747.0, 0.7705945596869115, 5852.326242628098, \"Cluster 2\"], [61.0, 73495.0, 0.7727563051023116, 9288.189785744367, \"Cluster 2\"], [59.0, 75505.0, 0.7682786576081454, 5006.528691371692, \"Cluster 2\"], [67.0, 59243.0, 0.7436599996604758, 5446.557472721708, \"Cluster 2\"], [56.0, 78992.0, 0.8122757021441627, 7285.18043685174, \"Cluster 2\"], [58.0, 77559.0, 0.7122963723872477, 5742.524488088997, \"Cluster 2\"], [61.0, 72060.0, 0.8334590233217959, 7924.6411381540165, \"Cluster 2\"], [59.0, 56321.0, 0.806565925193039, 6129.288986032587, \"Cluster 2\"], [58.0, 70272.0, 0.8229596005059499, 5290.087044285296, \"Cluster 2\"], [57.0, 65608.0, 0.7662313009024402, 6904.318224287022, \"Cluster 2\"], [56.0, 75599.0, 0.7737370986430746, 6799.625271842961, \"Cluster 2\"], [58.0, 76052.0, 0.7215881830727278, 6681.9843863770275, \"Cluster 2\"], [66.0, 71672.0, 0.7538892176112998, 7387.835437850721, \"Cluster 2\"], [64.0, 78801.0, 0.7403674891662984, 6420.9440712002615, \"Cluster 2\"], [59.0, 69460.0, 0.7527238381125997, 6101.372146632121, \"Cluster 2\"], [59.0, 67401.0, 0.7114339697492305, 6529.586309935448, \"Cluster 2\"], [64.0, 76410.0, 0.7756041848937439, 6135.308197117819, \"Cluster 2\"], [61.0, 71171.0, 0.7210804930623951, 6457.790641224788, \"Cluster 2\"], [59.0, 77978.0, 0.7188952048526104, 8316.31110205122, \"Cluster 2\"], [57.0, 76573.0, 0.8405990704520518, 6225.3760824332285, \"Cluster 2\"], [63.0, 69849.0, 0.7403870808915297, 7670.6909659413295, \"Cluster 2\"], [57.0, 64803.0, 0.7285849289103553, 6255.552641057161, \"Cluster 2\"], [58.0, 78635.0, 0.7864400503429185, 7162.739043055361, \"Cluster 2\"], [62.0, 67030.0, 0.7467384433463651, 6740.765182071713, \"Cluster 2\"], [59.0, 73057.0, 0.8302949092020397, 7819.393215767329, \"Cluster 2\"], [59.0, 71302.0, 0.7020090041734849, 6595.726010227134, \"Cluster 2\"], [61.0, 71033.0, 0.8380950724014863, 9456.876962701137, \"Cluster 2\"], [53.0, 74996.0, 0.7387310917031671, 7821.447803561914, \"Cluster 2\"], [58.0, 80278.0, 0.8233589910091558, 6335.97831998802, \"Cluster 2\"], [68.0, 77648.0, 0.7965446939835457, 6190.864082788901, \"Cluster 2\"], [58.0, 83351.0, 0.8406978038692191, 6673.909711092488, \"Cluster 2\"], [55.0, 76057.0, 0.8778279844516369, 6132.898204816149, \"Cluster 2\"], [59.0, 75495.0, 0.7945029052198103, 6702.9519263157545, \"Cluster 2\"], [60.0, 67491.0, 0.84661848692906, 7180.713788260257, \"Cluster 2\"], [59.0, 80876.0, 0.6573140731575163, 7232.825142650888, \"Cluster 2\"], [63.0, 56875.0, 0.7622805817657738, 7837.233619544163, \"Cluster 2\"], [59.0, 69115.0, 0.7598834338453199, 5997.690199856996, \"Cluster 2\"], [56.0, 60059.0, 0.7275840223364691, 7166.858605155183, \"Cluster 2\"], [62.0, 69326.0, 0.7980123380544829, 7003.095703317772, \"Cluster 2\"], [60.0, 65340.0, 0.7316484923943142, 8354.196507802662, \"Cluster 2\"], [55.0, 73895.0, 0.7471254610291731, 5563.906948891499, \"Cluster 2\"]], \"hoverlabel\": {\"namelength\": 0}, \"hovertemplate\": \"Cluster=%{customdata[4]}<br>Age=%{customdata[0]}<br>Income=%{customdata[1]}<br>SpendingScore=%{customdata[2]}<br>Savings=%{customdata[3]}\", \"legendgroup\": \"Cluster=Cluster 2\", \"marker\": {\"color\": \"#00cc96\"}, \"name\": \"Cluster=Cluster 2\", \"notched\": true, \"offsetgroup\": \"Cluster=Cluster 2\", \"showlegend\": false, \"type\": \"box\", \"x\": [\"Cluster 2\", \"Cluster 2\", \"Cluster 2\", \"Cluster 2\", \"Cluster 2\", \"Cluster 2\", \"Cluster 2\", \"Cluster 2\", \"Cluster 2\", \"Cluster 2\", \"Cluster 2\", \"Cluster 2\", \"Cluster 2\", \"Cluster 2\", \"Cluster 2\", \"Cluster 2\", \"Cluster 2\", \"Cluster 2\", \"Cluster 2\", \"Cluster 2\", \"Cluster 2\", \"Cluster 2\", \"Cluster 2\", \"Cluster 2\", \"Cluster 2\", \"Cluster 2\", \"Cluster 2\", \"Cluster 2\", \"Cluster 2\", \"Cluster 2\", \"Cluster 2\", \"Cluster 2\", \"Cluster 2\", \"Cluster 2\", \"Cluster 2\", \"Cluster 2\", \"Cluster 2\", \"Cluster 2\", \"Cluster 2\", \"Cluster 2\", \"Cluster 2\", \"Cluster 2\", \"Cluster 2\", \"Cluster 2\", \"Cluster 2\", \"Cluster 2\", \"Cluster 2\", \"Cluster 2\", \"Cluster 2\", \"Cluster 2\", \"Cluster 2\", \"Cluster 2\", \"Cluster 2\", \"Cluster 2\", \"Cluster 2\", \"Cluster 2\", \"Cluster 2\", \"Cluster 2\", \"Cluster 2\", \"Cluster 2\", \"Cluster 2\", \"Cluster 2\", \"Cluster 2\", \"Cluster 2\", \"Cluster 2\", \"Cluster 2\", \"Cluster 2\", \"Cluster 2\", \"Cluster 2\", \"Cluster 2\", \"Cluster 2\", \"Cluster 2\", \"Cluster 2\", \"Cluster 2\", \"Cluster 2\", \"Cluster 2\", \"Cluster 2\", \"Cluster 2\", \"Cluster 2\", \"Cluster 2\", \"Cluster 2\", \"Cluster 2\", \"Cluster 2\", \"Cluster 2\", \"Cluster 2\", \"Cluster 2\", \"Cluster 2\", \"Cluster 2\", \"Cluster 2\", \"Cluster 2\", \"Cluster 2\", \"Cluster 2\", \"Cluster 2\", \"Cluster 2\", \"Cluster 2\", \"Cluster 2\", \"Cluster 2\", \"Cluster 2\", \"Cluster 2\", \"Cluster 2\", \"Cluster 2\", \"Cluster 2\", \"Cluster 2\", \"Cluster 2\", \"Cluster 2\", \"Cluster 2\", \"Cluster 2\", \"Cluster 2\", \"Cluster 2\", \"Cluster 2\", \"Cluster 2\", \"Cluster 2\", \"Cluster 2\", \"Cluster 2\", \"Cluster 2\", \"Cluster 2\", \"Cluster 2\", \"Cluster 2\", \"Cluster 2\", \"Cluster 2\", \"Cluster 2\", \"Cluster 2\", \"Cluster 2\", \"Cluster 2\", \"Cluster 2\", \"Cluster 2\", \"Cluster 2\", \"Cluster 2\", \"Cluster 2\", \"Cluster 2\", \"Cluster 2\", \"Cluster 2\", \"Cluster 2\", \"Cluster 2\", \"Cluster 2\", \"Cluster 2\", \"Cluster 2\", \"Cluster 2\", \"Cluster 2\", \"Cluster 2\", \"Cluster 2\", \"Cluster 2\", \"Cluster 2\", \"Cluster 2\", \"Cluster 2\", \"Cluster 2\", \"Cluster 2\", \"Cluster 2\", \"Cluster 2\", \"Cluster 2\", \"Cluster 2\", \"Cluster 2\", \"Cluster 2\", \"Cluster 2\", \"Cluster 2\", \"Cluster 2\", \"Cluster 2\"], \"xaxis\": \"x2\", \"yaxis\": \"y2\"}, {\"alignmentgroup\": \"True\", \"bingroup\": \"x\", \"hoverlabel\": {\"namelength\": 0}, \"hovertemplate\": \"Cluster=%{x}<br>count=%{y}\", \"legendgroup\": \"Cluster=Cluster 3\", \"marker\": {\"color\": \"#ab63fa\", \"opacity\": 0.7}, \"name\": \"Cluster=Cluster 3\", \"offsetgroup\": \"Cluster=Cluster 3\", \"orientation\": \"v\", \"showlegend\": true, \"type\": \"histogram\", \"x\": [\"Cluster 3\", \"Cluster 3\", \"Cluster 3\", \"Cluster 3\", \"Cluster 3\", \"Cluster 3\", \"Cluster 3\", \"Cluster 3\", \"Cluster 3\", \"Cluster 3\", \"Cluster 3\", \"Cluster 3\", \"Cluster 3\", \"Cluster 3\", \"Cluster 3\", \"Cluster 3\", \"Cluster 3\", \"Cluster 3\", \"Cluster 3\", \"Cluster 3\", \"Cluster 3\", \"Cluster 3\", \"Cluster 3\", \"Cluster 3\", \"Cluster 3\", \"Cluster 3\", \"Cluster 3\", \"Cluster 3\", \"Cluster 3\", \"Cluster 3\", \"Cluster 3\", \"Cluster 3\", \"Cluster 3\", \"Cluster 3\", \"Cluster 3\", \"Cluster 3\", \"Cluster 3\", \"Cluster 3\", \"Cluster 3\", \"Cluster 3\", \"Cluster 3\", \"Cluster 3\", \"Cluster 3\", \"Cluster 3\", \"Cluster 3\", \"Cluster 3\", \"Cluster 3\", \"Cluster 3\", \"Cluster 3\", \"Cluster 3\"], \"xaxis\": \"x\", \"yaxis\": \"y\"}, {\"alignmentgroup\": \"True\", \"customdata\": [[25.0, 138021.0, 0.944017175810026, 3005.577482475175, \"Cluster 3\"], [18.0, 130813.0, 0.8908912472675831, 5256.434559627984, \"Cluster 3\"], [27.0, 121468.0, 0.9206489879585448, 5011.112062373318, \"Cluster 3\"], [31.0, 122924.0, 0.89046022417733, 3071.944576152969, \"Cluster 3\"], [20.0, 129142.0, 0.8870519941988757, 5603.121027746489, \"Cluster 3\"], [22.0, 134209.0, 0.8706980046008759, 5138.109568643242, \"Cluster 3\"], [21.0, 123678.0, 0.8320252689431032, 2838.8158208359087, \"Cluster 3\"], [26.0, 123005.0, 0.9845261943505972, 4371.23473281147, \"Cluster 3\"], [17.0, 134966.0, 0.9072421746334024, 4128.044795832438, \"Cluster 3\"], [30.0, 122788.0, 0.8728724057273831, 5706.149573297764, \"Cluster 3\"], [22.0, 132948.0, 0.8898001728484242, 2839.7863574778585, \"Cluster 3\"], [29.0, 131578.0, 0.8470341025128371, 3535.5143522162816, \"Cluster 3\"], [25.0, 128625.0, 0.8167389887954251, 4914.117127206949, \"Cluster 3\"], [17.0, 134734.0, 0.8579216672301577, 0.0, \"Cluster 3\"], [28.0, 117108.0, 0.857078493256913, 4749.879237491619, \"Cluster 3\"], [25.0, 130361.0, 0.9254385568124625, 4691.55213906238, \"Cluster 3\"], [17.0, 123828.0, 0.9420129076091708, 3798.8403998790254, \"Cluster 3\"], [28.0, 123153.0, 0.9842407862639496, 3697.5136453853297, \"Cluster 3\"], [25.0, 120957.0, 0.8776734245644572, 5590.447216086322, \"Cluster 3\"], [21.0, 129726.0, 0.9517923119702948, 4550.7995216878835, \"Cluster 3\"], [26.0, 125662.0, 0.9268183658411524, 6089.47832250152, \"Cluster 3\"], [28.0, 123229.0, 0.8733219541371664, 610.4462190811464, \"Cluster 3\"], [20.0, 129469.0, 0.9399954311014268, 5522.573424346325, \"Cluster 3\"], [20.0, 122581.0, 0.8940806156500202, 4444.4476842520535, \"Cluster 3\"], [24.0, 134384.0, 0.8747208244890404, 3731.3397614449186, \"Cluster 3\"], [26.0, 127320.0, 0.8250298045601994, 5495.642137901324, \"Cluster 3\"], [28.0, 121216.0, 0.8569692823607705, 5349.065446955783, \"Cluster 3\"], [23.0, 129937.0, 0.8727356634334804, 4102.065424707484, \"Cluster 3\"], [26.0, 126617.0, 0.8770521049168103, 2913.368146562765, \"Cluster 3\"], [24.0, 127352.0, 0.9054521594192038, 2961.716874324024, \"Cluster 3\"], [23.0, 138443.0, 0.9226565539031124, 3297.058843994153, \"Cluster 3\"], [22.0, 120525.0, 1.0, 5495.165732288548, \"Cluster 3\"], [26.0, 131827.0, 0.8807194909406801, 4352.699304837541, \"Cluster 3\"], [17.0, 136255.0, 0.935876103673024, 4126.226651408871, \"Cluster 3\"], [24.0, 120465.0, 0.9074853865005544, 4838.348350281593, \"Cluster 3\"], [24.0, 130974.0, 0.9118386021444842, 4420.0727101369375, \"Cluster 3\"], [25.0, 130934.0, 0.9137660194970426, 3942.389134492165, \"Cluster 3\"], [25.0, 131009.0, 0.8640569016468125, 4792.426581212785, \"Cluster 3\"], [27.0, 122671.0, 0.910107112831516, 4206.287238709509, \"Cluster 3\"], [24.0, 136644.0, 0.8716976842508705, 1617.2257000775644, \"Cluster 3\"], [27.0, 125008.0, 0.9596454072349518, 2963.6377080587795, \"Cluster 3\"], [28.0, 127699.0, 0.8814245468734898, 5490.814955670689, \"Cluster 3\"], [24.0, 134389.0, 0.9388521378701832, 4573.60634580409, \"Cluster 3\"], [29.0, 142000.0, 0.9400873084125808, 5349.821181717665, \"Cluster 3\"], [28.0, 129019.0, 0.9308319590820414, 3016.8206434862623, \"Cluster 3\"], [29.0, 122264.0, 0.8985788437238403, 2494.55627432471, \"Cluster 3\"], [18.0, 123718.0, 0.8065528615489801, 4420.445820614172, \"Cluster 3\"], [23.0, 126500.0, 0.8650328592458483, 3270.150434407087, \"Cluster 3\"], [23.0, 120226.0, 0.8819129663041946, 4698.294710949844, \"Cluster 3\"], [24.0, 129087.0, 0.8271179432765905, 3290.829468618805, \"Cluster 3\"]], \"hoverlabel\": {\"namelength\": 0}, \"hovertemplate\": \"Cluster=%{customdata[4]}<br>Age=%{customdata[0]}<br>Income=%{customdata[1]}<br>SpendingScore=%{customdata[2]}<br>Savings=%{customdata[3]}\", \"legendgroup\": \"Cluster=Cluster 3\", \"marker\": {\"color\": \"#ab63fa\"}, \"name\": \"Cluster=Cluster 3\", \"notched\": true, \"offsetgroup\": \"Cluster=Cluster 3\", \"showlegend\": false, \"type\": \"box\", \"x\": [\"Cluster 3\", \"Cluster 3\", \"Cluster 3\", \"Cluster 3\", \"Cluster 3\", \"Cluster 3\", \"Cluster 3\", \"Cluster 3\", \"Cluster 3\", \"Cluster 3\", \"Cluster 3\", \"Cluster 3\", \"Cluster 3\", \"Cluster 3\", \"Cluster 3\", \"Cluster 3\", \"Cluster 3\", \"Cluster 3\", \"Cluster 3\", \"Cluster 3\", \"Cluster 3\", \"Cluster 3\", \"Cluster 3\", \"Cluster 3\", \"Cluster 3\", \"Cluster 3\", \"Cluster 3\", \"Cluster 3\", \"Cluster 3\", \"Cluster 3\", \"Cluster 3\", \"Cluster 3\", \"Cluster 3\", \"Cluster 3\", \"Cluster 3\", \"Cluster 3\", \"Cluster 3\", \"Cluster 3\", \"Cluster 3\", \"Cluster 3\", \"Cluster 3\", \"Cluster 3\", \"Cluster 3\", \"Cluster 3\", \"Cluster 3\", \"Cluster 3\", \"Cluster 3\", \"Cluster 3\", \"Cluster 3\", \"Cluster 3\"], \"xaxis\": \"x2\", \"yaxis\": \"y2\"}],\n",
       "                        {\"barmode\": \"relative\", \"legend\": {\"tracegroupgap\": 0}, \"margin\": {\"t\": 60}, \"template\": {\"data\": {\"bar\": [{\"error_x\": {\"color\": \"#2a3f5f\"}, \"error_y\": {\"color\": \"#2a3f5f\"}, \"marker\": {\"line\": {\"color\": \"#E5ECF6\", \"width\": 0.5}}, \"type\": \"bar\"}], \"barpolar\": [{\"marker\": {\"line\": {\"color\": \"#E5ECF6\", \"width\": 0.5}}, \"type\": \"barpolar\"}], \"carpet\": [{\"aaxis\": {\"endlinecolor\": \"#2a3f5f\", \"gridcolor\": \"white\", \"linecolor\": \"white\", \"minorgridcolor\": \"white\", \"startlinecolor\": \"#2a3f5f\"}, \"baxis\": {\"endlinecolor\": \"#2a3f5f\", \"gridcolor\": \"white\", \"linecolor\": \"white\", \"minorgridcolor\": \"white\", \"startlinecolor\": \"#2a3f5f\"}, \"type\": \"carpet\"}], \"choropleth\": [{\"colorbar\": {\"outlinewidth\": 0, \"ticks\": \"\"}, \"type\": \"choropleth\"}], \"contour\": [{\"colorbar\": {\"outlinewidth\": 0, \"ticks\": \"\"}, \"colorscale\": [[0.0, \"#0d0887\"], [0.1111111111111111, \"#46039f\"], [0.2222222222222222, \"#7201a8\"], [0.3333333333333333, \"#9c179e\"], [0.4444444444444444, \"#bd3786\"], [0.5555555555555556, \"#d8576b\"], [0.6666666666666666, \"#ed7953\"], [0.7777777777777778, \"#fb9f3a\"], [0.8888888888888888, \"#fdca26\"], [1.0, \"#f0f921\"]], \"type\": \"contour\"}], \"contourcarpet\": [{\"colorbar\": {\"outlinewidth\": 0, \"ticks\": \"\"}, \"type\": \"contourcarpet\"}], \"heatmap\": [{\"colorbar\": {\"outlinewidth\": 0, \"ticks\": \"\"}, \"colorscale\": [[0.0, \"#0d0887\"], [0.1111111111111111, \"#46039f\"], [0.2222222222222222, \"#7201a8\"], [0.3333333333333333, \"#9c179e\"], [0.4444444444444444, \"#bd3786\"], [0.5555555555555556, \"#d8576b\"], [0.6666666666666666, \"#ed7953\"], [0.7777777777777778, \"#fb9f3a\"], [0.8888888888888888, \"#fdca26\"], [1.0, \"#f0f921\"]], \"type\": \"heatmap\"}], \"heatmapgl\": [{\"colorbar\": {\"outlinewidth\": 0, \"ticks\": \"\"}, \"colorscale\": [[0.0, \"#0d0887\"], [0.1111111111111111, \"#46039f\"], [0.2222222222222222, \"#7201a8\"], [0.3333333333333333, \"#9c179e\"], [0.4444444444444444, \"#bd3786\"], [0.5555555555555556, \"#d8576b\"], [0.6666666666666666, \"#ed7953\"], [0.7777777777777778, \"#fb9f3a\"], [0.8888888888888888, \"#fdca26\"], [1.0, \"#f0f921\"]], \"type\": \"heatmapgl\"}], \"histogram\": [{\"marker\": {\"colorbar\": {\"outlinewidth\": 0, \"ticks\": \"\"}}, \"type\": \"histogram\"}], \"histogram2d\": [{\"colorbar\": {\"outlinewidth\": 0, \"ticks\": \"\"}, \"colorscale\": [[0.0, \"#0d0887\"], [0.1111111111111111, \"#46039f\"], [0.2222222222222222, \"#7201a8\"], [0.3333333333333333, \"#9c179e\"], [0.4444444444444444, \"#bd3786\"], [0.5555555555555556, \"#d8576b\"], [0.6666666666666666, \"#ed7953\"], [0.7777777777777778, \"#fb9f3a\"], [0.8888888888888888, \"#fdca26\"], [1.0, \"#f0f921\"]], \"type\": \"histogram2d\"}], \"histogram2dcontour\": [{\"colorbar\": {\"outlinewidth\": 0, \"ticks\": \"\"}, \"colorscale\": [[0.0, \"#0d0887\"], [0.1111111111111111, \"#46039f\"], [0.2222222222222222, \"#7201a8\"], [0.3333333333333333, \"#9c179e\"], [0.4444444444444444, \"#bd3786\"], [0.5555555555555556, \"#d8576b\"], [0.6666666666666666, \"#ed7953\"], [0.7777777777777778, \"#fb9f3a\"], [0.8888888888888888, \"#fdca26\"], [1.0, \"#f0f921\"]], \"type\": \"histogram2dcontour\"}], \"mesh3d\": [{\"colorbar\": {\"outlinewidth\": 0, \"ticks\": \"\"}, \"type\": \"mesh3d\"}], \"parcoords\": [{\"line\": {\"colorbar\": {\"outlinewidth\": 0, \"ticks\": \"\"}}, \"type\": \"parcoords\"}], \"pie\": [{\"automargin\": true, \"type\": \"pie\"}], \"scatter\": [{\"marker\": {\"colorbar\": {\"outlinewidth\": 0, \"ticks\": \"\"}}, \"type\": \"scatter\"}], \"scatter3d\": [{\"line\": {\"colorbar\": {\"outlinewidth\": 0, \"ticks\": \"\"}}, \"marker\": {\"colorbar\": {\"outlinewidth\": 0, \"ticks\": \"\"}}, \"type\": \"scatter3d\"}], \"scattercarpet\": [{\"marker\": {\"colorbar\": {\"outlinewidth\": 0, \"ticks\": \"\"}}, \"type\": \"scattercarpet\"}], \"scattergeo\": [{\"marker\": {\"colorbar\": {\"outlinewidth\": 0, \"ticks\": \"\"}}, \"type\": \"scattergeo\"}], \"scattergl\": [{\"marker\": {\"colorbar\": {\"outlinewidth\": 0, \"ticks\": \"\"}}, \"type\": \"scattergl\"}], \"scattermapbox\": [{\"marker\": {\"colorbar\": {\"outlinewidth\": 0, \"ticks\": \"\"}}, \"type\": \"scattermapbox\"}], \"scatterpolar\": [{\"marker\": {\"colorbar\": {\"outlinewidth\": 0, \"ticks\": \"\"}}, \"type\": \"scatterpolar\"}], \"scatterpolargl\": [{\"marker\": {\"colorbar\": {\"outlinewidth\": 0, \"ticks\": \"\"}}, \"type\": \"scatterpolargl\"}], \"scatterternary\": [{\"marker\": {\"colorbar\": {\"outlinewidth\": 0, \"ticks\": \"\"}}, \"type\": \"scatterternary\"}], \"surface\": [{\"colorbar\": {\"outlinewidth\": 0, \"ticks\": \"\"}, \"colorscale\": [[0.0, \"#0d0887\"], [0.1111111111111111, \"#46039f\"], [0.2222222222222222, \"#7201a8\"], [0.3333333333333333, \"#9c179e\"], [0.4444444444444444, \"#bd3786\"], [0.5555555555555556, \"#d8576b\"], [0.6666666666666666, \"#ed7953\"], [0.7777777777777778, \"#fb9f3a\"], [0.8888888888888888, \"#fdca26\"], [1.0, \"#f0f921\"]], \"type\": \"surface\"}], \"table\": [{\"cells\": {\"fill\": {\"color\": \"#EBF0F8\"}, \"line\": {\"color\": \"white\"}}, \"header\": {\"fill\": {\"color\": \"#C8D4E3\"}, \"line\": {\"color\": \"white\"}}, \"type\": \"table\"}]}, \"layout\": {\"annotationdefaults\": {\"arrowcolor\": \"#2a3f5f\", \"arrowhead\": 0, \"arrowwidth\": 1}, \"coloraxis\": {\"colorbar\": {\"outlinewidth\": 0, \"ticks\": \"\"}}, \"colorscale\": {\"diverging\": [[0, \"#8e0152\"], [0.1, \"#c51b7d\"], [0.2, \"#de77ae\"], [0.3, \"#f1b6da\"], [0.4, \"#fde0ef\"], [0.5, \"#f7f7f7\"], [0.6, \"#e6f5d0\"], [0.7, \"#b8e186\"], [0.8, \"#7fbc41\"], [0.9, \"#4d9221\"], [1, \"#276419\"]], \"sequential\": [[0.0, \"#0d0887\"], [0.1111111111111111, \"#46039f\"], [0.2222222222222222, \"#7201a8\"], [0.3333333333333333, \"#9c179e\"], [0.4444444444444444, \"#bd3786\"], [0.5555555555555556, \"#d8576b\"], [0.6666666666666666, \"#ed7953\"], [0.7777777777777778, \"#fb9f3a\"], [0.8888888888888888, \"#fdca26\"], [1.0, \"#f0f921\"]], \"sequentialminus\": [[0.0, \"#0d0887\"], [0.1111111111111111, \"#46039f\"], [0.2222222222222222, \"#7201a8\"], [0.3333333333333333, \"#9c179e\"], [0.4444444444444444, \"#bd3786\"], [0.5555555555555556, \"#d8576b\"], [0.6666666666666666, \"#ed7953\"], [0.7777777777777778, \"#fb9f3a\"], [0.8888888888888888, \"#fdca26\"], [1.0, \"#f0f921\"]]}, \"colorway\": [\"#636efa\", \"#EF553B\", \"#00cc96\", \"#ab63fa\", \"#FFA15A\", \"#19d3f3\", \"#FF6692\", \"#B6E880\", \"#FF97FF\", \"#FECB52\"], \"font\": {\"color\": \"#2a3f5f\"}, \"geo\": {\"bgcolor\": \"white\", \"lakecolor\": \"white\", \"landcolor\": \"#E5ECF6\", \"showlakes\": true, \"showland\": true, \"subunitcolor\": \"white\"}, \"hoverlabel\": {\"align\": \"left\"}, \"hovermode\": \"closest\", \"mapbox\": {\"style\": \"light\"}, \"paper_bgcolor\": \"white\", \"plot_bgcolor\": \"#E5ECF6\", \"polar\": {\"angularaxis\": {\"gridcolor\": \"white\", \"linecolor\": \"white\", \"ticks\": \"\"}, \"bgcolor\": \"#E5ECF6\", \"radialaxis\": {\"gridcolor\": \"white\", \"linecolor\": \"white\", \"ticks\": \"\"}}, \"scene\": {\"xaxis\": {\"backgroundcolor\": \"#E5ECF6\", \"gridcolor\": \"white\", \"gridwidth\": 2, \"linecolor\": \"white\", \"showbackground\": true, \"ticks\": \"\", \"zerolinecolor\": \"white\"}, \"yaxis\": {\"backgroundcolor\": \"#E5ECF6\", \"gridcolor\": \"white\", \"gridwidth\": 2, \"linecolor\": \"white\", \"showbackground\": true, \"ticks\": \"\", \"zerolinecolor\": \"white\"}, \"zaxis\": {\"backgroundcolor\": \"#E5ECF6\", \"gridcolor\": \"white\", \"gridwidth\": 2, \"linecolor\": \"white\", \"showbackground\": true, \"ticks\": \"\", \"zerolinecolor\": \"white\"}}, \"shapedefaults\": {\"line\": {\"color\": \"#2a3f5f\"}}, \"ternary\": {\"aaxis\": {\"gridcolor\": \"white\", \"linecolor\": \"white\", \"ticks\": \"\"}, \"baxis\": {\"gridcolor\": \"white\", \"linecolor\": \"white\", \"ticks\": \"\"}, \"bgcolor\": \"#E5ECF6\", \"caxis\": {\"gridcolor\": \"white\", \"linecolor\": \"white\", \"ticks\": \"\"}}, \"title\": {\"x\": 0.05}, \"xaxis\": {\"automargin\": true, \"gridcolor\": \"white\", \"linecolor\": \"white\", \"ticks\": \"\", \"title\": {\"standoff\": 15}, \"zerolinecolor\": \"white\", \"zerolinewidth\": 2}, \"yaxis\": {\"automargin\": true, \"gridcolor\": \"white\", \"linecolor\": \"white\", \"ticks\": \"\", \"title\": {\"standoff\": 15}, \"zerolinecolor\": \"white\", \"zerolinewidth\": 2}}}, \"xaxis\": {\"anchor\": \"y\", \"categoryarray\": [\"Cluster 0\", \"Cluster 1\", \"Cluster 2\", \"Cluster 3\"], \"categoryorder\": \"array\", \"domain\": [0.0, 1.0], \"title\": {\"text\": \"Cluster\"}}, \"xaxis2\": {\"anchor\": \"y2\", \"domain\": [0.0, 1.0], \"matches\": \"x\", \"showgrid\": true, \"showticklabels\": false}, \"yaxis\": {\"anchor\": \"x\", \"domain\": [0.0, 0.7326], \"title\": {\"text\": \"count\"}}, \"yaxis2\": {\"anchor\": \"x2\", \"domain\": [0.7426, 1.0], \"matches\": \"y2\", \"showgrid\": false, \"showline\": false, \"showticklabels\": false, \"ticks\": \"\"}},\n",
       "                        {\"responsive\": true}\n",
       "                    ).then(function(){\n",
       "                            \n",
       "var gd = document.getElementById('60132d45-b484-4ab7-8727-2c6424b3732a');\n",
       "var x = new MutationObserver(function (mutations, observer) {{\n",
       "        var display = window.getComputedStyle(gd).display;\n",
       "        if (!display || display === 'none') {{\n",
       "            console.log([gd, 'removed!']);\n",
       "            Plotly.purge(gd);\n",
       "            observer.disconnect();\n",
       "        }}\n",
       "}});\n",
       "\n",
       "// Listen for the removal of the full notebook cells\n",
       "var notebookContainer = gd.closest('#notebook-container');\n",
       "if (notebookContainer) {{\n",
       "    x.observe(notebookContainer, {childList: true});\n",
       "}}\n",
       "\n",
       "// Listen for the clearing of the current output cell\n",
       "var outputEl = gd.closest('.output');\n",
       "if (outputEl) {{\n",
       "    x.observe(outputEl, {childList: true});\n",
       "}}\n",
       "\n",
       "                        })\n",
       "                };\n",
       "                });\n",
       "            </script>\n",
       "        </div>"
      ]
     },
     "metadata": {},
     "output_type": "display_data"
    }
   ],
   "source": [
    "plot_model(kmeans, plot = 'distribution')"
   ]
  },
  {
   "cell_type": "code",
   "execution_count": 24,
   "metadata": {},
   "outputs": [
    {
     "data": {
      "application/vnd.plotly.v1+json": {
       "config": {
        "plotlyServerURL": "https://plot.ly"
       },
       "data": [
        {
         "alignmentgroup": "True",
         "bingroup": "x",
         "hoverlabel": {
          "namelength": 0
         },
         "hovertemplate": "Cluster=Cluster 0<br>Age=%{x}<br>count=%{y}",
         "legendgroup": "Cluster=Cluster 0",
         "marker": {
          "color": "#636efa",
          "opacity": 0.7
         },
         "name": "Cluster=Cluster 0",
         "offsetgroup": "Cluster=Cluster 0",
         "orientation": "v",
         "showlegend": true,
         "type": "histogram",
         "x": [
          89,
          88,
          94,
          87,
          89,
          93,
          82,
          87,
          89,
          84,
          87,
          88,
          89,
          95,
          89,
          86,
          85,
          87,
          92,
          89,
          85,
          89,
          85,
          92,
          89,
          79,
          90,
          92,
          88,
          84,
          88,
          84,
          88,
          91,
          90,
          88,
          86,
          85,
          86,
          91,
          85,
          87,
          94,
          85,
          82,
          83,
          88,
          85,
          89,
          89,
          79,
          86,
          84,
          87,
          83,
          86,
          85,
          87,
          88,
          88,
          85,
          90,
          91,
          87,
          88,
          91,
          86,
          87,
          94,
          82,
          89,
          93,
          90,
          91,
          90,
          88,
          83,
          94,
          92,
          89,
          87,
          84,
          84,
          91,
          91,
          88,
          81,
          85,
          91,
          82,
          86,
          94,
          91,
          88,
          91,
          84,
          83,
          90,
          88,
          91,
          88,
          92,
          90,
          87,
          94,
          87,
          87,
          84,
          82,
          84,
          84,
          88,
          87,
          92,
          91,
          91,
          83,
          84,
          90,
          86,
          91,
          97,
          92,
          92,
          91,
          90,
          88,
          91,
          86,
          83,
          94,
          83,
          87,
          85,
          87,
          83,
          83,
          90,
          87,
          91,
          91,
          83,
          93,
          87,
          90,
          84,
          84
         ],
         "xaxis": "x",
         "yaxis": "y"
        },
        {
         "alignmentgroup": "True",
         "customdata": [
          [
           89,
           30267,
           0.2893100658351509,
           14386.351879589123,
           "Cluster 0"
          ],
          [
           88,
           28585,
           0.3977396663840213,
           16725.841854363774,
           "Cluster 0"
          ],
          [
           94,
           27771,
           0.3025032231546657,
           17303.957194969433,
           "Cluster 0"
          ],
          [
           87,
           18459,
           0.2645499059687874,
           15637.59765457844,
           "Cluster 0"
          ],
          [
           89,
           28160,
           0.3388488510290433,
           15607.061781887898,
           "Cluster 0"
          ],
          [
           93,
           20440,
           0.2975730342292497,
           17406.074017844054,
           "Cluster 0"
          ],
          [
           82,
           32494,
           0.3273154026360584,
           16799.444266662453,
           "Cluster 0"
          ],
          [
           87,
           30102,
           0.3903905943444749,
           16330.081190027211,
           "Cluster 0"
          ],
          [
           89,
           20292,
           0.3121481952107594,
           16023.4456584523,
           "Cluster 0"
          ],
          [
           84,
           27179,
           0.3474234168306904,
           15612.628547766899,
           "Cluster 0"
          ],
          [
           87,
           24578,
           0.37616545875063534,
           17789.247521813828,
           "Cluster 0"
          ],
          [
           88,
           33251,
           0.3043913649608802,
           18868.24161249696,
           "Cluster 0"
          ],
          [
           89,
           34524,
           0.348118273264174,
           14051.256515312789,
           "Cluster 0"
          ],
          [
           95,
           27038,
           0.3313520070109344,
           18126.577451151075,
           "Cluster 0"
          ],
          [
           89,
           26127,
           0.3044743722681633,
           17194.828018777476,
           "Cluster 0"
          ],
          [
           86,
           46977,
           0.2827283910152334,
           15628.957075805025,
           "Cluster 0"
          ],
          [
           85,
           27599,
           0.2819950483303406,
           13470.97060503703,
           "Cluster 0"
          ],
          [
           87,
           25701,
           0.3152205738281265,
           15738.859295516553,
           "Cluster 0"
          ],
          [
           92,
           33550,
           0.3685156285793065,
           17106.32591058189,
           "Cluster 0"
          ],
          [
           89,
           19202,
           0.3819877440174351,
           16626.22236147723,
           "Cluster 0"
          ],
          [
           85,
           28408,
           0.3580738593579665,
           15063.335797441836,
           "Cluster 0"
          ],
          [
           89,
           33311,
           0.3761469685086391,
           17093.06995548225,
           "Cluster 0"
          ],
          [
           85,
           26355,
           0.34234066669498114,
           17971.19363998381,
           "Cluster 0"
          ],
          [
           92,
           32915,
           0.3885749195868542,
           16694.706839244012,
           "Cluster 0"
          ],
          [
           89,
           31096,
           0.2785878455435617,
           17736.94259966666,
           "Cluster 0"
          ],
          [
           79,
           32421,
           0.3032762059432743,
           15319.467662272391,
           "Cluster 0"
          ],
          [
           90,
           33259,
           0.377571058498228,
           15315.028503741696,
           "Cluster 0"
          ],
          [
           92,
           35484,
           0.3970636039704499,
           17324.045112814925,
           "Cluster 0"
          ],
          [
           88,
           31366,
           0.3796208481334848,
           16079.622699815933,
           "Cluster 0"
          ],
          [
           84,
           29492,
           0.3336031402694437,
           17954.09505703969,
           "Cluster 0"
          ],
          [
           88,
           26092,
           0.3128732065230775,
           17105.79392615357,
           "Cluster 0"
          ],
          [
           84,
           42018,
           0.29799360218993026,
           16148.370454036614,
           "Cluster 0"
          ],
          [
           88,
           34001,
           0.33756932388752803,
           15530.934134298665,
           "Cluster 0"
          ],
          [
           91,
           29082,
           0.28248852137129143,
           18794.488169074688,
           "Cluster 0"
          ],
          [
           90,
           24376,
           0.2812794569155436,
           15134.994226396464,
           "Cluster 0"
          ],
          [
           88,
           28409,
           0.30565353367521064,
           17326.175608364214,
           "Cluster 0"
          ],
          [
           86,
           36031,
           0.2401766350783482,
           16945.326244896307,
           "Cluster 0"
          ],
          [
           85,
           34634,
           0.3690001696241634,
           16719.815875018445,
           "Cluster 0"
          ],
          [
           86,
           15695,
           0.25717496647489363,
           17366.186263516567,
           "Cluster 0"
          ],
          [
           91,
           30148,
           0.2773889467565771,
           15324.287405101717,
           "Cluster 0"
          ],
          [
           85,
           28401,
           0.3694371368158697,
           15990.49413056604,
           "Cluster 0"
          ],
          [
           87,
           15671,
           0.3507250914944152,
           14326.601120246103,
           "Cluster 0"
          ],
          [
           94,
           20719,
           0.336402269797664,
           16281.832273239006,
           "Cluster 0"
          ],
          [
           85,
           30794,
           0.2862292747117072,
           17096.39150937826,
           "Cluster 0"
          ],
          [
           82,
           24391,
           0.27610134635529604,
           17053.03010738692,
           "Cluster 0"
          ],
          [
           83,
           28497,
           0.3938023931664613,
           15510.112981164848,
           "Cluster 0"
          ],
          [
           88,
           17388,
           0.4661894446652393,
           16698.6210372462,
           "Cluster 0"
          ],
          [
           85,
           34802,
           0.2987969233586417,
           16450.003270402787,
           "Cluster 0"
          ],
          [
           89,
           22008,
           0.3819060693389532,
           16458.398097731253,
           "Cluster 0"
          ],
          [
           89,
           24520,
           0.44383270684567067,
           13556.9358834699,
           "Cluster 0"
          ],
          [
           79,
           38201,
           0.3697828881534748,
           16393.395697309446,
           "Cluster 0"
          ],
          [
           86,
           28779,
           0.3365233301816881,
           16047.268331461928,
           "Cluster 0"
          ],
          [
           84,
           38042,
           0.3660858718547989,
           17465.856285855403,
           "Cluster 0"
          ],
          [
           87,
           46910,
           0.3085616998317755,
           14789.14847617646,
           "Cluster 0"
          ],
          [
           83,
           26882,
           0.34797963237384105,
           17775.22817123954,
           "Cluster 0"
          ],
          [
           86,
           18812,
           0.34154576038705153,
           16157.734142403422,
           "Cluster 0"
          ],
          [
           85,
           29610,
           0.3181352453742131,
           18475.487468080933,
           "Cluster 0"
          ],
          [
           87,
           30812,
           0.3144631516753479,
           15238.118997598334,
           "Cluster 0"
          ],
          [
           88,
           19510,
           0.3167510258154691,
           16529.20080632274,
           "Cluster 0"
          ],
          [
           88,
           26351,
           0.3041682062164747,
           14035.917553542351,
           "Cluster 0"
          ],
          [
           85,
           21250,
           0.3104101151420252,
           16033.971166673777,
           "Cluster 0"
          ],
          [
           90,
           22288,
           0.2713268321051208,
           18434.099152391347,
           "Cluster 0"
          ],
          [
           91,
           36639,
           0.3261988874784867,
           16275.703341192586,
           "Cluster 0"
          ],
          [
           87,
           12000,
           0.3429910076112659,
           16180.26525174153,
           "Cluster 0"
          ],
          [
           88,
           35051,
           0.3860515062876169,
           17593.24679258195,
           "Cluster 0"
          ],
          [
           91,
           12038,
           0.3498032558856572,
           16464.960504438823,
           "Cluster 0"
          ],
          [
           86,
           31994,
           0.24947694035510065,
           18210.088099070614,
           "Cluster 0"
          ],
          [
           87,
           30178,
           0.2793159778940049,
           16123.070750832,
           "Cluster 0"
          ],
          [
           94,
           18937,
           0.3470950600753079,
           17739.776098377628,
           "Cluster 0"
          ],
          [
           82,
           33610,
           0.3012532342412973,
           17755.664940228176,
           "Cluster 0"
          ],
          [
           89,
           26940,
           0.3260051328059917,
           16555.159377159824,
           "Cluster 0"
          ],
          [
           93,
           17672,
           0.3032923688871533,
           18516.451810726718,
           "Cluster 0"
          ],
          [
           90,
           33490,
           0.4199085281737912,
           17091.904228934392,
           "Cluster 0"
          ],
          [
           91,
           25237,
           0.3535018242414266,
           17292.733103848248,
           "Cluster 0"
          ],
          [
           90,
           30178,
           0.2823512821567113,
           16182.8384364088,
           "Cluster 0"
          ],
          [
           88,
           32708,
           0.3682153159958089,
           16711.0679804242,
           "Cluster 0"
          ],
          [
           83,
           18162,
           0.3013734548863509,
           16029.469213914268,
           "Cluster 0"
          ],
          [
           94,
           38923,
           0.33022601809734325,
           16971.181554867213,
           "Cluster 0"
          ],
          [
           92,
           35877,
           0.3668917159124752,
           17287.907016982324,
           "Cluster 0"
          ],
          [
           89,
           25252,
           0.32176522093208865,
           16539.364186086335,
           "Cluster 0"
          ],
          [
           87,
           25566,
           0.3167603729756968,
           15188.058749407255,
           "Cluster 0"
          ],
          [
           84,
           27384,
           0.31364671699548896,
           16734.672754073246,
           "Cluster 0"
          ],
          [
           84,
           27544,
           0.2309337663207005,
           18207.36169648481,
           "Cluster 0"
          ],
          [
           91,
           28777,
           0.324193555035782,
           17808.2662415687,
           "Cluster 0"
          ],
          [
           91,
           27168,
           0.3322388165540652,
           15893.729773516614,
           "Cluster 0"
          ],
          [
           88,
           22602,
           0.35674482887974684,
           16740.343496726702,
           "Cluster 0"
          ],
          [
           81,
           34425,
           0.2726097792323641,
           16262.623790655764,
           "Cluster 0"
          ],
          [
           85,
           29204,
           0.3254914498834959,
           16918.903460369133,
           "Cluster 0"
          ],
          [
           91,
           20681,
           0.3546791690549572,
           18401.08844474873,
           "Cluster 0"
          ],
          [
           82,
           24221,
           0.4735496605323542,
           16251.759445212669,
           "Cluster 0"
          ],
          [
           86,
           35998,
           0.3216356471662456,
           20000,
           "Cluster 0"
          ],
          [
           94,
           27169,
           0.3141730453838618,
           15061.776215142369,
           "Cluster 0"
          ],
          [
           91,
           29750,
           0.2884703320713124,
           19201.11991627576,
           "Cluster 0"
          ],
          [
           88,
           17946,
           0.26964363039994416,
           16715.160017840968,
           "Cluster 0"
          ],
          [
           91,
           26424,
           0.3193886529047028,
           16501.46877669979,
           "Cluster 0"
          ],
          [
           84,
           22286,
           0.3955062459001081,
           17886.53737311577,
           "Cluster 0"
          ],
          [
           83,
           30492,
           0.3016314685914632,
           15365.85846293255,
           "Cluster 0"
          ],
          [
           90,
           25733,
           0.3385629680709827,
           17631.56888411863,
           "Cluster 0"
          ],
          [
           88,
           27169,
           0.28005950486141434,
           15260.635546195437,
           "Cluster 0"
          ],
          [
           91,
           16950,
           0.32300404344763,
           17172.609400509067,
           "Cluster 0"
          ],
          [
           88,
           28802,
           0.4083878319987073,
           16293.038332542192,
           "Cluster 0"
          ],
          [
           92,
           22484,
           0.3317732623948493,
           18615.632589788456,
           "Cluster 0"
          ],
          [
           90,
           29029,
           0.30375897133462404,
           15592.991530526488,
           "Cluster 0"
          ],
          [
           87,
           23042,
           0.3663120107544869,
           18149.035872923057,
           "Cluster 0"
          ],
          [
           94,
           23854,
           0.3144466826182581,
           16828.410118749016,
           "Cluster 0"
          ],
          [
           87,
           29909,
           0.3421516318130469,
           18142.232746738577,
           "Cluster 0"
          ],
          [
           87,
           31481,
           0.317423970601333,
           16180.68808203422,
           "Cluster 0"
          ],
          [
           84,
           24105,
           0.2718090229374729,
           16524.902538052145,
           "Cluster 0"
          ],
          [
           82,
           33636,
           0.3717829785401914,
           17866.83359752812,
           "Cluster 0"
          ],
          [
           84,
           20704,
           0.3794963151514172,
           16816.911895743782,
           "Cluster 0"
          ],
          [
           84,
           30481,
           0.3970228936031003,
           16837.205964813103,
           "Cluster 0"
          ],
          [
           88,
           33303,
           0.39971568554521497,
           15232.598068845287,
           "Cluster 0"
          ],
          [
           87,
           26045,
           0.3752921226023748,
           15903.558359374925,
           "Cluster 0"
          ],
          [
           92,
           36032,
           0.3369683066109672,
           17348.5998812573,
           "Cluster 0"
          ],
          [
           91,
           22672,
           0.2710645345158169,
           15407.646761130874,
           "Cluster 0"
          ],
          [
           91,
           24370,
           0.2963285713632805,
           16141.048981383728,
           "Cluster 0"
          ],
          [
           83,
           34529,
           0.3172075114569807,
           16517.208746949746,
           "Cluster 0"
          ],
          [
           84,
           36463,
           0.3536209572557781,
           16563.372591147832,
           "Cluster 0"
          ],
          [
           90,
           37503,
           0.35778831446458764,
           17258.57497274541,
           "Cluster 0"
          ],
          [
           86,
           27705,
           0.3293769514872405,
           17130.85610211788,
           "Cluster 0"
          ],
          [
           91,
           36991,
           0.2685979050949868,
           19047.77233878285,
           "Cluster 0"
          ],
          [
           97,
           27271,
           0.28392289527040304,
           14928.165597390327,
           "Cluster 0"
          ],
          [
           92,
           18724,
           0.3278623148176303,
           15341.381109594675,
           "Cluster 0"
          ],
          [
           92,
           22616,
           0.3228506824321553,
           17275.66131398456,
           "Cluster 0"
          ],
          [
           91,
           28165,
           0.3036929225036061,
           17460.179350212424,
           "Cluster 0"
          ],
          [
           90,
           22782,
           0.3563068710287742,
           15924.071707885845,
           "Cluster 0"
          ],
          [
           88,
           17851,
           0.2898659849627828,
           17472.470686173863,
           "Cluster 0"
          ],
          [
           91,
           25886,
           0.30175376758370465,
           17266.045729118025,
           "Cluster 0"
          ],
          [
           86,
           23400,
           0.27803553844702666,
           15215.28126373834,
           "Cluster 0"
          ],
          [
           83,
           28727,
           0.3082630418510537,
           18205.33626089001,
           "Cluster 0"
          ],
          [
           94,
           28352,
           0.37687573531685575,
           16798.886114738052,
           "Cluster 0"
          ],
          [
           83,
           23206,
           0.3212403632065312,
           16870.672003783384,
           "Cluster 0"
          ],
          [
           87,
           23322,
           0.30682119734644964,
           16131.267659393414,
           "Cluster 0"
          ],
          [
           85,
           21652,
           0.3184561372216806,
           14175.16988549895,
           "Cluster 0"
          ],
          [
           87,
           26665,
           0.4021456613889217,
           17376.914743318182,
           "Cluster 0"
          ],
          [
           83,
           30721,
           0.3311418077630257,
           17705.99238527814,
           "Cluster 0"
          ],
          [
           83,
           33170,
           0.24107774427464634,
           16620.010473689304,
           "Cluster 0"
          ],
          [
           90,
           33188,
           0.24881006879023135,
           15866.913937696345,
           "Cluster 0"
          ],
          [
           87,
           17760,
           0.34877754843050746,
           16869.507130301474,
           "Cluster 0"
          ],
          [
           91,
           30756,
           0.30369803009825364,
           15492.004711465304,
           "Cluster 0"
          ],
          [
           91,
           26917,
           0.37671353045834655,
           17986.618644605885,
           "Cluster 0"
          ],
          [
           83,
           34384,
           0.3247186821733417,
           14783.379085794499,
           "Cluster 0"
          ],
          [
           93,
           19934,
           0.20314023979537812,
           17969.693768505334,
           "Cluster 0"
          ],
          [
           87,
           42592,
           0.35528968203827593,
           18086.287157859304,
           "Cluster 0"
          ],
          [
           90,
           35297,
           0.35514901905663643,
           16091.401954058958,
           "Cluster 0"
          ],
          [
           84,
           18244,
           0.29266337446440194,
           17815.348406878897,
           "Cluster 0"
          ],
          [
           84,
           27693,
           0.3670629731870412,
           17879.558905551898,
           "Cluster 0"
          ]
         ],
         "hoverlabel": {
          "namelength": 0
         },
         "hovertemplate": "Cluster=%{customdata[4]}<br>Age=%{customdata[0]}<br>Income=%{customdata[1]}<br>SpendingScore=%{customdata[2]}<br>Savings=%{customdata[3]}",
         "legendgroup": "Cluster=Cluster 0",
         "marker": {
          "color": "#636efa"
         },
         "name": "Cluster=Cluster 0",
         "notched": true,
         "offsetgroup": "Cluster=Cluster 0",
         "showlegend": false,
         "type": "box",
         "x": [
          89,
          88,
          94,
          87,
          89,
          93,
          82,
          87,
          89,
          84,
          87,
          88,
          89,
          95,
          89,
          86,
          85,
          87,
          92,
          89,
          85,
          89,
          85,
          92,
          89,
          79,
          90,
          92,
          88,
          84,
          88,
          84,
          88,
          91,
          90,
          88,
          86,
          85,
          86,
          91,
          85,
          87,
          94,
          85,
          82,
          83,
          88,
          85,
          89,
          89,
          79,
          86,
          84,
          87,
          83,
          86,
          85,
          87,
          88,
          88,
          85,
          90,
          91,
          87,
          88,
          91,
          86,
          87,
          94,
          82,
          89,
          93,
          90,
          91,
          90,
          88,
          83,
          94,
          92,
          89,
          87,
          84,
          84,
          91,
          91,
          88,
          81,
          85,
          91,
          82,
          86,
          94,
          91,
          88,
          91,
          84,
          83,
          90,
          88,
          91,
          88,
          92,
          90,
          87,
          94,
          87,
          87,
          84,
          82,
          84,
          84,
          88,
          87,
          92,
          91,
          91,
          83,
          84,
          90,
          86,
          91,
          97,
          92,
          92,
          91,
          90,
          88,
          91,
          86,
          83,
          94,
          83,
          87,
          85,
          87,
          83,
          83,
          90,
          87,
          91,
          91,
          83,
          93,
          87,
          90,
          84,
          84
         ],
         "xaxis": "x2",
         "yaxis": "y2"
        },
        {
         "alignmentgroup": "True",
         "bingroup": "x",
         "hoverlabel": {
          "namelength": 0
         },
         "hovertemplate": "Cluster=Cluster 1<br>Age=%{x}<br>count=%{y}",
         "legendgroup": "Cluster=Cluster 1",
         "marker": {
          "color": "#EF553B",
          "opacity": 0.7
         },
         "name": "Cluster=Cluster 1",
         "offsetgroup": "Cluster=Cluster 1",
         "orientation": "v",
         "showlegend": true,
         "type": "histogram",
         "x": [
          34,
          35,
          33,
          33,
          34,
          36,
          29,
          84,
          83,
          36,
          31,
          38,
          31,
          36,
          38,
          39,
          90,
          83,
          35,
          33,
          32,
          31,
          31,
          39,
          37,
          87,
          33,
          37,
          31,
          37,
          88,
          91,
          30,
          33,
          36,
          28,
          36,
          33,
          85,
          26,
          24,
          36,
          33,
          30,
          29,
          40,
          42,
          28,
          34,
          85,
          31,
          35,
          37,
          43,
          89,
          37,
          90,
          31,
          29,
          83,
          84,
          30,
          29,
          88,
          33,
          30,
          34,
          35,
          30,
          92,
          30,
          77,
          34,
          31,
          33,
          37,
          29,
          36,
          31,
          29,
          31,
          28,
          28,
          33,
          30,
          33,
          82,
          84,
          29,
          88,
          30,
          36,
          35,
          38,
          33,
          84,
          39,
          37,
          31,
          35,
          30,
          35,
          86,
          34,
          32,
          86,
          31,
          35,
          34,
          36,
          28,
          28,
          86,
          30,
          93,
          31,
          82,
          31,
          38,
          32,
          29,
          37,
          27,
          29,
          37,
          25,
          31,
          37,
          34,
          25,
          29,
          31,
          22,
          34,
          32,
          31,
          35,
          44,
          34,
          32,
          34,
          36,
          32,
          32,
          30,
          28,
          35,
          33,
          29,
          33,
          31
         ],
         "xaxis": "x",
         "yaxis": "y"
        },
        {
         "alignmentgroup": "True",
         "customdata": [
          [
           34,
           111303,
           0.34531257710928803,
           14624.318634976555,
           "Cluster 1"
          ],
          [
           35,
           105991,
           0.34337797815210225,
           16616.088239618915,
           "Cluster 1"
          ],
          [
           33,
           101058,
           0.3150815497840024,
           14911.868398206978,
           "Cluster 1"
          ],
          [
           33,
           106757,
           0.25839611372125515,
           14431.652799234367,
           "Cluster 1"
          ],
          [
           34,
           103428,
           0.2474244093916156,
           13791.035761571968,
           "Cluster 1"
          ],
          [
           36,
           98137,
           0.29740129315965397,
           15978.332837131276,
           "Cluster 1"
          ],
          [
           29,
           119366,
           0.3587713900686116,
           15012.853014226299,
           "Cluster 1"
          ],
          [
           84,
           110582,
           0.07904903227945975,
           14937.995169685584,
           "Cluster 1"
          ],
          [
           83,
           117943,
           0.07721324003343044,
           15391.95219220651,
           "Cluster 1"
          ],
          [
           36,
           100158,
           0.31606041409802405,
           13832.379370734528,
           "Cluster 1"
          ],
          [
           31,
           112943,
           0.34123950330738706,
           14297.702229457283,
           "Cluster 1"
          ],
          [
           38,
           94775,
           0.3803902009461493,
           16867.13082002739,
           "Cluster 1"
          ],
          [
           31,
           114833,
           0.3050696862135815,
           13953.029721407644,
           "Cluster 1"
          ],
          [
           36,
           96336,
           0.28809756719298163,
           15286.769335194167,
           "Cluster 1"
          ],
          [
           38,
           113659,
           0.3334859873871594,
           14364.693391419,
           "Cluster 1"
          ],
          [
           39,
           99216,
           0.21660614339457274,
           15230.345105300736,
           "Cluster 1"
          ],
          [
           90,
           117668,
           0.08272274299401555,
           12554.692742420659,
           "Cluster 1"
          ],
          [
           83,
           119429,
           0.042154801078558464,
           15607.561541234569,
           "Cluster 1"
          ],
          [
           35,
           106588,
           0.3422142051018276,
           15648.65667046098,
           "Cluster 1"
          ],
          [
           33,
           107100,
           0.3424354833732075,
           14895.473479049117,
           "Cluster 1"
          ],
          [
           32,
           108417,
           0.28737086714008075,
           16696.398659007995,
           "Cluster 1"
          ],
          [
           31,
           111449,
           0.29410620308282165,
           13929.62155143948,
           "Cluster 1"
          ],
          [
           31,
           101481,
           0.2702350511848681,
           15226.614133627569,
           "Cluster 1"
          ],
          [
           39,
           100540,
           0.3849229829012918,
           16741.013894847743,
           "Cluster 1"
          ],
          [
           37,
           107958,
           0.34666907654318496,
           13641.009538079368,
           "Cluster 1"
          ],
          [
           87,
           117564,
           0.1282795957567026,
           14000.248964992143,
           "Cluster 1"
          ],
          [
           33,
           108345,
           0.32541328975821004,
           15646.32171735943,
           "Cluster 1"
          ],
          [
           37,
           108635,
           0.28649570314839057,
           14558.054542315444,
           "Cluster 1"
          ],
          [
           31,
           116247,
           0.2943151380482853,
           16178.204715186297,
           "Cluster 1"
          ],
          [
           37,
           106664,
           0.2775867542026021,
           14479.374117495967,
           "Cluster 1"
          ],
          [
           88,
           114767,
           0.032207542338926365,
           17833.093470094427,
           "Cluster 1"
          ],
          [
           91,
           118794,
           0.0192120658984376,
           14047.388986415735,
           "Cluster 1"
          ],
          [
           30,
           99949,
           0.344679223509786,
           13621.639726331408,
           "Cluster 1"
          ],
          [
           33,
           94964,
           0.3302325026567214,
           14018.349867336628,
           "Cluster 1"
          ],
          [
           36,
           105567,
           0.3126388486955741,
           14355.31094653896,
           "Cluster 1"
          ],
          [
           28,
           109075,
           0.36276196062401134,
           14082.458238005996,
           "Cluster 1"
          ],
          [
           36,
           99780,
           0.2654326074020303,
           16398.40133318453,
           "Cluster 1"
          ],
          [
           33,
           100275,
           0.3630856827120957,
           13735.438742381079,
           "Cluster 1"
          ],
          [
           85,
           111389,
           0.0367953622110323,
           16009.237762922363,
           "Cluster 1"
          ],
          [
           26,
           97750,
           0.2934087605160681,
           15823.032361634105,
           "Cluster 1"
          ],
          [
           24,
           110564,
           0.3049430059244969,
           14967.839625179657,
           "Cluster 1"
          ],
          [
           36,
           108004,
           0.3089229914936124,
           15813.964573146997,
           "Cluster 1"
          ],
          [
           33,
           114555,
           0.2792568364789493,
           13746.745438440072,
           "Cluster 1"
          ],
          [
           30,
           98030,
           0.4111117138132285,
           16316.842905166694,
           "Cluster 1"
          ],
          [
           29,
           116451,
           0.3406596106851227,
           15294.661511529368,
           "Cluster 1"
          ],
          [
           40,
           98821,
           0.27908085018704903,
           15995.160053914664,
           "Cluster 1"
          ],
          [
           42,
           106990,
           0.330065422314764,
           14856.938997469417,
           "Cluster 1"
          ],
          [
           28,
           101206,
           0.3874406981253433,
           14936.775388622864,
           "Cluster 1"
          ],
          [
           34,
           89598,
           0.3401523810436963,
           12832.768720823738,
           "Cluster 1"
          ],
          [
           85,
           118169,
           0.123196057747337,
           14855.951023927619,
           "Cluster 1"
          ],
          [
           31,
           107963,
           0.2905086327499087,
           13407.081391032512,
           "Cluster 1"
          ],
          [
           35,
           117112,
           0.3047918711384766,
           15908.035997555322,
           "Cluster 1"
          ],
          [
           37,
           97678,
           0.2574704443875843,
           15834.113173627364,
           "Cluster 1"
          ],
          [
           43,
           101641,
           0.3819838041034955,
           14424.097995592982,
           "Cluster 1"
          ],
          [
           89,
           119697,
           0.0916792017028315,
           16215.399076555514,
           "Cluster 1"
          ],
          [
           37,
           97831,
           0.3744658274308825,
           14935.144813058325,
           "Cluster 1"
          ],
          [
           90,
           124170,
           0.030751314393913882,
           14773.407205599842,
           "Cluster 1"
          ],
          [
           31,
           105826,
           0.2862743235826754,
           13856.805832195869,
           "Cluster 1"
          ],
          [
           29,
           91375,
           0.2354504258588228,
           13104.962760687613,
           "Cluster 1"
          ],
          [
           83,
           117347,
           0.15569409232860987,
           15086.701120471576,
           "Cluster 1"
          ],
          [
           84,
           122696,
           0.08218683192473558,
           13809.734086698068,
           "Cluster 1"
          ],
          [
           30,
           101073,
           0.3143871202044516,
           14324.555977118509,
           "Cluster 1"
          ],
          [
           29,
           110860,
           0.31944030103524745,
           16260.42103081417,
           "Cluster 1"
          ],
          [
           88,
           120678,
           0.06327285129660287,
           14264.473846639943,
           "Cluster 1"
          ],
          [
           33,
           106345,
           0.3392354218755358,
           15300.45379012999,
           "Cluster 1"
          ],
          [
           30,
           108581,
           0.3094467811568005,
           15628.791650531211,
           "Cluster 1"
          ],
          [
           34,
           98165,
           0.17412049382306485,
           15721.86284266975,
           "Cluster 1"
          ],
          [
           35,
           112878,
           0.3009135799974076,
           13755.48230187328,
           "Cluster 1"
          ],
          [
           30,
           107525,
           0.2948164301396663,
           12702.847385049918,
           "Cluster 1"
          ],
          [
           92,
           122879,
           0.0607240352184939,
           13709.670274517475,
           "Cluster 1"
          ],
          [
           30,
           102056,
           0.2607006223919937,
           15370.66882713054,
           "Cluster 1"
          ],
          [
           77,
           128596,
           0.04082407066250976,
           14503.410786381415,
           "Cluster 1"
          ],
          [
           34,
           119877,
           0.3054369951589357,
           15634.788286084158,
           "Cluster 1"
          ],
          [
           31,
           108067,
           0.2686742663930692,
           13316.767286164832,
           "Cluster 1"
          ],
          [
           33,
           105667,
           0.25075080562386165,
           12869.761073905089,
           "Cluster 1"
          ],
          [
           37,
           107877,
           0.3346179841546032,
           17968.55392863446,
           "Cluster 1"
          ],
          [
           29,
           112531,
           0.3427661743407053,
           14361.334979176147,
           "Cluster 1"
          ],
          [
           36,
           104285,
           0.2123600508972585,
           13347.558779497918,
           "Cluster 1"
          ],
          [
           31,
           99457,
           0.3658064971511749,
           14580.613477014092,
           "Cluster 1"
          ],
          [
           29,
           106014,
           0.34794511357773106,
           15038.010746320377,
           "Cluster 1"
          ],
          [
           31,
           107994,
           0.2944689389706671,
           13685.972361738892,
           "Cluster 1"
          ],
          [
           28,
           94762,
           0.3035961911057213,
           15352.521936894913,
           "Cluster 1"
          ],
          [
           28,
           99611,
           0.2795578681222758,
           15345.658121390226,
           "Cluster 1"
          ],
          [
           33,
           98033,
           0.30951111585458696,
           15774.690605560645,
           "Cluster 1"
          ],
          [
           30,
           107926,
           0.2301607310342209,
           15520.536309707046,
           "Cluster 1"
          ],
          [
           33,
           111813,
           0.2382437868013801,
           15901.238967721652,
           "Cluster 1"
          ],
          [
           82,
           121642,
           0.054653190464209855,
           14177.513323069668,
           "Cluster 1"
          ],
          [
           84,
           115237,
           0.06877820981367339,
           14396.568282311468,
           "Cluster 1"
          ],
          [
           29,
           102028,
           0.2889604994756899,
           14634.430692347907,
           "Cluster 1"
          ],
          [
           88,
           123651,
           0.02902714029105191,
           13504.577571797938,
           "Cluster 1"
          ],
          [
           30,
           107302,
           0.2396771776819925,
           13993.24401848172,
           "Cluster 1"
          ],
          [
           36,
           109038,
           0.3242132027621541,
           16502.389477657125,
           "Cluster 1"
          ],
          [
           35,
           107131,
           0.2424731551814769,
           16200.013010637644,
           "Cluster 1"
          ],
          [
           38,
           104738,
           0.4059588503683713,
           15634.313868027426,
           "Cluster 1"
          ],
          [
           33,
           116616,
           0.3209300476959025,
           15104.49811363824,
           "Cluster 1"
          ],
          [
           84,
           114406,
           0.12383837464097253,
           16840.570583774286,
           "Cluster 1"
          ],
          [
           39,
           100661,
           0.3766412501689559,
           16873.128638209408,
           "Cluster 1"
          ],
          [
           37,
           106894,
           0.3432357689892068,
           14075.217365594552,
           "Cluster 1"
          ],
          [
           31,
           107115,
           0.3280420856997338,
           15693.499570389358,
           "Cluster 1"
          ],
          [
           35,
           110106,
           0.2867692710102035,
           14924.537223475552,
           "Cluster 1"
          ],
          [
           30,
           96241,
           0.3773384910014747,
           15485.156009739387,
           "Cluster 1"
          ],
          [
           35,
           108499,
           0.2612719132713158,
           16046.08301542436,
           "Cluster 1"
          ],
          [
           86,
           124372,
           0,
           15374.465952896948,
           "Cluster 1"
          ],
          [
           34,
           104284,
           0.34454541177986714,
           13541.801770810564,
           "Cluster 1"
          ],
          [
           32,
           102035,
           0.26207035616469115,
           14209.932802396092,
           "Cluster 1"
          ],
          [
           86,
           128378,
           0.12608340975849852,
           13585.778624417357,
           "Cluster 1"
          ],
          [
           31,
           107932,
           0.3742421881649845,
           12207.526078087714,
           "Cluster 1"
          ],
          [
           35,
           104678,
           0.3279928581002429,
           15422.055799721802,
           "Cluster 1"
          ],
          [
           34,
           107255,
           0.3283430294033384,
           15130.595225546444,
           "Cluster 1"
          ],
          [
           36,
           109809,
           0.355660187354229,
           14978.502144076487,
           "Cluster 1"
          ],
          [
           28,
           111937,
           0.2537347301209012,
           13669.110632506934,
           "Cluster 1"
          ],
          [
           28,
           100592,
           0.2595983487762325,
           15520.355775683653,
           "Cluster 1"
          ],
          [
           86,
           115689,
           0.057842956133581036,
           14803.153273493916,
           "Cluster 1"
          ],
          [
           30,
           106350,
           0.3694162857692797,
           14863.233588279092,
           "Cluster 1"
          ],
          [
           93,
           126601,
           0.025170169477345742,
           14117.44703707058,
           "Cluster 1"
          ],
          [
           31,
           110882,
           0.3252806065281125,
           14004.61374291491,
           "Cluster 1"
          ],
          [
           82,
           126257,
           0.07809619439943333,
           15816.101922357922,
           "Cluster 1"
          ],
          [
           31,
           105036,
           0.2722279930569666,
           16465.063521972657,
           "Cluster 1"
          ],
          [
           38,
           115146,
           0.3144900731288347,
           14798.868153501797,
           "Cluster 1"
          ],
          [
           32,
           110439,
           0.30699015827427256,
           13873.50756985278,
           "Cluster 1"
          ],
          [
           29,
           103223,
           0.3388162937437745,
           16252.883053065632,
           "Cluster 1"
          ],
          [
           37,
           110595,
           0.28664850500199834,
           15235.445457133224,
           "Cluster 1"
          ],
          [
           27,
           106758,
           0.2662947092346973,
           14942.560723173168,
           "Cluster 1"
          ],
          [
           29,
           99161,
           0.3079200040396055,
           15631.836772980834,
           "Cluster 1"
          ],
          [
           37,
           110732,
           0.3226762482802641,
           14265.351840497759,
           "Cluster 1"
          ],
          [
           25,
           106772,
           0.3909047196000217,
           16353.471790615497,
           "Cluster 1"
          ],
          [
           31,
           105006,
           0.3741658782934958,
           15419.41776312329,
           "Cluster 1"
          ],
          [
           37,
           108651,
           0.1923436158292553,
           15881.242198260683,
           "Cluster 1"
          ],
          [
           34,
           98752,
           0.3720337099315751,
           14975.384238944334,
           "Cluster 1"
          ],
          [
           25,
           101503,
           0.28846885607409833,
           15026.262148820157,
           "Cluster 1"
          ],
          [
           29,
           101943,
           0.3256230614429721,
           14619.354282159029,
           "Cluster 1"
          ],
          [
           31,
           102618,
           0.2763779214063509,
           13209.301612848929,
           "Cluster 1"
          ],
          [
           22,
           109152,
           0.32344641636242355,
           16022.482482363523,
           "Cluster 1"
          ],
          [
           34,
           98993,
           0.3229930887837502,
           16138.079373431863,
           "Cluster 1"
          ],
          [
           32,
           106543,
           0.3107432443044589,
           14337.288328489092,
           "Cluster 1"
          ],
          [
           31,
           101209,
           0.3043229953712128,
           16917.571691218804,
           "Cluster 1"
          ],
          [
           35,
           101691,
           0.3491110181825554,
           14152.671689505803,
           "Cluster 1"
          ],
          [
           44,
           114642,
           0.3092049154534188,
           14067.617788950563,
           "Cluster 1"
          ],
          [
           34,
           103204,
           0.30108735378393314,
           15149.810421179482,
           "Cluster 1"
          ],
          [
           32,
           117050,
           0.3113555349689566,
           14310.546206532163,
           "Cluster 1"
          ],
          [
           34,
           102291,
           0.24786227611431386,
           15819.577601160518,
           "Cluster 1"
          ],
          [
           36,
           101811,
           0.3406667947415742,
           15048.89961242685,
           "Cluster 1"
          ],
          [
           32,
           101905,
           0.3074763135926987,
           17532.16478349903,
           "Cluster 1"
          ],
          [
           32,
           95536,
           0.26624605681014885,
           15420.625644002741,
           "Cluster 1"
          ],
          [
           30,
           108928,
           0.30386361503665704,
           14339.652917342728,
           "Cluster 1"
          ],
          [
           28,
           97965,
           0.3134915614599665,
           14981.402201916082,
           "Cluster 1"
          ],
          [
           35,
           102308,
           0.2751372175012177,
           14874.557991326978,
           "Cluster 1"
          ],
          [
           33,
           92569,
           0.33607980556714456,
           13765.685995748696,
           "Cluster 1"
          ],
          [
           29,
           111426,
           0.4002811559385194,
           14352.643773230728,
           "Cluster 1"
          ],
          [
           33,
           99637,
           0.2282170773869075,
           15139.403142647532,
           "Cluster 1"
          ],
          [
           31,
           104388,
           0.2864732316476225,
           14406.561248437842,
           "Cluster 1"
          ]
         ],
         "hoverlabel": {
          "namelength": 0
         },
         "hovertemplate": "Cluster=%{customdata[4]}<br>Age=%{customdata[0]}<br>Income=%{customdata[1]}<br>SpendingScore=%{customdata[2]}<br>Savings=%{customdata[3]}",
         "legendgroup": "Cluster=Cluster 1",
         "marker": {
          "color": "#EF553B"
         },
         "name": "Cluster=Cluster 1",
         "notched": true,
         "offsetgroup": "Cluster=Cluster 1",
         "showlegend": false,
         "type": "box",
         "x": [
          34,
          35,
          33,
          33,
          34,
          36,
          29,
          84,
          83,
          36,
          31,
          38,
          31,
          36,
          38,
          39,
          90,
          83,
          35,
          33,
          32,
          31,
          31,
          39,
          37,
          87,
          33,
          37,
          31,
          37,
          88,
          91,
          30,
          33,
          36,
          28,
          36,
          33,
          85,
          26,
          24,
          36,
          33,
          30,
          29,
          40,
          42,
          28,
          34,
          85,
          31,
          35,
          37,
          43,
          89,
          37,
          90,
          31,
          29,
          83,
          84,
          30,
          29,
          88,
          33,
          30,
          34,
          35,
          30,
          92,
          30,
          77,
          34,
          31,
          33,
          37,
          29,
          36,
          31,
          29,
          31,
          28,
          28,
          33,
          30,
          33,
          82,
          84,
          29,
          88,
          30,
          36,
          35,
          38,
          33,
          84,
          39,
          37,
          31,
          35,
          30,
          35,
          86,
          34,
          32,
          86,
          31,
          35,
          34,
          36,
          28,
          28,
          86,
          30,
          93,
          31,
          82,
          31,
          38,
          32,
          29,
          37,
          27,
          29,
          37,
          25,
          31,
          37,
          34,
          25,
          29,
          31,
          22,
          34,
          32,
          31,
          35,
          44,
          34,
          32,
          34,
          36,
          32,
          32,
          30,
          28,
          35,
          33,
          29,
          33,
          31
         ],
         "xaxis": "x2",
         "yaxis": "y2"
        },
        {
         "alignmentgroup": "True",
         "bingroup": "x",
         "hoverlabel": {
          "namelength": 0
         },
         "hovertemplate": "Cluster=Cluster 2<br>Age=%{x}<br>count=%{y}",
         "legendgroup": "Cluster=Cluster 2",
         "marker": {
          "color": "#00cc96",
          "opacity": 0.7
         },
         "name": "Cluster=Cluster 2",
         "offsetgroup": "Cluster=Cluster 2",
         "orientation": "v",
         "showlegend": true,
         "type": "histogram",
         "x": [
          65,
          59,
          63,
          61,
          58,
          67,
          61,
          59,
          59,
          60,
          64,
          67,
          56,
          58,
          65,
          59,
          62,
          63,
          65,
          59,
          57,
          59,
          67,
          60,
          62,
          60,
          66,
          58,
          55,
          60,
          63,
          61,
          57,
          56,
          51,
          61,
          59,
          58,
          58,
          55,
          61,
          58,
          68,
          61,
          56,
          58,
          56,
          60,
          58,
          62,
          66,
          57,
          66,
          63,
          64,
          62,
          62,
          60,
          65,
          60,
          58,
          63,
          58,
          62,
          59,
          65,
          62,
          59,
          66,
          64,
          62,
          61,
          56,
          62,
          60,
          56,
          63,
          56,
          58,
          59,
          62,
          59,
          54,
          61,
          55,
          53,
          55,
          61,
          59,
          59,
          56,
          61,
          61,
          60,
          57,
          61,
          55,
          53,
          61,
          64,
          62,
          55,
          58,
          57,
          59,
          58,
          59,
          64,
          62,
          64,
          57,
          57,
          56,
          61,
          64,
          63,
          62,
          61,
          59,
          67,
          56,
          58,
          61,
          59,
          58,
          57,
          56,
          58,
          66,
          64,
          59,
          59,
          64,
          61,
          59,
          57,
          63,
          57,
          58,
          62,
          59,
          59,
          61,
          53,
          58,
          68,
          58,
          55,
          59,
          60,
          59,
          63,
          59,
          56,
          62,
          60,
          55
         ],
         "xaxis": "x",
         "yaxis": "y"
        },
        {
         "alignmentgroup": "True",
         "customdata": [
          [
           65,
           74430,
           0.7517741617758547,
           7145.251128357927,
           "Cluster 2"
          ],
          [
           59,
           67346,
           0.7251568963089163,
           8857.849116294088,
           "Cluster 2"
          ],
          [
           63,
           82343,
           0.7323186222078123,
           8090.706739679063,
           "Cluster 2"
          ],
          [
           61,
           65914,
           0.7781022309770123,
           6406.8771303520325,
           "Cluster 2"
          ],
          [
           58,
           78078,
           0.7837795500405715,
           6483.049643745244,
           "Cluster 2"
          ],
          [
           67,
           68663,
           0.7738336308243648,
           7451.9940140258705,
           "Cluster 2"
          ],
          [
           61,
           67372,
           0.7340673095092516,
           6618.549336247915,
           "Cluster 2"
          ],
          [
           59,
           73350,
           0.6797735912164855,
           6710.5740183754415,
           "Cluster 2"
          ],
          [
           59,
           68038,
           0.8014869916095588,
           7719.283632687176,
           "Cluster 2"
          ],
          [
           60,
           65942,
           0.8005783854654352,
           5253.2650066086435,
           "Cluster 2"
          ],
          [
           64,
           62886,
           0.7480162682831766,
           8302.588638401632,
           "Cluster 2"
          ],
          [
           67,
           78702,
           0.7632736815688779,
           5030.364838791924,
           "Cluster 2"
          ],
          [
           56,
           73516,
           0.806499154055182,
           7696.832373798451,
           "Cluster 2"
          ],
          [
           58,
           70676,
           0.7640283880376706,
           7664.415650964042,
           "Cluster 2"
          ],
          [
           65,
           71229,
           0.7878897626638453,
           9024.337460598084,
           "Cluster 2"
          ],
          [
           59,
           69408,
           0.8799059975919311,
           6491.771149967824,
           "Cluster 2"
          ],
          [
           62,
           73675,
           0.7966191667425384,
           4688.657157271711,
           "Cluster 2"
          ],
          [
           63,
           70580,
           0.7665090449070475,
           7262.108723452133,
           "Cluster 2"
          ],
          [
           65,
           70430,
           0.6969942581249643,
           6971.164886262858,
           "Cluster 2"
          ],
          [
           59,
           73596,
           0.8567042188430352,
           8281.718740320448,
           "Cluster 2"
          ],
          [
           57,
           79794,
           0.82240840085096,
           5893.975284946178,
           "Cluster 2"
          ],
          [
           59,
           90422,
           0.8062102206275251,
           6746.281083820821,
           "Cluster 2"
          ],
          [
           67,
           80914,
           0.8196642592960329,
           6833.507136694643,
           "Cluster 2"
          ],
          [
           60,
           70054,
           0.7143393610830643,
           6609.918507412548,
           "Cluster 2"
          ],
          [
           62,
           67731,
           0.8191699488980382,
           5956.555677017446,
           "Cluster 2"
          ],
          [
           60,
           63476,
           0.7519000198498227,
           7543.542801728056,
           "Cluster 2"
          ],
          [
           66,
           77052,
           0.7072624347132287,
           6296.417311227459,
           "Cluster 2"
          ],
          [
           58,
           69247,
           0.7237211912021976,
           8715.67957429646,
           "Cluster 2"
          ],
          [
           55,
           76831,
           0.7421137340413241,
           7806.398750466399,
           "Cluster 2"
          ],
          [
           60,
           74460,
           0.7545393292392412,
           7567.6476522203675,
           "Cluster 2"
          ],
          [
           63,
           67370,
           0.8999405530923943,
           5985.077029740457,
           "Cluster 2"
          ],
          [
           61,
           78837,
           0.7459489746307642,
           6811.303235949058,
           "Cluster 2"
          ],
          [
           57,
           72055,
           0.7549723463413129,
           6544.847498075687,
           "Cluster 2"
          ],
          [
           56,
           80431,
           0.7594315957853627,
           8150.55743948241,
           "Cluster 2"
          ],
          [
           51,
           72086,
           0.7911147257599156,
           6732.096068632267,
           "Cluster 2"
          ],
          [
           61,
           72027,
           0.7623249166772856,
           6926.123598416466,
           "Cluster 2"
          ],
          [
           59,
           82199,
           0.8035145098215853,
           5880.814834306347,
           "Cluster 2"
          ],
          [
           58,
           70369,
           0.9045204855363144,
           7461.567502649429,
           "Cluster 2"
          ],
          [
           58,
           80248,
           0.7249557054919687,
           7641.16038162423,
           "Cluster 2"
          ],
          [
           55,
           64768,
           0.7332568512323248,
           6486.353872691102,
           "Cluster 2"
          ],
          [
           61,
           68842,
           0.7544065421993587,
           4077.6586565080543,
           "Cluster 2"
          ],
          [
           58,
           78611,
           0.910416682938019,
           7665.884294519009,
           "Cluster 2"
          ],
          [
           68,
           68944,
           0.7455674638713768,
           6828.709702363695,
           "Cluster 2"
          ],
          [
           61,
           74282,
           0.6922364738673796,
           7286.754751068365,
           "Cluster 2"
          ],
          [
           56,
           65313,
           0.7546029986455771,
           5574.2436767070985,
           "Cluster 2"
          ],
          [
           58,
           77769,
           0.7913287771988531,
           6559.8299230048315,
           "Cluster 2"
          ],
          [
           56,
           68698,
           0.7162678503859907,
           7070.967006969191,
           "Cluster 2"
          ],
          [
           60,
           79969,
           0.812104912914789,
           4879.334872972362,
           "Cluster 2"
          ],
          [
           58,
           69879,
           0.7209986871945887,
           6669.033518051874,
           "Cluster 2"
          ],
          [
           62,
           73480,
           0.7391949797931453,
           6277.675150528886,
           "Cluster 2"
          ],
          [
           66,
           72571,
           0.8115483367376335,
           6509.41150610998,
           "Cluster 2"
          ],
          [
           57,
           76594,
           0.7906578552491133,
           6584.654681310476,
           "Cluster 2"
          ],
          [
           66,
           64866,
           0.7665941891374249,
           5037.899138583947,
           "Cluster 2"
          ],
          [
           63,
           72815,
           0.8200359737627068,
           5504.385543801038,
           "Cluster 2"
          ],
          [
           64,
           71692,
           0.8426521453196145,
           7002.9765543033545,
           "Cluster 2"
          ],
          [
           62,
           63596,
           0.7453271943508174,
           6142.201619345869,
           "Cluster 2"
          ],
          [
           62,
           62650,
           0.766572365027147,
           7533.673609198676,
           "Cluster 2"
          ],
          [
           60,
           71436,
           0.8320590985324969,
           8557.86012627717,
           "Cluster 2"
          ],
          [
           65,
           65736,
           0.7785687658100923,
           6387.2196944302905,
           "Cluster 2"
          ],
          [
           60,
           70663,
           0.7153396972946453,
           7557.937593550947,
           "Cluster 2"
          ],
          [
           58,
           70259,
           0.7697129169369328,
           7101.674514204499,
           "Cluster 2"
          ],
          [
           63,
           80705,
           0.7626699527314824,
           5154.330634621805,
           "Cluster 2"
          ],
          [
           58,
           75757,
           0.8097944168848634,
           7390.5772934370325,
           "Cluster 2"
          ],
          [
           62,
           71050,
           0.7353568506694507,
           6988.197368273879,
           "Cluster 2"
          ],
          [
           59,
           67781,
           0.7225483489421433,
           6701.527664794541,
           "Cluster 2"
          ],
          [
           65,
           66017,
           0.7861892594159869,
           6159.662935925753,
           "Cluster 2"
          ],
          [
           62,
           80093,
           0.6909167811268888,
           6756.749072752337,
           "Cluster 2"
          ],
          [
           59,
           67988,
           0.8114707012366371,
           7255.903114334659,
           "Cluster 2"
          ],
          [
           66,
           82526,
           0.7696800667721441,
           6205.662650191712,
           "Cluster 2"
          ],
          [
           64,
           76364,
           0.6993887663543108,
           5772.1171358549755,
           "Cluster 2"
          ],
          [
           62,
           68279,
           0.7196850779929922,
           7028.675510384212,
           "Cluster 2"
          ],
          [
           61,
           69698,
           0.7416839698444291,
           8777.077471725162,
           "Cluster 2"
          ],
          [
           56,
           68463,
           0.8157116929554062,
           8995.180087953215,
           "Cluster 2"
          ],
          [
           62,
           78413,
           0.7907090657200839,
           6961.2041923680945,
           "Cluster 2"
          ],
          [
           60,
           65054,
           0.7086131723969877,
           5417.237293788358,
           "Cluster 2"
          ],
          [
           56,
           84386,
           0.7849450699605269,
           7270.41953428175,
           "Cluster 2"
          ],
          [
           63,
           85761,
           0.8005979105724924,
           7175.090218501247,
           "Cluster 2"
          ],
          [
           56,
           86484,
           0.7321233689266612,
           8777.496176839057,
           "Cluster 2"
          ],
          [
           58,
           70798,
           0.7535283874245788,
           5330.73989989779,
           "Cluster 2"
          ],
          [
           59,
           81799,
           0.7910820467274178,
           5417.661426197439,
           "Cluster 2"
          ],
          [
           62,
           74751,
           0.7026569520102857,
           9258.99296503407,
           "Cluster 2"
          ],
          [
           59,
           74373,
           0.7656795619984281,
           7346.334503537976,
           "Cluster 2"
          ],
          [
           54,
           76500,
           0.7851978501165687,
           6878.884248553974,
           "Cluster 2"
          ],
          [
           61,
           71933,
           0.8441067966472876,
           8022.208541100706,
           "Cluster 2"
          ],
          [
           55,
           71621,
           0.7533426836166189,
           7780.589913955977,
           "Cluster 2"
          ],
          [
           53,
           76667,
           0.7600576501232099,
           5168.225474983632,
           "Cluster 2"
          ],
          [
           55,
           78761,
           0.8271741985123882,
           8376.74947779104,
           "Cluster 2"
          ],
          [
           61,
           76955,
           0.7771175646074471,
           7467.036702314494,
           "Cluster 2"
          ],
          [
           59,
           65700,
           0.8114711740198254,
           6932.487932327357,
           "Cluster 2"
          ],
          [
           59,
           69738,
           0.7421121217155721,
           7151.650866065035,
           "Cluster 2"
          ],
          [
           56,
           63866,
           0.7618879582513512,
           7762.255066659051,
           "Cluster 2"
          ],
          [
           61,
           74117,
           0.7702140596767938,
           5103.609230428381,
           "Cluster 2"
          ],
          [
           61,
           63846,
           0.8278622414878984,
           7283.504772674617,
           "Cluster 2"
          ],
          [
           60,
           70012,
           0.7944610508231513,
           7263.242447729872,
           "Cluster 2"
          ],
          [
           57,
           75332,
           0.7215024376129366,
           6845.056822204781,
           "Cluster 2"
          ],
          [
           61,
           73245,
           0.811160373170345,
           7413.784487271215,
           "Cluster 2"
          ],
          [
           55,
           74356,
           0.7998269700906482,
           6484.630737953294,
           "Cluster 2"
          ],
          [
           53,
           62117,
           0.7331388477995737,
           7500.452413594261,
           "Cluster 2"
          ],
          [
           61,
           69001,
           0.8216687745413516,
           5074.12121172259,
           "Cluster 2"
          ],
          [
           64,
           60493,
           0.7680563479442216,
           7708.112609459162,
           "Cluster 2"
          ],
          [
           62,
           69741,
           0.8462196017575947,
           5781.658046536959,
           "Cluster 2"
          ],
          [
           55,
           71056,
           0.7565897119333272,
           7464.163256732262,
           "Cluster 2"
          ],
          [
           58,
           74340,
           0.7351650452097145,
           7259.540921675672,
           "Cluster 2"
          ],
          [
           57,
           79470,
           0.7734352958312237,
           6773.049089777121,
           "Cluster 2"
          ],
          [
           59,
           72588,
           0.8017156979122673,
           6300.8437570950255,
           "Cluster 2"
          ],
          [
           58,
           77101,
           0.7667195837506832,
           8148.49184821177,
           "Cluster 2"
          ],
          [
           59,
           74576,
           0.7812961239072382,
           10547.775367695343,
           "Cluster 2"
          ],
          [
           64,
           88361,
           0.7745562258521365,
           7240.759687480846,
           "Cluster 2"
          ],
          [
           62,
           69391,
           0.7921059737158539,
           6518.283467894094,
           "Cluster 2"
          ],
          [
           64,
           86283,
           0.7568019251873561,
           6852.5548669147165,
           "Cluster 2"
          ],
          [
           57,
           74014,
           0.787378081122989,
           5783.846928267082,
           "Cluster 2"
          ],
          [
           57,
           69655,
           0.6748906779058501,
           5889.831167170132,
           "Cluster 2"
          ],
          [
           56,
           67274,
           0.7798516671891869,
           6652.391024403152,
           "Cluster 2"
          ],
          [
           61,
           65647,
           0.7174899773841509,
           7497.231607003855,
           "Cluster 2"
          ],
          [
           64,
           64331,
           0.7571277508774099,
           5815.660096290825,
           "Cluster 2"
          ],
          [
           63,
           75078,
           0.7831591503681397,
           7468.8510795028005,
           "Cluster 2"
          ],
          [
           62,
           62747,
           0.7705945596869115,
           5852.326242628098,
           "Cluster 2"
          ],
          [
           61,
           73495,
           0.7727563051023116,
           9288.189785744367,
           "Cluster 2"
          ],
          [
           59,
           75505,
           0.7682786576081454,
           5006.528691371692,
           "Cluster 2"
          ],
          [
           67,
           59243,
           0.7436599996604758,
           5446.557472721708,
           "Cluster 2"
          ],
          [
           56,
           78992,
           0.8122757021441627,
           7285.18043685174,
           "Cluster 2"
          ],
          [
           58,
           77559,
           0.7122963723872477,
           5742.524488088997,
           "Cluster 2"
          ],
          [
           61,
           72060,
           0.8334590233217959,
           7924.6411381540165,
           "Cluster 2"
          ],
          [
           59,
           56321,
           0.806565925193039,
           6129.288986032587,
           "Cluster 2"
          ],
          [
           58,
           70272,
           0.8229596005059499,
           5290.087044285296,
           "Cluster 2"
          ],
          [
           57,
           65608,
           0.7662313009024402,
           6904.318224287022,
           "Cluster 2"
          ],
          [
           56,
           75599,
           0.7737370986430746,
           6799.625271842961,
           "Cluster 2"
          ],
          [
           58,
           76052,
           0.7215881830727278,
           6681.9843863770275,
           "Cluster 2"
          ],
          [
           66,
           71672,
           0.7538892176112998,
           7387.835437850721,
           "Cluster 2"
          ],
          [
           64,
           78801,
           0.7403674891662984,
           6420.9440712002615,
           "Cluster 2"
          ],
          [
           59,
           69460,
           0.7527238381125997,
           6101.372146632121,
           "Cluster 2"
          ],
          [
           59,
           67401,
           0.7114339697492305,
           6529.586309935448,
           "Cluster 2"
          ],
          [
           64,
           76410,
           0.7756041848937439,
           6135.308197117819,
           "Cluster 2"
          ],
          [
           61,
           71171,
           0.7210804930623951,
           6457.790641224788,
           "Cluster 2"
          ],
          [
           59,
           77978,
           0.7188952048526104,
           8316.31110205122,
           "Cluster 2"
          ],
          [
           57,
           76573,
           0.8405990704520518,
           6225.3760824332285,
           "Cluster 2"
          ],
          [
           63,
           69849,
           0.7403870808915297,
           7670.6909659413295,
           "Cluster 2"
          ],
          [
           57,
           64803,
           0.7285849289103553,
           6255.552641057161,
           "Cluster 2"
          ],
          [
           58,
           78635,
           0.7864400503429185,
           7162.739043055361,
           "Cluster 2"
          ],
          [
           62,
           67030,
           0.7467384433463651,
           6740.765182071713,
           "Cluster 2"
          ],
          [
           59,
           73057,
           0.8302949092020397,
           7819.393215767329,
           "Cluster 2"
          ],
          [
           59,
           71302,
           0.7020090041734849,
           6595.726010227134,
           "Cluster 2"
          ],
          [
           61,
           71033,
           0.8380950724014863,
           9456.876962701137,
           "Cluster 2"
          ],
          [
           53,
           74996,
           0.7387310917031671,
           7821.447803561914,
           "Cluster 2"
          ],
          [
           58,
           80278,
           0.8233589910091558,
           6335.97831998802,
           "Cluster 2"
          ],
          [
           68,
           77648,
           0.7965446939835457,
           6190.864082788901,
           "Cluster 2"
          ],
          [
           58,
           83351,
           0.8406978038692191,
           6673.909711092488,
           "Cluster 2"
          ],
          [
           55,
           76057,
           0.8778279844516369,
           6132.898204816149,
           "Cluster 2"
          ],
          [
           59,
           75495,
           0.7945029052198103,
           6702.9519263157545,
           "Cluster 2"
          ],
          [
           60,
           67491,
           0.84661848692906,
           7180.713788260257,
           "Cluster 2"
          ],
          [
           59,
           80876,
           0.6573140731575163,
           7232.825142650888,
           "Cluster 2"
          ],
          [
           63,
           56875,
           0.7622805817657738,
           7837.233619544163,
           "Cluster 2"
          ],
          [
           59,
           69115,
           0.7598834338453199,
           5997.690199856996,
           "Cluster 2"
          ],
          [
           56,
           60059,
           0.7275840223364691,
           7166.858605155183,
           "Cluster 2"
          ],
          [
           62,
           69326,
           0.7980123380544829,
           7003.095703317772,
           "Cluster 2"
          ],
          [
           60,
           65340,
           0.7316484923943142,
           8354.196507802662,
           "Cluster 2"
          ],
          [
           55,
           73895,
           0.7471254610291731,
           5563.906948891499,
           "Cluster 2"
          ]
         ],
         "hoverlabel": {
          "namelength": 0
         },
         "hovertemplate": "Cluster=%{customdata[4]}<br>Age=%{customdata[0]}<br>Income=%{customdata[1]}<br>SpendingScore=%{customdata[2]}<br>Savings=%{customdata[3]}",
         "legendgroup": "Cluster=Cluster 2",
         "marker": {
          "color": "#00cc96"
         },
         "name": "Cluster=Cluster 2",
         "notched": true,
         "offsetgroup": "Cluster=Cluster 2",
         "showlegend": false,
         "type": "box",
         "x": [
          65,
          59,
          63,
          61,
          58,
          67,
          61,
          59,
          59,
          60,
          64,
          67,
          56,
          58,
          65,
          59,
          62,
          63,
          65,
          59,
          57,
          59,
          67,
          60,
          62,
          60,
          66,
          58,
          55,
          60,
          63,
          61,
          57,
          56,
          51,
          61,
          59,
          58,
          58,
          55,
          61,
          58,
          68,
          61,
          56,
          58,
          56,
          60,
          58,
          62,
          66,
          57,
          66,
          63,
          64,
          62,
          62,
          60,
          65,
          60,
          58,
          63,
          58,
          62,
          59,
          65,
          62,
          59,
          66,
          64,
          62,
          61,
          56,
          62,
          60,
          56,
          63,
          56,
          58,
          59,
          62,
          59,
          54,
          61,
          55,
          53,
          55,
          61,
          59,
          59,
          56,
          61,
          61,
          60,
          57,
          61,
          55,
          53,
          61,
          64,
          62,
          55,
          58,
          57,
          59,
          58,
          59,
          64,
          62,
          64,
          57,
          57,
          56,
          61,
          64,
          63,
          62,
          61,
          59,
          67,
          56,
          58,
          61,
          59,
          58,
          57,
          56,
          58,
          66,
          64,
          59,
          59,
          64,
          61,
          59,
          57,
          63,
          57,
          58,
          62,
          59,
          59,
          61,
          53,
          58,
          68,
          58,
          55,
          59,
          60,
          59,
          63,
          59,
          56,
          62,
          60,
          55
         ],
         "xaxis": "x2",
         "yaxis": "y2"
        },
        {
         "alignmentgroup": "True",
         "bingroup": "x",
         "hoverlabel": {
          "namelength": 0
         },
         "hovertemplate": "Cluster=Cluster 3<br>Age=%{x}<br>count=%{y}",
         "legendgroup": "Cluster=Cluster 3",
         "marker": {
          "color": "#ab63fa",
          "opacity": 0.7
         },
         "name": "Cluster=Cluster 3",
         "offsetgroup": "Cluster=Cluster 3",
         "orientation": "v",
         "showlegend": true,
         "type": "histogram",
         "x": [
          25,
          18,
          27,
          31,
          20,
          22,
          21,
          26,
          17,
          30,
          22,
          29,
          25,
          17,
          28,
          25,
          17,
          28,
          25,
          21,
          26,
          28,
          20,
          20,
          24,
          26,
          28,
          23,
          26,
          24,
          23,
          22,
          26,
          17,
          24,
          24,
          25,
          25,
          27,
          24,
          27,
          28,
          24,
          29,
          28,
          29,
          18,
          23,
          23,
          24
         ],
         "xaxis": "x",
         "yaxis": "y"
        },
        {
         "alignmentgroup": "True",
         "customdata": [
          [
           25,
           138021,
           0.944017175810026,
           3005.577482475175,
           "Cluster 3"
          ],
          [
           18,
           130813,
           0.8908912472675831,
           5256.434559627984,
           "Cluster 3"
          ],
          [
           27,
           121468,
           0.9206489879585448,
           5011.112062373318,
           "Cluster 3"
          ],
          [
           31,
           122924,
           0.89046022417733,
           3071.944576152969,
           "Cluster 3"
          ],
          [
           20,
           129142,
           0.8870519941988757,
           5603.121027746489,
           "Cluster 3"
          ],
          [
           22,
           134209,
           0.8706980046008759,
           5138.109568643242,
           "Cluster 3"
          ],
          [
           21,
           123678,
           0.8320252689431032,
           2838.8158208359087,
           "Cluster 3"
          ],
          [
           26,
           123005,
           0.9845261943505972,
           4371.23473281147,
           "Cluster 3"
          ],
          [
           17,
           134966,
           0.9072421746334024,
           4128.044795832438,
           "Cluster 3"
          ],
          [
           30,
           122788,
           0.8728724057273831,
           5706.149573297764,
           "Cluster 3"
          ],
          [
           22,
           132948,
           0.8898001728484242,
           2839.7863574778585,
           "Cluster 3"
          ],
          [
           29,
           131578,
           0.8470341025128371,
           3535.5143522162816,
           "Cluster 3"
          ],
          [
           25,
           128625,
           0.8167389887954251,
           4914.117127206949,
           "Cluster 3"
          ],
          [
           17,
           134734,
           0.8579216672301577,
           0,
           "Cluster 3"
          ],
          [
           28,
           117108,
           0.857078493256913,
           4749.879237491619,
           "Cluster 3"
          ],
          [
           25,
           130361,
           0.9254385568124625,
           4691.55213906238,
           "Cluster 3"
          ],
          [
           17,
           123828,
           0.9420129076091708,
           3798.8403998790254,
           "Cluster 3"
          ],
          [
           28,
           123153,
           0.9842407862639496,
           3697.5136453853297,
           "Cluster 3"
          ],
          [
           25,
           120957,
           0.8776734245644572,
           5590.447216086322,
           "Cluster 3"
          ],
          [
           21,
           129726,
           0.9517923119702948,
           4550.7995216878835,
           "Cluster 3"
          ],
          [
           26,
           125662,
           0.9268183658411524,
           6089.47832250152,
           "Cluster 3"
          ],
          [
           28,
           123229,
           0.8733219541371664,
           610.4462190811464,
           "Cluster 3"
          ],
          [
           20,
           129469,
           0.9399954311014268,
           5522.573424346325,
           "Cluster 3"
          ],
          [
           20,
           122581,
           0.8940806156500202,
           4444.4476842520535,
           "Cluster 3"
          ],
          [
           24,
           134384,
           0.8747208244890404,
           3731.3397614449186,
           "Cluster 3"
          ],
          [
           26,
           127320,
           0.8250298045601994,
           5495.642137901324,
           "Cluster 3"
          ],
          [
           28,
           121216,
           0.8569692823607705,
           5349.065446955783,
           "Cluster 3"
          ],
          [
           23,
           129937,
           0.8727356634334804,
           4102.065424707484,
           "Cluster 3"
          ],
          [
           26,
           126617,
           0.8770521049168103,
           2913.368146562765,
           "Cluster 3"
          ],
          [
           24,
           127352,
           0.9054521594192038,
           2961.716874324024,
           "Cluster 3"
          ],
          [
           23,
           138443,
           0.9226565539031124,
           3297.058843994153,
           "Cluster 3"
          ],
          [
           22,
           120525,
           1,
           5495.165732288548,
           "Cluster 3"
          ],
          [
           26,
           131827,
           0.8807194909406801,
           4352.699304837541,
           "Cluster 3"
          ],
          [
           17,
           136255,
           0.935876103673024,
           4126.226651408871,
           "Cluster 3"
          ],
          [
           24,
           120465,
           0.9074853865005544,
           4838.348350281593,
           "Cluster 3"
          ],
          [
           24,
           130974,
           0.9118386021444842,
           4420.0727101369375,
           "Cluster 3"
          ],
          [
           25,
           130934,
           0.9137660194970426,
           3942.389134492165,
           "Cluster 3"
          ],
          [
           25,
           131009,
           0.8640569016468125,
           4792.426581212785,
           "Cluster 3"
          ],
          [
           27,
           122671,
           0.910107112831516,
           4206.287238709509,
           "Cluster 3"
          ],
          [
           24,
           136644,
           0.8716976842508705,
           1617.2257000775644,
           "Cluster 3"
          ],
          [
           27,
           125008,
           0.9596454072349518,
           2963.6377080587795,
           "Cluster 3"
          ],
          [
           28,
           127699,
           0.8814245468734898,
           5490.814955670689,
           "Cluster 3"
          ],
          [
           24,
           134389,
           0.9388521378701832,
           4573.60634580409,
           "Cluster 3"
          ],
          [
           29,
           142000,
           0.9400873084125808,
           5349.821181717665,
           "Cluster 3"
          ],
          [
           28,
           129019,
           0.9308319590820414,
           3016.8206434862623,
           "Cluster 3"
          ],
          [
           29,
           122264,
           0.8985788437238403,
           2494.55627432471,
           "Cluster 3"
          ],
          [
           18,
           123718,
           0.8065528615489801,
           4420.445820614172,
           "Cluster 3"
          ],
          [
           23,
           126500,
           0.8650328592458483,
           3270.150434407087,
           "Cluster 3"
          ],
          [
           23,
           120226,
           0.8819129663041946,
           4698.294710949844,
           "Cluster 3"
          ],
          [
           24,
           129087,
           0.8271179432765905,
           3290.829468618805,
           "Cluster 3"
          ]
         ],
         "hoverlabel": {
          "namelength": 0
         },
         "hovertemplate": "Cluster=%{customdata[4]}<br>Age=%{customdata[0]}<br>Income=%{customdata[1]}<br>SpendingScore=%{customdata[2]}<br>Savings=%{customdata[3]}",
         "legendgroup": "Cluster=Cluster 3",
         "marker": {
          "color": "#ab63fa"
         },
         "name": "Cluster=Cluster 3",
         "notched": true,
         "offsetgroup": "Cluster=Cluster 3",
         "showlegend": false,
         "type": "box",
         "x": [
          25,
          18,
          27,
          31,
          20,
          22,
          21,
          26,
          17,
          30,
          22,
          29,
          25,
          17,
          28,
          25,
          17,
          28,
          25,
          21,
          26,
          28,
          20,
          20,
          24,
          26,
          28,
          23,
          26,
          24,
          23,
          22,
          26,
          17,
          24,
          24,
          25,
          25,
          27,
          24,
          27,
          28,
          24,
          29,
          28,
          29,
          18,
          23,
          23,
          24
         ],
         "xaxis": "x2",
         "yaxis": "y2"
        }
       ],
       "layout": {
        "barmode": "relative",
        "legend": {
         "tracegroupgap": 0
        },
        "margin": {
         "t": 60
        },
        "template": {
         "data": {
          "bar": [
           {
            "error_x": {
             "color": "#2a3f5f"
            },
            "error_y": {
             "color": "#2a3f5f"
            },
            "marker": {
             "line": {
              "color": "#E5ECF6",
              "width": 0.5
             }
            },
            "type": "bar"
           }
          ],
          "barpolar": [
           {
            "marker": {
             "line": {
              "color": "#E5ECF6",
              "width": 0.5
             }
            },
            "type": "barpolar"
           }
          ],
          "carpet": [
           {
            "aaxis": {
             "endlinecolor": "#2a3f5f",
             "gridcolor": "white",
             "linecolor": "white",
             "minorgridcolor": "white",
             "startlinecolor": "#2a3f5f"
            },
            "baxis": {
             "endlinecolor": "#2a3f5f",
             "gridcolor": "white",
             "linecolor": "white",
             "minorgridcolor": "white",
             "startlinecolor": "#2a3f5f"
            },
            "type": "carpet"
           }
          ],
          "choropleth": [
           {
            "colorbar": {
             "outlinewidth": 0,
             "ticks": ""
            },
            "type": "choropleth"
           }
          ],
          "contour": [
           {
            "colorbar": {
             "outlinewidth": 0,
             "ticks": ""
            },
            "colorscale": [
             [
              0,
              "#0d0887"
             ],
             [
              0.1111111111111111,
              "#46039f"
             ],
             [
              0.2222222222222222,
              "#7201a8"
             ],
             [
              0.3333333333333333,
              "#9c179e"
             ],
             [
              0.4444444444444444,
              "#bd3786"
             ],
             [
              0.5555555555555556,
              "#d8576b"
             ],
             [
              0.6666666666666666,
              "#ed7953"
             ],
             [
              0.7777777777777778,
              "#fb9f3a"
             ],
             [
              0.8888888888888888,
              "#fdca26"
             ],
             [
              1,
              "#f0f921"
             ]
            ],
            "type": "contour"
           }
          ],
          "contourcarpet": [
           {
            "colorbar": {
             "outlinewidth": 0,
             "ticks": ""
            },
            "type": "contourcarpet"
           }
          ],
          "heatmap": [
           {
            "colorbar": {
             "outlinewidth": 0,
             "ticks": ""
            },
            "colorscale": [
             [
              0,
              "#0d0887"
             ],
             [
              0.1111111111111111,
              "#46039f"
             ],
             [
              0.2222222222222222,
              "#7201a8"
             ],
             [
              0.3333333333333333,
              "#9c179e"
             ],
             [
              0.4444444444444444,
              "#bd3786"
             ],
             [
              0.5555555555555556,
              "#d8576b"
             ],
             [
              0.6666666666666666,
              "#ed7953"
             ],
             [
              0.7777777777777778,
              "#fb9f3a"
             ],
             [
              0.8888888888888888,
              "#fdca26"
             ],
             [
              1,
              "#f0f921"
             ]
            ],
            "type": "heatmap"
           }
          ],
          "heatmapgl": [
           {
            "colorbar": {
             "outlinewidth": 0,
             "ticks": ""
            },
            "colorscale": [
             [
              0,
              "#0d0887"
             ],
             [
              0.1111111111111111,
              "#46039f"
             ],
             [
              0.2222222222222222,
              "#7201a8"
             ],
             [
              0.3333333333333333,
              "#9c179e"
             ],
             [
              0.4444444444444444,
              "#bd3786"
             ],
             [
              0.5555555555555556,
              "#d8576b"
             ],
             [
              0.6666666666666666,
              "#ed7953"
             ],
             [
              0.7777777777777778,
              "#fb9f3a"
             ],
             [
              0.8888888888888888,
              "#fdca26"
             ],
             [
              1,
              "#f0f921"
             ]
            ],
            "type": "heatmapgl"
           }
          ],
          "histogram": [
           {
            "marker": {
             "colorbar": {
              "outlinewidth": 0,
              "ticks": ""
             }
            },
            "type": "histogram"
           }
          ],
          "histogram2d": [
           {
            "colorbar": {
             "outlinewidth": 0,
             "ticks": ""
            },
            "colorscale": [
             [
              0,
              "#0d0887"
             ],
             [
              0.1111111111111111,
              "#46039f"
             ],
             [
              0.2222222222222222,
              "#7201a8"
             ],
             [
              0.3333333333333333,
              "#9c179e"
             ],
             [
              0.4444444444444444,
              "#bd3786"
             ],
             [
              0.5555555555555556,
              "#d8576b"
             ],
             [
              0.6666666666666666,
              "#ed7953"
             ],
             [
              0.7777777777777778,
              "#fb9f3a"
             ],
             [
              0.8888888888888888,
              "#fdca26"
             ],
             [
              1,
              "#f0f921"
             ]
            ],
            "type": "histogram2d"
           }
          ],
          "histogram2dcontour": [
           {
            "colorbar": {
             "outlinewidth": 0,
             "ticks": ""
            },
            "colorscale": [
             [
              0,
              "#0d0887"
             ],
             [
              0.1111111111111111,
              "#46039f"
             ],
             [
              0.2222222222222222,
              "#7201a8"
             ],
             [
              0.3333333333333333,
              "#9c179e"
             ],
             [
              0.4444444444444444,
              "#bd3786"
             ],
             [
              0.5555555555555556,
              "#d8576b"
             ],
             [
              0.6666666666666666,
              "#ed7953"
             ],
             [
              0.7777777777777778,
              "#fb9f3a"
             ],
             [
              0.8888888888888888,
              "#fdca26"
             ],
             [
              1,
              "#f0f921"
             ]
            ],
            "type": "histogram2dcontour"
           }
          ],
          "mesh3d": [
           {
            "colorbar": {
             "outlinewidth": 0,
             "ticks": ""
            },
            "type": "mesh3d"
           }
          ],
          "parcoords": [
           {
            "line": {
             "colorbar": {
              "outlinewidth": 0,
              "ticks": ""
             }
            },
            "type": "parcoords"
           }
          ],
          "pie": [
           {
            "automargin": true,
            "type": "pie"
           }
          ],
          "scatter": [
           {
            "marker": {
             "colorbar": {
              "outlinewidth": 0,
              "ticks": ""
             }
            },
            "type": "scatter"
           }
          ],
          "scatter3d": [
           {
            "line": {
             "colorbar": {
              "outlinewidth": 0,
              "ticks": ""
             }
            },
            "marker": {
             "colorbar": {
              "outlinewidth": 0,
              "ticks": ""
             }
            },
            "type": "scatter3d"
           }
          ],
          "scattercarpet": [
           {
            "marker": {
             "colorbar": {
              "outlinewidth": 0,
              "ticks": ""
             }
            },
            "type": "scattercarpet"
           }
          ],
          "scattergeo": [
           {
            "marker": {
             "colorbar": {
              "outlinewidth": 0,
              "ticks": ""
             }
            },
            "type": "scattergeo"
           }
          ],
          "scattergl": [
           {
            "marker": {
             "colorbar": {
              "outlinewidth": 0,
              "ticks": ""
             }
            },
            "type": "scattergl"
           }
          ],
          "scattermapbox": [
           {
            "marker": {
             "colorbar": {
              "outlinewidth": 0,
              "ticks": ""
             }
            },
            "type": "scattermapbox"
           }
          ],
          "scatterpolar": [
           {
            "marker": {
             "colorbar": {
              "outlinewidth": 0,
              "ticks": ""
             }
            },
            "type": "scatterpolar"
           }
          ],
          "scatterpolargl": [
           {
            "marker": {
             "colorbar": {
              "outlinewidth": 0,
              "ticks": ""
             }
            },
            "type": "scatterpolargl"
           }
          ],
          "scatterternary": [
           {
            "marker": {
             "colorbar": {
              "outlinewidth": 0,
              "ticks": ""
             }
            },
            "type": "scatterternary"
           }
          ],
          "surface": [
           {
            "colorbar": {
             "outlinewidth": 0,
             "ticks": ""
            },
            "colorscale": [
             [
              0,
              "#0d0887"
             ],
             [
              0.1111111111111111,
              "#46039f"
             ],
             [
              0.2222222222222222,
              "#7201a8"
             ],
             [
              0.3333333333333333,
              "#9c179e"
             ],
             [
              0.4444444444444444,
              "#bd3786"
             ],
             [
              0.5555555555555556,
              "#d8576b"
             ],
             [
              0.6666666666666666,
              "#ed7953"
             ],
             [
              0.7777777777777778,
              "#fb9f3a"
             ],
             [
              0.8888888888888888,
              "#fdca26"
             ],
             [
              1,
              "#f0f921"
             ]
            ],
            "type": "surface"
           }
          ],
          "table": [
           {
            "cells": {
             "fill": {
              "color": "#EBF0F8"
             },
             "line": {
              "color": "white"
             }
            },
            "header": {
             "fill": {
              "color": "#C8D4E3"
             },
             "line": {
              "color": "white"
             }
            },
            "type": "table"
           }
          ]
         },
         "layout": {
          "annotationdefaults": {
           "arrowcolor": "#2a3f5f",
           "arrowhead": 0,
           "arrowwidth": 1
          },
          "coloraxis": {
           "colorbar": {
            "outlinewidth": 0,
            "ticks": ""
           }
          },
          "colorscale": {
           "diverging": [
            [
             0,
             "#8e0152"
            ],
            [
             0.1,
             "#c51b7d"
            ],
            [
             0.2,
             "#de77ae"
            ],
            [
             0.3,
             "#f1b6da"
            ],
            [
             0.4,
             "#fde0ef"
            ],
            [
             0.5,
             "#f7f7f7"
            ],
            [
             0.6,
             "#e6f5d0"
            ],
            [
             0.7,
             "#b8e186"
            ],
            [
             0.8,
             "#7fbc41"
            ],
            [
             0.9,
             "#4d9221"
            ],
            [
             1,
             "#276419"
            ]
           ],
           "sequential": [
            [
             0,
             "#0d0887"
            ],
            [
             0.1111111111111111,
             "#46039f"
            ],
            [
             0.2222222222222222,
             "#7201a8"
            ],
            [
             0.3333333333333333,
             "#9c179e"
            ],
            [
             0.4444444444444444,
             "#bd3786"
            ],
            [
             0.5555555555555556,
             "#d8576b"
            ],
            [
             0.6666666666666666,
             "#ed7953"
            ],
            [
             0.7777777777777778,
             "#fb9f3a"
            ],
            [
             0.8888888888888888,
             "#fdca26"
            ],
            [
             1,
             "#f0f921"
            ]
           ],
           "sequentialminus": [
            [
             0,
             "#0d0887"
            ],
            [
             0.1111111111111111,
             "#46039f"
            ],
            [
             0.2222222222222222,
             "#7201a8"
            ],
            [
             0.3333333333333333,
             "#9c179e"
            ],
            [
             0.4444444444444444,
             "#bd3786"
            ],
            [
             0.5555555555555556,
             "#d8576b"
            ],
            [
             0.6666666666666666,
             "#ed7953"
            ],
            [
             0.7777777777777778,
             "#fb9f3a"
            ],
            [
             0.8888888888888888,
             "#fdca26"
            ],
            [
             1,
             "#f0f921"
            ]
           ]
          },
          "colorway": [
           "#636efa",
           "#EF553B",
           "#00cc96",
           "#ab63fa",
           "#FFA15A",
           "#19d3f3",
           "#FF6692",
           "#B6E880",
           "#FF97FF",
           "#FECB52"
          ],
          "font": {
           "color": "#2a3f5f"
          },
          "geo": {
           "bgcolor": "white",
           "lakecolor": "white",
           "landcolor": "#E5ECF6",
           "showlakes": true,
           "showland": true,
           "subunitcolor": "white"
          },
          "hoverlabel": {
           "align": "left"
          },
          "hovermode": "closest",
          "mapbox": {
           "style": "light"
          },
          "paper_bgcolor": "white",
          "plot_bgcolor": "#E5ECF6",
          "polar": {
           "angularaxis": {
            "gridcolor": "white",
            "linecolor": "white",
            "ticks": ""
           },
           "bgcolor": "#E5ECF6",
           "radialaxis": {
            "gridcolor": "white",
            "linecolor": "white",
            "ticks": ""
           }
          },
          "scene": {
           "xaxis": {
            "backgroundcolor": "#E5ECF6",
            "gridcolor": "white",
            "gridwidth": 2,
            "linecolor": "white",
            "showbackground": true,
            "ticks": "",
            "zerolinecolor": "white"
           },
           "yaxis": {
            "backgroundcolor": "#E5ECF6",
            "gridcolor": "white",
            "gridwidth": 2,
            "linecolor": "white",
            "showbackground": true,
            "ticks": "",
            "zerolinecolor": "white"
           },
           "zaxis": {
            "backgroundcolor": "#E5ECF6",
            "gridcolor": "white",
            "gridwidth": 2,
            "linecolor": "white",
            "showbackground": true,
            "ticks": "",
            "zerolinecolor": "white"
           }
          },
          "shapedefaults": {
           "line": {
            "color": "#2a3f5f"
           }
          },
          "ternary": {
           "aaxis": {
            "gridcolor": "white",
            "linecolor": "white",
            "ticks": ""
           },
           "baxis": {
            "gridcolor": "white",
            "linecolor": "white",
            "ticks": ""
           },
           "bgcolor": "#E5ECF6",
           "caxis": {
            "gridcolor": "white",
            "linecolor": "white",
            "ticks": ""
           }
          },
          "title": {
           "x": 0.05
          },
          "xaxis": {
           "automargin": true,
           "gridcolor": "white",
           "linecolor": "white",
           "ticks": "",
           "title": {
            "standoff": 15
           },
           "zerolinecolor": "white",
           "zerolinewidth": 2
          },
          "yaxis": {
           "automargin": true,
           "gridcolor": "white",
           "linecolor": "white",
           "ticks": "",
           "title": {
            "standoff": 15
           },
           "zerolinecolor": "white",
           "zerolinewidth": 2
          }
         }
        },
        "xaxis": {
         "anchor": "y",
         "domain": [
          0,
          1
         ],
         "title": {
          "text": "Age"
         }
        },
        "xaxis2": {
         "anchor": "y2",
         "domain": [
          0,
          1
         ],
         "matches": "x",
         "showgrid": true,
         "showticklabels": false
        },
        "yaxis": {
         "anchor": "x",
         "domain": [
          0,
          0.7326
         ],
         "title": {
          "text": "count"
         }
        },
        "yaxis2": {
         "anchor": "x2",
         "domain": [
          0.7426,
          1
         ],
         "matches": "y2",
         "showgrid": false,
         "showline": false,
         "showticklabels": false,
         "ticks": ""
        }
       }
      },
      "text/html": [
       "<div>\n",
       "        \n",
       "        \n",
       "            <div id=\"c255c182-8308-4bbc-bc09-ea7e7ac98634\" class=\"plotly-graph-div\" style=\"height:525px; width:100%;\"></div>\n",
       "            <script type=\"text/javascript\">\n",
       "                require([\"plotly\"], function(Plotly) {\n",
       "                    window.PLOTLYENV=window.PLOTLYENV || {};\n",
       "                    \n",
       "                if (document.getElementById(\"c255c182-8308-4bbc-bc09-ea7e7ac98634\")) {\n",
       "                    Plotly.newPlot(\n",
       "                        'c255c182-8308-4bbc-bc09-ea7e7ac98634',\n",
       "                        [{\"alignmentgroup\": \"True\", \"bingroup\": \"x\", \"hoverlabel\": {\"namelength\": 0}, \"hovertemplate\": \"Cluster=Cluster 0<br>Age=%{x}<br>count=%{y}\", \"legendgroup\": \"Cluster=Cluster 0\", \"marker\": {\"color\": \"#636efa\", \"opacity\": 0.7}, \"name\": \"Cluster=Cluster 0\", \"offsetgroup\": \"Cluster=Cluster 0\", \"orientation\": \"v\", \"showlegend\": true, \"type\": \"histogram\", \"x\": [89, 88, 94, 87, 89, 93, 82, 87, 89, 84, 87, 88, 89, 95, 89, 86, 85, 87, 92, 89, 85, 89, 85, 92, 89, 79, 90, 92, 88, 84, 88, 84, 88, 91, 90, 88, 86, 85, 86, 91, 85, 87, 94, 85, 82, 83, 88, 85, 89, 89, 79, 86, 84, 87, 83, 86, 85, 87, 88, 88, 85, 90, 91, 87, 88, 91, 86, 87, 94, 82, 89, 93, 90, 91, 90, 88, 83, 94, 92, 89, 87, 84, 84, 91, 91, 88, 81, 85, 91, 82, 86, 94, 91, 88, 91, 84, 83, 90, 88, 91, 88, 92, 90, 87, 94, 87, 87, 84, 82, 84, 84, 88, 87, 92, 91, 91, 83, 84, 90, 86, 91, 97, 92, 92, 91, 90, 88, 91, 86, 83, 94, 83, 87, 85, 87, 83, 83, 90, 87, 91, 91, 83, 93, 87, 90, 84, 84], \"xaxis\": \"x\", \"yaxis\": \"y\"}, {\"alignmentgroup\": \"True\", \"customdata\": [[89.0, 30267.0, 0.2893100658351509, 14386.351879589123, \"Cluster 0\"], [88.0, 28585.0, 0.3977396663840213, 16725.841854363774, \"Cluster 0\"], [94.0, 27771.0, 0.3025032231546657, 17303.957194969433, \"Cluster 0\"], [87.0, 18459.0, 0.2645499059687874, 15637.59765457844, \"Cluster 0\"], [89.0, 28160.0, 0.3388488510290433, 15607.061781887898, \"Cluster 0\"], [93.0, 20440.0, 0.2975730342292497, 17406.074017844054, \"Cluster 0\"], [82.0, 32494.0, 0.3273154026360584, 16799.444266662453, \"Cluster 0\"], [87.0, 30102.0, 0.3903905943444749, 16330.081190027211, \"Cluster 0\"], [89.0, 20292.0, 0.3121481952107594, 16023.4456584523, \"Cluster 0\"], [84.0, 27179.0, 0.3474234168306904, 15612.628547766899, \"Cluster 0\"], [87.0, 24578.0, 0.37616545875063534, 17789.247521813828, \"Cluster 0\"], [88.0, 33251.0, 0.3043913649608802, 18868.24161249696, \"Cluster 0\"], [89.0, 34524.0, 0.348118273264174, 14051.256515312789, \"Cluster 0\"], [95.0, 27038.0, 0.3313520070109344, 18126.577451151075, \"Cluster 0\"], [89.0, 26127.0, 0.3044743722681633, 17194.828018777476, \"Cluster 0\"], [86.0, 46977.0, 0.2827283910152334, 15628.957075805025, \"Cluster 0\"], [85.0, 27599.0, 0.2819950483303406, 13470.97060503703, \"Cluster 0\"], [87.0, 25701.0, 0.3152205738281265, 15738.859295516553, \"Cluster 0\"], [92.0, 33550.0, 0.3685156285793065, 17106.32591058189, \"Cluster 0\"], [89.0, 19202.0, 0.3819877440174351, 16626.22236147723, \"Cluster 0\"], [85.0, 28408.0, 0.3580738593579665, 15063.335797441836, \"Cluster 0\"], [89.0, 33311.0, 0.3761469685086391, 17093.06995548225, \"Cluster 0\"], [85.0, 26355.0, 0.34234066669498114, 17971.19363998381, \"Cluster 0\"], [92.0, 32915.0, 0.3885749195868542, 16694.706839244012, \"Cluster 0\"], [89.0, 31096.0, 0.2785878455435617, 17736.94259966666, \"Cluster 0\"], [79.0, 32421.0, 0.3032762059432743, 15319.467662272391, \"Cluster 0\"], [90.0, 33259.0, 0.377571058498228, 15315.028503741696, \"Cluster 0\"], [92.0, 35484.0, 0.3970636039704499, 17324.045112814925, \"Cluster 0\"], [88.0, 31366.0, 0.3796208481334848, 16079.622699815933, \"Cluster 0\"], [84.0, 29492.0, 0.3336031402694437, 17954.09505703969, \"Cluster 0\"], [88.0, 26092.0, 0.3128732065230775, 17105.79392615357, \"Cluster 0\"], [84.0, 42018.0, 0.29799360218993026, 16148.370454036614, \"Cluster 0\"], [88.0, 34001.0, 0.33756932388752803, 15530.934134298665, \"Cluster 0\"], [91.0, 29082.0, 0.28248852137129143, 18794.488169074688, \"Cluster 0\"], [90.0, 24376.0, 0.2812794569155436, 15134.994226396464, \"Cluster 0\"], [88.0, 28409.0, 0.30565353367521064, 17326.175608364214, \"Cluster 0\"], [86.0, 36031.0, 0.2401766350783482, 16945.326244896307, \"Cluster 0\"], [85.0, 34634.0, 0.3690001696241634, 16719.815875018445, \"Cluster 0\"], [86.0, 15695.0, 0.25717496647489363, 17366.186263516567, \"Cluster 0\"], [91.0, 30148.0, 0.2773889467565771, 15324.287405101717, \"Cluster 0\"], [85.0, 28401.0, 0.3694371368158697, 15990.49413056604, \"Cluster 0\"], [87.0, 15671.0, 0.3507250914944152, 14326.601120246103, \"Cluster 0\"], [94.0, 20719.0, 0.336402269797664, 16281.832273239006, \"Cluster 0\"], [85.0, 30794.0, 0.2862292747117072, 17096.39150937826, \"Cluster 0\"], [82.0, 24391.0, 0.27610134635529604, 17053.03010738692, \"Cluster 0\"], [83.0, 28497.0, 0.3938023931664613, 15510.112981164848, \"Cluster 0\"], [88.0, 17388.0, 0.4661894446652393, 16698.6210372462, \"Cluster 0\"], [85.0, 34802.0, 0.2987969233586417, 16450.003270402787, \"Cluster 0\"], [89.0, 22008.0, 0.3819060693389532, 16458.398097731253, \"Cluster 0\"], [89.0, 24520.0, 0.44383270684567067, 13556.9358834699, \"Cluster 0\"], [79.0, 38201.0, 0.3697828881534748, 16393.395697309446, \"Cluster 0\"], [86.0, 28779.0, 0.3365233301816881, 16047.268331461928, \"Cluster 0\"], [84.0, 38042.0, 0.3660858718547989, 17465.856285855403, \"Cluster 0\"], [87.0, 46910.0, 0.3085616998317755, 14789.14847617646, \"Cluster 0\"], [83.0, 26882.0, 0.34797963237384105, 17775.22817123954, \"Cluster 0\"], [86.0, 18812.0, 0.34154576038705153, 16157.734142403422, \"Cluster 0\"], [85.0, 29610.0, 0.3181352453742131, 18475.487468080933, \"Cluster 0\"], [87.0, 30812.0, 0.3144631516753479, 15238.118997598334, \"Cluster 0\"], [88.0, 19510.0, 0.3167510258154691, 16529.20080632274, \"Cluster 0\"], [88.0, 26351.0, 0.3041682062164747, 14035.917553542351, \"Cluster 0\"], [85.0, 21250.0, 0.3104101151420252, 16033.971166673777, \"Cluster 0\"], [90.0, 22288.0, 0.2713268321051208, 18434.099152391347, \"Cluster 0\"], [91.0, 36639.0, 0.3261988874784867, 16275.703341192586, \"Cluster 0\"], [87.0, 12000.0, 0.3429910076112659, 16180.26525174153, \"Cluster 0\"], [88.0, 35051.0, 0.3860515062876169, 17593.24679258195, \"Cluster 0\"], [91.0, 12038.0, 0.3498032558856572, 16464.960504438823, \"Cluster 0\"], [86.0, 31994.0, 0.24947694035510065, 18210.088099070614, \"Cluster 0\"], [87.0, 30178.0, 0.2793159778940049, 16123.070750832, \"Cluster 0\"], [94.0, 18937.0, 0.3470950600753079, 17739.776098377628, \"Cluster 0\"], [82.0, 33610.0, 0.3012532342412973, 17755.664940228176, \"Cluster 0\"], [89.0, 26940.0, 0.3260051328059917, 16555.159377159824, \"Cluster 0\"], [93.0, 17672.0, 0.3032923688871533, 18516.451810726718, \"Cluster 0\"], [90.0, 33490.0, 0.4199085281737912, 17091.904228934392, \"Cluster 0\"], [91.0, 25237.0, 0.3535018242414266, 17292.733103848248, \"Cluster 0\"], [90.0, 30178.0, 0.2823512821567113, 16182.8384364088, \"Cluster 0\"], [88.0, 32708.0, 0.3682153159958089, 16711.0679804242, \"Cluster 0\"], [83.0, 18162.0, 0.3013734548863509, 16029.469213914268, \"Cluster 0\"], [94.0, 38923.0, 0.33022601809734325, 16971.181554867213, \"Cluster 0\"], [92.0, 35877.0, 0.3668917159124752, 17287.907016982324, \"Cluster 0\"], [89.0, 25252.0, 0.32176522093208865, 16539.364186086335, \"Cluster 0\"], [87.0, 25566.0, 0.3167603729756968, 15188.058749407255, \"Cluster 0\"], [84.0, 27384.0, 0.31364671699548896, 16734.672754073246, \"Cluster 0\"], [84.0, 27544.0, 0.2309337663207005, 18207.36169648481, \"Cluster 0\"], [91.0, 28777.0, 0.324193555035782, 17808.2662415687, \"Cluster 0\"], [91.0, 27168.0, 0.3322388165540652, 15893.729773516614, \"Cluster 0\"], [88.0, 22602.0, 0.35674482887974684, 16740.343496726702, \"Cluster 0\"], [81.0, 34425.0, 0.2726097792323641, 16262.623790655764, \"Cluster 0\"], [85.0, 29204.0, 0.3254914498834959, 16918.903460369133, \"Cluster 0\"], [91.0, 20681.0, 0.3546791690549572, 18401.08844474873, \"Cluster 0\"], [82.0, 24221.0, 0.4735496605323542, 16251.759445212669, \"Cluster 0\"], [86.0, 35998.0, 0.3216356471662456, 20000.0, \"Cluster 0\"], [94.0, 27169.0, 0.3141730453838618, 15061.776215142369, \"Cluster 0\"], [91.0, 29750.0, 0.2884703320713124, 19201.11991627576, \"Cluster 0\"], [88.0, 17946.0, 0.26964363039994416, 16715.160017840968, \"Cluster 0\"], [91.0, 26424.0, 0.3193886529047028, 16501.46877669979, \"Cluster 0\"], [84.0, 22286.0, 0.3955062459001081, 17886.53737311577, \"Cluster 0\"], [83.0, 30492.0, 0.3016314685914632, 15365.85846293255, \"Cluster 0\"], [90.0, 25733.0, 0.3385629680709827, 17631.56888411863, \"Cluster 0\"], [88.0, 27169.0, 0.28005950486141434, 15260.635546195437, \"Cluster 0\"], [91.0, 16950.0, 0.32300404344763, 17172.609400509067, \"Cluster 0\"], [88.0, 28802.0, 0.4083878319987073, 16293.038332542192, \"Cluster 0\"], [92.0, 22484.0, 0.3317732623948493, 18615.632589788456, \"Cluster 0\"], [90.0, 29029.0, 0.30375897133462404, 15592.991530526488, \"Cluster 0\"], [87.0, 23042.0, 0.3663120107544869, 18149.035872923057, \"Cluster 0\"], [94.0, 23854.0, 0.3144466826182581, 16828.410118749016, \"Cluster 0\"], [87.0, 29909.0, 0.3421516318130469, 18142.232746738577, \"Cluster 0\"], [87.0, 31481.0, 0.317423970601333, 16180.68808203422, \"Cluster 0\"], [84.0, 24105.0, 0.2718090229374729, 16524.902538052145, \"Cluster 0\"], [82.0, 33636.0, 0.3717829785401914, 17866.83359752812, \"Cluster 0\"], [84.0, 20704.0, 0.3794963151514172, 16816.911895743782, \"Cluster 0\"], [84.0, 30481.0, 0.3970228936031003, 16837.205964813103, \"Cluster 0\"], [88.0, 33303.0, 0.39971568554521497, 15232.598068845287, \"Cluster 0\"], [87.0, 26045.0, 0.3752921226023748, 15903.558359374925, \"Cluster 0\"], [92.0, 36032.0, 0.3369683066109672, 17348.5998812573, \"Cluster 0\"], [91.0, 22672.0, 0.2710645345158169, 15407.646761130874, \"Cluster 0\"], [91.0, 24370.0, 0.2963285713632805, 16141.048981383728, \"Cluster 0\"], [83.0, 34529.0, 0.3172075114569807, 16517.208746949746, \"Cluster 0\"], [84.0, 36463.0, 0.3536209572557781, 16563.372591147832, \"Cluster 0\"], [90.0, 37503.0, 0.35778831446458764, 17258.57497274541, \"Cluster 0\"], [86.0, 27705.0, 0.3293769514872405, 17130.85610211788, \"Cluster 0\"], [91.0, 36991.0, 0.2685979050949868, 19047.77233878285, \"Cluster 0\"], [97.0, 27271.0, 0.28392289527040304, 14928.165597390327, \"Cluster 0\"], [92.0, 18724.0, 0.3278623148176303, 15341.381109594675, \"Cluster 0\"], [92.0, 22616.0, 0.3228506824321553, 17275.66131398456, \"Cluster 0\"], [91.0, 28165.0, 0.3036929225036061, 17460.179350212424, \"Cluster 0\"], [90.0, 22782.0, 0.3563068710287742, 15924.071707885845, \"Cluster 0\"], [88.0, 17851.0, 0.2898659849627828, 17472.470686173863, \"Cluster 0\"], [91.0, 25886.0, 0.30175376758370465, 17266.045729118025, \"Cluster 0\"], [86.0, 23400.0, 0.27803553844702666, 15215.28126373834, \"Cluster 0\"], [83.0, 28727.0, 0.3082630418510537, 18205.33626089001, \"Cluster 0\"], [94.0, 28352.0, 0.37687573531685575, 16798.886114738052, \"Cluster 0\"], [83.0, 23206.0, 0.3212403632065312, 16870.672003783384, \"Cluster 0\"], [87.0, 23322.0, 0.30682119734644964, 16131.267659393414, \"Cluster 0\"], [85.0, 21652.0, 0.3184561372216806, 14175.16988549895, \"Cluster 0\"], [87.0, 26665.0, 0.4021456613889217, 17376.914743318182, \"Cluster 0\"], [83.0, 30721.0, 0.3311418077630257, 17705.99238527814, \"Cluster 0\"], [83.0, 33170.0, 0.24107774427464634, 16620.010473689304, \"Cluster 0\"], [90.0, 33188.0, 0.24881006879023135, 15866.913937696345, \"Cluster 0\"], [87.0, 17760.0, 0.34877754843050746, 16869.507130301474, \"Cluster 0\"], [91.0, 30756.0, 0.30369803009825364, 15492.004711465304, \"Cluster 0\"], [91.0, 26917.0, 0.37671353045834655, 17986.618644605885, \"Cluster 0\"], [83.0, 34384.0, 0.3247186821733417, 14783.379085794499, \"Cluster 0\"], [93.0, 19934.0, 0.20314023979537812, 17969.693768505334, \"Cluster 0\"], [87.0, 42592.0, 0.35528968203827593, 18086.287157859304, \"Cluster 0\"], [90.0, 35297.0, 0.35514901905663643, 16091.401954058958, \"Cluster 0\"], [84.0, 18244.0, 0.29266337446440194, 17815.348406878897, \"Cluster 0\"], [84.0, 27693.0, 0.3670629731870412, 17879.558905551898, \"Cluster 0\"]], \"hoverlabel\": {\"namelength\": 0}, \"hovertemplate\": \"Cluster=%{customdata[4]}<br>Age=%{customdata[0]}<br>Income=%{customdata[1]}<br>SpendingScore=%{customdata[2]}<br>Savings=%{customdata[3]}\", \"legendgroup\": \"Cluster=Cluster 0\", \"marker\": {\"color\": \"#636efa\"}, \"name\": \"Cluster=Cluster 0\", \"notched\": true, \"offsetgroup\": \"Cluster=Cluster 0\", \"showlegend\": false, \"type\": \"box\", \"x\": [89, 88, 94, 87, 89, 93, 82, 87, 89, 84, 87, 88, 89, 95, 89, 86, 85, 87, 92, 89, 85, 89, 85, 92, 89, 79, 90, 92, 88, 84, 88, 84, 88, 91, 90, 88, 86, 85, 86, 91, 85, 87, 94, 85, 82, 83, 88, 85, 89, 89, 79, 86, 84, 87, 83, 86, 85, 87, 88, 88, 85, 90, 91, 87, 88, 91, 86, 87, 94, 82, 89, 93, 90, 91, 90, 88, 83, 94, 92, 89, 87, 84, 84, 91, 91, 88, 81, 85, 91, 82, 86, 94, 91, 88, 91, 84, 83, 90, 88, 91, 88, 92, 90, 87, 94, 87, 87, 84, 82, 84, 84, 88, 87, 92, 91, 91, 83, 84, 90, 86, 91, 97, 92, 92, 91, 90, 88, 91, 86, 83, 94, 83, 87, 85, 87, 83, 83, 90, 87, 91, 91, 83, 93, 87, 90, 84, 84], \"xaxis\": \"x2\", \"yaxis\": \"y2\"}, {\"alignmentgroup\": \"True\", \"bingroup\": \"x\", \"hoverlabel\": {\"namelength\": 0}, \"hovertemplate\": \"Cluster=Cluster 1<br>Age=%{x}<br>count=%{y}\", \"legendgroup\": \"Cluster=Cluster 1\", \"marker\": {\"color\": \"#EF553B\", \"opacity\": 0.7}, \"name\": \"Cluster=Cluster 1\", \"offsetgroup\": \"Cluster=Cluster 1\", \"orientation\": \"v\", \"showlegend\": true, \"type\": \"histogram\", \"x\": [34, 35, 33, 33, 34, 36, 29, 84, 83, 36, 31, 38, 31, 36, 38, 39, 90, 83, 35, 33, 32, 31, 31, 39, 37, 87, 33, 37, 31, 37, 88, 91, 30, 33, 36, 28, 36, 33, 85, 26, 24, 36, 33, 30, 29, 40, 42, 28, 34, 85, 31, 35, 37, 43, 89, 37, 90, 31, 29, 83, 84, 30, 29, 88, 33, 30, 34, 35, 30, 92, 30, 77, 34, 31, 33, 37, 29, 36, 31, 29, 31, 28, 28, 33, 30, 33, 82, 84, 29, 88, 30, 36, 35, 38, 33, 84, 39, 37, 31, 35, 30, 35, 86, 34, 32, 86, 31, 35, 34, 36, 28, 28, 86, 30, 93, 31, 82, 31, 38, 32, 29, 37, 27, 29, 37, 25, 31, 37, 34, 25, 29, 31, 22, 34, 32, 31, 35, 44, 34, 32, 34, 36, 32, 32, 30, 28, 35, 33, 29, 33, 31], \"xaxis\": \"x\", \"yaxis\": \"y\"}, {\"alignmentgroup\": \"True\", \"customdata\": [[34.0, 111303.0, 0.34531257710928803, 14624.318634976555, \"Cluster 1\"], [35.0, 105991.0, 0.34337797815210225, 16616.088239618915, \"Cluster 1\"], [33.0, 101058.0, 0.3150815497840024, 14911.868398206978, \"Cluster 1\"], [33.0, 106757.0, 0.25839611372125515, 14431.652799234367, \"Cluster 1\"], [34.0, 103428.0, 0.2474244093916156, 13791.035761571968, \"Cluster 1\"], [36.0, 98137.0, 0.29740129315965397, 15978.332837131276, \"Cluster 1\"], [29.0, 119366.0, 0.3587713900686116, 15012.853014226299, \"Cluster 1\"], [84.0, 110582.0, 0.07904903227945975, 14937.995169685584, \"Cluster 1\"], [83.0, 117943.0, 0.07721324003343044, 15391.95219220651, \"Cluster 1\"], [36.0, 100158.0, 0.31606041409802405, 13832.379370734528, \"Cluster 1\"], [31.0, 112943.0, 0.34123950330738706, 14297.702229457283, \"Cluster 1\"], [38.0, 94775.0, 0.3803902009461493, 16867.13082002739, \"Cluster 1\"], [31.0, 114833.0, 0.3050696862135815, 13953.029721407644, \"Cluster 1\"], [36.0, 96336.0, 0.28809756719298163, 15286.769335194167, \"Cluster 1\"], [38.0, 113659.0, 0.3334859873871594, 14364.693391419, \"Cluster 1\"], [39.0, 99216.0, 0.21660614339457274, 15230.345105300736, \"Cluster 1\"], [90.0, 117668.0, 0.08272274299401555, 12554.692742420659, \"Cluster 1\"], [83.0, 119429.0, 0.042154801078558464, 15607.561541234569, \"Cluster 1\"], [35.0, 106588.0, 0.3422142051018276, 15648.65667046098, \"Cluster 1\"], [33.0, 107100.0, 0.3424354833732075, 14895.473479049117, \"Cluster 1\"], [32.0, 108417.0, 0.28737086714008075, 16696.398659007995, \"Cluster 1\"], [31.0, 111449.0, 0.29410620308282165, 13929.62155143948, \"Cluster 1\"], [31.0, 101481.0, 0.2702350511848681, 15226.614133627569, \"Cluster 1\"], [39.0, 100540.0, 0.3849229829012918, 16741.013894847743, \"Cluster 1\"], [37.0, 107958.0, 0.34666907654318496, 13641.009538079368, \"Cluster 1\"], [87.0, 117564.0, 0.1282795957567026, 14000.248964992143, \"Cluster 1\"], [33.0, 108345.0, 0.32541328975821004, 15646.32171735943, \"Cluster 1\"], [37.0, 108635.0, 0.28649570314839057, 14558.054542315444, \"Cluster 1\"], [31.0, 116247.0, 0.2943151380482853, 16178.204715186297, \"Cluster 1\"], [37.0, 106664.0, 0.2775867542026021, 14479.374117495967, \"Cluster 1\"], [88.0, 114767.0, 0.032207542338926365, 17833.093470094427, \"Cluster 1\"], [91.0, 118794.0, 0.0192120658984376, 14047.388986415735, \"Cluster 1\"], [30.0, 99949.0, 0.344679223509786, 13621.639726331408, \"Cluster 1\"], [33.0, 94964.0, 0.3302325026567214, 14018.349867336628, \"Cluster 1\"], [36.0, 105567.0, 0.3126388486955741, 14355.31094653896, \"Cluster 1\"], [28.0, 109075.0, 0.36276196062401134, 14082.458238005996, \"Cluster 1\"], [36.0, 99780.0, 0.2654326074020303, 16398.40133318453, \"Cluster 1\"], [33.0, 100275.0, 0.3630856827120957, 13735.438742381079, \"Cluster 1\"], [85.0, 111389.0, 0.0367953622110323, 16009.237762922363, \"Cluster 1\"], [26.0, 97750.0, 0.2934087605160681, 15823.032361634105, \"Cluster 1\"], [24.0, 110564.0, 0.3049430059244969, 14967.839625179657, \"Cluster 1\"], [36.0, 108004.0, 0.3089229914936124, 15813.964573146997, \"Cluster 1\"], [33.0, 114555.0, 0.2792568364789493, 13746.745438440072, \"Cluster 1\"], [30.0, 98030.0, 0.4111117138132285, 16316.842905166694, \"Cluster 1\"], [29.0, 116451.0, 0.3406596106851227, 15294.661511529368, \"Cluster 1\"], [40.0, 98821.0, 0.27908085018704903, 15995.160053914664, \"Cluster 1\"], [42.0, 106990.0, 0.330065422314764, 14856.938997469417, \"Cluster 1\"], [28.0, 101206.0, 0.3874406981253433, 14936.775388622864, \"Cluster 1\"], [34.0, 89598.0, 0.3401523810436963, 12832.768720823738, \"Cluster 1\"], [85.0, 118169.0, 0.123196057747337, 14855.951023927619, \"Cluster 1\"], [31.0, 107963.0, 0.2905086327499087, 13407.081391032512, \"Cluster 1\"], [35.0, 117112.0, 0.3047918711384766, 15908.035997555322, \"Cluster 1\"], [37.0, 97678.0, 0.2574704443875843, 15834.113173627364, \"Cluster 1\"], [43.0, 101641.0, 0.3819838041034955, 14424.097995592982, \"Cluster 1\"], [89.0, 119697.0, 0.0916792017028315, 16215.399076555514, \"Cluster 1\"], [37.0, 97831.0, 0.3744658274308825, 14935.144813058325, \"Cluster 1\"], [90.0, 124170.0, 0.030751314393913882, 14773.407205599842, \"Cluster 1\"], [31.0, 105826.0, 0.2862743235826754, 13856.805832195869, \"Cluster 1\"], [29.0, 91375.0, 0.2354504258588228, 13104.962760687613, \"Cluster 1\"], [83.0, 117347.0, 0.15569409232860987, 15086.701120471576, \"Cluster 1\"], [84.0, 122696.0, 0.08218683192473558, 13809.734086698068, \"Cluster 1\"], [30.0, 101073.0, 0.3143871202044516, 14324.555977118509, \"Cluster 1\"], [29.0, 110860.0, 0.31944030103524745, 16260.42103081417, \"Cluster 1\"], [88.0, 120678.0, 0.06327285129660287, 14264.473846639943, \"Cluster 1\"], [33.0, 106345.0, 0.3392354218755358, 15300.45379012999, \"Cluster 1\"], [30.0, 108581.0, 0.3094467811568005, 15628.791650531211, \"Cluster 1\"], [34.0, 98165.0, 0.17412049382306485, 15721.86284266975, \"Cluster 1\"], [35.0, 112878.0, 0.3009135799974076, 13755.48230187328, \"Cluster 1\"], [30.0, 107525.0, 0.2948164301396663, 12702.847385049918, \"Cluster 1\"], [92.0, 122879.0, 0.0607240352184939, 13709.670274517475, \"Cluster 1\"], [30.0, 102056.0, 0.2607006223919937, 15370.66882713054, \"Cluster 1\"], [77.0, 128596.0, 0.04082407066250976, 14503.410786381415, \"Cluster 1\"], [34.0, 119877.0, 0.3054369951589357, 15634.788286084158, \"Cluster 1\"], [31.0, 108067.0, 0.2686742663930692, 13316.767286164832, \"Cluster 1\"], [33.0, 105667.0, 0.25075080562386165, 12869.761073905089, \"Cluster 1\"], [37.0, 107877.0, 0.3346179841546032, 17968.55392863446, \"Cluster 1\"], [29.0, 112531.0, 0.3427661743407053, 14361.334979176147, \"Cluster 1\"], [36.0, 104285.0, 0.2123600508972585, 13347.558779497918, \"Cluster 1\"], [31.0, 99457.0, 0.3658064971511749, 14580.613477014092, \"Cluster 1\"], [29.0, 106014.0, 0.34794511357773106, 15038.010746320377, \"Cluster 1\"], [31.0, 107994.0, 0.2944689389706671, 13685.972361738892, \"Cluster 1\"], [28.0, 94762.0, 0.3035961911057213, 15352.521936894913, \"Cluster 1\"], [28.0, 99611.0, 0.2795578681222758, 15345.658121390226, \"Cluster 1\"], [33.0, 98033.0, 0.30951111585458696, 15774.690605560645, \"Cluster 1\"], [30.0, 107926.0, 0.2301607310342209, 15520.536309707046, \"Cluster 1\"], [33.0, 111813.0, 0.2382437868013801, 15901.238967721652, \"Cluster 1\"], [82.0, 121642.0, 0.054653190464209855, 14177.513323069668, \"Cluster 1\"], [84.0, 115237.0, 0.06877820981367339, 14396.568282311468, \"Cluster 1\"], [29.0, 102028.0, 0.2889604994756899, 14634.430692347907, \"Cluster 1\"], [88.0, 123651.0, 0.02902714029105191, 13504.577571797938, \"Cluster 1\"], [30.0, 107302.0, 0.2396771776819925, 13993.24401848172, \"Cluster 1\"], [36.0, 109038.0, 0.3242132027621541, 16502.389477657125, \"Cluster 1\"], [35.0, 107131.0, 0.2424731551814769, 16200.013010637644, \"Cluster 1\"], [38.0, 104738.0, 0.4059588503683713, 15634.313868027426, \"Cluster 1\"], [33.0, 116616.0, 0.3209300476959025, 15104.49811363824, \"Cluster 1\"], [84.0, 114406.0, 0.12383837464097253, 16840.570583774286, \"Cluster 1\"], [39.0, 100661.0, 0.3766412501689559, 16873.128638209408, \"Cluster 1\"], [37.0, 106894.0, 0.3432357689892068, 14075.217365594552, \"Cluster 1\"], [31.0, 107115.0, 0.3280420856997338, 15693.499570389358, \"Cluster 1\"], [35.0, 110106.0, 0.2867692710102035, 14924.537223475552, \"Cluster 1\"], [30.0, 96241.0, 0.3773384910014747, 15485.156009739387, \"Cluster 1\"], [35.0, 108499.0, 0.2612719132713158, 16046.08301542436, \"Cluster 1\"], [86.0, 124372.0, 0.0, 15374.465952896948, \"Cluster 1\"], [34.0, 104284.0, 0.34454541177986714, 13541.801770810564, \"Cluster 1\"], [32.0, 102035.0, 0.26207035616469115, 14209.932802396092, \"Cluster 1\"], [86.0, 128378.0, 0.12608340975849852, 13585.778624417357, \"Cluster 1\"], [31.0, 107932.0, 0.3742421881649845, 12207.526078087714, \"Cluster 1\"], [35.0, 104678.0, 0.3279928581002429, 15422.055799721802, \"Cluster 1\"], [34.0, 107255.0, 0.3283430294033384, 15130.595225546444, \"Cluster 1\"], [36.0, 109809.0, 0.355660187354229, 14978.502144076487, \"Cluster 1\"], [28.0, 111937.0, 0.2537347301209012, 13669.110632506934, \"Cluster 1\"], [28.0, 100592.0, 0.2595983487762325, 15520.355775683653, \"Cluster 1\"], [86.0, 115689.0, 0.057842956133581036, 14803.153273493916, \"Cluster 1\"], [30.0, 106350.0, 0.3694162857692797, 14863.233588279092, \"Cluster 1\"], [93.0, 126601.0, 0.025170169477345742, 14117.44703707058, \"Cluster 1\"], [31.0, 110882.0, 0.3252806065281125, 14004.61374291491, \"Cluster 1\"], [82.0, 126257.0, 0.07809619439943333, 15816.101922357922, \"Cluster 1\"], [31.0, 105036.0, 0.2722279930569666, 16465.063521972657, \"Cluster 1\"], [38.0, 115146.0, 0.3144900731288347, 14798.868153501797, \"Cluster 1\"], [32.0, 110439.0, 0.30699015827427256, 13873.50756985278, \"Cluster 1\"], [29.0, 103223.0, 0.3388162937437745, 16252.883053065632, \"Cluster 1\"], [37.0, 110595.0, 0.28664850500199834, 15235.445457133224, \"Cluster 1\"], [27.0, 106758.0, 0.2662947092346973, 14942.560723173168, \"Cluster 1\"], [29.0, 99161.0, 0.3079200040396055, 15631.836772980834, \"Cluster 1\"], [37.0, 110732.0, 0.3226762482802641, 14265.351840497759, \"Cluster 1\"], [25.0, 106772.0, 0.3909047196000217, 16353.471790615497, \"Cluster 1\"], [31.0, 105006.0, 0.3741658782934958, 15419.41776312329, \"Cluster 1\"], [37.0, 108651.0, 0.1923436158292553, 15881.242198260683, \"Cluster 1\"], [34.0, 98752.0, 0.3720337099315751, 14975.384238944334, \"Cluster 1\"], [25.0, 101503.0, 0.28846885607409833, 15026.262148820157, \"Cluster 1\"], [29.0, 101943.0, 0.3256230614429721, 14619.354282159029, \"Cluster 1\"], [31.0, 102618.0, 0.2763779214063509, 13209.301612848929, \"Cluster 1\"], [22.0, 109152.0, 0.32344641636242355, 16022.482482363523, \"Cluster 1\"], [34.0, 98993.0, 0.3229930887837502, 16138.079373431863, \"Cluster 1\"], [32.0, 106543.0, 0.3107432443044589, 14337.288328489092, \"Cluster 1\"], [31.0, 101209.0, 0.3043229953712128, 16917.571691218804, \"Cluster 1\"], [35.0, 101691.0, 0.3491110181825554, 14152.671689505803, \"Cluster 1\"], [44.0, 114642.0, 0.3092049154534188, 14067.617788950563, \"Cluster 1\"], [34.0, 103204.0, 0.30108735378393314, 15149.810421179482, \"Cluster 1\"], [32.0, 117050.0, 0.3113555349689566, 14310.546206532163, \"Cluster 1\"], [34.0, 102291.0, 0.24786227611431386, 15819.577601160518, \"Cluster 1\"], [36.0, 101811.0, 0.3406667947415742, 15048.89961242685, \"Cluster 1\"], [32.0, 101905.0, 0.3074763135926987, 17532.16478349903, \"Cluster 1\"], [32.0, 95536.0, 0.26624605681014885, 15420.625644002741, \"Cluster 1\"], [30.0, 108928.0, 0.30386361503665704, 14339.652917342728, \"Cluster 1\"], [28.0, 97965.0, 0.3134915614599665, 14981.402201916082, \"Cluster 1\"], [35.0, 102308.0, 0.2751372175012177, 14874.557991326978, \"Cluster 1\"], [33.0, 92569.0, 0.33607980556714456, 13765.685995748696, \"Cluster 1\"], [29.0, 111426.0, 0.4002811559385194, 14352.643773230728, \"Cluster 1\"], [33.0, 99637.0, 0.2282170773869075, 15139.403142647532, \"Cluster 1\"], [31.0, 104388.0, 0.2864732316476225, 14406.561248437842, \"Cluster 1\"]], \"hoverlabel\": {\"namelength\": 0}, \"hovertemplate\": \"Cluster=%{customdata[4]}<br>Age=%{customdata[0]}<br>Income=%{customdata[1]}<br>SpendingScore=%{customdata[2]}<br>Savings=%{customdata[3]}\", \"legendgroup\": \"Cluster=Cluster 1\", \"marker\": {\"color\": \"#EF553B\"}, \"name\": \"Cluster=Cluster 1\", \"notched\": true, \"offsetgroup\": \"Cluster=Cluster 1\", \"showlegend\": false, \"type\": \"box\", \"x\": [34, 35, 33, 33, 34, 36, 29, 84, 83, 36, 31, 38, 31, 36, 38, 39, 90, 83, 35, 33, 32, 31, 31, 39, 37, 87, 33, 37, 31, 37, 88, 91, 30, 33, 36, 28, 36, 33, 85, 26, 24, 36, 33, 30, 29, 40, 42, 28, 34, 85, 31, 35, 37, 43, 89, 37, 90, 31, 29, 83, 84, 30, 29, 88, 33, 30, 34, 35, 30, 92, 30, 77, 34, 31, 33, 37, 29, 36, 31, 29, 31, 28, 28, 33, 30, 33, 82, 84, 29, 88, 30, 36, 35, 38, 33, 84, 39, 37, 31, 35, 30, 35, 86, 34, 32, 86, 31, 35, 34, 36, 28, 28, 86, 30, 93, 31, 82, 31, 38, 32, 29, 37, 27, 29, 37, 25, 31, 37, 34, 25, 29, 31, 22, 34, 32, 31, 35, 44, 34, 32, 34, 36, 32, 32, 30, 28, 35, 33, 29, 33, 31], \"xaxis\": \"x2\", \"yaxis\": \"y2\"}, {\"alignmentgroup\": \"True\", \"bingroup\": \"x\", \"hoverlabel\": {\"namelength\": 0}, \"hovertemplate\": \"Cluster=Cluster 2<br>Age=%{x}<br>count=%{y}\", \"legendgroup\": \"Cluster=Cluster 2\", \"marker\": {\"color\": \"#00cc96\", \"opacity\": 0.7}, \"name\": \"Cluster=Cluster 2\", \"offsetgroup\": \"Cluster=Cluster 2\", \"orientation\": \"v\", \"showlegend\": true, \"type\": \"histogram\", \"x\": [65, 59, 63, 61, 58, 67, 61, 59, 59, 60, 64, 67, 56, 58, 65, 59, 62, 63, 65, 59, 57, 59, 67, 60, 62, 60, 66, 58, 55, 60, 63, 61, 57, 56, 51, 61, 59, 58, 58, 55, 61, 58, 68, 61, 56, 58, 56, 60, 58, 62, 66, 57, 66, 63, 64, 62, 62, 60, 65, 60, 58, 63, 58, 62, 59, 65, 62, 59, 66, 64, 62, 61, 56, 62, 60, 56, 63, 56, 58, 59, 62, 59, 54, 61, 55, 53, 55, 61, 59, 59, 56, 61, 61, 60, 57, 61, 55, 53, 61, 64, 62, 55, 58, 57, 59, 58, 59, 64, 62, 64, 57, 57, 56, 61, 64, 63, 62, 61, 59, 67, 56, 58, 61, 59, 58, 57, 56, 58, 66, 64, 59, 59, 64, 61, 59, 57, 63, 57, 58, 62, 59, 59, 61, 53, 58, 68, 58, 55, 59, 60, 59, 63, 59, 56, 62, 60, 55], \"xaxis\": \"x\", \"yaxis\": \"y\"}, {\"alignmentgroup\": \"True\", \"customdata\": [[65.0, 74430.0, 0.7517741617758547, 7145.251128357927, \"Cluster 2\"], [59.0, 67346.0, 0.7251568963089163, 8857.849116294088, \"Cluster 2\"], [63.0, 82343.0, 0.7323186222078123, 8090.706739679063, \"Cluster 2\"], [61.0, 65914.0, 0.7781022309770123, 6406.8771303520325, \"Cluster 2\"], [58.0, 78078.0, 0.7837795500405715, 6483.049643745244, \"Cluster 2\"], [67.0, 68663.0, 0.7738336308243648, 7451.9940140258705, \"Cluster 2\"], [61.0, 67372.0, 0.7340673095092516, 6618.549336247915, \"Cluster 2\"], [59.0, 73350.0, 0.6797735912164855, 6710.5740183754415, \"Cluster 2\"], [59.0, 68038.0, 0.8014869916095588, 7719.283632687176, \"Cluster 2\"], [60.0, 65942.0, 0.8005783854654352, 5253.2650066086435, \"Cluster 2\"], [64.0, 62886.0, 0.7480162682831766, 8302.588638401632, \"Cluster 2\"], [67.0, 78702.0, 0.7632736815688779, 5030.364838791924, \"Cluster 2\"], [56.0, 73516.0, 0.806499154055182, 7696.832373798451, \"Cluster 2\"], [58.0, 70676.0, 0.7640283880376706, 7664.415650964042, \"Cluster 2\"], [65.0, 71229.0, 0.7878897626638453, 9024.337460598084, \"Cluster 2\"], [59.0, 69408.0, 0.8799059975919311, 6491.771149967824, \"Cluster 2\"], [62.0, 73675.0, 0.7966191667425384, 4688.657157271711, \"Cluster 2\"], [63.0, 70580.0, 0.7665090449070475, 7262.108723452133, \"Cluster 2\"], [65.0, 70430.0, 0.6969942581249643, 6971.164886262858, \"Cluster 2\"], [59.0, 73596.0, 0.8567042188430352, 8281.718740320448, \"Cluster 2\"], [57.0, 79794.0, 0.82240840085096, 5893.975284946178, \"Cluster 2\"], [59.0, 90422.0, 0.8062102206275251, 6746.281083820821, \"Cluster 2\"], [67.0, 80914.0, 0.8196642592960329, 6833.507136694643, \"Cluster 2\"], [60.0, 70054.0, 0.7143393610830643, 6609.918507412548, \"Cluster 2\"], [62.0, 67731.0, 0.8191699488980382, 5956.555677017446, \"Cluster 2\"], [60.0, 63476.0, 0.7519000198498227, 7543.542801728056, \"Cluster 2\"], [66.0, 77052.0, 0.7072624347132287, 6296.417311227459, \"Cluster 2\"], [58.0, 69247.0, 0.7237211912021976, 8715.67957429646, \"Cluster 2\"], [55.0, 76831.0, 0.7421137340413241, 7806.398750466399, \"Cluster 2\"], [60.0, 74460.0, 0.7545393292392412, 7567.6476522203675, \"Cluster 2\"], [63.0, 67370.0, 0.8999405530923943, 5985.077029740457, \"Cluster 2\"], [61.0, 78837.0, 0.7459489746307642, 6811.303235949058, \"Cluster 2\"], [57.0, 72055.0, 0.7549723463413129, 6544.847498075687, \"Cluster 2\"], [56.0, 80431.0, 0.7594315957853627, 8150.55743948241, \"Cluster 2\"], [51.0, 72086.0, 0.7911147257599156, 6732.096068632267, \"Cluster 2\"], [61.0, 72027.0, 0.7623249166772856, 6926.123598416466, \"Cluster 2\"], [59.0, 82199.0, 0.8035145098215853, 5880.814834306347, \"Cluster 2\"], [58.0, 70369.0, 0.9045204855363144, 7461.567502649429, \"Cluster 2\"], [58.0, 80248.0, 0.7249557054919687, 7641.16038162423, \"Cluster 2\"], [55.0, 64768.0, 0.7332568512323248, 6486.353872691102, \"Cluster 2\"], [61.0, 68842.0, 0.7544065421993587, 4077.6586565080543, \"Cluster 2\"], [58.0, 78611.0, 0.910416682938019, 7665.884294519009, \"Cluster 2\"], [68.0, 68944.0, 0.7455674638713768, 6828.709702363695, \"Cluster 2\"], [61.0, 74282.0, 0.6922364738673796, 7286.754751068365, \"Cluster 2\"], [56.0, 65313.0, 0.7546029986455771, 5574.2436767070985, \"Cluster 2\"], [58.0, 77769.0, 0.7913287771988531, 6559.8299230048315, \"Cluster 2\"], [56.0, 68698.0, 0.7162678503859907, 7070.967006969191, \"Cluster 2\"], [60.0, 79969.0, 0.812104912914789, 4879.334872972362, \"Cluster 2\"], [58.0, 69879.0, 0.7209986871945887, 6669.033518051874, \"Cluster 2\"], [62.0, 73480.0, 0.7391949797931453, 6277.675150528886, \"Cluster 2\"], [66.0, 72571.0, 0.8115483367376335, 6509.41150610998, \"Cluster 2\"], [57.0, 76594.0, 0.7906578552491133, 6584.654681310476, \"Cluster 2\"], [66.0, 64866.0, 0.7665941891374249, 5037.899138583947, \"Cluster 2\"], [63.0, 72815.0, 0.8200359737627068, 5504.385543801038, \"Cluster 2\"], [64.0, 71692.0, 0.8426521453196145, 7002.9765543033545, \"Cluster 2\"], [62.0, 63596.0, 0.7453271943508174, 6142.201619345869, \"Cluster 2\"], [62.0, 62650.0, 0.766572365027147, 7533.673609198676, \"Cluster 2\"], [60.0, 71436.0, 0.8320590985324969, 8557.86012627717, \"Cluster 2\"], [65.0, 65736.0, 0.7785687658100923, 6387.2196944302905, \"Cluster 2\"], [60.0, 70663.0, 0.7153396972946453, 7557.937593550947, \"Cluster 2\"], [58.0, 70259.0, 0.7697129169369328, 7101.674514204499, \"Cluster 2\"], [63.0, 80705.0, 0.7626699527314824, 5154.330634621805, \"Cluster 2\"], [58.0, 75757.0, 0.8097944168848634, 7390.5772934370325, \"Cluster 2\"], [62.0, 71050.0, 0.7353568506694507, 6988.197368273879, \"Cluster 2\"], [59.0, 67781.0, 0.7225483489421433, 6701.527664794541, \"Cluster 2\"], [65.0, 66017.0, 0.7861892594159869, 6159.662935925753, \"Cluster 2\"], [62.0, 80093.0, 0.6909167811268888, 6756.749072752337, \"Cluster 2\"], [59.0, 67988.0, 0.8114707012366371, 7255.903114334659, \"Cluster 2\"], [66.0, 82526.0, 0.7696800667721441, 6205.662650191712, \"Cluster 2\"], [64.0, 76364.0, 0.6993887663543108, 5772.1171358549755, \"Cluster 2\"], [62.0, 68279.0, 0.7196850779929922, 7028.675510384212, \"Cluster 2\"], [61.0, 69698.0, 0.7416839698444291, 8777.077471725162, \"Cluster 2\"], [56.0, 68463.0, 0.8157116929554062, 8995.180087953215, \"Cluster 2\"], [62.0, 78413.0, 0.7907090657200839, 6961.2041923680945, \"Cluster 2\"], [60.0, 65054.0, 0.7086131723969877, 5417.237293788358, \"Cluster 2\"], [56.0, 84386.0, 0.7849450699605269, 7270.41953428175, \"Cluster 2\"], [63.0, 85761.0, 0.8005979105724924, 7175.090218501247, \"Cluster 2\"], [56.0, 86484.0, 0.7321233689266612, 8777.496176839057, \"Cluster 2\"], [58.0, 70798.0, 0.7535283874245788, 5330.73989989779, \"Cluster 2\"], [59.0, 81799.0, 0.7910820467274178, 5417.661426197439, \"Cluster 2\"], [62.0, 74751.0, 0.7026569520102857, 9258.99296503407, \"Cluster 2\"], [59.0, 74373.0, 0.7656795619984281, 7346.334503537976, \"Cluster 2\"], [54.0, 76500.0, 0.7851978501165687, 6878.884248553974, \"Cluster 2\"], [61.0, 71933.0, 0.8441067966472876, 8022.208541100706, \"Cluster 2\"], [55.0, 71621.0, 0.7533426836166189, 7780.589913955977, \"Cluster 2\"], [53.0, 76667.0, 0.7600576501232099, 5168.225474983632, \"Cluster 2\"], [55.0, 78761.0, 0.8271741985123882, 8376.74947779104, \"Cluster 2\"], [61.0, 76955.0, 0.7771175646074471, 7467.036702314494, \"Cluster 2\"], [59.0, 65700.0, 0.8114711740198254, 6932.487932327357, \"Cluster 2\"], [59.0, 69738.0, 0.7421121217155721, 7151.650866065035, \"Cluster 2\"], [56.0, 63866.0, 0.7618879582513512, 7762.255066659051, \"Cluster 2\"], [61.0, 74117.0, 0.7702140596767938, 5103.609230428381, \"Cluster 2\"], [61.0, 63846.0, 0.8278622414878984, 7283.504772674617, \"Cluster 2\"], [60.0, 70012.0, 0.7944610508231513, 7263.242447729872, \"Cluster 2\"], [57.0, 75332.0, 0.7215024376129366, 6845.056822204781, \"Cluster 2\"], [61.0, 73245.0, 0.811160373170345, 7413.784487271215, \"Cluster 2\"], [55.0, 74356.0, 0.7998269700906482, 6484.630737953294, \"Cluster 2\"], [53.0, 62117.0, 0.7331388477995737, 7500.452413594261, \"Cluster 2\"], [61.0, 69001.0, 0.8216687745413516, 5074.12121172259, \"Cluster 2\"], [64.0, 60493.0, 0.7680563479442216, 7708.112609459162, \"Cluster 2\"], [62.0, 69741.0, 0.8462196017575947, 5781.658046536959, \"Cluster 2\"], [55.0, 71056.0, 0.7565897119333272, 7464.163256732262, \"Cluster 2\"], [58.0, 74340.0, 0.7351650452097145, 7259.540921675672, \"Cluster 2\"], [57.0, 79470.0, 0.7734352958312237, 6773.049089777121, \"Cluster 2\"], [59.0, 72588.0, 0.8017156979122673, 6300.8437570950255, \"Cluster 2\"], [58.0, 77101.0, 0.7667195837506832, 8148.49184821177, \"Cluster 2\"], [59.0, 74576.0, 0.7812961239072382, 10547.775367695343, \"Cluster 2\"], [64.0, 88361.0, 0.7745562258521365, 7240.759687480846, \"Cluster 2\"], [62.0, 69391.0, 0.7921059737158539, 6518.283467894094, \"Cluster 2\"], [64.0, 86283.0, 0.7568019251873561, 6852.5548669147165, \"Cluster 2\"], [57.0, 74014.0, 0.787378081122989, 5783.846928267082, \"Cluster 2\"], [57.0, 69655.0, 0.6748906779058501, 5889.831167170132, \"Cluster 2\"], [56.0, 67274.0, 0.7798516671891869, 6652.391024403152, \"Cluster 2\"], [61.0, 65647.0, 0.7174899773841509, 7497.231607003855, \"Cluster 2\"], [64.0, 64331.0, 0.7571277508774099, 5815.660096290825, \"Cluster 2\"], [63.0, 75078.0, 0.7831591503681397, 7468.8510795028005, \"Cluster 2\"], [62.0, 62747.0, 0.7705945596869115, 5852.326242628098, \"Cluster 2\"], [61.0, 73495.0, 0.7727563051023116, 9288.189785744367, \"Cluster 2\"], [59.0, 75505.0, 0.7682786576081454, 5006.528691371692, \"Cluster 2\"], [67.0, 59243.0, 0.7436599996604758, 5446.557472721708, \"Cluster 2\"], [56.0, 78992.0, 0.8122757021441627, 7285.18043685174, \"Cluster 2\"], [58.0, 77559.0, 0.7122963723872477, 5742.524488088997, \"Cluster 2\"], [61.0, 72060.0, 0.8334590233217959, 7924.6411381540165, \"Cluster 2\"], [59.0, 56321.0, 0.806565925193039, 6129.288986032587, \"Cluster 2\"], [58.0, 70272.0, 0.8229596005059499, 5290.087044285296, \"Cluster 2\"], [57.0, 65608.0, 0.7662313009024402, 6904.318224287022, \"Cluster 2\"], [56.0, 75599.0, 0.7737370986430746, 6799.625271842961, \"Cluster 2\"], [58.0, 76052.0, 0.7215881830727278, 6681.9843863770275, \"Cluster 2\"], [66.0, 71672.0, 0.7538892176112998, 7387.835437850721, \"Cluster 2\"], [64.0, 78801.0, 0.7403674891662984, 6420.9440712002615, \"Cluster 2\"], [59.0, 69460.0, 0.7527238381125997, 6101.372146632121, \"Cluster 2\"], [59.0, 67401.0, 0.7114339697492305, 6529.586309935448, \"Cluster 2\"], [64.0, 76410.0, 0.7756041848937439, 6135.308197117819, \"Cluster 2\"], [61.0, 71171.0, 0.7210804930623951, 6457.790641224788, \"Cluster 2\"], [59.0, 77978.0, 0.7188952048526104, 8316.31110205122, \"Cluster 2\"], [57.0, 76573.0, 0.8405990704520518, 6225.3760824332285, \"Cluster 2\"], [63.0, 69849.0, 0.7403870808915297, 7670.6909659413295, \"Cluster 2\"], [57.0, 64803.0, 0.7285849289103553, 6255.552641057161, \"Cluster 2\"], [58.0, 78635.0, 0.7864400503429185, 7162.739043055361, \"Cluster 2\"], [62.0, 67030.0, 0.7467384433463651, 6740.765182071713, \"Cluster 2\"], [59.0, 73057.0, 0.8302949092020397, 7819.393215767329, \"Cluster 2\"], [59.0, 71302.0, 0.7020090041734849, 6595.726010227134, \"Cluster 2\"], [61.0, 71033.0, 0.8380950724014863, 9456.876962701137, \"Cluster 2\"], [53.0, 74996.0, 0.7387310917031671, 7821.447803561914, \"Cluster 2\"], [58.0, 80278.0, 0.8233589910091558, 6335.97831998802, \"Cluster 2\"], [68.0, 77648.0, 0.7965446939835457, 6190.864082788901, \"Cluster 2\"], [58.0, 83351.0, 0.8406978038692191, 6673.909711092488, \"Cluster 2\"], [55.0, 76057.0, 0.8778279844516369, 6132.898204816149, \"Cluster 2\"], [59.0, 75495.0, 0.7945029052198103, 6702.9519263157545, \"Cluster 2\"], [60.0, 67491.0, 0.84661848692906, 7180.713788260257, \"Cluster 2\"], [59.0, 80876.0, 0.6573140731575163, 7232.825142650888, \"Cluster 2\"], [63.0, 56875.0, 0.7622805817657738, 7837.233619544163, \"Cluster 2\"], [59.0, 69115.0, 0.7598834338453199, 5997.690199856996, \"Cluster 2\"], [56.0, 60059.0, 0.7275840223364691, 7166.858605155183, \"Cluster 2\"], [62.0, 69326.0, 0.7980123380544829, 7003.095703317772, \"Cluster 2\"], [60.0, 65340.0, 0.7316484923943142, 8354.196507802662, \"Cluster 2\"], [55.0, 73895.0, 0.7471254610291731, 5563.906948891499, \"Cluster 2\"]], \"hoverlabel\": {\"namelength\": 0}, \"hovertemplate\": \"Cluster=%{customdata[4]}<br>Age=%{customdata[0]}<br>Income=%{customdata[1]}<br>SpendingScore=%{customdata[2]}<br>Savings=%{customdata[3]}\", \"legendgroup\": \"Cluster=Cluster 2\", \"marker\": {\"color\": \"#00cc96\"}, \"name\": \"Cluster=Cluster 2\", \"notched\": true, \"offsetgroup\": \"Cluster=Cluster 2\", \"showlegend\": false, \"type\": \"box\", \"x\": [65, 59, 63, 61, 58, 67, 61, 59, 59, 60, 64, 67, 56, 58, 65, 59, 62, 63, 65, 59, 57, 59, 67, 60, 62, 60, 66, 58, 55, 60, 63, 61, 57, 56, 51, 61, 59, 58, 58, 55, 61, 58, 68, 61, 56, 58, 56, 60, 58, 62, 66, 57, 66, 63, 64, 62, 62, 60, 65, 60, 58, 63, 58, 62, 59, 65, 62, 59, 66, 64, 62, 61, 56, 62, 60, 56, 63, 56, 58, 59, 62, 59, 54, 61, 55, 53, 55, 61, 59, 59, 56, 61, 61, 60, 57, 61, 55, 53, 61, 64, 62, 55, 58, 57, 59, 58, 59, 64, 62, 64, 57, 57, 56, 61, 64, 63, 62, 61, 59, 67, 56, 58, 61, 59, 58, 57, 56, 58, 66, 64, 59, 59, 64, 61, 59, 57, 63, 57, 58, 62, 59, 59, 61, 53, 58, 68, 58, 55, 59, 60, 59, 63, 59, 56, 62, 60, 55], \"xaxis\": \"x2\", \"yaxis\": \"y2\"}, {\"alignmentgroup\": \"True\", \"bingroup\": \"x\", \"hoverlabel\": {\"namelength\": 0}, \"hovertemplate\": \"Cluster=Cluster 3<br>Age=%{x}<br>count=%{y}\", \"legendgroup\": \"Cluster=Cluster 3\", \"marker\": {\"color\": \"#ab63fa\", \"opacity\": 0.7}, \"name\": \"Cluster=Cluster 3\", \"offsetgroup\": \"Cluster=Cluster 3\", \"orientation\": \"v\", \"showlegend\": true, \"type\": \"histogram\", \"x\": [25, 18, 27, 31, 20, 22, 21, 26, 17, 30, 22, 29, 25, 17, 28, 25, 17, 28, 25, 21, 26, 28, 20, 20, 24, 26, 28, 23, 26, 24, 23, 22, 26, 17, 24, 24, 25, 25, 27, 24, 27, 28, 24, 29, 28, 29, 18, 23, 23, 24], \"xaxis\": \"x\", \"yaxis\": \"y\"}, {\"alignmentgroup\": \"True\", \"customdata\": [[25.0, 138021.0, 0.944017175810026, 3005.577482475175, \"Cluster 3\"], [18.0, 130813.0, 0.8908912472675831, 5256.434559627984, \"Cluster 3\"], [27.0, 121468.0, 0.9206489879585448, 5011.112062373318, \"Cluster 3\"], [31.0, 122924.0, 0.89046022417733, 3071.944576152969, \"Cluster 3\"], [20.0, 129142.0, 0.8870519941988757, 5603.121027746489, \"Cluster 3\"], [22.0, 134209.0, 0.8706980046008759, 5138.109568643242, \"Cluster 3\"], [21.0, 123678.0, 0.8320252689431032, 2838.8158208359087, \"Cluster 3\"], [26.0, 123005.0, 0.9845261943505972, 4371.23473281147, \"Cluster 3\"], [17.0, 134966.0, 0.9072421746334024, 4128.044795832438, \"Cluster 3\"], [30.0, 122788.0, 0.8728724057273831, 5706.149573297764, \"Cluster 3\"], [22.0, 132948.0, 0.8898001728484242, 2839.7863574778585, \"Cluster 3\"], [29.0, 131578.0, 0.8470341025128371, 3535.5143522162816, \"Cluster 3\"], [25.0, 128625.0, 0.8167389887954251, 4914.117127206949, \"Cluster 3\"], [17.0, 134734.0, 0.8579216672301577, 0.0, \"Cluster 3\"], [28.0, 117108.0, 0.857078493256913, 4749.879237491619, \"Cluster 3\"], [25.0, 130361.0, 0.9254385568124625, 4691.55213906238, \"Cluster 3\"], [17.0, 123828.0, 0.9420129076091708, 3798.8403998790254, \"Cluster 3\"], [28.0, 123153.0, 0.9842407862639496, 3697.5136453853297, \"Cluster 3\"], [25.0, 120957.0, 0.8776734245644572, 5590.447216086322, \"Cluster 3\"], [21.0, 129726.0, 0.9517923119702948, 4550.7995216878835, \"Cluster 3\"], [26.0, 125662.0, 0.9268183658411524, 6089.47832250152, \"Cluster 3\"], [28.0, 123229.0, 0.8733219541371664, 610.4462190811464, \"Cluster 3\"], [20.0, 129469.0, 0.9399954311014268, 5522.573424346325, \"Cluster 3\"], [20.0, 122581.0, 0.8940806156500202, 4444.4476842520535, \"Cluster 3\"], [24.0, 134384.0, 0.8747208244890404, 3731.3397614449186, \"Cluster 3\"], [26.0, 127320.0, 0.8250298045601994, 5495.642137901324, \"Cluster 3\"], [28.0, 121216.0, 0.8569692823607705, 5349.065446955783, \"Cluster 3\"], [23.0, 129937.0, 0.8727356634334804, 4102.065424707484, \"Cluster 3\"], [26.0, 126617.0, 0.8770521049168103, 2913.368146562765, \"Cluster 3\"], [24.0, 127352.0, 0.9054521594192038, 2961.716874324024, \"Cluster 3\"], [23.0, 138443.0, 0.9226565539031124, 3297.058843994153, \"Cluster 3\"], [22.0, 120525.0, 1.0, 5495.165732288548, \"Cluster 3\"], [26.0, 131827.0, 0.8807194909406801, 4352.699304837541, \"Cluster 3\"], [17.0, 136255.0, 0.935876103673024, 4126.226651408871, \"Cluster 3\"], [24.0, 120465.0, 0.9074853865005544, 4838.348350281593, \"Cluster 3\"], [24.0, 130974.0, 0.9118386021444842, 4420.0727101369375, \"Cluster 3\"], [25.0, 130934.0, 0.9137660194970426, 3942.389134492165, \"Cluster 3\"], [25.0, 131009.0, 0.8640569016468125, 4792.426581212785, \"Cluster 3\"], [27.0, 122671.0, 0.910107112831516, 4206.287238709509, \"Cluster 3\"], [24.0, 136644.0, 0.8716976842508705, 1617.2257000775644, \"Cluster 3\"], [27.0, 125008.0, 0.9596454072349518, 2963.6377080587795, \"Cluster 3\"], [28.0, 127699.0, 0.8814245468734898, 5490.814955670689, \"Cluster 3\"], [24.0, 134389.0, 0.9388521378701832, 4573.60634580409, \"Cluster 3\"], [29.0, 142000.0, 0.9400873084125808, 5349.821181717665, \"Cluster 3\"], [28.0, 129019.0, 0.9308319590820414, 3016.8206434862623, \"Cluster 3\"], [29.0, 122264.0, 0.8985788437238403, 2494.55627432471, \"Cluster 3\"], [18.0, 123718.0, 0.8065528615489801, 4420.445820614172, \"Cluster 3\"], [23.0, 126500.0, 0.8650328592458483, 3270.150434407087, \"Cluster 3\"], [23.0, 120226.0, 0.8819129663041946, 4698.294710949844, \"Cluster 3\"], [24.0, 129087.0, 0.8271179432765905, 3290.829468618805, \"Cluster 3\"]], \"hoverlabel\": {\"namelength\": 0}, \"hovertemplate\": \"Cluster=%{customdata[4]}<br>Age=%{customdata[0]}<br>Income=%{customdata[1]}<br>SpendingScore=%{customdata[2]}<br>Savings=%{customdata[3]}\", \"legendgroup\": \"Cluster=Cluster 3\", \"marker\": {\"color\": \"#ab63fa\"}, \"name\": \"Cluster=Cluster 3\", \"notched\": true, \"offsetgroup\": \"Cluster=Cluster 3\", \"showlegend\": false, \"type\": \"box\", \"x\": [25, 18, 27, 31, 20, 22, 21, 26, 17, 30, 22, 29, 25, 17, 28, 25, 17, 28, 25, 21, 26, 28, 20, 20, 24, 26, 28, 23, 26, 24, 23, 22, 26, 17, 24, 24, 25, 25, 27, 24, 27, 28, 24, 29, 28, 29, 18, 23, 23, 24], \"xaxis\": \"x2\", \"yaxis\": \"y2\"}],\n",
       "                        {\"barmode\": \"relative\", \"legend\": {\"tracegroupgap\": 0}, \"margin\": {\"t\": 60}, \"template\": {\"data\": {\"bar\": [{\"error_x\": {\"color\": \"#2a3f5f\"}, \"error_y\": {\"color\": \"#2a3f5f\"}, \"marker\": {\"line\": {\"color\": \"#E5ECF6\", \"width\": 0.5}}, \"type\": \"bar\"}], \"barpolar\": [{\"marker\": {\"line\": {\"color\": \"#E5ECF6\", \"width\": 0.5}}, \"type\": \"barpolar\"}], \"carpet\": [{\"aaxis\": {\"endlinecolor\": \"#2a3f5f\", \"gridcolor\": \"white\", \"linecolor\": \"white\", \"minorgridcolor\": \"white\", \"startlinecolor\": \"#2a3f5f\"}, \"baxis\": {\"endlinecolor\": \"#2a3f5f\", \"gridcolor\": \"white\", \"linecolor\": \"white\", \"minorgridcolor\": \"white\", \"startlinecolor\": \"#2a3f5f\"}, \"type\": \"carpet\"}], \"choropleth\": [{\"colorbar\": {\"outlinewidth\": 0, \"ticks\": \"\"}, \"type\": \"choropleth\"}], \"contour\": [{\"colorbar\": {\"outlinewidth\": 0, \"ticks\": \"\"}, \"colorscale\": [[0.0, \"#0d0887\"], [0.1111111111111111, \"#46039f\"], [0.2222222222222222, \"#7201a8\"], [0.3333333333333333, \"#9c179e\"], [0.4444444444444444, \"#bd3786\"], [0.5555555555555556, \"#d8576b\"], [0.6666666666666666, \"#ed7953\"], [0.7777777777777778, \"#fb9f3a\"], [0.8888888888888888, \"#fdca26\"], [1.0, \"#f0f921\"]], \"type\": \"contour\"}], \"contourcarpet\": [{\"colorbar\": {\"outlinewidth\": 0, \"ticks\": \"\"}, \"type\": \"contourcarpet\"}], \"heatmap\": [{\"colorbar\": {\"outlinewidth\": 0, \"ticks\": \"\"}, \"colorscale\": [[0.0, \"#0d0887\"], [0.1111111111111111, \"#46039f\"], [0.2222222222222222, \"#7201a8\"], [0.3333333333333333, \"#9c179e\"], [0.4444444444444444, \"#bd3786\"], [0.5555555555555556, \"#d8576b\"], [0.6666666666666666, \"#ed7953\"], [0.7777777777777778, \"#fb9f3a\"], [0.8888888888888888, \"#fdca26\"], [1.0, \"#f0f921\"]], \"type\": \"heatmap\"}], \"heatmapgl\": [{\"colorbar\": {\"outlinewidth\": 0, \"ticks\": \"\"}, \"colorscale\": [[0.0, \"#0d0887\"], [0.1111111111111111, \"#46039f\"], [0.2222222222222222, \"#7201a8\"], [0.3333333333333333, \"#9c179e\"], [0.4444444444444444, \"#bd3786\"], [0.5555555555555556, \"#d8576b\"], [0.6666666666666666, \"#ed7953\"], [0.7777777777777778, \"#fb9f3a\"], [0.8888888888888888, \"#fdca26\"], [1.0, \"#f0f921\"]], \"type\": \"heatmapgl\"}], \"histogram\": [{\"marker\": {\"colorbar\": {\"outlinewidth\": 0, \"ticks\": \"\"}}, \"type\": \"histogram\"}], \"histogram2d\": [{\"colorbar\": {\"outlinewidth\": 0, \"ticks\": \"\"}, \"colorscale\": [[0.0, \"#0d0887\"], [0.1111111111111111, \"#46039f\"], [0.2222222222222222, \"#7201a8\"], [0.3333333333333333, \"#9c179e\"], [0.4444444444444444, \"#bd3786\"], [0.5555555555555556, \"#d8576b\"], [0.6666666666666666, \"#ed7953\"], [0.7777777777777778, \"#fb9f3a\"], [0.8888888888888888, \"#fdca26\"], [1.0, \"#f0f921\"]], \"type\": \"histogram2d\"}], \"histogram2dcontour\": [{\"colorbar\": {\"outlinewidth\": 0, \"ticks\": \"\"}, \"colorscale\": [[0.0, \"#0d0887\"], [0.1111111111111111, \"#46039f\"], [0.2222222222222222, \"#7201a8\"], [0.3333333333333333, \"#9c179e\"], [0.4444444444444444, \"#bd3786\"], [0.5555555555555556, \"#d8576b\"], [0.6666666666666666, \"#ed7953\"], [0.7777777777777778, \"#fb9f3a\"], [0.8888888888888888, \"#fdca26\"], [1.0, \"#f0f921\"]], \"type\": \"histogram2dcontour\"}], \"mesh3d\": [{\"colorbar\": {\"outlinewidth\": 0, \"ticks\": \"\"}, \"type\": \"mesh3d\"}], \"parcoords\": [{\"line\": {\"colorbar\": {\"outlinewidth\": 0, \"ticks\": \"\"}}, \"type\": \"parcoords\"}], \"pie\": [{\"automargin\": true, \"type\": \"pie\"}], \"scatter\": [{\"marker\": {\"colorbar\": {\"outlinewidth\": 0, \"ticks\": \"\"}}, \"type\": \"scatter\"}], \"scatter3d\": [{\"line\": {\"colorbar\": {\"outlinewidth\": 0, \"ticks\": \"\"}}, \"marker\": {\"colorbar\": {\"outlinewidth\": 0, \"ticks\": \"\"}}, \"type\": \"scatter3d\"}], \"scattercarpet\": [{\"marker\": {\"colorbar\": {\"outlinewidth\": 0, \"ticks\": \"\"}}, \"type\": \"scattercarpet\"}], \"scattergeo\": [{\"marker\": {\"colorbar\": {\"outlinewidth\": 0, \"ticks\": \"\"}}, \"type\": \"scattergeo\"}], \"scattergl\": [{\"marker\": {\"colorbar\": {\"outlinewidth\": 0, \"ticks\": \"\"}}, \"type\": \"scattergl\"}], \"scattermapbox\": [{\"marker\": {\"colorbar\": {\"outlinewidth\": 0, \"ticks\": \"\"}}, \"type\": \"scattermapbox\"}], \"scatterpolar\": [{\"marker\": {\"colorbar\": {\"outlinewidth\": 0, \"ticks\": \"\"}}, \"type\": \"scatterpolar\"}], \"scatterpolargl\": [{\"marker\": {\"colorbar\": {\"outlinewidth\": 0, \"ticks\": \"\"}}, \"type\": \"scatterpolargl\"}], \"scatterternary\": [{\"marker\": {\"colorbar\": {\"outlinewidth\": 0, \"ticks\": \"\"}}, \"type\": \"scatterternary\"}], \"surface\": [{\"colorbar\": {\"outlinewidth\": 0, \"ticks\": \"\"}, \"colorscale\": [[0.0, \"#0d0887\"], [0.1111111111111111, \"#46039f\"], [0.2222222222222222, \"#7201a8\"], [0.3333333333333333, \"#9c179e\"], [0.4444444444444444, \"#bd3786\"], [0.5555555555555556, \"#d8576b\"], [0.6666666666666666, \"#ed7953\"], [0.7777777777777778, \"#fb9f3a\"], [0.8888888888888888, \"#fdca26\"], [1.0, \"#f0f921\"]], \"type\": \"surface\"}], \"table\": [{\"cells\": {\"fill\": {\"color\": \"#EBF0F8\"}, \"line\": {\"color\": \"white\"}}, \"header\": {\"fill\": {\"color\": \"#C8D4E3\"}, \"line\": {\"color\": \"white\"}}, \"type\": \"table\"}]}, \"layout\": {\"annotationdefaults\": {\"arrowcolor\": \"#2a3f5f\", \"arrowhead\": 0, \"arrowwidth\": 1}, \"coloraxis\": {\"colorbar\": {\"outlinewidth\": 0, \"ticks\": \"\"}}, \"colorscale\": {\"diverging\": [[0, \"#8e0152\"], [0.1, \"#c51b7d\"], [0.2, \"#de77ae\"], [0.3, \"#f1b6da\"], [0.4, \"#fde0ef\"], [0.5, \"#f7f7f7\"], [0.6, \"#e6f5d0\"], [0.7, \"#b8e186\"], [0.8, \"#7fbc41\"], [0.9, \"#4d9221\"], [1, \"#276419\"]], \"sequential\": [[0.0, \"#0d0887\"], [0.1111111111111111, \"#46039f\"], [0.2222222222222222, \"#7201a8\"], [0.3333333333333333, \"#9c179e\"], [0.4444444444444444, \"#bd3786\"], [0.5555555555555556, \"#d8576b\"], [0.6666666666666666, \"#ed7953\"], [0.7777777777777778, \"#fb9f3a\"], [0.8888888888888888, \"#fdca26\"], [1.0, \"#f0f921\"]], \"sequentialminus\": [[0.0, \"#0d0887\"], [0.1111111111111111, \"#46039f\"], [0.2222222222222222, \"#7201a8\"], [0.3333333333333333, \"#9c179e\"], [0.4444444444444444, \"#bd3786\"], [0.5555555555555556, \"#d8576b\"], [0.6666666666666666, \"#ed7953\"], [0.7777777777777778, \"#fb9f3a\"], [0.8888888888888888, \"#fdca26\"], [1.0, \"#f0f921\"]]}, \"colorway\": [\"#636efa\", \"#EF553B\", \"#00cc96\", \"#ab63fa\", \"#FFA15A\", \"#19d3f3\", \"#FF6692\", \"#B6E880\", \"#FF97FF\", \"#FECB52\"], \"font\": {\"color\": \"#2a3f5f\"}, \"geo\": {\"bgcolor\": \"white\", \"lakecolor\": \"white\", \"landcolor\": \"#E5ECF6\", \"showlakes\": true, \"showland\": true, \"subunitcolor\": \"white\"}, \"hoverlabel\": {\"align\": \"left\"}, \"hovermode\": \"closest\", \"mapbox\": {\"style\": \"light\"}, \"paper_bgcolor\": \"white\", \"plot_bgcolor\": \"#E5ECF6\", \"polar\": {\"angularaxis\": {\"gridcolor\": \"white\", \"linecolor\": \"white\", \"ticks\": \"\"}, \"bgcolor\": \"#E5ECF6\", \"radialaxis\": {\"gridcolor\": \"white\", \"linecolor\": \"white\", \"ticks\": \"\"}}, \"scene\": {\"xaxis\": {\"backgroundcolor\": \"#E5ECF6\", \"gridcolor\": \"white\", \"gridwidth\": 2, \"linecolor\": \"white\", \"showbackground\": true, \"ticks\": \"\", \"zerolinecolor\": \"white\"}, \"yaxis\": {\"backgroundcolor\": \"#E5ECF6\", \"gridcolor\": \"white\", \"gridwidth\": 2, \"linecolor\": \"white\", \"showbackground\": true, \"ticks\": \"\", \"zerolinecolor\": \"white\"}, \"zaxis\": {\"backgroundcolor\": \"#E5ECF6\", \"gridcolor\": \"white\", \"gridwidth\": 2, \"linecolor\": \"white\", \"showbackground\": true, \"ticks\": \"\", \"zerolinecolor\": \"white\"}}, \"shapedefaults\": {\"line\": {\"color\": \"#2a3f5f\"}}, \"ternary\": {\"aaxis\": {\"gridcolor\": \"white\", \"linecolor\": \"white\", \"ticks\": \"\"}, \"baxis\": {\"gridcolor\": \"white\", \"linecolor\": \"white\", \"ticks\": \"\"}, \"bgcolor\": \"#E5ECF6\", \"caxis\": {\"gridcolor\": \"white\", \"linecolor\": \"white\", \"ticks\": \"\"}}, \"title\": {\"x\": 0.05}, \"xaxis\": {\"automargin\": true, \"gridcolor\": \"white\", \"linecolor\": \"white\", \"ticks\": \"\", \"title\": {\"standoff\": 15}, \"zerolinecolor\": \"white\", \"zerolinewidth\": 2}, \"yaxis\": {\"automargin\": true, \"gridcolor\": \"white\", \"linecolor\": \"white\", \"ticks\": \"\", \"title\": {\"standoff\": 15}, \"zerolinecolor\": \"white\", \"zerolinewidth\": 2}}}, \"xaxis\": {\"anchor\": \"y\", \"domain\": [0.0, 1.0], \"title\": {\"text\": \"Age\"}}, \"xaxis2\": {\"anchor\": \"y2\", \"domain\": [0.0, 1.0], \"matches\": \"x\", \"showgrid\": true, \"showticklabels\": false}, \"yaxis\": {\"anchor\": \"x\", \"domain\": [0.0, 0.7326], \"title\": {\"text\": \"count\"}}, \"yaxis2\": {\"anchor\": \"x2\", \"domain\": [0.7426, 1.0], \"matches\": \"y2\", \"showgrid\": false, \"showline\": false, \"showticklabels\": false, \"ticks\": \"\"}},\n",
       "                        {\"responsive\": true}\n",
       "                    ).then(function(){\n",
       "                            \n",
       "var gd = document.getElementById('c255c182-8308-4bbc-bc09-ea7e7ac98634');\n",
       "var x = new MutationObserver(function (mutations, observer) {{\n",
       "        var display = window.getComputedStyle(gd).display;\n",
       "        if (!display || display === 'none') {{\n",
       "            console.log([gd, 'removed!']);\n",
       "            Plotly.purge(gd);\n",
       "            observer.disconnect();\n",
       "        }}\n",
       "}});\n",
       "\n",
       "// Listen for the removal of the full notebook cells\n",
       "var notebookContainer = gd.closest('#notebook-container');\n",
       "if (notebookContainer) {{\n",
       "    x.observe(notebookContainer, {childList: true});\n",
       "}}\n",
       "\n",
       "// Listen for the clearing of the current output cell\n",
       "var outputEl = gd.closest('.output');\n",
       "if (outputEl) {{\n",
       "    x.observe(outputEl, {childList: true});\n",
       "}}\n",
       "\n",
       "                        })\n",
       "                };\n",
       "                });\n",
       "            </script>\n",
       "        </div>"
      ]
     },
     "metadata": {},
     "output_type": "display_data"
    }
   ],
   "source": [
    "plot_model(kmeans, plot = 'distribution', feature='Age')"
   ]
  },
  {
   "cell_type": "markdown",
   "metadata": {},
   "source": [
    "## Tune Model (Classifier)"
   ]
  },
  {
   "cell_type": "code",
   "execution_count": 25,
   "metadata": {},
   "outputs": [
    {
     "data": {
      "text/html": [
       "<div>\n",
       "<style scoped>\n",
       "    .dataframe tbody tr th:only-of-type {\n",
       "        vertical-align: middle;\n",
       "    }\n",
       "\n",
       "    .dataframe tbody tr th {\n",
       "        vertical-align: top;\n",
       "    }\n",
       "\n",
       "    .dataframe thead th {\n",
       "        text-align: right;\n",
       "    }\n",
       "</style>\n",
       "<table border=\"1\" class=\"dataframe\">\n",
       "  <thead>\n",
       "    <tr style=\"text-align: right;\">\n",
       "      <th></th>\n",
       "      <th>Purchase</th>\n",
       "      <th>StoreID</th>\n",
       "      <th>PriceCH</th>\n",
       "      <th>PriceMM</th>\n",
       "      <th>DiscCH</th>\n",
       "      <th>DiscMM</th>\n",
       "      <th>SpecialCH</th>\n",
       "      <th>SpecialMM</th>\n",
       "      <th>LoyalCH</th>\n",
       "      <th>SalePriceMM</th>\n",
       "      <th>SalePriceCH</th>\n",
       "      <th>PriceDiff</th>\n",
       "      <th>PctDiscMM</th>\n",
       "      <th>PctDiscCH</th>\n",
       "      <th>ListPriceDiff</th>\n",
       "    </tr>\n",
       "  </thead>\n",
       "  <tbody>\n",
       "    <tr>\n",
       "      <th>0</th>\n",
       "      <td>1</td>\n",
       "      <td>1</td>\n",
       "      <td>1.75</td>\n",
       "      <td>1.99</td>\n",
       "      <td>0.00</td>\n",
       "      <td>0.0</td>\n",
       "      <td>0</td>\n",
       "      <td>0</td>\n",
       "      <td>0.500000</td>\n",
       "      <td>1.99</td>\n",
       "      <td>1.75</td>\n",
       "      <td>0.24</td>\n",
       "      <td>0.000000</td>\n",
       "      <td>0.000000</td>\n",
       "      <td>0.24</td>\n",
       "    </tr>\n",
       "    <tr>\n",
       "      <th>1</th>\n",
       "      <td>1</td>\n",
       "      <td>1</td>\n",
       "      <td>1.75</td>\n",
       "      <td>1.99</td>\n",
       "      <td>0.00</td>\n",
       "      <td>0.3</td>\n",
       "      <td>0</td>\n",
       "      <td>1</td>\n",
       "      <td>0.600000</td>\n",
       "      <td>1.69</td>\n",
       "      <td>1.75</td>\n",
       "      <td>-0.06</td>\n",
       "      <td>0.150754</td>\n",
       "      <td>0.000000</td>\n",
       "      <td>0.24</td>\n",
       "    </tr>\n",
       "    <tr>\n",
       "      <th>2</th>\n",
       "      <td>1</td>\n",
       "      <td>1</td>\n",
       "      <td>1.86</td>\n",
       "      <td>2.09</td>\n",
       "      <td>0.17</td>\n",
       "      <td>0.0</td>\n",
       "      <td>0</td>\n",
       "      <td>0</td>\n",
       "      <td>0.680000</td>\n",
       "      <td>2.09</td>\n",
       "      <td>1.69</td>\n",
       "      <td>0.40</td>\n",
       "      <td>0.000000</td>\n",
       "      <td>0.091398</td>\n",
       "      <td>0.23</td>\n",
       "    </tr>\n",
       "    <tr>\n",
       "      <th>3</th>\n",
       "      <td>0</td>\n",
       "      <td>1</td>\n",
       "      <td>1.69</td>\n",
       "      <td>1.69</td>\n",
       "      <td>0.00</td>\n",
       "      <td>0.0</td>\n",
       "      <td>0</td>\n",
       "      <td>0</td>\n",
       "      <td>0.400000</td>\n",
       "      <td>1.69</td>\n",
       "      <td>1.69</td>\n",
       "      <td>0.00</td>\n",
       "      <td>0.000000</td>\n",
       "      <td>0.000000</td>\n",
       "      <td>0.00</td>\n",
       "    </tr>\n",
       "    <tr>\n",
       "      <th>4</th>\n",
       "      <td>1</td>\n",
       "      <td>7</td>\n",
       "      <td>1.69</td>\n",
       "      <td>1.69</td>\n",
       "      <td>0.00</td>\n",
       "      <td>0.0</td>\n",
       "      <td>0</td>\n",
       "      <td>0</td>\n",
       "      <td>0.956535</td>\n",
       "      <td>1.69</td>\n",
       "      <td>1.69</td>\n",
       "      <td>0.00</td>\n",
       "      <td>0.000000</td>\n",
       "      <td>0.000000</td>\n",
       "      <td>0.00</td>\n",
       "    </tr>\n",
       "  </tbody>\n",
       "</table>\n",
       "</div>"
      ],
      "text/plain": [
       "   Purchase  StoreID  PriceCH  PriceMM  DiscCH  DiscMM  SpecialCH  SpecialMM  \\\n",
       "0         1        1     1.75     1.99    0.00     0.0          0          0   \n",
       "1         1        1     1.75     1.99    0.00     0.3          0          1   \n",
       "2         1        1     1.86     2.09    0.17     0.0          0          0   \n",
       "3         0        1     1.69     1.69    0.00     0.0          0          0   \n",
       "4         1        7     1.69     1.69    0.00     0.0          0          0   \n",
       "\n",
       "    LoyalCH  SalePriceMM  SalePriceCH  PriceDiff  PctDiscMM  PctDiscCH  \\\n",
       "0  0.500000         1.99         1.75       0.24   0.000000   0.000000   \n",
       "1  0.600000         1.69         1.75      -0.06   0.150754   0.000000   \n",
       "2  0.680000         2.09         1.69       0.40   0.000000   0.091398   \n",
       "3  0.400000         1.69         1.69       0.00   0.000000   0.000000   \n",
       "4  0.956535         1.69         1.69       0.00   0.000000   0.000000   \n",
       "\n",
       "   ListPriceDiff  \n",
       "0           0.24  \n",
       "1           0.24  \n",
       "2           0.23  \n",
       "3           0.00  \n",
       "4           0.00  "
      ]
     },
     "metadata": {},
     "output_type": "display_data"
    }
   ],
   "source": [
    "data = get_data('juice')"
   ]
  },
  {
   "cell_type": "code",
   "execution_count": 27,
   "metadata": {},
   "outputs": [
    {
     "data": {
      "text/html": [
       "<style  type=\"text/css\" >\n",
       "</style><table id=\"T_dd116524_37cf_11ea_97d5_84fdd13f47d7\" ><thead>    <tr>        <th class=\"col_heading level0 col0\" >Description</th>        <th class=\"col_heading level0 col1\" >Value</th>    </tr></thead><tbody>\n",
       "                <tr>\n",
       "                                <td id=\"T_dd116524_37cf_11ea_97d5_84fdd13f47d7row0_col0\" class=\"data row0 col0\" >session_id</td>\n",
       "                        <td id=\"T_dd116524_37cf_11ea_97d5_84fdd13f47d7row0_col1\" class=\"data row0 col1\" >786</td>\n",
       "            </tr>\n",
       "            <tr>\n",
       "                                <td id=\"T_dd116524_37cf_11ea_97d5_84fdd13f47d7row1_col0\" class=\"data row1 col0\" >Scaling</td>\n",
       "                        <td id=\"T_dd116524_37cf_11ea_97d5_84fdd13f47d7row1_col1\" class=\"data row1 col1\" >True</td>\n",
       "            </tr>\n",
       "            <tr>\n",
       "                                <td id=\"T_dd116524_37cf_11ea_97d5_84fdd13f47d7row2_col0\" class=\"data row2 col0\" >Shape</td>\n",
       "                        <td id=\"T_dd116524_37cf_11ea_97d5_84fdd13f47d7row2_col1\" class=\"data row2 col1\" >(1070, 15)</td>\n",
       "            </tr>\n",
       "    </tbody></table>"
      ],
      "text/plain": [
       "<pandas.io.formats.style.Styler at 0x28911f98ac8>"
      ]
     },
     "metadata": {},
     "output_type": "display_data"
    }
   ],
   "source": [
    "s2 = setup(data, normalize=True, session_id = 786)"
   ]
  },
  {
   "cell_type": "code",
   "execution_count": 28,
   "metadata": {},
   "outputs": [
    {
     "data": {
      "application/vnd.plotly.v1+json": {
       "config": {
        "plotlyServerURL": "https://plot.ly"
       },
       "data": [
        {
         "hoverlabel": {
          "namelength": 0
         },
         "hovertemplate": "Metric=Accuracy<br>Clusters=%{x}<br>Score=%{y}",
         "legendgroup": "Metric=Accuracy",
         "line": {
          "color": "#636efa",
          "dash": "solid",
          "shape": "linear"
         },
         "mode": "lines",
         "name": "Metric=Accuracy",
         "showlegend": true,
         "type": "scatter",
         "x": [
          0,
          4,
          5,
          6,
          8,
          10,
          14,
          18,
          25,
          30,
          40
         ],
         "xaxis": "x",
         "y": [
          0.8186915887850468,
          0.8186915887850468,
          0.8121495327102803,
          0.8168224299065421,
          0.811214953271028,
          0.8149532710280374,
          0.814018691588785,
          0.8205607476635514,
          0.8177570093457944,
          0.8149532710280374,
          0.8121495327102803
         ],
         "yaxis": "y"
        },
        {
         "hoverlabel": {
          "namelength": 0
         },
         "hovertemplate": "Metric=AUC<br>Clusters=%{x}<br>Score=%{y}",
         "legendgroup": "Metric=AUC",
         "line": {
          "color": "#EF553B",
          "dash": "solid",
          "shape": "linear"
         },
         "mode": "lines",
         "name": "Metric=AUC",
         "showlegend": true,
         "type": "scatter",
         "x": [
          0,
          4,
          5,
          6,
          8,
          10,
          14,
          18,
          25,
          30,
          40
         ],
         "xaxis": "x",
         "y": [
          0.8891979831142741,
          0.8867741947330345,
          0.8867925567662258,
          0.8859387222228342,
          0.885632076268541,
          0.8862453681771276,
          0.8858616016834313,
          0.8880044509568457,
          0.8868696773056286,
          0.8860856184883641,
          0.8864087902725295
         ],
         "yaxis": "y"
        },
        {
         "hoverlabel": {
          "namelength": 0
         },
         "hovertemplate": "Metric=Recall<br>Clusters=%{x}<br>Score=%{y}",
         "legendgroup": "Metric=Recall",
         "line": {
          "color": "#00cc96",
          "dash": "solid",
          "shape": "linear"
         },
         "mode": "lines",
         "name": "Metric=Recall",
         "showlegend": true,
         "type": "scatter",
         "x": [
          0,
          4,
          5,
          6,
          8,
          10,
          14,
          18,
          25,
          30,
          40
         ],
         "xaxis": "x",
         "y": [
          0.8560490045941807,
          0.8529862174578867,
          0.8499234303215927,
          0.8529862174578867,
          0.8499234303215927,
          0.8514548238897397,
          0.8483920367534457,
          0.8514548238897397,
          0.8529862174578867,
          0.8514548238897397,
          0.8468606431852986
         ],
         "yaxis": "y"
        },
        {
         "hoverlabel": {
          "namelength": 0
         },
         "hovertemplate": "Metric=Precision<br>Clusters=%{x}<br>Score=%{y}",
         "legendgroup": "Metric=Precision",
         "line": {
          "color": "#ab63fa",
          "dash": "solid",
          "shape": "linear"
         },
         "mode": "lines",
         "name": "Metric=Precision",
         "showlegend": true,
         "type": "scatter",
         "x": [
          0,
          4,
          5,
          6,
          8,
          10,
          14,
          18,
          25,
          30,
          40
         ],
         "xaxis": "x",
         "y": [
          0.8482549317147192,
          0.850381679389313,
          0.8434650455927052,
          0.84779299847793,
          0.842185128983308,
          0.8462709284627092,
          0.8470948012232415,
          0.8540706605222734,
          0.8490853658536586,
          0.8462709284627092,
          0.845565749235474
         ],
         "yaxis": "y"
        },
        {
         "hoverlabel": {
          "namelength": 0
         },
         "hovertemplate": "Metric=F1<br>Clusters=%{x}<br>Score=%{y}",
         "legendgroup": "Metric=F1",
         "line": {
          "color": "#FFA15A",
          "dash": "solid",
          "shape": "linear"
         },
         "mode": "lines",
         "name": "Metric=F1",
         "showlegend": true,
         "type": "scatter",
         "x": [
          0,
          4,
          5,
          6,
          8,
          10,
          14,
          18,
          25,
          30,
          40
         ],
         "xaxis": "x",
         "y": [
          0.8521341463414634,
          0.8516819571865444,
          0.8466819221967964,
          0.8503816793893131,
          0.8460365853658537,
          0.848854961832061,
          0.8477429227237949,
          0.852760736196319,
          0.8510313216195569,
          0.848854961832061,
          0.846212700841622
         ],
         "yaxis": "y"
        },
        {
         "hoverlabel": {
          "namelength": 0
         },
         "hovertemplate": "Metric=Kappa<br>Clusters=%{x}<br>Score=%{y}",
         "legendgroup": "Metric=Kappa",
         "line": {
          "color": "#19d3f3",
          "dash": "solid",
          "shape": "linear"
         },
         "mode": "lines",
         "name": "Metric=Kappa",
         "showlegend": true,
         "type": "scatter",
         "x": [
          0,
          4,
          5,
          6,
          8,
          10,
          14,
          18,
          25,
          30,
          40
         ],
         "xaxis": "x",
         "y": [
          0.6178472935605851,
          0.6185102824692628,
          0.6042302299134006,
          0.6142427776285826,
          0.6020884190682381,
          0.6103064794411193,
          0.6088477237740785,
          0.6230970473733841,
          0.6163774559013337,
          0.6103064794411193,
          0.6049165451185415
         ],
         "yaxis": "y"
        }
       ],
       "layout": {
        "legend": {
         "tracegroupgap": 0
        },
        "margin": {
         "t": 60
        },
        "plot_bgcolor": "rgb(245,245,245)",
        "template": {
         "data": {
          "bar": [
           {
            "error_x": {
             "color": "#2a3f5f"
            },
            "error_y": {
             "color": "#2a3f5f"
            },
            "marker": {
             "line": {
              "color": "#E5ECF6",
              "width": 0.5
             }
            },
            "type": "bar"
           }
          ],
          "barpolar": [
           {
            "marker": {
             "line": {
              "color": "#E5ECF6",
              "width": 0.5
             }
            },
            "type": "barpolar"
           }
          ],
          "carpet": [
           {
            "aaxis": {
             "endlinecolor": "#2a3f5f",
             "gridcolor": "white",
             "linecolor": "white",
             "minorgridcolor": "white",
             "startlinecolor": "#2a3f5f"
            },
            "baxis": {
             "endlinecolor": "#2a3f5f",
             "gridcolor": "white",
             "linecolor": "white",
             "minorgridcolor": "white",
             "startlinecolor": "#2a3f5f"
            },
            "type": "carpet"
           }
          ],
          "choropleth": [
           {
            "colorbar": {
             "outlinewidth": 0,
             "ticks": ""
            },
            "type": "choropleth"
           }
          ],
          "contour": [
           {
            "colorbar": {
             "outlinewidth": 0,
             "ticks": ""
            },
            "colorscale": [
             [
              0,
              "#0d0887"
             ],
             [
              0.1111111111111111,
              "#46039f"
             ],
             [
              0.2222222222222222,
              "#7201a8"
             ],
             [
              0.3333333333333333,
              "#9c179e"
             ],
             [
              0.4444444444444444,
              "#bd3786"
             ],
             [
              0.5555555555555556,
              "#d8576b"
             ],
             [
              0.6666666666666666,
              "#ed7953"
             ],
             [
              0.7777777777777778,
              "#fb9f3a"
             ],
             [
              0.8888888888888888,
              "#fdca26"
             ],
             [
              1,
              "#f0f921"
             ]
            ],
            "type": "contour"
           }
          ],
          "contourcarpet": [
           {
            "colorbar": {
             "outlinewidth": 0,
             "ticks": ""
            },
            "type": "contourcarpet"
           }
          ],
          "heatmap": [
           {
            "colorbar": {
             "outlinewidth": 0,
             "ticks": ""
            },
            "colorscale": [
             [
              0,
              "#0d0887"
             ],
             [
              0.1111111111111111,
              "#46039f"
             ],
             [
              0.2222222222222222,
              "#7201a8"
             ],
             [
              0.3333333333333333,
              "#9c179e"
             ],
             [
              0.4444444444444444,
              "#bd3786"
             ],
             [
              0.5555555555555556,
              "#d8576b"
             ],
             [
              0.6666666666666666,
              "#ed7953"
             ],
             [
              0.7777777777777778,
              "#fb9f3a"
             ],
             [
              0.8888888888888888,
              "#fdca26"
             ],
             [
              1,
              "#f0f921"
             ]
            ],
            "type": "heatmap"
           }
          ],
          "heatmapgl": [
           {
            "colorbar": {
             "outlinewidth": 0,
             "ticks": ""
            },
            "colorscale": [
             [
              0,
              "#0d0887"
             ],
             [
              0.1111111111111111,
              "#46039f"
             ],
             [
              0.2222222222222222,
              "#7201a8"
             ],
             [
              0.3333333333333333,
              "#9c179e"
             ],
             [
              0.4444444444444444,
              "#bd3786"
             ],
             [
              0.5555555555555556,
              "#d8576b"
             ],
             [
              0.6666666666666666,
              "#ed7953"
             ],
             [
              0.7777777777777778,
              "#fb9f3a"
             ],
             [
              0.8888888888888888,
              "#fdca26"
             ],
             [
              1,
              "#f0f921"
             ]
            ],
            "type": "heatmapgl"
           }
          ],
          "histogram": [
           {
            "marker": {
             "colorbar": {
              "outlinewidth": 0,
              "ticks": ""
             }
            },
            "type": "histogram"
           }
          ],
          "histogram2d": [
           {
            "colorbar": {
             "outlinewidth": 0,
             "ticks": ""
            },
            "colorscale": [
             [
              0,
              "#0d0887"
             ],
             [
              0.1111111111111111,
              "#46039f"
             ],
             [
              0.2222222222222222,
              "#7201a8"
             ],
             [
              0.3333333333333333,
              "#9c179e"
             ],
             [
              0.4444444444444444,
              "#bd3786"
             ],
             [
              0.5555555555555556,
              "#d8576b"
             ],
             [
              0.6666666666666666,
              "#ed7953"
             ],
             [
              0.7777777777777778,
              "#fb9f3a"
             ],
             [
              0.8888888888888888,
              "#fdca26"
             ],
             [
              1,
              "#f0f921"
             ]
            ],
            "type": "histogram2d"
           }
          ],
          "histogram2dcontour": [
           {
            "colorbar": {
             "outlinewidth": 0,
             "ticks": ""
            },
            "colorscale": [
             [
              0,
              "#0d0887"
             ],
             [
              0.1111111111111111,
              "#46039f"
             ],
             [
              0.2222222222222222,
              "#7201a8"
             ],
             [
              0.3333333333333333,
              "#9c179e"
             ],
             [
              0.4444444444444444,
              "#bd3786"
             ],
             [
              0.5555555555555556,
              "#d8576b"
             ],
             [
              0.6666666666666666,
              "#ed7953"
             ],
             [
              0.7777777777777778,
              "#fb9f3a"
             ],
             [
              0.8888888888888888,
              "#fdca26"
             ],
             [
              1,
              "#f0f921"
             ]
            ],
            "type": "histogram2dcontour"
           }
          ],
          "mesh3d": [
           {
            "colorbar": {
             "outlinewidth": 0,
             "ticks": ""
            },
            "type": "mesh3d"
           }
          ],
          "parcoords": [
           {
            "line": {
             "colorbar": {
              "outlinewidth": 0,
              "ticks": ""
             }
            },
            "type": "parcoords"
           }
          ],
          "pie": [
           {
            "automargin": true,
            "type": "pie"
           }
          ],
          "scatter": [
           {
            "marker": {
             "colorbar": {
              "outlinewidth": 0,
              "ticks": ""
             }
            },
            "type": "scatter"
           }
          ],
          "scatter3d": [
           {
            "line": {
             "colorbar": {
              "outlinewidth": 0,
              "ticks": ""
             }
            },
            "marker": {
             "colorbar": {
              "outlinewidth": 0,
              "ticks": ""
             }
            },
            "type": "scatter3d"
           }
          ],
          "scattercarpet": [
           {
            "marker": {
             "colorbar": {
              "outlinewidth": 0,
              "ticks": ""
             }
            },
            "type": "scattercarpet"
           }
          ],
          "scattergeo": [
           {
            "marker": {
             "colorbar": {
              "outlinewidth": 0,
              "ticks": ""
             }
            },
            "type": "scattergeo"
           }
          ],
          "scattergl": [
           {
            "marker": {
             "colorbar": {
              "outlinewidth": 0,
              "ticks": ""
             }
            },
            "type": "scattergl"
           }
          ],
          "scattermapbox": [
           {
            "marker": {
             "colorbar": {
              "outlinewidth": 0,
              "ticks": ""
             }
            },
            "type": "scattermapbox"
           }
          ],
          "scatterpolar": [
           {
            "marker": {
             "colorbar": {
              "outlinewidth": 0,
              "ticks": ""
             }
            },
            "type": "scatterpolar"
           }
          ],
          "scatterpolargl": [
           {
            "marker": {
             "colorbar": {
              "outlinewidth": 0,
              "ticks": ""
             }
            },
            "type": "scatterpolargl"
           }
          ],
          "scatterternary": [
           {
            "marker": {
             "colorbar": {
              "outlinewidth": 0,
              "ticks": ""
             }
            },
            "type": "scatterternary"
           }
          ],
          "surface": [
           {
            "colorbar": {
             "outlinewidth": 0,
             "ticks": ""
            },
            "colorscale": [
             [
              0,
              "#0d0887"
             ],
             [
              0.1111111111111111,
              "#46039f"
             ],
             [
              0.2222222222222222,
              "#7201a8"
             ],
             [
              0.3333333333333333,
              "#9c179e"
             ],
             [
              0.4444444444444444,
              "#bd3786"
             ],
             [
              0.5555555555555556,
              "#d8576b"
             ],
             [
              0.6666666666666666,
              "#ed7953"
             ],
             [
              0.7777777777777778,
              "#fb9f3a"
             ],
             [
              0.8888888888888888,
              "#fdca26"
             ],
             [
              1,
              "#f0f921"
             ]
            ],
            "type": "surface"
           }
          ],
          "table": [
           {
            "cells": {
             "fill": {
              "color": "#EBF0F8"
             },
             "line": {
              "color": "white"
             }
            },
            "header": {
             "fill": {
              "color": "#C8D4E3"
             },
             "line": {
              "color": "white"
             }
            },
            "type": "table"
           }
          ]
         },
         "layout": {
          "annotationdefaults": {
           "arrowcolor": "#2a3f5f",
           "arrowhead": 0,
           "arrowwidth": 1
          },
          "coloraxis": {
           "colorbar": {
            "outlinewidth": 0,
            "ticks": ""
           }
          },
          "colorscale": {
           "diverging": [
            [
             0,
             "#8e0152"
            ],
            [
             0.1,
             "#c51b7d"
            ],
            [
             0.2,
             "#de77ae"
            ],
            [
             0.3,
             "#f1b6da"
            ],
            [
             0.4,
             "#fde0ef"
            ],
            [
             0.5,
             "#f7f7f7"
            ],
            [
             0.6,
             "#e6f5d0"
            ],
            [
             0.7,
             "#b8e186"
            ],
            [
             0.8,
             "#7fbc41"
            ],
            [
             0.9,
             "#4d9221"
            ],
            [
             1,
             "#276419"
            ]
           ],
           "sequential": [
            [
             0,
             "#0d0887"
            ],
            [
             0.1111111111111111,
             "#46039f"
            ],
            [
             0.2222222222222222,
             "#7201a8"
            ],
            [
             0.3333333333333333,
             "#9c179e"
            ],
            [
             0.4444444444444444,
             "#bd3786"
            ],
            [
             0.5555555555555556,
             "#d8576b"
            ],
            [
             0.6666666666666666,
             "#ed7953"
            ],
            [
             0.7777777777777778,
             "#fb9f3a"
            ],
            [
             0.8888888888888888,
             "#fdca26"
            ],
            [
             1,
             "#f0f921"
            ]
           ],
           "sequentialminus": [
            [
             0,
             "#0d0887"
            ],
            [
             0.1111111111111111,
             "#46039f"
            ],
            [
             0.2222222222222222,
             "#7201a8"
            ],
            [
             0.3333333333333333,
             "#9c179e"
            ],
            [
             0.4444444444444444,
             "#bd3786"
            ],
            [
             0.5555555555555556,
             "#d8576b"
            ],
            [
             0.6666666666666666,
             "#ed7953"
            ],
            [
             0.7777777777777778,
             "#fb9f3a"
            ],
            [
             0.8888888888888888,
             "#fdca26"
            ],
            [
             1,
             "#f0f921"
            ]
           ]
          },
          "colorway": [
           "#636efa",
           "#EF553B",
           "#00cc96",
           "#ab63fa",
           "#FFA15A",
           "#19d3f3",
           "#FF6692",
           "#B6E880",
           "#FF97FF",
           "#FECB52"
          ],
          "font": {
           "color": "#2a3f5f"
          },
          "geo": {
           "bgcolor": "white",
           "lakecolor": "white",
           "landcolor": "#E5ECF6",
           "showlakes": true,
           "showland": true,
           "subunitcolor": "white"
          },
          "hoverlabel": {
           "align": "left"
          },
          "hovermode": "closest",
          "mapbox": {
           "style": "light"
          },
          "paper_bgcolor": "white",
          "plot_bgcolor": "#E5ECF6",
          "polar": {
           "angularaxis": {
            "gridcolor": "white",
            "linecolor": "white",
            "ticks": ""
           },
           "bgcolor": "#E5ECF6",
           "radialaxis": {
            "gridcolor": "white",
            "linecolor": "white",
            "ticks": ""
           }
          },
          "scene": {
           "xaxis": {
            "backgroundcolor": "#E5ECF6",
            "gridcolor": "white",
            "gridwidth": 2,
            "linecolor": "white",
            "showbackground": true,
            "ticks": "",
            "zerolinecolor": "white"
           },
           "yaxis": {
            "backgroundcolor": "#E5ECF6",
            "gridcolor": "white",
            "gridwidth": 2,
            "linecolor": "white",
            "showbackground": true,
            "ticks": "",
            "zerolinecolor": "white"
           },
           "zaxis": {
            "backgroundcolor": "#E5ECF6",
            "gridcolor": "white",
            "gridwidth": 2,
            "linecolor": "white",
            "showbackground": true,
            "ticks": "",
            "zerolinecolor": "white"
           }
          },
          "shapedefaults": {
           "line": {
            "color": "#2a3f5f"
           }
          },
          "ternary": {
           "aaxis": {
            "gridcolor": "white",
            "linecolor": "white",
            "ticks": ""
           },
           "baxis": {
            "gridcolor": "white",
            "linecolor": "white",
            "ticks": ""
           },
           "bgcolor": "#E5ECF6",
           "caxis": {
            "gridcolor": "white",
            "linecolor": "white",
            "ticks": ""
           }
          },
          "title": {
           "x": 0.05
          },
          "xaxis": {
           "automargin": true,
           "gridcolor": "white",
           "linecolor": "white",
           "ticks": "",
           "title": {
            "standoff": 15
           },
           "zerolinecolor": "white",
           "zerolinewidth": 2
          },
          "yaxis": {
           "automargin": true,
           "gridcolor": "white",
           "linecolor": "white",
           "ticks": "",
           "title": {
            "standoff": 15
           },
           "zerolinecolor": "white",
           "zerolinewidth": 2
          }
         }
        },
        "title": {
         "text": "Extreme Gradient Boosting Metrics and Number of Clusters",
         "x": 0.45,
         "xanchor": "center",
         "y": 0.95,
         "yanchor": "top"
        },
        "xaxis": {
         "anchor": "y",
         "domain": [
          0,
          1
         ],
         "title": {
          "text": "Clusters"
         }
        },
        "yaxis": {
         "anchor": "x",
         "domain": [
          0,
          1
         ],
         "range": [
          0,
          1
         ],
         "title": {
          "text": "Score"
         }
        }
       }
      },
      "text/html": [
       "<div>\n",
       "        \n",
       "        \n",
       "            <div id=\"2778b30a-b7a6-4f94-b2ed-e7777d2e438b\" class=\"plotly-graph-div\" style=\"height:525px; width:100%;\"></div>\n",
       "            <script type=\"text/javascript\">\n",
       "                require([\"plotly\"], function(Plotly) {\n",
       "                    window.PLOTLYENV=window.PLOTLYENV || {};\n",
       "                    \n",
       "                if (document.getElementById(\"2778b30a-b7a6-4f94-b2ed-e7777d2e438b\")) {\n",
       "                    Plotly.newPlot(\n",
       "                        '2778b30a-b7a6-4f94-b2ed-e7777d2e438b',\n",
       "                        [{\"hoverlabel\": {\"namelength\": 0}, \"hovertemplate\": \"Metric=Accuracy<br>Clusters=%{x}<br>Score=%{y}\", \"legendgroup\": \"Metric=Accuracy\", \"line\": {\"color\": \"#636efa\", \"dash\": \"solid\", \"shape\": \"linear\"}, \"mode\": \"lines\", \"name\": \"Metric=Accuracy\", \"showlegend\": true, \"type\": \"scatter\", \"x\": [0, 4, 5, 6, 8, 10, 14, 18, 25, 30, 40], \"xaxis\": \"x\", \"y\": [0.8186915887850468, 0.8186915887850468, 0.8121495327102803, 0.8168224299065421, 0.811214953271028, 0.8149532710280374, 0.814018691588785, 0.8205607476635514, 0.8177570093457944, 0.8149532710280374, 0.8121495327102803], \"yaxis\": \"y\"}, {\"hoverlabel\": {\"namelength\": 0}, \"hovertemplate\": \"Metric=AUC<br>Clusters=%{x}<br>Score=%{y}\", \"legendgroup\": \"Metric=AUC\", \"line\": {\"color\": \"#EF553B\", \"dash\": \"solid\", \"shape\": \"linear\"}, \"mode\": \"lines\", \"name\": \"Metric=AUC\", \"showlegend\": true, \"type\": \"scatter\", \"x\": [0, 4, 5, 6, 8, 10, 14, 18, 25, 30, 40], \"xaxis\": \"x\", \"y\": [0.8891979831142741, 0.8867741947330345, 0.8867925567662258, 0.8859387222228342, 0.885632076268541, 0.8862453681771276, 0.8858616016834313, 0.8880044509568457, 0.8868696773056286, 0.8860856184883641, 0.8864087902725295], \"yaxis\": \"y\"}, {\"hoverlabel\": {\"namelength\": 0}, \"hovertemplate\": \"Metric=Recall<br>Clusters=%{x}<br>Score=%{y}\", \"legendgroup\": \"Metric=Recall\", \"line\": {\"color\": \"#00cc96\", \"dash\": \"solid\", \"shape\": \"linear\"}, \"mode\": \"lines\", \"name\": \"Metric=Recall\", \"showlegend\": true, \"type\": \"scatter\", \"x\": [0, 4, 5, 6, 8, 10, 14, 18, 25, 30, 40], \"xaxis\": \"x\", \"y\": [0.8560490045941807, 0.8529862174578867, 0.8499234303215927, 0.8529862174578867, 0.8499234303215927, 0.8514548238897397, 0.8483920367534457, 0.8514548238897397, 0.8529862174578867, 0.8514548238897397, 0.8468606431852986], \"yaxis\": \"y\"}, {\"hoverlabel\": {\"namelength\": 0}, \"hovertemplate\": \"Metric=Precision<br>Clusters=%{x}<br>Score=%{y}\", \"legendgroup\": \"Metric=Precision\", \"line\": {\"color\": \"#ab63fa\", \"dash\": \"solid\", \"shape\": \"linear\"}, \"mode\": \"lines\", \"name\": \"Metric=Precision\", \"showlegend\": true, \"type\": \"scatter\", \"x\": [0, 4, 5, 6, 8, 10, 14, 18, 25, 30, 40], \"xaxis\": \"x\", \"y\": [0.8482549317147192, 0.850381679389313, 0.8434650455927052, 0.84779299847793, 0.842185128983308, 0.8462709284627092, 0.8470948012232415, 0.8540706605222734, 0.8490853658536586, 0.8462709284627092, 0.845565749235474], \"yaxis\": \"y\"}, {\"hoverlabel\": {\"namelength\": 0}, \"hovertemplate\": \"Metric=F1<br>Clusters=%{x}<br>Score=%{y}\", \"legendgroup\": \"Metric=F1\", \"line\": {\"color\": \"#FFA15A\", \"dash\": \"solid\", \"shape\": \"linear\"}, \"mode\": \"lines\", \"name\": \"Metric=F1\", \"showlegend\": true, \"type\": \"scatter\", \"x\": [0, 4, 5, 6, 8, 10, 14, 18, 25, 30, 40], \"xaxis\": \"x\", \"y\": [0.8521341463414634, 0.8516819571865444, 0.8466819221967964, 0.8503816793893131, 0.8460365853658537, 0.848854961832061, 0.8477429227237949, 0.852760736196319, 0.8510313216195569, 0.848854961832061, 0.846212700841622], \"yaxis\": \"y\"}, {\"hoverlabel\": {\"namelength\": 0}, \"hovertemplate\": \"Metric=Kappa<br>Clusters=%{x}<br>Score=%{y}\", \"legendgroup\": \"Metric=Kappa\", \"line\": {\"color\": \"#19d3f3\", \"dash\": \"solid\", \"shape\": \"linear\"}, \"mode\": \"lines\", \"name\": \"Metric=Kappa\", \"showlegend\": true, \"type\": \"scatter\", \"x\": [0, 4, 5, 6, 8, 10, 14, 18, 25, 30, 40], \"xaxis\": \"x\", \"y\": [0.6178472935605851, 0.6185102824692628, 0.6042302299134006, 0.6142427776285826, 0.6020884190682381, 0.6103064794411193, 0.6088477237740785, 0.6230970473733841, 0.6163774559013337, 0.6103064794411193, 0.6049165451185415], \"yaxis\": \"y\"}],\n",
       "                        {\"legend\": {\"tracegroupgap\": 0}, \"margin\": {\"t\": 60}, \"plot_bgcolor\": \"rgb(245,245,245)\", \"template\": {\"data\": {\"bar\": [{\"error_x\": {\"color\": \"#2a3f5f\"}, \"error_y\": {\"color\": \"#2a3f5f\"}, \"marker\": {\"line\": {\"color\": \"#E5ECF6\", \"width\": 0.5}}, \"type\": \"bar\"}], \"barpolar\": [{\"marker\": {\"line\": {\"color\": \"#E5ECF6\", \"width\": 0.5}}, \"type\": \"barpolar\"}], \"carpet\": [{\"aaxis\": {\"endlinecolor\": \"#2a3f5f\", \"gridcolor\": \"white\", \"linecolor\": \"white\", \"minorgridcolor\": \"white\", \"startlinecolor\": \"#2a3f5f\"}, \"baxis\": {\"endlinecolor\": \"#2a3f5f\", \"gridcolor\": \"white\", \"linecolor\": \"white\", \"minorgridcolor\": \"white\", \"startlinecolor\": \"#2a3f5f\"}, \"type\": \"carpet\"}], \"choropleth\": [{\"colorbar\": {\"outlinewidth\": 0, \"ticks\": \"\"}, \"type\": \"choropleth\"}], \"contour\": [{\"colorbar\": {\"outlinewidth\": 0, \"ticks\": \"\"}, \"colorscale\": [[0.0, \"#0d0887\"], [0.1111111111111111, \"#46039f\"], [0.2222222222222222, \"#7201a8\"], [0.3333333333333333, \"#9c179e\"], [0.4444444444444444, \"#bd3786\"], [0.5555555555555556, \"#d8576b\"], [0.6666666666666666, \"#ed7953\"], [0.7777777777777778, \"#fb9f3a\"], [0.8888888888888888, \"#fdca26\"], [1.0, \"#f0f921\"]], \"type\": \"contour\"}], \"contourcarpet\": [{\"colorbar\": {\"outlinewidth\": 0, \"ticks\": \"\"}, \"type\": \"contourcarpet\"}], \"heatmap\": [{\"colorbar\": {\"outlinewidth\": 0, \"ticks\": \"\"}, \"colorscale\": [[0.0, \"#0d0887\"], [0.1111111111111111, \"#46039f\"], [0.2222222222222222, \"#7201a8\"], [0.3333333333333333, \"#9c179e\"], [0.4444444444444444, \"#bd3786\"], [0.5555555555555556, \"#d8576b\"], [0.6666666666666666, \"#ed7953\"], [0.7777777777777778, \"#fb9f3a\"], [0.8888888888888888, \"#fdca26\"], [1.0, \"#f0f921\"]], \"type\": \"heatmap\"}], \"heatmapgl\": [{\"colorbar\": {\"outlinewidth\": 0, \"ticks\": \"\"}, \"colorscale\": [[0.0, \"#0d0887\"], [0.1111111111111111, \"#46039f\"], [0.2222222222222222, \"#7201a8\"], [0.3333333333333333, \"#9c179e\"], [0.4444444444444444, \"#bd3786\"], [0.5555555555555556, \"#d8576b\"], [0.6666666666666666, \"#ed7953\"], [0.7777777777777778, \"#fb9f3a\"], [0.8888888888888888, \"#fdca26\"], [1.0, \"#f0f921\"]], \"type\": \"heatmapgl\"}], \"histogram\": [{\"marker\": {\"colorbar\": {\"outlinewidth\": 0, \"ticks\": \"\"}}, \"type\": \"histogram\"}], \"histogram2d\": [{\"colorbar\": {\"outlinewidth\": 0, \"ticks\": \"\"}, \"colorscale\": [[0.0, \"#0d0887\"], [0.1111111111111111, \"#46039f\"], [0.2222222222222222, \"#7201a8\"], [0.3333333333333333, \"#9c179e\"], [0.4444444444444444, \"#bd3786\"], [0.5555555555555556, \"#d8576b\"], [0.6666666666666666, \"#ed7953\"], [0.7777777777777778, \"#fb9f3a\"], [0.8888888888888888, \"#fdca26\"], [1.0, \"#f0f921\"]], \"type\": \"histogram2d\"}], \"histogram2dcontour\": [{\"colorbar\": {\"outlinewidth\": 0, \"ticks\": \"\"}, \"colorscale\": [[0.0, \"#0d0887\"], [0.1111111111111111, \"#46039f\"], [0.2222222222222222, \"#7201a8\"], [0.3333333333333333, \"#9c179e\"], [0.4444444444444444, \"#bd3786\"], [0.5555555555555556, \"#d8576b\"], [0.6666666666666666, \"#ed7953\"], [0.7777777777777778, \"#fb9f3a\"], [0.8888888888888888, \"#fdca26\"], [1.0, \"#f0f921\"]], \"type\": \"histogram2dcontour\"}], \"mesh3d\": [{\"colorbar\": {\"outlinewidth\": 0, \"ticks\": \"\"}, \"type\": \"mesh3d\"}], \"parcoords\": [{\"line\": {\"colorbar\": {\"outlinewidth\": 0, \"ticks\": \"\"}}, \"type\": \"parcoords\"}], \"pie\": [{\"automargin\": true, \"type\": \"pie\"}], \"scatter\": [{\"marker\": {\"colorbar\": {\"outlinewidth\": 0, \"ticks\": \"\"}}, \"type\": \"scatter\"}], \"scatter3d\": [{\"line\": {\"colorbar\": {\"outlinewidth\": 0, \"ticks\": \"\"}}, \"marker\": {\"colorbar\": {\"outlinewidth\": 0, \"ticks\": \"\"}}, \"type\": \"scatter3d\"}], \"scattercarpet\": [{\"marker\": {\"colorbar\": {\"outlinewidth\": 0, \"ticks\": \"\"}}, \"type\": \"scattercarpet\"}], \"scattergeo\": [{\"marker\": {\"colorbar\": {\"outlinewidth\": 0, \"ticks\": \"\"}}, \"type\": \"scattergeo\"}], \"scattergl\": [{\"marker\": {\"colorbar\": {\"outlinewidth\": 0, \"ticks\": \"\"}}, \"type\": \"scattergl\"}], \"scattermapbox\": [{\"marker\": {\"colorbar\": {\"outlinewidth\": 0, \"ticks\": \"\"}}, \"type\": \"scattermapbox\"}], \"scatterpolar\": [{\"marker\": {\"colorbar\": {\"outlinewidth\": 0, \"ticks\": \"\"}}, \"type\": \"scatterpolar\"}], \"scatterpolargl\": [{\"marker\": {\"colorbar\": {\"outlinewidth\": 0, \"ticks\": \"\"}}, \"type\": \"scatterpolargl\"}], \"scatterternary\": [{\"marker\": {\"colorbar\": {\"outlinewidth\": 0, \"ticks\": \"\"}}, \"type\": \"scatterternary\"}], \"surface\": [{\"colorbar\": {\"outlinewidth\": 0, \"ticks\": \"\"}, \"colorscale\": [[0.0, \"#0d0887\"], [0.1111111111111111, \"#46039f\"], [0.2222222222222222, \"#7201a8\"], [0.3333333333333333, \"#9c179e\"], [0.4444444444444444, \"#bd3786\"], [0.5555555555555556, \"#d8576b\"], [0.6666666666666666, \"#ed7953\"], [0.7777777777777778, \"#fb9f3a\"], [0.8888888888888888, \"#fdca26\"], [1.0, \"#f0f921\"]], \"type\": \"surface\"}], \"table\": [{\"cells\": {\"fill\": {\"color\": \"#EBF0F8\"}, \"line\": {\"color\": \"white\"}}, \"header\": {\"fill\": {\"color\": \"#C8D4E3\"}, \"line\": {\"color\": \"white\"}}, \"type\": \"table\"}]}, \"layout\": {\"annotationdefaults\": {\"arrowcolor\": \"#2a3f5f\", \"arrowhead\": 0, \"arrowwidth\": 1}, \"coloraxis\": {\"colorbar\": {\"outlinewidth\": 0, \"ticks\": \"\"}}, \"colorscale\": {\"diverging\": [[0, \"#8e0152\"], [0.1, \"#c51b7d\"], [0.2, \"#de77ae\"], [0.3, \"#f1b6da\"], [0.4, \"#fde0ef\"], [0.5, \"#f7f7f7\"], [0.6, \"#e6f5d0\"], [0.7, \"#b8e186\"], [0.8, \"#7fbc41\"], [0.9, \"#4d9221\"], [1, \"#276419\"]], \"sequential\": [[0.0, \"#0d0887\"], [0.1111111111111111, \"#46039f\"], [0.2222222222222222, \"#7201a8\"], [0.3333333333333333, \"#9c179e\"], [0.4444444444444444, \"#bd3786\"], [0.5555555555555556, \"#d8576b\"], [0.6666666666666666, \"#ed7953\"], [0.7777777777777778, \"#fb9f3a\"], [0.8888888888888888, \"#fdca26\"], [1.0, \"#f0f921\"]], \"sequentialminus\": [[0.0, \"#0d0887\"], [0.1111111111111111, \"#46039f\"], [0.2222222222222222, \"#7201a8\"], [0.3333333333333333, \"#9c179e\"], [0.4444444444444444, \"#bd3786\"], [0.5555555555555556, \"#d8576b\"], [0.6666666666666666, \"#ed7953\"], [0.7777777777777778, \"#fb9f3a\"], [0.8888888888888888, \"#fdca26\"], [1.0, \"#f0f921\"]]}, \"colorway\": [\"#636efa\", \"#EF553B\", \"#00cc96\", \"#ab63fa\", \"#FFA15A\", \"#19d3f3\", \"#FF6692\", \"#B6E880\", \"#FF97FF\", \"#FECB52\"], \"font\": {\"color\": \"#2a3f5f\"}, \"geo\": {\"bgcolor\": \"white\", \"lakecolor\": \"white\", \"landcolor\": \"#E5ECF6\", \"showlakes\": true, \"showland\": true, \"subunitcolor\": \"white\"}, \"hoverlabel\": {\"align\": \"left\"}, \"hovermode\": \"closest\", \"mapbox\": {\"style\": \"light\"}, \"paper_bgcolor\": \"white\", \"plot_bgcolor\": \"#E5ECF6\", \"polar\": {\"angularaxis\": {\"gridcolor\": \"white\", \"linecolor\": \"white\", \"ticks\": \"\"}, \"bgcolor\": \"#E5ECF6\", \"radialaxis\": {\"gridcolor\": \"white\", \"linecolor\": \"white\", \"ticks\": \"\"}}, \"scene\": {\"xaxis\": {\"backgroundcolor\": \"#E5ECF6\", \"gridcolor\": \"white\", \"gridwidth\": 2, \"linecolor\": \"white\", \"showbackground\": true, \"ticks\": \"\", \"zerolinecolor\": \"white\"}, \"yaxis\": {\"backgroundcolor\": \"#E5ECF6\", \"gridcolor\": \"white\", \"gridwidth\": 2, \"linecolor\": \"white\", \"showbackground\": true, \"ticks\": \"\", \"zerolinecolor\": \"white\"}, \"zaxis\": {\"backgroundcolor\": \"#E5ECF6\", \"gridcolor\": \"white\", \"gridwidth\": 2, \"linecolor\": \"white\", \"showbackground\": true, \"ticks\": \"\", \"zerolinecolor\": \"white\"}}, \"shapedefaults\": {\"line\": {\"color\": \"#2a3f5f\"}}, \"ternary\": {\"aaxis\": {\"gridcolor\": \"white\", \"linecolor\": \"white\", \"ticks\": \"\"}, \"baxis\": {\"gridcolor\": \"white\", \"linecolor\": \"white\", \"ticks\": \"\"}, \"bgcolor\": \"#E5ECF6\", \"caxis\": {\"gridcolor\": \"white\", \"linecolor\": \"white\", \"ticks\": \"\"}}, \"title\": {\"x\": 0.05}, \"xaxis\": {\"automargin\": true, \"gridcolor\": \"white\", \"linecolor\": \"white\", \"ticks\": \"\", \"title\": {\"standoff\": 15}, \"zerolinecolor\": \"white\", \"zerolinewidth\": 2}, \"yaxis\": {\"automargin\": true, \"gridcolor\": \"white\", \"linecolor\": \"white\", \"ticks\": \"\", \"title\": {\"standoff\": 15}, \"zerolinecolor\": \"white\", \"zerolinewidth\": 2}}}, \"title\": {\"text\": \"Extreme Gradient Boosting Metrics and Number of Clusters\", \"x\": 0.45, \"xanchor\": \"center\", \"y\": 0.95, \"yanchor\": \"top\"}, \"xaxis\": {\"anchor\": \"y\", \"domain\": [0.0, 1.0], \"title\": {\"text\": \"Clusters\"}}, \"yaxis\": {\"anchor\": \"x\", \"domain\": [0.0, 1.0], \"range\": [0, 1], \"title\": {\"text\": \"Score\"}}},\n",
       "                        {\"responsive\": true}\n",
       "                    ).then(function(){\n",
       "                            \n",
       "var gd = document.getElementById('2778b30a-b7a6-4f94-b2ed-e7777d2e438b');\n",
       "var x = new MutationObserver(function (mutations, observer) {{\n",
       "        var display = window.getComputedStyle(gd).display;\n",
       "        if (!display || display === 'none') {{\n",
       "            console.log([gd, 'removed!']);\n",
       "            Plotly.purge(gd);\n",
       "            observer.disconnect();\n",
       "        }}\n",
       "}});\n",
       "\n",
       "// Listen for the removal of the full notebook cells\n",
       "var notebookContainer = gd.closest('#notebook-container');\n",
       "if (notebookContainer) {{\n",
       "    x.observe(notebookContainer, {childList: true});\n",
       "}}\n",
       "\n",
       "// Listen for the clearing of the current output cell\n",
       "var outputEl = gd.closest('.output');\n",
       "if (outputEl) {{\n",
       "    x.observe(outputEl, {childList: true});\n",
       "}}\n",
       "\n",
       "                        })\n",
       "                };\n",
       "                });\n",
       "            </script>\n",
       "        </div>"
      ]
     },
     "metadata": {},
     "output_type": "display_data"
    },
    {
     "name": "stdout",
     "output_type": "stream",
     "text": [
      "Best Model: K-Modes Clustering | Number of Clusters : 18 | Accuracy : 0.8206\n"
     ]
    }
   ],
   "source": [
    "%%time\n",
    "tuned_classifier = tune_model(model='kmodes', supervised_target = 'Purchase', estimator = 'xgboost')"
   ]
  },
  {
   "cell_type": "markdown",
   "metadata": {},
   "source": [
    "## Tune Model (Regression)"
   ]
  },
  {
   "cell_type": "code",
   "execution_count": 29,
   "metadata": {},
   "outputs": [
    {
     "data": {
      "text/html": [
       "<div>\n",
       "<style scoped>\n",
       "    .dataframe tbody tr th:only-of-type {\n",
       "        vertical-align: middle;\n",
       "    }\n",
       "\n",
       "    .dataframe tbody tr th {\n",
       "        vertical-align: top;\n",
       "    }\n",
       "\n",
       "    .dataframe thead th {\n",
       "        text-align: right;\n",
       "    }\n",
       "</style>\n",
       "<table border=\"1\" class=\"dataframe\">\n",
       "  <thead>\n",
       "    <tr style=\"text-align: right;\">\n",
       "      <th></th>\n",
       "      <th>crim</th>\n",
       "      <th>zn</th>\n",
       "      <th>indus</th>\n",
       "      <th>chas</th>\n",
       "      <th>nox</th>\n",
       "      <th>rm</th>\n",
       "      <th>age</th>\n",
       "      <th>dis</th>\n",
       "      <th>rad</th>\n",
       "      <th>tax</th>\n",
       "      <th>ptratio</th>\n",
       "      <th>black</th>\n",
       "      <th>lstat</th>\n",
       "      <th>medv</th>\n",
       "    </tr>\n",
       "  </thead>\n",
       "  <tbody>\n",
       "    <tr>\n",
       "      <th>0</th>\n",
       "      <td>0.00632</td>\n",
       "      <td>18.0</td>\n",
       "      <td>2.31</td>\n",
       "      <td>0</td>\n",
       "      <td>0.538</td>\n",
       "      <td>6.575</td>\n",
       "      <td>65.2</td>\n",
       "      <td>4.0900</td>\n",
       "      <td>1</td>\n",
       "      <td>296</td>\n",
       "      <td>15.3</td>\n",
       "      <td>396.90</td>\n",
       "      <td>4.98</td>\n",
       "      <td>24.0</td>\n",
       "    </tr>\n",
       "    <tr>\n",
       "      <th>1</th>\n",
       "      <td>0.02731</td>\n",
       "      <td>0.0</td>\n",
       "      <td>7.07</td>\n",
       "      <td>0</td>\n",
       "      <td>0.469</td>\n",
       "      <td>6.421</td>\n",
       "      <td>78.9</td>\n",
       "      <td>4.9671</td>\n",
       "      <td>2</td>\n",
       "      <td>242</td>\n",
       "      <td>17.8</td>\n",
       "      <td>396.90</td>\n",
       "      <td>9.14</td>\n",
       "      <td>21.6</td>\n",
       "    </tr>\n",
       "    <tr>\n",
       "      <th>2</th>\n",
       "      <td>0.02729</td>\n",
       "      <td>0.0</td>\n",
       "      <td>7.07</td>\n",
       "      <td>0</td>\n",
       "      <td>0.469</td>\n",
       "      <td>7.185</td>\n",
       "      <td>61.1</td>\n",
       "      <td>4.9671</td>\n",
       "      <td>2</td>\n",
       "      <td>242</td>\n",
       "      <td>17.8</td>\n",
       "      <td>392.83</td>\n",
       "      <td>4.03</td>\n",
       "      <td>34.7</td>\n",
       "    </tr>\n",
       "    <tr>\n",
       "      <th>3</th>\n",
       "      <td>0.03237</td>\n",
       "      <td>0.0</td>\n",
       "      <td>2.18</td>\n",
       "      <td>0</td>\n",
       "      <td>0.458</td>\n",
       "      <td>6.998</td>\n",
       "      <td>45.8</td>\n",
       "      <td>6.0622</td>\n",
       "      <td>3</td>\n",
       "      <td>222</td>\n",
       "      <td>18.7</td>\n",
       "      <td>394.63</td>\n",
       "      <td>2.94</td>\n",
       "      <td>33.4</td>\n",
       "    </tr>\n",
       "    <tr>\n",
       "      <th>4</th>\n",
       "      <td>0.06905</td>\n",
       "      <td>0.0</td>\n",
       "      <td>2.18</td>\n",
       "      <td>0</td>\n",
       "      <td>0.458</td>\n",
       "      <td>7.147</td>\n",
       "      <td>54.2</td>\n",
       "      <td>6.0622</td>\n",
       "      <td>3</td>\n",
       "      <td>222</td>\n",
       "      <td>18.7</td>\n",
       "      <td>396.90</td>\n",
       "      <td>5.33</td>\n",
       "      <td>36.2</td>\n",
       "    </tr>\n",
       "  </tbody>\n",
       "</table>\n",
       "</div>"
      ],
      "text/plain": [
       "      crim    zn  indus  chas    nox     rm   age     dis  rad  tax  ptratio  \\\n",
       "0  0.00632  18.0   2.31     0  0.538  6.575  65.2  4.0900    1  296     15.3   \n",
       "1  0.02731   0.0   7.07     0  0.469  6.421  78.9  4.9671    2  242     17.8   \n",
       "2  0.02729   0.0   7.07     0  0.469  7.185  61.1  4.9671    2  242     17.8   \n",
       "3  0.03237   0.0   2.18     0  0.458  6.998  45.8  6.0622    3  222     18.7   \n",
       "4  0.06905   0.0   2.18     0  0.458  7.147  54.2  6.0622    3  222     18.7   \n",
       "\n",
       "    black  lstat  medv  \n",
       "0  396.90   4.98  24.0  \n",
       "1  396.90   9.14  21.6  \n",
       "2  392.83   4.03  34.7  \n",
       "3  394.63   2.94  33.4  \n",
       "4  396.90   5.33  36.2  "
      ]
     },
     "metadata": {},
     "output_type": "display_data"
    }
   ],
   "source": [
    "data = get_data('boston')"
   ]
  },
  {
   "cell_type": "code",
   "execution_count": 35,
   "metadata": {},
   "outputs": [
    {
     "data": {
      "text/html": [
       "<style  type=\"text/css\" >\n",
       "</style><table id=\"T_8c355990_37d0_11ea_8120_84fdd13f47d7\" ><thead>    <tr>        <th class=\"col_heading level0 col0\" >Description</th>        <th class=\"col_heading level0 col1\" >Value</th>    </tr></thead><tbody>\n",
       "                <tr>\n",
       "                                <td id=\"T_8c355990_37d0_11ea_8120_84fdd13f47d7row0_col0\" class=\"data row0 col0\" >session_id</td>\n",
       "                        <td id=\"T_8c355990_37d0_11ea_8120_84fdd13f47d7row0_col1\" class=\"data row0 col1\" >4528</td>\n",
       "            </tr>\n",
       "            <tr>\n",
       "                                <td id=\"T_8c355990_37d0_11ea_8120_84fdd13f47d7row1_col0\" class=\"data row1 col0\" >Scaling</td>\n",
       "                        <td id=\"T_8c355990_37d0_11ea_8120_84fdd13f47d7row1_col1\" class=\"data row1 col1\" >True</td>\n",
       "            </tr>\n",
       "            <tr>\n",
       "                                <td id=\"T_8c355990_37d0_11ea_8120_84fdd13f47d7row2_col0\" class=\"data row2 col0\" >Shape</td>\n",
       "                        <td id=\"T_8c355990_37d0_11ea_8120_84fdd13f47d7row2_col1\" class=\"data row2 col1\" >(506, 14)</td>\n",
       "            </tr>\n",
       "    </tbody></table>"
      ],
      "text/plain": [
       "<pandas.io.formats.style.Styler at 0x28911f13548>"
      ]
     },
     "metadata": {},
     "output_type": "display_data"
    }
   ],
   "source": [
    "s3 = setup(data, normalize=True)"
   ]
  },
  {
   "cell_type": "code",
   "execution_count": 36,
   "metadata": {},
   "outputs": [
    {
     "data": {
      "application/vnd.plotly.v1+json": {
       "config": {
        "plotlyServerURL": "https://plot.ly"
       },
       "data": [
        {
         "hoverlabel": {
          "namelength": 0
         },
         "hovertemplate": "Metric=R2<br># of Clusters=%{x}<br>R2=%{y}",
         "legendgroup": "Metric=R2",
         "line": {
          "color": "#636efa",
          "dash": "solid",
          "shape": "linear"
         },
         "mode": "lines",
         "name": "Metric=R2",
         "showlegend": true,
         "type": "scatter",
         "x": [
          0,
          4,
          5,
          6,
          8,
          10,
          14,
          18,
          25,
          30,
          40
         ],
         "xaxis": "x",
         "y": [
          0.7716838937189636,
          0.7782637114534922,
          0.7765658103791256,
          0.7739291244078372,
          0.7696833520162649,
          0.76930975247995,
          0.7671003019705294,
          0.7676932592293575,
          0.7674473998277491,
          0.767259261084157,
          0.7698808188186748
         ],
         "yaxis": "y"
        }
       ],
       "layout": {
        "legend": {
         "tracegroupgap": 0
        },
        "plot_bgcolor": "rgb(245,245,245)",
        "template": {
         "data": {
          "bar": [
           {
            "error_x": {
             "color": "#2a3f5f"
            },
            "error_y": {
             "color": "#2a3f5f"
            },
            "marker": {
             "line": {
              "color": "#E5ECF6",
              "width": 0.5
             }
            },
            "type": "bar"
           }
          ],
          "barpolar": [
           {
            "marker": {
             "line": {
              "color": "#E5ECF6",
              "width": 0.5
             }
            },
            "type": "barpolar"
           }
          ],
          "carpet": [
           {
            "aaxis": {
             "endlinecolor": "#2a3f5f",
             "gridcolor": "white",
             "linecolor": "white",
             "minorgridcolor": "white",
             "startlinecolor": "#2a3f5f"
            },
            "baxis": {
             "endlinecolor": "#2a3f5f",
             "gridcolor": "white",
             "linecolor": "white",
             "minorgridcolor": "white",
             "startlinecolor": "#2a3f5f"
            },
            "type": "carpet"
           }
          ],
          "choropleth": [
           {
            "colorbar": {
             "outlinewidth": 0,
             "ticks": ""
            },
            "type": "choropleth"
           }
          ],
          "contour": [
           {
            "colorbar": {
             "outlinewidth": 0,
             "ticks": ""
            },
            "colorscale": [
             [
              0,
              "#0d0887"
             ],
             [
              0.1111111111111111,
              "#46039f"
             ],
             [
              0.2222222222222222,
              "#7201a8"
             ],
             [
              0.3333333333333333,
              "#9c179e"
             ],
             [
              0.4444444444444444,
              "#bd3786"
             ],
             [
              0.5555555555555556,
              "#d8576b"
             ],
             [
              0.6666666666666666,
              "#ed7953"
             ],
             [
              0.7777777777777778,
              "#fb9f3a"
             ],
             [
              0.8888888888888888,
              "#fdca26"
             ],
             [
              1,
              "#f0f921"
             ]
            ],
            "type": "contour"
           }
          ],
          "contourcarpet": [
           {
            "colorbar": {
             "outlinewidth": 0,
             "ticks": ""
            },
            "type": "contourcarpet"
           }
          ],
          "heatmap": [
           {
            "colorbar": {
             "outlinewidth": 0,
             "ticks": ""
            },
            "colorscale": [
             [
              0,
              "#0d0887"
             ],
             [
              0.1111111111111111,
              "#46039f"
             ],
             [
              0.2222222222222222,
              "#7201a8"
             ],
             [
              0.3333333333333333,
              "#9c179e"
             ],
             [
              0.4444444444444444,
              "#bd3786"
             ],
             [
              0.5555555555555556,
              "#d8576b"
             ],
             [
              0.6666666666666666,
              "#ed7953"
             ],
             [
              0.7777777777777778,
              "#fb9f3a"
             ],
             [
              0.8888888888888888,
              "#fdca26"
             ],
             [
              1,
              "#f0f921"
             ]
            ],
            "type": "heatmap"
           }
          ],
          "heatmapgl": [
           {
            "colorbar": {
             "outlinewidth": 0,
             "ticks": ""
            },
            "colorscale": [
             [
              0,
              "#0d0887"
             ],
             [
              0.1111111111111111,
              "#46039f"
             ],
             [
              0.2222222222222222,
              "#7201a8"
             ],
             [
              0.3333333333333333,
              "#9c179e"
             ],
             [
              0.4444444444444444,
              "#bd3786"
             ],
             [
              0.5555555555555556,
              "#d8576b"
             ],
             [
              0.6666666666666666,
              "#ed7953"
             ],
             [
              0.7777777777777778,
              "#fb9f3a"
             ],
             [
              0.8888888888888888,
              "#fdca26"
             ],
             [
              1,
              "#f0f921"
             ]
            ],
            "type": "heatmapgl"
           }
          ],
          "histogram": [
           {
            "marker": {
             "colorbar": {
              "outlinewidth": 0,
              "ticks": ""
             }
            },
            "type": "histogram"
           }
          ],
          "histogram2d": [
           {
            "colorbar": {
             "outlinewidth": 0,
             "ticks": ""
            },
            "colorscale": [
             [
              0,
              "#0d0887"
             ],
             [
              0.1111111111111111,
              "#46039f"
             ],
             [
              0.2222222222222222,
              "#7201a8"
             ],
             [
              0.3333333333333333,
              "#9c179e"
             ],
             [
              0.4444444444444444,
              "#bd3786"
             ],
             [
              0.5555555555555556,
              "#d8576b"
             ],
             [
              0.6666666666666666,
              "#ed7953"
             ],
             [
              0.7777777777777778,
              "#fb9f3a"
             ],
             [
              0.8888888888888888,
              "#fdca26"
             ],
             [
              1,
              "#f0f921"
             ]
            ],
            "type": "histogram2d"
           }
          ],
          "histogram2dcontour": [
           {
            "colorbar": {
             "outlinewidth": 0,
             "ticks": ""
            },
            "colorscale": [
             [
              0,
              "#0d0887"
             ],
             [
              0.1111111111111111,
              "#46039f"
             ],
             [
              0.2222222222222222,
              "#7201a8"
             ],
             [
              0.3333333333333333,
              "#9c179e"
             ],
             [
              0.4444444444444444,
              "#bd3786"
             ],
             [
              0.5555555555555556,
              "#d8576b"
             ],
             [
              0.6666666666666666,
              "#ed7953"
             ],
             [
              0.7777777777777778,
              "#fb9f3a"
             ],
             [
              0.8888888888888888,
              "#fdca26"
             ],
             [
              1,
              "#f0f921"
             ]
            ],
            "type": "histogram2dcontour"
           }
          ],
          "mesh3d": [
           {
            "colorbar": {
             "outlinewidth": 0,
             "ticks": ""
            },
            "type": "mesh3d"
           }
          ],
          "parcoords": [
           {
            "line": {
             "colorbar": {
              "outlinewidth": 0,
              "ticks": ""
             }
            },
            "type": "parcoords"
           }
          ],
          "pie": [
           {
            "automargin": true,
            "type": "pie"
           }
          ],
          "scatter": [
           {
            "marker": {
             "colorbar": {
              "outlinewidth": 0,
              "ticks": ""
             }
            },
            "type": "scatter"
           }
          ],
          "scatter3d": [
           {
            "line": {
             "colorbar": {
              "outlinewidth": 0,
              "ticks": ""
             }
            },
            "marker": {
             "colorbar": {
              "outlinewidth": 0,
              "ticks": ""
             }
            },
            "type": "scatter3d"
           }
          ],
          "scattercarpet": [
           {
            "marker": {
             "colorbar": {
              "outlinewidth": 0,
              "ticks": ""
             }
            },
            "type": "scattercarpet"
           }
          ],
          "scattergeo": [
           {
            "marker": {
             "colorbar": {
              "outlinewidth": 0,
              "ticks": ""
             }
            },
            "type": "scattergeo"
           }
          ],
          "scattergl": [
           {
            "marker": {
             "colorbar": {
              "outlinewidth": 0,
              "ticks": ""
             }
            },
            "type": "scattergl"
           }
          ],
          "scattermapbox": [
           {
            "marker": {
             "colorbar": {
              "outlinewidth": 0,
              "ticks": ""
             }
            },
            "type": "scattermapbox"
           }
          ],
          "scatterpolar": [
           {
            "marker": {
             "colorbar": {
              "outlinewidth": 0,
              "ticks": ""
             }
            },
            "type": "scatterpolar"
           }
          ],
          "scatterpolargl": [
           {
            "marker": {
             "colorbar": {
              "outlinewidth": 0,
              "ticks": ""
             }
            },
            "type": "scatterpolargl"
           }
          ],
          "scatterternary": [
           {
            "marker": {
             "colorbar": {
              "outlinewidth": 0,
              "ticks": ""
             }
            },
            "type": "scatterternary"
           }
          ],
          "surface": [
           {
            "colorbar": {
             "outlinewidth": 0,
             "ticks": ""
            },
            "colorscale": [
             [
              0,
              "#0d0887"
             ],
             [
              0.1111111111111111,
              "#46039f"
             ],
             [
              0.2222222222222222,
              "#7201a8"
             ],
             [
              0.3333333333333333,
              "#9c179e"
             ],
             [
              0.4444444444444444,
              "#bd3786"
             ],
             [
              0.5555555555555556,
              "#d8576b"
             ],
             [
              0.6666666666666666,
              "#ed7953"
             ],
             [
              0.7777777777777778,
              "#fb9f3a"
             ],
             [
              0.8888888888888888,
              "#fdca26"
             ],
             [
              1,
              "#f0f921"
             ]
            ],
            "type": "surface"
           }
          ],
          "table": [
           {
            "cells": {
             "fill": {
              "color": "#EBF0F8"
             },
             "line": {
              "color": "white"
             }
            },
            "header": {
             "fill": {
              "color": "#C8D4E3"
             },
             "line": {
              "color": "white"
             }
            },
            "type": "table"
           }
          ]
         },
         "layout": {
          "annotationdefaults": {
           "arrowcolor": "#2a3f5f",
           "arrowhead": 0,
           "arrowwidth": 1
          },
          "coloraxis": {
           "colorbar": {
            "outlinewidth": 0,
            "ticks": ""
           }
          },
          "colorscale": {
           "diverging": [
            [
             0,
             "#8e0152"
            ],
            [
             0.1,
             "#c51b7d"
            ],
            [
             0.2,
             "#de77ae"
            ],
            [
             0.3,
             "#f1b6da"
            ],
            [
             0.4,
             "#fde0ef"
            ],
            [
             0.5,
             "#f7f7f7"
            ],
            [
             0.6,
             "#e6f5d0"
            ],
            [
             0.7,
             "#b8e186"
            ],
            [
             0.8,
             "#7fbc41"
            ],
            [
             0.9,
             "#4d9221"
            ],
            [
             1,
             "#276419"
            ]
           ],
           "sequential": [
            [
             0,
             "#0d0887"
            ],
            [
             0.1111111111111111,
             "#46039f"
            ],
            [
             0.2222222222222222,
             "#7201a8"
            ],
            [
             0.3333333333333333,
             "#9c179e"
            ],
            [
             0.4444444444444444,
             "#bd3786"
            ],
            [
             0.5555555555555556,
             "#d8576b"
            ],
            [
             0.6666666666666666,
             "#ed7953"
            ],
            [
             0.7777777777777778,
             "#fb9f3a"
            ],
            [
             0.8888888888888888,
             "#fdca26"
            ],
            [
             1,
             "#f0f921"
            ]
           ],
           "sequentialminus": [
            [
             0,
             "#0d0887"
            ],
            [
             0.1111111111111111,
             "#46039f"
            ],
            [
             0.2222222222222222,
             "#7201a8"
            ],
            [
             0.3333333333333333,
             "#9c179e"
            ],
            [
             0.4444444444444444,
             "#bd3786"
            ],
            [
             0.5555555555555556,
             "#d8576b"
            ],
            [
             0.6666666666666666,
             "#ed7953"
            ],
            [
             0.7777777777777778,
             "#fb9f3a"
            ],
            [
             0.8888888888888888,
             "#fdca26"
            ],
            [
             1,
             "#f0f921"
            ]
           ]
          },
          "colorway": [
           "#636efa",
           "#EF553B",
           "#00cc96",
           "#ab63fa",
           "#FFA15A",
           "#19d3f3",
           "#FF6692",
           "#B6E880",
           "#FF97FF",
           "#FECB52"
          ],
          "font": {
           "color": "#2a3f5f"
          },
          "geo": {
           "bgcolor": "white",
           "lakecolor": "white",
           "landcolor": "#E5ECF6",
           "showlakes": true,
           "showland": true,
           "subunitcolor": "white"
          },
          "hoverlabel": {
           "align": "left"
          },
          "hovermode": "closest",
          "mapbox": {
           "style": "light"
          },
          "paper_bgcolor": "white",
          "plot_bgcolor": "#E5ECF6",
          "polar": {
           "angularaxis": {
            "gridcolor": "white",
            "linecolor": "white",
            "ticks": ""
           },
           "bgcolor": "#E5ECF6",
           "radialaxis": {
            "gridcolor": "white",
            "linecolor": "white",
            "ticks": ""
           }
          },
          "scene": {
           "xaxis": {
            "backgroundcolor": "#E5ECF6",
            "gridcolor": "white",
            "gridwidth": 2,
            "linecolor": "white",
            "showbackground": true,
            "ticks": "",
            "zerolinecolor": "white"
           },
           "yaxis": {
            "backgroundcolor": "#E5ECF6",
            "gridcolor": "white",
            "gridwidth": 2,
            "linecolor": "white",
            "showbackground": true,
            "ticks": "",
            "zerolinecolor": "white"
           },
           "zaxis": {
            "backgroundcolor": "#E5ECF6",
            "gridcolor": "white",
            "gridwidth": 2,
            "linecolor": "white",
            "showbackground": true,
            "ticks": "",
            "zerolinecolor": "white"
           }
          },
          "shapedefaults": {
           "line": {
            "color": "#2a3f5f"
           }
          },
          "ternary": {
           "aaxis": {
            "gridcolor": "white",
            "linecolor": "white",
            "ticks": ""
           },
           "baxis": {
            "gridcolor": "white",
            "linecolor": "white",
            "ticks": ""
           },
           "bgcolor": "#E5ECF6",
           "caxis": {
            "gridcolor": "white",
            "linecolor": "white",
            "ticks": ""
           }
          },
          "title": {
           "x": 0.05
          },
          "xaxis": {
           "automargin": true,
           "gridcolor": "white",
           "linecolor": "white",
           "ticks": "",
           "title": {
            "standoff": 15
           },
           "zerolinecolor": "white",
           "zerolinewidth": 2
          },
          "yaxis": {
           "automargin": true,
           "gridcolor": "white",
           "linecolor": "white",
           "ticks": "",
           "title": {
            "standoff": 15
           },
           "zerolinecolor": "white",
           "zerolinewidth": 2
          }
         }
        },
        "title": {
         "text": "Light Gradient Boosting Machine Metrics and Number of Clusters"
        },
        "xaxis": {
         "anchor": "y",
         "domain": [
          0,
          1
         ],
         "title": {
          "text": "# of Clusters"
         }
        },
        "yaxis": {
         "anchor": "x",
         "domain": [
          0,
          1
         ],
         "title": {
          "text": "R2"
         }
        }
       }
      },
      "text/html": [
       "<div>\n",
       "        \n",
       "        \n",
       "            <div id=\"e4983f9e-db4c-48c3-9b2f-f51deddd310d\" class=\"plotly-graph-div\" style=\"height:525px; width:100%;\"></div>\n",
       "            <script type=\"text/javascript\">\n",
       "                require([\"plotly\"], function(Plotly) {\n",
       "                    window.PLOTLYENV=window.PLOTLYENV || {};\n",
       "                    \n",
       "                if (document.getElementById(\"e4983f9e-db4c-48c3-9b2f-f51deddd310d\")) {\n",
       "                    Plotly.newPlot(\n",
       "                        'e4983f9e-db4c-48c3-9b2f-f51deddd310d',\n",
       "                        [{\"hoverlabel\": {\"namelength\": 0}, \"hovertemplate\": \"Metric=R2<br># of Clusters=%{x}<br>R2=%{y}\", \"legendgroup\": \"Metric=R2\", \"line\": {\"color\": \"#636efa\", \"dash\": \"solid\", \"shape\": \"linear\"}, \"mode\": \"lines\", \"name\": \"Metric=R2\", \"showlegend\": true, \"type\": \"scatter\", \"x\": [0, 4, 5, 6, 8, 10, 14, 18, 25, 30, 40], \"xaxis\": \"x\", \"y\": [0.7716838937189636, 0.7782637114534922, 0.7765658103791256, 0.7739291244078372, 0.7696833520162649, 0.76930975247995, 0.7671003019705294, 0.7676932592293575, 0.7674473998277491, 0.767259261084157, 0.7698808188186748], \"yaxis\": \"y\"}],\n",
       "                        {\"legend\": {\"tracegroupgap\": 0}, \"plot_bgcolor\": \"rgb(245,245,245)\", \"template\": {\"data\": {\"bar\": [{\"error_x\": {\"color\": \"#2a3f5f\"}, \"error_y\": {\"color\": \"#2a3f5f\"}, \"marker\": {\"line\": {\"color\": \"#E5ECF6\", \"width\": 0.5}}, \"type\": \"bar\"}], \"barpolar\": [{\"marker\": {\"line\": {\"color\": \"#E5ECF6\", \"width\": 0.5}}, \"type\": \"barpolar\"}], \"carpet\": [{\"aaxis\": {\"endlinecolor\": \"#2a3f5f\", \"gridcolor\": \"white\", \"linecolor\": \"white\", \"minorgridcolor\": \"white\", \"startlinecolor\": \"#2a3f5f\"}, \"baxis\": {\"endlinecolor\": \"#2a3f5f\", \"gridcolor\": \"white\", \"linecolor\": \"white\", \"minorgridcolor\": \"white\", \"startlinecolor\": \"#2a3f5f\"}, \"type\": \"carpet\"}], \"choropleth\": [{\"colorbar\": {\"outlinewidth\": 0, \"ticks\": \"\"}, \"type\": \"choropleth\"}], \"contour\": [{\"colorbar\": {\"outlinewidth\": 0, \"ticks\": \"\"}, \"colorscale\": [[0.0, \"#0d0887\"], [0.1111111111111111, \"#46039f\"], [0.2222222222222222, \"#7201a8\"], [0.3333333333333333, \"#9c179e\"], [0.4444444444444444, \"#bd3786\"], [0.5555555555555556, \"#d8576b\"], [0.6666666666666666, \"#ed7953\"], [0.7777777777777778, \"#fb9f3a\"], [0.8888888888888888, \"#fdca26\"], [1.0, \"#f0f921\"]], \"type\": \"contour\"}], \"contourcarpet\": [{\"colorbar\": {\"outlinewidth\": 0, \"ticks\": \"\"}, \"type\": \"contourcarpet\"}], \"heatmap\": [{\"colorbar\": {\"outlinewidth\": 0, \"ticks\": \"\"}, \"colorscale\": [[0.0, \"#0d0887\"], [0.1111111111111111, \"#46039f\"], [0.2222222222222222, \"#7201a8\"], [0.3333333333333333, \"#9c179e\"], [0.4444444444444444, \"#bd3786\"], [0.5555555555555556, \"#d8576b\"], [0.6666666666666666, \"#ed7953\"], [0.7777777777777778, \"#fb9f3a\"], [0.8888888888888888, \"#fdca26\"], [1.0, \"#f0f921\"]], \"type\": \"heatmap\"}], \"heatmapgl\": [{\"colorbar\": {\"outlinewidth\": 0, \"ticks\": \"\"}, \"colorscale\": [[0.0, \"#0d0887\"], [0.1111111111111111, \"#46039f\"], [0.2222222222222222, \"#7201a8\"], [0.3333333333333333, \"#9c179e\"], [0.4444444444444444, \"#bd3786\"], [0.5555555555555556, \"#d8576b\"], [0.6666666666666666, \"#ed7953\"], [0.7777777777777778, \"#fb9f3a\"], [0.8888888888888888, \"#fdca26\"], [1.0, \"#f0f921\"]], \"type\": \"heatmapgl\"}], \"histogram\": [{\"marker\": {\"colorbar\": {\"outlinewidth\": 0, \"ticks\": \"\"}}, \"type\": \"histogram\"}], \"histogram2d\": [{\"colorbar\": {\"outlinewidth\": 0, \"ticks\": \"\"}, \"colorscale\": [[0.0, \"#0d0887\"], [0.1111111111111111, \"#46039f\"], [0.2222222222222222, \"#7201a8\"], [0.3333333333333333, \"#9c179e\"], [0.4444444444444444, \"#bd3786\"], [0.5555555555555556, \"#d8576b\"], [0.6666666666666666, \"#ed7953\"], [0.7777777777777778, \"#fb9f3a\"], [0.8888888888888888, \"#fdca26\"], [1.0, \"#f0f921\"]], \"type\": \"histogram2d\"}], \"histogram2dcontour\": [{\"colorbar\": {\"outlinewidth\": 0, \"ticks\": \"\"}, \"colorscale\": [[0.0, \"#0d0887\"], [0.1111111111111111, \"#46039f\"], [0.2222222222222222, \"#7201a8\"], [0.3333333333333333, \"#9c179e\"], [0.4444444444444444, \"#bd3786\"], [0.5555555555555556, \"#d8576b\"], [0.6666666666666666, \"#ed7953\"], [0.7777777777777778, \"#fb9f3a\"], [0.8888888888888888, \"#fdca26\"], [1.0, \"#f0f921\"]], \"type\": \"histogram2dcontour\"}], \"mesh3d\": [{\"colorbar\": {\"outlinewidth\": 0, \"ticks\": \"\"}, \"type\": \"mesh3d\"}], \"parcoords\": [{\"line\": {\"colorbar\": {\"outlinewidth\": 0, \"ticks\": \"\"}}, \"type\": \"parcoords\"}], \"pie\": [{\"automargin\": true, \"type\": \"pie\"}], \"scatter\": [{\"marker\": {\"colorbar\": {\"outlinewidth\": 0, \"ticks\": \"\"}}, \"type\": \"scatter\"}], \"scatter3d\": [{\"line\": {\"colorbar\": {\"outlinewidth\": 0, \"ticks\": \"\"}}, \"marker\": {\"colorbar\": {\"outlinewidth\": 0, \"ticks\": \"\"}}, \"type\": \"scatter3d\"}], \"scattercarpet\": [{\"marker\": {\"colorbar\": {\"outlinewidth\": 0, \"ticks\": \"\"}}, \"type\": \"scattercarpet\"}], \"scattergeo\": [{\"marker\": {\"colorbar\": {\"outlinewidth\": 0, \"ticks\": \"\"}}, \"type\": \"scattergeo\"}], \"scattergl\": [{\"marker\": {\"colorbar\": {\"outlinewidth\": 0, \"ticks\": \"\"}}, \"type\": \"scattergl\"}], \"scattermapbox\": [{\"marker\": {\"colorbar\": {\"outlinewidth\": 0, \"ticks\": \"\"}}, \"type\": \"scattermapbox\"}], \"scatterpolar\": [{\"marker\": {\"colorbar\": {\"outlinewidth\": 0, \"ticks\": \"\"}}, \"type\": \"scatterpolar\"}], \"scatterpolargl\": [{\"marker\": {\"colorbar\": {\"outlinewidth\": 0, \"ticks\": \"\"}}, \"type\": \"scatterpolargl\"}], \"scatterternary\": [{\"marker\": {\"colorbar\": {\"outlinewidth\": 0, \"ticks\": \"\"}}, \"type\": \"scatterternary\"}], \"surface\": [{\"colorbar\": {\"outlinewidth\": 0, \"ticks\": \"\"}, \"colorscale\": [[0.0, \"#0d0887\"], [0.1111111111111111, \"#46039f\"], [0.2222222222222222, \"#7201a8\"], [0.3333333333333333, \"#9c179e\"], [0.4444444444444444, \"#bd3786\"], [0.5555555555555556, \"#d8576b\"], [0.6666666666666666, \"#ed7953\"], [0.7777777777777778, \"#fb9f3a\"], [0.8888888888888888, \"#fdca26\"], [1.0, \"#f0f921\"]], \"type\": \"surface\"}], \"table\": [{\"cells\": {\"fill\": {\"color\": \"#EBF0F8\"}, \"line\": {\"color\": \"white\"}}, \"header\": {\"fill\": {\"color\": \"#C8D4E3\"}, \"line\": {\"color\": \"white\"}}, \"type\": \"table\"}]}, \"layout\": {\"annotationdefaults\": {\"arrowcolor\": \"#2a3f5f\", \"arrowhead\": 0, \"arrowwidth\": 1}, \"coloraxis\": {\"colorbar\": {\"outlinewidth\": 0, \"ticks\": \"\"}}, \"colorscale\": {\"diverging\": [[0, \"#8e0152\"], [0.1, \"#c51b7d\"], [0.2, \"#de77ae\"], [0.3, \"#f1b6da\"], [0.4, \"#fde0ef\"], [0.5, \"#f7f7f7\"], [0.6, \"#e6f5d0\"], [0.7, \"#b8e186\"], [0.8, \"#7fbc41\"], [0.9, \"#4d9221\"], [1, \"#276419\"]], \"sequential\": [[0.0, \"#0d0887\"], [0.1111111111111111, \"#46039f\"], [0.2222222222222222, \"#7201a8\"], [0.3333333333333333, \"#9c179e\"], [0.4444444444444444, \"#bd3786\"], [0.5555555555555556, \"#d8576b\"], [0.6666666666666666, \"#ed7953\"], [0.7777777777777778, \"#fb9f3a\"], [0.8888888888888888, \"#fdca26\"], [1.0, \"#f0f921\"]], \"sequentialminus\": [[0.0, \"#0d0887\"], [0.1111111111111111, \"#46039f\"], [0.2222222222222222, \"#7201a8\"], [0.3333333333333333, \"#9c179e\"], [0.4444444444444444, \"#bd3786\"], [0.5555555555555556, \"#d8576b\"], [0.6666666666666666, \"#ed7953\"], [0.7777777777777778, \"#fb9f3a\"], [0.8888888888888888, \"#fdca26\"], [1.0, \"#f0f921\"]]}, \"colorway\": [\"#636efa\", \"#EF553B\", \"#00cc96\", \"#ab63fa\", \"#FFA15A\", \"#19d3f3\", \"#FF6692\", \"#B6E880\", \"#FF97FF\", \"#FECB52\"], \"font\": {\"color\": \"#2a3f5f\"}, \"geo\": {\"bgcolor\": \"white\", \"lakecolor\": \"white\", \"landcolor\": \"#E5ECF6\", \"showlakes\": true, \"showland\": true, \"subunitcolor\": \"white\"}, \"hoverlabel\": {\"align\": \"left\"}, \"hovermode\": \"closest\", \"mapbox\": {\"style\": \"light\"}, \"paper_bgcolor\": \"white\", \"plot_bgcolor\": \"#E5ECF6\", \"polar\": {\"angularaxis\": {\"gridcolor\": \"white\", \"linecolor\": \"white\", \"ticks\": \"\"}, \"bgcolor\": \"#E5ECF6\", \"radialaxis\": {\"gridcolor\": \"white\", \"linecolor\": \"white\", \"ticks\": \"\"}}, \"scene\": {\"xaxis\": {\"backgroundcolor\": \"#E5ECF6\", \"gridcolor\": \"white\", \"gridwidth\": 2, \"linecolor\": \"white\", \"showbackground\": true, \"ticks\": \"\", \"zerolinecolor\": \"white\"}, \"yaxis\": {\"backgroundcolor\": \"#E5ECF6\", \"gridcolor\": \"white\", \"gridwidth\": 2, \"linecolor\": \"white\", \"showbackground\": true, \"ticks\": \"\", \"zerolinecolor\": \"white\"}, \"zaxis\": {\"backgroundcolor\": \"#E5ECF6\", \"gridcolor\": \"white\", \"gridwidth\": 2, \"linecolor\": \"white\", \"showbackground\": true, \"ticks\": \"\", \"zerolinecolor\": \"white\"}}, \"shapedefaults\": {\"line\": {\"color\": \"#2a3f5f\"}}, \"ternary\": {\"aaxis\": {\"gridcolor\": \"white\", \"linecolor\": \"white\", \"ticks\": \"\"}, \"baxis\": {\"gridcolor\": \"white\", \"linecolor\": \"white\", \"ticks\": \"\"}, \"bgcolor\": \"#E5ECF6\", \"caxis\": {\"gridcolor\": \"white\", \"linecolor\": \"white\", \"ticks\": \"\"}}, \"title\": {\"x\": 0.05}, \"xaxis\": {\"automargin\": true, \"gridcolor\": \"white\", \"linecolor\": \"white\", \"ticks\": \"\", \"title\": {\"standoff\": 15}, \"zerolinecolor\": \"white\", \"zerolinewidth\": 2}, \"yaxis\": {\"automargin\": true, \"gridcolor\": \"white\", \"linecolor\": \"white\", \"ticks\": \"\", \"title\": {\"standoff\": 15}, \"zerolinecolor\": \"white\", \"zerolinewidth\": 2}}}, \"title\": {\"text\": \"Light Gradient Boosting Machine Metrics and Number of Clusters\"}, \"xaxis\": {\"anchor\": \"y\", \"domain\": [0.0, 1.0], \"title\": {\"text\": \"# of Clusters\"}}, \"yaxis\": {\"anchor\": \"x\", \"domain\": [0.0, 1.0], \"title\": {\"text\": \"R2\"}}},\n",
       "                        {\"responsive\": true}\n",
       "                    ).then(function(){\n",
       "                            \n",
       "var gd = document.getElementById('e4983f9e-db4c-48c3-9b2f-f51deddd310d');\n",
       "var x = new MutationObserver(function (mutations, observer) {{\n",
       "        var display = window.getComputedStyle(gd).display;\n",
       "        if (!display || display === 'none') {{\n",
       "            console.log([gd, 'removed!']);\n",
       "            Plotly.purge(gd);\n",
       "            observer.disconnect();\n",
       "        }}\n",
       "}});\n",
       "\n",
       "// Listen for the removal of the full notebook cells\n",
       "var notebookContainer = gd.closest('#notebook-container');\n",
       "if (notebookContainer) {{\n",
       "    x.observe(notebookContainer, {childList: true});\n",
       "}}\n",
       "\n",
       "// Listen for the clearing of the current output cell\n",
       "var outputEl = gd.closest('.output');\n",
       "if (outputEl) {{\n",
       "    x.observe(outputEl, {childList: true});\n",
       "}}\n",
       "\n",
       "                        })\n",
       "                };\n",
       "                });\n",
       "            </script>\n",
       "        </div>"
      ]
     },
     "metadata": {},
     "output_type": "display_data"
    },
    {
     "name": "stdout",
     "output_type": "stream",
     "text": [
      "Best Model: Spherical K-Means Clustering | Number of Clusters: 4 | R2 : 0.7783\n",
      "Wall time: 1min 56s\n"
     ]
    }
   ],
   "source": [
    "%%time\n",
    "tuned_regressor = tune_model(model='skmeans', supervised_target = 'medv', estimator = 'lightgbm')"
   ]
  },
  {
   "cell_type": "code",
   "execution_count": null,
   "metadata": {},
   "outputs": [],
   "source": []
  }
 ],
 "metadata": {
  "kernelspec": {
   "display_name": "Python 3",
   "language": "python",
   "name": "python3"
  },
  "language_info": {
   "codemirror_mode": {
    "name": "ipython",
    "version": 3
   },
   "file_extension": ".py",
   "mimetype": "text/x-python",
   "name": "python",
   "nbconvert_exporter": "python",
   "pygments_lexer": "ipython3",
   "version": "3.7.4"
  }
 },
 "nbformat": 4,
 "nbformat_minor": 2
}
