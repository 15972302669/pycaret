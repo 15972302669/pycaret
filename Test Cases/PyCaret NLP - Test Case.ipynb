{
 "cells": [
  {
   "cell_type": "code",
   "execution_count": 1,
   "metadata": {},
   "outputs": [
    {
     "data": {
      "text/html": [
       "<div>\n",
       "<style scoped>\n",
       "    .dataframe tbody tr th:only-of-type {\n",
       "        vertical-align: middle;\n",
       "    }\n",
       "\n",
       "    .dataframe tbody tr th {\n",
       "        vertical-align: top;\n",
       "    }\n",
       "\n",
       "    .dataframe thead th {\n",
       "        text-align: right;\n",
       "    }\n",
       "</style>\n",
       "<table border=\"1\" class=\"dataframe\">\n",
       "  <thead>\n",
       "    <tr style=\"text-align: right;\">\n",
       "      <th></th>\n",
       "      <th>country</th>\n",
       "      <th>en</th>\n",
       "      <th>gender</th>\n",
       "      <th>loan_amount</th>\n",
       "      <th>nonpayment</th>\n",
       "      <th>sector</th>\n",
       "      <th>status</th>\n",
       "    </tr>\n",
       "  </thead>\n",
       "  <tbody>\n",
       "    <tr>\n",
       "      <th>0</th>\n",
       "      <td>Dominican Republic</td>\n",
       "      <td>\"Banco Esperanza\" is a group of 10 women looki...</td>\n",
       "      <td>F</td>\n",
       "      <td>1225</td>\n",
       "      <td>partner</td>\n",
       "      <td>Retail</td>\n",
       "      <td>0</td>\n",
       "    </tr>\n",
       "    <tr>\n",
       "      <th>1</th>\n",
       "      <td>Dominican Republic</td>\n",
       "      <td>\"Caminemos Hacia Adelante\" or \"Walking Forward...</td>\n",
       "      <td>F</td>\n",
       "      <td>1975</td>\n",
       "      <td>lender</td>\n",
       "      <td>Clothing</td>\n",
       "      <td>0</td>\n",
       "    </tr>\n",
       "    <tr>\n",
       "      <th>2</th>\n",
       "      <td>Dominican Republic</td>\n",
       "      <td>\"Creciendo Por La Union\" is a group of 10 peop...</td>\n",
       "      <td>F</td>\n",
       "      <td>2175</td>\n",
       "      <td>partner</td>\n",
       "      <td>Clothing</td>\n",
       "      <td>0</td>\n",
       "    </tr>\n",
       "    <tr>\n",
       "      <th>3</th>\n",
       "      <td>Dominican Republic</td>\n",
       "      <td>\"Cristo Vive\" (\"Christ lives\" is a group of 10...</td>\n",
       "      <td>F</td>\n",
       "      <td>1425</td>\n",
       "      <td>partner</td>\n",
       "      <td>Clothing</td>\n",
       "      <td>0</td>\n",
       "    </tr>\n",
       "    <tr>\n",
       "      <th>4</th>\n",
       "      <td>Dominican Republic</td>\n",
       "      <td>\"Cristo Vive\" is a large group of 35 people, 2...</td>\n",
       "      <td>F</td>\n",
       "      <td>4025</td>\n",
       "      <td>partner</td>\n",
       "      <td>Food</td>\n",
       "      <td>0</td>\n",
       "    </tr>\n",
       "  </tbody>\n",
       "</table>\n",
       "</div>"
      ],
      "text/plain": [
       "              country                                                 en  \\\n",
       "0  Dominican Republic  \"Banco Esperanza\" is a group of 10 women looki...   \n",
       "1  Dominican Republic  \"Caminemos Hacia Adelante\" or \"Walking Forward...   \n",
       "2  Dominican Republic  \"Creciendo Por La Union\" is a group of 10 peop...   \n",
       "3  Dominican Republic  \"Cristo Vive\" (\"Christ lives\" is a group of 10...   \n",
       "4  Dominican Republic  \"Cristo Vive\" is a large group of 35 people, 2...   \n",
       "\n",
       "  gender  loan_amount nonpayment    sector  status  \n",
       "0      F         1225    partner    Retail       0  \n",
       "1      F         1975     lender  Clothing       0  \n",
       "2      F         2175    partner  Clothing       0  \n",
       "3      F         1425    partner  Clothing       0  \n",
       "4      F         4025    partner      Food       0  "
      ]
     },
     "metadata": {},
     "output_type": "display_data"
    }
   ],
   "source": [
    "from pycaret.datasets import get_data\n",
    "data = get_data('kiva')\n",
    "data = data.head(2000)"
   ]
  },
  {
   "cell_type": "code",
   "execution_count": 2,
   "metadata": {},
   "outputs": [],
   "source": [
    "from pycaret.nlp import *"
   ]
  },
  {
   "cell_type": "markdown",
   "metadata": {},
   "source": [
    "## Initializing Setup"
   ]
  },
  {
   "cell_type": "code",
   "execution_count": 3,
   "metadata": {},
   "outputs": [
    {
     "data": {
      "text/html": [
       "<style  type=\"text/css\" >\n",
       "</style><table id=\"T_6ff69af4_37d9_11ea_9f2a_84fdd13f47d7\" ><thead>    <tr>        <th class=\"col_heading level0 col0\" >Description</th>        <th class=\"col_heading level0 col1\" >Value</th>    </tr></thead><tbody>\n",
       "                <tr>\n",
       "                                <td id=\"T_6ff69af4_37d9_11ea_9f2a_84fdd13f47d7row0_col0\" class=\"data row0 col0\" >session_id</td>\n",
       "                        <td id=\"T_6ff69af4_37d9_11ea_9f2a_84fdd13f47d7row0_col1\" class=\"data row0 col1\" >6530</td>\n",
       "            </tr>\n",
       "            <tr>\n",
       "                                <td id=\"T_6ff69af4_37d9_11ea_9f2a_84fdd13f47d7row1_col0\" class=\"data row1 col0\" ># Documents</td>\n",
       "                        <td id=\"T_6ff69af4_37d9_11ea_9f2a_84fdd13f47d7row1_col1\" class=\"data row1 col1\" >2000</td>\n",
       "            </tr>\n",
       "            <tr>\n",
       "                                <td id=\"T_6ff69af4_37d9_11ea_9f2a_84fdd13f47d7row2_col0\" class=\"data row2 col0\" >Vocab Size</td>\n",
       "                        <td id=\"T_6ff69af4_37d9_11ea_9f2a_84fdd13f47d7row2_col1\" class=\"data row2 col1\" >5336</td>\n",
       "            </tr>\n",
       "            <tr>\n",
       "                                <td id=\"T_6ff69af4_37d9_11ea_9f2a_84fdd13f47d7row3_col0\" class=\"data row3 col0\" >Custom Stopwords</td>\n",
       "                        <td id=\"T_6ff69af4_37d9_11ea_9f2a_84fdd13f47d7row3_col1\" class=\"data row3 col1\" >False</td>\n",
       "            </tr>\n",
       "    </tbody></table>"
      ],
      "text/plain": [
       "<pandas.io.formats.style.Styler at 0x1b4376b3c88>"
      ]
     },
     "metadata": {},
     "output_type": "display_data"
    }
   ],
   "source": [
    "s = setup(data, target = 'en')"
   ]
  },
  {
   "cell_type": "markdown",
   "metadata": {},
   "source": [
    "## Create Model"
   ]
  },
  {
   "cell_type": "code",
   "execution_count": 4,
   "metadata": {},
   "outputs": [],
   "source": [
    "lda = create_model(model = 'lda')"
   ]
  },
  {
   "cell_type": "code",
   "execution_count": 5,
   "metadata": {},
   "outputs": [],
   "source": [
    "lda_mc = create_model(model = 'lda', multi_core = True)"
   ]
  },
  {
   "cell_type": "code",
   "execution_count": 8,
   "metadata": {},
   "outputs": [],
   "source": [
    "lsi = create_model(model = 'lsi')"
   ]
  },
  {
   "cell_type": "code",
   "execution_count": 10,
   "metadata": {},
   "outputs": [],
   "source": [
    "hdp = create_model(model = 'hdp')"
   ]
  },
  {
   "cell_type": "code",
   "execution_count": 11,
   "metadata": {},
   "outputs": [],
   "source": [
    "rp = create_model(model = 'rp')"
   ]
  },
  {
   "cell_type": "code",
   "execution_count": 12,
   "metadata": {},
   "outputs": [],
   "source": [
    "nmf = create_model(model = 'nmf')"
   ]
  },
  {
   "cell_type": "markdown",
   "metadata": {},
   "source": [
    "## Assign Model"
   ]
  },
  {
   "cell_type": "code",
   "execution_count": 15,
   "metadata": {},
   "outputs": [
    {
     "data": {
      "text/html": [
       "<div>\n",
       "<style scoped>\n",
       "    .dataframe tbody tr th:only-of-type {\n",
       "        vertical-align: middle;\n",
       "    }\n",
       "\n",
       "    .dataframe tbody tr th {\n",
       "        vertical-align: top;\n",
       "    }\n",
       "\n",
       "    .dataframe thead th {\n",
       "        text-align: right;\n",
       "    }\n",
       "</style>\n",
       "<table border=\"1\" class=\"dataframe\">\n",
       "  <thead>\n",
       "    <tr style=\"text-align: right;\">\n",
       "      <th></th>\n",
       "      <th>country</th>\n",
       "      <th>en</th>\n",
       "      <th>gender</th>\n",
       "      <th>loan_amount</th>\n",
       "      <th>nonpayment</th>\n",
       "      <th>sector</th>\n",
       "      <th>status</th>\n",
       "      <th>Topic_0</th>\n",
       "      <th>Topic_1</th>\n",
       "      <th>Topic_2</th>\n",
       "      <th>Topic_3</th>\n",
       "      <th>Dominant_Topic</th>\n",
       "      <th>Perc_Dominant_Topic</th>\n",
       "    </tr>\n",
       "  </thead>\n",
       "  <tbody>\n",
       "    <tr>\n",
       "      <th>0</th>\n",
       "      <td>Dominican Republic</td>\n",
       "      <td>woman look receive small loan take small loan ...</td>\n",
       "      <td>F</td>\n",
       "      <td>1225</td>\n",
       "      <td>partner</td>\n",
       "      <td>Retail</td>\n",
       "      <td>0</td>\n",
       "      <td>0.006388</td>\n",
       "      <td>0.646397</td>\n",
       "      <td>0.333625</td>\n",
       "      <td>0.013591</td>\n",
       "      <td>Topic 1</td>\n",
       "      <td>0.65</td>\n",
       "    </tr>\n",
       "    <tr>\n",
       "      <th>1</th>\n",
       "      <td>Dominican Republic</td>\n",
       "      <td>caminemos walk forward group entrepreneur seek...</td>\n",
       "      <td>F</td>\n",
       "      <td>1975</td>\n",
       "      <td>lender</td>\n",
       "      <td>Clothing</td>\n",
       "      <td>0</td>\n",
       "      <td>0.006052</td>\n",
       "      <td>0.058909</td>\n",
       "      <td>0.230899</td>\n",
       "      <td>0.704140</td>\n",
       "      <td>Topic 3</td>\n",
       "      <td>0.70</td>\n",
       "    </tr>\n",
       "    <tr>\n",
       "      <th>2</th>\n",
       "      <td>Dominican Republic</td>\n",
       "      <td>group people hope start business group look re...</td>\n",
       "      <td>F</td>\n",
       "      <td>2175</td>\n",
       "      <td>partner</td>\n",
       "      <td>Clothing</td>\n",
       "      <td>0</td>\n",
       "      <td>0.007652</td>\n",
       "      <td>0.819854</td>\n",
       "      <td>0.159076</td>\n",
       "      <td>0.013418</td>\n",
       "      <td>Topic 1</td>\n",
       "      <td>0.82</td>\n",
       "    </tr>\n",
       "    <tr>\n",
       "      <th>3</th>\n",
       "      <td>Dominican Republic</td>\n",
       "      <td>live group woman look receive first loan young...</td>\n",
       "      <td>F</td>\n",
       "      <td>1425</td>\n",
       "      <td>partner</td>\n",
       "      <td>Clothing</td>\n",
       "      <td>0</td>\n",
       "      <td>0.006223</td>\n",
       "      <td>0.822273</td>\n",
       "      <td>0.156399</td>\n",
       "      <td>0.015105</td>\n",
       "      <td>Topic 1</td>\n",
       "      <td>0.82</td>\n",
       "    </tr>\n",
       "    <tr>\n",
       "      <th>4</th>\n",
       "      <td>Dominican Republic</td>\n",
       "      <td>vive large group people hope take loan many se...</td>\n",
       "      <td>F</td>\n",
       "      <td>4025</td>\n",
       "      <td>partner</td>\n",
       "      <td>Food</td>\n",
       "      <td>0</td>\n",
       "      <td>0.006940</td>\n",
       "      <td>0.626418</td>\n",
       "      <td>0.282344</td>\n",
       "      <td>0.084298</td>\n",
       "      <td>Topic 1</td>\n",
       "      <td>0.63</td>\n",
       "    </tr>\n",
       "  </tbody>\n",
       "</table>\n",
       "</div>"
      ],
      "text/plain": [
       "              country                                                 en  \\\n",
       "0  Dominican Republic  woman look receive small loan take small loan ...   \n",
       "1  Dominican Republic  caminemos walk forward group entrepreneur seek...   \n",
       "2  Dominican Republic  group people hope start business group look re...   \n",
       "3  Dominican Republic  live group woman look receive first loan young...   \n",
       "4  Dominican Republic  vive large group people hope take loan many se...   \n",
       "\n",
       "  gender  loan_amount nonpayment    sector  status   Topic_0   Topic_1  \\\n",
       "0      F         1225    partner    Retail       0  0.006388  0.646397   \n",
       "1      F         1975     lender  Clothing       0  0.006052  0.058909   \n",
       "2      F         2175    partner  Clothing       0  0.007652  0.819854   \n",
       "3      F         1425    partner  Clothing       0  0.006223  0.822273   \n",
       "4      F         4025    partner      Food       0  0.006940  0.626418   \n",
       "\n",
       "    Topic_2   Topic_3 Dominant_Topic  Perc_Dominant_Topic  \n",
       "0  0.333625  0.013591        Topic 1                 0.65  \n",
       "1  0.230899  0.704140        Topic 3                 0.70  \n",
       "2  0.159076  0.013418        Topic 1                 0.82  \n",
       "3  0.156399  0.015105        Topic 1                 0.82  \n",
       "4  0.282344  0.084298        Topic 1                 0.63  "
      ]
     },
     "execution_count": 15,
     "metadata": {},
     "output_type": "execute_result"
    }
   ],
   "source": [
    "assign_model(lda).head()"
   ]
  },
  {
   "cell_type": "code",
   "execution_count": 16,
   "metadata": {},
   "outputs": [
    {
     "data": {
      "text/html": [
       "<div>\n",
       "<style scoped>\n",
       "    .dataframe tbody tr th:only-of-type {\n",
       "        vertical-align: middle;\n",
       "    }\n",
       "\n",
       "    .dataframe tbody tr th {\n",
       "        vertical-align: top;\n",
       "    }\n",
       "\n",
       "    .dataframe thead th {\n",
       "        text-align: right;\n",
       "    }\n",
       "</style>\n",
       "<table border=\"1\" class=\"dataframe\">\n",
       "  <thead>\n",
       "    <tr style=\"text-align: right;\">\n",
       "      <th></th>\n",
       "      <th>country</th>\n",
       "      <th>en</th>\n",
       "      <th>gender</th>\n",
       "      <th>loan_amount</th>\n",
       "      <th>nonpayment</th>\n",
       "      <th>sector</th>\n",
       "      <th>status</th>\n",
       "      <th>Topic_0</th>\n",
       "      <th>Topic_1</th>\n",
       "      <th>Topic_2</th>\n",
       "      <th>Topic_3</th>\n",
       "      <th>Dominant_Topic</th>\n",
       "    </tr>\n",
       "  </thead>\n",
       "  <tbody>\n",
       "    <tr>\n",
       "      <th>0</th>\n",
       "      <td>Dominican Republic</td>\n",
       "      <td>woman look receive small loan take small loan ...</td>\n",
       "      <td>F</td>\n",
       "      <td>1225</td>\n",
       "      <td>partner</td>\n",
       "      <td>Retail</td>\n",
       "      <td>0</td>\n",
       "      <td>5.934069</td>\n",
       "      <td>-3.427675</td>\n",
       "      <td>0.845031</td>\n",
       "      <td>-1.391376</td>\n",
       "      <td>Topic 0</td>\n",
       "    </tr>\n",
       "    <tr>\n",
       "      <th>1</th>\n",
       "      <td>Dominican Republic</td>\n",
       "      <td>caminemos walk forward group entrepreneur seek...</td>\n",
       "      <td>F</td>\n",
       "      <td>1975</td>\n",
       "      <td>lender</td>\n",
       "      <td>Clothing</td>\n",
       "      <td>0</td>\n",
       "      <td>7.475550</td>\n",
       "      <td>-2.170265</td>\n",
       "      <td>-1.344711</td>\n",
       "      <td>2.965088</td>\n",
       "      <td>Topic 0</td>\n",
       "    </tr>\n",
       "    <tr>\n",
       "      <th>2</th>\n",
       "      <td>Dominican Republic</td>\n",
       "      <td>group people hope start business group look re...</td>\n",
       "      <td>F</td>\n",
       "      <td>2175</td>\n",
       "      <td>partner</td>\n",
       "      <td>Clothing</td>\n",
       "      <td>0</td>\n",
       "      <td>6.175801</td>\n",
       "      <td>-1.823112</td>\n",
       "      <td>-1.119930</td>\n",
       "      <td>-3.172980</td>\n",
       "      <td>Topic 0</td>\n",
       "    </tr>\n",
       "    <tr>\n",
       "      <th>3</th>\n",
       "      <td>Dominican Republic</td>\n",
       "      <td>live group woman look receive first loan young...</td>\n",
       "      <td>F</td>\n",
       "      <td>1425</td>\n",
       "      <td>partner</td>\n",
       "      <td>Clothing</td>\n",
       "      <td>0</td>\n",
       "      <td>4.583460</td>\n",
       "      <td>-1.847645</td>\n",
       "      <td>1.590604</td>\n",
       "      <td>-1.104162</td>\n",
       "      <td>Topic 0</td>\n",
       "    </tr>\n",
       "    <tr>\n",
       "      <th>4</th>\n",
       "      <td>Dominican Republic</td>\n",
       "      <td>vive large group people hope take loan many se...</td>\n",
       "      <td>F</td>\n",
       "      <td>4025</td>\n",
       "      <td>partner</td>\n",
       "      <td>Food</td>\n",
       "      <td>0</td>\n",
       "      <td>7.667673</td>\n",
       "      <td>-2.444385</td>\n",
       "      <td>-1.156561</td>\n",
       "      <td>-0.915385</td>\n",
       "      <td>Topic 0</td>\n",
       "    </tr>\n",
       "  </tbody>\n",
       "</table>\n",
       "</div>"
      ],
      "text/plain": [
       "              country                                                 en  \\\n",
       "0  Dominican Republic  woman look receive small loan take small loan ...   \n",
       "1  Dominican Republic  caminemos walk forward group entrepreneur seek...   \n",
       "2  Dominican Republic  group people hope start business group look re...   \n",
       "3  Dominican Republic  live group woman look receive first loan young...   \n",
       "4  Dominican Republic  vive large group people hope take loan many se...   \n",
       "\n",
       "  gender  loan_amount nonpayment    sector  status   Topic_0   Topic_1  \\\n",
       "0      F         1225    partner    Retail       0  5.934069 -3.427675   \n",
       "1      F         1975     lender  Clothing       0  7.475550 -2.170265   \n",
       "2      F         2175    partner  Clothing       0  6.175801 -1.823112   \n",
       "3      F         1425    partner  Clothing       0  4.583460 -1.847645   \n",
       "4      F         4025    partner      Food       0  7.667673 -2.444385   \n",
       "\n",
       "    Topic_2   Topic_3 Dominant_Topic  \n",
       "0  0.845031 -1.391376        Topic 0  \n",
       "1 -1.344711  2.965088        Topic 0  \n",
       "2 -1.119930 -3.172980        Topic 0  \n",
       "3  1.590604 -1.104162        Topic 0  \n",
       "4 -1.156561 -0.915385        Topic 0  "
      ]
     },
     "execution_count": 16,
     "metadata": {},
     "output_type": "execute_result"
    }
   ],
   "source": [
    "assign_model(lda_mc).head()"
   ]
  },
  {
   "cell_type": "code",
   "execution_count": 17,
   "metadata": {},
   "outputs": [
    {
     "data": {
      "text/html": [
       "<div>\n",
       "<style scoped>\n",
       "    .dataframe tbody tr th:only-of-type {\n",
       "        vertical-align: middle;\n",
       "    }\n",
       "\n",
       "    .dataframe tbody tr th {\n",
       "        vertical-align: top;\n",
       "    }\n",
       "\n",
       "    .dataframe thead th {\n",
       "        text-align: right;\n",
       "    }\n",
       "</style>\n",
       "<table border=\"1\" class=\"dataframe\">\n",
       "  <thead>\n",
       "    <tr style=\"text-align: right;\">\n",
       "      <th></th>\n",
       "      <th>country</th>\n",
       "      <th>en</th>\n",
       "      <th>gender</th>\n",
       "      <th>loan_amount</th>\n",
       "      <th>nonpayment</th>\n",
       "      <th>sector</th>\n",
       "      <th>status</th>\n",
       "      <th>Topic_0</th>\n",
       "      <th>Topic_1</th>\n",
       "      <th>Topic_2</th>\n",
       "      <th>Topic_3</th>\n",
       "      <th>Dominant_Topic</th>\n",
       "    </tr>\n",
       "  </thead>\n",
       "  <tbody>\n",
       "    <tr>\n",
       "      <th>0</th>\n",
       "      <td>Dominican Republic</td>\n",
       "      <td>woman look receive small loan take small loan ...</td>\n",
       "      <td>F</td>\n",
       "      <td>1225</td>\n",
       "      <td>partner</td>\n",
       "      <td>Retail</td>\n",
       "      <td>0</td>\n",
       "      <td>5.934069</td>\n",
       "      <td>-3.427293</td>\n",
       "      <td>-0.843169</td>\n",
       "      <td>1.393048</td>\n",
       "      <td>Topic 0</td>\n",
       "    </tr>\n",
       "    <tr>\n",
       "      <th>1</th>\n",
       "      <td>Dominican Republic</td>\n",
       "      <td>caminemos walk forward group entrepreneur seek...</td>\n",
       "      <td>F</td>\n",
       "      <td>1975</td>\n",
       "      <td>lender</td>\n",
       "      <td>Clothing</td>\n",
       "      <td>0</td>\n",
       "      <td>7.475549</td>\n",
       "      <td>-2.169767</td>\n",
       "      <td>1.345363</td>\n",
       "      <td>-2.965096</td>\n",
       "      <td>Topic 0</td>\n",
       "    </tr>\n",
       "    <tr>\n",
       "      <th>2</th>\n",
       "      <td>Dominican Republic</td>\n",
       "      <td>group people hope start business group look re...</td>\n",
       "      <td>F</td>\n",
       "      <td>2175</td>\n",
       "      <td>partner</td>\n",
       "      <td>Clothing</td>\n",
       "      <td>0</td>\n",
       "      <td>6.175800</td>\n",
       "      <td>-1.823441</td>\n",
       "      <td>1.120097</td>\n",
       "      <td>3.172006</td>\n",
       "      <td>Topic 0</td>\n",
       "    </tr>\n",
       "    <tr>\n",
       "      <th>3</th>\n",
       "      <td>Dominican Republic</td>\n",
       "      <td>live group woman look receive first loan young...</td>\n",
       "      <td>F</td>\n",
       "      <td>1425</td>\n",
       "      <td>partner</td>\n",
       "      <td>Clothing</td>\n",
       "      <td>0</td>\n",
       "      <td>4.583459</td>\n",
       "      <td>-1.848125</td>\n",
       "      <td>-1.590723</td>\n",
       "      <td>1.104069</td>\n",
       "      <td>Topic 0</td>\n",
       "    </tr>\n",
       "    <tr>\n",
       "      <th>4</th>\n",
       "      <td>Dominican Republic</td>\n",
       "      <td>vive large group people hope take loan many se...</td>\n",
       "      <td>F</td>\n",
       "      <td>4025</td>\n",
       "      <td>partner</td>\n",
       "      <td>Food</td>\n",
       "      <td>0</td>\n",
       "      <td>7.667673</td>\n",
       "      <td>-2.444844</td>\n",
       "      <td>1.156688</td>\n",
       "      <td>0.914778</td>\n",
       "      <td>Topic 0</td>\n",
       "    </tr>\n",
       "  </tbody>\n",
       "</table>\n",
       "</div>"
      ],
      "text/plain": [
       "              country                                                 en  \\\n",
       "0  Dominican Republic  woman look receive small loan take small loan ...   \n",
       "1  Dominican Republic  caminemos walk forward group entrepreneur seek...   \n",
       "2  Dominican Republic  group people hope start business group look re...   \n",
       "3  Dominican Republic  live group woman look receive first loan young...   \n",
       "4  Dominican Republic  vive large group people hope take loan many se...   \n",
       "\n",
       "  gender  loan_amount nonpayment    sector  status   Topic_0   Topic_1  \\\n",
       "0      F         1225    partner    Retail       0  5.934069 -3.427293   \n",
       "1      F         1975     lender  Clothing       0  7.475549 -2.169767   \n",
       "2      F         2175    partner  Clothing       0  6.175800 -1.823441   \n",
       "3      F         1425    partner  Clothing       0  4.583459 -1.848125   \n",
       "4      F         4025    partner      Food       0  7.667673 -2.444844   \n",
       "\n",
       "    Topic_2   Topic_3 Dominant_Topic  \n",
       "0 -0.843169  1.393048        Topic 0  \n",
       "1  1.345363 -2.965096        Topic 0  \n",
       "2  1.120097  3.172006        Topic 0  \n",
       "3 -1.590723  1.104069        Topic 0  \n",
       "4  1.156688  0.914778        Topic 0  "
      ]
     },
     "execution_count": 17,
     "metadata": {},
     "output_type": "execute_result"
    }
   ],
   "source": [
    "assign_model(lsi).head()"
   ]
  },
  {
   "cell_type": "code",
   "execution_count": 18,
   "metadata": {},
   "outputs": [
    {
     "data": {
      "text/html": [
       "<div>\n",
       "<style scoped>\n",
       "    .dataframe tbody tr th:only-of-type {\n",
       "        vertical-align: middle;\n",
       "    }\n",
       "\n",
       "    .dataframe tbody tr th {\n",
       "        vertical-align: top;\n",
       "    }\n",
       "\n",
       "    .dataframe thead th {\n",
       "        text-align: right;\n",
       "    }\n",
       "</style>\n",
       "<table border=\"1\" class=\"dataframe\">\n",
       "  <thead>\n",
       "    <tr style=\"text-align: right;\">\n",
       "      <th></th>\n",
       "      <th>country</th>\n",
       "      <th>en</th>\n",
       "      <th>gender</th>\n",
       "      <th>loan_amount</th>\n",
       "      <th>nonpayment</th>\n",
       "      <th>sector</th>\n",
       "      <th>status</th>\n",
       "      <th>Topic_0</th>\n",
       "      <th>Topic_1</th>\n",
       "      <th>Topic_2</th>\n",
       "      <th>Topic_3</th>\n",
       "      <th>Dominant_Topic</th>\n",
       "    </tr>\n",
       "  </thead>\n",
       "  <tbody>\n",
       "    <tr>\n",
       "      <th>0</th>\n",
       "      <td>Dominican Republic</td>\n",
       "      <td>woman look receive small loan take small loan ...</td>\n",
       "      <td>F</td>\n",
       "      <td>1225</td>\n",
       "      <td>partner</td>\n",
       "      <td>Retail</td>\n",
       "      <td>0</td>\n",
       "      <td>0.997273</td>\n",
       "      <td>0.0</td>\n",
       "      <td>0.0</td>\n",
       "      <td>0.0</td>\n",
       "      <td>Topic 0</td>\n",
       "    </tr>\n",
       "    <tr>\n",
       "      <th>1</th>\n",
       "      <td>Dominican Republic</td>\n",
       "      <td>caminemos walk forward group entrepreneur seek...</td>\n",
       "      <td>F</td>\n",
       "      <td>1975</td>\n",
       "      <td>lender</td>\n",
       "      <td>Clothing</td>\n",
       "      <td>0</td>\n",
       "      <td>0.997614</td>\n",
       "      <td>0.0</td>\n",
       "      <td>0.0</td>\n",
       "      <td>0.0</td>\n",
       "      <td>Topic 0</td>\n",
       "    </tr>\n",
       "    <tr>\n",
       "      <th>2</th>\n",
       "      <td>Dominican Republic</td>\n",
       "      <td>group people hope start business group look re...</td>\n",
       "      <td>F</td>\n",
       "      <td>2175</td>\n",
       "      <td>partner</td>\n",
       "      <td>Clothing</td>\n",
       "      <td>0</td>\n",
       "      <td>0.996632</td>\n",
       "      <td>0.0</td>\n",
       "      <td>0.0</td>\n",
       "      <td>0.0</td>\n",
       "      <td>Topic 0</td>\n",
       "    </tr>\n",
       "    <tr>\n",
       "      <th>3</th>\n",
       "      <td>Dominican Republic</td>\n",
       "      <td>live group woman look receive first loan young...</td>\n",
       "      <td>F</td>\n",
       "      <td>1425</td>\n",
       "      <td>partner</td>\n",
       "      <td>Clothing</td>\n",
       "      <td>0</td>\n",
       "      <td>0.997397</td>\n",
       "      <td>0.0</td>\n",
       "      <td>0.0</td>\n",
       "      <td>0.0</td>\n",
       "      <td>Topic 0</td>\n",
       "    </tr>\n",
       "    <tr>\n",
       "      <th>4</th>\n",
       "      <td>Dominican Republic</td>\n",
       "      <td>vive large group people hope take loan many se...</td>\n",
       "      <td>F</td>\n",
       "      <td>4025</td>\n",
       "      <td>partner</td>\n",
       "      <td>Food</td>\n",
       "      <td>0</td>\n",
       "      <td>0.997397</td>\n",
       "      <td>0.0</td>\n",
       "      <td>0.0</td>\n",
       "      <td>0.0</td>\n",
       "      <td>Topic 0</td>\n",
       "    </tr>\n",
       "  </tbody>\n",
       "</table>\n",
       "</div>"
      ],
      "text/plain": [
       "              country                                                 en  \\\n",
       "0  Dominican Republic  woman look receive small loan take small loan ...   \n",
       "1  Dominican Republic  caminemos walk forward group entrepreneur seek...   \n",
       "2  Dominican Republic  group people hope start business group look re...   \n",
       "3  Dominican Republic  live group woman look receive first loan young...   \n",
       "4  Dominican Republic  vive large group people hope take loan many se...   \n",
       "\n",
       "  gender  loan_amount nonpayment    sector  status   Topic_0  Topic_1  \\\n",
       "0      F         1225    partner    Retail       0  0.997273      0.0   \n",
       "1      F         1975     lender  Clothing       0  0.997614      0.0   \n",
       "2      F         2175    partner  Clothing       0  0.996632      0.0   \n",
       "3      F         1425    partner  Clothing       0  0.997397      0.0   \n",
       "4      F         4025    partner      Food       0  0.997397      0.0   \n",
       "\n",
       "   Topic_2  Topic_3 Dominant_Topic  \n",
       "0      0.0      0.0        Topic 0  \n",
       "1      0.0      0.0        Topic 0  \n",
       "2      0.0      0.0        Topic 0  \n",
       "3      0.0      0.0        Topic 0  \n",
       "4      0.0      0.0        Topic 0  "
      ]
     },
     "execution_count": 18,
     "metadata": {},
     "output_type": "execute_result"
    }
   ],
   "source": [
    "assign_model(hdp).head()"
   ]
  },
  {
   "cell_type": "code",
   "execution_count": 19,
   "metadata": {},
   "outputs": [
    {
     "data": {
      "text/html": [
       "<div>\n",
       "<style scoped>\n",
       "    .dataframe tbody tr th:only-of-type {\n",
       "        vertical-align: middle;\n",
       "    }\n",
       "\n",
       "    .dataframe tbody tr th {\n",
       "        vertical-align: top;\n",
       "    }\n",
       "\n",
       "    .dataframe thead th {\n",
       "        text-align: right;\n",
       "    }\n",
       "</style>\n",
       "<table border=\"1\" class=\"dataframe\">\n",
       "  <thead>\n",
       "    <tr style=\"text-align: right;\">\n",
       "      <th></th>\n",
       "      <th>country</th>\n",
       "      <th>en</th>\n",
       "      <th>gender</th>\n",
       "      <th>loan_amount</th>\n",
       "      <th>nonpayment</th>\n",
       "      <th>sector</th>\n",
       "      <th>status</th>\n",
       "      <th>Topic_0</th>\n",
       "      <th>Topic_1</th>\n",
       "      <th>Topic_2</th>\n",
       "      <th>Topic_3</th>\n",
       "      <th>Dominant_Topic</th>\n",
       "    </tr>\n",
       "  </thead>\n",
       "  <tbody>\n",
       "    <tr>\n",
       "      <th>0</th>\n",
       "      <td>Dominican Republic</td>\n",
       "      <td>woman look receive small loan take small loan ...</td>\n",
       "      <td>F</td>\n",
       "      <td>1225</td>\n",
       "      <td>partner</td>\n",
       "      <td>Retail</td>\n",
       "      <td>0</td>\n",
       "      <td>-6.0</td>\n",
       "      <td>-8.0</td>\n",
       "      <td>-3.0</td>\n",
       "      <td>0.0</td>\n",
       "      <td>Topic 3</td>\n",
       "    </tr>\n",
       "    <tr>\n",
       "      <th>1</th>\n",
       "      <td>Dominican Republic</td>\n",
       "      <td>caminemos walk forward group entrepreneur seek...</td>\n",
       "      <td>F</td>\n",
       "      <td>1975</td>\n",
       "      <td>lender</td>\n",
       "      <td>Clothing</td>\n",
       "      <td>0</td>\n",
       "      <td>-5.5</td>\n",
       "      <td>4.5</td>\n",
       "      <td>3.5</td>\n",
       "      <td>3.5</td>\n",
       "      <td>Topic 1</td>\n",
       "    </tr>\n",
       "    <tr>\n",
       "      <th>2</th>\n",
       "      <td>Dominican Republic</td>\n",
       "      <td>group people hope start business group look re...</td>\n",
       "      <td>F</td>\n",
       "      <td>2175</td>\n",
       "      <td>partner</td>\n",
       "      <td>Clothing</td>\n",
       "      <td>0</td>\n",
       "      <td>-5.0</td>\n",
       "      <td>2.0</td>\n",
       "      <td>2.0</td>\n",
       "      <td>-3.0</td>\n",
       "      <td>Topic 1</td>\n",
       "    </tr>\n",
       "    <tr>\n",
       "      <th>3</th>\n",
       "      <td>Dominican Republic</td>\n",
       "      <td>live group woman look receive first loan young...</td>\n",
       "      <td>F</td>\n",
       "      <td>1425</td>\n",
       "      <td>partner</td>\n",
       "      <td>Clothing</td>\n",
       "      <td>0</td>\n",
       "      <td>-3.5</td>\n",
       "      <td>2.5</td>\n",
       "      <td>0.5</td>\n",
       "      <td>-0.5</td>\n",
       "      <td>Topic 1</td>\n",
       "    </tr>\n",
       "    <tr>\n",
       "      <th>4</th>\n",
       "      <td>Dominican Republic</td>\n",
       "      <td>vive large group people hope take loan many se...</td>\n",
       "      <td>F</td>\n",
       "      <td>4025</td>\n",
       "      <td>partner</td>\n",
       "      <td>Food</td>\n",
       "      <td>0</td>\n",
       "      <td>-0.5</td>\n",
       "      <td>3.5</td>\n",
       "      <td>-4.5</td>\n",
       "      <td>0.5</td>\n",
       "      <td>Topic 1</td>\n",
       "    </tr>\n",
       "  </tbody>\n",
       "</table>\n",
       "</div>"
      ],
      "text/plain": [
       "              country                                                 en  \\\n",
       "0  Dominican Republic  woman look receive small loan take small loan ...   \n",
       "1  Dominican Republic  caminemos walk forward group entrepreneur seek...   \n",
       "2  Dominican Republic  group people hope start business group look re...   \n",
       "3  Dominican Republic  live group woman look receive first loan young...   \n",
       "4  Dominican Republic  vive large group people hope take loan many se...   \n",
       "\n",
       "  gender  loan_amount nonpayment    sector  status  Topic_0  Topic_1  Topic_2  \\\n",
       "0      F         1225    partner    Retail       0     -6.0     -8.0     -3.0   \n",
       "1      F         1975     lender  Clothing       0     -5.5      4.5      3.5   \n",
       "2      F         2175    partner  Clothing       0     -5.0      2.0      2.0   \n",
       "3      F         1425    partner  Clothing       0     -3.5      2.5      0.5   \n",
       "4      F         4025    partner      Food       0     -0.5      3.5     -4.5   \n",
       "\n",
       "   Topic_3 Dominant_Topic  \n",
       "0      0.0        Topic 3  \n",
       "1      3.5        Topic 1  \n",
       "2     -3.0        Topic 1  \n",
       "3     -0.5        Topic 1  \n",
       "4      0.5        Topic 1  "
      ]
     },
     "execution_count": 19,
     "metadata": {},
     "output_type": "execute_result"
    }
   ],
   "source": [
    "assign_model(rp).head()"
   ]
  },
  {
   "cell_type": "markdown",
   "metadata": {},
   "source": [
    "## Plot Model"
   ]
  },
  {
   "cell_type": "code",
   "execution_count": 20,
   "metadata": {},
   "outputs": [
    {
     "data": {
      "application/vnd.plotly.v1+json": {
       "config": {
        "linkText": "Export to plot.ly",
        "plotlyServerURL": "https://plot.ly",
        "showLink": true
       },
       "data": [
        {
         "marker": {
          "color": "rgba(255, 153, 51, 0.6)",
          "line": {
           "color": "rgba(255, 153, 51, 1.0)",
           "width": 1
          }
         },
         "name": "count",
         "orientation": "v",
         "text": "",
         "type": "bar",
         "x": [
          "business",
          "year",
          "loan",
          "customer",
          "sell",
          "child",
          "prepare",
          "old",
          "buy",
          "make",
          "run",
          "people",
          "community",
          "food",
          "entrepreneur",
          "request",
          "purchase",
          "restaurant",
          "cafeteria",
          "day",
          "girl",
          "small",
          "store",
          "good",
          "boy",
          "chicken",
          "meal",
          "keep",
          "serve",
          "hope",
          "need",
          "explain",
          "school",
          "visit",
          "get",
          "offer",
          "also",
          "work",
          "lot",
          "home",
          "husband",
          "go",
          "mother",
          "help",
          "plan",
          "order",
          "fry",
          "operate",
          "family",
          "santo_domingo",
          "currently",
          "say",
          "woman",
          "new",
          "want",
          "raw_material",
          "income",
          "attend",
          "many",
          "start",
          "vegetable",
          "increase",
          "open",
          "juice",
          "continue",
          "month",
          "produce",
          "dish",
          "cake",
          "delicious",
          "live",
          "market",
          "attract",
          "public",
          "product",
          "use",
          "cook",
          "traditional_dominican",
          "well",
          "ago",
          "drink",
          "nail",
          "material",
          "grow",
          "house",
          "invest",
          "build",
          "ingredient",
          "enjoy",
          "improve",
          "care",
          "homemade",
          "give",
          "expand",
          "special",
          "great",
          "way",
          "space",
          "beer",
          "meat"
         ],
         "y": [
          63,
          57,
          53,
          41,
          41,
          40,
          38,
          29,
          28,
          27,
          26,
          26,
          25,
          24,
          22,
          22,
          22,
          21,
          20,
          19,
          19,
          17,
          17,
          17,
          17,
          16,
          16,
          16,
          16,
          15,
          15,
          14,
          14,
          14,
          14,
          14,
          14,
          14,
          13,
          13,
          13,
          13,
          13,
          12,
          12,
          12,
          12,
          11,
          11,
          11,
          11,
          11,
          11,
          11,
          10,
          10,
          10,
          10,
          10,
          9,
          9,
          9,
          9,
          9,
          9,
          9,
          9,
          8,
          8,
          8,
          8,
          8,
          8,
          8,
          8,
          7,
          7,
          7,
          7,
          7,
          7,
          7,
          7,
          7,
          6,
          6,
          6,
          6,
          6,
          6,
          6,
          6,
          6,
          6,
          6,
          6,
          5,
          5,
          5,
          5
         ]
        }
       ],
       "layout": {
        "legend": {
         "bgcolor": "#F5F6F9",
         "font": {
          "color": "#4D5663"
         }
        },
        "paper_bgcolor": "#F5F6F9",
        "plot_bgcolor": "#F5F6F9",
        "template": {
         "data": {
          "bar": [
           {
            "error_x": {
             "color": "#2a3f5f"
            },
            "error_y": {
             "color": "#2a3f5f"
            },
            "marker": {
             "line": {
              "color": "#E5ECF6",
              "width": 0.5
             }
            },
            "type": "bar"
           }
          ],
          "barpolar": [
           {
            "marker": {
             "line": {
              "color": "#E5ECF6",
              "width": 0.5
             }
            },
            "type": "barpolar"
           }
          ],
          "carpet": [
           {
            "aaxis": {
             "endlinecolor": "#2a3f5f",
             "gridcolor": "white",
             "linecolor": "white",
             "minorgridcolor": "white",
             "startlinecolor": "#2a3f5f"
            },
            "baxis": {
             "endlinecolor": "#2a3f5f",
             "gridcolor": "white",
             "linecolor": "white",
             "minorgridcolor": "white",
             "startlinecolor": "#2a3f5f"
            },
            "type": "carpet"
           }
          ],
          "choropleth": [
           {
            "colorbar": {
             "outlinewidth": 0,
             "ticks": ""
            },
            "type": "choropleth"
           }
          ],
          "contour": [
           {
            "colorbar": {
             "outlinewidth": 0,
             "ticks": ""
            },
            "colorscale": [
             [
              0,
              "#0d0887"
             ],
             [
              0.1111111111111111,
              "#46039f"
             ],
             [
              0.2222222222222222,
              "#7201a8"
             ],
             [
              0.3333333333333333,
              "#9c179e"
             ],
             [
              0.4444444444444444,
              "#bd3786"
             ],
             [
              0.5555555555555556,
              "#d8576b"
             ],
             [
              0.6666666666666666,
              "#ed7953"
             ],
             [
              0.7777777777777778,
              "#fb9f3a"
             ],
             [
              0.8888888888888888,
              "#fdca26"
             ],
             [
              1,
              "#f0f921"
             ]
            ],
            "type": "contour"
           }
          ],
          "contourcarpet": [
           {
            "colorbar": {
             "outlinewidth": 0,
             "ticks": ""
            },
            "type": "contourcarpet"
           }
          ],
          "heatmap": [
           {
            "colorbar": {
             "outlinewidth": 0,
             "ticks": ""
            },
            "colorscale": [
             [
              0,
              "#0d0887"
             ],
             [
              0.1111111111111111,
              "#46039f"
             ],
             [
              0.2222222222222222,
              "#7201a8"
             ],
             [
              0.3333333333333333,
              "#9c179e"
             ],
             [
              0.4444444444444444,
              "#bd3786"
             ],
             [
              0.5555555555555556,
              "#d8576b"
             ],
             [
              0.6666666666666666,
              "#ed7953"
             ],
             [
              0.7777777777777778,
              "#fb9f3a"
             ],
             [
              0.8888888888888888,
              "#fdca26"
             ],
             [
              1,
              "#f0f921"
             ]
            ],
            "type": "heatmap"
           }
          ],
          "heatmapgl": [
           {
            "colorbar": {
             "outlinewidth": 0,
             "ticks": ""
            },
            "colorscale": [
             [
              0,
              "#0d0887"
             ],
             [
              0.1111111111111111,
              "#46039f"
             ],
             [
              0.2222222222222222,
              "#7201a8"
             ],
             [
              0.3333333333333333,
              "#9c179e"
             ],
             [
              0.4444444444444444,
              "#bd3786"
             ],
             [
              0.5555555555555556,
              "#d8576b"
             ],
             [
              0.6666666666666666,
              "#ed7953"
             ],
             [
              0.7777777777777778,
              "#fb9f3a"
             ],
             [
              0.8888888888888888,
              "#fdca26"
             ],
             [
              1,
              "#f0f921"
             ]
            ],
            "type": "heatmapgl"
           }
          ],
          "histogram": [
           {
            "marker": {
             "colorbar": {
              "outlinewidth": 0,
              "ticks": ""
             }
            },
            "type": "histogram"
           }
          ],
          "histogram2d": [
           {
            "colorbar": {
             "outlinewidth": 0,
             "ticks": ""
            },
            "colorscale": [
             [
              0,
              "#0d0887"
             ],
             [
              0.1111111111111111,
              "#46039f"
             ],
             [
              0.2222222222222222,
              "#7201a8"
             ],
             [
              0.3333333333333333,
              "#9c179e"
             ],
             [
              0.4444444444444444,
              "#bd3786"
             ],
             [
              0.5555555555555556,
              "#d8576b"
             ],
             [
              0.6666666666666666,
              "#ed7953"
             ],
             [
              0.7777777777777778,
              "#fb9f3a"
             ],
             [
              0.8888888888888888,
              "#fdca26"
             ],
             [
              1,
              "#f0f921"
             ]
            ],
            "type": "histogram2d"
           }
          ],
          "histogram2dcontour": [
           {
            "colorbar": {
             "outlinewidth": 0,
             "ticks": ""
            },
            "colorscale": [
             [
              0,
              "#0d0887"
             ],
             [
              0.1111111111111111,
              "#46039f"
             ],
             [
              0.2222222222222222,
              "#7201a8"
             ],
             [
              0.3333333333333333,
              "#9c179e"
             ],
             [
              0.4444444444444444,
              "#bd3786"
             ],
             [
              0.5555555555555556,
              "#d8576b"
             ],
             [
              0.6666666666666666,
              "#ed7953"
             ],
             [
              0.7777777777777778,
              "#fb9f3a"
             ],
             [
              0.8888888888888888,
              "#fdca26"
             ],
             [
              1,
              "#f0f921"
             ]
            ],
            "type": "histogram2dcontour"
           }
          ],
          "mesh3d": [
           {
            "colorbar": {
             "outlinewidth": 0,
             "ticks": ""
            },
            "type": "mesh3d"
           }
          ],
          "parcoords": [
           {
            "line": {
             "colorbar": {
              "outlinewidth": 0,
              "ticks": ""
             }
            },
            "type": "parcoords"
           }
          ],
          "pie": [
           {
            "automargin": true,
            "type": "pie"
           }
          ],
          "scatter": [
           {
            "marker": {
             "colorbar": {
              "outlinewidth": 0,
              "ticks": ""
             }
            },
            "type": "scatter"
           }
          ],
          "scatter3d": [
           {
            "line": {
             "colorbar": {
              "outlinewidth": 0,
              "ticks": ""
             }
            },
            "marker": {
             "colorbar": {
              "outlinewidth": 0,
              "ticks": ""
             }
            },
            "type": "scatter3d"
           }
          ],
          "scattercarpet": [
           {
            "marker": {
             "colorbar": {
              "outlinewidth": 0,
              "ticks": ""
             }
            },
            "type": "scattercarpet"
           }
          ],
          "scattergeo": [
           {
            "marker": {
             "colorbar": {
              "outlinewidth": 0,
              "ticks": ""
             }
            },
            "type": "scattergeo"
           }
          ],
          "scattergl": [
           {
            "marker": {
             "colorbar": {
              "outlinewidth": 0,
              "ticks": ""
             }
            },
            "type": "scattergl"
           }
          ],
          "scattermapbox": [
           {
            "marker": {
             "colorbar": {
              "outlinewidth": 0,
              "ticks": ""
             }
            },
            "type": "scattermapbox"
           }
          ],
          "scatterpolar": [
           {
            "marker": {
             "colorbar": {
              "outlinewidth": 0,
              "ticks": ""
             }
            },
            "type": "scatterpolar"
           }
          ],
          "scatterpolargl": [
           {
            "marker": {
             "colorbar": {
              "outlinewidth": 0,
              "ticks": ""
             }
            },
            "type": "scatterpolargl"
           }
          ],
          "scatterternary": [
           {
            "marker": {
             "colorbar": {
              "outlinewidth": 0,
              "ticks": ""
             }
            },
            "type": "scatterternary"
           }
          ],
          "surface": [
           {
            "colorbar": {
             "outlinewidth": 0,
             "ticks": ""
            },
            "colorscale": [
             [
              0,
              "#0d0887"
             ],
             [
              0.1111111111111111,
              "#46039f"
             ],
             [
              0.2222222222222222,
              "#7201a8"
             ],
             [
              0.3333333333333333,
              "#9c179e"
             ],
             [
              0.4444444444444444,
              "#bd3786"
             ],
             [
              0.5555555555555556,
              "#d8576b"
             ],
             [
              0.6666666666666666,
              "#ed7953"
             ],
             [
              0.7777777777777778,
              "#fb9f3a"
             ],
             [
              0.8888888888888888,
              "#fdca26"
             ],
             [
              1,
              "#f0f921"
             ]
            ],
            "type": "surface"
           }
          ],
          "table": [
           {
            "cells": {
             "fill": {
              "color": "#EBF0F8"
             },
             "line": {
              "color": "white"
             }
            },
            "header": {
             "fill": {
              "color": "#C8D4E3"
             },
             "line": {
              "color": "white"
             }
            },
            "type": "table"
           }
          ]
         },
         "layout": {
          "annotationdefaults": {
           "arrowcolor": "#2a3f5f",
           "arrowhead": 0,
           "arrowwidth": 1
          },
          "coloraxis": {
           "colorbar": {
            "outlinewidth": 0,
            "ticks": ""
           }
          },
          "colorscale": {
           "diverging": [
            [
             0,
             "#8e0152"
            ],
            [
             0.1,
             "#c51b7d"
            ],
            [
             0.2,
             "#de77ae"
            ],
            [
             0.3,
             "#f1b6da"
            ],
            [
             0.4,
             "#fde0ef"
            ],
            [
             0.5,
             "#f7f7f7"
            ],
            [
             0.6,
             "#e6f5d0"
            ],
            [
             0.7,
             "#b8e186"
            ],
            [
             0.8,
             "#7fbc41"
            ],
            [
             0.9,
             "#4d9221"
            ],
            [
             1,
             "#276419"
            ]
           ],
           "sequential": [
            [
             0,
             "#0d0887"
            ],
            [
             0.1111111111111111,
             "#46039f"
            ],
            [
             0.2222222222222222,
             "#7201a8"
            ],
            [
             0.3333333333333333,
             "#9c179e"
            ],
            [
             0.4444444444444444,
             "#bd3786"
            ],
            [
             0.5555555555555556,
             "#d8576b"
            ],
            [
             0.6666666666666666,
             "#ed7953"
            ],
            [
             0.7777777777777778,
             "#fb9f3a"
            ],
            [
             0.8888888888888888,
             "#fdca26"
            ],
            [
             1,
             "#f0f921"
            ]
           ],
           "sequentialminus": [
            [
             0,
             "#0d0887"
            ],
            [
             0.1111111111111111,
             "#46039f"
            ],
            [
             0.2222222222222222,
             "#7201a8"
            ],
            [
             0.3333333333333333,
             "#9c179e"
            ],
            [
             0.4444444444444444,
             "#bd3786"
            ],
            [
             0.5555555555555556,
             "#d8576b"
            ],
            [
             0.6666666666666666,
             "#ed7953"
            ],
            [
             0.7777777777777778,
             "#fb9f3a"
            ],
            [
             0.8888888888888888,
             "#fdca26"
            ],
            [
             1,
             "#f0f921"
            ]
           ]
          },
          "colorway": [
           "#636efa",
           "#EF553B",
           "#00cc96",
           "#ab63fa",
           "#FFA15A",
           "#19d3f3",
           "#FF6692",
           "#B6E880",
           "#FF97FF",
           "#FECB52"
          ],
          "font": {
           "color": "#2a3f5f"
          },
          "geo": {
           "bgcolor": "white",
           "lakecolor": "white",
           "landcolor": "#E5ECF6",
           "showlakes": true,
           "showland": true,
           "subunitcolor": "white"
          },
          "hoverlabel": {
           "align": "left"
          },
          "hovermode": "closest",
          "mapbox": {
           "style": "light"
          },
          "paper_bgcolor": "white",
          "plot_bgcolor": "#E5ECF6",
          "polar": {
           "angularaxis": {
            "gridcolor": "white",
            "linecolor": "white",
            "ticks": ""
           },
           "bgcolor": "#E5ECF6",
           "radialaxis": {
            "gridcolor": "white",
            "linecolor": "white",
            "ticks": ""
           }
          },
          "scene": {
           "xaxis": {
            "backgroundcolor": "#E5ECF6",
            "gridcolor": "white",
            "gridwidth": 2,
            "linecolor": "white",
            "showbackground": true,
            "ticks": "",
            "zerolinecolor": "white"
           },
           "yaxis": {
            "backgroundcolor": "#E5ECF6",
            "gridcolor": "white",
            "gridwidth": 2,
            "linecolor": "white",
            "showbackground": true,
            "ticks": "",
            "zerolinecolor": "white"
           },
           "zaxis": {
            "backgroundcolor": "#E5ECF6",
            "gridcolor": "white",
            "gridwidth": 2,
            "linecolor": "white",
            "showbackground": true,
            "ticks": "",
            "zerolinecolor": "white"
           }
          },
          "shapedefaults": {
           "line": {
            "color": "#2a3f5f"
           }
          },
          "ternary": {
           "aaxis": {
            "gridcolor": "white",
            "linecolor": "white",
            "ticks": ""
           },
           "baxis": {
            "gridcolor": "white",
            "linecolor": "white",
            "ticks": ""
           },
           "bgcolor": "#E5ECF6",
           "caxis": {
            "gridcolor": "white",
            "linecolor": "white",
            "ticks": ""
           }
          },
          "title": {
           "x": 0.05
          },
          "xaxis": {
           "automargin": true,
           "gridcolor": "white",
           "linecolor": "white",
           "ticks": "",
           "title": {
            "standoff": 15
           },
           "zerolinecolor": "white",
           "zerolinewidth": 2
          },
          "yaxis": {
           "automargin": true,
           "gridcolor": "white",
           "linecolor": "white",
           "ticks": "",
           "title": {
            "standoff": 15
           },
           "zerolinecolor": "white",
           "zerolinewidth": 2
          }
         }
        },
        "title": {
         "font": {
          "color": "#4D5663"
         },
         "text": "Topic 0: Top 100 words after removing stop words"
        },
        "xaxis": {
         "gridcolor": "#E1E5ED",
         "linecolor": "black",
         "showgrid": true,
         "tickfont": {
          "color": "#4D5663"
         },
         "title": {
          "font": {
           "color": "#4D5663"
          },
          "text": ""
         },
         "zerolinecolor": "#E1E5ED"
        },
        "yaxis": {
         "gridcolor": "#E1E5ED",
         "linecolor": "black",
         "showgrid": true,
         "tickfont": {
          "color": "#4D5663"
         },
         "title": {
          "font": {
           "color": "#4D5663"
          },
          "text": "Count"
         },
         "zerolinecolor": "#E1E5ED"
        }
       }
      },
      "text/html": [
       "<div>\n",
       "        \n",
       "        \n",
       "            <div id=\"af847d79-93a0-4054-9732-46c54b99d8be\" class=\"plotly-graph-div\" style=\"height:525px; width:100%;\"></div>\n",
       "            <script type=\"text/javascript\">\n",
       "                require([\"plotly\"], function(Plotly) {\n",
       "                    window.PLOTLYENV=window.PLOTLYENV || {};\n",
       "                    window.PLOTLYENV.BASE_URL='https://plot.ly';\n",
       "                    \n",
       "                if (document.getElementById(\"af847d79-93a0-4054-9732-46c54b99d8be\")) {\n",
       "                    Plotly.newPlot(\n",
       "                        'af847d79-93a0-4054-9732-46c54b99d8be',\n",
       "                        [{\"marker\": {\"color\": \"rgba(255, 153, 51, 0.6)\", \"line\": {\"color\": \"rgba(255, 153, 51, 1.0)\", \"width\": 1}}, \"name\": \"count\", \"orientation\": \"v\", \"text\": \"\", \"type\": \"bar\", \"x\": [\"business\", \"year\", \"loan\", \"customer\", \"sell\", \"child\", \"prepare\", \"old\", \"buy\", \"make\", \"run\", \"people\", \"community\", \"food\", \"entrepreneur\", \"request\", \"purchase\", \"restaurant\", \"cafeteria\", \"day\", \"girl\", \"small\", \"store\", \"good\", \"boy\", \"chicken\", \"meal\", \"keep\", \"serve\", \"hope\", \"need\", \"explain\", \"school\", \"visit\", \"get\", \"offer\", \"also\", \"work\", \"lot\", \"home\", \"husband\", \"go\", \"mother\", \"help\", \"plan\", \"order\", \"fry\", \"operate\", \"family\", \"santo_domingo\", \"currently\", \"say\", \"woman\", \"new\", \"want\", \"raw_material\", \"income\", \"attend\", \"many\", \"start\", \"vegetable\", \"increase\", \"open\", \"juice\", \"continue\", \"month\", \"produce\", \"dish\", \"cake\", \"delicious\", \"live\", \"market\", \"attract\", \"public\", \"product\", \"use\", \"cook\", \"traditional_dominican\", \"well\", \"ago\", \"drink\", \"nail\", \"material\", \"grow\", \"house\", \"invest\", \"build\", \"ingredient\", \"enjoy\", \"improve\", \"care\", \"homemade\", \"give\", \"expand\", \"special\", \"great\", \"way\", \"space\", \"beer\", \"meat\"], \"y\": [63, 57, 53, 41, 41, 40, 38, 29, 28, 27, 26, 26, 25, 24, 22, 22, 22, 21, 20, 19, 19, 17, 17, 17, 17, 16, 16, 16, 16, 15, 15, 14, 14, 14, 14, 14, 14, 14, 13, 13, 13, 13, 13, 12, 12, 12, 12, 11, 11, 11, 11, 11, 11, 11, 10, 10, 10, 10, 10, 9, 9, 9, 9, 9, 9, 9, 9, 8, 8, 8, 8, 8, 8, 8, 8, 7, 7, 7, 7, 7, 7, 7, 7, 7, 6, 6, 6, 6, 6, 6, 6, 6, 6, 6, 6, 6, 5, 5, 5, 5]}],\n",
       "                        {\"legend\": {\"bgcolor\": \"#F5F6F9\", \"font\": {\"color\": \"#4D5663\"}}, \"paper_bgcolor\": \"#F5F6F9\", \"plot_bgcolor\": \"#F5F6F9\", \"template\": {\"data\": {\"bar\": [{\"error_x\": {\"color\": \"#2a3f5f\"}, \"error_y\": {\"color\": \"#2a3f5f\"}, \"marker\": {\"line\": {\"color\": \"#E5ECF6\", \"width\": 0.5}}, \"type\": \"bar\"}], \"barpolar\": [{\"marker\": {\"line\": {\"color\": \"#E5ECF6\", \"width\": 0.5}}, \"type\": \"barpolar\"}], \"carpet\": [{\"aaxis\": {\"endlinecolor\": \"#2a3f5f\", \"gridcolor\": \"white\", \"linecolor\": \"white\", \"minorgridcolor\": \"white\", \"startlinecolor\": \"#2a3f5f\"}, \"baxis\": {\"endlinecolor\": \"#2a3f5f\", \"gridcolor\": \"white\", \"linecolor\": \"white\", \"minorgridcolor\": \"white\", \"startlinecolor\": \"#2a3f5f\"}, \"type\": \"carpet\"}], \"choropleth\": [{\"colorbar\": {\"outlinewidth\": 0, \"ticks\": \"\"}, \"type\": \"choropleth\"}], \"contour\": [{\"colorbar\": {\"outlinewidth\": 0, \"ticks\": \"\"}, \"colorscale\": [[0.0, \"#0d0887\"], [0.1111111111111111, \"#46039f\"], [0.2222222222222222, \"#7201a8\"], [0.3333333333333333, \"#9c179e\"], [0.4444444444444444, \"#bd3786\"], [0.5555555555555556, \"#d8576b\"], [0.6666666666666666, \"#ed7953\"], [0.7777777777777778, \"#fb9f3a\"], [0.8888888888888888, \"#fdca26\"], [1.0, \"#f0f921\"]], \"type\": \"contour\"}], \"contourcarpet\": [{\"colorbar\": {\"outlinewidth\": 0, \"ticks\": \"\"}, \"type\": \"contourcarpet\"}], \"heatmap\": [{\"colorbar\": {\"outlinewidth\": 0, \"ticks\": \"\"}, \"colorscale\": [[0.0, \"#0d0887\"], [0.1111111111111111, \"#46039f\"], [0.2222222222222222, \"#7201a8\"], [0.3333333333333333, \"#9c179e\"], [0.4444444444444444, \"#bd3786\"], [0.5555555555555556, \"#d8576b\"], [0.6666666666666666, \"#ed7953\"], [0.7777777777777778, \"#fb9f3a\"], [0.8888888888888888, \"#fdca26\"], [1.0, \"#f0f921\"]], \"type\": \"heatmap\"}], \"heatmapgl\": [{\"colorbar\": {\"outlinewidth\": 0, \"ticks\": \"\"}, \"colorscale\": [[0.0, \"#0d0887\"], [0.1111111111111111, \"#46039f\"], [0.2222222222222222, \"#7201a8\"], [0.3333333333333333, \"#9c179e\"], [0.4444444444444444, \"#bd3786\"], [0.5555555555555556, \"#d8576b\"], [0.6666666666666666, \"#ed7953\"], [0.7777777777777778, \"#fb9f3a\"], [0.8888888888888888, \"#fdca26\"], [1.0, \"#f0f921\"]], \"type\": \"heatmapgl\"}], \"histogram\": [{\"marker\": {\"colorbar\": {\"outlinewidth\": 0, \"ticks\": \"\"}}, \"type\": \"histogram\"}], \"histogram2d\": [{\"colorbar\": {\"outlinewidth\": 0, \"ticks\": \"\"}, \"colorscale\": [[0.0, \"#0d0887\"], [0.1111111111111111, \"#46039f\"], [0.2222222222222222, \"#7201a8\"], [0.3333333333333333, \"#9c179e\"], [0.4444444444444444, \"#bd3786\"], [0.5555555555555556, \"#d8576b\"], [0.6666666666666666, \"#ed7953\"], [0.7777777777777778, \"#fb9f3a\"], [0.8888888888888888, \"#fdca26\"], [1.0, \"#f0f921\"]], \"type\": \"histogram2d\"}], \"histogram2dcontour\": [{\"colorbar\": {\"outlinewidth\": 0, \"ticks\": \"\"}, \"colorscale\": [[0.0, \"#0d0887\"], [0.1111111111111111, \"#46039f\"], [0.2222222222222222, \"#7201a8\"], [0.3333333333333333, \"#9c179e\"], [0.4444444444444444, \"#bd3786\"], [0.5555555555555556, \"#d8576b\"], [0.6666666666666666, \"#ed7953\"], [0.7777777777777778, \"#fb9f3a\"], [0.8888888888888888, \"#fdca26\"], [1.0, \"#f0f921\"]], \"type\": \"histogram2dcontour\"}], \"mesh3d\": [{\"colorbar\": {\"outlinewidth\": 0, \"ticks\": \"\"}, \"type\": \"mesh3d\"}], \"parcoords\": [{\"line\": {\"colorbar\": {\"outlinewidth\": 0, \"ticks\": \"\"}}, \"type\": \"parcoords\"}], \"pie\": [{\"automargin\": true, \"type\": \"pie\"}], \"scatter\": [{\"marker\": {\"colorbar\": {\"outlinewidth\": 0, \"ticks\": \"\"}}, \"type\": \"scatter\"}], \"scatter3d\": [{\"line\": {\"colorbar\": {\"outlinewidth\": 0, \"ticks\": \"\"}}, \"marker\": {\"colorbar\": {\"outlinewidth\": 0, \"ticks\": \"\"}}, \"type\": \"scatter3d\"}], \"scattercarpet\": [{\"marker\": {\"colorbar\": {\"outlinewidth\": 0, \"ticks\": \"\"}}, \"type\": \"scattercarpet\"}], \"scattergeo\": [{\"marker\": {\"colorbar\": {\"outlinewidth\": 0, \"ticks\": \"\"}}, \"type\": \"scattergeo\"}], \"scattergl\": [{\"marker\": {\"colorbar\": {\"outlinewidth\": 0, \"ticks\": \"\"}}, \"type\": \"scattergl\"}], \"scattermapbox\": [{\"marker\": {\"colorbar\": {\"outlinewidth\": 0, \"ticks\": \"\"}}, \"type\": \"scattermapbox\"}], \"scatterpolar\": [{\"marker\": {\"colorbar\": {\"outlinewidth\": 0, \"ticks\": \"\"}}, \"type\": \"scatterpolar\"}], \"scatterpolargl\": [{\"marker\": {\"colorbar\": {\"outlinewidth\": 0, \"ticks\": \"\"}}, \"type\": \"scatterpolargl\"}], \"scatterternary\": [{\"marker\": {\"colorbar\": {\"outlinewidth\": 0, \"ticks\": \"\"}}, \"type\": \"scatterternary\"}], \"surface\": [{\"colorbar\": {\"outlinewidth\": 0, \"ticks\": \"\"}, \"colorscale\": [[0.0, \"#0d0887\"], [0.1111111111111111, \"#46039f\"], [0.2222222222222222, \"#7201a8\"], [0.3333333333333333, \"#9c179e\"], [0.4444444444444444, \"#bd3786\"], [0.5555555555555556, \"#d8576b\"], [0.6666666666666666, \"#ed7953\"], [0.7777777777777778, \"#fb9f3a\"], [0.8888888888888888, \"#fdca26\"], [1.0, \"#f0f921\"]], \"type\": \"surface\"}], \"table\": [{\"cells\": {\"fill\": {\"color\": \"#EBF0F8\"}, \"line\": {\"color\": \"white\"}}, \"header\": {\"fill\": {\"color\": \"#C8D4E3\"}, \"line\": {\"color\": \"white\"}}, \"type\": \"table\"}]}, \"layout\": {\"annotationdefaults\": {\"arrowcolor\": \"#2a3f5f\", \"arrowhead\": 0, \"arrowwidth\": 1}, \"coloraxis\": {\"colorbar\": {\"outlinewidth\": 0, \"ticks\": \"\"}}, \"colorscale\": {\"diverging\": [[0, \"#8e0152\"], [0.1, \"#c51b7d\"], [0.2, \"#de77ae\"], [0.3, \"#f1b6da\"], [0.4, \"#fde0ef\"], [0.5, \"#f7f7f7\"], [0.6, \"#e6f5d0\"], [0.7, \"#b8e186\"], [0.8, \"#7fbc41\"], [0.9, \"#4d9221\"], [1, \"#276419\"]], \"sequential\": [[0.0, \"#0d0887\"], [0.1111111111111111, \"#46039f\"], [0.2222222222222222, \"#7201a8\"], [0.3333333333333333, \"#9c179e\"], [0.4444444444444444, \"#bd3786\"], [0.5555555555555556, \"#d8576b\"], [0.6666666666666666, \"#ed7953\"], [0.7777777777777778, \"#fb9f3a\"], [0.8888888888888888, \"#fdca26\"], [1.0, \"#f0f921\"]], \"sequentialminus\": [[0.0, \"#0d0887\"], [0.1111111111111111, \"#46039f\"], [0.2222222222222222, \"#7201a8\"], [0.3333333333333333, \"#9c179e\"], [0.4444444444444444, \"#bd3786\"], [0.5555555555555556, \"#d8576b\"], [0.6666666666666666, \"#ed7953\"], [0.7777777777777778, \"#fb9f3a\"], [0.8888888888888888, \"#fdca26\"], [1.0, \"#f0f921\"]]}, \"colorway\": [\"#636efa\", \"#EF553B\", \"#00cc96\", \"#ab63fa\", \"#FFA15A\", \"#19d3f3\", \"#FF6692\", \"#B6E880\", \"#FF97FF\", \"#FECB52\"], \"font\": {\"color\": \"#2a3f5f\"}, \"geo\": {\"bgcolor\": \"white\", \"lakecolor\": \"white\", \"landcolor\": \"#E5ECF6\", \"showlakes\": true, \"showland\": true, \"subunitcolor\": \"white\"}, \"hoverlabel\": {\"align\": \"left\"}, \"hovermode\": \"closest\", \"mapbox\": {\"style\": \"light\"}, \"paper_bgcolor\": \"white\", \"plot_bgcolor\": \"#E5ECF6\", \"polar\": {\"angularaxis\": {\"gridcolor\": \"white\", \"linecolor\": \"white\", \"ticks\": \"\"}, \"bgcolor\": \"#E5ECF6\", \"radialaxis\": {\"gridcolor\": \"white\", \"linecolor\": \"white\", \"ticks\": \"\"}}, \"scene\": {\"xaxis\": {\"backgroundcolor\": \"#E5ECF6\", \"gridcolor\": \"white\", \"gridwidth\": 2, \"linecolor\": \"white\", \"showbackground\": true, \"ticks\": \"\", \"zerolinecolor\": \"white\"}, \"yaxis\": {\"backgroundcolor\": \"#E5ECF6\", \"gridcolor\": \"white\", \"gridwidth\": 2, \"linecolor\": \"white\", \"showbackground\": true, \"ticks\": \"\", \"zerolinecolor\": \"white\"}, \"zaxis\": {\"backgroundcolor\": \"#E5ECF6\", \"gridcolor\": \"white\", \"gridwidth\": 2, \"linecolor\": \"white\", \"showbackground\": true, \"ticks\": \"\", \"zerolinecolor\": \"white\"}}, \"shapedefaults\": {\"line\": {\"color\": \"#2a3f5f\"}}, \"ternary\": {\"aaxis\": {\"gridcolor\": \"white\", \"linecolor\": \"white\", \"ticks\": \"\"}, \"baxis\": {\"gridcolor\": \"white\", \"linecolor\": \"white\", \"ticks\": \"\"}, \"bgcolor\": \"#E5ECF6\", \"caxis\": {\"gridcolor\": \"white\", \"linecolor\": \"white\", \"ticks\": \"\"}}, \"title\": {\"x\": 0.05}, \"xaxis\": {\"automargin\": true, \"gridcolor\": \"white\", \"linecolor\": \"white\", \"ticks\": \"\", \"title\": {\"standoff\": 15}, \"zerolinecolor\": \"white\", \"zerolinewidth\": 2}, \"yaxis\": {\"automargin\": true, \"gridcolor\": \"white\", \"linecolor\": \"white\", \"ticks\": \"\", \"title\": {\"standoff\": 15}, \"zerolinecolor\": \"white\", \"zerolinewidth\": 2}}}, \"title\": {\"font\": {\"color\": \"#4D5663\"}, \"text\": \"Topic 0: Top 100 words after removing stop words\"}, \"xaxis\": {\"gridcolor\": \"#E1E5ED\", \"linecolor\": \"black\", \"showgrid\": true, \"tickfont\": {\"color\": \"#4D5663\"}, \"title\": {\"font\": {\"color\": \"#4D5663\"}, \"text\": \"\"}, \"zerolinecolor\": \"#E1E5ED\"}, \"yaxis\": {\"gridcolor\": \"#E1E5ED\", \"linecolor\": \"black\", \"showgrid\": true, \"tickfont\": {\"color\": \"#4D5663\"}, \"title\": {\"font\": {\"color\": \"#4D5663\"}, \"text\": \"Count\"}, \"zerolinecolor\": \"#E1E5ED\"}},\n",
       "                        {\"showLink\": true, \"linkText\": \"Export to plot.ly\", \"plotlyServerURL\": \"https://plot.ly\", \"responsive\": true}\n",
       "                    ).then(function(){\n",
       "                            \n",
       "var gd = document.getElementById('af847d79-93a0-4054-9732-46c54b99d8be');\n",
       "var x = new MutationObserver(function (mutations, observer) {{\n",
       "        var display = window.getComputedStyle(gd).display;\n",
       "        if (!display || display === 'none') {{\n",
       "            console.log([gd, 'removed!']);\n",
       "            Plotly.purge(gd);\n",
       "            observer.disconnect();\n",
       "        }}\n",
       "}});\n",
       "\n",
       "// Listen for the removal of the full notebook cells\n",
       "var notebookContainer = gd.closest('#notebook-container');\n",
       "if (notebookContainer) {{\n",
       "    x.observe(notebookContainer, {childList: true});\n",
       "}}\n",
       "\n",
       "// Listen for the clearing of the current output cell\n",
       "var outputEl = gd.closest('.output');\n",
       "if (outputEl) {{\n",
       "    x.observe(outputEl, {childList: true});\n",
       "}}\n",
       "\n",
       "                        })\n",
       "                };\n",
       "                });\n",
       "            </script>\n",
       "        </div>"
      ]
     },
     "metadata": {},
     "output_type": "display_data"
    }
   ],
   "source": [
    "plot_model(lda)"
   ]
  },
  {
   "cell_type": "code",
   "execution_count": 23,
   "metadata": {},
   "outputs": [
    {
     "data": {
      "application/vnd.plotly.v1+json": {
       "config": {
        "linkText": "Export to plot.ly",
        "plotlyServerURL": "https://plot.ly",
        "showLink": true
       },
       "data": [
        {
         "marker": {
          "color": "rgba(255, 153, 51, 0.6)",
          "line": {
           "color": "rgba(255, 153, 51, 1.0)",
           "width": 1
          }
         },
         "name": "count",
         "orientation": "v",
         "text": "",
         "type": "bar",
         "x": [
          "year old",
          "loan buy",
          "request loan",
          "child boy",
          "people visit",
          "prepare food",
          "run business",
          "mother child",
          "child girl",
          "attend school",
          "loan request",
          "husband child",
          "run small",
          "year ago",
          "boy girl",
          "traditional_dominican meal",
          "buy raw_material",
          "business year",
          "operate business",
          "community santo_domingo",
          "public market",
          "loan purchase",
          "keep prepare",
          "purchase raw_material",
          "increase income",
          "small restaurant",
          "business grow",
          "hard work",
          "girl boy",
          "expand business",
          "entrepreneur request",
          "customer need",
          "small cafeteria",
          "meal juice",
          "improve_familys living_condition",
          "buy ingredient",
          "invest purchase",
          "general store",
          "last year",
          "attract new",
          "buy large_quantity",
          "attract customer",
          "marry child",
          "make mosquito_net",
          "public school",
          "owner_operator small",
          "range year",
          "success help",
          "produce homemade",
          "sell fry",
          "visit cafeteria",
          "plans_using loan",
          "new customer",
          "old mother",
          "woman live",
          "year run",
          "serve traditional_dominican",
          "customer play",
          "sell different_kind",
          "child year",
          "currently sell",
          "day thousand",
          "community run",
          "community also",
          "need fund",
          "child request",
          "store year",
          "dish prepare",
          "thousand people",
          "use loan",
          "business plan",
          "visit restaurant",
          "way entrepreneur",
          "beer sell",
          "delicious food",
          "satisfy customer",
          "eld child",
          "entrepreneur make",
          "mother boy",
          "old married",
          "many good",
          "year well_establishe",
          "lot people",
          "loan repay",
          "prepare love",
          "life sell",
          "lay space",
          "purchase appetizing",
          "request purchase",
          "restaurant community",
          "restaurant get",
          "go school",
          "girl go",
          "restaurant year",
          "run restaurant",
          "fry vegetable",
          "food store",
          "food sell",
          "second loan",
          "young people"
         ],
         "y": [
          26,
          14,
          14,
          9,
          7,
          7,
          7,
          7,
          7,
          6,
          6,
          6,
          6,
          6,
          6,
          6,
          5,
          5,
          5,
          5,
          5,
          4,
          4,
          4,
          4,
          4,
          4,
          4,
          4,
          4,
          4,
          4,
          4,
          4,
          3,
          3,
          3,
          3,
          3,
          3,
          3,
          3,
          3,
          3,
          3,
          3,
          3,
          3,
          3,
          3,
          3,
          3,
          3,
          3,
          3,
          3,
          3,
          2,
          2,
          2,
          2,
          2,
          2,
          2,
          2,
          2,
          2,
          2,
          2,
          2,
          2,
          2,
          2,
          2,
          2,
          2,
          2,
          2,
          2,
          2,
          2,
          2,
          2,
          2,
          2,
          2,
          2,
          2,
          2,
          2,
          2,
          2,
          2,
          2,
          2,
          2,
          2,
          2,
          2,
          2
         ]
        }
       ],
       "layout": {
        "legend": {
         "bgcolor": "#F5F6F9",
         "font": {
          "color": "#4D5663"
         }
        },
        "paper_bgcolor": "#F5F6F9",
        "plot_bgcolor": "#F5F6F9",
        "template": {
         "data": {
          "bar": [
           {
            "error_x": {
             "color": "#2a3f5f"
            },
            "error_y": {
             "color": "#2a3f5f"
            },
            "marker": {
             "line": {
              "color": "#E5ECF6",
              "width": 0.5
             }
            },
            "type": "bar"
           }
          ],
          "barpolar": [
           {
            "marker": {
             "line": {
              "color": "#E5ECF6",
              "width": 0.5
             }
            },
            "type": "barpolar"
           }
          ],
          "carpet": [
           {
            "aaxis": {
             "endlinecolor": "#2a3f5f",
             "gridcolor": "white",
             "linecolor": "white",
             "minorgridcolor": "white",
             "startlinecolor": "#2a3f5f"
            },
            "baxis": {
             "endlinecolor": "#2a3f5f",
             "gridcolor": "white",
             "linecolor": "white",
             "minorgridcolor": "white",
             "startlinecolor": "#2a3f5f"
            },
            "type": "carpet"
           }
          ],
          "choropleth": [
           {
            "colorbar": {
             "outlinewidth": 0,
             "ticks": ""
            },
            "type": "choropleth"
           }
          ],
          "contour": [
           {
            "colorbar": {
             "outlinewidth": 0,
             "ticks": ""
            },
            "colorscale": [
             [
              0,
              "#0d0887"
             ],
             [
              0.1111111111111111,
              "#46039f"
             ],
             [
              0.2222222222222222,
              "#7201a8"
             ],
             [
              0.3333333333333333,
              "#9c179e"
             ],
             [
              0.4444444444444444,
              "#bd3786"
             ],
             [
              0.5555555555555556,
              "#d8576b"
             ],
             [
              0.6666666666666666,
              "#ed7953"
             ],
             [
              0.7777777777777778,
              "#fb9f3a"
             ],
             [
              0.8888888888888888,
              "#fdca26"
             ],
             [
              1,
              "#f0f921"
             ]
            ],
            "type": "contour"
           }
          ],
          "contourcarpet": [
           {
            "colorbar": {
             "outlinewidth": 0,
             "ticks": ""
            },
            "type": "contourcarpet"
           }
          ],
          "heatmap": [
           {
            "colorbar": {
             "outlinewidth": 0,
             "ticks": ""
            },
            "colorscale": [
             [
              0,
              "#0d0887"
             ],
             [
              0.1111111111111111,
              "#46039f"
             ],
             [
              0.2222222222222222,
              "#7201a8"
             ],
             [
              0.3333333333333333,
              "#9c179e"
             ],
             [
              0.4444444444444444,
              "#bd3786"
             ],
             [
              0.5555555555555556,
              "#d8576b"
             ],
             [
              0.6666666666666666,
              "#ed7953"
             ],
             [
              0.7777777777777778,
              "#fb9f3a"
             ],
             [
              0.8888888888888888,
              "#fdca26"
             ],
             [
              1,
              "#f0f921"
             ]
            ],
            "type": "heatmap"
           }
          ],
          "heatmapgl": [
           {
            "colorbar": {
             "outlinewidth": 0,
             "ticks": ""
            },
            "colorscale": [
             [
              0,
              "#0d0887"
             ],
             [
              0.1111111111111111,
              "#46039f"
             ],
             [
              0.2222222222222222,
              "#7201a8"
             ],
             [
              0.3333333333333333,
              "#9c179e"
             ],
             [
              0.4444444444444444,
              "#bd3786"
             ],
             [
              0.5555555555555556,
              "#d8576b"
             ],
             [
              0.6666666666666666,
              "#ed7953"
             ],
             [
              0.7777777777777778,
              "#fb9f3a"
             ],
             [
              0.8888888888888888,
              "#fdca26"
             ],
             [
              1,
              "#f0f921"
             ]
            ],
            "type": "heatmapgl"
           }
          ],
          "histogram": [
           {
            "marker": {
             "colorbar": {
              "outlinewidth": 0,
              "ticks": ""
             }
            },
            "type": "histogram"
           }
          ],
          "histogram2d": [
           {
            "colorbar": {
             "outlinewidth": 0,
             "ticks": ""
            },
            "colorscale": [
             [
              0,
              "#0d0887"
             ],
             [
              0.1111111111111111,
              "#46039f"
             ],
             [
              0.2222222222222222,
              "#7201a8"
             ],
             [
              0.3333333333333333,
              "#9c179e"
             ],
             [
              0.4444444444444444,
              "#bd3786"
             ],
             [
              0.5555555555555556,
              "#d8576b"
             ],
             [
              0.6666666666666666,
              "#ed7953"
             ],
             [
              0.7777777777777778,
              "#fb9f3a"
             ],
             [
              0.8888888888888888,
              "#fdca26"
             ],
             [
              1,
              "#f0f921"
             ]
            ],
            "type": "histogram2d"
           }
          ],
          "histogram2dcontour": [
           {
            "colorbar": {
             "outlinewidth": 0,
             "ticks": ""
            },
            "colorscale": [
             [
              0,
              "#0d0887"
             ],
             [
              0.1111111111111111,
              "#46039f"
             ],
             [
              0.2222222222222222,
              "#7201a8"
             ],
             [
              0.3333333333333333,
              "#9c179e"
             ],
             [
              0.4444444444444444,
              "#bd3786"
             ],
             [
              0.5555555555555556,
              "#d8576b"
             ],
             [
              0.6666666666666666,
              "#ed7953"
             ],
             [
              0.7777777777777778,
              "#fb9f3a"
             ],
             [
              0.8888888888888888,
              "#fdca26"
             ],
             [
              1,
              "#f0f921"
             ]
            ],
            "type": "histogram2dcontour"
           }
          ],
          "mesh3d": [
           {
            "colorbar": {
             "outlinewidth": 0,
             "ticks": ""
            },
            "type": "mesh3d"
           }
          ],
          "parcoords": [
           {
            "line": {
             "colorbar": {
              "outlinewidth": 0,
              "ticks": ""
             }
            },
            "type": "parcoords"
           }
          ],
          "pie": [
           {
            "automargin": true,
            "type": "pie"
           }
          ],
          "scatter": [
           {
            "marker": {
             "colorbar": {
              "outlinewidth": 0,
              "ticks": ""
             }
            },
            "type": "scatter"
           }
          ],
          "scatter3d": [
           {
            "line": {
             "colorbar": {
              "outlinewidth": 0,
              "ticks": ""
             }
            },
            "marker": {
             "colorbar": {
              "outlinewidth": 0,
              "ticks": ""
             }
            },
            "type": "scatter3d"
           }
          ],
          "scattercarpet": [
           {
            "marker": {
             "colorbar": {
              "outlinewidth": 0,
              "ticks": ""
             }
            },
            "type": "scattercarpet"
           }
          ],
          "scattergeo": [
           {
            "marker": {
             "colorbar": {
              "outlinewidth": 0,
              "ticks": ""
             }
            },
            "type": "scattergeo"
           }
          ],
          "scattergl": [
           {
            "marker": {
             "colorbar": {
              "outlinewidth": 0,
              "ticks": ""
             }
            },
            "type": "scattergl"
           }
          ],
          "scattermapbox": [
           {
            "marker": {
             "colorbar": {
              "outlinewidth": 0,
              "ticks": ""
             }
            },
            "type": "scattermapbox"
           }
          ],
          "scatterpolar": [
           {
            "marker": {
             "colorbar": {
              "outlinewidth": 0,
              "ticks": ""
             }
            },
            "type": "scatterpolar"
           }
          ],
          "scatterpolargl": [
           {
            "marker": {
             "colorbar": {
              "outlinewidth": 0,
              "ticks": ""
             }
            },
            "type": "scatterpolargl"
           }
          ],
          "scatterternary": [
           {
            "marker": {
             "colorbar": {
              "outlinewidth": 0,
              "ticks": ""
             }
            },
            "type": "scatterternary"
           }
          ],
          "surface": [
           {
            "colorbar": {
             "outlinewidth": 0,
             "ticks": ""
            },
            "colorscale": [
             [
              0,
              "#0d0887"
             ],
             [
              0.1111111111111111,
              "#46039f"
             ],
             [
              0.2222222222222222,
              "#7201a8"
             ],
             [
              0.3333333333333333,
              "#9c179e"
             ],
             [
              0.4444444444444444,
              "#bd3786"
             ],
             [
              0.5555555555555556,
              "#d8576b"
             ],
             [
              0.6666666666666666,
              "#ed7953"
             ],
             [
              0.7777777777777778,
              "#fb9f3a"
             ],
             [
              0.8888888888888888,
              "#fdca26"
             ],
             [
              1,
              "#f0f921"
             ]
            ],
            "type": "surface"
           }
          ],
          "table": [
           {
            "cells": {
             "fill": {
              "color": "#EBF0F8"
             },
             "line": {
              "color": "white"
             }
            },
            "header": {
             "fill": {
              "color": "#C8D4E3"
             },
             "line": {
              "color": "white"
             }
            },
            "type": "table"
           }
          ]
         },
         "layout": {
          "annotationdefaults": {
           "arrowcolor": "#2a3f5f",
           "arrowhead": 0,
           "arrowwidth": 1
          },
          "coloraxis": {
           "colorbar": {
            "outlinewidth": 0,
            "ticks": ""
           }
          },
          "colorscale": {
           "diverging": [
            [
             0,
             "#8e0152"
            ],
            [
             0.1,
             "#c51b7d"
            ],
            [
             0.2,
             "#de77ae"
            ],
            [
             0.3,
             "#f1b6da"
            ],
            [
             0.4,
             "#fde0ef"
            ],
            [
             0.5,
             "#f7f7f7"
            ],
            [
             0.6,
             "#e6f5d0"
            ],
            [
             0.7,
             "#b8e186"
            ],
            [
             0.8,
             "#7fbc41"
            ],
            [
             0.9,
             "#4d9221"
            ],
            [
             1,
             "#276419"
            ]
           ],
           "sequential": [
            [
             0,
             "#0d0887"
            ],
            [
             0.1111111111111111,
             "#46039f"
            ],
            [
             0.2222222222222222,
             "#7201a8"
            ],
            [
             0.3333333333333333,
             "#9c179e"
            ],
            [
             0.4444444444444444,
             "#bd3786"
            ],
            [
             0.5555555555555556,
             "#d8576b"
            ],
            [
             0.6666666666666666,
             "#ed7953"
            ],
            [
             0.7777777777777778,
             "#fb9f3a"
            ],
            [
             0.8888888888888888,
             "#fdca26"
            ],
            [
             1,
             "#f0f921"
            ]
           ],
           "sequentialminus": [
            [
             0,
             "#0d0887"
            ],
            [
             0.1111111111111111,
             "#46039f"
            ],
            [
             0.2222222222222222,
             "#7201a8"
            ],
            [
             0.3333333333333333,
             "#9c179e"
            ],
            [
             0.4444444444444444,
             "#bd3786"
            ],
            [
             0.5555555555555556,
             "#d8576b"
            ],
            [
             0.6666666666666666,
             "#ed7953"
            ],
            [
             0.7777777777777778,
             "#fb9f3a"
            ],
            [
             0.8888888888888888,
             "#fdca26"
            ],
            [
             1,
             "#f0f921"
            ]
           ]
          },
          "colorway": [
           "#636efa",
           "#EF553B",
           "#00cc96",
           "#ab63fa",
           "#FFA15A",
           "#19d3f3",
           "#FF6692",
           "#B6E880",
           "#FF97FF",
           "#FECB52"
          ],
          "font": {
           "color": "#2a3f5f"
          },
          "geo": {
           "bgcolor": "white",
           "lakecolor": "white",
           "landcolor": "#E5ECF6",
           "showlakes": true,
           "showland": true,
           "subunitcolor": "white"
          },
          "hoverlabel": {
           "align": "left"
          },
          "hovermode": "closest",
          "mapbox": {
           "style": "light"
          },
          "paper_bgcolor": "white",
          "plot_bgcolor": "#E5ECF6",
          "polar": {
           "angularaxis": {
            "gridcolor": "white",
            "linecolor": "white",
            "ticks": ""
           },
           "bgcolor": "#E5ECF6",
           "radialaxis": {
            "gridcolor": "white",
            "linecolor": "white",
            "ticks": ""
           }
          },
          "scene": {
           "xaxis": {
            "backgroundcolor": "#E5ECF6",
            "gridcolor": "white",
            "gridwidth": 2,
            "linecolor": "white",
            "showbackground": true,
            "ticks": "",
            "zerolinecolor": "white"
           },
           "yaxis": {
            "backgroundcolor": "#E5ECF6",
            "gridcolor": "white",
            "gridwidth": 2,
            "linecolor": "white",
            "showbackground": true,
            "ticks": "",
            "zerolinecolor": "white"
           },
           "zaxis": {
            "backgroundcolor": "#E5ECF6",
            "gridcolor": "white",
            "gridwidth": 2,
            "linecolor": "white",
            "showbackground": true,
            "ticks": "",
            "zerolinecolor": "white"
           }
          },
          "shapedefaults": {
           "line": {
            "color": "#2a3f5f"
           }
          },
          "ternary": {
           "aaxis": {
            "gridcolor": "white",
            "linecolor": "white",
            "ticks": ""
           },
           "baxis": {
            "gridcolor": "white",
            "linecolor": "white",
            "ticks": ""
           },
           "bgcolor": "#E5ECF6",
           "caxis": {
            "gridcolor": "white",
            "linecolor": "white",
            "ticks": ""
           }
          },
          "title": {
           "x": 0.05
          },
          "xaxis": {
           "automargin": true,
           "gridcolor": "white",
           "linecolor": "white",
           "ticks": "",
           "title": {
            "standoff": 15
           },
           "zerolinecolor": "white",
           "zerolinewidth": 2
          },
          "yaxis": {
           "automargin": true,
           "gridcolor": "white",
           "linecolor": "white",
           "ticks": "",
           "title": {
            "standoff": 15
           },
           "zerolinecolor": "white",
           "zerolinewidth": 2
          }
         }
        },
        "title": {
         "font": {
          "color": "#4D5663"
         },
         "text": "Topic 0: Top 100 bigrams after removing stop words"
        },
        "xaxis": {
         "gridcolor": "#E1E5ED",
         "linecolor": "black",
         "showgrid": true,
         "tickfont": {
          "color": "#4D5663"
         },
         "title": {
          "font": {
           "color": "#4D5663"
          },
          "text": ""
         },
         "zerolinecolor": "#E1E5ED"
        },
        "yaxis": {
         "gridcolor": "#E1E5ED",
         "linecolor": "black",
         "showgrid": true,
         "tickfont": {
          "color": "#4D5663"
         },
         "title": {
          "font": {
           "color": "#4D5663"
          },
          "text": "Count"
         },
         "zerolinecolor": "#E1E5ED"
        }
       }
      },
      "text/html": [
       "<div>\n",
       "        \n",
       "        \n",
       "            <div id=\"9da8358e-bcf3-4532-b597-1bbd576acfa0\" class=\"plotly-graph-div\" style=\"height:525px; width:100%;\"></div>\n",
       "            <script type=\"text/javascript\">\n",
       "                require([\"plotly\"], function(Plotly) {\n",
       "                    window.PLOTLYENV=window.PLOTLYENV || {};\n",
       "                    window.PLOTLYENV.BASE_URL='https://plot.ly';\n",
       "                    \n",
       "                if (document.getElementById(\"9da8358e-bcf3-4532-b597-1bbd576acfa0\")) {\n",
       "                    Plotly.newPlot(\n",
       "                        '9da8358e-bcf3-4532-b597-1bbd576acfa0',\n",
       "                        [{\"marker\": {\"color\": \"rgba(255, 153, 51, 0.6)\", \"line\": {\"color\": \"rgba(255, 153, 51, 1.0)\", \"width\": 1}}, \"name\": \"count\", \"orientation\": \"v\", \"text\": \"\", \"type\": \"bar\", \"x\": [\"year old\", \"loan buy\", \"request loan\", \"child boy\", \"people visit\", \"prepare food\", \"run business\", \"mother child\", \"child girl\", \"attend school\", \"loan request\", \"husband child\", \"run small\", \"year ago\", \"boy girl\", \"traditional_dominican meal\", \"buy raw_material\", \"business year\", \"operate business\", \"community santo_domingo\", \"public market\", \"loan purchase\", \"keep prepare\", \"purchase raw_material\", \"increase income\", \"small restaurant\", \"business grow\", \"hard work\", \"girl boy\", \"expand business\", \"entrepreneur request\", \"customer need\", \"small cafeteria\", \"meal juice\", \"improve_familys living_condition\", \"buy ingredient\", \"invest purchase\", \"general store\", \"last year\", \"attract new\", \"buy large_quantity\", \"attract customer\", \"marry child\", \"make mosquito_net\", \"public school\", \"owner_operator small\", \"range year\", \"success help\", \"produce homemade\", \"sell fry\", \"visit cafeteria\", \"plans_using loan\", \"new customer\", \"old mother\", \"woman live\", \"year run\", \"serve traditional_dominican\", \"customer play\", \"sell different_kind\", \"child year\", \"currently sell\", \"day thousand\", \"community run\", \"community also\", \"need fund\", \"child request\", \"store year\", \"dish prepare\", \"thousand people\", \"use loan\", \"business plan\", \"visit restaurant\", \"way entrepreneur\", \"beer sell\", \"delicious food\", \"satisfy customer\", \"eld child\", \"entrepreneur make\", \"mother boy\", \"old married\", \"many good\", \"year well_establishe\", \"lot people\", \"loan repay\", \"prepare love\", \"life sell\", \"lay space\", \"purchase appetizing\", \"request purchase\", \"restaurant community\", \"restaurant get\", \"go school\", \"girl go\", \"restaurant year\", \"run restaurant\", \"fry vegetable\", \"food store\", \"food sell\", \"second loan\", \"young people\"], \"y\": [26, 14, 14, 9, 7, 7, 7, 7, 7, 6, 6, 6, 6, 6, 6, 6, 5, 5, 5, 5, 5, 4, 4, 4, 4, 4, 4, 4, 4, 4, 4, 4, 4, 4, 3, 3, 3, 3, 3, 3, 3, 3, 3, 3, 3, 3, 3, 3, 3, 3, 3, 3, 3, 3, 3, 3, 3, 2, 2, 2, 2, 2, 2, 2, 2, 2, 2, 2, 2, 2, 2, 2, 2, 2, 2, 2, 2, 2, 2, 2, 2, 2, 2, 2, 2, 2, 2, 2, 2, 2, 2, 2, 2, 2, 2, 2, 2, 2, 2, 2]}],\n",
       "                        {\"legend\": {\"bgcolor\": \"#F5F6F9\", \"font\": {\"color\": \"#4D5663\"}}, \"paper_bgcolor\": \"#F5F6F9\", \"plot_bgcolor\": \"#F5F6F9\", \"template\": {\"data\": {\"bar\": [{\"error_x\": {\"color\": \"#2a3f5f\"}, \"error_y\": {\"color\": \"#2a3f5f\"}, \"marker\": {\"line\": {\"color\": \"#E5ECF6\", \"width\": 0.5}}, \"type\": \"bar\"}], \"barpolar\": [{\"marker\": {\"line\": {\"color\": \"#E5ECF6\", \"width\": 0.5}}, \"type\": \"barpolar\"}], \"carpet\": [{\"aaxis\": {\"endlinecolor\": \"#2a3f5f\", \"gridcolor\": \"white\", \"linecolor\": \"white\", \"minorgridcolor\": \"white\", \"startlinecolor\": \"#2a3f5f\"}, \"baxis\": {\"endlinecolor\": \"#2a3f5f\", \"gridcolor\": \"white\", \"linecolor\": \"white\", \"minorgridcolor\": \"white\", \"startlinecolor\": \"#2a3f5f\"}, \"type\": \"carpet\"}], \"choropleth\": [{\"colorbar\": {\"outlinewidth\": 0, \"ticks\": \"\"}, \"type\": \"choropleth\"}], \"contour\": [{\"colorbar\": {\"outlinewidth\": 0, \"ticks\": \"\"}, \"colorscale\": [[0.0, \"#0d0887\"], [0.1111111111111111, \"#46039f\"], [0.2222222222222222, \"#7201a8\"], [0.3333333333333333, \"#9c179e\"], [0.4444444444444444, \"#bd3786\"], [0.5555555555555556, \"#d8576b\"], [0.6666666666666666, \"#ed7953\"], [0.7777777777777778, \"#fb9f3a\"], [0.8888888888888888, \"#fdca26\"], [1.0, \"#f0f921\"]], \"type\": \"contour\"}], \"contourcarpet\": [{\"colorbar\": {\"outlinewidth\": 0, \"ticks\": \"\"}, \"type\": \"contourcarpet\"}], \"heatmap\": [{\"colorbar\": {\"outlinewidth\": 0, \"ticks\": \"\"}, \"colorscale\": [[0.0, \"#0d0887\"], [0.1111111111111111, \"#46039f\"], [0.2222222222222222, \"#7201a8\"], [0.3333333333333333, \"#9c179e\"], [0.4444444444444444, \"#bd3786\"], [0.5555555555555556, \"#d8576b\"], [0.6666666666666666, \"#ed7953\"], [0.7777777777777778, \"#fb9f3a\"], [0.8888888888888888, \"#fdca26\"], [1.0, \"#f0f921\"]], \"type\": \"heatmap\"}], \"heatmapgl\": [{\"colorbar\": {\"outlinewidth\": 0, \"ticks\": \"\"}, \"colorscale\": [[0.0, \"#0d0887\"], [0.1111111111111111, \"#46039f\"], [0.2222222222222222, \"#7201a8\"], [0.3333333333333333, \"#9c179e\"], [0.4444444444444444, \"#bd3786\"], [0.5555555555555556, \"#d8576b\"], [0.6666666666666666, \"#ed7953\"], [0.7777777777777778, \"#fb9f3a\"], [0.8888888888888888, \"#fdca26\"], [1.0, \"#f0f921\"]], \"type\": \"heatmapgl\"}], \"histogram\": [{\"marker\": {\"colorbar\": {\"outlinewidth\": 0, \"ticks\": \"\"}}, \"type\": \"histogram\"}], \"histogram2d\": [{\"colorbar\": {\"outlinewidth\": 0, \"ticks\": \"\"}, \"colorscale\": [[0.0, \"#0d0887\"], [0.1111111111111111, \"#46039f\"], [0.2222222222222222, \"#7201a8\"], [0.3333333333333333, \"#9c179e\"], [0.4444444444444444, \"#bd3786\"], [0.5555555555555556, \"#d8576b\"], [0.6666666666666666, \"#ed7953\"], [0.7777777777777778, \"#fb9f3a\"], [0.8888888888888888, \"#fdca26\"], [1.0, \"#f0f921\"]], \"type\": \"histogram2d\"}], \"histogram2dcontour\": [{\"colorbar\": {\"outlinewidth\": 0, \"ticks\": \"\"}, \"colorscale\": [[0.0, \"#0d0887\"], [0.1111111111111111, \"#46039f\"], [0.2222222222222222, \"#7201a8\"], [0.3333333333333333, \"#9c179e\"], [0.4444444444444444, \"#bd3786\"], [0.5555555555555556, \"#d8576b\"], [0.6666666666666666, \"#ed7953\"], [0.7777777777777778, \"#fb9f3a\"], [0.8888888888888888, \"#fdca26\"], [1.0, \"#f0f921\"]], \"type\": \"histogram2dcontour\"}], \"mesh3d\": [{\"colorbar\": {\"outlinewidth\": 0, \"ticks\": \"\"}, \"type\": \"mesh3d\"}], \"parcoords\": [{\"line\": {\"colorbar\": {\"outlinewidth\": 0, \"ticks\": \"\"}}, \"type\": \"parcoords\"}], \"pie\": [{\"automargin\": true, \"type\": \"pie\"}], \"scatter\": [{\"marker\": {\"colorbar\": {\"outlinewidth\": 0, \"ticks\": \"\"}}, \"type\": \"scatter\"}], \"scatter3d\": [{\"line\": {\"colorbar\": {\"outlinewidth\": 0, \"ticks\": \"\"}}, \"marker\": {\"colorbar\": {\"outlinewidth\": 0, \"ticks\": \"\"}}, \"type\": \"scatter3d\"}], \"scattercarpet\": [{\"marker\": {\"colorbar\": {\"outlinewidth\": 0, \"ticks\": \"\"}}, \"type\": \"scattercarpet\"}], \"scattergeo\": [{\"marker\": {\"colorbar\": {\"outlinewidth\": 0, \"ticks\": \"\"}}, \"type\": \"scattergeo\"}], \"scattergl\": [{\"marker\": {\"colorbar\": {\"outlinewidth\": 0, \"ticks\": \"\"}}, \"type\": \"scattergl\"}], \"scattermapbox\": [{\"marker\": {\"colorbar\": {\"outlinewidth\": 0, \"ticks\": \"\"}}, \"type\": \"scattermapbox\"}], \"scatterpolar\": [{\"marker\": {\"colorbar\": {\"outlinewidth\": 0, \"ticks\": \"\"}}, \"type\": \"scatterpolar\"}], \"scatterpolargl\": [{\"marker\": {\"colorbar\": {\"outlinewidth\": 0, \"ticks\": \"\"}}, \"type\": \"scatterpolargl\"}], \"scatterternary\": [{\"marker\": {\"colorbar\": {\"outlinewidth\": 0, \"ticks\": \"\"}}, \"type\": \"scatterternary\"}], \"surface\": [{\"colorbar\": {\"outlinewidth\": 0, \"ticks\": \"\"}, \"colorscale\": [[0.0, \"#0d0887\"], [0.1111111111111111, \"#46039f\"], [0.2222222222222222, \"#7201a8\"], [0.3333333333333333, \"#9c179e\"], [0.4444444444444444, \"#bd3786\"], [0.5555555555555556, \"#d8576b\"], [0.6666666666666666, \"#ed7953\"], [0.7777777777777778, \"#fb9f3a\"], [0.8888888888888888, \"#fdca26\"], [1.0, \"#f0f921\"]], \"type\": \"surface\"}], \"table\": [{\"cells\": {\"fill\": {\"color\": \"#EBF0F8\"}, \"line\": {\"color\": \"white\"}}, \"header\": {\"fill\": {\"color\": \"#C8D4E3\"}, \"line\": {\"color\": \"white\"}}, \"type\": \"table\"}]}, \"layout\": {\"annotationdefaults\": {\"arrowcolor\": \"#2a3f5f\", \"arrowhead\": 0, \"arrowwidth\": 1}, \"coloraxis\": {\"colorbar\": {\"outlinewidth\": 0, \"ticks\": \"\"}}, \"colorscale\": {\"diverging\": [[0, \"#8e0152\"], [0.1, \"#c51b7d\"], [0.2, \"#de77ae\"], [0.3, \"#f1b6da\"], [0.4, \"#fde0ef\"], [0.5, \"#f7f7f7\"], [0.6, \"#e6f5d0\"], [0.7, \"#b8e186\"], [0.8, \"#7fbc41\"], [0.9, \"#4d9221\"], [1, \"#276419\"]], \"sequential\": [[0.0, \"#0d0887\"], [0.1111111111111111, \"#46039f\"], [0.2222222222222222, \"#7201a8\"], [0.3333333333333333, \"#9c179e\"], [0.4444444444444444, \"#bd3786\"], [0.5555555555555556, \"#d8576b\"], [0.6666666666666666, \"#ed7953\"], [0.7777777777777778, \"#fb9f3a\"], [0.8888888888888888, \"#fdca26\"], [1.0, \"#f0f921\"]], \"sequentialminus\": [[0.0, \"#0d0887\"], [0.1111111111111111, \"#46039f\"], [0.2222222222222222, \"#7201a8\"], [0.3333333333333333, \"#9c179e\"], [0.4444444444444444, \"#bd3786\"], [0.5555555555555556, \"#d8576b\"], [0.6666666666666666, \"#ed7953\"], [0.7777777777777778, \"#fb9f3a\"], [0.8888888888888888, \"#fdca26\"], [1.0, \"#f0f921\"]]}, \"colorway\": [\"#636efa\", \"#EF553B\", \"#00cc96\", \"#ab63fa\", \"#FFA15A\", \"#19d3f3\", \"#FF6692\", \"#B6E880\", \"#FF97FF\", \"#FECB52\"], \"font\": {\"color\": \"#2a3f5f\"}, \"geo\": {\"bgcolor\": \"white\", \"lakecolor\": \"white\", \"landcolor\": \"#E5ECF6\", \"showlakes\": true, \"showland\": true, \"subunitcolor\": \"white\"}, \"hoverlabel\": {\"align\": \"left\"}, \"hovermode\": \"closest\", \"mapbox\": {\"style\": \"light\"}, \"paper_bgcolor\": \"white\", \"plot_bgcolor\": \"#E5ECF6\", \"polar\": {\"angularaxis\": {\"gridcolor\": \"white\", \"linecolor\": \"white\", \"ticks\": \"\"}, \"bgcolor\": \"#E5ECF6\", \"radialaxis\": {\"gridcolor\": \"white\", \"linecolor\": \"white\", \"ticks\": \"\"}}, \"scene\": {\"xaxis\": {\"backgroundcolor\": \"#E5ECF6\", \"gridcolor\": \"white\", \"gridwidth\": 2, \"linecolor\": \"white\", \"showbackground\": true, \"ticks\": \"\", \"zerolinecolor\": \"white\"}, \"yaxis\": {\"backgroundcolor\": \"#E5ECF6\", \"gridcolor\": \"white\", \"gridwidth\": 2, \"linecolor\": \"white\", \"showbackground\": true, \"ticks\": \"\", \"zerolinecolor\": \"white\"}, \"zaxis\": {\"backgroundcolor\": \"#E5ECF6\", \"gridcolor\": \"white\", \"gridwidth\": 2, \"linecolor\": \"white\", \"showbackground\": true, \"ticks\": \"\", \"zerolinecolor\": \"white\"}}, \"shapedefaults\": {\"line\": {\"color\": \"#2a3f5f\"}}, \"ternary\": {\"aaxis\": {\"gridcolor\": \"white\", \"linecolor\": \"white\", \"ticks\": \"\"}, \"baxis\": {\"gridcolor\": \"white\", \"linecolor\": \"white\", \"ticks\": \"\"}, \"bgcolor\": \"#E5ECF6\", \"caxis\": {\"gridcolor\": \"white\", \"linecolor\": \"white\", \"ticks\": \"\"}}, \"title\": {\"x\": 0.05}, \"xaxis\": {\"automargin\": true, \"gridcolor\": \"white\", \"linecolor\": \"white\", \"ticks\": \"\", \"title\": {\"standoff\": 15}, \"zerolinecolor\": \"white\", \"zerolinewidth\": 2}, \"yaxis\": {\"automargin\": true, \"gridcolor\": \"white\", \"linecolor\": \"white\", \"ticks\": \"\", \"title\": {\"standoff\": 15}, \"zerolinecolor\": \"white\", \"zerolinewidth\": 2}}}, \"title\": {\"font\": {\"color\": \"#4D5663\"}, \"text\": \"Topic 0: Top 100 bigrams after removing stop words\"}, \"xaxis\": {\"gridcolor\": \"#E1E5ED\", \"linecolor\": \"black\", \"showgrid\": true, \"tickfont\": {\"color\": \"#4D5663\"}, \"title\": {\"font\": {\"color\": \"#4D5663\"}, \"text\": \"\"}, \"zerolinecolor\": \"#E1E5ED\"}, \"yaxis\": {\"gridcolor\": \"#E1E5ED\", \"linecolor\": \"black\", \"showgrid\": true, \"tickfont\": {\"color\": \"#4D5663\"}, \"title\": {\"font\": {\"color\": \"#4D5663\"}, \"text\": \"Count\"}, \"zerolinecolor\": \"#E1E5ED\"}},\n",
       "                        {\"showLink\": true, \"linkText\": \"Export to plot.ly\", \"plotlyServerURL\": \"https://plot.ly\", \"responsive\": true}\n",
       "                    ).then(function(){\n",
       "                            \n",
       "var gd = document.getElementById('9da8358e-bcf3-4532-b597-1bbd576acfa0');\n",
       "var x = new MutationObserver(function (mutations, observer) {{\n",
       "        var display = window.getComputedStyle(gd).display;\n",
       "        if (!display || display === 'none') {{\n",
       "            console.log([gd, 'removed!']);\n",
       "            Plotly.purge(gd);\n",
       "            observer.disconnect();\n",
       "        }}\n",
       "}});\n",
       "\n",
       "// Listen for the removal of the full notebook cells\n",
       "var notebookContainer = gd.closest('#notebook-container');\n",
       "if (notebookContainer) {{\n",
       "    x.observe(notebookContainer, {childList: true});\n",
       "}}\n",
       "\n",
       "// Listen for the clearing of the current output cell\n",
       "var outputEl = gd.closest('.output');\n",
       "if (outputEl) {{\n",
       "    x.observe(outputEl, {childList: true});\n",
       "}}\n",
       "\n",
       "                        })\n",
       "                };\n",
       "                });\n",
       "            </script>\n",
       "        </div>"
      ]
     },
     "metadata": {},
     "output_type": "display_data"
    }
   ],
   "source": [
    "plot_model(lda, plot='bigram')"
   ]
  },
  {
   "cell_type": "code",
   "execution_count": 24,
   "metadata": {},
   "outputs": [
    {
     "data": {
      "application/vnd.plotly.v1+json": {
       "config": {
        "linkText": "Export to plot.ly",
        "plotlyServerURL": "https://plot.ly",
        "showLink": true
       },
       "data": [
        {
         "marker": {
          "color": "rgba(255, 153, 51, 0.6)",
          "line": {
           "color": "rgba(255, 153, 51, 1.0)",
           "width": 1
          }
         },
         "name": "count",
         "orientation": "v",
         "text": "",
         "type": "bar",
         "x": [
          "request loan buy",
          "child boy girl",
          "entrepreneur request loan",
          "traditional_dominican meal juice",
          "range year old",
          "request loan purchase",
          "run small cafeteria",
          "owner_operator small restaurant",
          "child girl boy",
          "husband child boy",
          "loan buy large_quantity",
          "attract new customer",
          "loan buy ingredient",
          "old husband child",
          "improve family living_condition",
          "people visit restaurant",
          "people surrounding visit",
          "girl attend school",
          "early_morne late night",
          "keep drink cold",
          "keep prepare food",
          "old mother boy",
          "last year run",
          "loan buy raw_material",
          "mother boy girl",
          "meal juice business",
          "lot people visit",
          "go public school",
          "year old single",
          "loan request purchase",
          "loan invest purchase",
          "loan increase inventory",
          "loan expand business",
          "people visit store",
          "year run small",
          "business year ago",
          "child boy range",
          "year old mother",
          "year old husband",
          "year old child",
          "boy range year",
          "visit cafeteria get",
          "vegetable public market",
          "surrounding visit cafeteria",
          "support child study",
          "bread mixed peanut_butter",
          "business loan request",
          "day thousand people",
          "single mom child",
          "satisfy customer need",
          "refrigerator keep drink",
          "serve traditional_dominican meal",
          "sell vegetable public",
          "request loan invest",
          "child year old",
          "sell fry vegetable",
          "give political favor",
          "cigarette explain visit",
          "general food store",
          "beer chicken coffee",
          "food store year",
          "feed life sell",
          "fish meat sell",
          "explain visit suddenly",
          "employee give political",
          "explain start work",
          "codfish ask reply",
          "favor kid feed",
          "chicken coffee cigarette",
          "coffee cigarette explain",
          "lose power lose",
          "good nini like",
          "power lose job",
          "year explain start",
          "work party mean",
          "visit suddenly strong",
          "suddenly strong smell",
          "strong smell codfish",
          "store year explain",
          "store include fish",
          "start work party",
          "smell codfish ask",
          "sell store include",
          "sell lot beer",
          "reply good nini",
          "political lose power",
          "include fish meat",
          "political favor kid",
          "party mean political",
          "nini like loan",
          "meat sell lot",
          "mean political lose",
          "lot beer chicken",
          "lose job job",
          "like loan stock",
          "life sell store",
          "kid feed life",
          "job job employee",
          "job employee give",
          "ask reply good"
         ],
         "y": [
          5,
          4,
          4,
          3,
          3,
          3,
          3,
          3,
          3,
          3,
          3,
          3,
          3,
          2,
          2,
          2,
          2,
          2,
          2,
          2,
          2,
          2,
          2,
          2,
          2,
          2,
          2,
          2,
          2,
          2,
          2,
          2,
          2,
          2,
          2,
          2,
          2,
          2,
          2,
          2,
          2,
          2,
          2,
          2,
          2,
          2,
          2,
          2,
          2,
          2,
          2,
          2,
          2,
          2,
          2,
          2,
          1,
          1,
          1,
          1,
          1,
          1,
          1,
          1,
          1,
          1,
          1,
          1,
          1,
          1,
          1,
          1,
          1,
          1,
          1,
          1,
          1,
          1,
          1,
          1,
          1,
          1,
          1,
          1,
          1,
          1,
          1,
          1,
          1,
          1,
          1,
          1,
          1,
          1,
          1,
          1,
          1,
          1,
          1,
          1
         ]
        }
       ],
       "layout": {
        "legend": {
         "bgcolor": "#F5F6F9",
         "font": {
          "color": "#4D5663"
         }
        },
        "paper_bgcolor": "#F5F6F9",
        "plot_bgcolor": "#F5F6F9",
        "template": {
         "data": {
          "bar": [
           {
            "error_x": {
             "color": "#2a3f5f"
            },
            "error_y": {
             "color": "#2a3f5f"
            },
            "marker": {
             "line": {
              "color": "#E5ECF6",
              "width": 0.5
             }
            },
            "type": "bar"
           }
          ],
          "barpolar": [
           {
            "marker": {
             "line": {
              "color": "#E5ECF6",
              "width": 0.5
             }
            },
            "type": "barpolar"
           }
          ],
          "carpet": [
           {
            "aaxis": {
             "endlinecolor": "#2a3f5f",
             "gridcolor": "white",
             "linecolor": "white",
             "minorgridcolor": "white",
             "startlinecolor": "#2a3f5f"
            },
            "baxis": {
             "endlinecolor": "#2a3f5f",
             "gridcolor": "white",
             "linecolor": "white",
             "minorgridcolor": "white",
             "startlinecolor": "#2a3f5f"
            },
            "type": "carpet"
           }
          ],
          "choropleth": [
           {
            "colorbar": {
             "outlinewidth": 0,
             "ticks": ""
            },
            "type": "choropleth"
           }
          ],
          "contour": [
           {
            "colorbar": {
             "outlinewidth": 0,
             "ticks": ""
            },
            "colorscale": [
             [
              0,
              "#0d0887"
             ],
             [
              0.1111111111111111,
              "#46039f"
             ],
             [
              0.2222222222222222,
              "#7201a8"
             ],
             [
              0.3333333333333333,
              "#9c179e"
             ],
             [
              0.4444444444444444,
              "#bd3786"
             ],
             [
              0.5555555555555556,
              "#d8576b"
             ],
             [
              0.6666666666666666,
              "#ed7953"
             ],
             [
              0.7777777777777778,
              "#fb9f3a"
             ],
             [
              0.8888888888888888,
              "#fdca26"
             ],
             [
              1,
              "#f0f921"
             ]
            ],
            "type": "contour"
           }
          ],
          "contourcarpet": [
           {
            "colorbar": {
             "outlinewidth": 0,
             "ticks": ""
            },
            "type": "contourcarpet"
           }
          ],
          "heatmap": [
           {
            "colorbar": {
             "outlinewidth": 0,
             "ticks": ""
            },
            "colorscale": [
             [
              0,
              "#0d0887"
             ],
             [
              0.1111111111111111,
              "#46039f"
             ],
             [
              0.2222222222222222,
              "#7201a8"
             ],
             [
              0.3333333333333333,
              "#9c179e"
             ],
             [
              0.4444444444444444,
              "#bd3786"
             ],
             [
              0.5555555555555556,
              "#d8576b"
             ],
             [
              0.6666666666666666,
              "#ed7953"
             ],
             [
              0.7777777777777778,
              "#fb9f3a"
             ],
             [
              0.8888888888888888,
              "#fdca26"
             ],
             [
              1,
              "#f0f921"
             ]
            ],
            "type": "heatmap"
           }
          ],
          "heatmapgl": [
           {
            "colorbar": {
             "outlinewidth": 0,
             "ticks": ""
            },
            "colorscale": [
             [
              0,
              "#0d0887"
             ],
             [
              0.1111111111111111,
              "#46039f"
             ],
             [
              0.2222222222222222,
              "#7201a8"
             ],
             [
              0.3333333333333333,
              "#9c179e"
             ],
             [
              0.4444444444444444,
              "#bd3786"
             ],
             [
              0.5555555555555556,
              "#d8576b"
             ],
             [
              0.6666666666666666,
              "#ed7953"
             ],
             [
              0.7777777777777778,
              "#fb9f3a"
             ],
             [
              0.8888888888888888,
              "#fdca26"
             ],
             [
              1,
              "#f0f921"
             ]
            ],
            "type": "heatmapgl"
           }
          ],
          "histogram": [
           {
            "marker": {
             "colorbar": {
              "outlinewidth": 0,
              "ticks": ""
             }
            },
            "type": "histogram"
           }
          ],
          "histogram2d": [
           {
            "colorbar": {
             "outlinewidth": 0,
             "ticks": ""
            },
            "colorscale": [
             [
              0,
              "#0d0887"
             ],
             [
              0.1111111111111111,
              "#46039f"
             ],
             [
              0.2222222222222222,
              "#7201a8"
             ],
             [
              0.3333333333333333,
              "#9c179e"
             ],
             [
              0.4444444444444444,
              "#bd3786"
             ],
             [
              0.5555555555555556,
              "#d8576b"
             ],
             [
              0.6666666666666666,
              "#ed7953"
             ],
             [
              0.7777777777777778,
              "#fb9f3a"
             ],
             [
              0.8888888888888888,
              "#fdca26"
             ],
             [
              1,
              "#f0f921"
             ]
            ],
            "type": "histogram2d"
           }
          ],
          "histogram2dcontour": [
           {
            "colorbar": {
             "outlinewidth": 0,
             "ticks": ""
            },
            "colorscale": [
             [
              0,
              "#0d0887"
             ],
             [
              0.1111111111111111,
              "#46039f"
             ],
             [
              0.2222222222222222,
              "#7201a8"
             ],
             [
              0.3333333333333333,
              "#9c179e"
             ],
             [
              0.4444444444444444,
              "#bd3786"
             ],
             [
              0.5555555555555556,
              "#d8576b"
             ],
             [
              0.6666666666666666,
              "#ed7953"
             ],
             [
              0.7777777777777778,
              "#fb9f3a"
             ],
             [
              0.8888888888888888,
              "#fdca26"
             ],
             [
              1,
              "#f0f921"
             ]
            ],
            "type": "histogram2dcontour"
           }
          ],
          "mesh3d": [
           {
            "colorbar": {
             "outlinewidth": 0,
             "ticks": ""
            },
            "type": "mesh3d"
           }
          ],
          "parcoords": [
           {
            "line": {
             "colorbar": {
              "outlinewidth": 0,
              "ticks": ""
             }
            },
            "type": "parcoords"
           }
          ],
          "pie": [
           {
            "automargin": true,
            "type": "pie"
           }
          ],
          "scatter": [
           {
            "marker": {
             "colorbar": {
              "outlinewidth": 0,
              "ticks": ""
             }
            },
            "type": "scatter"
           }
          ],
          "scatter3d": [
           {
            "line": {
             "colorbar": {
              "outlinewidth": 0,
              "ticks": ""
             }
            },
            "marker": {
             "colorbar": {
              "outlinewidth": 0,
              "ticks": ""
             }
            },
            "type": "scatter3d"
           }
          ],
          "scattercarpet": [
           {
            "marker": {
             "colorbar": {
              "outlinewidth": 0,
              "ticks": ""
             }
            },
            "type": "scattercarpet"
           }
          ],
          "scattergeo": [
           {
            "marker": {
             "colorbar": {
              "outlinewidth": 0,
              "ticks": ""
             }
            },
            "type": "scattergeo"
           }
          ],
          "scattergl": [
           {
            "marker": {
             "colorbar": {
              "outlinewidth": 0,
              "ticks": ""
             }
            },
            "type": "scattergl"
           }
          ],
          "scattermapbox": [
           {
            "marker": {
             "colorbar": {
              "outlinewidth": 0,
              "ticks": ""
             }
            },
            "type": "scattermapbox"
           }
          ],
          "scatterpolar": [
           {
            "marker": {
             "colorbar": {
              "outlinewidth": 0,
              "ticks": ""
             }
            },
            "type": "scatterpolar"
           }
          ],
          "scatterpolargl": [
           {
            "marker": {
             "colorbar": {
              "outlinewidth": 0,
              "ticks": ""
             }
            },
            "type": "scatterpolargl"
           }
          ],
          "scatterternary": [
           {
            "marker": {
             "colorbar": {
              "outlinewidth": 0,
              "ticks": ""
             }
            },
            "type": "scatterternary"
           }
          ],
          "surface": [
           {
            "colorbar": {
             "outlinewidth": 0,
             "ticks": ""
            },
            "colorscale": [
             [
              0,
              "#0d0887"
             ],
             [
              0.1111111111111111,
              "#46039f"
             ],
             [
              0.2222222222222222,
              "#7201a8"
             ],
             [
              0.3333333333333333,
              "#9c179e"
             ],
             [
              0.4444444444444444,
              "#bd3786"
             ],
             [
              0.5555555555555556,
              "#d8576b"
             ],
             [
              0.6666666666666666,
              "#ed7953"
             ],
             [
              0.7777777777777778,
              "#fb9f3a"
             ],
             [
              0.8888888888888888,
              "#fdca26"
             ],
             [
              1,
              "#f0f921"
             ]
            ],
            "type": "surface"
           }
          ],
          "table": [
           {
            "cells": {
             "fill": {
              "color": "#EBF0F8"
             },
             "line": {
              "color": "white"
             }
            },
            "header": {
             "fill": {
              "color": "#C8D4E3"
             },
             "line": {
              "color": "white"
             }
            },
            "type": "table"
           }
          ]
         },
         "layout": {
          "annotationdefaults": {
           "arrowcolor": "#2a3f5f",
           "arrowhead": 0,
           "arrowwidth": 1
          },
          "coloraxis": {
           "colorbar": {
            "outlinewidth": 0,
            "ticks": ""
           }
          },
          "colorscale": {
           "diverging": [
            [
             0,
             "#8e0152"
            ],
            [
             0.1,
             "#c51b7d"
            ],
            [
             0.2,
             "#de77ae"
            ],
            [
             0.3,
             "#f1b6da"
            ],
            [
             0.4,
             "#fde0ef"
            ],
            [
             0.5,
             "#f7f7f7"
            ],
            [
             0.6,
             "#e6f5d0"
            ],
            [
             0.7,
             "#b8e186"
            ],
            [
             0.8,
             "#7fbc41"
            ],
            [
             0.9,
             "#4d9221"
            ],
            [
             1,
             "#276419"
            ]
           ],
           "sequential": [
            [
             0,
             "#0d0887"
            ],
            [
             0.1111111111111111,
             "#46039f"
            ],
            [
             0.2222222222222222,
             "#7201a8"
            ],
            [
             0.3333333333333333,
             "#9c179e"
            ],
            [
             0.4444444444444444,
             "#bd3786"
            ],
            [
             0.5555555555555556,
             "#d8576b"
            ],
            [
             0.6666666666666666,
             "#ed7953"
            ],
            [
             0.7777777777777778,
             "#fb9f3a"
            ],
            [
             0.8888888888888888,
             "#fdca26"
            ],
            [
             1,
             "#f0f921"
            ]
           ],
           "sequentialminus": [
            [
             0,
             "#0d0887"
            ],
            [
             0.1111111111111111,
             "#46039f"
            ],
            [
             0.2222222222222222,
             "#7201a8"
            ],
            [
             0.3333333333333333,
             "#9c179e"
            ],
            [
             0.4444444444444444,
             "#bd3786"
            ],
            [
             0.5555555555555556,
             "#d8576b"
            ],
            [
             0.6666666666666666,
             "#ed7953"
            ],
            [
             0.7777777777777778,
             "#fb9f3a"
            ],
            [
             0.8888888888888888,
             "#fdca26"
            ],
            [
             1,
             "#f0f921"
            ]
           ]
          },
          "colorway": [
           "#636efa",
           "#EF553B",
           "#00cc96",
           "#ab63fa",
           "#FFA15A",
           "#19d3f3",
           "#FF6692",
           "#B6E880",
           "#FF97FF",
           "#FECB52"
          ],
          "font": {
           "color": "#2a3f5f"
          },
          "geo": {
           "bgcolor": "white",
           "lakecolor": "white",
           "landcolor": "#E5ECF6",
           "showlakes": true,
           "showland": true,
           "subunitcolor": "white"
          },
          "hoverlabel": {
           "align": "left"
          },
          "hovermode": "closest",
          "mapbox": {
           "style": "light"
          },
          "paper_bgcolor": "white",
          "plot_bgcolor": "#E5ECF6",
          "polar": {
           "angularaxis": {
            "gridcolor": "white",
            "linecolor": "white",
            "ticks": ""
           },
           "bgcolor": "#E5ECF6",
           "radialaxis": {
            "gridcolor": "white",
            "linecolor": "white",
            "ticks": ""
           }
          },
          "scene": {
           "xaxis": {
            "backgroundcolor": "#E5ECF6",
            "gridcolor": "white",
            "gridwidth": 2,
            "linecolor": "white",
            "showbackground": true,
            "ticks": "",
            "zerolinecolor": "white"
           },
           "yaxis": {
            "backgroundcolor": "#E5ECF6",
            "gridcolor": "white",
            "gridwidth": 2,
            "linecolor": "white",
            "showbackground": true,
            "ticks": "",
            "zerolinecolor": "white"
           },
           "zaxis": {
            "backgroundcolor": "#E5ECF6",
            "gridcolor": "white",
            "gridwidth": 2,
            "linecolor": "white",
            "showbackground": true,
            "ticks": "",
            "zerolinecolor": "white"
           }
          },
          "shapedefaults": {
           "line": {
            "color": "#2a3f5f"
           }
          },
          "ternary": {
           "aaxis": {
            "gridcolor": "white",
            "linecolor": "white",
            "ticks": ""
           },
           "baxis": {
            "gridcolor": "white",
            "linecolor": "white",
            "ticks": ""
           },
           "bgcolor": "#E5ECF6",
           "caxis": {
            "gridcolor": "white",
            "linecolor": "white",
            "ticks": ""
           }
          },
          "title": {
           "x": 0.05
          },
          "xaxis": {
           "automargin": true,
           "gridcolor": "white",
           "linecolor": "white",
           "ticks": "",
           "title": {
            "standoff": 15
           },
           "zerolinecolor": "white",
           "zerolinewidth": 2
          },
          "yaxis": {
           "automargin": true,
           "gridcolor": "white",
           "linecolor": "white",
           "ticks": "",
           "title": {
            "standoff": 15
           },
           "zerolinecolor": "white",
           "zerolinewidth": 2
          }
         }
        },
        "title": {
         "font": {
          "color": "#4D5663"
         },
         "text": "Topic 0: Top 100 trigrams after removing stop words"
        },
        "xaxis": {
         "gridcolor": "#E1E5ED",
         "linecolor": "black",
         "showgrid": true,
         "tickfont": {
          "color": "#4D5663"
         },
         "title": {
          "font": {
           "color": "#4D5663"
          },
          "text": ""
         },
         "zerolinecolor": "#E1E5ED"
        },
        "yaxis": {
         "gridcolor": "#E1E5ED",
         "linecolor": "black",
         "showgrid": true,
         "tickfont": {
          "color": "#4D5663"
         },
         "title": {
          "font": {
           "color": "#4D5663"
          },
          "text": "Count"
         },
         "zerolinecolor": "#E1E5ED"
        }
       }
      },
      "text/html": [
       "<div>\n",
       "        \n",
       "        \n",
       "            <div id=\"4b37cb43-40bc-425c-9ee1-9ffa1b0d8992\" class=\"plotly-graph-div\" style=\"height:525px; width:100%;\"></div>\n",
       "            <script type=\"text/javascript\">\n",
       "                require([\"plotly\"], function(Plotly) {\n",
       "                    window.PLOTLYENV=window.PLOTLYENV || {};\n",
       "                    window.PLOTLYENV.BASE_URL='https://plot.ly';\n",
       "                    \n",
       "                if (document.getElementById(\"4b37cb43-40bc-425c-9ee1-9ffa1b0d8992\")) {\n",
       "                    Plotly.newPlot(\n",
       "                        '4b37cb43-40bc-425c-9ee1-9ffa1b0d8992',\n",
       "                        [{\"marker\": {\"color\": \"rgba(255, 153, 51, 0.6)\", \"line\": {\"color\": \"rgba(255, 153, 51, 1.0)\", \"width\": 1}}, \"name\": \"count\", \"orientation\": \"v\", \"text\": \"\", \"type\": \"bar\", \"x\": [\"request loan buy\", \"child boy girl\", \"entrepreneur request loan\", \"traditional_dominican meal juice\", \"range year old\", \"request loan purchase\", \"run small cafeteria\", \"owner_operator small restaurant\", \"child girl boy\", \"husband child boy\", \"loan buy large_quantity\", \"attract new customer\", \"loan buy ingredient\", \"old husband child\", \"improve family living_condition\", \"people visit restaurant\", \"people surrounding visit\", \"girl attend school\", \"early_morne late night\", \"keep drink cold\", \"keep prepare food\", \"old mother boy\", \"last year run\", \"loan buy raw_material\", \"mother boy girl\", \"meal juice business\", \"lot people visit\", \"go public school\", \"year old single\", \"loan request purchase\", \"loan invest purchase\", \"loan increase inventory\", \"loan expand business\", \"people visit store\", \"year run small\", \"business year ago\", \"child boy range\", \"year old mother\", \"year old husband\", \"year old child\", \"boy range year\", \"visit cafeteria get\", \"vegetable public market\", \"surrounding visit cafeteria\", \"support child study\", \"bread mixed peanut_butter\", \"business loan request\", \"day thousand people\", \"single mom child\", \"satisfy customer need\", \"refrigerator keep drink\", \"serve traditional_dominican meal\", \"sell vegetable public\", \"request loan invest\", \"child year old\", \"sell fry vegetable\", \"give political favor\", \"cigarette explain visit\", \"general food store\", \"beer chicken coffee\", \"food store year\", \"feed life sell\", \"fish meat sell\", \"explain visit suddenly\", \"employee give political\", \"explain start work\", \"codfish ask reply\", \"favor kid feed\", \"chicken coffee cigarette\", \"coffee cigarette explain\", \"lose power lose\", \"good nini like\", \"power lose job\", \"year explain start\", \"work party mean\", \"visit suddenly strong\", \"suddenly strong smell\", \"strong smell codfish\", \"store year explain\", \"store include fish\", \"start work party\", \"smell codfish ask\", \"sell store include\", \"sell lot beer\", \"reply good nini\", \"political lose power\", \"include fish meat\", \"political favor kid\", \"party mean political\", \"nini like loan\", \"meat sell lot\", \"mean political lose\", \"lot beer chicken\", \"lose job job\", \"like loan stock\", \"life sell store\", \"kid feed life\", \"job job employee\", \"job employee give\", \"ask reply good\"], \"y\": [5, 4, 4, 3, 3, 3, 3, 3, 3, 3, 3, 3, 3, 2, 2, 2, 2, 2, 2, 2, 2, 2, 2, 2, 2, 2, 2, 2, 2, 2, 2, 2, 2, 2, 2, 2, 2, 2, 2, 2, 2, 2, 2, 2, 2, 2, 2, 2, 2, 2, 2, 2, 2, 2, 2, 2, 1, 1, 1, 1, 1, 1, 1, 1, 1, 1, 1, 1, 1, 1, 1, 1, 1, 1, 1, 1, 1, 1, 1, 1, 1, 1, 1, 1, 1, 1, 1, 1, 1, 1, 1, 1, 1, 1, 1, 1, 1, 1, 1, 1]}],\n",
       "                        {\"legend\": {\"bgcolor\": \"#F5F6F9\", \"font\": {\"color\": \"#4D5663\"}}, \"paper_bgcolor\": \"#F5F6F9\", \"plot_bgcolor\": \"#F5F6F9\", \"template\": {\"data\": {\"bar\": [{\"error_x\": {\"color\": \"#2a3f5f\"}, \"error_y\": {\"color\": \"#2a3f5f\"}, \"marker\": {\"line\": {\"color\": \"#E5ECF6\", \"width\": 0.5}}, \"type\": \"bar\"}], \"barpolar\": [{\"marker\": {\"line\": {\"color\": \"#E5ECF6\", \"width\": 0.5}}, \"type\": \"barpolar\"}], \"carpet\": [{\"aaxis\": {\"endlinecolor\": \"#2a3f5f\", \"gridcolor\": \"white\", \"linecolor\": \"white\", \"minorgridcolor\": \"white\", \"startlinecolor\": \"#2a3f5f\"}, \"baxis\": {\"endlinecolor\": \"#2a3f5f\", \"gridcolor\": \"white\", \"linecolor\": \"white\", \"minorgridcolor\": \"white\", \"startlinecolor\": \"#2a3f5f\"}, \"type\": \"carpet\"}], \"choropleth\": [{\"colorbar\": {\"outlinewidth\": 0, \"ticks\": \"\"}, \"type\": \"choropleth\"}], \"contour\": [{\"colorbar\": {\"outlinewidth\": 0, \"ticks\": \"\"}, \"colorscale\": [[0.0, \"#0d0887\"], [0.1111111111111111, \"#46039f\"], [0.2222222222222222, \"#7201a8\"], [0.3333333333333333, \"#9c179e\"], [0.4444444444444444, \"#bd3786\"], [0.5555555555555556, \"#d8576b\"], [0.6666666666666666, \"#ed7953\"], [0.7777777777777778, \"#fb9f3a\"], [0.8888888888888888, \"#fdca26\"], [1.0, \"#f0f921\"]], \"type\": \"contour\"}], \"contourcarpet\": [{\"colorbar\": {\"outlinewidth\": 0, \"ticks\": \"\"}, \"type\": \"contourcarpet\"}], \"heatmap\": [{\"colorbar\": {\"outlinewidth\": 0, \"ticks\": \"\"}, \"colorscale\": [[0.0, \"#0d0887\"], [0.1111111111111111, \"#46039f\"], [0.2222222222222222, \"#7201a8\"], [0.3333333333333333, \"#9c179e\"], [0.4444444444444444, \"#bd3786\"], [0.5555555555555556, \"#d8576b\"], [0.6666666666666666, \"#ed7953\"], [0.7777777777777778, \"#fb9f3a\"], [0.8888888888888888, \"#fdca26\"], [1.0, \"#f0f921\"]], \"type\": \"heatmap\"}], \"heatmapgl\": [{\"colorbar\": {\"outlinewidth\": 0, \"ticks\": \"\"}, \"colorscale\": [[0.0, \"#0d0887\"], [0.1111111111111111, \"#46039f\"], [0.2222222222222222, \"#7201a8\"], [0.3333333333333333, \"#9c179e\"], [0.4444444444444444, \"#bd3786\"], [0.5555555555555556, \"#d8576b\"], [0.6666666666666666, \"#ed7953\"], [0.7777777777777778, \"#fb9f3a\"], [0.8888888888888888, \"#fdca26\"], [1.0, \"#f0f921\"]], \"type\": \"heatmapgl\"}], \"histogram\": [{\"marker\": {\"colorbar\": {\"outlinewidth\": 0, \"ticks\": \"\"}}, \"type\": \"histogram\"}], \"histogram2d\": [{\"colorbar\": {\"outlinewidth\": 0, \"ticks\": \"\"}, \"colorscale\": [[0.0, \"#0d0887\"], [0.1111111111111111, \"#46039f\"], [0.2222222222222222, \"#7201a8\"], [0.3333333333333333, \"#9c179e\"], [0.4444444444444444, \"#bd3786\"], [0.5555555555555556, \"#d8576b\"], [0.6666666666666666, \"#ed7953\"], [0.7777777777777778, \"#fb9f3a\"], [0.8888888888888888, \"#fdca26\"], [1.0, \"#f0f921\"]], \"type\": \"histogram2d\"}], \"histogram2dcontour\": [{\"colorbar\": {\"outlinewidth\": 0, \"ticks\": \"\"}, \"colorscale\": [[0.0, \"#0d0887\"], [0.1111111111111111, \"#46039f\"], [0.2222222222222222, \"#7201a8\"], [0.3333333333333333, \"#9c179e\"], [0.4444444444444444, \"#bd3786\"], [0.5555555555555556, \"#d8576b\"], [0.6666666666666666, \"#ed7953\"], [0.7777777777777778, \"#fb9f3a\"], [0.8888888888888888, \"#fdca26\"], [1.0, \"#f0f921\"]], \"type\": \"histogram2dcontour\"}], \"mesh3d\": [{\"colorbar\": {\"outlinewidth\": 0, \"ticks\": \"\"}, \"type\": \"mesh3d\"}], \"parcoords\": [{\"line\": {\"colorbar\": {\"outlinewidth\": 0, \"ticks\": \"\"}}, \"type\": \"parcoords\"}], \"pie\": [{\"automargin\": true, \"type\": \"pie\"}], \"scatter\": [{\"marker\": {\"colorbar\": {\"outlinewidth\": 0, \"ticks\": \"\"}}, \"type\": \"scatter\"}], \"scatter3d\": [{\"line\": {\"colorbar\": {\"outlinewidth\": 0, \"ticks\": \"\"}}, \"marker\": {\"colorbar\": {\"outlinewidth\": 0, \"ticks\": \"\"}}, \"type\": \"scatter3d\"}], \"scattercarpet\": [{\"marker\": {\"colorbar\": {\"outlinewidth\": 0, \"ticks\": \"\"}}, \"type\": \"scattercarpet\"}], \"scattergeo\": [{\"marker\": {\"colorbar\": {\"outlinewidth\": 0, \"ticks\": \"\"}}, \"type\": \"scattergeo\"}], \"scattergl\": [{\"marker\": {\"colorbar\": {\"outlinewidth\": 0, \"ticks\": \"\"}}, \"type\": \"scattergl\"}], \"scattermapbox\": [{\"marker\": {\"colorbar\": {\"outlinewidth\": 0, \"ticks\": \"\"}}, \"type\": \"scattermapbox\"}], \"scatterpolar\": [{\"marker\": {\"colorbar\": {\"outlinewidth\": 0, \"ticks\": \"\"}}, \"type\": \"scatterpolar\"}], \"scatterpolargl\": [{\"marker\": {\"colorbar\": {\"outlinewidth\": 0, \"ticks\": \"\"}}, \"type\": \"scatterpolargl\"}], \"scatterternary\": [{\"marker\": {\"colorbar\": {\"outlinewidth\": 0, \"ticks\": \"\"}}, \"type\": \"scatterternary\"}], \"surface\": [{\"colorbar\": {\"outlinewidth\": 0, \"ticks\": \"\"}, \"colorscale\": [[0.0, \"#0d0887\"], [0.1111111111111111, \"#46039f\"], [0.2222222222222222, \"#7201a8\"], [0.3333333333333333, \"#9c179e\"], [0.4444444444444444, \"#bd3786\"], [0.5555555555555556, \"#d8576b\"], [0.6666666666666666, \"#ed7953\"], [0.7777777777777778, \"#fb9f3a\"], [0.8888888888888888, \"#fdca26\"], [1.0, \"#f0f921\"]], \"type\": \"surface\"}], \"table\": [{\"cells\": {\"fill\": {\"color\": \"#EBF0F8\"}, \"line\": {\"color\": \"white\"}}, \"header\": {\"fill\": {\"color\": \"#C8D4E3\"}, \"line\": {\"color\": \"white\"}}, \"type\": \"table\"}]}, \"layout\": {\"annotationdefaults\": {\"arrowcolor\": \"#2a3f5f\", \"arrowhead\": 0, \"arrowwidth\": 1}, \"coloraxis\": {\"colorbar\": {\"outlinewidth\": 0, \"ticks\": \"\"}}, \"colorscale\": {\"diverging\": [[0, \"#8e0152\"], [0.1, \"#c51b7d\"], [0.2, \"#de77ae\"], [0.3, \"#f1b6da\"], [0.4, \"#fde0ef\"], [0.5, \"#f7f7f7\"], [0.6, \"#e6f5d0\"], [0.7, \"#b8e186\"], [0.8, \"#7fbc41\"], [0.9, \"#4d9221\"], [1, \"#276419\"]], \"sequential\": [[0.0, \"#0d0887\"], [0.1111111111111111, \"#46039f\"], [0.2222222222222222, \"#7201a8\"], [0.3333333333333333, \"#9c179e\"], [0.4444444444444444, \"#bd3786\"], [0.5555555555555556, \"#d8576b\"], [0.6666666666666666, \"#ed7953\"], [0.7777777777777778, \"#fb9f3a\"], [0.8888888888888888, \"#fdca26\"], [1.0, \"#f0f921\"]], \"sequentialminus\": [[0.0, \"#0d0887\"], [0.1111111111111111, \"#46039f\"], [0.2222222222222222, \"#7201a8\"], [0.3333333333333333, \"#9c179e\"], [0.4444444444444444, \"#bd3786\"], [0.5555555555555556, \"#d8576b\"], [0.6666666666666666, \"#ed7953\"], [0.7777777777777778, \"#fb9f3a\"], [0.8888888888888888, \"#fdca26\"], [1.0, \"#f0f921\"]]}, \"colorway\": [\"#636efa\", \"#EF553B\", \"#00cc96\", \"#ab63fa\", \"#FFA15A\", \"#19d3f3\", \"#FF6692\", \"#B6E880\", \"#FF97FF\", \"#FECB52\"], \"font\": {\"color\": \"#2a3f5f\"}, \"geo\": {\"bgcolor\": \"white\", \"lakecolor\": \"white\", \"landcolor\": \"#E5ECF6\", \"showlakes\": true, \"showland\": true, \"subunitcolor\": \"white\"}, \"hoverlabel\": {\"align\": \"left\"}, \"hovermode\": \"closest\", \"mapbox\": {\"style\": \"light\"}, \"paper_bgcolor\": \"white\", \"plot_bgcolor\": \"#E5ECF6\", \"polar\": {\"angularaxis\": {\"gridcolor\": \"white\", \"linecolor\": \"white\", \"ticks\": \"\"}, \"bgcolor\": \"#E5ECF6\", \"radialaxis\": {\"gridcolor\": \"white\", \"linecolor\": \"white\", \"ticks\": \"\"}}, \"scene\": {\"xaxis\": {\"backgroundcolor\": \"#E5ECF6\", \"gridcolor\": \"white\", \"gridwidth\": 2, \"linecolor\": \"white\", \"showbackground\": true, \"ticks\": \"\", \"zerolinecolor\": \"white\"}, \"yaxis\": {\"backgroundcolor\": \"#E5ECF6\", \"gridcolor\": \"white\", \"gridwidth\": 2, \"linecolor\": \"white\", \"showbackground\": true, \"ticks\": \"\", \"zerolinecolor\": \"white\"}, \"zaxis\": {\"backgroundcolor\": \"#E5ECF6\", \"gridcolor\": \"white\", \"gridwidth\": 2, \"linecolor\": \"white\", \"showbackground\": true, \"ticks\": \"\", \"zerolinecolor\": \"white\"}}, \"shapedefaults\": {\"line\": {\"color\": \"#2a3f5f\"}}, \"ternary\": {\"aaxis\": {\"gridcolor\": \"white\", \"linecolor\": \"white\", \"ticks\": \"\"}, \"baxis\": {\"gridcolor\": \"white\", \"linecolor\": \"white\", \"ticks\": \"\"}, \"bgcolor\": \"#E5ECF6\", \"caxis\": {\"gridcolor\": \"white\", \"linecolor\": \"white\", \"ticks\": \"\"}}, \"title\": {\"x\": 0.05}, \"xaxis\": {\"automargin\": true, \"gridcolor\": \"white\", \"linecolor\": \"white\", \"ticks\": \"\", \"title\": {\"standoff\": 15}, \"zerolinecolor\": \"white\", \"zerolinewidth\": 2}, \"yaxis\": {\"automargin\": true, \"gridcolor\": \"white\", \"linecolor\": \"white\", \"ticks\": \"\", \"title\": {\"standoff\": 15}, \"zerolinecolor\": \"white\", \"zerolinewidth\": 2}}}, \"title\": {\"font\": {\"color\": \"#4D5663\"}, \"text\": \"Topic 0: Top 100 trigrams after removing stop words\"}, \"xaxis\": {\"gridcolor\": \"#E1E5ED\", \"linecolor\": \"black\", \"showgrid\": true, \"tickfont\": {\"color\": \"#4D5663\"}, \"title\": {\"font\": {\"color\": \"#4D5663\"}, \"text\": \"\"}, \"zerolinecolor\": \"#E1E5ED\"}, \"yaxis\": {\"gridcolor\": \"#E1E5ED\", \"linecolor\": \"black\", \"showgrid\": true, \"tickfont\": {\"color\": \"#4D5663\"}, \"title\": {\"font\": {\"color\": \"#4D5663\"}, \"text\": \"Count\"}, \"zerolinecolor\": \"#E1E5ED\"}},\n",
       "                        {\"showLink\": true, \"linkText\": \"Export to plot.ly\", \"plotlyServerURL\": \"https://plot.ly\", \"responsive\": true}\n",
       "                    ).then(function(){\n",
       "                            \n",
       "var gd = document.getElementById('4b37cb43-40bc-425c-9ee1-9ffa1b0d8992');\n",
       "var x = new MutationObserver(function (mutations, observer) {{\n",
       "        var display = window.getComputedStyle(gd).display;\n",
       "        if (!display || display === 'none') {{\n",
       "            console.log([gd, 'removed!']);\n",
       "            Plotly.purge(gd);\n",
       "            observer.disconnect();\n",
       "        }}\n",
       "}});\n",
       "\n",
       "// Listen for the removal of the full notebook cells\n",
       "var notebookContainer = gd.closest('#notebook-container');\n",
       "if (notebookContainer) {{\n",
       "    x.observe(notebookContainer, {childList: true});\n",
       "}}\n",
       "\n",
       "// Listen for the clearing of the current output cell\n",
       "var outputEl = gd.closest('.output');\n",
       "if (outputEl) {{\n",
       "    x.observe(outputEl, {childList: true});\n",
       "}}\n",
       "\n",
       "                        })\n",
       "                };\n",
       "                });\n",
       "            </script>\n",
       "        </div>"
      ]
     },
     "metadata": {},
     "output_type": "display_data"
    }
   ],
   "source": [
    "plot_model(lda, plot='trigram')"
   ]
  },
  {
   "cell_type": "code",
   "execution_count": 26,
   "metadata": {},
   "outputs": [
    {
     "data": {
      "application/vnd.plotly.v1+json": {
       "config": {
        "linkText": "Export to plot.ly",
        "plotlyServerURL": "https://plot.ly",
        "showLink": true
       },
       "data": [
        {
         "histfunc": "count",
         "histnorm": "",
         "marker": {
          "color": "rgba(255, 153, 51, 1.0)",
          "line": {
           "color": "#000000",
           "width": 1.3
          }
         },
         "name": "en",
         "nbinsx": 50,
         "opacity": 0.8,
         "orientation": "v",
         "type": "histogram",
         "x": [
          0.04010416666666666,
          0.2255892255892256,
          0.18666666666666668,
          0.02071428571428572,
          0.2826666666666666,
          0.39166666666666666,
          0.425,
          0.25,
          0.14450757575757572,
          0.08728846910665092,
          -0.051190476190476175,
          0.02803030303030303,
          0.44375,
          0.41530303030303034,
          0.1875,
          0.05000000000000001,
          0.12142857142857144,
          -0.14502164502164505,
          0.234375,
          -0.03645833333333333,
          0.13636363636363638,
          0.2,
          0.035416666666666666,
          0.3086363636363636,
          0.16141001855287568,
          0.06923076923076922,
          0.28532948532948527,
          0.09681818181818183,
          0.3546044864226683,
          0.1268939393939394,
          0.22678571428571428,
          0.09961219336219336,
          0.22272727272727275,
          0.175,
          0.05083333333333333,
          0.36,
          0.22142857142857145,
          0.14603174603174607,
          0.35000000000000003,
          0.09042699724517905,
          0.0977891156462585,
          0.20909090909090908,
          0.05,
          0.11168831168831168,
          0.09034090909090908,
          0.2696969696969697,
          0.04338624338624339,
          0.35833333333333334
         ]
        }
       ],
       "layout": {
        "barmode": "overlay",
        "legend": {
         "bgcolor": "#F5F6F9",
         "font": {
          "color": "#4D5663"
         }
        },
        "paper_bgcolor": "#F5F6F9",
        "plot_bgcolor": "#F5F6F9",
        "template": {
         "data": {
          "bar": [
           {
            "error_x": {
             "color": "#2a3f5f"
            },
            "error_y": {
             "color": "#2a3f5f"
            },
            "marker": {
             "line": {
              "color": "#E5ECF6",
              "width": 0.5
             }
            },
            "type": "bar"
           }
          ],
          "barpolar": [
           {
            "marker": {
             "line": {
              "color": "#E5ECF6",
              "width": 0.5
             }
            },
            "type": "barpolar"
           }
          ],
          "carpet": [
           {
            "aaxis": {
             "endlinecolor": "#2a3f5f",
             "gridcolor": "white",
             "linecolor": "white",
             "minorgridcolor": "white",
             "startlinecolor": "#2a3f5f"
            },
            "baxis": {
             "endlinecolor": "#2a3f5f",
             "gridcolor": "white",
             "linecolor": "white",
             "minorgridcolor": "white",
             "startlinecolor": "#2a3f5f"
            },
            "type": "carpet"
           }
          ],
          "choropleth": [
           {
            "colorbar": {
             "outlinewidth": 0,
             "ticks": ""
            },
            "type": "choropleth"
           }
          ],
          "contour": [
           {
            "colorbar": {
             "outlinewidth": 0,
             "ticks": ""
            },
            "colorscale": [
             [
              0,
              "#0d0887"
             ],
             [
              0.1111111111111111,
              "#46039f"
             ],
             [
              0.2222222222222222,
              "#7201a8"
             ],
             [
              0.3333333333333333,
              "#9c179e"
             ],
             [
              0.4444444444444444,
              "#bd3786"
             ],
             [
              0.5555555555555556,
              "#d8576b"
             ],
             [
              0.6666666666666666,
              "#ed7953"
             ],
             [
              0.7777777777777778,
              "#fb9f3a"
             ],
             [
              0.8888888888888888,
              "#fdca26"
             ],
             [
              1,
              "#f0f921"
             ]
            ],
            "type": "contour"
           }
          ],
          "contourcarpet": [
           {
            "colorbar": {
             "outlinewidth": 0,
             "ticks": ""
            },
            "type": "contourcarpet"
           }
          ],
          "heatmap": [
           {
            "colorbar": {
             "outlinewidth": 0,
             "ticks": ""
            },
            "colorscale": [
             [
              0,
              "#0d0887"
             ],
             [
              0.1111111111111111,
              "#46039f"
             ],
             [
              0.2222222222222222,
              "#7201a8"
             ],
             [
              0.3333333333333333,
              "#9c179e"
             ],
             [
              0.4444444444444444,
              "#bd3786"
             ],
             [
              0.5555555555555556,
              "#d8576b"
             ],
             [
              0.6666666666666666,
              "#ed7953"
             ],
             [
              0.7777777777777778,
              "#fb9f3a"
             ],
             [
              0.8888888888888888,
              "#fdca26"
             ],
             [
              1,
              "#f0f921"
             ]
            ],
            "type": "heatmap"
           }
          ],
          "heatmapgl": [
           {
            "colorbar": {
             "outlinewidth": 0,
             "ticks": ""
            },
            "colorscale": [
             [
              0,
              "#0d0887"
             ],
             [
              0.1111111111111111,
              "#46039f"
             ],
             [
              0.2222222222222222,
              "#7201a8"
             ],
             [
              0.3333333333333333,
              "#9c179e"
             ],
             [
              0.4444444444444444,
              "#bd3786"
             ],
             [
              0.5555555555555556,
              "#d8576b"
             ],
             [
              0.6666666666666666,
              "#ed7953"
             ],
             [
              0.7777777777777778,
              "#fb9f3a"
             ],
             [
              0.8888888888888888,
              "#fdca26"
             ],
             [
              1,
              "#f0f921"
             ]
            ],
            "type": "heatmapgl"
           }
          ],
          "histogram": [
           {
            "marker": {
             "colorbar": {
              "outlinewidth": 0,
              "ticks": ""
             }
            },
            "type": "histogram"
           }
          ],
          "histogram2d": [
           {
            "colorbar": {
             "outlinewidth": 0,
             "ticks": ""
            },
            "colorscale": [
             [
              0,
              "#0d0887"
             ],
             [
              0.1111111111111111,
              "#46039f"
             ],
             [
              0.2222222222222222,
              "#7201a8"
             ],
             [
              0.3333333333333333,
              "#9c179e"
             ],
             [
              0.4444444444444444,
              "#bd3786"
             ],
             [
              0.5555555555555556,
              "#d8576b"
             ],
             [
              0.6666666666666666,
              "#ed7953"
             ],
             [
              0.7777777777777778,
              "#fb9f3a"
             ],
             [
              0.8888888888888888,
              "#fdca26"
             ],
             [
              1,
              "#f0f921"
             ]
            ],
            "type": "histogram2d"
           }
          ],
          "histogram2dcontour": [
           {
            "colorbar": {
             "outlinewidth": 0,
             "ticks": ""
            },
            "colorscale": [
             [
              0,
              "#0d0887"
             ],
             [
              0.1111111111111111,
              "#46039f"
             ],
             [
              0.2222222222222222,
              "#7201a8"
             ],
             [
              0.3333333333333333,
              "#9c179e"
             ],
             [
              0.4444444444444444,
              "#bd3786"
             ],
             [
              0.5555555555555556,
              "#d8576b"
             ],
             [
              0.6666666666666666,
              "#ed7953"
             ],
             [
              0.7777777777777778,
              "#fb9f3a"
             ],
             [
              0.8888888888888888,
              "#fdca26"
             ],
             [
              1,
              "#f0f921"
             ]
            ],
            "type": "histogram2dcontour"
           }
          ],
          "mesh3d": [
           {
            "colorbar": {
             "outlinewidth": 0,
             "ticks": ""
            },
            "type": "mesh3d"
           }
          ],
          "parcoords": [
           {
            "line": {
             "colorbar": {
              "outlinewidth": 0,
              "ticks": ""
             }
            },
            "type": "parcoords"
           }
          ],
          "pie": [
           {
            "automargin": true,
            "type": "pie"
           }
          ],
          "scatter": [
           {
            "marker": {
             "colorbar": {
              "outlinewidth": 0,
              "ticks": ""
             }
            },
            "type": "scatter"
           }
          ],
          "scatter3d": [
           {
            "line": {
             "colorbar": {
              "outlinewidth": 0,
              "ticks": ""
             }
            },
            "marker": {
             "colorbar": {
              "outlinewidth": 0,
              "ticks": ""
             }
            },
            "type": "scatter3d"
           }
          ],
          "scattercarpet": [
           {
            "marker": {
             "colorbar": {
              "outlinewidth": 0,
              "ticks": ""
             }
            },
            "type": "scattercarpet"
           }
          ],
          "scattergeo": [
           {
            "marker": {
             "colorbar": {
              "outlinewidth": 0,
              "ticks": ""
             }
            },
            "type": "scattergeo"
           }
          ],
          "scattergl": [
           {
            "marker": {
             "colorbar": {
              "outlinewidth": 0,
              "ticks": ""
             }
            },
            "type": "scattergl"
           }
          ],
          "scattermapbox": [
           {
            "marker": {
             "colorbar": {
              "outlinewidth": 0,
              "ticks": ""
             }
            },
            "type": "scattermapbox"
           }
          ],
          "scatterpolar": [
           {
            "marker": {
             "colorbar": {
              "outlinewidth": 0,
              "ticks": ""
             }
            },
            "type": "scatterpolar"
           }
          ],
          "scatterpolargl": [
           {
            "marker": {
             "colorbar": {
              "outlinewidth": 0,
              "ticks": ""
             }
            },
            "type": "scatterpolargl"
           }
          ],
          "scatterternary": [
           {
            "marker": {
             "colorbar": {
              "outlinewidth": 0,
              "ticks": ""
             }
            },
            "type": "scatterternary"
           }
          ],
          "surface": [
           {
            "colorbar": {
             "outlinewidth": 0,
             "ticks": ""
            },
            "colorscale": [
             [
              0,
              "#0d0887"
             ],
             [
              0.1111111111111111,
              "#46039f"
             ],
             [
              0.2222222222222222,
              "#7201a8"
             ],
             [
              0.3333333333333333,
              "#9c179e"
             ],
             [
              0.4444444444444444,
              "#bd3786"
             ],
             [
              0.5555555555555556,
              "#d8576b"
             ],
             [
              0.6666666666666666,
              "#ed7953"
             ],
             [
              0.7777777777777778,
              "#fb9f3a"
             ],
             [
              0.8888888888888888,
              "#fdca26"
             ],
             [
              1,
              "#f0f921"
             ]
            ],
            "type": "surface"
           }
          ],
          "table": [
           {
            "cells": {
             "fill": {
              "color": "#EBF0F8"
             },
             "line": {
              "color": "white"
             }
            },
            "header": {
             "fill": {
              "color": "#C8D4E3"
             },
             "line": {
              "color": "white"
             }
            },
            "type": "table"
           }
          ]
         },
         "layout": {
          "annotationdefaults": {
           "arrowcolor": "#2a3f5f",
           "arrowhead": 0,
           "arrowwidth": 1
          },
          "coloraxis": {
           "colorbar": {
            "outlinewidth": 0,
            "ticks": ""
           }
          },
          "colorscale": {
           "diverging": [
            [
             0,
             "#8e0152"
            ],
            [
             0.1,
             "#c51b7d"
            ],
            [
             0.2,
             "#de77ae"
            ],
            [
             0.3,
             "#f1b6da"
            ],
            [
             0.4,
             "#fde0ef"
            ],
            [
             0.5,
             "#f7f7f7"
            ],
            [
             0.6,
             "#e6f5d0"
            ],
            [
             0.7,
             "#b8e186"
            ],
            [
             0.8,
             "#7fbc41"
            ],
            [
             0.9,
             "#4d9221"
            ],
            [
             1,
             "#276419"
            ]
           ],
           "sequential": [
            [
             0,
             "#0d0887"
            ],
            [
             0.1111111111111111,
             "#46039f"
            ],
            [
             0.2222222222222222,
             "#7201a8"
            ],
            [
             0.3333333333333333,
             "#9c179e"
            ],
            [
             0.4444444444444444,
             "#bd3786"
            ],
            [
             0.5555555555555556,
             "#d8576b"
            ],
            [
             0.6666666666666666,
             "#ed7953"
            ],
            [
             0.7777777777777778,
             "#fb9f3a"
            ],
            [
             0.8888888888888888,
             "#fdca26"
            ],
            [
             1,
             "#f0f921"
            ]
           ],
           "sequentialminus": [
            [
             0,
             "#0d0887"
            ],
            [
             0.1111111111111111,
             "#46039f"
            ],
            [
             0.2222222222222222,
             "#7201a8"
            ],
            [
             0.3333333333333333,
             "#9c179e"
            ],
            [
             0.4444444444444444,
             "#bd3786"
            ],
            [
             0.5555555555555556,
             "#d8576b"
            ],
            [
             0.6666666666666666,
             "#ed7953"
            ],
            [
             0.7777777777777778,
             "#fb9f3a"
            ],
            [
             0.8888888888888888,
             "#fdca26"
            ],
            [
             1,
             "#f0f921"
            ]
           ]
          },
          "colorway": [
           "#636efa",
           "#EF553B",
           "#00cc96",
           "#ab63fa",
           "#FFA15A",
           "#19d3f3",
           "#FF6692",
           "#B6E880",
           "#FF97FF",
           "#FECB52"
          ],
          "font": {
           "color": "#2a3f5f"
          },
          "geo": {
           "bgcolor": "white",
           "lakecolor": "white",
           "landcolor": "#E5ECF6",
           "showlakes": true,
           "showland": true,
           "subunitcolor": "white"
          },
          "hoverlabel": {
           "align": "left"
          },
          "hovermode": "closest",
          "mapbox": {
           "style": "light"
          },
          "paper_bgcolor": "white",
          "plot_bgcolor": "#E5ECF6",
          "polar": {
           "angularaxis": {
            "gridcolor": "white",
            "linecolor": "white",
            "ticks": ""
           },
           "bgcolor": "#E5ECF6",
           "radialaxis": {
            "gridcolor": "white",
            "linecolor": "white",
            "ticks": ""
           }
          },
          "scene": {
           "xaxis": {
            "backgroundcolor": "#E5ECF6",
            "gridcolor": "white",
            "gridwidth": 2,
            "linecolor": "white",
            "showbackground": true,
            "ticks": "",
            "zerolinecolor": "white"
           },
           "yaxis": {
            "backgroundcolor": "#E5ECF6",
            "gridcolor": "white",
            "gridwidth": 2,
            "linecolor": "white",
            "showbackground": true,
            "ticks": "",
            "zerolinecolor": "white"
           },
           "zaxis": {
            "backgroundcolor": "#E5ECF6",
            "gridcolor": "white",
            "gridwidth": 2,
            "linecolor": "white",
            "showbackground": true,
            "ticks": "",
            "zerolinecolor": "white"
           }
          },
          "shapedefaults": {
           "line": {
            "color": "#2a3f5f"
           }
          },
          "ternary": {
           "aaxis": {
            "gridcolor": "white",
            "linecolor": "white",
            "ticks": ""
           },
           "baxis": {
            "gridcolor": "white",
            "linecolor": "white",
            "ticks": ""
           },
           "bgcolor": "#E5ECF6",
           "caxis": {
            "gridcolor": "white",
            "linecolor": "white",
            "ticks": ""
           }
          },
          "title": {
           "x": 0.05
          },
          "xaxis": {
           "automargin": true,
           "gridcolor": "white",
           "linecolor": "white",
           "ticks": "",
           "title": {
            "standoff": 15
           },
           "zerolinecolor": "white",
           "zerolinewidth": 2
          },
          "yaxis": {
           "automargin": true,
           "gridcolor": "white",
           "linecolor": "white",
           "ticks": "",
           "title": {
            "standoff": 15
           },
           "zerolinecolor": "white",
           "zerolinewidth": 2
          }
         }
        },
        "title": {
         "font": {
          "color": "#4D5663"
         },
         "text": "Topic 0: Sentiment Polarity Distribution"
        },
        "xaxis": {
         "gridcolor": "#E1E5ED",
         "linecolor": "black",
         "showgrid": true,
         "tickfont": {
          "color": "#4D5663"
         },
         "title": {
          "font": {
           "color": "#4D5663"
          },
          "text": "polarity"
         },
         "zerolinecolor": "#E1E5ED"
        },
        "yaxis": {
         "gridcolor": "#E1E5ED",
         "linecolor": "black",
         "showgrid": true,
         "tickfont": {
          "color": "#4D5663"
         },
         "title": {
          "font": {
           "color": "#4D5663"
          },
          "text": "count"
         },
         "zerolinecolor": "#E1E5ED"
        }
       }
      },
      "text/html": [
       "<div>\n",
       "        \n",
       "        \n",
       "            <div id=\"0a782dd2-d1b6-4006-bec9-303c03b579af\" class=\"plotly-graph-div\" style=\"height:525px; width:100%;\"></div>\n",
       "            <script type=\"text/javascript\">\n",
       "                require([\"plotly\"], function(Plotly) {\n",
       "                    window.PLOTLYENV=window.PLOTLYENV || {};\n",
       "                    window.PLOTLYENV.BASE_URL='https://plot.ly';\n",
       "                    \n",
       "                if (document.getElementById(\"0a782dd2-d1b6-4006-bec9-303c03b579af\")) {\n",
       "                    Plotly.newPlot(\n",
       "                        '0a782dd2-d1b6-4006-bec9-303c03b579af',\n",
       "                        [{\"histfunc\": \"count\", \"histnorm\": \"\", \"marker\": {\"color\": \"rgba(255, 153, 51, 1.0)\", \"line\": {\"color\": \"#000000\", \"width\": 1.3}}, \"name\": \"en\", \"nbinsx\": 50, \"opacity\": 0.8, \"orientation\": \"v\", \"type\": \"histogram\", \"x\": [0.04010416666666666, 0.2255892255892256, 0.18666666666666668, 0.02071428571428572, 0.2826666666666666, 0.39166666666666666, 0.425, 0.25, 0.14450757575757572, 0.08728846910665092, -0.051190476190476175, 0.02803030303030303, 0.44375, 0.41530303030303034, 0.1875, 0.05000000000000001, 0.12142857142857144, -0.14502164502164505, 0.234375, -0.03645833333333333, 0.13636363636363638, 0.2, 0.035416666666666666, 0.3086363636363636, 0.16141001855287568, 0.06923076923076922, 0.28532948532948527, 0.09681818181818183, 0.3546044864226683, 0.1268939393939394, 0.22678571428571428, 0.09961219336219336, 0.22272727272727275, 0.175, 0.05083333333333333, 0.36, 0.22142857142857145, 0.14603174603174607, 0.35000000000000003, 0.09042699724517905, 0.0977891156462585, 0.20909090909090908, 0.05, 0.11168831168831168, 0.09034090909090908, 0.2696969696969697, 0.04338624338624339, 0.35833333333333334]}],\n",
       "                        {\"barmode\": \"overlay\", \"legend\": {\"bgcolor\": \"#F5F6F9\", \"font\": {\"color\": \"#4D5663\"}}, \"paper_bgcolor\": \"#F5F6F9\", \"plot_bgcolor\": \"#F5F6F9\", \"template\": {\"data\": {\"bar\": [{\"error_x\": {\"color\": \"#2a3f5f\"}, \"error_y\": {\"color\": \"#2a3f5f\"}, \"marker\": {\"line\": {\"color\": \"#E5ECF6\", \"width\": 0.5}}, \"type\": \"bar\"}], \"barpolar\": [{\"marker\": {\"line\": {\"color\": \"#E5ECF6\", \"width\": 0.5}}, \"type\": \"barpolar\"}], \"carpet\": [{\"aaxis\": {\"endlinecolor\": \"#2a3f5f\", \"gridcolor\": \"white\", \"linecolor\": \"white\", \"minorgridcolor\": \"white\", \"startlinecolor\": \"#2a3f5f\"}, \"baxis\": {\"endlinecolor\": \"#2a3f5f\", \"gridcolor\": \"white\", \"linecolor\": \"white\", \"minorgridcolor\": \"white\", \"startlinecolor\": \"#2a3f5f\"}, \"type\": \"carpet\"}], \"choropleth\": [{\"colorbar\": {\"outlinewidth\": 0, \"ticks\": \"\"}, \"type\": \"choropleth\"}], \"contour\": [{\"colorbar\": {\"outlinewidth\": 0, \"ticks\": \"\"}, \"colorscale\": [[0.0, \"#0d0887\"], [0.1111111111111111, \"#46039f\"], [0.2222222222222222, \"#7201a8\"], [0.3333333333333333, \"#9c179e\"], [0.4444444444444444, \"#bd3786\"], [0.5555555555555556, \"#d8576b\"], [0.6666666666666666, \"#ed7953\"], [0.7777777777777778, \"#fb9f3a\"], [0.8888888888888888, \"#fdca26\"], [1.0, \"#f0f921\"]], \"type\": \"contour\"}], \"contourcarpet\": [{\"colorbar\": {\"outlinewidth\": 0, \"ticks\": \"\"}, \"type\": \"contourcarpet\"}], \"heatmap\": [{\"colorbar\": {\"outlinewidth\": 0, \"ticks\": \"\"}, \"colorscale\": [[0.0, \"#0d0887\"], [0.1111111111111111, \"#46039f\"], [0.2222222222222222, \"#7201a8\"], [0.3333333333333333, \"#9c179e\"], [0.4444444444444444, \"#bd3786\"], [0.5555555555555556, \"#d8576b\"], [0.6666666666666666, \"#ed7953\"], [0.7777777777777778, \"#fb9f3a\"], [0.8888888888888888, \"#fdca26\"], [1.0, \"#f0f921\"]], \"type\": \"heatmap\"}], \"heatmapgl\": [{\"colorbar\": {\"outlinewidth\": 0, \"ticks\": \"\"}, \"colorscale\": [[0.0, \"#0d0887\"], [0.1111111111111111, \"#46039f\"], [0.2222222222222222, \"#7201a8\"], [0.3333333333333333, \"#9c179e\"], [0.4444444444444444, \"#bd3786\"], [0.5555555555555556, \"#d8576b\"], [0.6666666666666666, \"#ed7953\"], [0.7777777777777778, \"#fb9f3a\"], [0.8888888888888888, \"#fdca26\"], [1.0, \"#f0f921\"]], \"type\": \"heatmapgl\"}], \"histogram\": [{\"marker\": {\"colorbar\": {\"outlinewidth\": 0, \"ticks\": \"\"}}, \"type\": \"histogram\"}], \"histogram2d\": [{\"colorbar\": {\"outlinewidth\": 0, \"ticks\": \"\"}, \"colorscale\": [[0.0, \"#0d0887\"], [0.1111111111111111, \"#46039f\"], [0.2222222222222222, \"#7201a8\"], [0.3333333333333333, \"#9c179e\"], [0.4444444444444444, \"#bd3786\"], [0.5555555555555556, \"#d8576b\"], [0.6666666666666666, \"#ed7953\"], [0.7777777777777778, \"#fb9f3a\"], [0.8888888888888888, \"#fdca26\"], [1.0, \"#f0f921\"]], \"type\": \"histogram2d\"}], \"histogram2dcontour\": [{\"colorbar\": {\"outlinewidth\": 0, \"ticks\": \"\"}, \"colorscale\": [[0.0, \"#0d0887\"], [0.1111111111111111, \"#46039f\"], [0.2222222222222222, \"#7201a8\"], [0.3333333333333333, \"#9c179e\"], [0.4444444444444444, \"#bd3786\"], [0.5555555555555556, \"#d8576b\"], [0.6666666666666666, \"#ed7953\"], [0.7777777777777778, \"#fb9f3a\"], [0.8888888888888888, \"#fdca26\"], [1.0, \"#f0f921\"]], \"type\": \"histogram2dcontour\"}], \"mesh3d\": [{\"colorbar\": {\"outlinewidth\": 0, \"ticks\": \"\"}, \"type\": \"mesh3d\"}], \"parcoords\": [{\"line\": {\"colorbar\": {\"outlinewidth\": 0, \"ticks\": \"\"}}, \"type\": \"parcoords\"}], \"pie\": [{\"automargin\": true, \"type\": \"pie\"}], \"scatter\": [{\"marker\": {\"colorbar\": {\"outlinewidth\": 0, \"ticks\": \"\"}}, \"type\": \"scatter\"}], \"scatter3d\": [{\"line\": {\"colorbar\": {\"outlinewidth\": 0, \"ticks\": \"\"}}, \"marker\": {\"colorbar\": {\"outlinewidth\": 0, \"ticks\": \"\"}}, \"type\": \"scatter3d\"}], \"scattercarpet\": [{\"marker\": {\"colorbar\": {\"outlinewidth\": 0, \"ticks\": \"\"}}, \"type\": \"scattercarpet\"}], \"scattergeo\": [{\"marker\": {\"colorbar\": {\"outlinewidth\": 0, \"ticks\": \"\"}}, \"type\": \"scattergeo\"}], \"scattergl\": [{\"marker\": {\"colorbar\": {\"outlinewidth\": 0, \"ticks\": \"\"}}, \"type\": \"scattergl\"}], \"scattermapbox\": [{\"marker\": {\"colorbar\": {\"outlinewidth\": 0, \"ticks\": \"\"}}, \"type\": \"scattermapbox\"}], \"scatterpolar\": [{\"marker\": {\"colorbar\": {\"outlinewidth\": 0, \"ticks\": \"\"}}, \"type\": \"scatterpolar\"}], \"scatterpolargl\": [{\"marker\": {\"colorbar\": {\"outlinewidth\": 0, \"ticks\": \"\"}}, \"type\": \"scatterpolargl\"}], \"scatterternary\": [{\"marker\": {\"colorbar\": {\"outlinewidth\": 0, \"ticks\": \"\"}}, \"type\": \"scatterternary\"}], \"surface\": [{\"colorbar\": {\"outlinewidth\": 0, \"ticks\": \"\"}, \"colorscale\": [[0.0, \"#0d0887\"], [0.1111111111111111, \"#46039f\"], [0.2222222222222222, \"#7201a8\"], [0.3333333333333333, \"#9c179e\"], [0.4444444444444444, \"#bd3786\"], [0.5555555555555556, \"#d8576b\"], [0.6666666666666666, \"#ed7953\"], [0.7777777777777778, \"#fb9f3a\"], [0.8888888888888888, \"#fdca26\"], [1.0, \"#f0f921\"]], \"type\": \"surface\"}], \"table\": [{\"cells\": {\"fill\": {\"color\": \"#EBF0F8\"}, \"line\": {\"color\": \"white\"}}, \"header\": {\"fill\": {\"color\": \"#C8D4E3\"}, \"line\": {\"color\": \"white\"}}, \"type\": \"table\"}]}, \"layout\": {\"annotationdefaults\": {\"arrowcolor\": \"#2a3f5f\", \"arrowhead\": 0, \"arrowwidth\": 1}, \"coloraxis\": {\"colorbar\": {\"outlinewidth\": 0, \"ticks\": \"\"}}, \"colorscale\": {\"diverging\": [[0, \"#8e0152\"], [0.1, \"#c51b7d\"], [0.2, \"#de77ae\"], [0.3, \"#f1b6da\"], [0.4, \"#fde0ef\"], [0.5, \"#f7f7f7\"], [0.6, \"#e6f5d0\"], [0.7, \"#b8e186\"], [0.8, \"#7fbc41\"], [0.9, \"#4d9221\"], [1, \"#276419\"]], \"sequential\": [[0.0, \"#0d0887\"], [0.1111111111111111, \"#46039f\"], [0.2222222222222222, \"#7201a8\"], [0.3333333333333333, \"#9c179e\"], [0.4444444444444444, \"#bd3786\"], [0.5555555555555556, \"#d8576b\"], [0.6666666666666666, \"#ed7953\"], [0.7777777777777778, \"#fb9f3a\"], [0.8888888888888888, \"#fdca26\"], [1.0, \"#f0f921\"]], \"sequentialminus\": [[0.0, \"#0d0887\"], [0.1111111111111111, \"#46039f\"], [0.2222222222222222, \"#7201a8\"], [0.3333333333333333, \"#9c179e\"], [0.4444444444444444, \"#bd3786\"], [0.5555555555555556, \"#d8576b\"], [0.6666666666666666, \"#ed7953\"], [0.7777777777777778, \"#fb9f3a\"], [0.8888888888888888, \"#fdca26\"], [1.0, \"#f0f921\"]]}, \"colorway\": [\"#636efa\", \"#EF553B\", \"#00cc96\", \"#ab63fa\", \"#FFA15A\", \"#19d3f3\", \"#FF6692\", \"#B6E880\", \"#FF97FF\", \"#FECB52\"], \"font\": {\"color\": \"#2a3f5f\"}, \"geo\": {\"bgcolor\": \"white\", \"lakecolor\": \"white\", \"landcolor\": \"#E5ECF6\", \"showlakes\": true, \"showland\": true, \"subunitcolor\": \"white\"}, \"hoverlabel\": {\"align\": \"left\"}, \"hovermode\": \"closest\", \"mapbox\": {\"style\": \"light\"}, \"paper_bgcolor\": \"white\", \"plot_bgcolor\": \"#E5ECF6\", \"polar\": {\"angularaxis\": {\"gridcolor\": \"white\", \"linecolor\": \"white\", \"ticks\": \"\"}, \"bgcolor\": \"#E5ECF6\", \"radialaxis\": {\"gridcolor\": \"white\", \"linecolor\": \"white\", \"ticks\": \"\"}}, \"scene\": {\"xaxis\": {\"backgroundcolor\": \"#E5ECF6\", \"gridcolor\": \"white\", \"gridwidth\": 2, \"linecolor\": \"white\", \"showbackground\": true, \"ticks\": \"\", \"zerolinecolor\": \"white\"}, \"yaxis\": {\"backgroundcolor\": \"#E5ECF6\", \"gridcolor\": \"white\", \"gridwidth\": 2, \"linecolor\": \"white\", \"showbackground\": true, \"ticks\": \"\", \"zerolinecolor\": \"white\"}, \"zaxis\": {\"backgroundcolor\": \"#E5ECF6\", \"gridcolor\": \"white\", \"gridwidth\": 2, \"linecolor\": \"white\", \"showbackground\": true, \"ticks\": \"\", \"zerolinecolor\": \"white\"}}, \"shapedefaults\": {\"line\": {\"color\": \"#2a3f5f\"}}, \"ternary\": {\"aaxis\": {\"gridcolor\": \"white\", \"linecolor\": \"white\", \"ticks\": \"\"}, \"baxis\": {\"gridcolor\": \"white\", \"linecolor\": \"white\", \"ticks\": \"\"}, \"bgcolor\": \"#E5ECF6\", \"caxis\": {\"gridcolor\": \"white\", \"linecolor\": \"white\", \"ticks\": \"\"}}, \"title\": {\"x\": 0.05}, \"xaxis\": {\"automargin\": true, \"gridcolor\": \"white\", \"linecolor\": \"white\", \"ticks\": \"\", \"title\": {\"standoff\": 15}, \"zerolinecolor\": \"white\", \"zerolinewidth\": 2}, \"yaxis\": {\"automargin\": true, \"gridcolor\": \"white\", \"linecolor\": \"white\", \"ticks\": \"\", \"title\": {\"standoff\": 15}, \"zerolinecolor\": \"white\", \"zerolinewidth\": 2}}}, \"title\": {\"font\": {\"color\": \"#4D5663\"}, \"text\": \"Topic 0: Sentiment Polarity Distribution\"}, \"xaxis\": {\"gridcolor\": \"#E1E5ED\", \"linecolor\": \"black\", \"showgrid\": true, \"tickfont\": {\"color\": \"#4D5663\"}, \"title\": {\"font\": {\"color\": \"#4D5663\"}, \"text\": \"polarity\"}, \"zerolinecolor\": \"#E1E5ED\"}, \"yaxis\": {\"gridcolor\": \"#E1E5ED\", \"linecolor\": \"black\", \"showgrid\": true, \"tickfont\": {\"color\": \"#4D5663\"}, \"title\": {\"font\": {\"color\": \"#4D5663\"}, \"text\": \"count\"}, \"zerolinecolor\": \"#E1E5ED\"}},\n",
       "                        {\"showLink\": true, \"linkText\": \"Export to plot.ly\", \"plotlyServerURL\": \"https://plot.ly\", \"responsive\": true}\n",
       "                    ).then(function(){\n",
       "                            \n",
       "var gd = document.getElementById('0a782dd2-d1b6-4006-bec9-303c03b579af');\n",
       "var x = new MutationObserver(function (mutations, observer) {{\n",
       "        var display = window.getComputedStyle(gd).display;\n",
       "        if (!display || display === 'none') {{\n",
       "            console.log([gd, 'removed!']);\n",
       "            Plotly.purge(gd);\n",
       "            observer.disconnect();\n",
       "        }}\n",
       "}});\n",
       "\n",
       "// Listen for the removal of the full notebook cells\n",
       "var notebookContainer = gd.closest('#notebook-container');\n",
       "if (notebookContainer) {{\n",
       "    x.observe(notebookContainer, {childList: true});\n",
       "}}\n",
       "\n",
       "// Listen for the clearing of the current output cell\n",
       "var outputEl = gd.closest('.output');\n",
       "if (outputEl) {{\n",
       "    x.observe(outputEl, {childList: true});\n",
       "}}\n",
       "\n",
       "                        })\n",
       "                };\n",
       "                });\n",
       "            </script>\n",
       "        </div>"
      ]
     },
     "metadata": {},
     "output_type": "display_data"
    }
   ],
   "source": [
    "plot_model(lda, plot='sentiment')"
   ]
  },
  {
   "cell_type": "code",
   "execution_count": 27,
   "metadata": {},
   "outputs": [
    {
     "data": {
      "text/html": [
       "        <script type=\"text/javascript\">\n",
       "        window.PlotlyConfig = {MathJaxConfig: 'local'};\n",
       "        if (window.MathJax) {MathJax.Hub.Config({SVG: {font: \"STIX-Web\"}});}\n",
       "        if (typeof require !== 'undefined') {\n",
       "        require.undef(\"plotly\");\n",
       "        requirejs.config({\n",
       "            paths: {\n",
       "                'plotly': ['https://cdn.plot.ly/plotly-latest.min']\n",
       "            }\n",
       "        });\n",
       "        require(['plotly'], function(Plotly) {\n",
       "            window._Plotly = Plotly;\n",
       "        });\n",
       "        }\n",
       "        </script>\n",
       "        "
      ]
     },
     "metadata": {},
     "output_type": "display_data"
    },
    {
     "data": {
      "application/vnd.plotly.v1+json": {
       "config": {
        "linkText": "Export to plot.ly",
        "plotlyServerURL": "https://plot.ly",
        "showLink": true
       },
       "data": [
        {
         "marker": {
          "color": "rgba(255, 153, 51, 0.6)",
          "line": {
           "color": "rgba(255, 153, 51, 1.0)",
           "width": 1
          }
         },
         "name": "pos",
         "orientation": "v",
         "text": "",
         "type": "bar",
         "x": [
          "NNP",
          "RB",
          "NN",
          "JJ",
          "VBG",
          "VBD",
          "IN",
          "CD",
          "NNS",
          "PRP",
          "JJS",
          "EX",
          "DT",
          "FW",
          "JJR",
          "VBN",
          "VBP",
          "CC",
          "WP",
          "MD"
         ],
         "y": [
          3250,
          262,
          247,
          199,
          190,
          109,
          72,
          70,
          40,
          22,
          20,
          10,
          9,
          7,
          6,
          5,
          5,
          4,
          3,
          1
         ]
        }
       ],
       "layout": {
        "legend": {
         "bgcolor": "#F5F6F9",
         "font": {
          "color": "#4D5663"
         }
        },
        "paper_bgcolor": "#F5F6F9",
        "plot_bgcolor": "#F5F6F9",
        "template": {
         "data": {
          "bar": [
           {
            "error_x": {
             "color": "#2a3f5f"
            },
            "error_y": {
             "color": "#2a3f5f"
            },
            "marker": {
             "line": {
              "color": "#E5ECF6",
              "width": 0.5
             }
            },
            "type": "bar"
           }
          ],
          "barpolar": [
           {
            "marker": {
             "line": {
              "color": "#E5ECF6",
              "width": 0.5
             }
            },
            "type": "barpolar"
           }
          ],
          "carpet": [
           {
            "aaxis": {
             "endlinecolor": "#2a3f5f",
             "gridcolor": "white",
             "linecolor": "white",
             "minorgridcolor": "white",
             "startlinecolor": "#2a3f5f"
            },
            "baxis": {
             "endlinecolor": "#2a3f5f",
             "gridcolor": "white",
             "linecolor": "white",
             "minorgridcolor": "white",
             "startlinecolor": "#2a3f5f"
            },
            "type": "carpet"
           }
          ],
          "choropleth": [
           {
            "colorbar": {
             "outlinewidth": 0,
             "ticks": ""
            },
            "type": "choropleth"
           }
          ],
          "contour": [
           {
            "colorbar": {
             "outlinewidth": 0,
             "ticks": ""
            },
            "colorscale": [
             [
              0,
              "#0d0887"
             ],
             [
              0.1111111111111111,
              "#46039f"
             ],
             [
              0.2222222222222222,
              "#7201a8"
             ],
             [
              0.3333333333333333,
              "#9c179e"
             ],
             [
              0.4444444444444444,
              "#bd3786"
             ],
             [
              0.5555555555555556,
              "#d8576b"
             ],
             [
              0.6666666666666666,
              "#ed7953"
             ],
             [
              0.7777777777777778,
              "#fb9f3a"
             ],
             [
              0.8888888888888888,
              "#fdca26"
             ],
             [
              1,
              "#f0f921"
             ]
            ],
            "type": "contour"
           }
          ],
          "contourcarpet": [
           {
            "colorbar": {
             "outlinewidth": 0,
             "ticks": ""
            },
            "type": "contourcarpet"
           }
          ],
          "heatmap": [
           {
            "colorbar": {
             "outlinewidth": 0,
             "ticks": ""
            },
            "colorscale": [
             [
              0,
              "#0d0887"
             ],
             [
              0.1111111111111111,
              "#46039f"
             ],
             [
              0.2222222222222222,
              "#7201a8"
             ],
             [
              0.3333333333333333,
              "#9c179e"
             ],
             [
              0.4444444444444444,
              "#bd3786"
             ],
             [
              0.5555555555555556,
              "#d8576b"
             ],
             [
              0.6666666666666666,
              "#ed7953"
             ],
             [
              0.7777777777777778,
              "#fb9f3a"
             ],
             [
              0.8888888888888888,
              "#fdca26"
             ],
             [
              1,
              "#f0f921"
             ]
            ],
            "type": "heatmap"
           }
          ],
          "heatmapgl": [
           {
            "colorbar": {
             "outlinewidth": 0,
             "ticks": ""
            },
            "colorscale": [
             [
              0,
              "#0d0887"
             ],
             [
              0.1111111111111111,
              "#46039f"
             ],
             [
              0.2222222222222222,
              "#7201a8"
             ],
             [
              0.3333333333333333,
              "#9c179e"
             ],
             [
              0.4444444444444444,
              "#bd3786"
             ],
             [
              0.5555555555555556,
              "#d8576b"
             ],
             [
              0.6666666666666666,
              "#ed7953"
             ],
             [
              0.7777777777777778,
              "#fb9f3a"
             ],
             [
              0.8888888888888888,
              "#fdca26"
             ],
             [
              1,
              "#f0f921"
             ]
            ],
            "type": "heatmapgl"
           }
          ],
          "histogram": [
           {
            "marker": {
             "colorbar": {
              "outlinewidth": 0,
              "ticks": ""
             }
            },
            "type": "histogram"
           }
          ],
          "histogram2d": [
           {
            "colorbar": {
             "outlinewidth": 0,
             "ticks": ""
            },
            "colorscale": [
             [
              0,
              "#0d0887"
             ],
             [
              0.1111111111111111,
              "#46039f"
             ],
             [
              0.2222222222222222,
              "#7201a8"
             ],
             [
              0.3333333333333333,
              "#9c179e"
             ],
             [
              0.4444444444444444,
              "#bd3786"
             ],
             [
              0.5555555555555556,
              "#d8576b"
             ],
             [
              0.6666666666666666,
              "#ed7953"
             ],
             [
              0.7777777777777778,
              "#fb9f3a"
             ],
             [
              0.8888888888888888,
              "#fdca26"
             ],
             [
              1,
              "#f0f921"
             ]
            ],
            "type": "histogram2d"
           }
          ],
          "histogram2dcontour": [
           {
            "colorbar": {
             "outlinewidth": 0,
             "ticks": ""
            },
            "colorscale": [
             [
              0,
              "#0d0887"
             ],
             [
              0.1111111111111111,
              "#46039f"
             ],
             [
              0.2222222222222222,
              "#7201a8"
             ],
             [
              0.3333333333333333,
              "#9c179e"
             ],
             [
              0.4444444444444444,
              "#bd3786"
             ],
             [
              0.5555555555555556,
              "#d8576b"
             ],
             [
              0.6666666666666666,
              "#ed7953"
             ],
             [
              0.7777777777777778,
              "#fb9f3a"
             ],
             [
              0.8888888888888888,
              "#fdca26"
             ],
             [
              1,
              "#f0f921"
             ]
            ],
            "type": "histogram2dcontour"
           }
          ],
          "mesh3d": [
           {
            "colorbar": {
             "outlinewidth": 0,
             "ticks": ""
            },
            "type": "mesh3d"
           }
          ],
          "parcoords": [
           {
            "line": {
             "colorbar": {
              "outlinewidth": 0,
              "ticks": ""
             }
            },
            "type": "parcoords"
           }
          ],
          "pie": [
           {
            "automargin": true,
            "type": "pie"
           }
          ],
          "scatter": [
           {
            "marker": {
             "colorbar": {
              "outlinewidth": 0,
              "ticks": ""
             }
            },
            "type": "scatter"
           }
          ],
          "scatter3d": [
           {
            "line": {
             "colorbar": {
              "outlinewidth": 0,
              "ticks": ""
             }
            },
            "marker": {
             "colorbar": {
              "outlinewidth": 0,
              "ticks": ""
             }
            },
            "type": "scatter3d"
           }
          ],
          "scattercarpet": [
           {
            "marker": {
             "colorbar": {
              "outlinewidth": 0,
              "ticks": ""
             }
            },
            "type": "scattercarpet"
           }
          ],
          "scattergeo": [
           {
            "marker": {
             "colorbar": {
              "outlinewidth": 0,
              "ticks": ""
             }
            },
            "type": "scattergeo"
           }
          ],
          "scattergl": [
           {
            "marker": {
             "colorbar": {
              "outlinewidth": 0,
              "ticks": ""
             }
            },
            "type": "scattergl"
           }
          ],
          "scattermapbox": [
           {
            "marker": {
             "colorbar": {
              "outlinewidth": 0,
              "ticks": ""
             }
            },
            "type": "scattermapbox"
           }
          ],
          "scatterpolar": [
           {
            "marker": {
             "colorbar": {
              "outlinewidth": 0,
              "ticks": ""
             }
            },
            "type": "scatterpolar"
           }
          ],
          "scatterpolargl": [
           {
            "marker": {
             "colorbar": {
              "outlinewidth": 0,
              "ticks": ""
             }
            },
            "type": "scatterpolargl"
           }
          ],
          "scatterternary": [
           {
            "marker": {
             "colorbar": {
              "outlinewidth": 0,
              "ticks": ""
             }
            },
            "type": "scatterternary"
           }
          ],
          "surface": [
           {
            "colorbar": {
             "outlinewidth": 0,
             "ticks": ""
            },
            "colorscale": [
             [
              0,
              "#0d0887"
             ],
             [
              0.1111111111111111,
              "#46039f"
             ],
             [
              0.2222222222222222,
              "#7201a8"
             ],
             [
              0.3333333333333333,
              "#9c179e"
             ],
             [
              0.4444444444444444,
              "#bd3786"
             ],
             [
              0.5555555555555556,
              "#d8576b"
             ],
             [
              0.6666666666666666,
              "#ed7953"
             ],
             [
              0.7777777777777778,
              "#fb9f3a"
             ],
             [
              0.8888888888888888,
              "#fdca26"
             ],
             [
              1,
              "#f0f921"
             ]
            ],
            "type": "surface"
           }
          ],
          "table": [
           {
            "cells": {
             "fill": {
              "color": "#EBF0F8"
             },
             "line": {
              "color": "white"
             }
            },
            "header": {
             "fill": {
              "color": "#C8D4E3"
             },
             "line": {
              "color": "white"
             }
            },
            "type": "table"
           }
          ]
         },
         "layout": {
          "annotationdefaults": {
           "arrowcolor": "#2a3f5f",
           "arrowhead": 0,
           "arrowwidth": 1
          },
          "coloraxis": {
           "colorbar": {
            "outlinewidth": 0,
            "ticks": ""
           }
          },
          "colorscale": {
           "diverging": [
            [
             0,
             "#8e0152"
            ],
            [
             0.1,
             "#c51b7d"
            ],
            [
             0.2,
             "#de77ae"
            ],
            [
             0.3,
             "#f1b6da"
            ],
            [
             0.4,
             "#fde0ef"
            ],
            [
             0.5,
             "#f7f7f7"
            ],
            [
             0.6,
             "#e6f5d0"
            ],
            [
             0.7,
             "#b8e186"
            ],
            [
             0.8,
             "#7fbc41"
            ],
            [
             0.9,
             "#4d9221"
            ],
            [
             1,
             "#276419"
            ]
           ],
           "sequential": [
            [
             0,
             "#0d0887"
            ],
            [
             0.1111111111111111,
             "#46039f"
            ],
            [
             0.2222222222222222,
             "#7201a8"
            ],
            [
             0.3333333333333333,
             "#9c179e"
            ],
            [
             0.4444444444444444,
             "#bd3786"
            ],
            [
             0.5555555555555556,
             "#d8576b"
            ],
            [
             0.6666666666666666,
             "#ed7953"
            ],
            [
             0.7777777777777778,
             "#fb9f3a"
            ],
            [
             0.8888888888888888,
             "#fdca26"
            ],
            [
             1,
             "#f0f921"
            ]
           ],
           "sequentialminus": [
            [
             0,
             "#0d0887"
            ],
            [
             0.1111111111111111,
             "#46039f"
            ],
            [
             0.2222222222222222,
             "#7201a8"
            ],
            [
             0.3333333333333333,
             "#9c179e"
            ],
            [
             0.4444444444444444,
             "#bd3786"
            ],
            [
             0.5555555555555556,
             "#d8576b"
            ],
            [
             0.6666666666666666,
             "#ed7953"
            ],
            [
             0.7777777777777778,
             "#fb9f3a"
            ],
            [
             0.8888888888888888,
             "#fdca26"
            ],
            [
             1,
             "#f0f921"
            ]
           ]
          },
          "colorway": [
           "#636efa",
           "#EF553B",
           "#00cc96",
           "#ab63fa",
           "#FFA15A",
           "#19d3f3",
           "#FF6692",
           "#B6E880",
           "#FF97FF",
           "#FECB52"
          ],
          "font": {
           "color": "#2a3f5f"
          },
          "geo": {
           "bgcolor": "white",
           "lakecolor": "white",
           "landcolor": "#E5ECF6",
           "showlakes": true,
           "showland": true,
           "subunitcolor": "white"
          },
          "hoverlabel": {
           "align": "left"
          },
          "hovermode": "closest",
          "mapbox": {
           "style": "light"
          },
          "paper_bgcolor": "white",
          "plot_bgcolor": "#E5ECF6",
          "polar": {
           "angularaxis": {
            "gridcolor": "white",
            "linecolor": "white",
            "ticks": ""
           },
           "bgcolor": "#E5ECF6",
           "radialaxis": {
            "gridcolor": "white",
            "linecolor": "white",
            "ticks": ""
           }
          },
          "scene": {
           "xaxis": {
            "backgroundcolor": "#E5ECF6",
            "gridcolor": "white",
            "gridwidth": 2,
            "linecolor": "white",
            "showbackground": true,
            "ticks": "",
            "zerolinecolor": "white"
           },
           "yaxis": {
            "backgroundcolor": "#E5ECF6",
            "gridcolor": "white",
            "gridwidth": 2,
            "linecolor": "white",
            "showbackground": true,
            "ticks": "",
            "zerolinecolor": "white"
           },
           "zaxis": {
            "backgroundcolor": "#E5ECF6",
            "gridcolor": "white",
            "gridwidth": 2,
            "linecolor": "white",
            "showbackground": true,
            "ticks": "",
            "zerolinecolor": "white"
           }
          },
          "shapedefaults": {
           "line": {
            "color": "#2a3f5f"
           }
          },
          "ternary": {
           "aaxis": {
            "gridcolor": "white",
            "linecolor": "white",
            "ticks": ""
           },
           "baxis": {
            "gridcolor": "white",
            "linecolor": "white",
            "ticks": ""
           },
           "bgcolor": "#E5ECF6",
           "caxis": {
            "gridcolor": "white",
            "linecolor": "white",
            "ticks": ""
           }
          },
          "title": {
           "x": 0.05
          },
          "xaxis": {
           "automargin": true,
           "gridcolor": "white",
           "linecolor": "white",
           "ticks": "",
           "title": {
            "standoff": 15
           },
           "zerolinecolor": "white",
           "zerolinewidth": 2
          },
          "yaxis": {
           "automargin": true,
           "gridcolor": "white",
           "linecolor": "white",
           "ticks": "",
           "title": {
            "standoff": 15
           },
           "zerolinecolor": "white",
           "zerolinewidth": 2
          }
         }
        },
        "title": {
         "font": {
          "color": "#4D5663"
         },
         "text": "Top 20 Part-of-speech tagging for review corpus"
        },
        "xaxis": {
         "gridcolor": "#E1E5ED",
         "showgrid": true,
         "tickfont": {
          "color": "#4D5663"
         },
         "title": {
          "font": {
           "color": "#4D5663"
          },
          "text": "POS"
         },
         "zerolinecolor": "#E1E5ED"
        },
        "yaxis": {
         "gridcolor": "#E1E5ED",
         "showgrid": true,
         "tickfont": {
          "color": "#4D5663"
         },
         "title": {
          "font": {
           "color": "#4D5663"
          },
          "text": "count"
         },
         "zerolinecolor": "#E1E5ED"
        }
       }
      },
      "text/html": [
       "<div>\n",
       "        \n",
       "        \n",
       "            <div id=\"01ce0ab3-d491-4992-8242-27cc2dbb4731\" class=\"plotly-graph-div\" style=\"height:525px; width:100%;\"></div>\n",
       "            <script type=\"text/javascript\">\n",
       "                require([\"plotly\"], function(Plotly) {\n",
       "                    window.PLOTLYENV=window.PLOTLYENV || {};\n",
       "                    window.PLOTLYENV.BASE_URL='https://plot.ly';\n",
       "                    \n",
       "                if (document.getElementById(\"01ce0ab3-d491-4992-8242-27cc2dbb4731\")) {\n",
       "                    Plotly.newPlot(\n",
       "                        '01ce0ab3-d491-4992-8242-27cc2dbb4731',\n",
       "                        [{\"marker\": {\"color\": \"rgba(255, 153, 51, 0.6)\", \"line\": {\"color\": \"rgba(255, 153, 51, 1.0)\", \"width\": 1}}, \"name\": \"pos\", \"orientation\": \"v\", \"text\": \"\", \"type\": \"bar\", \"x\": [\"NNP\", \"RB\", \"NN\", \"JJ\", \"VBG\", \"VBD\", \"IN\", \"CD\", \"NNS\", \"PRP\", \"JJS\", \"EX\", \"DT\", \"FW\", \"JJR\", \"VBN\", \"VBP\", \"CC\", \"WP\", \"MD\"], \"y\": [3250, 262, 247, 199, 190, 109, 72, 70, 40, 22, 20, 10, 9, 7, 6, 5, 5, 4, 3, 1]}],\n",
       "                        {\"legend\": {\"bgcolor\": \"#F5F6F9\", \"font\": {\"color\": \"#4D5663\"}}, \"paper_bgcolor\": \"#F5F6F9\", \"plot_bgcolor\": \"#F5F6F9\", \"template\": {\"data\": {\"bar\": [{\"error_x\": {\"color\": \"#2a3f5f\"}, \"error_y\": {\"color\": \"#2a3f5f\"}, \"marker\": {\"line\": {\"color\": \"#E5ECF6\", \"width\": 0.5}}, \"type\": \"bar\"}], \"barpolar\": [{\"marker\": {\"line\": {\"color\": \"#E5ECF6\", \"width\": 0.5}}, \"type\": \"barpolar\"}], \"carpet\": [{\"aaxis\": {\"endlinecolor\": \"#2a3f5f\", \"gridcolor\": \"white\", \"linecolor\": \"white\", \"minorgridcolor\": \"white\", \"startlinecolor\": \"#2a3f5f\"}, \"baxis\": {\"endlinecolor\": \"#2a3f5f\", \"gridcolor\": \"white\", \"linecolor\": \"white\", \"minorgridcolor\": \"white\", \"startlinecolor\": \"#2a3f5f\"}, \"type\": \"carpet\"}], \"choropleth\": [{\"colorbar\": {\"outlinewidth\": 0, \"ticks\": \"\"}, \"type\": \"choropleth\"}], \"contour\": [{\"colorbar\": {\"outlinewidth\": 0, \"ticks\": \"\"}, \"colorscale\": [[0.0, \"#0d0887\"], [0.1111111111111111, \"#46039f\"], [0.2222222222222222, \"#7201a8\"], [0.3333333333333333, \"#9c179e\"], [0.4444444444444444, \"#bd3786\"], [0.5555555555555556, \"#d8576b\"], [0.6666666666666666, \"#ed7953\"], [0.7777777777777778, \"#fb9f3a\"], [0.8888888888888888, \"#fdca26\"], [1.0, \"#f0f921\"]], \"type\": \"contour\"}], \"contourcarpet\": [{\"colorbar\": {\"outlinewidth\": 0, \"ticks\": \"\"}, \"type\": \"contourcarpet\"}], \"heatmap\": [{\"colorbar\": {\"outlinewidth\": 0, \"ticks\": \"\"}, \"colorscale\": [[0.0, \"#0d0887\"], [0.1111111111111111, \"#46039f\"], [0.2222222222222222, \"#7201a8\"], [0.3333333333333333, \"#9c179e\"], [0.4444444444444444, \"#bd3786\"], [0.5555555555555556, \"#d8576b\"], [0.6666666666666666, \"#ed7953\"], [0.7777777777777778, \"#fb9f3a\"], [0.8888888888888888, \"#fdca26\"], [1.0, \"#f0f921\"]], \"type\": \"heatmap\"}], \"heatmapgl\": [{\"colorbar\": {\"outlinewidth\": 0, \"ticks\": \"\"}, \"colorscale\": [[0.0, \"#0d0887\"], [0.1111111111111111, \"#46039f\"], [0.2222222222222222, \"#7201a8\"], [0.3333333333333333, \"#9c179e\"], [0.4444444444444444, \"#bd3786\"], [0.5555555555555556, \"#d8576b\"], [0.6666666666666666, \"#ed7953\"], [0.7777777777777778, \"#fb9f3a\"], [0.8888888888888888, \"#fdca26\"], [1.0, \"#f0f921\"]], \"type\": \"heatmapgl\"}], \"histogram\": [{\"marker\": {\"colorbar\": {\"outlinewidth\": 0, \"ticks\": \"\"}}, \"type\": \"histogram\"}], \"histogram2d\": [{\"colorbar\": {\"outlinewidth\": 0, \"ticks\": \"\"}, \"colorscale\": [[0.0, \"#0d0887\"], [0.1111111111111111, \"#46039f\"], [0.2222222222222222, \"#7201a8\"], [0.3333333333333333, \"#9c179e\"], [0.4444444444444444, \"#bd3786\"], [0.5555555555555556, \"#d8576b\"], [0.6666666666666666, \"#ed7953\"], [0.7777777777777778, \"#fb9f3a\"], [0.8888888888888888, \"#fdca26\"], [1.0, \"#f0f921\"]], \"type\": \"histogram2d\"}], \"histogram2dcontour\": [{\"colorbar\": {\"outlinewidth\": 0, \"ticks\": \"\"}, \"colorscale\": [[0.0, \"#0d0887\"], [0.1111111111111111, \"#46039f\"], [0.2222222222222222, \"#7201a8\"], [0.3333333333333333, \"#9c179e\"], [0.4444444444444444, \"#bd3786\"], [0.5555555555555556, \"#d8576b\"], [0.6666666666666666, \"#ed7953\"], [0.7777777777777778, \"#fb9f3a\"], [0.8888888888888888, \"#fdca26\"], [1.0, \"#f0f921\"]], \"type\": \"histogram2dcontour\"}], \"mesh3d\": [{\"colorbar\": {\"outlinewidth\": 0, \"ticks\": \"\"}, \"type\": \"mesh3d\"}], \"parcoords\": [{\"line\": {\"colorbar\": {\"outlinewidth\": 0, \"ticks\": \"\"}}, \"type\": \"parcoords\"}], \"pie\": [{\"automargin\": true, \"type\": \"pie\"}], \"scatter\": [{\"marker\": {\"colorbar\": {\"outlinewidth\": 0, \"ticks\": \"\"}}, \"type\": \"scatter\"}], \"scatter3d\": [{\"line\": {\"colorbar\": {\"outlinewidth\": 0, \"ticks\": \"\"}}, \"marker\": {\"colorbar\": {\"outlinewidth\": 0, \"ticks\": \"\"}}, \"type\": \"scatter3d\"}], \"scattercarpet\": [{\"marker\": {\"colorbar\": {\"outlinewidth\": 0, \"ticks\": \"\"}}, \"type\": \"scattercarpet\"}], \"scattergeo\": [{\"marker\": {\"colorbar\": {\"outlinewidth\": 0, \"ticks\": \"\"}}, \"type\": \"scattergeo\"}], \"scattergl\": [{\"marker\": {\"colorbar\": {\"outlinewidth\": 0, \"ticks\": \"\"}}, \"type\": \"scattergl\"}], \"scattermapbox\": [{\"marker\": {\"colorbar\": {\"outlinewidth\": 0, \"ticks\": \"\"}}, \"type\": \"scattermapbox\"}], \"scatterpolar\": [{\"marker\": {\"colorbar\": {\"outlinewidth\": 0, \"ticks\": \"\"}}, \"type\": \"scatterpolar\"}], \"scatterpolargl\": [{\"marker\": {\"colorbar\": {\"outlinewidth\": 0, \"ticks\": \"\"}}, \"type\": \"scatterpolargl\"}], \"scatterternary\": [{\"marker\": {\"colorbar\": {\"outlinewidth\": 0, \"ticks\": \"\"}}, \"type\": \"scatterternary\"}], \"surface\": [{\"colorbar\": {\"outlinewidth\": 0, \"ticks\": \"\"}, \"colorscale\": [[0.0, \"#0d0887\"], [0.1111111111111111, \"#46039f\"], [0.2222222222222222, \"#7201a8\"], [0.3333333333333333, \"#9c179e\"], [0.4444444444444444, \"#bd3786\"], [0.5555555555555556, \"#d8576b\"], [0.6666666666666666, \"#ed7953\"], [0.7777777777777778, \"#fb9f3a\"], [0.8888888888888888, \"#fdca26\"], [1.0, \"#f0f921\"]], \"type\": \"surface\"}], \"table\": [{\"cells\": {\"fill\": {\"color\": \"#EBF0F8\"}, \"line\": {\"color\": \"white\"}}, \"header\": {\"fill\": {\"color\": \"#C8D4E3\"}, \"line\": {\"color\": \"white\"}}, \"type\": \"table\"}]}, \"layout\": {\"annotationdefaults\": {\"arrowcolor\": \"#2a3f5f\", \"arrowhead\": 0, \"arrowwidth\": 1}, \"coloraxis\": {\"colorbar\": {\"outlinewidth\": 0, \"ticks\": \"\"}}, \"colorscale\": {\"diverging\": [[0, \"#8e0152\"], [0.1, \"#c51b7d\"], [0.2, \"#de77ae\"], [0.3, \"#f1b6da\"], [0.4, \"#fde0ef\"], [0.5, \"#f7f7f7\"], [0.6, \"#e6f5d0\"], [0.7, \"#b8e186\"], [0.8, \"#7fbc41\"], [0.9, \"#4d9221\"], [1, \"#276419\"]], \"sequential\": [[0.0, \"#0d0887\"], [0.1111111111111111, \"#46039f\"], [0.2222222222222222, \"#7201a8\"], [0.3333333333333333, \"#9c179e\"], [0.4444444444444444, \"#bd3786\"], [0.5555555555555556, \"#d8576b\"], [0.6666666666666666, \"#ed7953\"], [0.7777777777777778, \"#fb9f3a\"], [0.8888888888888888, \"#fdca26\"], [1.0, \"#f0f921\"]], \"sequentialminus\": [[0.0, \"#0d0887\"], [0.1111111111111111, \"#46039f\"], [0.2222222222222222, \"#7201a8\"], [0.3333333333333333, \"#9c179e\"], [0.4444444444444444, \"#bd3786\"], [0.5555555555555556, \"#d8576b\"], [0.6666666666666666, \"#ed7953\"], [0.7777777777777778, \"#fb9f3a\"], [0.8888888888888888, \"#fdca26\"], [1.0, \"#f0f921\"]]}, \"colorway\": [\"#636efa\", \"#EF553B\", \"#00cc96\", \"#ab63fa\", \"#FFA15A\", \"#19d3f3\", \"#FF6692\", \"#B6E880\", \"#FF97FF\", \"#FECB52\"], \"font\": {\"color\": \"#2a3f5f\"}, \"geo\": {\"bgcolor\": \"white\", \"lakecolor\": \"white\", \"landcolor\": \"#E5ECF6\", \"showlakes\": true, \"showland\": true, \"subunitcolor\": \"white\"}, \"hoverlabel\": {\"align\": \"left\"}, \"hovermode\": \"closest\", \"mapbox\": {\"style\": \"light\"}, \"paper_bgcolor\": \"white\", \"plot_bgcolor\": \"#E5ECF6\", \"polar\": {\"angularaxis\": {\"gridcolor\": \"white\", \"linecolor\": \"white\", \"ticks\": \"\"}, \"bgcolor\": \"#E5ECF6\", \"radialaxis\": {\"gridcolor\": \"white\", \"linecolor\": \"white\", \"ticks\": \"\"}}, \"scene\": {\"xaxis\": {\"backgroundcolor\": \"#E5ECF6\", \"gridcolor\": \"white\", \"gridwidth\": 2, \"linecolor\": \"white\", \"showbackground\": true, \"ticks\": \"\", \"zerolinecolor\": \"white\"}, \"yaxis\": {\"backgroundcolor\": \"#E5ECF6\", \"gridcolor\": \"white\", \"gridwidth\": 2, \"linecolor\": \"white\", \"showbackground\": true, \"ticks\": \"\", \"zerolinecolor\": \"white\"}, \"zaxis\": {\"backgroundcolor\": \"#E5ECF6\", \"gridcolor\": \"white\", \"gridwidth\": 2, \"linecolor\": \"white\", \"showbackground\": true, \"ticks\": \"\", \"zerolinecolor\": \"white\"}}, \"shapedefaults\": {\"line\": {\"color\": \"#2a3f5f\"}}, \"ternary\": {\"aaxis\": {\"gridcolor\": \"white\", \"linecolor\": \"white\", \"ticks\": \"\"}, \"baxis\": {\"gridcolor\": \"white\", \"linecolor\": \"white\", \"ticks\": \"\"}, \"bgcolor\": \"#E5ECF6\", \"caxis\": {\"gridcolor\": \"white\", \"linecolor\": \"white\", \"ticks\": \"\"}}, \"title\": {\"x\": 0.05}, \"xaxis\": {\"automargin\": true, \"gridcolor\": \"white\", \"linecolor\": \"white\", \"ticks\": \"\", \"title\": {\"standoff\": 15}, \"zerolinecolor\": \"white\", \"zerolinewidth\": 2}, \"yaxis\": {\"automargin\": true, \"gridcolor\": \"white\", \"linecolor\": \"white\", \"ticks\": \"\", \"title\": {\"standoff\": 15}, \"zerolinecolor\": \"white\", \"zerolinewidth\": 2}}}, \"title\": {\"font\": {\"color\": \"#4D5663\"}, \"text\": \"Top 20 Part-of-speech tagging for review corpus\"}, \"xaxis\": {\"gridcolor\": \"#E1E5ED\", \"showgrid\": true, \"tickfont\": {\"color\": \"#4D5663\"}, \"title\": {\"font\": {\"color\": \"#4D5663\"}, \"text\": \"POS\"}, \"zerolinecolor\": \"#E1E5ED\"}, \"yaxis\": {\"gridcolor\": \"#E1E5ED\", \"showgrid\": true, \"tickfont\": {\"color\": \"#4D5663\"}, \"title\": {\"font\": {\"color\": \"#4D5663\"}, \"text\": \"count\"}, \"zerolinecolor\": \"#E1E5ED\"}},\n",
       "                        {\"showLink\": true, \"linkText\": \"Export to plot.ly\", \"plotlyServerURL\": \"https://plot.ly\", \"responsive\": true}\n",
       "                    ).then(function(){\n",
       "                            \n",
       "var gd = document.getElementById('01ce0ab3-d491-4992-8242-27cc2dbb4731');\n",
       "var x = new MutationObserver(function (mutations, observer) {{\n",
       "        var display = window.getComputedStyle(gd).display;\n",
       "        if (!display || display === 'none') {{\n",
       "            console.log([gd, 'removed!']);\n",
       "            Plotly.purge(gd);\n",
       "            observer.disconnect();\n",
       "        }}\n",
       "}});\n",
       "\n",
       "// Listen for the removal of the full notebook cells\n",
       "var notebookContainer = gd.closest('#notebook-container');\n",
       "if (notebookContainer) {{\n",
       "    x.observe(notebookContainer, {childList: true});\n",
       "}}\n",
       "\n",
       "// Listen for the clearing of the current output cell\n",
       "var outputEl = gd.closest('.output');\n",
       "if (outputEl) {{\n",
       "    x.observe(outputEl, {childList: true});\n",
       "}}\n",
       "\n",
       "                        })\n",
       "                };\n",
       "                });\n",
       "            </script>\n",
       "        </div>"
      ]
     },
     "metadata": {},
     "output_type": "display_data"
    }
   ],
   "source": [
    "plot_model(lda, plot='pos')"
   ]
  },
  {
   "cell_type": "code",
   "execution_count": 21,
   "metadata": {},
   "outputs": [
    {
     "data": {
      "application/vnd.plotly.v1+json": {
       "config": {
        "plotlyServerURL": "https://plot.ly"
       },
       "data": [
        {
         "hoverlabel": {
          "namelength": 0
         },
         "hovertemplate": "Dominant_Topic=Topic 0<br>0=%{x}<br>1=%{y}<br>2=%{z}",
         "legendgroup": "Dominant_Topic=Topic 0",
         "marker": {
          "color": "#636efa",
          "opacity": 0.7,
          "symbol": "circle"
         },
         "mode": "markers",
         "name": "Dominant_Topic=Topic 0",
         "scene": "scene",
         "showlegend": true,
         "type": "scatter3d",
         "x": [
          3.8077733516693115,
          3.165261745452881,
          3.544184684753418,
          3.411118984222412,
          3.482766628265381,
          1.0367850065231323,
          3.472566604614258,
          3.4285497665405273,
          2.7364823818206787,
          3.211965799331665,
          2.9853062629699707,
          2.0240437984466553,
          3.7020204067230225,
          1.617518663406372,
          1.9212971925735474,
          2.0533595085144043,
          1.0905499458312988,
          2.955883741378784,
          3.4697928428649902,
          1.6878950595855713,
          0.635659396648407,
          0.6315953135490417,
          3.145827531814575,
          3.824556589126587,
          3.11928129196167,
          2.0019021034240723,
          3.1207332611083984,
          3.544224977493286,
          3.0977864265441895,
          1.7150532007217407,
          1.567366361618042,
          1.7584075927734375,
          1.0133122205734253,
          0.34079357981681824,
          2.283895492553711,
          1.1938315629959106,
          2.908029556274414,
          2.530498743057251,
          1.9855066537857056,
          3.1029317378997803,
          1.5513379573822021,
          1.160445213317871,
          1.7396498918533325,
          2.87841534614563,
          1.6954972743988037,
          3.5178864002227783,
          3.513221502304077,
          2.4744350910186768
         ],
         "y": [
          -8.049022674560547,
          -9.143962860107422,
          -10.055709838867188,
          -10.246344566345215,
          -10.32097053527832,
          -10.06844711303711,
          -9.344849586486816,
          -10.239944458007812,
          -7.669942855834961,
          -9.111063957214355,
          -11.463384628295898,
          -7.780116558074951,
          -8.178832054138184,
          -9.980886459350586,
          -11.016458511352539,
          -10.84925365447998,
          -8.612778663635254,
          -11.415050506591797,
          -10.423286437988281,
          -10.28177547454834,
          -9.564129829406738,
          -9.673489570617676,
          -7.929986476898193,
          -8.385600090026855,
          -10.763875007629395,
          -8.404497146606445,
          -8.221513748168945,
          -9.635448455810547,
          -10.881799697875977,
          -9.273406982421875,
          -10.456830024719238,
          -10.509958267211914,
          -8.784008026123047,
          -9.206705093383789,
          -7.698904514312744,
          -8.229251861572266,
          -11.14441967010498,
          -10.249289512634277,
          -10.060723304748535,
          -7.969610214233398,
          -10.427238464355469,
          -9.930432319641113,
          -10.403837203979492,
          -11.001171112060547,
          -10.859875679016113,
          -10.159259796142578,
          -9.878907203674316,
          -8.865133285522461
         ],
         "z": [
          -6.034675598144531,
          -7.459781646728516,
          -7.053264141082764,
          -6.7692461013793945,
          -6.801164150238037,
          -3.4882423877716064,
          -7.483327388763428,
          -6.799514293670654,
          -3.8299481868743896,
          -7.515320777893066,
          -5.374068260192871,
          -2.01042103767395,
          -6.158195972442627,
          -4.865034580230713,
          -4.083585739135742,
          -4.539937496185303,
          -4.981161117553711,
          -5.3694658279418945,
          -6.735591888427734,
          -4.502982139587402,
          -3.1866238117218018,
          -2.9984192848205566,
          -4.595871925354004,
          -6.319039344787598,
          -6.025856018066406,
          -5.579129695892334,
          -5.665292739868164,
          -7.379122257232666,
          -5.953357219696045,
          -5.634393692016602,
          -4.175487995147705,
          -4.471438407897949,
          -5.338722229003906,
          -3.4924440383911133,
          -2.253575325012207,
          -1.6507209539413452,
          -5.510204315185547,
          -5.7796759605407715,
          -5.274648666381836,
          -4.410182476043701,
          -4.1775360107421875,
          -3.021815299987793,
          -4.5659027099609375,
          -5.577906608581543,
          -3.811419725418091,
          -6.950163841247559,
          -7.07417631149292,
          -5.973911762237549
         ]
        },
        {
         "hoverlabel": {
          "namelength": 0
         },
         "hovertemplate": "Dominant_Topic=Topic 1<br>0=%{x}<br>1=%{y}<br>2=%{z}",
         "legendgroup": "Dominant_Topic=Topic 1",
         "marker": {
          "color": "#EF553B",
          "opacity": 0.7,
          "symbol": "circle"
         },
         "mode": "markers",
         "name": "Dominant_Topic=Topic 1",
         "scene": "scene",
         "showlegend": true,
         "type": "scatter3d",
         "x": [
          7.20258903503418,
          10.673269271850586,
          7.109888553619385,
          8.82598876953125,
          10.576499938964844,
          12.386940956115723,
          9.168351173400879,
          10.909987449645996,
          8.372044563293457,
          11.161221504211426,
          10.452454566955566,
          9.691040992736816,
          7.4327287673950195,
          8.193739891052246,
          9.141444206237793,
          7.621838092803955,
          8.07901668548584,
          6.104913711547852,
          8.481110572814941,
          6.470698356628418,
          8.6634521484375,
          7.5203142166137695,
          12.341703414916992,
          10.572312355041504,
          9.270492553710938,
          8.452343940734863,
          11.045509338378906,
          4.669529914855957,
          5.659085273742676,
          10.134682655334473,
          8.925396919250488,
          10.067041397094727,
          7.077038288116455,
          9.960129737854004,
          13.166921615600586,
          10.927425384521484,
          10.292656898498535,
          12.419846534729004,
          11.562016487121582,
          5.757546424865723,
          12.378832817077637,
          7.35218620300293,
          10.84442138671875,
          10.271862983703613,
          8.01239013671875,
          10.446383476257324,
          10.712753295898438,
          10.770527839660645,
          8.318793296813965,
          8.980351448059082,
          6.9604597091674805,
          8.855730056762695,
          4.920549392700195,
          13.560059547424316,
          8.723048210144043,
          11.253178596496582,
          8.523448944091797,
          8.646801948547363,
          9.89535903930664,
          9.979576110839844,
          11.069280624389648,
          11.022249221801758,
          10.800525665283203,
          7.381127834320068,
          11.124738693237305,
          8.47377872467041,
          11.121153831481934,
          10.364456176757812,
          13.514737129211426,
          7.590771675109863,
          8.24819278717041,
          10.256943702697754,
          7.486438274383545,
          10.515170097351074,
          5.863339424133301,
          13.824458122253418,
          5.976798057556152,
          6.140801429748535,
          10.572344779968262,
          10.143911361694336,
          10.175576210021973,
          11.431112289428711,
          10.185114860534668,
          10.268319129943848,
          11.845621109008789,
          10.10619068145752,
          7.725613117218018,
          8.234736442565918,
          10.088220596313477,
          11.221237182617188,
          7.32756233215332,
          11.526386260986328,
          7.7267327308654785,
          7.460741996765137,
          13.40898609161377,
          12.034266471862793,
          10.975325584411621,
          8.326258659362793,
          8.437625885009766,
          11.025140762329102,
          10.419814109802246,
          7.020489692687988,
          12.711074829101562,
          12.25026798248291,
          8.692770957946777,
          7.509525775909424,
          10.93394947052002,
          12.964104652404785,
          13.795404434204102,
          10.361111640930176,
          13.27883529663086,
          12.84822940826416,
          13.789329528808594,
          7.626318454742432,
          13.404509544372559,
          10.048144340515137,
          10.027371406555176,
          10.664512634277344,
          11.216524124145508,
          6.759885311126709,
          10.972118377685547,
          9.354796409606934,
          10.421751976013184,
          7.186334609985352,
          12.476401329040527,
          12.512383460998535,
          9.367384910583496,
          8.363524436950684,
          10.080573081970215,
          10.153210639953613,
          7.650132179260254,
          9.750279426574707,
          11.02892780303955,
          7.931300640106201,
          7.508638381958008,
          8.402029037475586,
          11.469141006469727,
          7.9909138679504395,
          7.972731113433838,
          7.862285137176514,
          10.010591506958008,
          13.168267250061035,
          7.921192169189453,
          6.730196475982666,
          11.87022590637207,
          9.224417686462402,
          7.233717441558838,
          6.978283882141113,
          11.706282615661621,
          12.813298225402832,
          8.086297035217285,
          6.698023319244385,
          10.5138521194458,
          8.78879451751709,
          6.298809051513672,
          8.227378845214844,
          12.17702579498291,
          10.58047103881836,
          10.624761581420898,
          10.366378784179688,
          9.56132698059082,
          11.121252059936523,
          10.625659942626953,
          5.709228515625,
          12.695330619812012,
          10.723445892333984,
          11.206311225891113,
          11.879413604736328,
          7.247871398925781,
          9.077873229980469,
          9.284154891967773,
          8.305906295776367,
          12.772324562072754,
          10.902243614196777,
          10.213847160339355,
          9.781831741333008,
          12.333022117614746,
          9.72364330291748,
          8.052453994750977,
          9.797987937927246,
          10.606679916381836,
          9.467522621154785,
          7.896459102630615,
          8.860551834106445,
          10.918964385986328,
          10.160811424255371,
          10.9244384765625,
          11.276498794555664,
          7.999386310577393,
          7.420190811157227,
          12.330626487731934,
          11.117377281188965,
          9.925660133361816,
          4.90745735168457,
          9.101778030395508,
          9.06986141204834,
          8.446260452270508,
          11.360557556152344,
          11.858850479125977,
          7.501314163208008,
          11.796451568603516,
          9.802188873291016,
          11.424607276916504,
          9.086000442504883,
          13.053620338439941,
          12.13965129852295,
          11.120088577270508,
          8.81090259552002,
          12.641274452209473,
          7.294922351837158,
          8.71729564666748,
          9.212994575500488,
          7.998770236968994,
          8.028581619262695,
          6.796662330627441,
          7.365527629852295,
          8.810318946838379,
          11.138914108276367,
          5.970845699310303,
          10.38185977935791,
          7.728646755218506,
          7.962606430053711,
          11.443643569946289,
          11.745840072631836,
          10.895479202270508,
          7.645349025726318,
          10.559337615966797,
          8.782976150512695,
          9.515246391296387,
          5.702888011932373,
          10.397968292236328,
          10.854934692382812,
          6.894761562347412,
          11.987215042114258,
          11.056549072265625,
          10.057218551635742,
          11.094992637634277,
          9.42444896697998,
          6.609132289886475,
          11.11696720123291,
          12.819958686828613,
          12.780415534973145,
          11.748764038085938,
          12.445643424987793,
          8.291276931762695,
          8.409184455871582,
          12.78622055053711,
          8.75702953338623,
          8.513701438903809,
          11.522704124450684,
          9.835326194763184,
          11.850266456604004,
          11.344717025756836,
          12.840800285339355,
          11.578200340270996,
          5.530338764190674,
          6.703689098358154,
          12.880996704101562,
          10.670303344726562,
          10.667366027832031,
          11.850967407226562,
          10.216949462890625,
          10.09043025970459,
          5.200315952301025,
          13.178013801574707,
          11.591145515441895,
          6.437227725982666,
          13.767766952514648,
          13.432229995727539,
          12.727522850036621,
          9.767045021057129,
          4.138671398162842,
          11.500663757324219,
          11.555768966674805,
          13.410433769226074,
          12.220966339111328,
          11.886153221130371,
          7.447027206420898,
          13.627931594848633,
          10.646718978881836,
          8.176183700561523,
          10.78377914428711,
          7.650813102722168,
          7.797396183013916,
          10.120977401733398,
          10.274032592773438,
          7.143024921417236,
          10.72705078125,
          11.4710054397583,
          13.133442878723145,
          8.117303848266602,
          10.908063888549805,
          10.323491096496582,
          10.802190780639648,
          10.265525817871094,
          10.383654594421387,
          6.596135139465332,
          13.066140174865723,
          10.571606636047363,
          8.613702774047852,
          11.710564613342285,
          9.591936111450195,
          13.762886047363281,
          12.215254783630371,
          8.25767707824707,
          8.638864517211914,
          7.709364891052246,
          10.48110294342041,
          9.226317405700684,
          13.63426685333252,
          10.691869735717773,
          12.059978485107422,
          7.98033332824707,
          6.807697296142578,
          9.725030899047852,
          8.81691837310791,
          6.614349365234375,
          10.522407531738281,
          7.564596176147461,
          8.549346923828125,
          13.167217254638672,
          10.3688383102417,
          10.631964683532715,
          7.127760410308838,
          9.812277793884277,
          10.741230964660645,
          11.24484920501709,
          13.319679260253906,
          7.9474077224731445,
          10.89676570892334,
          8.673426628112793,
          9.83995532989502,
          13.647103309631348,
          7.335793972015381,
          10.645407676696777,
          7.406023979187012,
          11.751604080200195,
          9.54288387298584,
          13.667266845703125,
          13.820296287536621,
          11.52225112915039,
          12.593567848205566,
          9.228943824768066,
          11.777911186218262,
          10.05807113647461,
          8.207645416259766,
          9.027297019958496,
          9.597186088562012,
          13.148935317993164,
          11.845281600952148,
          13.179157257080078,
          8.922015190124512,
          7.466492176055908,
          10.636191368103027,
          11.612591743469238,
          11.662087440490723,
          10.712931632995605,
          12.420442581176758,
          12.083456039428711,
          6.946420192718506,
          12.971891403198242,
          11.635193824768066,
          13.873719215393066,
          7.695284366607666,
          11.034760475158691,
          13.279366493225098,
          5.697257041931152,
          13.859169960021973,
          10.530805587768555,
          6.535911560058594,
          9.81580638885498,
          6.508448123931885,
          13.776104927062988,
          9.324057579040527,
          13.600508689880371,
          7.563541889190674,
          11.462708473205566,
          10.173693656921387,
          11.575494766235352,
          11.184489250183105,
          8.209599494934082,
          7.867253303527832,
          10.253595352172852,
          11.051117897033691,
          8.367095947265625,
          8.27531909942627,
          9.081374168395996,
          9.938529014587402,
          10.038795471191406,
          7.1654205322265625,
          13.401764869689941,
          10.99843978881836,
          9.714195251464844,
          8.150359153747559,
          7.383041858673096,
          12.878074645996094,
          8.611237525939941,
          10.885771751403809,
          10.090899467468262,
          7.1616692543029785,
          12.867691993713379,
          11.008988380432129,
          7.930302143096924
         ],
         "y": [
          -3.314075231552124,
          6.662924766540527,
          0.25197717547416687,
          -8.027531623840332,
          -1.3619656562805176,
          7.257645130157471,
          -3.482088088989258,
          6.923111915588379,
          4.258236408233643,
          7.076313495635986,
          6.156472682952881,
          3.6978201866149902,
          3.6317837238311768,
          -3.4652469158172607,
          3.578864097595215,
          -0.6905388832092285,
          -4.6114301681518555,
          -3.513683319091797,
          4.291411876678467,
          2.6408207416534424,
          -4.739630222320557,
          -3.0924503803253174,
          7.282420635223389,
          4.288148403167725,
          -0.3743313252925873,
          -2.565796375274658,
          0.9872919917106628,
          -4.44387674331665,
          -3.0084221363067627,
          -2.4714019298553467,
          0.9243245124816895,
          -2.0345442295074463,
          -3.702479124069214,
          5.0100507736206055,
          6.742593765258789,
          2.9084014892578125,
          0.8310713768005371,
          7.14732551574707,
          3.258749008178711,
          -3.994720458984375,
          7.063014984130859,
          -4.527599334716797,
          3.49748158454895,
          -1.8722538948059082,
          0.060997944325208664,
          4.084444522857666,
          3.951716184616089,
          6.803858757019043,
          -0.9539241194725037,
          -3.6130311489105225,
          -4.790768623352051,
          0.45613303780555725,
          -4.6882758140563965,
          6.01161003112793,
          -2.205109119415283,
          2.008132219314575,
          -4.933613300323486,
          -7.933867931365967,
          2.631659984588623,
          -2.1225905418395996,
          2.912896156311035,
          0.7121710777282715,
          0.18174508213996887,
          -5.078568458557129,
          -1.0824772119522095,
          -1.629518985748291,
          3.082282543182373,
          -1.8584098815917969,
          6.394302845001221,
          1.3238760232925415,
          -3.4311575889587402,
          -2.270491123199463,
          -1.6775814294815063,
          -0.9356610178947449,
          -5.150166988372803,
          6.18317174911499,
          -4.238572120666504,
          -5.18983793258667,
          3.624542474746704,
          0.6815811395645142,
          -0.1161348819732666,
          3.060757637023926,
          -1.6284918785095215,
          -1.8911221027374268,
          0.1959659457206726,
          -2.3198530673980713,
          3.8689801692962646,
          -4.279672622680664,
          5.790701389312744,
          4.275918960571289,
          -6.4837212562561035,
          -0.4790152907371521,
          0.005479751620441675,
          -4.549922466278076,
          6.647644519805908,
          7.079761981964111,
          0.7357732653617859,
          -7.377971649169922,
          -2.9593584537506104,
          3.222238302230835,
          5.628986358642578,
          -5.246514797210693,
          7.163202285766602,
          7.18867301940918,
          -4.703075408935547,
          -4.3250508308410645,
          6.871211051940918,
          6.788985729217529,
          6.198285102844238,
          -1.891265630722046,
          6.724335670471191,
          5.457067489624023,
          6.171156406402588,
          -1.3587219715118408,
          6.568084716796875,
          -2.464374542236328,
          3.4911653995513916,
          -0.8408684134483337,
          0.1373315453529358,
          3.2248332500457764,
          7.007015705108643,
          5.008512496948242,
          0.48135805130004883,
          -1.9380462169647217,
          7.2912163734436035,
          1.0633220672607422,
          -0.34808361530303955,
          -1.1878077983856201,
          -1.6524500846862793,
          -1.9425815343856812,
          -4.759132385253906,
          2.635225772857666,
          1.6704925298690796,
          -4.633534908294678,
          3.740100860595703,
          -4.367128372192383,
          4.077121734619141,
          -1.6001932621002197,
          0.5145302414894104,
          -0.6060324907302856,
          0.9108671545982361,
          6.746105194091797,
          -7.635925769805908,
          3.19350004196167,
          3.3826944828033447,
          4.108501434326172,
          -6.431841850280762,
          3.037278890609741,
          4.144466876983643,
          7.1227922439575195,
          -2.5906589031219482,
          0.27779752016067505,
          -1.2359585762023926,
          5.107017993927002,
          -5.663626194000244,
          -3.1366195678710938,
          3.480799913406372,
          4.447806358337402,
          3.314025402069092,
          4.541110992431641,
          -2.9543073177337646,
          0.927314817905426,
          -1.199180245399475,
          -4.139124393463135,
          0.43912360072135925,
          3.735184669494629,
          3.0007448196411133,
          4.4880170822143555,
          -4.64422082901001,
          5.033149242401123,
          5.165678977966309,
          2.645332098007202,
          5.947188854217529,
          -0.8397486805915833,
          5.202500343322754,
          -1.8656944036483765,
          6.868668079376221,
          1.0519694089889526,
          -1.3926042318344116,
          3.72068452835083,
          1.61807382106781,
          -3.1616718769073486,
          3.824078321456909,
          3.0831031799316406,
          -1.1669647693634033,
          0.8546311259269714,
          6.955234050750732,
          3.5137693881988525,
          -7.806864261627197,
          -1.0621243715286255,
          5.883217811584473,
          1.3425846099853516,
          5.401144981384277,
          -4.316314220428467,
          -0.45228877663612366,
          4.707276344299316,
          -0.8883070945739746,
          7.081921577453613,
          3.505094051361084,
          -4.46293830871582,
          3.3844900131225586,
          -2.5703279972076416,
          -1.6036783456802368,
          0.5169243216514587,
          7.101811408996582,
          7.2904052734375,
          6.398571968078613,
          1.0132356882095337,
          0.3744853138923645,
          3.2605721950531006,
          -0.883427083492279,
          4.832723617553711,
          -7.867705345153809,
          0.4424808919429779,
          3.2295265197753906,
          -4.655352592468262,
          4.442458152770996,
          6.451516151428223,
          -1.6997933387756348,
          -1.7783167362213135,
          -5.088922023773193,
          -1.3941433429718018,
          7.088542461395264,
          -0.756682276725769,
          6.832301139831543,
          3.510744333267212,
          -0.6553356647491455,
          0.46117478609085083,
          4.596273422241211,
          -4.186946392059326,
          6.18209981918335,
          1.94203782081604,
          0.8556495308876038,
          5.6720757484436035,
          1.1151617765426636,
          -2.3543732166290283,
          7.008684158325195,
          4.779929161071777,
          -5.237565040588379,
          1.2773785591125488,
          7.196688175201416,
          5.76085901260376,
          6.315936088562012,
          7.2340168952941895,
          -7.167754173278809,
          -1.8651753664016724,
          5.798123836517334,
          -0.5256118774414062,
          -2.944281816482544,
          4.639650821685791,
          4.8604841232299805,
          5.401655197143555,
          -0.2612318694591522,
          7.001899242401123,
          6.086299419403076,
          -2.553377151489258,
          0.05623401701450348,
          6.978285312652588,
          -0.3300482928752899,
          -1.1328840255737305,
          7.063303470611572,
          -2.1411361694335938,
          -2.392622709274292,
          -4.506944179534912,
          6.724839687347412,
          4.4117889404296875,
          3.016190767288208,
          6.1240034103393555,
          6.5052690505981445,
          7.209788799285889,
          3.4217441082000732,
          -7.660797595977783,
          4.698989391326904,
          4.488304615020752,
          6.554391860961914,
          7.147936820983887,
          7.144285678863525,
          -4.773950099945068,
          6.276915073394775,
          1.5947229862213135,
          -3.589808464050293,
          6.7010698318481445,
          -4.632989883422852,
          -1.1228463649749756,
          -1.7756891250610352,
          4.608711242675781,
          -1.4081897735595703,
          -0.46890994906425476,
          4.5695953369140625,
          5.5631937980651855,
          -3.2343287467956543,
          -0.6719202399253845,
          1.105443000793457,
          -0.3419824242591858,
          -2.083151340484619,
          -1.4375314712524414,
          -4.807508945465088,
          5.219126224517822,
          6.483835220336914,
          -2.58333683013916,
          3.5480103492736816,
          1.3470796346664429,
          6.1680121421813965,
          -0.3008418381214142,
          -7.395569801330566,
          -4.777979373931885,
          3.2709550857543945,
          1.509390115737915,
          1.2096222639083862,
          6.028256416320801,
          -0.18591773509979248,
          3.4338321685791016,
          -2.967705249786377,
          -1.4364129304885864,
          -2.6615183353424072,
          -8.082676887512207,
          -4.913664817810059,
          0.36972084641456604,
          0.007692021783441305,
          -2.758021831512451,
          6.840366840362549,
          -1.756736397743225,
          6.410623073577881,
          -4.7779974937438965,
          1.1489453315734863,
          6.7473554611206055,
          2.0192184448242188,
          6.730834007263184,
          -4.992267608642578,
          6.915863990783691,
          4.680450916290283,
          4.930037021636963,
          6.199183940887451,
          -5.998147487640381,
          -0.34187692403793335,
          -4.747629642486572,
          -0.8531487584114075,
          -3.038586139678955,
          6.270753860473633,
          6.161663055419922,
          5.080549716949463,
          7.2018513679504395,
          -3.4870171546936035,
          6.923931121826172,
          3.4497249126434326,
          -0.28125420212745667,
          4.60530948638916,
          3.3009533882141113,
          6.843878746032715,
          7.165312767028809,
          6.785984516143799,
          -1.4482372999191284,
          -4.635215759277344,
          -0.0027688699774444103,
          6.778309345245361,
          7.057031631469727,
          3.9190893173217773,
          7.163089752197266,
          5.723423957824707,
          3.2530932426452637,
          7.002793788909912,
          6.752199649810791,
          6.189930438995361,
          -6.991982460021973,
          0.8616359233856201,
          6.522156238555908,
          -4.064853191375732,
          6.18698263168335,
          -1.4372508525848389,
          3.241649627685547,
          4.941534519195557,
          -4.995141506195068,
          6.162109375,
          -3.374052047729492,
          5.744238376617432,
          -4.3652520179748535,
          6.454833030700684,
          -1.9264928102493286,
          7.035580635070801,
          2.2973194122314453,
          -1.133156180381775,
          -0.9301580786705017,
          0.43952006101608276,
          1.4857045412063599,
          0.4409357011318207,
          -4.780252456665039,
          3.747528553009033,
          -2.622077465057373,
          4.8727335929870605,
          -4.585805416107178,
          6.458464622497559,
          6.982724666595459,
          3.7133047580718994,
          -2.4522626399993896,
          -4.737743854522705,
          6.966047286987305,
          -7.514649391174316,
          6.940341472625732,
          0.1861024796962738,
          -4.706569194793701,
          6.959822177886963,
          2.0360639095306396,
          -4.946043014526367
         ],
         "z": [
          5.2924370765686035,
          5.981398105621338,
          1.8083540201187134,
          8.081721305847168,
          5.493463039398193,
          10.735958099365234,
          9.137138366699219,
          6.665225028991699,
          2.4935452938079834,
          7.322676658630371,
          8.389978408813477,
          3.782384157180786,
          1.5097694396972656,
          6.047834396362305,
          3.049530029296875,
          1.3121352195739746,
          8.5147123336792,
          5.079684734344482,
          2.5165512561798096,
          0.8770038485527039,
          10.813417434692383,
          5.164457321166992,
          10.558363914489746,
          5.597811222076416,
          3.578934669494629,
          4.987086296081543,
          9.684256553649902,
          5.626424789428711,
          2.9258530139923096,
          8.357803344726562,
          2.6777172088623047,
          10.274770736694336,
          5.587255954742432,
          4.304172992706299,
          13.776078224182129,
          6.6990742683410645,
          5.236217498779297,
          10.978171348571777,
          10.309876441955566,
          5.493827819824219,
          11.41145133972168,
          6.176926136016846,
          6.326874256134033,
          9.745426177978516,
          2.24003529548645,
          5.188007354736328,
          6.172481536865234,
          6.345882892608643,
          2.4060473442077637,
          8.086298942565918,
          7.7634406089782715,
          2.6618175506591797,
          6.255562782287598,
          15.526566505432129,
          0.7302342653274536,
          9.892755508422852,
          10.734797477722168,
          8.377323150634766,
          3.9670796394348145,
          6.868024826049805,
          7.4279465675354,
          8.433755874633789,
          10.460766792297363,
          9.147618293762207,
          6.814844608306885,
          2.7209537029266357,
          7.673593521118164,
          9.182229042053223,
          15.151761054992676,
          1.754265308380127,
          6.050300121307373,
          7.1146769523620605,
          -0.03353697806596756,
          10.293457984924316,
          7.723215579986572,
          16.41507339477539,
          3.094487428665161,
          8.007140159606934,
          5.460995674133301,
          4.882277488708496,
          5.4369049072265625,
          9.731428146362305,
          10.531837463378906,
          7.483539581298828,
          6.775427341461182,
          9.218599319458008,
          1.7552520036697388,
          8.592968940734863,
          4.528895854949951,
          7.949428558349609,
          9.252677917480469,
          8.339560508728027,
          1.9870612621307373,
          6.390651702880859,
          14.64462947845459,
          10.02199935913086,
          9.919490814208984,
          8.666656494140625,
          0.232969269156456,
          7.197977066040039,
          5.338460445404053,
          8.747722625732422,
          11.984596252441406,
          10.351670265197754,
          10.852476119995117,
          6.515763759613037,
          6.786088466644287,
          13.080231666564941,
          16.292722702026367,
          8.992712020874023,
          14.159326553344727,
          13.502937316894531,
          16.283132553100586,
          2.901808023452759,
          14.678394317626953,
          8.205405235290527,
          4.141562461853027,
          6.858059883117676,
          7.153896808624268,
          0.8878974318504333,
          6.789159297943115,
          5.303016662597656,
          6.05916166305542,
          3.3038206100463867,
          11.004018783569336,
          6.557448387145996,
          3.728278398513794,
          3.106661319732666,
          6.425473690032959,
          10.117900848388672,
          8.712231636047363,
          3.7427663803100586,
          7.015835762023926,
          7.338074684143066,
          1.4697827100753784,
          8.502006530761719,
          9.186125755310059,
          0.13811489939689636,
          2.0633976459503174,
          1.4622859954833984,
          4.439052581787109,
          13.789118766784668,
          9.109454154968262,
          0.7846496105194092,
          11.059244155883789,
          3.6069581508636475,
          9.53818130493164,
          0.627509593963623,
          10.310863494873047,
          12.349740028381348,
          0.02423783764243126,
          1.6606292724609375,
          6.388050079345703,
          5.477658271789551,
          8.928086280822754,
          5.611041069030762,
          11.984408378601074,
          5.639938831329346,
          6.2375168800354,
          5.085330963134766,
          10.355522155761719,
          7.496371269226074,
          9.677284240722656,
          3.0725631713867188,
          4.553361892700195,
          6.029423236846924,
          8.216609001159668,
          10.550420761108398,
          3.602755546569824,
          5.164034366607666,
          3.58638334274292,
          2.171119213104248,
          12.985137939453125,
          6.079795837402344,
          4.789803981781006,
          5.421103477478027,
          10.68667221069336,
          3.8163816928863525,
          3.111834764480591,
          4.05111026763916,
          5.376351356506348,
          9.01076889038086,
          1.9159101247787476,
          2.701314926147461,
          5.777390003204346,
          4.870371341705322,
          6.682036876678467,
          9.530953407287598,
          8.998696327209473,
          1.344170093536377,
          11.814854621887207,
          7.944472312927246,
          4.2591776847839355,
          5.348179340362549,
          3.373453378677368,
          4.052989482879639,
          2.8697662353515625,
          7.864227294921875,
          10.971022605895996,
          6.162410736083984,
          10.833037376403809,
          10.109001159667969,
          7.214672088623047,
          2.916597366333008,
          13.164787292480469,
          9.905861854553223,
          8.157025337219238,
          2.516319513320923,
          4.71089506149292,
          0.6306349635124207,
          3.199974775314331,
          4.012742519378662,
          8.975042343139648,
          2.1137654781341553,
          0.78729248046875,
          7.760708332061768,
          2.8910162448883057,
          7.510421276092529,
          2.5358211994171143,
          9.378432273864746,
          9.88992977142334,
          3.054438352584839,
          8.095627784729004,
          6.170476913452148,
          7.37341833114624,
          1.6730036735534668,
          10.583291053771973,
          2.574185371398926,
          4.249958515167236,
          5.749767780303955,
          5.2894487380981445,
          6.159457683563232,
          1.5206433534622192,
          10.384453773498535,
          9.950244903564453,
          7.588057518005371,
          7.187419891357422,
          4.841558456420898,
          8.491628646850586,
          7.661802768707275,
          12.302998542785645,
          13.115033149719238,
          10.831917762756348,
          10.968864440917969,
          8.700736045837402,
          2.2758007049560547,
          13.109182357788086,
          2.100147008895874,
          5.633565902709961,
          9.22096061706543,
          10.686700820922852,
          9.929203033447266,
          8.404086112976074,
          12.536178588867188,
          9.992844581604004,
          2.691781997680664,
          1.7560274600982666,
          12.69571304321289,
          10.519224166870117,
          6.83985710144043,
          9.306461334228516,
          7.912423610687256,
          8.00473690032959,
          6.098320007324219,
          13.825182914733887,
          9.48583698272705,
          0.787601888179779,
          16.228601455688477,
          14.810047149658203,
          11.981772422790527,
          3.7453980445861816,
          4.7224955558776855,
          9.04389476776123,
          9.312244415283203,
          14.706920623779297,
          10.33051586151123,
          9.307018280029297,
          7.691669940948486,
          15.626466751098633,
          5.599675178527832,
          6.2261481285095215,
          6.419618606567383,
          4.225783348083496,
          1.7602269649505615,
          6.7470316886901855,
          4.9953083992004395,
          -0.020594628527760506,
          8.004674911499023,
          8.935234069824219,
          14.357694625854492,
          5.6434149742126465,
          7.545158386230469,
          5.251439571380615,
          8.67860221862793,
          8.878351211547852,
          7.2643656730651855,
          7.449965476989746,
          14.321115493774414,
          5.952799320220947,
          5.1972270011901855,
          10.490607261657715,
          3.552600860595703,
          16.18869400024414,
          5.113054275512695,
          8.761391639709473,
          10.797179222106934,
          1.6934043169021606,
          5.615617752075195,
          3.0161828994750977,
          15.772672653198242,
          10.590991020202637,
          11.618081092834473,
          5.21692419052124,
          0.4346681237220764,
          10.36031436920166,
          8.134209632873535,
          7.794142723083496,
          6.500760078430176,
          2.0886454582214355,
          5.367900848388672,
          13.719722747802734,
          9.529662132263184,
          8.082206726074219,
          4.744389533996582,
          3.986886978149414,
          6.177110195159912,
          9.797041893005371,
          14.295380592346191,
          8.517035484313965,
          6.626249313354492,
          2.7551817893981934,
          10.776238441467285,
          15.737617492675781,
          9.088720321655273,
          10.587398529052734,
          7.971865177154541,
          5.937474727630615,
          9.50657844543457,
          15.772197723388672,
          16.411605834960938,
          9.023775100708008,
          11.54068374633789,
          9.75261116027832,
          9.170186996459961,
          4.180380344390869,
          2.0387136936187744,
          3.210582733154297,
          3.753148317337036,
          13.658089637756348,
          9.186771392822266,
          13.790804862976074,
          1.1105804443359375,
          7.921452045440674,
          5.53817081451416,
          9.336352348327637,
          8.766950607299805,
          5.955771446228027,
          10.971698760986328,
          10.615402221679688,
          0.8769298195838928,
          12.961091041564941,
          9.28475570678711,
          16.600292205810547,
          9.853196144104004,
          7.40244722366333,
          14.285948753356934,
          5.573633670806885,
          16.547164916992188,
          9.187309265136719,
          0.9089699387550354,
          10.809759140014648,
          7.893752574920654,
          16.238649368286133,
          9.724133491516113,
          15.760590553283691,
          7.252546787261963,
          10.99642562866211,
          7.1064653396606445,
          8.651366233825684,
          8.434988021850586,
          2.349721670150757,
          1.5349056720733643,
          4.836909770965576,
          7.511321067810059,
          2.2942237854003906,
          9.455231666564941,
          3.012213945388794,
          7.459670543670654,
          4.465263366699219,
          7.110102653503418,
          14.734684944152832,
          6.911426544189453,
          3.777216911315918,
          0.19607402384281158,
          4.180973052978516,
          12.68755054473877,
          8.431304931640625,
          6.552539348602295,
          4.77707052230835,
          4.657122611999512,
          12.648961067199707,
          7.240666389465332,
          6.9023637771606445
         ]
        },
        {
         "hoverlabel": {
          "namelength": 0
         },
         "hovertemplate": "Dominant_Topic=Topic 2<br>0=%{x}<br>1=%{y}<br>2=%{z}",
         "legendgroup": "Dominant_Topic=Topic 2",
         "marker": {
          "color": "#00cc96",
          "opacity": 0.7,
          "symbol": "circle"
         },
         "mode": "markers",
         "name": "Dominant_Topic=Topic 2",
         "scene": "scene",
         "showlegend": true,
         "type": "scatter3d",
         "x": [
          -4.278753280639648,
          -6.84397554397583,
          -4.201936721801758,
          -4.654232501983643,
          -1.8025730848312378,
          -5.282873153686523,
          -4.6128082275390625,
          -2.6785738468170166,
          -4.182662487030029,
          1.386031985282898,
          -1.573226809501648,
          -4.7480645179748535,
          -6.425816535949707,
          -5.398548603057861,
          -2.901872396469116,
          -3.5364036560058594,
          0.43660247325897217,
          -0.5371909141540527,
          -6.042519569396973,
          -5.869702339172363,
          5.841183662414551,
          -3.708766222000122,
          -4.900045871734619,
          -6.521440505981445,
          -1.7401604652404785,
          -3.9807326793670654,
          -8.251763343811035,
          1.2134917974472046,
          -3.030496120452881,
          -5.9669508934021,
          -5.301216125488281,
          -5.70571231842041,
          -3.3705241680145264,
          1.4795677661895752,
          -6.680526256561279,
          -2.851304769515991,
          -6.666244983673096,
          -2.0293960571289062,
          -3.0736780166625977,
          -5.691083908081055,
          -3.6918914318084717,
          -3.456217050552368,
          -5.699121952056885,
          -4.783069610595703,
          -1.0527658462524414,
          3.821591854095459,
          -5.18042516708374,
          -3.528294086456299,
          0.41724127531051636,
          -1.1679867506027222,
          1.2839592695236206,
          -1.1110869646072388,
          -3.180790424346924,
          -3.305044174194336,
          -5.625190734863281,
          -6.130122184753418,
          0.787464439868927,
          -3.58548903465271,
          -5.198476314544678,
          -3.410935640335083,
          -3.2771859169006348,
          0.5780736804008484,
          -3.5518958568573,
          0.3437651991844177,
          -0.9041680097579956,
          -3.598209857940674,
          1.5207101106643677,
          -3.6889400482177734,
          -1.0089693069458008,
          -0.3686072826385498,
          1.371012568473816,
          -1.5558449029922485,
          -2.121673345565796,
          -1.9662392139434814,
          5.640757083892822,
          -4.078003883361816,
          -3.2900209426879883,
          -6.240898132324219,
          1.4228171110153198,
          -0.9610675573348999,
          2.5806989669799805,
          -5.786108016967773,
          -5.98188591003418,
          -6.861416339874268,
          -2.064899206161499,
          -0.8947802782058716,
          -4.681859970092773,
          -6.103165149688721,
          -3.31215238571167,
          0.2919957935810089,
          -4.895413398742676,
          -6.449824333190918,
          1.3307418823242188,
          -0.9248507618904114,
          -0.7748734951019287,
          -3.7093136310577393,
          -8.582958221435547,
          -5.298656463623047,
          0.9084680080413818,
          -5.145702362060547,
          0.9157024025917053,
          -0.685413122177124,
          1.1423532962799072,
          -5.400899410247803,
          -0.168426513671875,
          -3.48162841796875,
          -5.500261306762695,
          -2.9470674991607666,
          -1.407719373703003,
          1.089576244354248,
          -1.3480690717697144,
          -3.832763910293579,
          -3.459160566329956,
          3.5646567344665527,
          -0.18755708634853363,
          0.8587270975112915,
          -5.682941913604736,
          -5.163620471954346,
          0.19123204052448273,
          -8.492338180541992,
          -6.856045722961426,
          -0.5985110402107239,
          -3.345536708831787,
          2.9644644260406494,
          4.535818576812744,
          -1.935422420501709,
          -2.1656858921051025,
          -7.004729270935059,
          -5.509117126464844,
          -5.424252986907959,
          1.9721885919570923,
          -6.0774641036987305,
          -7.682037353515625,
          -5.382694244384766,
          -1.2120610475540161,
          -2.508051872253418,
          -6.896814823150635,
          -0.6190266013145447,
          -7.028937816619873,
          -4.750088691711426,
          -6.4409403800964355,
          -8.100671768188477,
          -3.2494499683380127,
          -2.5835022926330566,
          -3.850900650024414,
          -6.872763156890869,
          -3.986084222793579,
          -0.8859327435493469,
          -1.017738938331604,
          -3.828512668609619,
          1.3614510297775269,
          -4.776508331298828,
          2.288719892501831,
          -2.777663230895996,
          -7.154104709625244,
          -2.2368781566619873,
          1.2039951086044312,
          -1.2188918590545654,
          -3.2357940673828125,
          -7.944139003753662,
          -2.347454309463501,
          -1.5826129913330078,
          -4.093341827392578,
          -1.2790441513061523,
          1.3451985120773315,
          -2.316964626312256,
          -2.5392260551452637,
          -6.983659744262695,
          -1.1851056814193726,
          -3.78145694732666,
          -1.0479021072387695,
          -2.067553997039795,
          -5.813139915466309,
          -2.9965078830718994,
          -2.3511180877685547,
          2.0424258708953857,
          -2.2695209980010986,
          4.100086212158203,
          -0.5402294993400574,
          -0.6457842588424683,
          3.6787617206573486,
          -3.97994065284729,
          -5.825107574462891,
          -3.7228341102600098,
          -2.3089394569396973,
          -3.0873355865478516,
          -6.394077777862549,
          -3.9728305339813232,
          -0.8110880851745605,
          -3.3557310104370117,
          -2.577770233154297,
          -3.4021780490875244,
          -1.323393702507019,
          -3.549454689025879,
          -3.0167341232299805,
          0.3916754126548767,
          0.6740139722824097,
          -3.535959005355835,
          -7.039393901824951,
          -4.448009967803955,
          -0.16078178584575653,
          -3.559480667114258,
          -5.512546062469482,
          -3.7016854286193848,
          -3.2383053302764893,
          -1.8524740934371948,
          -1.4968050718307495,
          -0.7080295085906982,
          -6.3992838859558105,
          -0.3256702125072479,
          0.239888533949852,
          -8.101072311401367,
          -6.694027900695801,
          -5.2007341384887695,
          -5.117677211761475,
          -0.23727183043956757,
          -1.741688847541809,
          -0.06792986392974854,
          -3.315796375274658,
          -1.247047781944275,
          -3.739415407180786,
          5.84389066696167,
          -5.555330753326416,
          1.3004738092422485,
          -2.3385984897613525,
          1.4782918691635132,
          0.5112624168395996,
          -3.30340838432312,
          -3.128368854522705,
          -0.1675647646188736,
          3.6087632179260254,
          -8.042047500610352,
          -7.794105052947998,
          -5.766909122467041,
          -4.370292663574219,
          -0.9676415324211121,
          -1.889201045036316,
          -4.410495758056641,
          -1.9412747621536255,
          -6.816074371337891,
          -8.062762260437012,
          -1.5559889078140259,
          -7.3283514976501465,
          -3.979109048843384,
          -0.2151428461074829,
          -0.02998480014503002,
          1.2050031423568726,
          -6.918747425079346,
          -1.8784089088439941,
          -4.470172882080078,
          -2.908452272415161,
          2.219308376312256,
          -0.7540345788002014,
          -6.450933456420898,
          -0.5340002775192261,
          -0.7405115962028503,
          -3.3515849113464355,
          3.320319652557373,
          -2.0688235759735107,
          -5.5763773918151855,
          -4.405608654022217,
          1.9917323589324951,
          2.6211233139038086,
          -0.26227015256881714,
          -5.290148735046387,
          5.893877983093262,
          -3.4536614418029785,
          -2.069689989089966,
          -1.7053649425506592,
          -4.224110126495361,
          -1.8826402425765991,
          -0.4182188808917999,
          -3.2243993282318115,
          0.7481827139854431,
          2.494988203048706,
          -3.357626438140869,
          -3.527573347091675,
          -0.8684435486793518,
          1.4082319736480713,
          -0.4656482934951782,
          -0.01939249411225319,
          -6.586254119873047,
          1.0139957666397095,
          4.358510971069336,
          -0.21300563216209412,
          3.027392625808716,
          -1.772905945777893,
          1.8057270050048828,
          -4.833762168884277,
          -7.693782806396484,
          0.11473505198955536,
          5.554304599761963,
          -3.0374159812927246,
          3.6576058864593506,
          5.640237808227539,
          3.0279717445373535,
          2.9740114212036133,
          -7.760092735290527,
          0.25190627574920654,
          -6.429259777069092,
          -3.2298011779785156,
          -6.444728374481201,
          0.1740102767944336,
          5.066009044647217,
          -2.1698009967803955,
          -1.1476855278015137,
          -0.5131496787071228,
          2.954214096069336,
          -2.8960683345794678,
          -6.309831619262695,
          0.7294492721557617,
          -0.8353256583213806,
          -8.583106994628906,
          1.6931838989257812,
          -1.0021147727966309,
          4.377452850341797,
          -3.3214430809020996,
          -0.852855920791626,
          -2.81827974319458,
          -3.009330987930298,
          1.025826096534729,
          -3.04002046585083,
          1.1559220552444458,
          -4.03411865234375,
          -4.417904853820801,
          -3.8027849197387695,
          0.18731477856636047,
          4.57913875579834,
          -1.2604913711547852,
          -3.4002201557159424,
          -2.4225013256073,
          -2.8041441440582275,
          -3.509124279022217,
          -4.757567882537842,
          -2.17698073387146,
          -4.959695339202881,
          -1.526864767074585,
          -4.120436668395996,
          -3.1427626609802246,
          -0.9389367699623108,
          -2.7668089866638184,
          0.15671586990356445,
          -2.0506865978240967,
          -5.462790489196777,
          -7.84798526763916,
          1.1912641525268555,
          -3.194465160369873,
          -4.228557586669922,
          -8.009949684143066,
          -0.8642199635505676,
          -4.803404808044434,
          -4.378020763397217,
          -2.7266085147857666,
          -4.3584089279174805,
          -6.6406660079956055,
          0.7156246900558472,
          0.7894459962844849,
          0.7617129683494568,
          -4.646427154541016,
          -3.0891222953796387,
          -4.903633117675781,
          -0.08635345846414566,
          -4.017755031585693,
          -4.7402801513671875,
          -4.532195568084717,
          5.127993583679199,
          -6.267749786376953,
          -5.866032123565674,
          -5.0768866539001465,
          -1.4122130870819092,
          -4.093594551086426,
          -5.211559772491455,
          -7.551234722137451,
          -2.2849624156951904,
          2.1979787349700928,
          -2.8352248668670654,
          -4.596451759338379,
          -2.401122570037842,
          -0.47016817331314087,
          -6.964866638183594,
          -4.185973644256592,
          0.8929241299629211,
          -3.704024314880371,
          3.8162713050842285,
          -3.534137487411499,
          -5.8264617919921875,
          -5.757309913635254,
          0.7514969706535339,
          -6.483218193054199,
          -0.6501150131225586,
          -6.451307773590088,
          -7.340778350830078,
          -3.2481045722961426,
          1.5910042524337769,
          -0.6724393963813782,
          -2.1627118587493896,
          0.9470548629760742,
          -1.8733391761779785,
          -1.5226696729660034,
          -4.813587188720703,
          -2.425816297531128,
          -6.789632797241211,
          1.2039051055908203,
          -1.3223851919174194,
          -7.954228401184082,
          2.4426615238189697,
          -5.050152778625488,
          1.7166138887405396,
          -2.0941946506500244,
          6.461374759674072,
          -0.6701332330703735,
          -0.18394331634044647,
          -2.532358407974243,
          2.1190099716186523,
          1.465707540512085,
          -3.044703722000122,
          -1.855118989944458,
          -5.4857330322265625,
          -7.594056606292725,
          -3.475053310394287,
          0.6190391778945923,
          -7.672523498535156,
          1.5989930629730225,
          -3.6507749557495117,
          1.7027565240859985,
          4.44388484954834,
          -4.8573760986328125,
          0.42508047819137573,
          -1.022138237953186,
          -4.98789644241333,
          -2.84901762008667,
          -3.7222702503204346,
          0.2944217920303345,
          -1.5949960947036743,
          -7.376007080078125,
          -3.4009344577789307,
          -8.369400978088379,
          -0.5592138767242432,
          3.6687567234039307,
          -5.607365608215332,
          -2.585587978363037,
          0.2026195079088211,
          -2.379035472869873,
          3.832233428955078,
          -4.266396522521973,
          -3.3501126766204834,
          -5.691205024719238,
          2.0116055011749268,
          -1.775229573249817,
          -3.5229153633117676,
          -0.015549822710454464,
          -2.738111972808838,
          -4.305242538452148,
          -5.8919548988342285,
          -3.5577778816223145,
          1.5839929580688477,
          3.704749822616577,
          -3.537295341491699,
          -6.945344924926758,
          0.9603734016418457,
          -4.422796726226807,
          1.860743522644043,
          4.840966701507568,
          -0.2828168272972107,
          -3.234687328338623,
          -7.3661603927612305,
          -3.0481159687042236,
          -3.2582573890686035,
          -5.5805768966674805,
          -2.9703290462493896,
          -0.9319528937339783,
          -0.25044962763786316,
          1.1697577238082886,
          4.175840854644775,
          2.744529962539673,
          -1.250615119934082,
          -2.818147659301758,
          -5.447732448577881,
          -4.809410095214844,
          -4.4150004386901855,
          5.712828159332275,
          1.438043236732483,
          -3.257185935974121,
          -0.47001534700393677,
          -4.387106895446777,
          -3.006225109100342,
          -3.135272741317749,
          -3.0432450771331787,
          -0.5598822832107544,
          -6.990904331207275,
          0.14651930332183838,
          -1.7620255947113037,
          -5.681541442871094,
          -4.223142623901367,
          2.2283663749694824,
          -0.2357606440782547,
          -3.7975406646728516,
          -6.805904865264893,
          -6.418639659881592,
          -4.172733783721924,
          -1.3438317775726318,
          -4.839235305786133,
          -6.004810333251953,
          -3.4216468334198,
          -0.15306231379508972,
          -0.8507056832313538,
          -8.38898754119873,
          -0.18706049025058746,
          -4.31427001953125,
          -3.9385945796966553,
          0.4951067864894867,
          6.250730037689209,
          -0.8155415654182434,
          -3.8892407417297363,
          -1.5349185466766357,
          2.160860538482666,
          2.0477797985076904,
          -2.4909143447875977,
          2.031393527984619,
          5.365353107452393,
          0.6822801828384399,
          -6.463319778442383,
          -4.281693935394287,
          -1.1436749696731567,
          -1.625863790512085,
          -3.08160662651062,
          -4.658466815948486,
          -1.2091600894927979,
          -2.989828586578369,
          1.8093253374099731,
          -3.0696873664855957,
          -1.0532439947128296,
          -2.4400839805603027,
          -7.622201919555664,
          -5.48140287399292,
          1.267646312713623,
          -5.4175543785095215,
          -0.14513450860977173,
          -4.775826454162598,
          0.09522953629493713,
          -4.578090190887451,
          -7.161992073059082,
          -3.156526803970337,
          -0.7831560373306274,
          -1.5318957567214966,
          -6.829607009887695,
          -2.3765628337860107,
          -4.5624918937683105,
          -0.9250531792640686,
          3.5344231128692627,
          -2.534168243408203,
          -2.7258832454681396,
          -0.10421521216630936,
          -4.442193508148193,
          -0.2662103474140167,
          -2.398911237716675,
          0.2989467680454254,
          -6.013245582580566,
          -4.260637283325195,
          1.0543200969696045,
          1.2550971508026123,
          4.570921897888184,
          -2.03749942779541,
          -8.557052612304688,
          -5.381777763366699,
          -3.7201080322265625,
          -1.5373409986495972,
          -0.48560139536857605,
          -1.3086905479431152,
          -1.0607404708862305,
          4.5605244636535645,
          -3.6512186527252197,
          0.4750445485115051,
          -3.52289080619812,
          0.5313695669174194,
          2.22571063041687,
          -3.9709298610687256,
          -3.464111804962158,
          -3.148740768432617,
          -6.641878128051758,
          5.942224502563477,
          -4.767177104949951,
          -4.255270004272461,
          -2.46328067779541,
          -4.573473930358887,
          -3.679358720779419,
          -2.6851000785827637,
          -5.099138259887695,
          -5.494121551513672,
          -5.7884602546691895,
          -5.227010250091553,
          -7.1628289222717285,
          -7.135557174682617,
          -3.3207716941833496,
          -0.7560112476348877,
          -7.134592533111572,
          -3.00966739654541,
          -2.0094692707061768,
          -3.0321812629699707,
          -5.24386739730835,
          -5.035917282104492,
          -0.016459226608276367,
          -3.441091299057007,
          -2.25995135307312,
          -6.505577564239502,
          -3.3558597564697266,
          -3.0911102294921875,
          -2.90159273147583,
          -2.9489824771881104,
          -6.797834873199463,
          -2.9489428997039795,
          -3.3648345470428467,
          -7.897827625274658,
          -5.136112213134766,
          -6.656541347503662,
          -1.1954264640808105,
          -6.321259021759033,
          -6.240192890167236,
          -4.956079483032227,
          -0.5264452695846558,
          -2.4733128547668457,
          -1.171821117401123,
          1.5334603786468506,
          -2.263845920562744,
          5.375892162322998,
          -1.336883306503296,
          -4.602510929107666,
          1.0118135213851929,
          1.8605014085769653,
          -3.259561538696289,
          -3.2524023056030273,
          -6.547940731048584,
          -6.463823318481445,
          -5.442732810974121,
          1.146159291267395,
          0.8651549220085144,
          1.595313549041748,
          -2.134514570236206,
          2.596578359603882,
          -3.5366218090057373,
          -0.699678361415863,
          -5.339465141296387,
          -4.041571617126465,
          1.9475212097167969,
          -7.711298942565918,
          -4.432449817657471,
          1.0225106477737427,
          -3.1855850219726562,
          -0.2169734239578247,
          1.2216373682022095,
          -3.173344850540161,
          -0.8085723519325256,
          -3.1544253826141357,
          -0.5146506428718567,
          1.791769027709961,
          -7.884408950805664,
          2.1932997703552246,
          -4.638875961303711,
          -3.5864832401275635,
          2.864887237548828,
          -4.128186225891113,
          -3.672884464263916,
          -4.102512359619141,
          -4.312601089477539,
          -6.375490665435791,
          -6.654657363891602,
          -2.1839587688446045,
          3.2766144275665283,
          -7.96193790435791,
          -0.21137797832489014,
          -0.9851003885269165,
          -1.7089546918869019,
          -6.262159824371338,
          -7.850057601928711,
          -5.269215106964111,
          1.2939687967300415,
          -0.035419099032878876,
          -6.282153129577637,
          0.9079798460006714,
          -3.340717315673828,
          -2.743936538696289,
          -0.30664870142936707,
          -3.2982795238494873,
          0.16474904119968414,
          -3.1825389862060547,
          -1.1001076698303223,
          -0.04689893499016762,
          -3.5294532775878906,
          -4.6454925537109375,
          -6.127658843994141,
          -7.0383806228637695,
          -4.765366077423096,
          -1.5226271152496338,
          -7.404056549072266,
          -2.7185585498809814,
          -5.8066182136535645,
          -2.0303778648376465,
          -0.8932838439941406,
          -3.1668570041656494,
          -7.571682929992676,
          -8.408556938171387,
          -3.837261199951172,
          3.3691389560699463,
          -3.0716288089752197,
          -2.1403872966766357,
          -5.370215892791748,
          2.1793246269226074,
          2.01867938041687,
          -0.36346757411956787,
          -1.1880741119384766,
          0.014278373681008816,
          -2.19409441947937,
          1.343165397644043,
          -1.419243574142456,
          1.9415013790130615,
          -0.27234119176864624,
          0.07801324874162674,
          0.11249471455812454,
          -8.092368125915527,
          -0.9862414598464966,
          -2.9668500423431396,
          3.9058589935302734,
          -6.576345443725586,
          -6.633557319641113,
          1.1468614339828491,
          -3.3435420989990234,
          -0.9582414031028748,
          -2.9571433067321777,
          -3.055265188217163,
          -4.870909690856934,
          -0.12792903184890747,
          -6.977809906005859,
          -8.527587890625,
          -6.3013596534729,
          -5.636982440948486,
          5.900318145751953,
          -3.189960241317749,
          -3.5307648181915283,
          -2.8864097595214844,
          -3.182814121246338,
          2.256176471710205,
          -0.8233878016471863,
          -3.5169928073883057,
          -5.235677719116211,
          -5.816882610321045,
          -1.9236949682235718,
          -2.7737748622894287,
          -8.194355010986328,
          -6.855755805969238,
          -5.862975597381592,
          -2.6638851165771484,
          -3.0996205806732178,
          -5.050113677978516,
          -6.943698406219482,
          -8.063958168029785,
          -3.3514041900634766,
          -3.1152594089508057,
          -5.949395656585693,
          -5.027844429016113,
          -6.527594089508057,
          -0.5183982253074646,
          -6.285065174102783,
          -3.855290651321411,
          -6.291431427001953,
          -2.56844162940979,
          -3.121828317642212,
          -4.108974933624268,
          -4.050036430358887,
          -5.570886611938477,
          3.1968517303466797,
          -6.11340856552124,
          -5.235194683074951,
          -6.9377899169921875,
          -2.8072073459625244,
          -3.0857858657836914,
          -5.164938926696777,
          -3.7170209884643555,
          -2.870178699493408,
          6.509666442871094,
          -0.2968045771121979,
          -6.924807548522949,
          -3.1911280155181885,
          0.5297214984893799,
          -6.687570095062256,
          -4.932219505310059,
          -8.391630172729492,
          -1.5205469131469727,
          -4.381828784942627,
          -2.5188112258911133,
          2.4126346111297607,
          -1.486566424369812,
          1.4236117601394653,
          5.53098201751709,
          -0.7440884113311768,
          2.7688589096069336,
          -5.244688987731934,
          0.03676550090312958,
          0.3325278162956238,
          -5.0855584144592285,
          -1.9018818140029907,
          -5.571372032165527,
          -0.7094951868057251,
          4.151228904724121,
          -3.9098565578460693,
          3.3199033737182617,
          -5.041403293609619,
          -5.444212436676025,
          -3.390347480773926,
          -4.217867851257324,
          -5.206902027130127,
          -6.7770161628723145,
          -6.291101455688477,
          -2.729458808898926,
          -1.562918782234192,
          -2.9341800212860107,
          -1.4356659650802612,
          -0.614044725894928,
          -1.3039170503616333,
          -5.279551982879639,
          5.888290882110596,
          -8.507402420043945,
          -1.2648496627807617,
          -5.422445297241211,
          -3.192587375640869,
          -4.3695969581604,
          -6.469513893127441,
          3.9635403156280518,
          -0.8813079595565796,
          1.8490347862243652,
          -4.984160900115967,
          -3.849918842315674,
          3.262061595916748,
          -1.7022875547409058,
          -5.239089012145996,
          5.805910110473633,
          -8.367395401000977,
          5.728382587432861,
          -0.5192307829856873,
          1.0287519693374634,
          -5.712275505065918,
          -2.4570658206939697,
          2.605391502380371,
          0.17399351298809052,
          4.496355056762695,
          -6.50860071182251,
          -3.484342098236084,
          2.433532953262329,
          -4.466180801391602,
          0.900518000125885,
          -5.320937156677246,
          -3.28599214553833,
          -3.3409132957458496,
          -4.32088565826416,
          2.8336730003356934,
          -0.9804444909095764,
          -3.5068674087524414,
          -0.6750594973564148,
          3.679365396499634,
          2.936232805252075,
          1.896639108657837,
          -8.591116905212402,
          1.4639205932617188,
          0.45568740367889404,
          -1.1508713960647583,
          1.4920624494552612,
          2.09196138381958,
          -4.165077209472656,
          -3.0107789039611816,
          -3.167186737060547,
          -5.548205852508545,
          4.991664409637451,
          -0.35294705629348755,
          1.7546762228012085,
          -6.396798133850098,
          -6.083408355712891,
          1.1350098848342896,
          2.2456777095794678,
          1.4646682739257812,
          -6.760572910308838,
          -3.3288042545318604,
          -6.369813919067383,
          -5.404897212982178,
          -4.726207256317139,
          1.3457216024398804,
          2.3516430854797363,
          -3.0099689960479736,
          5.431962490081787,
          -0.4289858043193817,
          6.068902492523193,
          1.5732589960098267,
          -1.8077949285507202,
          -1.7135412693023682,
          1.3935062885284424,
          1.904236912727356,
          -6.790977954864502,
          -4.537100791931152,
          -6.336643218994141,
          -6.571107864379883,
          -4.06516695022583,
          -4.408165454864502,
          -5.299208164215088,
          0.6920488476753235,
          -7.503389835357666,
          6.259683132171631,
          2.3418161869049072,
          5.602522850036621,
          1.7398799657821655,
          3.5438103675842285,
          -2.752211809158325,
          -0.4714299738407135,
          2.7552597522735596,
          -0.9483725428581238,
          0.32248634099960327,
          -7.251498699188232,
          -2.719322681427002,
          0.9377927184104919,
          -7.791957855224609,
          2.0112125873565674,
          -0.8581072092056274,
          -3.497424364089966,
          -3.2223007678985596,
          3.6498818397521973,
          -1.0446741580963135,
          0.07334877550601959,
          -1.729851245880127,
          -2.0809311866760254,
          -7.093332767486572,
          -0.21788550913333893,
          -0.7293312549591064,
          -0.7837427258491516,
          -4.409862041473389,
          -3.861483573913574,
          1.2980334758758545,
          -4.287158966064453,
          -3.572850227355957,
          -3.417067289352417,
          -3.575496196746826,
          -6.671359062194824,
          0.2072078287601471,
          -2.746882677078247,
          -4.387605667114258,
          -4.253881931304932,
          -0.6087913513183594,
          -2.4010162353515625,
          -3.224660873413086,
          5.842074871063232,
          -4.590007305145264,
          1.4302221536636353,
          -5.119480609893799,
          -0.33840224146842957,
          -5.846392631530762,
          0.18766166269779205,
          -4.81017541885376,
          -5.194092273712158,
          -3.2878496646881104,
          0.555648922920227,
          -8.184694290161133,
          1.9302306175231934,
          -7.09217643737793,
          -7.205778121948242,
          0.0678412988781929,
          1.824022650718689,
          -7.2085280418396,
          1.735973596572876,
          -2.824617624282837,
          -0.8297098278999329,
          -7.71829080581665,
          1.8706822395324707,
          -5.741818428039551,
          0.6053024530410767,
          0.18381784856319427,
          5.59179162979126,
          0.20141856372356415,
          -4.9243574142456055,
          -4.4870758056640625,
          -3.180891275405884,
          -5.349243640899658,
          1.3321149349212646,
          -3.090892791748047,
          -5.593963146209717,
          -2.99672269821167,
          -1.801335334777832,
          -6.948408603668213,
          -6.766545295715332,
          -4.25773286819458,
          -3.117432117462158,
          -8.368412017822266,
          -0.05263929069042206,
          -2.853618860244751,
          -4.267287731170654,
          4.974703311920166,
          -6.858492851257324,
          -5.392858982086182,
          -2.59930682182312,
          -2.657150983810425,
          1.8927189111709595,
          -5.307127475738525,
          6.0260844230651855,
          -3.2098724842071533,
          -3.186302900314331,
          -4.67490816116333,
          -1.659348487854004,
          -3.098483085632324,
          -0.1799081563949585,
          0.09314510226249695,
          -1.296865463256836,
          -7.108553886413574,
          -0.8091608881950378,
          -1.2929065227508545,
          -3.7447996139526367,
          -3.2416274547576904,
          -0.826047956943512,
          3.1362433433532715,
          0.8461716771125793,
          -0.4302559494972229,
          -1.9728825092315674,
          -5.968369007110596,
          -3.20847749710083,
          -7.630609512329102,
          3.43084454536438,
          -5.491622447967529,
          1.031467080116272,
          -3.291814088821411,
          -6.646456241607666,
          0.14755947887897491,
          -1.9390652179718018,
          -4.153299808502197,
          -5.309528827667236,
          0.896945595741272,
          1.698716640472412,
          -0.6956213116645813,
          -1.1128424406051636,
          -2.2875161170959473,
          -6.357966899871826,
          -5.568150043487549,
          -0.15747259557247162,
          -5.8357062339782715,
          0.2986808121204376,
          -6.312572002410889,
          -6.881347179412842,
          -6.978732585906982,
          -3.9175868034362793,
          1.0633013248443604,
          -4.067733287811279,
          2.3123908042907715,
          -5.526047229766846,
          1.420796513557434,
          0.18879106640815735,
          -8.290999412536621,
          -3.426992177963257,
          -2.8710222244262695,
          1.3360878229141235,
          -1.936314582824707,
          -5.88439416885376,
          -0.30622830986976624,
          -2.6733880043029785,
          -1.687796711921692,
          -3.570629358291626,
          0.45832353830337524,
          -5.500434875488281,
          -4.192415237426758,
          1.8065851926803589,
          -0.5742232203483582,
          -0.16352856159210205,
          5.5975661277771,
          1.9782795906066895,
          1.8541184663772583,
          -6.496652126312256,
          -3.101140260696411,
          -5.663862228393555,
          1.9019075632095337,
          1.8354309797286987,
          -7.065768718719482,
          -3.814272165298462,
          -5.912187576293945,
          -5.568819046020508,
          0.030441420152783394,
          -5.795859336853027,
          -3.2715659141540527,
          -1.012654423713684,
          -3.4275753498077393,
          1.8911381959915161,
          -1.988053560256958,
          -6.2296576499938965,
          -5.8889641761779785,
          -3.1968977451324463,
          5.377869129180908,
          2.9864604473114014,
          -1.8059628009796143,
          1.4189683198928833,
          -0.7163244485855103,
          -2.843336343765259,
          -1.5926743745803833,
          -7.070284843444824,
          -4.600273609161377,
          -4.274936676025391,
          -5.455780982971191,
          0.5827529430389404,
          -3.2175393104553223,
          -1.1297993659973145,
          -7.135165691375732,
          1.6501065492630005,
          -4.783738136291504,
          1.6663211584091187,
          -5.044353485107422,
          -5.540994644165039,
          -0.8935157060623169,
          -6.38923978805542,
          -7.259453773498535,
          -2.3332712650299072,
          -4.828784942626953,
          -1.8584909439086914,
          0.19322992861270905,
          -3.9398906230926514,
          -6.192142963409424,
          -0.7170839905738831,
          -6.974895477294922,
          -0.700336754322052,
          3.037039279937744,
          -0.7285007834434509,
          0.6548644304275513,
          0.30036017298698425,
          -6.719215393066406,
          -0.7068756222724915,
          1.245513916015625,
          -3.9471652507781982,
          4.571203231811523,
          -5.5908918380737305,
          -0.0802580937743187,
          -0.080601766705513,
          -2.481051445007324,
          1.2104849815368652,
          -5.747057914733887,
          0.06172351911664009,
          1.233747124671936,
          2.2846004962921143,
          -3.933090925216675,
          -3.679553747177124,
          -2.9017927646636963,
          0.5426533818244934,
          1.6498029232025146,
          3.1600093841552734,
          -2.929594039916992,
          -8.03257942199707,
          -7.010672569274902,
          -0.18973484635353088,
          6.434324264526367,
          -1.865300178527832,
          -2.079162120819092,
          -1.9389944076538086,
          -3.4177772998809814,
          -8.192500114440918,
          0.029971659183502197,
          0.2525419592857361,
          -2.919454336166382,
          -5.099592685699463,
          2.2673516273498535,
          -2.648557186126709,
          -0.1856774538755417,
          -4.659726619720459,
          -1.6191937923431396,
          -0.9423328042030334,
          -5.3162455558776855,
          1.8870253562927246,
          -8.544769287109375,
          -5.521667003631592,
          2.84450101852417,
          -4.989838123321533,
          -3.960859775543213,
          -6.449542045593262,
          1.0480154752731323,
          -2.888855457305908,
          -4.911561489105225,
          -1.5158108472824097,
          -4.022841453552246,
          -1.8406342267990112,
          1.5224133729934692,
          -1.1366288661956787,
          -5.604928970336914,
          -4.384031295776367,
          -1.1389803886413574,
          -7.64689302444458,
          -6.0903401374816895,
          -2.838247537612915,
          -3.4699981212615967,
          5.728238582611084,
          2.0196638107299805,
          -0.49481263756752014,
          -3.2401344776153564,
          4.329513072967529,
          0.2123100757598877,
          -0.21542562544345856,
          2.6936159133911133,
          -0.36753126978874207,
          -8.555113792419434,
          5.423192977905273,
          -4.005900859832764,
          -6.605273246765137,
          -8.5809907913208,
          -6.774465084075928,
          0.33562442660331726,
          2.4464282989501953,
          -5.841464042663574,
          -5.640662670135498,
          -2.964977979660034,
          2.622058391571045,
          1.0322142839431763,
          -0.02754337713122368,
          -4.317522048950195,
          1.7350817918777466,
          0.8519040942192078,
          -4.159493446350098,
          -8.07013988494873,
          -1.0903620719909668,
          -4.169685363769531,
          -2.2650046348571777,
          -7.695600986480713,
          -2.9694817066192627,
          0.9060722589492798,
          -4.676452159881592,
          -2.9601433277130127,
          -0.31086209416389465,
          -6.75537633895874,
          -6.236104488372803,
          -1.1440317630767822,
          -6.358484268188477
         ],
         "y": [
          -6.22531795501709,
          -0.8112130165100098,
          -0.9929282069206238,
          -1.2266408205032349,
          11.116168975830078,
          11.689661026000977,
          9.281097412109375,
          8.884113311767578,
          -2.054730176925659,
          -0.7658149600028992,
          9.058197021484375,
          8.659529685974121,
          10.06054973602295,
          1.327088475227356,
          11.994935989379883,
          14.022456169128418,
          -2.408783197402954,
          6.722827434539795,
          9.69975757598877,
          10.9030122756958,
          0.010081510990858078,
          13.023472785949707,
          8.75904369354248,
          10.483609199523926,
          -1.309234380722046,
          -1.6751503944396973,
          6.619994163513184,
          -0.21195268630981445,
          14.084074974060059,
          10.498623847961426,
          11.83215045928955,
          11.259796142578125,
          14.0224027633667,
          -0.5412753820419312,
          9.455102920532227,
          14.501301765441895,
          10.013861656188965,
          0.8097769618034363,
          9.944777488708496,
          -3.6069021224975586,
          13.761663436889648,
          4.949241638183594,
          8.196390151977539,
          13.016087532043457,
          1.3976236581802368,
          -7.3365912437438965,
          11.971466064453125,
          1.970527172088623,
          4.811897277832031,
          9.091371536254883,
          -2.8839898109436035,
          8.902459144592285,
          14.365408897399902,
          14.633013725280762,
          10.761764526367188,
          8.655344009399414,
          -4.224671363830566,
          13.803497314453125,
          -2.4264910221099854,
          14.270678520202637,
          13.394375801086426,
          4.389461040496826,
          -6.628610134124756,
          -6.230117321014404,
          3.6034278869628906,
          13.855658531188965,
          -7.850201606750488,
          -1.5648126602172852,
          -4.435107231140137,
          -3.5500152111053467,
          -0.6856253147125244,
          1.688372254371643,
          11.419380187988281,
          11.193674087524414,
          -1.6176512241363525,
          -6.504780292510986,
          -0.9209882616996765,
          0.31613868474960327,
          -0.09931701421737671,
          -4.722672462463379,
          -6.409978866577148,
          8.460244178771973,
          -4.354944229125977,
          6.309587001800537,
          -0.04072391614317894,
          3.3497886657714844,
          -4.641572952270508,
          9.529867172241211,
          -6.878437519073486,
          -6.92839241027832,
          8.920083999633789,
          10.01090145111084,
          2.9669713973999023,
          -4.296099662780762,
          -3.9691946506500244,
          1.168405294418335,
          4.135552406311035,
          -4.421487331390381,
          -1.9935294389724731,
          9.557642936706543,
          -7.277154445648193,
          3.0220227241516113,
          -2.2013792991638184,
          11.903398513793945,
          5.880955219268799,
          14.110358238220215,
          11.6183500289917,
          12.826045989990234,
          6.356820583343506,
          -2.392928123474121,
          3.999054193496704,
          13.425517082214355,
          13.357601165771484,
          -4.120630264282227,
          5.979878902435303,
          -6.700717449188232,
          8.155462265014648,
          -0.06685860455036163,
          3.606405735015869,
          3.4293413162231445,
          9.299127578735352,
          7.227989196777344,
          13.454824447631836,
          1.9593006372451782,
          -2.5584328174591064,
          -4.258902072906494,
          6.963959693908691,
          0.37034276127815247,
          3.8486990928649902,
          11.50335693359375,
          -4.315835475921631,
          -3.0524168014526367,
          7.820842266082764,
          11.232751846313477,
          9.158807754516602,
          12.083205223083496,
          6.068614482879639,
          7.008686542510986,
          8.6831693649292,
          -5.838917255401611,
          10.0655517578125,
          3.821502685546875,
          7.644554138183594,
          -6.624209880828857,
          -5.612642288208008,
          9.206920623779297,
          -6.574575424194336,
          3.4174840450286865,
          -2.8337180614471436,
          -1.1591750383377075,
          -2.005403757095337,
          2.5814285278320312,
          -5.031789302825928,
          -1.6831200122833252,
          8.60582160949707,
          7.388674736022949,
          -2.517237424850464,
          -4.647843360900879,
          -5.857690334320068,
          6.873327732086182,
          1.7424614429473877,
          2.03204607963562,
          -3.2829599380493164,
          -4.843024730682373,
          -3.712092399597168,
          1.842299461364746,
          8.898225784301758,
          8.589019775390625,
          6.656874656677246,
          5.87843656539917,
          -4.775110244750977,
          1.2198772430419922,
          11.018107414245605,
          -6.248470306396484,
          -4.133039951324463,
          -6.069174766540527,
          7.243956565856934,
          2.103142738342285,
          7.103143215179443,
          -8.503666877746582,
          -3.804564952850342,
          2.923464775085449,
          7.847647666931152,
          13.63611125946045,
          2.170395612716675,
          12.84950065612793,
          9.77734375,
          12.820220947265625,
          -4.054832935333252,
          2.796445846557617,
          7.285946369171143,
          -5.456996440887451,
          -3.5743610858917236,
          13.165367126464844,
          13.690862655639648,
          -6.314780235290527,
          -6.3985915184021,
          14.359719276428223,
          9.00475025177002,
          -0.8360201120376587,
          0.4715818166732788,
          14.67061710357666,
          3.107475757598877,
          12.408150672912598,
          14.187262535095215,
          -3.0269722938537598,
          8.326794624328613,
          1.471956491470337,
          10.050985336303711,
          7.01849365234375,
          5.296209812164307,
          6.673431873321533,
          9.142393112182617,
          11.76565933227539,
          12.065164566040039,
          1.969402551651001,
          10.96014404296875,
          -5.515539646148682,
          13.518025398254395,
          2.1935603618621826,
          0.6581202149391174,
          1.4555810689926147,
          11.908246040344238,
          -2.8277156352996826,
          7.633749485015869,
          -3.1545286178588867,
          2.010042905807495,
          10.984703063964844,
          9.471319198608398,
          1.909548044204712,
          -3.64540433883667,
          6.766108512878418,
          2.958500385284424,
          8.528129577636719,
          9.272425651550293,
          8.319402694702148,
          10.498909950256348,
          -4.831038475036621,
          10.902737617492676,
          5.93383264541626,
          7.1084723472595215,
          9.077357292175293,
          8.367643356323242,
          -2.4520082473754883,
          -3.4673500061035156,
          5.644721984863281,
          -0.1341293454170227,
          6.338103294372559,
          -3.048856496810913,
          9.932299613952637,
          4.353543281555176,
          -4.759854793548584,
          7.473567008972168,
          9.886759757995605,
          -3.354235887527466,
          -3.405352830886841,
          13.794612884521484,
          1.9116138219833374,
          -4.56086540222168,
          11.889360427856445,
          -3.245497703552246,
          -4.203432559967041,
          -6.430550575256348,
          -2.033623456954956,
          2.672837495803833,
          0.8437831401824951,
          5.3931965827941895,
          6.741137981414795,
          9.755332946777344,
          2.1050190925598145,
          5.724678039550781,
          1.715659499168396,
          3.1007890701293945,
          3.7665975093841553,
          1.114695429801941,
          -6.182584762573242,
          14.198281288146973,
          -2.3850131034851074,
          -6.77617883682251,
          -7.934308052062988,
          6.180607795715332,
          10.127639770507812,
          -2.9480068683624268,
          2.0499484539031982,
          -4.579392433166504,
          -4.054847717285156,
          -4.3470234870910645,
          -0.5738424062728882,
          -3.0780160427093506,
          7.5897216796875,
          2.1772944927215576,
          -2.1607000827789307,
          5.922745227813721,
          -4.637934684753418,
          -1.8837648630142212,
          -4.480805397033691,
          -4.033374309539795,
          1.7065894603729248,
          -3.9320948123931885,
          10.059324264526367,
          -6.246611595153809,
          9.470715522766113,
          -4.888655662536621,
          -4.003792762756348,
          1.0560251474380493,
          5.633108615875244,
          7.5325846672058105,
          2.041776657104492,
          3.242227792739868,
          -0.09700779616832733,
          3.680732488632202,
          1.009878158569336,
          4.17657470703125,
          -1.090065360069275,
          -4.891122341156006,
          -1.564949870109558,
          -1.677953839302063,
          -4.228400707244873,
          -1.6302932500839233,
          11.928571701049805,
          -8.578009605407715,
          12.38991928100586,
          -4.8366498947143555,
          -3.6582281589508057,
          -4.790648460388184,
          6.844758033752441,
          -1.6321864128112793,
          2.239926815032959,
          -4.1440019607543945,
          14.293865203857422,
          7.70857572555542,
          3.7200863361358643,
          13.943263053894043,
          -7.077502250671387,
          7.0601487159729,
          4.035897731781006,
          0.9798417091369629,
          12.958221435546875,
          9.723150253295898,
          -1.5353256464004517,
          2.446565866470337,
          3.921539306640625,
          11.375300407409668,
          12.208045959472656,
          7.482484340667725,
          -1.9277299642562866,
          14.32783317565918,
          -7.004837989807129,
          7.290910720825195,
          -5.2566070556640625,
          -5.906106472015381,
          -3.70692777633667,
          -6.548915386199951,
          -6.10084342956543,
          -1.2731828689575195,
          -3.256791114807129,
          -3.4992337226867676,
          -3.9609334468841553,
          -6.970799922943115,
          -7.237297058105469,
          -2.776892900466919,
          -4.273624897003174,
          -6.864793300628662,
          -6.147342681884766,
          -6.6747846603393555,
          -1.2696707248687744,
          -2.981661796569824,
          -4.743159770965576,
          -4.2117743492126465,
          -4.284595012664795,
          -5.720924377441406,
          -7.444450378417969,
          3.097505569458008,
          7.279670238494873,
          -0.22073256969451904,
          8.836806297302246,
          2.8633060455322266,
          11.750064849853516,
          2.0605838298797607,
          8.965498924255371,
          2.959174156188965,
          -6.977622985839844,
          13.740072250366211,
          -6.950488090515137,
          -5.841695308685303,
          -4.5936102867126465,
          8.529556274414062,
          -4.408264636993408,
          9.204619407653809,
          2.122297763824463,
          10.035305976867676,
          8.485454559326172,
          10.76977252960205,
          -0.9731424450874329,
          7.170013904571533,
          -2.0481998920440674,
          -7.298288822174072,
          -1.0830848217010498,
          7.168365001678467,
          1.8763540983200073,
          12.260228157043457,
          8.18964958190918,
          -1.5714874267578125,
          9.524171829223633,
          7.063726902008057,
          0.46501660346984863,
          9.49035358428955,
          -2.1988725662231445,
          11.447805404663086,
          1.0956896543502808,
          -3.2588915824890137,
          0.7504807114601135,
          -4.833603382110596,
          -3.641035795211792,
          -4.2465033531188965,
          5.598879337310791,
          11.261143684387207,
          12.006341934204102,
          8.249591827392578,
          13.183331489562988,
          4.28269624710083,
          3.009305238723755,
          -4.129810333251953,
          4.286848545074463,
          -1.1194504499435425,
          2.0010690689086914,
          7.165769577026367,
          -0.8120484948158264,
          -6.187739849090576,
          12.18465518951416,
          9.412772178649902,
          -6.809092998504639,
          -5.818577766418457,
          6.759415626525879,
          2.7404379844665527,
          -0.7880257964134216,
          5.960640907287598,
          -3.13970947265625,
          -3.593674421310425,
          8.8368501663208,
          12.698953628540039,
          -0.008643732406198978,
          5.459600448608398,
          -3.454477548599243,
          1.6126526594161987,
          9.326706886291504,
          10.367188453674316,
          -0.7152354121208191,
          8.206429481506348,
          2.964447021484375,
          0.3441624939441681,
          4.226962089538574,
          3.429832696914673,
          10.843334197998047,
          13.909536361694336,
          -1.8586136102676392,
          -3.689908981323242,
          14.415952682495117,
          0.07018453627824783,
          -7.960258483886719,
          1.5675448179244995,
          -5.5858917236328125,
          -2.676504373550415,
          -5.525883197784424,
          13.40939712524414,
          2.26961350440979,
          13.58609676361084,
          -3.2865853309631348,
          4.0431809425354,
          4.274477958679199,
          1.5571426153182983,
          2.0625569820404053,
          -2.466763496398926,
          -1.8130697011947632,
          -6.855354309082031,
          -2.42797589302063,
          4.197909355163574,
          -6.4057207107543945,
          9.715717315673828,
          -4.519983291625977,
          2.80869197845459,
          -0.31037208437919617,
          13.37802791595459,
          6.753243446350098,
          -1.838538646697998,
          13.819329261779785,
          12.670720100402832,
          12.783414840698242,
          -8.930915832519531,
          0.9395240545272827,
          5.509976863861084,
          -2.3279755115509033,
          -0.6531746983528137,
          2.864518880844116,
          -4.562319755554199,
          1.3727816343307495,
          -5.3368024826049805,
          9.232234001159668,
          10.040631294250488,
          1.4884284734725952,
          -3.150459051132202,
          12.952661514282227,
          -4.21108341217041,
          13.459282875061035,
          5.987272262573242,
          7.536498546600342,
          3.8183960914611816,
          -5.19735050201416,
          9.507936477661133,
          -6.2435784339904785,
          -2.4216392040252686,
          -0.3955691158771515,
          1.4323875904083252,
          -3.1386682987213135,
          3.8429479598999023,
          -7.926015377044678,
          -6.630237579345703,
          7.804476261138916,
          -1.110487937927246,
          -1.9476550817489624,
          -6.446667671203613,
          9.088190078735352,
          -4.3360595703125,
          2.6959478855133057,
          5.999772548675537,
          13.396985054016113,
          -4.018691062927246,
          7.216122627258301,
          12.494034767150879,
          -4.7574310302734375,
          14.17545223236084,
          3.8604929447174072,
          0.7147709727287292,
          3.4669125080108643,
          10.52125072479248,
          -4.225888252258301,
          11.504390716552734,
          -5.086223602294922,
          9.155237197875977,
          5.514042854309082,
          1.4880893230438232,
          7.251370906829834,
          13.50097942352295,
          -4.408542156219482,
          3.542504072189331,
          0.49216002225875854,
          7.497415542602539,
          -3.091813087463379,
          -4.343502521514893,
          -7.984522342681885,
          4.306041717529297,
          -5.064239501953125,
          5.9510817527771,
          12.647171020507812,
          5.9796857833862305,
          6.09493350982666,
          -8.22476577758789,
          -0.4466608464717865,
          3.839244842529297,
          -7.544461250305176,
          -3.1107935905456543,
          -3.3757848739624023,
          6.6319122314453125,
          4.582551956176758,
          11.380830764770508,
          13.6612548828125,
          8.844430923461914,
          6.889529705047607,
          -2.8097198009490967,
          2.35007643699646,
          -1.708579421043396,
          13.888688087463379,
          -2.836085319519043,
          1.9186815023422241,
          -2.8585548400878906,
          -4.944030284881592,
          -1.5119562149047852,
          -5.607490062713623,
          5.000553131103516,
          9.978840827941895,
          -1.6499176025390625,
          8.63721752166748,
          0.8468506336212158,
          3.3984732627868652,
          -2.8987793922424316,
          4.448651313781738,
          8.266674995422363,
          11.873833656311035,
          11.325185775756836,
          1.0719283819198608,
          11.985629081726074,
          1.5611560344696045,
          0.23675645887851715,
          13.331125259399414,
          3.0584716796875,
          0.9116401672363281,
          12.819314002990723,
          4.892314434051514,
          9.549905776977539,
          3.6592226028442383,
          12.319286346435547,
          5.619011878967285,
          14.286333084106445,
          12.244681358337402,
          0.6955450773239136,
          -2.3979663848876953,
          12.981795310974121,
          9.688433647155762,
          14.118746757507324,
          -0.8077660202980042,
          14.097906112670898,
          14.87601375579834,
          3.9520018100738525,
          3.0553693771362305,
          10.037078857421875,
          -2.6616318225860596,
          -1.9177031517028809,
          -0.2140493094921112,
          0.8178133964538574,
          -3.233013868331909,
          12.248873710632324,
          -3.904738664627075,
          -1.588936686515808,
          12.1280517578125,
          -3.0689921379089355,
          -3.149832248687744,
          -6.728771209716797,
          -4.285655498504639,
          1.8047844171524048,
          13.124547958374023,
          14.086935997009277,
          -1.8868564367294312,
          10.06246566772461,
          3.822089910507202,
          -2.6467440128326416,
          3.5579097270965576,
          -2.163207769393921,
          11.352363586425781,
          -6.257676601409912,
          14.78909969329834,
          7.432453632354736,
          11.478164672851562,
          13.022146224975586,
          -4.008418560028076,
          3.137315273284912,
          -6.539426803588867,
          -7.68669319152832,
          10.358904838562012,
          -3.91222882270813,
          -6.37308931350708,
          14.10614013671875,
          1.98911714553833,
          -3.9364521503448486,
          -4.688592910766602,
          -6.739253044128418,
          2.4126293659210205,
          -4.952455520629883,
          -2.0349886417388916,
          3.578040361404419,
          -0.5044029355049133,
          5.763905048370361,
          3.098813056945801,
          2.436861991882324,
          -1.2058889865875244,
          9.95169734954834,
          9.553801536560059,
          3.781559705734253,
          -4.277381896972656,
          5.889317989349365,
          1.1638439893722534,
          -3.8773484230041504,
          9.759791374206543,
          0.41187548637390137,
          7.553311347961426,
          12.161541938781738,
          2.361576795578003,
          0.3785364031791687,
          9.505337715148926,
          -6.464876651763916,
          14.141462326049805,
          2.220679521560669,
          2.3007454872131348,
          -0.29376471042633057,
          -5.1317243576049805,
          13.523576736450195,
          8.26407527923584,
          4.874253273010254,
          1.1972928047180176,
          -6.867444038391113,
          -2.7370307445526123,
          9.134584426879883,
          -2.9322972297668457,
          -6.1788330078125,
          2.667667865753174,
          1.0975600481033325,
          9.565311431884766,
          11.227505683898926,
          7.696616172790527,
          10.58254337310791,
          8.259502410888672,
          3.1108784675598145,
          7.238400936126709,
          2.00970721244812,
          14.158583641052246,
          6.611927032470703,
          11.742112159729004,
          -4.11995267868042,
          -8.680415153503418,
          7.000324726104736,
          -6.270445346832275,
          -2.441211700439453,
          5.796510696411133,
          -0.5983178019523621,
          8.264979362487793,
          -2.311095952987671,
          6.25365686416626,
          -5.306877136230469,
          -2.1718103885650635,
          6.2293291091918945,
          8.352888107299805,
          13.882075309753418,
          -3.723088264465332,
          9.685235023498535,
          9.821362495422363,
          -7.7793660163879395,
          14.284697532653809,
          6.341788291931152,
          14.019477844238281,
          -5.455820083618164,
          -2.8492300510406494,
          0.5619226694107056,
          -0.27164310216903687,
          3.833721160888672,
          -2.1009039878845215,
          10.45906925201416,
          2.9125030040740967,
          14.06071662902832,
          14.950445175170898,
          14.930957794189453,
          2.3065614700317383,
          -6.8057146072387695,
          1.2375078201293945,
          13.266827583312988,
          12.210331916809082,
          10.074336051940918,
          5.769814968109131,
          4.2269606590271,
          6.285998344421387,
          9.255229949951172,
          9.533426284790039,
          -2.8429784774780273,
          13.448982238769531,
          4.293274879455566,
          -0.41066211462020874,
          5.941129207611084,
          14.248997688293457,
          12.656229019165039,
          -3.1375608444213867,
          -5.481932640075684,
          -0.8009542226791382,
          1.9029326438903809,
          -2.210244655609131,
          6.183780670166016,
          10.243993759155273,
          3.1753604412078857,
          10.631680488586426,
          3.1548731327056885,
          -2.5633575916290283,
          10.82359504699707,
          1.9401867389678955,
          9.943620681762695,
          3.090102434158325,
          -0.5333464741706848,
          13.257855415344238,
          5.659171104431152,
          9.219391822814941,
          13.815258979797363,
          3.7829477787017822,
          0.35795754194259644,
          6.396923542022705,
          8.214957237243652,
          12.751382827758789,
          1.887329339981079,
          0.03721107542514801,
          2.0765137672424316,
          4.000082492828369,
          8.986591339111328,
          -7.46199369430542,
          2.341754674911499,
          -8.434967041015625,
          6.3278117179870605,
          -1.8258205652236938,
          -1.9785865545272827,
          6.356971740722656,
          -8.944129943847656,
          0.06520039588212967,
          -3.3587777614593506,
          -8.722612380981445,
          9.796005249023438,
          10.722315788269043,
          10.261353492736816,
          -3.1313486099243164,
          -1.9937399625778198,
          0.7367442846298218,
          -8.188827514648438,
          -2.7153193950653076,
          3.2835052013397217,
          13.269917488098145,
          12.676172256469727,
          1.7757869958877563,
          0.27056583762168884,
          10.751777648925781,
          -6.5805511474609375,
          -0.03938246890902519,
          9.908868789672852,
          0.823997974395752,
          6.419105529785156,
          2.2056803703308105,
          11.80919075012207,
          -1.450718879699707,
          3.4625229835510254,
          9.469462394714355,
          11.139479637145996,
          3.030918836593628,
          -0.8473289608955383,
          -1.3383562564849854,
          1.8698762655258179,
          -8.809795379638672,
          -3.2854323387145996,
          8.714890480041504,
          0.7901998162269592,
          -8.52109432220459,
          -1.2281790971755981,
          -2.1334357261657715,
          -1.4501469135284424,
          2.9349493980407715,
          -1.5941083431243896,
          -7.997653484344482,
          -4.78575325012207,
          -6.61954402923584,
          -1.442489504814148,
          1.0657439231872559,
          -4.946704387664795,
          -4.29992151260376,
          0.34164437651634216,
          -3.1931138038635254,
          1.191755771636963,
          -7.388291358947754,
          -4.149744987487793,
          11.951217651367188,
          3.006585121154785,
          14.076279640197754,
          -2.3021647930145264,
          -7.215599060058594,
          -4.477092266082764,
          14.964323043823242,
          2.8580751419067383,
          -8.556035041809082,
          -7.32908821105957,
          -1.2873711585998535,
          4.35299825668335,
          -4.486016273498535,
          -8.042461395263672,
          7.967164039611816,
          -3.284597873687744,
          -4.284486293792725,
          -1.1797798871994019,
          14.317617416381836,
          14.349517822265625,
          1.2790712118148804,
          -1.6326463222503662,
          6.515440464019775,
          -2.565904140472412,
          10.08673095703125,
          -3.968963861465454,
          -3.1530885696411133,
          -0.5060007572174072,
          -3.1162376403808594,
          6.2660017013549805,
          13.346673965454102,
          8.375075340270996,
          11.56914234161377,
          0.5890563726425171,
          -4.040609836578369,
          -5.820879936218262,
          14.735103607177734,
          -2.052572727203369,
          6.099339008331299,
          -0.2411491572856903,
          -6.873149394989014,
          0.3244345486164093,
          -1.591937780380249,
          -0.8843406438827515,
          -2.7510201930999756,
          9.470566749572754,
          -4.606991291046143,
          8.491552352905273,
          -1.262734055519104,
          -1.6750285625457764,
          6.855639457702637,
          12.056900978088379,
          -8.084086418151855,
          7.850591659545898,
          3.0330214500427246,
          -8.795372009277344,
          -0.09002959728240967,
          -6.3061065673828125,
          -8.78076171875,
          9.541340827941895,
          6.73264741897583,
          -5.165769100189209,
          3.248051643371582,
          5.129124641418457,
          8.62735652923584,
          8.377910614013672,
          -8.292764663696289,
          7.824490070343018,
          -4.293668746948242,
          1.1133517026901245,
          4.66908073425293,
          14.014193534851074,
          2.007032871246338,
          -2.8544933795928955,
          5.447709560394287,
          10.4564847946167,
          -0.5670876502990723,
          8.011966705322266,
          0.5839361548423767,
          -4.46519136428833,
          -2.499096393585205,
          -3.732520341873169,
          11.45061206817627,
          -3.06881046295166,
          3.187763214111328,
          -6.680933475494385,
          -6.67113733291626,
          14.520462989807129,
          8.43824291229248,
          3.5960986614227295,
          8.31600284576416,
          2.108680486679077,
          -1.908483862876892,
          6.897810935974121,
          -0.8421263694763184,
          10.960237503051758,
          2.1318819522857666,
          -4.364114761352539,
          -1.0398576259613037,
          3.303823232650757,
          2.7689695358276367,
          10.593767166137695,
          3.390974760055542,
          8.8786039352417,
          3.6295273303985596,
          13.6974515914917,
          -8.671232223510742,
          6.656976222991943,
          -4.350903511047363,
          0.30820605158805847,
          0.3581158220767975,
          -5.0993266105651855,
          -3.312716484069824,
          8.26129150390625,
          -1.9455236196517944,
          4.6391143798828125,
          -3.0174918174743652,
          3.4387478828430176,
          -0.7679852843284607,
          -1.8342646360397339,
          -1.4584306478500366,
          -2.5637764930725098,
          -4.218349933624268,
          2.8773109912872314,
          9.900303840637207,
          -3.764092445373535,
          0.8414095640182495,
          3.198120355606079,
          -3.325810670852661,
          13.504639625549316,
          10.65262508392334,
          12.159648895263672,
          10.643866539001465,
          9.010967254638672,
          8.774951934814453,
          2.7702219486236572,
          13.293539047241211,
          5.863700866699219,
          -2.802544355392456,
          13.511331558227539,
          4.256575584411621,
          1.9642966985702515,
          9.801566123962402,
          11.671647071838379,
          5.601285934448242,
          8.14536190032959,
          -2.873067617416382,
          11.95670223236084,
          0.5768895745277405,
          13.268142700195312,
          -6.553765773773193,
          1.1872106790542603,
          -2.5808889865875244,
          13.765625953674316,
          -3.314617395401001,
          -3.640883207321167,
          5.824553966522217,
          7.332906723022461,
          2.057391405105591,
          9.02582836151123,
          13.018184661865234,
          13.418261528015137,
          -4.633991241455078,
          -8.137090682983398,
          -1.7132885456085205,
          2.022521495819092,
          0.7935683131217957,
          7.995826721191406,
          13.49924087524414,
          1.518079400062561,
          -9.013938903808594,
          9.235634803771973,
          -2.8214187622070312,
          13.359155654907227,
          10.045751571655273,
          2.7718541622161865,
          0.1347665935754776,
          6.991691589355469,
          10.959134101867676,
          2.7703263759613037,
          -2.2221739292144775,
          7.061950206756592,
          -5.183017730712891,
          7.0520548820495605,
          -1.9140512943267822,
          7.8516130447387695,
          0.8085961937904358,
          -0.022611910477280617,
          -2.6108763217926025,
          10.165836334228516,
          9.44977855682373,
          1.5707334280014038,
          8.235548973083496,
          -7.133227348327637,
          3.3312392234802246,
          -5.29425573348999,
          12.12138843536377,
          -1.5692780017852783,
          -2.7256619930267334,
          2.6985082626342773,
          -3.0462453365325928,
          8.784339904785156,
          2.9543581008911133,
          10.90041446685791,
          10.654465675354004,
          -3.55240797996521,
          12.772204399108887,
          10.81058120727539,
          5.674640655517578,
          4.47582483291626,
          11.062188148498535,
          -3.251068592071533,
          -4.766757488250732,
          6.898280143737793,
          -4.055097579956055,
          -1.252806544303894,
          -4.262996673583984,
          -3.9155142307281494,
          9.602662086486816,
          -1.8215194940567017,
          10.628519058227539,
          -7.318828105926514,
          -0.6145532727241516,
          1.5196361541748047,
          1.5872712135314941,
          10.435697555541992,
          1.4724335670471191,
          -8.184789657592773,
          -4.8051676750183105,
          13.359651565551758,
          3.302616596221924,
          13.573604583740234,
          -4.957259178161621,
          1.7967466115951538,
          0.024456266313791275,
          10.83202075958252,
          13.427631378173828,
          -1.430234432220459,
          1.9130603075027466,
          -1.3778945207595825,
          -2.1572365760803223,
          6.659231185913086,
          5.543230056762695,
          -3.4071810245513916,
          0.023634331300854683,
          12.422221183776855,
          2.315582513809204,
          -3.3337719440460205,
          -1.1654855012893677,
          13.576489448547363,
          -4.616827487945557,
          2.578765392303467,
          -1.7455486059188843,
          0.8907566666603088,
          -6.257061958312988,
          1.8865307569503784,
          10.979196548461914,
          5.950006008148193,
          9.218022346496582,
          8.154520988464355,
          6.878978729248047,
          9.89270305633545,
          10.901283264160156,
          3.5752642154693604,
          -1.0349853038787842,
          -2.765057325363159,
          -5.396894454956055,
          7.900875568389893,
          -5.076457977294922,
          -8.940550804138184,
          5.773709297180176,
          -3.030217170715332,
          2.033125638961792,
          6.2320051193237305,
          2.9195668697357178,
          -2.61215877532959,
          -0.45790526270866394,
          -3.5757765769958496,
          10.352669715881348,
          -3.138714075088501,
          -3.1391758918762207,
          1.8307358026504517,
          -2.269052267074585,
          -6.680840969085693,
          0.1362306922674179,
          -2.540630578994751,
          -0.07458191365003586,
          -5.54337215423584,
          -1.7458126544952393,
          9.176491737365723,
          -7.110230445861816,
          -2.083951473236084,
          1.9606508016586304,
          -5.955714225769043,
          7.249268054962158,
          2.2971951961517334,
          2.0894691944122314,
          -0.9016923308372498,
          -1.3107047080993652,
          11.677750587463379,
          2.7327122688293457,
          2.473458766937256,
          2.4089853763580322,
          5.199957847595215,
          -7.214382171630859,
          14.321369171142578,
          -4.436041355133057,
          0.4617711007595062,
          -0.41705286502838135,
          2.1970150470733643,
          0.35800060629844666,
          -1.4136799573898315,
          2.7973101139068604,
          11.632722854614258,
          -3.3845365047454834,
          4.691701889038086,
          -4.059335231781006,
          -4.568805694580078,
          -6.89487361907959,
          1.4900884628295898,
          8.62087631225586,
          -4.437376976013184,
          10.503074645996094,
          1.638420581817627,
          -3.1896042823791504,
          14.125937461853027,
          10.679716110229492,
          -7.5886359214782715,
          7.933998107910156,
          11.55863094329834,
          0.10977615416049957,
          -3.0030887126922607,
          8.177483558654785,
          10.563481330871582,
          14.811610221862793,
          1.513612985610962,
          -1.7929484844207764,
          -0.5308123826980591,
          -8.265060424804688,
          2.6129775047302246,
          -2.923459768295288,
          -5.275166988372803,
          5.9747443199157715,
          -4.4121856689453125,
          -1.9373441934585571,
          4.260011196136475,
          -2.4731767177581787,
          -1.639926791191101,
          10.162577629089355,
          3.9697072505950928,
          1.505671739578247,
          -6.5330634117126465,
          -6.028834342956543,
          4.783392429351807,
          -3.933669090270996,
          10.315860748291016,
          -5.2979583740234375,
          -8.297856330871582,
          -5.027489185333252,
          -1.7038514614105225,
          -2.005061149597168,
          -7.27004861831665,
          12.957122802734375,
          2.1753296852111816,
          2.116701602935791,
          3.3326780796051025,
          6.514830589294434,
          7.894143104553223,
          14.319995880126953,
          -3.1118478775024414,
          0.8297833204269409,
          12.742700576782227,
          -3.960623264312744,
          9.37951946258545,
          -0.2678932845592499,
          9.080209732055664,
          10.530847549438477
         ],
         "z": [
          -1.6569641828536987,
          -0.6115927696228027,
          -8.152721405029297,
          -5.679468154907227,
          -1.5711225271224976,
          7.8395843505859375,
          0.11847329139709473,
          -10.694172859191895,
          -6.908261775970459,
          -9.4066162109375,
          -0.2026083767414093,
          -8.86487102508545,
          3.3980484008789062,
          -7.0388336181640625,
          -8.092421531677246,
          -4.6529974937438965,
          -11.350410461425781,
          -2.677117347717285,
          -0.8310956954956055,
          2.157280206680298,
          1.5548925399780273,
          5.781476974487305,
          -8.675996780395508,
          5.721266269683838,
          -0.3756045997142792,
          -2.247288227081299,
          -0.50260329246521,
          -9.565055847167969,
          1.8946340084075928,
          6.119110107421875,
          8.035625457763672,
          7.4242658615112305,
          -1.6584649085998535,
          -4.465429306030273,
          -0.8620553612709045,
          3.198483943939209,
          -2.5752320289611816,
          -11.287590980529785,
          -9.720479965209961,
          -1.1297430992126465,
          -4.097847938537598,
          -10.319194793701172,
          -8.021739959716797,
          -0.45342081785202026,
          -1.7646238803863525,
          -5.605903148651123,
          1.15548574924469,
          -6.0805206298828125,
          -2.395840644836426,
          -3.826288938522339,
          -11.519676208496094,
          -3.2149693965911865,
          0.6322788596153259,
          -0.1984437108039856,
          6.762877941131592,
          -1.5845353603363037,
          -10.40195369720459,
          -4.607331275939941,
          -3.3681867122650146,
          -1.3528772592544556,
          1.4249011278152466,
          -2.5140466690063477,
          -2.5737364292144775,
          -4.8217620849609375,
          -12.796058654785156,
          -4.383425235748291,
          -7.188775539398193,
          -8.387292861938477,
          -8.46312427520752,
          1.4377219676971436,
          -9.042631149291992,
          -9.937849044799805,
          1.0340114831924438,
          0.11967719346284866,
          -0.8913455605506897,
          -1.77194344997406,
          -9.316340446472168,
          -4.425136089324951,
          -4.339112281799316,
          -8.286969184875488,
          -9.616759300231934,
          -7.725314617156982,
          0.6282549500465393,
          -4.966432571411133,
          -10.911757469177246,
          -12.7326078414917,
          -2.1516342163085938,
          -6.190397262573242,
          -2.5707263946533203,
          -6.733038425445557,
          -0.22280055284500122,
          3.135301113128662,
          -1.4996346235275269,
          -2.0412302017211914,
          -5.044702053070068,
          -9.755967140197754,
          -1.0625178813934326,
          0.8606404066085815,
          -5.852123260498047,
          -7.8121538162231445,
          -0.5757239460945129,
          -12.851419448852539,
          0.37294596433639526,
          0.23172405362129211,
          -6.668445587158203,
          -2.0436830520629883,
          8.083221435546875,
          -7.681641578674316,
          -3.856795310974121,
          -5.832694053649902,
          -12.403722763061523,
          -4.2714314460754395,
          -5.581466197967529,
          4.5712738037109375,
          -2.6587860584259033,
          -7.623934745788574,
          -1.7891093492507935,
          -4.886969089508057,
          -7.73826789855957,
          -1.0762286186218262,
          -0.9137248396873474,
          -2.0434088706970215,
          -5.234048366546631,
          -1.3621960878372192,
          2.590299129486084,
          -7.319935321807861,
          -11.67241096496582,
          -0.8274759650230408,
          -6.726161003112793,
          -4.205657482147217,
          -11.095884323120117,
          -0.003746684640645981,
          -1.8278168439865112,
          7.4240546226501465,
          -3.5069217681884766,
          -6.85562801361084,
          -4.860419750213623,
          -6.9584245681762695,
          -4.127909183502197,
          -0.8892825841903687,
          3.5331742763519287,
          -2.2060546875,
          -0.8320716023445129,
          3.325993299484253,
          -3.0809226036071777,
          1.4359999895095825,
          -1.8765952587127686,
          -12.759477615356445,
          -7.679140090942383,
          -8.545106887817383,
          -1.743618130683899,
          -2.797032356262207,
          -10.75003433227539,
          -1.4025404453277588,
          -3.339369773864746,
          -11.611504554748535,
          -11.706124305725098,
          -3.226088285446167,
          -3.704144239425659,
          -1.780379295349121,
          -11.271753311157227,
          -11.934743881225586,
          -1.9284372329711914,
          -4.592452526092529,
          -3.9505984783172607,
          -9.392948150634766,
          -9.47351360321045,
          -4.462216377258301,
          -2.0243237018585205,
          -2.186357259750366,
          -5.272927284240723,
          -11.391477584838867,
          2.1781749725341797,
          -3.6852805614471436,
          -6.754027366638184,
          -9.363176345825195,
          -11.514165878295898,
          -0.47265446186065674,
          -2.9103777408599854,
          -2.222378730773926,
          4.082943916320801,
          -6.536162376403809,
          -7.975829601287842,
          -3.5752029418945312,
          -11.438448905944824,
          -6.949273586273193,
          2.163015842437744,
          6.240989685058594,
          0.5154931545257568,
          -2.1931822299957275,
          -11.013396263122559,
          -3.878469467163086,
          -9.142952919006348,
          -5.1922454833984375,
          3.271442413330078,
          -4.898428916931152,
          -7.867982864379883,
          -2.480072259902954,
          -3.3021373748779297,
          -7.836907386779785,
          -12.339632987976074,
          -2.623581647872925,
          -6.572325229644775,
          -6.4387030601501465,
          0.3359704911708832,
          -8.960073471069336,
          -0.6897099018096924,
          -7.379703044891357,
          3.144272804260254,
          -2.1860976219177246,
          -4.8794779777526855,
          -1.4619383811950684,
          -1.471483826637268,
          -4.364951133728027,
          8.142793655395508,
          -11.102370262145996,
          -2.085090398788452,
          -5.884966850280762,
          1.312453269958496,
          -6.0123443603515625,
          -9.42905330657959,
          -0.10614670068025589,
          -0.26350995898246765,
          -11.447029113769531,
          -11.390898704528809,
          -11.499275207519531,
          -1.440879225730896,
          -8.654594421386719,
          -9.796188354492188,
          -7.314307689666748,
          3.7608535289764404,
          -1.620187759399414,
          -2.4453442096710205,
          -7.709810256958008,
          -8.838991165161133,
          -3.819735050201416,
          -4.801403522491455,
          -2.7911577224731445,
          0.9745286703109741,
          -4.942168235778809,
          -0.4720778465270996,
          -0.16270418465137482,
          -2.0869174003601074,
          -6.676859378814697,
          -9.671013832092285,
          -1.4924383163452148,
          -9.517107963562012,
          -4.835934162139893,
          -9.059162139892578,
          -8.332930564880371,
          -2.151108980178833,
          -10.431499481201172,
          -4.345947742462158,
          2.5822384357452393,
          1.5488886833190918,
          -5.126922607421875,
          -5.691585540771484,
          -0.7516173720359802,
          1.6266599893569946,
          -0.265747606754303,
          -4.49401330947876,
          -11.192705154418945,
          -9.656485557556152,
          -6.307067394256592,
          -7.348413467407227,
          -0.13225895166397095,
          -1.731178879737854,
          -11.838156700134277,
          0.4453169107437134,
          -9.22752857208252,
          -10.55981731414795,
          -7.430423259735107,
          -2.139357566833496,
          -1.6715221405029297,
          -0.7497086524963379,
          -3.3038535118103027,
          -0.7292544841766357,
          -10.428114891052246,
          -7.956418991088867,
          -0.5963529348373413,
          -2.6926236152648926,
          -3.025317907333374,
          1.8633562326431274,
          -0.2903999090194702,
          2.9800143241882324,
          4.158016681671143,
          1.7299085855484009,
          -0.41856396198272705,
          -3.84626841545105,
          -2.115053653717041,
          -5.710283279418945,
          -1.2915277481079102,
          -10.442651748657227,
          5.045931816101074,
          2.458789110183716,
          4.821013927459717,
          3.84053373336792,
          -1.475296139717102,
          2.401172161102295,
          3.3747103214263916,
          -3.392796039581299,
          -5.891246795654297,
          3.530940532684326,
          2.9119293689727783,
          -1.3909285068511963,
          -4.1155686378479,
          -2.390716791152954,
          -1.195743441581726,
          -2.044938564300537,
          -1.071846842765808,
          -1.8261111974716187,
          -1.5808393955230713,
          -1.0596420764923096,
          -1.8634448051452637,
          -3.6727375984191895,
          1.8037573099136353,
          -8.680868148803711,
          2.3212788105010986,
          -1.410071849822998,
          -8.040823936462402,
          -5.64561128616333,
          -7.8668599128723145,
          4.197182655334473,
          0.5966273546218872,
          -2.918898582458496,
          -1.2137820720672607,
          -11.687421798706055,
          -0.22634364664554596,
          1.974982500076294,
          -0.8988829255104065,
          -11.18733024597168,
          -11.196715354919434,
          -2.009490489959717,
          0.6820103526115417,
          -11.692028045654297,
          -4.820302963256836,
          -11.720844268798828,
          -4.290258884429932,
          -9.63916301727295,
          -10.461296081542969,
          -11.089155197143555,
          -7.512019634246826,
          0.5465236306190491,
          -0.7802356481552124,
          -1.0410456657409668,
          -3.8045713901519775,
          0.6454711556434631,
          2.5077590942382812,
          -0.2723068296909332,
          -2.083364248275757,
          -0.6558740735054016,
          0.5982919931411743,
          3.345219850540161,
          0.15351322293281555,
          -0.8585516810417175,
          0.7444179654121399,
          2.3766942024230957,
          1.623879075050354,
          0.39308562874794006,
          2.661041259765625,
          -4.057091236114502,
          2.7655327320098877,
          2.8089053630828857,
          -0.4953831434249878,
          1.1902960538864136,
          1.936901569366455,
          -0.031646840274333954,
          0.8130072355270386,
          0.8344885110855103,
          2.0365099906921387,
          0.5845864415168762,
          1.5561784505844116,
          -3.0304298400878906,
          -11.486085891723633,
          -0.2700096666812897,
          -10.3186674118042,
          -3.1170811653137207,
          0.98219895362854,
          -12.72038745880127,
          -3.9775195121765137,
          -6.1028828620910645,
          -0.33424222469329834,
          -4.1552228927612305,
          -5.291616916656494,
          -3.403728485107422,
          0.7526101469993591,
          -7.721565246582031,
          -10.238001823425293,
          -1.280275583267212,
          -6.401730537414551,
          3.3366777896881104,
          -1.065356969833374,
          -8.815235137939453,
          -1.6318683624267578,
          -1.0743954181671143,
          -0.2625911235809326,
          -1.6074753999710083,
          -0.5421130657196045,
          -1.6834633350372314,
          -7.068802833557129,
          -6.917335033416748,
          -5.428308010101318,
          -3.34306263923645,
          -1.70977783203125,
          -1.8468211889266968,
          -0.5938968658447266,
          -8.012883186340332,
          -8.062973976135254,
          0.767825186252594,
          1.1948813199996948,
          -9.990144729614258,
          -12.485888481140137,
          -5.259361267089844,
          -5.702819347381592,
          -4.888301372528076,
          -3.054307460784912,
          -2.0501976013183594,
          -0.1335199475288391,
          0.5991679430007935,
          5.294012546539307,
          -2.5614452362060547,
          -2.761634111404419,
          2.9291608333587646,
          -10.268195152282715,
          -3.4705424308776855,
          -0.5686268210411072,
          -1.3913533687591553,
          -12.19473648071289,
          -5.504932403564453,
          1.190638542175293,
          -10.29065990447998,
          2.9147589206695557,
          -4.642946243286133,
          -1.429193139076233,
          -3.1432363986968994,
          -9.235419273376465,
          -0.793186604976654,
          -6.6703596115112305,
          3.547213077545166,
          -0.6876543760299683,
          -2.3135361671447754,
          -12.470867156982422,
          -10.227355003356934,
          3.1848809719085693,
          -9.190085411071777,
          -9.512616157531738,
          5.917791366577148,
          -0.23401129245758057,
          -0.7650695443153381,
          -1.994214653968811,
          -12.42881965637207,
          -11.2872896194458,
          -4.149337291717529,
          2.3073275089263916,
          -4.579719543457031,
          0.9373682141304016,
          3.9064722061157227,
          -2.947683334350586,
          -0.7753353118896484,
          -6.437639236450195,
          -8.94930648803711,
          -9.71072769165039,
          2.6879022121429443,
          -3.3274824619293213,
          4.688480854034424,
          -2.921309232711792,
          3.307900905609131,
          -6.6588239669799805,
          -6.360070705413818,
          -10.98901653289795,
          -11.536133766174316,
          -6.934741020202637,
          -3.768982172012329,
          1.9187328815460205,
          -8.996830940246582,
          -7.968714714050293,
          -11.20053482055664,
          1.6531230211257935,
          -8.092466354370117,
          -3.1428260803222656,
          0.35079944133758545,
          -4.448060989379883,
          4.773661136627197,
          -4.183393955230713,
          -6.653726577758789,
          3.0827622413635254,
          -7.482076168060303,
          -7.104757308959961,
          -2.306245803833008,
          -2.8143112659454346,
          -4.981201171875,
          -9.089373588562012,
          -3.4237630367279053,
          -2.051731586456299,
          -7.076875686645508,
          -12.647017478942871,
          -3.480053663253784,
          -4.3418288230896,
          3.08526349067688,
          -9.270013809204102,
          -9.322402000427246,
          -1.399474024772644,
          0.5621165037155151,
          -5.671091556549072,
          -6.091646671295166,
          -4.003971099853516,
          -1.5511852502822876,
          -3.8273370265960693,
          -8.695732116699219,
          -2.3711886405944824,
          1.1003013849258423,
          1.381222128868103,
          -1.724904179573059,
          -5.739153861999512,
          -1.7020173072814941,
          -5.803717613220215,
          -8.49552059173584,
          -11.007189750671387,
          0.2795683443546295,
          2.2094483375549316,
          -7.759866237640381,
          -5.735447406768799,
          -3.673902988433838,
          -12.322734832763672,
          -3.4554684162139893,
          3.3236889839172363,
          0.8566514849662781,
          -1.4093414545059204,
          -7.882103443145752,
          -7.7133893966674805,
          1.7486484050750732,
          -12.689630508422852,
          -1.3943873643875122,
          -3.0607826709747314,
          6.448409557342529,
          -4.33408260345459,
          7.8309173583984375,
          -1.547491431236267,
          -8.551756858825684,
          -4.748887062072754,
          -8.757058143615723,
          -4.322085380554199,
          4.358327865600586,
          -1.7467830181121826,
          -1.6918251514434814,
          -2.9623923301696777,
          -11.30079174041748,
          -4.4196248054504395,
          -8.587919235229492,
          -5.940540790557861,
          -11.486283302307129,
          -4.8547163009643555,
          -5.2928056716918945,
          -4.188759803771973,
          -5.424490451812744,
          -3.76265811920166,
          -4.295775890350342,
          -3.5562260150909424,
          -5.0038909912109375,
          -1.0786598920822144,
          0.37552493810653687,
          3.999282121658325,
          -11.883451461791992,
          -1.0520583391189575,
          7.588787078857422,
          -4.128901958465576,
          -0.4162195920944214,
          -5.801747798919678,
          -9.631888389587402,
          -5.435223579406738,
          1.9687697887420654,
          -3.5695910453796387,
          -11.215043067932129,
          -9.33132553100586,
          -6.408617973327637,
          -10.778307914733887,
          -2.2399046421051025,
          -3.666032552719116,
          -2.550368309020996,
          -3.2117555141448975,
          -0.11808108538389206,
          -0.2651825249195099,
          -1.2845784425735474,
          -2.028125047683716,
          -4.380383491516113,
          -10.201685905456543,
          -10.516472816467285,
          -4.36912202835083,
          7.537079334259033,
          -5.947250843048096,
          8.475241661071777,
          -2.958008289337158,
          -0.7889757752418518,
          4.969511032104492,
          -12.783515930175781,
          -2.4505579471588135,
          -7.437510967254639,
          -11.805628776550293,
          -9.859980583190918,
          -7.325672626495361,
          0.6572460532188416,
          -1.4342730045318604,
          -2.20159912109375,
          -1.8215112686157227,
          -4.045050621032715,
          -7.766608238220215,
          -7.010893821716309,
          -10.06074047088623,
          3.515185832977295,
          -0.6406286358833313,
          2.882477045059204,
          -1.1330981254577637,
          -2.6596293449401855,
          -4.010691165924072,
          -2.313509941101074,
          -8.918329238891602,
          -1.3726110458374023,
          -3.763322353363037,
          -7.739895820617676,
          1.4862797260284424,
          -6.786923408508301,
          1.783129334449768,
          -2.7523250579833984,
          -2.364572048187256,
          2.835928440093994,
          -8.073562622070312,
          0.5358375906944275,
          3.3625640869140625,
          -1.318171739578247,
          1.9975574016571045,
          -0.06641130149364471,
          -0.42029863595962524,
          3.676832675933838,
          -6.799106597900391,
          -11.621596336364746,
          -1.739990234375,
          -0.5517417192459106,
          -3.6973700523376465,
          -9.822162628173828,
          -2.5874688625335693,
          -1.6772059202194214,
          7.95975923538208,
          -4.232681751251221,
          -5.494220733642578,
          -2.7429826259613037,
          0.2861137092113495,
          -6.877139091491699,
          -9.1533842086792,
          -9.973617553710938,
          -2.5831000804901123,
          1.1890674829483032,
          -6.945431232452393,
          -5.814878463745117,
          -1.2107635736465454,
          -8.431113243103027,
          -1.8830771446228027,
          -10.690352439880371,
          -5.7039971351623535,
          -10.3275728225708,
          -0.5135422945022583,
          -1.6660715341567993,
          -6.626166820526123,
          -6.020852565765381,
          -5.201240539550781,
          -4.834028720855713,
          2.083987236022949,
          -1.8397588729858398,
          4.6352410316467285,
          -2.4559895992279053,
          -12.649771690368652,
          0.31357207894325256,
          0.47044816613197327,
          -4.418425559997559,
          -1.2780715227127075,
          8.578132629394531,
          -1.3847984075546265,
          -12.439541816711426,
          -5.719785213470459,
          -7.730216979980469,
          -0.1289679855108261,
          -11.059842109680176,
          -5.626559257507324,
          -9.538594245910645,
          -4.378118991851807,
          4.529489994049072,
          -1.8784030675888062,
          -1.5381324291229248,
          -1.5713400840759277,
          1.5134692192077637,
          -1.01683509349823,
          0.5270496606826782,
          -4.177759647369385,
          -5.065229892730713,
          -3.0573244094848633,
          -1.4411487579345703,
          1.6325770616531372,
          0.5576725006103516,
          -1.8754080533981323,
          -9.10026741027832,
          0.5374742150306702,
          -1.1088415384292603,
          -0.9987504482269287,
          -0.7714257836341858,
          1.65606689453125,
          -11.689305305480957,
          0.48582249879837036,
          -10.44973087310791,
          -6.719168663024902,
          -2.466787338256836,
          -5.306926727294922,
          -6.036794185638428,
          -10.078319549560547,
          -8.662801742553711,
          -0.7569353580474854,
          -0.6214850544929504,
          -6.511514186859131,
          -6.469584941864014,
          -6.127847671508789,
          -1.983331561088562,
          -3.537767171859741,
          2.626697540283203,
          4.085191249847412,
          -1.4085108041763306,
          -1.1932870149612427,
          -6.894850730895996,
          -0.4243471324443817,
          -2.3262851238250732,
          3.1551733016967773,
          -4.226373672485352,
          -3.7955193519592285,
          -12.43545150756836,
          -0.6787841320037842,
          -1.1627264022827148,
          -1.2314294576644897,
          6.194754600524902,
          0.4640216827392578,
          0.9474911689758301,
          -2.526097297668457,
          1.8124775886535645,
          -2.0350894927978516,
          -8.821367263793945,
          -1.6697685718536377,
          -5.483951091766357,
          8.646919250488281,
          -6.018007278442383,
          -11.903003692626953,
          -11.232007026672363,
          -1.4663633108139038,
          1.5691882371902466,
          -6.650126934051514,
          -8.149682998657227,
          3.8948612213134766,
          -4.986938953399658,
          -0.6665940284729004,
          -2.16900634765625,
          -0.11057359725236893,
          -6.734155178070068,
          0.07758896052837372,
          -0.5217479467391968,
          -1.9413807392120361,
          -12.577550888061523,
          -1.103479266166687,
          -1.5484975576400757,
          -0.6894704699516296,
          -11.105245590209961,
          -9.203359603881836,
          -4.102880001068115,
          -5.4091081619262695,
          6.801164627075195,
          -0.8475771546363831,
          -5.585961818695068,
          -7.519070148468018,
          -0.6225060820579529,
          -1.4459483623504639,
          -3.5109646320343018,
          -8.055809020996094,
          -2.7183127403259277,
          -2.067802667617798,
          0.788385272026062,
          -5.757883548736572,
          -4.957756519317627,
          -6.9834747314453125,
          -1.4099669456481934,
          -2.809885025024414,
          -7.95619010925293,
          -1.5715044736862183,
          -0.2964026927947998,
          0.5336732268333435,
          -11.287137985229492,
          -7.553670406341553,
          -3.7731728553771973,
          -9.186141967773438,
          -0.9063379764556885,
          -4.626307487487793,
          -7.278936862945557,
          -0.9954721331596375,
          -6.070219039916992,
          -4.0648274421691895,
          -7.662392616271973,
          -4.5907301902771,
          5.590677738189697,
          -5.707009315490723,
          2.0245468616485596,
          -9.311495780944824,
          -7.991360664367676,
          -3.6055123805999756,
          -6.603087425231934,
          5.129146099090576,
          6.726712226867676,
          -7.338708400726318,
          -2.770148992538452,
          6.392092704772949,
          3.400513172149658,
          -11.346905708312988,
          -9.50649356842041,
          -11.67449951171875,
          -4.886005401611328,
          -6.221698760986328,
          8.088912963867188,
          0.7304946780204773,
          -1.0603500604629517,
          -2.09861159324646,
          7.4671173095703125,
          -2.2997119426727295,
          -4.908728122711182,
          -1.5135700702667236,
          -0.38005512952804565,
          -2.2057607173919678,
          -10.954248428344727,
          -0.14169232547283173,
          -1.329216480255127,
          -8.084662437438965,
          -10.24144458770752,
          -4.1190385818481445,
          2.287867546081543,
          -1.090628743171692,
          1.2900924682617188,
          -0.9814584255218506,
          4.052093029022217,
          1.6225069761276245,
          -1.1245383024215698,
          -0.7059037685394287,
          -1.0886708498001099,
          4.5818352699279785,
          -3.7003681659698486,
          0.4600136876106262,
          -0.7816686034202576,
          0.5070236921310425,
          3.204294443130493,
          8.33139705657959,
          -6.810405731201172,
          -1.5033992528915405,
          -2.6657607555389404,
          -8.89626693725586,
          -5.432497024536133,
          -2.1540462970733643,
          -12.79716682434082,
          -7.177006721496582,
          -8.977941513061523,
          -4.000472545623779,
          -1.0321767330169678,
          -5.199000835418701,
          -5.4971747398376465,
          -7.359452724456787,
          -11.36470890045166,
          -10.45697021484375,
          -8.05687141418457,
          1.9003254175186157,
          0.9001471996307373,
          -6.695633411407471,
          1.117602825164795,
          -6.087388038635254,
          -7.4800214767456055,
          3.448720932006836,
          0.43865764141082764,
          1.8562265634536743,
          -0.006351855583488941,
          -11.492587089538574,
          -5.138912677764893,
          4.992763042449951,
          -6.552538871765137,
          7.766808986663818,
          -8.263731002807617,
          3.299760580062866,
          -9.92031192779541,
          1.295500636100769,
          -1.0111358165740967,
          -1.316124439239502,
          -0.4150868058204651,
          -8.116874694824219,
          -11.274923324584961,
          -0.18136629462242126,
          -9.110321998596191,
          -6.362094879150391,
          -3.8898801803588867,
          -2.4980602264404297,
          -6.563022136688232,
          -1.0314894914627075,
          -7.550607204437256,
          -1.2550872564315796,
          8.475152015686035,
          -5.907293796539307,
          -2.410667657852173,
          0.6357886791229248,
          -7.009774684906006,
          1.536211371421814,
          -7.726589202880859,
          -7.525711536407471,
          -9.494161605834961,
          -5.270890235900879,
          4.456319808959961,
          -12.649739265441895,
          -4.78581428527832,
          -1.1938848495483398,
          -10.217617988586426,
          -5.8572235107421875,
          -0.018761837854981422,
          -11.119873046875,
          -12.170310974121094,
          -10.401318550109863,
          -1.3441768884658813,
          -0.6369314789772034,
          -7.7548112869262695,
          -4.868603229522705,
          -4.573955535888672,
          -10.520488739013672,
          -5.143219470977783,
          -11.381728172302246,
          2.6460299491882324,
          -10.415365219116211,
          -4.008975982666016,
          -7.0525712966918945,
          0.8499091267585754,
          -5.702474594116211,
          -2.378146171569824,
          -2.7231509685516357,
          -3.1390326023101807,
          -5.703221321105957,
          -7.670912742614746,
          -10.30668830871582,
          -9.110296249389648,
          -2.7163784503936768,
          -7.146615505218506,
          -1.1289582252502441,
          -8.73137092590332,
          0.051567234098911285,
          -2.9039485454559326,
          -9.665909767150879,
          -5.24628210067749,
          -7.097167491912842,
          6.355961799621582,
          -7.397007465362549,
          -8.691566467285156,
          -5.788129806518555,
          -5.999206066131592,
          -4.555934429168701,
          -0.7777513861656189,
          -10.430459022521973,
          -0.9038940072059631,
          -0.797049343585968,
          -6.215394496917725,
          0.42573967576026917,
          -3.7012991905212402,
          -5.315605163574219,
          -11.193021774291992,
          -10.07178020477295,
          -2.898228406906128,
          -3.061556816101074,
          -2.8616535663604736,
          -11.98066520690918,
          1.2016117572784424,
          3.1103367805480957,
          -7.4409942626953125,
          0.9816075563430786,
          0.727493166923523,
          -9.54808521270752,
          -7.031169891357422,
          2.0447678565979004,
          3.7150590419769287,
          6.587191581726074,
          -8.0812349319458,
          -4.438195705413818,
          -4.04240083694458,
          -5.117101669311523,
          -2.578498601913452,
          -6.779757022857666,
          -0.9087348580360413,
          -10.859886169433594,
          -1.0593870878219604,
          -4.907074928283691,
          -0.32940244674682617,
          -5.878228664398193,
          0.6637570261955261,
          -4.033915042877197,
          -10.170101165771484,
          -6.7569146156311035,
          8.490756034851074,
          -0.4304347038269043,
          -6.438564300537109,
          -3.141785144805908,
          -7.86331844329834,
          -7.468596458435059,
          2.647023916244507,
          -8.018939018249512,
          -6.456520080566406,
          -4.351315975189209,
          -4.498563289642334,
          -7.147956848144531,
          -1.4342231750488281,
          5.905425071716309,
          4.725403785705566,
          -8.631065368652344,
          -5.819161415100098,
          -12.018654823303223,
          -12.745984077453613,
          -11.324145317077637,
          -7.652191162109375,
          -6.3056840896606445,
          -1.6263459920883179,
          -7.746613025665283,
          -7.584842681884766,
          1.7850693464279175,
          4.876130104064941,
          -2.3862271308898926,
          -7.417754650115967,
          -11.135079383850098,
          -1.1568233966827393,
          7.524816036224365,
          -1.5612962245941162,
          -9.754368782043457,
          -7.2899274826049805,
          -7.202367782592773,
          -11.433027267456055,
          -1.2430063486099243,
          -1.8654179573059082,
          -12.533673286437988,
          -0.8932836055755615,
          -6.445178985595703,
          3.515244483947754,
          -1.1609179973602295,
          -3.355403423309326,
          -0.46131619811058044,
          -1.5638794898986816,
          -6.78597354888916,
          -10.482891082763672,
          -0.617226243019104,
          -3.7556540966033936,
          -11.017784118652344,
          -1.102576494216919,
          -3.77724027633667,
          -10.087492942810059,
          -1.485779881477356,
          0.9344668388366699,
          -4.891461372375488,
          -3.5661165714263916,
          -2.2369027137756348,
          -1.8931529521942139,
          -2.618962049484253,
          -1.9074963331222534,
          7.253157615661621,
          -4.955632209777832,
          -7.82531213760376,
          -6.961829662322998,
          -9.765890121459961,
          1.1249518394470215,
          -11.121820449829102,
          -11.307883262634277,
          -0.6548587083816528,
          -8.777517318725586,
          6.610419750213623,
          -7.206315994262695,
          -0.3134279251098633,
          -3.119147539138794,
          -9.716161727905273,
          5.999475002288818,
          -6.614344596862793,
          -4.214282512664795,
          0.5420918464660645,
          -6.34839391708374,
          -12.578160285949707,
          -5.553560256958008,
          -10.333325386047363,
          -2.124607801437378,
          -4.157679557800293,
          -4.468135356903076,
          4.536411285400391,
          2.115928888320923,
          -1.5206940174102783,
          -0.43467244505882263,
          -0.6180056929588318,
          -3.6262083053588867,
          -11.016349792480469,
          -7.25693941116333,
          -0.726078450679779,
          7.341347694396973,
          -1.8140918016433716,
          0.32655954360961914,
          -12.139410018920898,
          1.6729793548583984,
          -2.4665236473083496,
          -3.479492664337158,
          -9.308171272277832,
          -8.177757263183594,
          -7.33091926574707,
          -7.781268119812012,
          7.109572410583496,
          -3.0309391021728516,
          -5.9763054847717285,
          -3.154874324798584,
          -11.356931686401367,
          5.9923248291015625,
          -0.6708187460899353,
          -7.367307186126709,
          -8.485973358154297,
          -0.694192111492157,
          3.2518701553344727,
          -4.941951751708984,
          -8.287932395935059,
          -7.514330863952637,
          -3.071838855743408,
          1.8575507402420044,
          -6.583187103271484,
          -5.208255290985107,
          -12.775862693786621,
          -7.457858085632324,
          -8.801958084106445,
          3.0984067916870117,
          6.07147741317749,
          -10.637141227722168,
          -10.63656997680664,
          -2.1776747703552246,
          0.8855523467063904,
          1.6575684547424316,
          -12.368980407714844,
          -11.763875961303711,
          -0.8163430094718933,
          -3.082068920135498,
          -8.185142517089844,
          -10.157648086547852,
          -4.116422653198242,
          -0.5961957573890686,
          -1.1740046739578247,
          -3.8868579864501953,
          -0.28652361035346985,
          -3.5486044883728027,
          -10.994171142578125,
          1.0040652751922607,
          -0.4362012445926666,
          -2.6753993034362793,
          -11.839020729064941,
          -6.332987308502197,
          -1.0917237997055054,
          -4.772247791290283,
          -6.3649001121521,
          2.69757342338562,
          -0.22945231199264526,
          -0.7895265817642212,
          -10.201547622680664,
          -11.116898536682129,
          -8.163769721984863,
          -10.290243148803711,
          -12.160842895507812,
          7.965754985809326,
          -7.174523830413818,
          -1.0376259088516235,
          0.600818395614624,
          4.7386555671691895,
          0.7585569024085999,
          -9.548639297485352,
          -6.187068462371826,
          -3.9902703762054443,
          -9.774511337280273,
          -8.016265869140625,
          -9.207803726196289,
          -1.27594792842865,
          -4.680587291717529,
          -6.777127742767334,
          -0.8073065876960754,
          7.841540336608887,
          -8.558015823364258,
          -7.414060592651367,
          0.5733461976051331,
          -4.360515117645264,
          2.3781681060791016,
          -9.99484634399414,
          0.7281198501586914,
          -0.3363916873931885,
          -2.4000418186187744,
          -10.604022026062012,
          3.089905261993408,
          4.121698379516602,
          -6.857300281524658,
          4.592264175415039,
          -6.232351303100586,
          -1.1311718225479126,
          -1.3231860399246216,
          -7.838534832000732,
          -2.806049108505249,
          -1.0534521341323853,
          -3.707289457321167,
          -7.2639546394348145,
          -9.862812042236328,
          -5.883394241333008,
          0.38409674167633057,
          -9.631936073303223,
          4.589542865753174,
          -6.092216968536377,
          3.399225950241089,
          -7.104616165161133,
          -0.8886154294013977,
          -7.074863910675049,
          -4.070228099822998,
          -1.1488091945648193,
          -7.108874320983887,
          -5.745880126953125,
          -11.371363639831543,
          -1.1615899801254272,
          2.2141897678375244,
          1.9776278734207153,
          -8.381438255310059,
          -7.9058122634887695,
          -9.841336250305176,
          1.833187460899353,
          -3.6907804012298584,
          -2.4637908935546875,
          5.971347332000732
         ]
        },
        {
         "hoverlabel": {
          "namelength": 0
         },
         "hovertemplate": "Dominant_Topic=Topic 3<br>0=%{x}<br>1=%{y}<br>2=%{z}",
         "legendgroup": "Dominant_Topic=Topic 3",
         "marker": {
          "color": "#ab63fa",
          "opacity": 0.7,
          "symbol": "circle"
         },
         "mode": "markers",
         "name": "Dominant_Topic=Topic 3",
         "scene": "scene",
         "showlegend": true,
         "type": "scatter3d",
         "x": [
          -1.465192198753357,
          -2.1578481197357178,
          -2.864948034286499,
          0.7532059550285339,
          -1.0950411558151245,
          -4.319212436676025,
          0.8415679335594177,
          -1.3067283630371094,
          -1.2604103088378906,
          -3.494173526763916,
          -1.6271647214889526,
          -2.524779796600342,
          3.7841556072235107,
          -4.675263404846191,
          2.555037021636963,
          -0.8736356496810913,
          -0.27065327763557434,
          2.638958215713501,
          3.293893575668335,
          0.8114072680473328,
          -2.4487144947052,
          -4.195289134979248,
          -2.302182197570801,
          -4.556956768035889,
          -0.6759421825408936,
          -3.4061591625213623,
          -3.078648805618286,
          -0.36199912428855896,
          0.826920211315155,
          -0.16477492451667786,
          -3.519604444503784,
          1.0638357400894165,
          -4.925197124481201,
          -0.1144690215587616,
          -2.4047489166259766,
          -4.643105506896973,
          -4.731535911560059,
          -2.7580201625823975,
          -1.9013396501541138,
          -3.055678129196167,
          1.794171929359436,
          0.17596818506717682,
          -1.112343430519104,
          -2.8887057304382324,
          3.488736867904663,
          -2.4689486026763916,
          3.0853939056396484,
          -4.033535003662109,
          0.26156702637672424,
          2.706803798675537,
          0.5401063561439514,
          0.11068228632211685,
          2.67026686668396,
          -2.7833712100982666,
          -5.057358264923096,
          -2.4061405658721924,
          -4.934752941131592,
          -3.1689419746398926,
          -4.8601226806640625,
          -4.45053243637085,
          -4.652635097503662,
          0.34878799319267273,
          -3.4930503368377686,
          -4.996297836303711,
          -4.229306697845459,
          -5.503370761871338,
          -4.978823661804199,
          -1.4891653060913086,
          -3.3936502933502197,
          -5.527462482452393,
          -2.9277639389038086,
          -2.810680866241455,
          -4.834821701049805,
          -0.14309482276439667,
          -3.3532800674438477,
          -1.2320938110351562,
          -3.2101104259490967,
          -4.168292045593262,
          -4.984782695770264,
          0.2433180958032608,
          3.030752420425415,
          -1.9761834144592285,
          -1.0521737337112427,
          3.023493766784668,
          -3.7843854427337646,
          -4.815887451171875,
          0.6927462816238403,
          -4.880308628082275,
          -3.05214786529541,
          -3.521562099456787,
          0.0160515159368515,
          2.736466884613037,
          -5.047083377838135,
          -2.6347477436065674,
          -1.0694975852966309,
          2.6931941509246826,
          -4.309942245483398,
          -4.577913761138916,
          -2.060945510864258,
          -0.48123860359191895,
          2.7345683574676514,
          -4.127084732055664,
          -3.818465232849121,
          -5.3774895668029785,
          2.2965810298919678,
          1.120761513710022,
          -1.2459959983825684,
          -2.101154327392578,
          4.084601402282715,
          -4.726917743682861,
          1.2944667339324951,
          3.6668756008148193,
          1.8660132884979248,
          -0.37544533610343933,
          -2.972322940826416,
          -1.3894535303115845,
          0.4970338046550751,
          -4.712162017822266,
          -0.822038471698761,
          -0.25762301683425903,
          -1.4770307540893555,
          -0.20552539825439453,
          -2.8730950355529785,
          -3.056400775909424,
          -1.7756752967834473,
          0.3443613350391388,
          -0.6143223643302917,
          -4.622742176055908,
          -3.373746156692505,
          -1.1584793329238892,
          1.592292070388794,
          -1.75340735912323,
          3.018134832382202,
          -0.34965622425079346,
          -2.880176305770874,
          3.494558334350586,
          -1.4447962045669556,
          -0.8027908802032471,
          -1.110234260559082,
          1.406450629234314,
          5.5740647315979,
          2.3162941932678223,
          -1.9713143110275269,
          -4.8845367431640625,
          1.6880007982254028,
          2.996765375137329,
          -4.595608711242676,
          -5.100152969360352,
          1.9840420484542847,
          -4.947505950927734,
          -3.0011627674102783,
          -4.871139049530029,
          -4.604207515716553,
          -5.338311672210693,
          1.0928548574447632,
          -5.0017476081848145,
          -4.7834553718566895,
          -5.084505558013916,
          0.6016440987586975,
          1.3880493640899658,
          -4.920974254608154,
          2.256326198577881,
          -1.15823233127594,
          -4.720626354217529,
          -5.5136542320251465,
          0.8818939924240112,
          -4.985086917877197,
          -1.3285472393035889,
          -1.5358469486236572,
          -0.47676822543144226,
          -2.890608310699463,
          -5.12716817855835,
          -3.3984012603759766,
          3.6451778411865234,
          -1.5734424591064453,
          -4.923009395599365,
          1.4321357011795044,
          -2.5278966426849365,
          -3.541358470916748,
          -4.92303466796875,
          -3.9204964637756348,
          -1.1482551097869873,
          0.3887470066547394,
          5.2948689460754395,
          3.407078742980957,
          3.253929615020752,
          3.1201255321502686,
          -2.477325201034546,
          2.382079839706421,
          -3.9563374519348145,
          -1.413499116897583,
          -2.79485821723938,
          3.1717443466186523,
          -4.834679126739502,
          -2.789480447769165,
          -1.6694176197052002,
          -2.8274357318878174,
          -2.065730571746826,
          0.31685978174209595,
          5.358767032623291,
          3.251878261566162,
          -5.464215278625488,
          -4.965798377990723,
          2.6647090911865234,
          1.1950865983963013,
          -3.6459767818450928,
          -3.192889928817749,
          -0.8477593660354614,
          1.7202613353729248,
          -4.5122904777526855,
          -2.4058926105499268,
          2.81467866897583,
          -2.329848051071167,
          0.3982032537460327,
          -2.5586063861846924,
          -1.8903025388717651,
          -3.4793407917022705,
          0.4680382311344147,
          2.9598124027252197,
          -1.652858853340149,
          -2.999131679534912,
          -1.900152564048767,
          0.9719700813293457,
          5.371779918670654,
          -0.7050027251243591,
          -2.4103424549102783,
          -0.16751347482204437,
          3.760174512863159,
          -3.2625174522399902,
          6.621488094329834,
          -2.9220151901245117,
          -0.026444092392921448,
          2.3036141395568848,
          2.5230748653411865,
          -3.3267247676849365,
          0.9025774002075195,
          -3.542050361633301,
          -5.424971580505371,
          -2.413050889968872,
          -0.05600077286362648,
          0.31287193298339844,
          -2.3219408988952637,
          -4.894676208496094,
          -3.912752151489258,
          3.277184247970581,
          -2.8220930099487305,
          -1.6444411277770996,
          -2.1579599380493164,
          -1.0467779636383057,
          -0.3137577176094055,
          -4.05841064453125,
          -0.07649806886911392,
          -4.795619487762451,
          3.17085862159729,
          6.543991565704346,
          -2.5337867736816406,
          0.7744378447532654,
          2.7291171550750732,
          -4.555011749267578,
          -3.1238396167755127,
          -5.064540386199951,
          -1.3248530626296997,
          -2.912710189819336,
          -4.749868869781494,
          -2.3099453449249268,
          -4.897737979888916,
          -3.750241994857788,
          -4.0198540687561035,
          0.1978282630443573,
          3.0587737560272217,
          3.8187568187713623,
          1.0998469591140747,
          3.299252510070801,
          -0.03506872430443764,
          -3.2176666259765625,
          6.231332778930664,
          -2.159684181213379,
          -3.2600290775299072,
          -1.5541877746582031,
          -1.4202675819396973,
          6.322692394256592,
          6.325901031494141,
          6.5492095947265625,
          -0.0852593258023262,
          2.612027645111084,
          2.3815925121307373,
          -2.120631694793701,
          -4.887426376342773,
          -3.447296380996704,
          -4.426612377166748,
          -3.7661097049713135,
          -0.809089720249176,
          -0.56133633852005,
          -0.09820395708084106,
          -0.5310289263725281,
          3.7929062843322754,
          -1.2186449766159058,
          3.6898961067199707,
          -4.9501800537109375,
          -0.5078732967376709,
          0.7491928339004517,
          0.9208109378814697,
          -1.8401947021484375,
          -5.436384201049805,
          3.038505792617798,
          -1.3621312379837036,
          3.6241695880889893,
          -3.075791597366333,
          2.4381651878356934,
          1.6752288341522217,
          -4.934413909912109,
          -1.7358858585357666,
          -1.9346423149108887,
          -2.646232843399048,
          -5.071915149688721,
          -1.4082099199295044,
          2.4842898845672607,
          3.021786689758301,
          -1.4283915758132935,
          0.3708067834377289,
          0.8519074320793152,
          2.936746120452881,
          -1.6030383110046387
         ],
         "y": [
          -8.571672439575195,
          -15.456814765930176,
          -7.571008205413818,
          -10.55713176727295,
          -14.645410537719727,
          -17.11821746826172,
          -7.3280229568481445,
          -13.694896697998047,
          -14.721549034118652,
          -10.740545272827148,
          -12.352481842041016,
          -16.114635467529297,
          -9.520261764526367,
          -16.01894187927246,
          -8.983839988708496,
          -8.462933540344238,
          -8.132922172546387,
          -5.467613220214844,
          -7.0956597328186035,
          -6.196778297424316,
          -15.661186218261719,
          -7.197432994842529,
          -14.209104537963867,
          -17.510440826416016,
          -7.388960838317871,
          -14.20779037475586,
          -8.605857849121094,
          -7.08964729309082,
          -9.836126327514648,
          -9.713333129882812,
          -11.64322280883789,
          -10.623058319091797,
          -12.474640846252441,
          -13.682374954223633,
          -8.713603973388672,
          -18.331527709960938,
          -14.327950477600098,
          -14.883155822753906,
          -10.489957809448242,
          -9.132658004760742,
          -7.987444877624512,
          -9.249347686767578,
          -12.624217987060547,
          -11.1450777053833,
          -7.946743965148926,
          -8.24657154083252,
          -5.724146842956543,
          -12.392600059509277,
          -10.825305938720703,
          -8.044510841369629,
          -5.3387956619262695,
          -5.547651290893555,
          -9.539656639099121,
          -7.18282413482666,
          -17.30116844177246,
          -7.4901041984558105,
          -9.119773864746094,
          -14.934572219848633,
          -11.256240844726562,
          -10.467588424682617,
          -9.251029968261719,
          -9.801438331604004,
          -11.871822357177734,
          -8.262206077575684,
          -10.438904762268066,
          -8.341924667358398,
          -14.743396759033203,
          -10.355536460876465,
          -8.500032424926758,
          -8.10970687866211,
          -11.803533554077148,
          -8.922246932983398,
          -17.972238540649414,
          -9.890068054199219,
          -10.4683837890625,
          -7.1563849449157715,
          -13.154535293579102,
          -13.960332870483398,
          -11.333956718444824,
          -5.6620330810546875,
          -6.0426836013793945,
          -7.531338691711426,
          -9.654561996459961,
          -6.418351173400879,
          -7.105104446411133,
          -11.387396812438965,
          -7.733862400054932,
          -16.915559768676758,
          -9.874616622924805,
          -11.825222969055176,
          -7.690158843994141,
          -8.662168502807617,
          -17.061473846435547,
          -13.28228759765625,
          -9.392295837402344,
          -7.978636264801025,
          -8.371736526489258,
          -15.932281494140625,
          -10.46214485168457,
          -9.029138565063477,
          -6.5838494300842285,
          -17.027902603149414,
          -16.9597110748291,
          -8.881714820861816,
          -8.915369033813477,
          -11.079927444458008,
          -10.141739845275879,
          -11.888107299804688,
          -5.223513126373291,
          -12.721922874450684,
          -11.045257568359375,
          -7.641091823577881,
          -10.233346939086914,
          -10.41455364227295,
          -8.26649284362793,
          -15.03464412689209,
          -9.780613899230957,
          -16.373899459838867,
          -8.424152374267578,
          -8.01567268371582,
          -12.69992446899414,
          -5.328942775726318,
          -14.923504829406738,
          -8.967816352844238,
          -15.810283660888672,
          -9.277963638305664,
          -8.236063003540039,
          -18.09658432006836,
          -13.913872718811035,
          -15.120478630065918,
          -10.186848640441895,
          -15.81712818145752,
          -10.206592559814453,
          -7.866322040557861,
          -8.201654434204102,
          -7.375208854675293,
          -14.666435241699219,
          -10.70840835571289,
          -14.142796516418457,
          -5.164351940155029,
          -5.747363090515137,
          -8.741042137145996,
          -8.796100616455078,
          -11.816884994506836,
          -10.210654258728027,
          -5.1594085693359375,
          -14.701292037963867,
          -17.023666381835938,
          -9.304961204528809,
          -17.69137191772461,
          -9.880511283874512,
          -16.357826232910156,
          -7.402517318725586,
          -8.751534461975098,
          -10.294988632202148,
          -11.443726539611816,
          -11.983916282653809,
          -16.941883087158203,
          -10.39105224609375,
          -12.284761428833008,
          -13.866012573242188,
          -7.766476631164551,
          -9.681001663208008,
          -8.453722953796387,
          -8.361555099487305,
          -7.535159111022949,
          -16.701478958129883,
          -12.847978591918945,
          -13.510050773620605,
          -7.360517978668213,
          -15.301275253295898,
          -16.29503631591797,
          -8.93842887878418,
          -5.368369102478027,
          -10.076170921325684,
          -17.523168563842773,
          -7.906147003173828,
          -13.272132873535156,
          -10.085220336914062,
          -17.523160934448242,
          -12.660082817077637,
          -8.925193786621094,
          -5.576172351837158,
          -5.565402507781982,
          -4.764737606048584,
          -6.464329242706299,
          -6.683762073516846,
          -8.81126594543457,
          -7.189267158508301,
          -16.548179626464844,
          -8.664558410644531,
          -10.438215255737305,
          -9.840875625610352,
          -17.972339630126953,
          -8.625957489013672,
          -12.375283241271973,
          -6.858828067779541,
          -13.13222885131836,
          -12.420549392700195,
          -5.437123775482178,
          -7.578945636749268,
          -8.420002937316895,
          -16.156841278076172,
          -7.057204723358154,
          -9.826056480407715,
          -8.337455749511719,
          -13.4845609664917,
          -9.041580200195312,
          -8.914774894714355,
          -17.723581314086914,
          -10.926231384277344,
          -9.219112396240234,
          -8.652307510375977,
          -6.136199474334717,
          -9.030843734741211,
          -11.723188400268555,
          -8.476106643676758,
          -8.28897762298584,
          -10.067095756530762,
          -9.524531364440918,
          -8.438278198242188,
          -9.380642890930176,
          -10.524880409240723,
          -5.572070598602295,
          -8.966191291809082,
          -7.497852325439453,
          -9.776124954223633,
          -9.66094970703125,
          -8.475260734558105,
          -8.178363800048828,
          -11.13026237487793,
          -7.800347805023193,
          -8.771876335144043,
          -8.461938858032227,
          -14.218982696533203,
          -5.6081624031066895,
          -14.078598022460938,
          -9.164576530456543,
          -7.176372051239014,
          -7.703354358673096,
          -9.062179565429688,
          -12.682662010192871,
          -15.047760009765625,
          -13.994619369506836,
          -6.438223361968994,
          -13.630001068115234,
          -12.679900169372559,
          -12.936120986938477,
          -9.057210922241211,
          -7.306351661682129,
          -17.057964324951172,
          -6.767704010009766,
          -17.549579620361328,
          -7.695319652557373,
          -6.330112934112549,
          -8.734675407409668,
          -5.393828868865967,
          -9.639324188232422,
          -7.62744140625,
          -15.548184394836426,
          -16.17022132873535,
          -8.882759094238281,
          -15.887399673461914,
          -18.4293212890625,
          -11.505365371704102,
          -12.626058578491211,
          -13.580194473266602,
          -10.245710372924805,
          -7.512815475463867,
          -6.578437328338623,
          -7.7319159507751465,
          -5.165548324584961,
          -5.388630390167236,
          -7.758719444274902,
          -16.393909454345703,
          -8.029242515563965,
          -16.377212524414062,
          -10.3368501663208,
          -15.14828872680664,
          -12.864384651184082,
          -7.658344745635986,
          -5.8618550300598145,
          -6.387454509735107,
          -10.636591911315918,
          -10.113455772399902,
          -8.225534439086914,
          -12.985007286071777,
          -11.639750480651855,
          -14.780085563659668,
          -11.909592628479004,
          -11.004456520080566,
          -9.056275367736816,
          -12.80534553527832,
          -13.718153953552246,
          -8.650412559509277,
          -7.710216045379639,
          -10.665962219238281,
          -7.9634785652160645,
          -14.622600555419922,
          -6.290500640869141,
          -12.465279579162598,
          -10.565123558044434,
          -15.817845344543457,
          -8.881426811218262,
          -7.911163330078125,
          -11.314627647399902,
          -8.191515922546387,
          -14.788411140441895,
          -8.494377136230469,
          -11.815167427062988,
          -13.590587615966797,
          -11.187767028808594,
          -8.329854011535645,
          -13.105642318725586,
          -16.639558792114258,
          -8.808788299560547,
          -7.2950758934021,
          -7.474986553192139,
          -8.75063419342041,
          -7.854602336883545,
          -11.03415584564209,
          -6.74141263961792,
          -8.885926246643066
         ],
         "z": [
          6.80825138092041,
          7.942686080932617,
          2.43133282661438,
          7.549224853515625,
          7.894174098968506,
          7.087497234344482,
          -0.31119051575660706,
          8.336287498474121,
          7.965746879577637,
          5.682275772094727,
          8.207886695861816,
          7.878894329071045,
          9.962495803833008,
          5.9832305908203125,
          9.199790954589844,
          -0.36937233805656433,
          7.630366802215576,
          5.8934326171875,
          8.298502922058105,
          5.25448751449585,
          7.830209255218506,
          2.4895262718200684,
          7.763815402984619,
          7.077615737915039,
          6.109307765960693,
          6.523827075958252,
          0.6849331259727478,
          4.18908166885376,
          0.1572290062904358,
          7.1063103675842285,
          4.712220668792725,
          9.149712562561035,
          5.016713619232178,
          8.895861625671387,
          2.2239058017730713,
          7.313448905944824,
          5.750568866729736,
          7.427096366882324,
          7.606918811798096,
          5.222359657287598,
          6.977403163909912,
          -0.902521550655365,
          8.509483337402344,
          2.799278497695923,
          9.09354019165039,
          5.214501857757568,
          6.224954605102539,
          5.756834983825684,
          8.944926261901855,
          8.523751258850098,
          4.453761100769043,
          4.562641143798828,
          9.466775894165039,
          3.6861166954040527,
          6.71895694732666,
          3.3767619132995605,
          2.5467073917388916,
          6.094021797180176,
          4.510326862335205,
          3.4190099239349365,
          2.9948208332061768,
          6.9540276527404785,
          4.17136812210083,
          1.8526911735534668,
          3.2616350650787354,
          2.4428415298461914,
          5.816551208496094,
          7.922849178314209,
          1.2387200593948364,
          2.3258492946624756,
          3.4875433444976807,
          2.1520683765411377,
          7.060149669647217,
          7.356302738189697,
          5.801033020019531,
          3.655707359313965,
          6.952529430389404,
          6.203944206237793,
          4.4315948486328125,
          4.178437232971191,
          6.555698394775391,
          3.501826763153076,
          7.932929992675781,
          7.3259735107421875,
          2.907543659210205,
          4.611428737640381,
          -0.4480423033237457,
          6.680408954620361,
          5.870621681213379,
          4.1354498863220215,
          7.406870365142822,
          7.782212257385254,
          6.623549938201904,
          7.490246772766113,
          7.805100440979004,
          7.938409805297852,
          1.4096894264221191,
          6.196632385253906,
          7.31142520904541,
          0.14789393544197083,
          6.485174655914307,
          5.889830589294434,
          7.373228549957275,
          2.775689125061035,
          9.063536643981934,
          9.207693099975586,
          7.966378211975098,
          7.857100486755371,
          6.549881458282471,
          5.225589275360107,
          9.264516830444336,
          5.1776041984558105,
          9.22753620147705,
          8.545991897583008,
          4.40984582901001,
          7.8339619636535645,
          -0.2276114970445633,
          6.555607318878174,
          7.351822376251221,
          7.543674945831299,
          8.24521255493164,
          4.13569450378418,
          5.91422700881958,
          5.0303544998168945,
          8.218567848205566,
          6.607771396636963,
          -0.4408848285675049,
          6.949269771575928,
          6.843404293060303,
          8.563966751098633,
          9.259014129638672,
          8.18008804321289,
          9.8685884475708,
          7.274186134338379,
          4.026366710662842,
          8.664237976074219,
          6.705232620239258,
          8.46164321899414,
          8.33703899383545,
          4.502540111541748,
          8.47256088256836,
          8.976040840148926,
          6.508116245269775,
          4.7509918212890625,
          9.20076847076416,
          5.725271224975586,
          6.053155422210693,
          6.584951400756836,
          9.082191467285156,
          6.916495323181152,
          5.923614025115967,
          6.443588733673096,
          2.6360106468200684,
          2.7494118213653564,
          9.02828311920166,
          4.494964122772217,
          4.918442249298096,
          6.5535888671875,
          8.465237617492676,
          9.515823364257812,
          5.556151390075684,
          8.204266548156738,
          7.6127424240112305,
          1.6536272764205933,
          2.456768751144409,
          6.586639881134033,
          6.4823174476623535,
          8.392868041992188,
          8.229694366455078,
          6.214895248413086,
          7.451135635375977,
          6.289059162139893,
          2.841689109802246,
          6.432215213775635,
          7.596567153930664,
          6.868937969207764,
          -1.440589189529419,
          7.5152716636657715,
          2.9750828742980957,
          6.868920803070068,
          6.022700786590576,
          -1.6815544366836548,
          4.466160297393799,
          7.995651721954346,
          5.422082424163818,
          7.598641395568848,
          7.706007480621338,
          5.783888339996338,
          7.279828071594238,
          7.139091491699219,
          7.0138258934021,
          6.48321533203125,
          9.81162166595459,
          7.0596113204956055,
          4.000460147857666,
          8.157319068908691,
          3.4523556232452393,
          4.1457133293151855,
          8.531683921813965,
          7.865424633026123,
          8.696346282958984,
          2.501121759414673,
          6.195552349090576,
          7.761348724365234,
          0.28208717703819275,
          0.7925347089767456,
          6.998487949371338,
          -1.776707410812378,
          8.896332740783691,
          6.576344013214111,
          7.2863569259643555,
          9.314849853515625,
          5.921271800994873,
          5.142451763153076,
          5.946037292480469,
          7.993527412414551,
          0.793907880783081,
          -1.2552293539047241,
          9.796268463134766,
          7.12814998626709,
          4.51912784576416,
          7.006091594696045,
          8.922972679138184,
          8.0020112991333,
          7.6151533126831055,
          3.674783945083618,
          7.209907531738281,
          10.01193904876709,
          1.4877052307128906,
          9.635969161987305,
          2.8721280097961426,
          7.037405014038086,
          7.8707427978515625,
          8.848015785217285,
          6.845606327056885,
          4.959544658660889,
          6.693765163421631,
          2.92431640625,
          3.8133010864257812,
          6.618141174316406,
          -1.7545005083084106,
          3.8628807067871094,
          5.9260735511779785,
          6.407806873321533,
          7.532249450683594,
          7.340571880340576,
          8.21699047088623,
          4.010998725891113,
          0.34207651019096375,
          5.950464248657227,
          7.2388715744018555,
          4.647940158843994,
          6.722300052642822,
          8.730111122131348,
          9.61147403717041,
          5.691895961761475,
          4.324009895324707,
          9.53990650177002,
          2.907116651535034,
          7.362751483917236,
          6.272024631500244,
          -1.5101850032806396,
          7.611588478088379,
          7.293667793273926,
          7.603055000305176,
          5.096829414367676,
          6.484347343444824,
          3.0399224758148193,
          7.332834720611572,
          6.575735569000244,
          5.154251575469971,
          4.425398826599121,
          6.236670017242432,
          7.400620937347412,
          7.565157890319824,
          9.721931457519531,
          7.928738594055176,
          2.428520441055298,
          8.07170295715332,
          8.346414566040039,
          9.626343727111816,
          9.246332168579102,
          9.392434120178223,
          8.595269203186035,
          9.598832130432129,
          7.408466339111328,
          4.041526794433594,
          4.646978378295898,
          6.102812767028809,
          5.198725700378418,
          5.351194381713867,
          -0.13721033930778503,
          8.739663124084473,
          8.892748832702637,
          7.784439563751221,
          5.208430290222168,
          8.218172073364258,
          5.498893737792969,
          5.793183326721191,
          3.766382932662964,
          9.146709442138672,
          6.467898845672607,
          8.123208999633789,
          2.7437849044799805,
          8.795974731445312,
          8.221258163452148,
          5.819451808929443,
          6.241683483123779,
          8.90709114074707,
          9.573921203613281,
          5.447278022766113,
          8.003424644470215,
          6.062024116516113,
          7.478978633880615,
          6.435741901397705,
          7.053272247314453,
          7.2613115310668945,
          8.439567565917969,
          6.720975399017334,
          7.80296516418457,
          6.797289848327637,
          6.624250888824463,
          -0.9390419721603394
         ]
        }
       ],
       "layout": {
        "height": 800,
        "legend": {
         "tracegroupgap": 0
        },
        "scene": {
         "domain": {
          "x": [
           0,
           1
          ],
          "y": [
           0,
           1
          ]
         },
         "xaxis": {
          "title": {
           "text": "0"
          }
         },
         "yaxis": {
          "title": {
           "text": "1"
          }
         },
         "zaxis": {
          "title": {
           "text": "2"
          }
         }
        },
        "template": {
         "data": {
          "bar": [
           {
            "error_x": {
             "color": "#2a3f5f"
            },
            "error_y": {
             "color": "#2a3f5f"
            },
            "marker": {
             "line": {
              "color": "#E5ECF6",
              "width": 0.5
             }
            },
            "type": "bar"
           }
          ],
          "barpolar": [
           {
            "marker": {
             "line": {
              "color": "#E5ECF6",
              "width": 0.5
             }
            },
            "type": "barpolar"
           }
          ],
          "carpet": [
           {
            "aaxis": {
             "endlinecolor": "#2a3f5f",
             "gridcolor": "white",
             "linecolor": "white",
             "minorgridcolor": "white",
             "startlinecolor": "#2a3f5f"
            },
            "baxis": {
             "endlinecolor": "#2a3f5f",
             "gridcolor": "white",
             "linecolor": "white",
             "minorgridcolor": "white",
             "startlinecolor": "#2a3f5f"
            },
            "type": "carpet"
           }
          ],
          "choropleth": [
           {
            "colorbar": {
             "outlinewidth": 0,
             "ticks": ""
            },
            "type": "choropleth"
           }
          ],
          "contour": [
           {
            "colorbar": {
             "outlinewidth": 0,
             "ticks": ""
            },
            "colorscale": [
             [
              0,
              "#0d0887"
             ],
             [
              0.1111111111111111,
              "#46039f"
             ],
             [
              0.2222222222222222,
              "#7201a8"
             ],
             [
              0.3333333333333333,
              "#9c179e"
             ],
             [
              0.4444444444444444,
              "#bd3786"
             ],
             [
              0.5555555555555556,
              "#d8576b"
             ],
             [
              0.6666666666666666,
              "#ed7953"
             ],
             [
              0.7777777777777778,
              "#fb9f3a"
             ],
             [
              0.8888888888888888,
              "#fdca26"
             ],
             [
              1,
              "#f0f921"
             ]
            ],
            "type": "contour"
           }
          ],
          "contourcarpet": [
           {
            "colorbar": {
             "outlinewidth": 0,
             "ticks": ""
            },
            "type": "contourcarpet"
           }
          ],
          "heatmap": [
           {
            "colorbar": {
             "outlinewidth": 0,
             "ticks": ""
            },
            "colorscale": [
             [
              0,
              "#0d0887"
             ],
             [
              0.1111111111111111,
              "#46039f"
             ],
             [
              0.2222222222222222,
              "#7201a8"
             ],
             [
              0.3333333333333333,
              "#9c179e"
             ],
             [
              0.4444444444444444,
              "#bd3786"
             ],
             [
              0.5555555555555556,
              "#d8576b"
             ],
             [
              0.6666666666666666,
              "#ed7953"
             ],
             [
              0.7777777777777778,
              "#fb9f3a"
             ],
             [
              0.8888888888888888,
              "#fdca26"
             ],
             [
              1,
              "#f0f921"
             ]
            ],
            "type": "heatmap"
           }
          ],
          "heatmapgl": [
           {
            "colorbar": {
             "outlinewidth": 0,
             "ticks": ""
            },
            "colorscale": [
             [
              0,
              "#0d0887"
             ],
             [
              0.1111111111111111,
              "#46039f"
             ],
             [
              0.2222222222222222,
              "#7201a8"
             ],
             [
              0.3333333333333333,
              "#9c179e"
             ],
             [
              0.4444444444444444,
              "#bd3786"
             ],
             [
              0.5555555555555556,
              "#d8576b"
             ],
             [
              0.6666666666666666,
              "#ed7953"
             ],
             [
              0.7777777777777778,
              "#fb9f3a"
             ],
             [
              0.8888888888888888,
              "#fdca26"
             ],
             [
              1,
              "#f0f921"
             ]
            ],
            "type": "heatmapgl"
           }
          ],
          "histogram": [
           {
            "marker": {
             "colorbar": {
              "outlinewidth": 0,
              "ticks": ""
             }
            },
            "type": "histogram"
           }
          ],
          "histogram2d": [
           {
            "colorbar": {
             "outlinewidth": 0,
             "ticks": ""
            },
            "colorscale": [
             [
              0,
              "#0d0887"
             ],
             [
              0.1111111111111111,
              "#46039f"
             ],
             [
              0.2222222222222222,
              "#7201a8"
             ],
             [
              0.3333333333333333,
              "#9c179e"
             ],
             [
              0.4444444444444444,
              "#bd3786"
             ],
             [
              0.5555555555555556,
              "#d8576b"
             ],
             [
              0.6666666666666666,
              "#ed7953"
             ],
             [
              0.7777777777777778,
              "#fb9f3a"
             ],
             [
              0.8888888888888888,
              "#fdca26"
             ],
             [
              1,
              "#f0f921"
             ]
            ],
            "type": "histogram2d"
           }
          ],
          "histogram2dcontour": [
           {
            "colorbar": {
             "outlinewidth": 0,
             "ticks": ""
            },
            "colorscale": [
             [
              0,
              "#0d0887"
             ],
             [
              0.1111111111111111,
              "#46039f"
             ],
             [
              0.2222222222222222,
              "#7201a8"
             ],
             [
              0.3333333333333333,
              "#9c179e"
             ],
             [
              0.4444444444444444,
              "#bd3786"
             ],
             [
              0.5555555555555556,
              "#d8576b"
             ],
             [
              0.6666666666666666,
              "#ed7953"
             ],
             [
              0.7777777777777778,
              "#fb9f3a"
             ],
             [
              0.8888888888888888,
              "#fdca26"
             ],
             [
              1,
              "#f0f921"
             ]
            ],
            "type": "histogram2dcontour"
           }
          ],
          "mesh3d": [
           {
            "colorbar": {
             "outlinewidth": 0,
             "ticks": ""
            },
            "type": "mesh3d"
           }
          ],
          "parcoords": [
           {
            "line": {
             "colorbar": {
              "outlinewidth": 0,
              "ticks": ""
             }
            },
            "type": "parcoords"
           }
          ],
          "pie": [
           {
            "automargin": true,
            "type": "pie"
           }
          ],
          "scatter": [
           {
            "marker": {
             "colorbar": {
              "outlinewidth": 0,
              "ticks": ""
             }
            },
            "type": "scatter"
           }
          ],
          "scatter3d": [
           {
            "line": {
             "colorbar": {
              "outlinewidth": 0,
              "ticks": ""
             }
            },
            "marker": {
             "colorbar": {
              "outlinewidth": 0,
              "ticks": ""
             }
            },
            "type": "scatter3d"
           }
          ],
          "scattercarpet": [
           {
            "marker": {
             "colorbar": {
              "outlinewidth": 0,
              "ticks": ""
             }
            },
            "type": "scattercarpet"
           }
          ],
          "scattergeo": [
           {
            "marker": {
             "colorbar": {
              "outlinewidth": 0,
              "ticks": ""
             }
            },
            "type": "scattergeo"
           }
          ],
          "scattergl": [
           {
            "marker": {
             "colorbar": {
              "outlinewidth": 0,
              "ticks": ""
             }
            },
            "type": "scattergl"
           }
          ],
          "scattermapbox": [
           {
            "marker": {
             "colorbar": {
              "outlinewidth": 0,
              "ticks": ""
             }
            },
            "type": "scattermapbox"
           }
          ],
          "scatterpolar": [
           {
            "marker": {
             "colorbar": {
              "outlinewidth": 0,
              "ticks": ""
             }
            },
            "type": "scatterpolar"
           }
          ],
          "scatterpolargl": [
           {
            "marker": {
             "colorbar": {
              "outlinewidth": 0,
              "ticks": ""
             }
            },
            "type": "scatterpolargl"
           }
          ],
          "scatterternary": [
           {
            "marker": {
             "colorbar": {
              "outlinewidth": 0,
              "ticks": ""
             }
            },
            "type": "scatterternary"
           }
          ],
          "surface": [
           {
            "colorbar": {
             "outlinewidth": 0,
             "ticks": ""
            },
            "colorscale": [
             [
              0,
              "#0d0887"
             ],
             [
              0.1111111111111111,
              "#46039f"
             ],
             [
              0.2222222222222222,
              "#7201a8"
             ],
             [
              0.3333333333333333,
              "#9c179e"
             ],
             [
              0.4444444444444444,
              "#bd3786"
             ],
             [
              0.5555555555555556,
              "#d8576b"
             ],
             [
              0.6666666666666666,
              "#ed7953"
             ],
             [
              0.7777777777777778,
              "#fb9f3a"
             ],
             [
              0.8888888888888888,
              "#fdca26"
             ],
             [
              1,
              "#f0f921"
             ]
            ],
            "type": "surface"
           }
          ],
          "table": [
           {
            "cells": {
             "fill": {
              "color": "#EBF0F8"
             },
             "line": {
              "color": "white"
             }
            },
            "header": {
             "fill": {
              "color": "#C8D4E3"
             },
             "line": {
              "color": "white"
             }
            },
            "type": "table"
           }
          ]
         },
         "layout": {
          "annotationdefaults": {
           "arrowcolor": "#2a3f5f",
           "arrowhead": 0,
           "arrowwidth": 1
          },
          "coloraxis": {
           "colorbar": {
            "outlinewidth": 0,
            "ticks": ""
           }
          },
          "colorscale": {
           "diverging": [
            [
             0,
             "#8e0152"
            ],
            [
             0.1,
             "#c51b7d"
            ],
            [
             0.2,
             "#de77ae"
            ],
            [
             0.3,
             "#f1b6da"
            ],
            [
             0.4,
             "#fde0ef"
            ],
            [
             0.5,
             "#f7f7f7"
            ],
            [
             0.6,
             "#e6f5d0"
            ],
            [
             0.7,
             "#b8e186"
            ],
            [
             0.8,
             "#7fbc41"
            ],
            [
             0.9,
             "#4d9221"
            ],
            [
             1,
             "#276419"
            ]
           ],
           "sequential": [
            [
             0,
             "#0d0887"
            ],
            [
             0.1111111111111111,
             "#46039f"
            ],
            [
             0.2222222222222222,
             "#7201a8"
            ],
            [
             0.3333333333333333,
             "#9c179e"
            ],
            [
             0.4444444444444444,
             "#bd3786"
            ],
            [
             0.5555555555555556,
             "#d8576b"
            ],
            [
             0.6666666666666666,
             "#ed7953"
            ],
            [
             0.7777777777777778,
             "#fb9f3a"
            ],
            [
             0.8888888888888888,
             "#fdca26"
            ],
            [
             1,
             "#f0f921"
            ]
           ],
           "sequentialminus": [
            [
             0,
             "#0d0887"
            ],
            [
             0.1111111111111111,
             "#46039f"
            ],
            [
             0.2222222222222222,
             "#7201a8"
            ],
            [
             0.3333333333333333,
             "#9c179e"
            ],
            [
             0.4444444444444444,
             "#bd3786"
            ],
            [
             0.5555555555555556,
             "#d8576b"
            ],
            [
             0.6666666666666666,
             "#ed7953"
            ],
            [
             0.7777777777777778,
             "#fb9f3a"
            ],
            [
             0.8888888888888888,
             "#fdca26"
            ],
            [
             1,
             "#f0f921"
            ]
           ]
          },
          "colorway": [
           "#636efa",
           "#EF553B",
           "#00cc96",
           "#ab63fa",
           "#FFA15A",
           "#19d3f3",
           "#FF6692",
           "#B6E880",
           "#FF97FF",
           "#FECB52"
          ],
          "font": {
           "color": "#2a3f5f"
          },
          "geo": {
           "bgcolor": "white",
           "lakecolor": "white",
           "landcolor": "#E5ECF6",
           "showlakes": true,
           "showland": true,
           "subunitcolor": "white"
          },
          "hoverlabel": {
           "align": "left"
          },
          "hovermode": "closest",
          "mapbox": {
           "style": "light"
          },
          "paper_bgcolor": "white",
          "plot_bgcolor": "#E5ECF6",
          "polar": {
           "angularaxis": {
            "gridcolor": "white",
            "linecolor": "white",
            "ticks": ""
           },
           "bgcolor": "#E5ECF6",
           "radialaxis": {
            "gridcolor": "white",
            "linecolor": "white",
            "ticks": ""
           }
          },
          "scene": {
           "xaxis": {
            "backgroundcolor": "#E5ECF6",
            "gridcolor": "white",
            "gridwidth": 2,
            "linecolor": "white",
            "showbackground": true,
            "ticks": "",
            "zerolinecolor": "white"
           },
           "yaxis": {
            "backgroundcolor": "#E5ECF6",
            "gridcolor": "white",
            "gridwidth": 2,
            "linecolor": "white",
            "showbackground": true,
            "ticks": "",
            "zerolinecolor": "white"
           },
           "zaxis": {
            "backgroundcolor": "#E5ECF6",
            "gridcolor": "white",
            "gridwidth": 2,
            "linecolor": "white",
            "showbackground": true,
            "ticks": "",
            "zerolinecolor": "white"
           }
          },
          "shapedefaults": {
           "line": {
            "color": "#2a3f5f"
           }
          },
          "ternary": {
           "aaxis": {
            "gridcolor": "white",
            "linecolor": "white",
            "ticks": ""
           },
           "baxis": {
            "gridcolor": "white",
            "linecolor": "white",
            "ticks": ""
           },
           "bgcolor": "#E5ECF6",
           "caxis": {
            "gridcolor": "white",
            "linecolor": "white",
            "ticks": ""
           }
          },
          "title": {
           "x": 0.05
          },
          "xaxis": {
           "automargin": true,
           "gridcolor": "white",
           "linecolor": "white",
           "ticks": "",
           "title": {
            "standoff": 15
           },
           "zerolinecolor": "white",
           "zerolinewidth": 2
          },
          "yaxis": {
           "automargin": true,
           "gridcolor": "white",
           "linecolor": "white",
           "ticks": "",
           "title": {
            "standoff": 15
           },
           "zerolinecolor": "white",
           "zerolinewidth": 2
          }
         }
        },
        "title": {
         "text": "3d TSNE Plot for Topic Model"
        },
        "width": 900
       }
      },
      "text/html": [
       "<div>\n",
       "        \n",
       "        \n",
       "            <div id=\"7e0d91e9-be34-4f27-8c9e-cdd7be0bd623\" class=\"plotly-graph-div\" style=\"height:800px; width:900px;\"></div>\n",
       "            <script type=\"text/javascript\">\n",
       "                require([\"plotly\"], function(Plotly) {\n",
       "                    window.PLOTLYENV=window.PLOTLYENV || {};\n",
       "                    \n",
       "                if (document.getElementById(\"7e0d91e9-be34-4f27-8c9e-cdd7be0bd623\")) {\n",
       "                    Plotly.newPlot(\n",
       "                        '7e0d91e9-be34-4f27-8c9e-cdd7be0bd623',\n",
       "                        [{\"hoverlabel\": {\"namelength\": 0}, \"hovertemplate\": \"Dominant_Topic=Topic 0<br>0=%{x}<br>1=%{y}<br>2=%{z}\", \"legendgroup\": \"Dominant_Topic=Topic 0\", \"marker\": {\"color\": \"#636efa\", \"opacity\": 0.7, \"symbol\": \"circle\"}, \"mode\": \"markers\", \"name\": \"Dominant_Topic=Topic 0\", \"scene\": \"scene\", \"showlegend\": true, \"type\": \"scatter3d\", \"x\": [3.8077733516693115, 3.165261745452881, 3.544184684753418, 3.411118984222412, 3.482766628265381, 1.0367850065231323, 3.472566604614258, 3.4285497665405273, 2.7364823818206787, 3.211965799331665, 2.9853062629699707, 2.0240437984466553, 3.7020204067230225, 1.617518663406372, 1.9212971925735474, 2.0533595085144043, 1.0905499458312988, 2.955883741378784, 3.4697928428649902, 1.6878950595855713, 0.635659396648407, 0.6315953135490417, 3.145827531814575, 3.824556589126587, 3.11928129196167, 2.0019021034240723, 3.1207332611083984, 3.544224977493286, 3.0977864265441895, 1.7150532007217407, 1.567366361618042, 1.7584075927734375, 1.0133122205734253, 0.34079357981681824, 2.283895492553711, 1.1938315629959106, 2.908029556274414, 2.530498743057251, 1.9855066537857056, 3.1029317378997803, 1.5513379573822021, 1.160445213317871, 1.7396498918533325, 2.87841534614563, 1.6954972743988037, 3.5178864002227783, 3.513221502304077, 2.4744350910186768], \"y\": [-8.049022674560547, -9.143962860107422, -10.055709838867188, -10.246344566345215, -10.32097053527832, -10.06844711303711, -9.344849586486816, -10.239944458007812, -7.669942855834961, -9.111063957214355, -11.463384628295898, -7.780116558074951, -8.178832054138184, -9.980886459350586, -11.016458511352539, -10.84925365447998, -8.612778663635254, -11.415050506591797, -10.423286437988281, -10.28177547454834, -9.564129829406738, -9.673489570617676, -7.929986476898193, -8.385600090026855, -10.763875007629395, -8.404497146606445, -8.221513748168945, -9.635448455810547, -10.881799697875977, -9.273406982421875, -10.456830024719238, -10.509958267211914, -8.784008026123047, -9.206705093383789, -7.698904514312744, -8.229251861572266, -11.14441967010498, -10.249289512634277, -10.060723304748535, -7.969610214233398, -10.427238464355469, -9.930432319641113, -10.403837203979492, -11.001171112060547, -10.859875679016113, -10.159259796142578, -9.878907203674316, -8.865133285522461], \"z\": [-6.034675598144531, -7.459781646728516, -7.053264141082764, -6.7692461013793945, -6.801164150238037, -3.4882423877716064, -7.483327388763428, -6.799514293670654, -3.8299481868743896, -7.515320777893066, -5.374068260192871, -2.01042103767395, -6.158195972442627, -4.865034580230713, -4.083585739135742, -4.539937496185303, -4.981161117553711, -5.3694658279418945, -6.735591888427734, -4.502982139587402, -3.1866238117218018, -2.9984192848205566, -4.595871925354004, -6.319039344787598, -6.025856018066406, -5.579129695892334, -5.665292739868164, -7.379122257232666, -5.953357219696045, -5.634393692016602, -4.175487995147705, -4.471438407897949, -5.338722229003906, -3.4924440383911133, -2.253575325012207, -1.6507209539413452, -5.510204315185547, -5.7796759605407715, -5.274648666381836, -4.410182476043701, -4.1775360107421875, -3.021815299987793, -4.5659027099609375, -5.577906608581543, -3.811419725418091, -6.950163841247559, -7.07417631149292, -5.973911762237549]}, {\"hoverlabel\": {\"namelength\": 0}, \"hovertemplate\": \"Dominant_Topic=Topic 1<br>0=%{x}<br>1=%{y}<br>2=%{z}\", \"legendgroup\": \"Dominant_Topic=Topic 1\", \"marker\": {\"color\": \"#EF553B\", \"opacity\": 0.7, \"symbol\": \"circle\"}, \"mode\": \"markers\", \"name\": \"Dominant_Topic=Topic 1\", \"scene\": \"scene\", \"showlegend\": true, \"type\": \"scatter3d\", \"x\": [7.20258903503418, 10.673269271850586, 7.109888553619385, 8.82598876953125, 10.576499938964844, 12.386940956115723, 9.168351173400879, 10.909987449645996, 8.372044563293457, 11.161221504211426, 10.452454566955566, 9.691040992736816, 7.4327287673950195, 8.193739891052246, 9.141444206237793, 7.621838092803955, 8.07901668548584, 6.104913711547852, 8.481110572814941, 6.470698356628418, 8.6634521484375, 7.5203142166137695, 12.341703414916992, 10.572312355041504, 9.270492553710938, 8.452343940734863, 11.045509338378906, 4.669529914855957, 5.659085273742676, 10.134682655334473, 8.925396919250488, 10.067041397094727, 7.077038288116455, 9.960129737854004, 13.166921615600586, 10.927425384521484, 10.292656898498535, 12.419846534729004, 11.562016487121582, 5.757546424865723, 12.378832817077637, 7.35218620300293, 10.84442138671875, 10.271862983703613, 8.01239013671875, 10.446383476257324, 10.712753295898438, 10.770527839660645, 8.318793296813965, 8.980351448059082, 6.9604597091674805, 8.855730056762695, 4.920549392700195, 13.560059547424316, 8.723048210144043, 11.253178596496582, 8.523448944091797, 8.646801948547363, 9.89535903930664, 9.979576110839844, 11.069280624389648, 11.022249221801758, 10.800525665283203, 7.381127834320068, 11.124738693237305, 8.47377872467041, 11.121153831481934, 10.364456176757812, 13.514737129211426, 7.590771675109863, 8.24819278717041, 10.256943702697754, 7.486438274383545, 10.515170097351074, 5.863339424133301, 13.824458122253418, 5.976798057556152, 6.140801429748535, 10.572344779968262, 10.143911361694336, 10.175576210021973, 11.431112289428711, 10.185114860534668, 10.268319129943848, 11.845621109008789, 10.10619068145752, 7.725613117218018, 8.234736442565918, 10.088220596313477, 11.221237182617188, 7.32756233215332, 11.526386260986328, 7.7267327308654785, 7.460741996765137, 13.40898609161377, 12.034266471862793, 10.975325584411621, 8.326258659362793, 8.437625885009766, 11.025140762329102, 10.419814109802246, 7.020489692687988, 12.711074829101562, 12.25026798248291, 8.692770957946777, 7.509525775909424, 10.93394947052002, 12.964104652404785, 13.795404434204102, 10.361111640930176, 13.27883529663086, 12.84822940826416, 13.789329528808594, 7.626318454742432, 13.404509544372559, 10.048144340515137, 10.027371406555176, 10.664512634277344, 11.216524124145508, 6.759885311126709, 10.972118377685547, 9.354796409606934, 10.421751976013184, 7.186334609985352, 12.476401329040527, 12.512383460998535, 9.367384910583496, 8.363524436950684, 10.080573081970215, 10.153210639953613, 7.650132179260254, 9.750279426574707, 11.02892780303955, 7.931300640106201, 7.508638381958008, 8.402029037475586, 11.469141006469727, 7.9909138679504395, 7.972731113433838, 7.862285137176514, 10.010591506958008, 13.168267250061035, 7.921192169189453, 6.730196475982666, 11.87022590637207, 9.224417686462402, 7.233717441558838, 6.978283882141113, 11.706282615661621, 12.813298225402832, 8.086297035217285, 6.698023319244385, 10.5138521194458, 8.78879451751709, 6.298809051513672, 8.227378845214844, 12.17702579498291, 10.58047103881836, 10.624761581420898, 10.366378784179688, 9.56132698059082, 11.121252059936523, 10.625659942626953, 5.709228515625, 12.695330619812012, 10.723445892333984, 11.206311225891113, 11.879413604736328, 7.247871398925781, 9.077873229980469, 9.284154891967773, 8.305906295776367, 12.772324562072754, 10.902243614196777, 10.213847160339355, 9.781831741333008, 12.333022117614746, 9.72364330291748, 8.052453994750977, 9.797987937927246, 10.606679916381836, 9.467522621154785, 7.896459102630615, 8.860551834106445, 10.918964385986328, 10.160811424255371, 10.9244384765625, 11.276498794555664, 7.999386310577393, 7.420190811157227, 12.330626487731934, 11.117377281188965, 9.925660133361816, 4.90745735168457, 9.101778030395508, 9.06986141204834, 8.446260452270508, 11.360557556152344, 11.858850479125977, 7.501314163208008, 11.796451568603516, 9.802188873291016, 11.424607276916504, 9.086000442504883, 13.053620338439941, 12.13965129852295, 11.120088577270508, 8.81090259552002, 12.641274452209473, 7.294922351837158, 8.71729564666748, 9.212994575500488, 7.998770236968994, 8.028581619262695, 6.796662330627441, 7.365527629852295, 8.810318946838379, 11.138914108276367, 5.970845699310303, 10.38185977935791, 7.728646755218506, 7.962606430053711, 11.443643569946289, 11.745840072631836, 10.895479202270508, 7.645349025726318, 10.559337615966797, 8.782976150512695, 9.515246391296387, 5.702888011932373, 10.397968292236328, 10.854934692382812, 6.894761562347412, 11.987215042114258, 11.056549072265625, 10.057218551635742, 11.094992637634277, 9.42444896697998, 6.609132289886475, 11.11696720123291, 12.819958686828613, 12.780415534973145, 11.748764038085938, 12.445643424987793, 8.291276931762695, 8.409184455871582, 12.78622055053711, 8.75702953338623, 8.513701438903809, 11.522704124450684, 9.835326194763184, 11.850266456604004, 11.344717025756836, 12.840800285339355, 11.578200340270996, 5.530338764190674, 6.703689098358154, 12.880996704101562, 10.670303344726562, 10.667366027832031, 11.850967407226562, 10.216949462890625, 10.09043025970459, 5.200315952301025, 13.178013801574707, 11.591145515441895, 6.437227725982666, 13.767766952514648, 13.432229995727539, 12.727522850036621, 9.767045021057129, 4.138671398162842, 11.500663757324219, 11.555768966674805, 13.410433769226074, 12.220966339111328, 11.886153221130371, 7.447027206420898, 13.627931594848633, 10.646718978881836, 8.176183700561523, 10.78377914428711, 7.650813102722168, 7.797396183013916, 10.120977401733398, 10.274032592773438, 7.143024921417236, 10.72705078125, 11.4710054397583, 13.133442878723145, 8.117303848266602, 10.908063888549805, 10.323491096496582, 10.802190780639648, 10.265525817871094, 10.383654594421387, 6.596135139465332, 13.066140174865723, 10.571606636047363, 8.613702774047852, 11.710564613342285, 9.591936111450195, 13.762886047363281, 12.215254783630371, 8.25767707824707, 8.638864517211914, 7.709364891052246, 10.48110294342041, 9.226317405700684, 13.63426685333252, 10.691869735717773, 12.059978485107422, 7.98033332824707, 6.807697296142578, 9.725030899047852, 8.81691837310791, 6.614349365234375, 10.522407531738281, 7.564596176147461, 8.549346923828125, 13.167217254638672, 10.3688383102417, 10.631964683532715, 7.127760410308838, 9.812277793884277, 10.741230964660645, 11.24484920501709, 13.319679260253906, 7.9474077224731445, 10.89676570892334, 8.673426628112793, 9.83995532989502, 13.647103309631348, 7.335793972015381, 10.645407676696777, 7.406023979187012, 11.751604080200195, 9.54288387298584, 13.667266845703125, 13.820296287536621, 11.52225112915039, 12.593567848205566, 9.228943824768066, 11.777911186218262, 10.05807113647461, 8.207645416259766, 9.027297019958496, 9.597186088562012, 13.148935317993164, 11.845281600952148, 13.179157257080078, 8.922015190124512, 7.466492176055908, 10.636191368103027, 11.612591743469238, 11.662087440490723, 10.712931632995605, 12.420442581176758, 12.083456039428711, 6.946420192718506, 12.971891403198242, 11.635193824768066, 13.873719215393066, 7.695284366607666, 11.034760475158691, 13.279366493225098, 5.697257041931152, 13.859169960021973, 10.530805587768555, 6.535911560058594, 9.81580638885498, 6.508448123931885, 13.776104927062988, 9.324057579040527, 13.600508689880371, 7.563541889190674, 11.462708473205566, 10.173693656921387, 11.575494766235352, 11.184489250183105, 8.209599494934082, 7.867253303527832, 10.253595352172852, 11.051117897033691, 8.367095947265625, 8.27531909942627, 9.081374168395996, 9.938529014587402, 10.038795471191406, 7.1654205322265625, 13.401764869689941, 10.99843978881836, 9.714195251464844, 8.150359153747559, 7.383041858673096, 12.878074645996094, 8.611237525939941, 10.885771751403809, 10.090899467468262, 7.1616692543029785, 12.867691993713379, 11.008988380432129, 7.930302143096924], \"y\": [-3.314075231552124, 6.662924766540527, 0.25197717547416687, -8.027531623840332, -1.3619656562805176, 7.257645130157471, -3.482088088989258, 6.923111915588379, 4.258236408233643, 7.076313495635986, 6.156472682952881, 3.6978201866149902, 3.6317837238311768, -3.4652469158172607, 3.578864097595215, -0.6905388832092285, -4.6114301681518555, -3.513683319091797, 4.291411876678467, 2.6408207416534424, -4.739630222320557, -3.0924503803253174, 7.282420635223389, 4.288148403167725, -0.3743313252925873, -2.565796375274658, 0.9872919917106628, -4.44387674331665, -3.0084221363067627, -2.4714019298553467, 0.9243245124816895, -2.0345442295074463, -3.702479124069214, 5.0100507736206055, 6.742593765258789, 2.9084014892578125, 0.8310713768005371, 7.14732551574707, 3.258749008178711, -3.994720458984375, 7.063014984130859, -4.527599334716797, 3.49748158454895, -1.8722538948059082, 0.060997944325208664, 4.084444522857666, 3.951716184616089, 6.803858757019043, -0.9539241194725037, -3.6130311489105225, -4.790768623352051, 0.45613303780555725, -4.6882758140563965, 6.01161003112793, -2.205109119415283, 2.008132219314575, -4.933613300323486, -7.933867931365967, 2.631659984588623, -2.1225905418395996, 2.912896156311035, 0.7121710777282715, 0.18174508213996887, -5.078568458557129, -1.0824772119522095, -1.629518985748291, 3.082282543182373, -1.8584098815917969, 6.394302845001221, 1.3238760232925415, -3.4311575889587402, -2.270491123199463, -1.6775814294815063, -0.9356610178947449, -5.150166988372803, 6.18317174911499, -4.238572120666504, -5.18983793258667, 3.624542474746704, 0.6815811395645142, -0.1161348819732666, 3.060757637023926, -1.6284918785095215, -1.8911221027374268, 0.1959659457206726, -2.3198530673980713, 3.8689801692962646, -4.279672622680664, 5.790701389312744, 4.275918960571289, -6.4837212562561035, -0.4790152907371521, 0.005479751620441675, -4.549922466278076, 6.647644519805908, 7.079761981964111, 0.7357732653617859, -7.377971649169922, -2.9593584537506104, 3.222238302230835, 5.628986358642578, -5.246514797210693, 7.163202285766602, 7.18867301940918, -4.703075408935547, -4.3250508308410645, 6.871211051940918, 6.788985729217529, 6.198285102844238, -1.891265630722046, 6.724335670471191, 5.457067489624023, 6.171156406402588, -1.3587219715118408, 6.568084716796875, -2.464374542236328, 3.4911653995513916, -0.8408684134483337, 0.1373315453529358, 3.2248332500457764, 7.007015705108643, 5.008512496948242, 0.48135805130004883, -1.9380462169647217, 7.2912163734436035, 1.0633220672607422, -0.34808361530303955, -1.1878077983856201, -1.6524500846862793, -1.9425815343856812, -4.759132385253906, 2.635225772857666, 1.6704925298690796, -4.633534908294678, 3.740100860595703, -4.367128372192383, 4.077121734619141, -1.6001932621002197, 0.5145302414894104, -0.6060324907302856, 0.9108671545982361, 6.746105194091797, -7.635925769805908, 3.19350004196167, 3.3826944828033447, 4.108501434326172, -6.431841850280762, 3.037278890609741, 4.144466876983643, 7.1227922439575195, -2.5906589031219482, 0.27779752016067505, -1.2359585762023926, 5.107017993927002, -5.663626194000244, -3.1366195678710938, 3.480799913406372, 4.447806358337402, 3.314025402069092, 4.541110992431641, -2.9543073177337646, 0.927314817905426, -1.199180245399475, -4.139124393463135, 0.43912360072135925, 3.735184669494629, 3.0007448196411133, 4.4880170822143555, -4.64422082901001, 5.033149242401123, 5.165678977966309, 2.645332098007202, 5.947188854217529, -0.8397486805915833, 5.202500343322754, -1.8656944036483765, 6.868668079376221, 1.0519694089889526, -1.3926042318344116, 3.72068452835083, 1.61807382106781, -3.1616718769073486, 3.824078321456909, 3.0831031799316406, -1.1669647693634033, 0.8546311259269714, 6.955234050750732, 3.5137693881988525, -7.806864261627197, -1.0621243715286255, 5.883217811584473, 1.3425846099853516, 5.401144981384277, -4.316314220428467, -0.45228877663612366, 4.707276344299316, -0.8883070945739746, 7.081921577453613, 3.505094051361084, -4.46293830871582, 3.3844900131225586, -2.5703279972076416, -1.6036783456802368, 0.5169243216514587, 7.101811408996582, 7.2904052734375, 6.398571968078613, 1.0132356882095337, 0.3744853138923645, 3.2605721950531006, -0.883427083492279, 4.832723617553711, -7.867705345153809, 0.4424808919429779, 3.2295265197753906, -4.655352592468262, 4.442458152770996, 6.451516151428223, -1.6997933387756348, -1.7783167362213135, -5.088922023773193, -1.3941433429718018, 7.088542461395264, -0.756682276725769, 6.832301139831543, 3.510744333267212, -0.6553356647491455, 0.46117478609085083, 4.596273422241211, -4.186946392059326, 6.18209981918335, 1.94203782081604, 0.8556495308876038, 5.6720757484436035, 1.1151617765426636, -2.3543732166290283, 7.008684158325195, 4.779929161071777, -5.237565040588379, 1.2773785591125488, 7.196688175201416, 5.76085901260376, 6.315936088562012, 7.2340168952941895, -7.167754173278809, -1.8651753664016724, 5.798123836517334, -0.5256118774414062, -2.944281816482544, 4.639650821685791, 4.8604841232299805, 5.401655197143555, -0.2612318694591522, 7.001899242401123, 6.086299419403076, -2.553377151489258, 0.05623401701450348, 6.978285312652588, -0.3300482928752899, -1.1328840255737305, 7.063303470611572, -2.1411361694335938, -2.392622709274292, -4.506944179534912, 6.724839687347412, 4.4117889404296875, 3.016190767288208, 6.1240034103393555, 6.5052690505981445, 7.209788799285889, 3.4217441082000732, -7.660797595977783, 4.698989391326904, 4.488304615020752, 6.554391860961914, 7.147936820983887, 7.144285678863525, -4.773950099945068, 6.276915073394775, 1.5947229862213135, -3.589808464050293, 6.7010698318481445, -4.632989883422852, -1.1228463649749756, -1.7756891250610352, 4.608711242675781, -1.4081897735595703, -0.46890994906425476, 4.5695953369140625, 5.5631937980651855, -3.2343287467956543, -0.6719202399253845, 1.105443000793457, -0.3419824242591858, -2.083151340484619, -1.4375314712524414, -4.807508945465088, 5.219126224517822, 6.483835220336914, -2.58333683013916, 3.5480103492736816, 1.3470796346664429, 6.1680121421813965, -0.3008418381214142, -7.395569801330566, -4.777979373931885, 3.2709550857543945, 1.509390115737915, 1.2096222639083862, 6.028256416320801, -0.18591773509979248, 3.4338321685791016, -2.967705249786377, -1.4364129304885864, -2.6615183353424072, -8.082676887512207, -4.913664817810059, 0.36972084641456604, 0.007692021783441305, -2.758021831512451, 6.840366840362549, -1.756736397743225, 6.410623073577881, -4.7779974937438965, 1.1489453315734863, 6.7473554611206055, 2.0192184448242188, 6.730834007263184, -4.992267608642578, 6.915863990783691, 4.680450916290283, 4.930037021636963, 6.199183940887451, -5.998147487640381, -0.34187692403793335, -4.747629642486572, -0.8531487584114075, -3.038586139678955, 6.270753860473633, 6.161663055419922, 5.080549716949463, 7.2018513679504395, -3.4870171546936035, 6.923931121826172, 3.4497249126434326, -0.28125420212745667, 4.60530948638916, 3.3009533882141113, 6.843878746032715, 7.165312767028809, 6.785984516143799, -1.4482372999191284, -4.635215759277344, -0.0027688699774444103, 6.778309345245361, 7.057031631469727, 3.9190893173217773, 7.163089752197266, 5.723423957824707, 3.2530932426452637, 7.002793788909912, 6.752199649810791, 6.189930438995361, -6.991982460021973, 0.8616359233856201, 6.522156238555908, -4.064853191375732, 6.18698263168335, -1.4372508525848389, 3.241649627685547, 4.941534519195557, -4.995141506195068, 6.162109375, -3.374052047729492, 5.744238376617432, -4.3652520179748535, 6.454833030700684, -1.9264928102493286, 7.035580635070801, 2.2973194122314453, -1.133156180381775, -0.9301580786705017, 0.43952006101608276, 1.4857045412063599, 0.4409357011318207, -4.780252456665039, 3.747528553009033, -2.622077465057373, 4.8727335929870605, -4.585805416107178, 6.458464622497559, 6.982724666595459, 3.7133047580718994, -2.4522626399993896, -4.737743854522705, 6.966047286987305, -7.514649391174316, 6.940341472625732, 0.1861024796962738, -4.706569194793701, 6.959822177886963, 2.0360639095306396, -4.946043014526367], \"z\": [5.2924370765686035, 5.981398105621338, 1.8083540201187134, 8.081721305847168, 5.493463039398193, 10.735958099365234, 9.137138366699219, 6.665225028991699, 2.4935452938079834, 7.322676658630371, 8.389978408813477, 3.782384157180786, 1.5097694396972656, 6.047834396362305, 3.049530029296875, 1.3121352195739746, 8.5147123336792, 5.079684734344482, 2.5165512561798096, 0.8770038485527039, 10.813417434692383, 5.164457321166992, 10.558363914489746, 5.597811222076416, 3.578934669494629, 4.987086296081543, 9.684256553649902, 5.626424789428711, 2.9258530139923096, 8.357803344726562, 2.6777172088623047, 10.274770736694336, 5.587255954742432, 4.304172992706299, 13.776078224182129, 6.6990742683410645, 5.236217498779297, 10.978171348571777, 10.309876441955566, 5.493827819824219, 11.41145133972168, 6.176926136016846, 6.326874256134033, 9.745426177978516, 2.24003529548645, 5.188007354736328, 6.172481536865234, 6.345882892608643, 2.4060473442077637, 8.086298942565918, 7.7634406089782715, 2.6618175506591797, 6.255562782287598, 15.526566505432129, 0.7302342653274536, 9.892755508422852, 10.734797477722168, 8.377323150634766, 3.9670796394348145, 6.868024826049805, 7.4279465675354, 8.433755874633789, 10.460766792297363, 9.147618293762207, 6.814844608306885, 2.7209537029266357, 7.673593521118164, 9.182229042053223, 15.151761054992676, 1.754265308380127, 6.050300121307373, 7.1146769523620605, -0.03353697806596756, 10.293457984924316, 7.723215579986572, 16.41507339477539, 3.094487428665161, 8.007140159606934, 5.460995674133301, 4.882277488708496, 5.4369049072265625, 9.731428146362305, 10.531837463378906, 7.483539581298828, 6.775427341461182, 9.218599319458008, 1.7552520036697388, 8.592968940734863, 4.528895854949951, 7.949428558349609, 9.252677917480469, 8.339560508728027, 1.9870612621307373, 6.390651702880859, 14.64462947845459, 10.02199935913086, 9.919490814208984, 8.666656494140625, 0.232969269156456, 7.197977066040039, 5.338460445404053, 8.747722625732422, 11.984596252441406, 10.351670265197754, 10.852476119995117, 6.515763759613037, 6.786088466644287, 13.080231666564941, 16.292722702026367, 8.992712020874023, 14.159326553344727, 13.502937316894531, 16.283132553100586, 2.901808023452759, 14.678394317626953, 8.205405235290527, 4.141562461853027, 6.858059883117676, 7.153896808624268, 0.8878974318504333, 6.789159297943115, 5.303016662597656, 6.05916166305542, 3.3038206100463867, 11.004018783569336, 6.557448387145996, 3.728278398513794, 3.106661319732666, 6.425473690032959, 10.117900848388672, 8.712231636047363, 3.7427663803100586, 7.015835762023926, 7.338074684143066, 1.4697827100753784, 8.502006530761719, 9.186125755310059, 0.13811489939689636, 2.0633976459503174, 1.4622859954833984, 4.439052581787109, 13.789118766784668, 9.109454154968262, 0.7846496105194092, 11.059244155883789, 3.6069581508636475, 9.53818130493164, 0.627509593963623, 10.310863494873047, 12.349740028381348, 0.02423783764243126, 1.6606292724609375, 6.388050079345703, 5.477658271789551, 8.928086280822754, 5.611041069030762, 11.984408378601074, 5.639938831329346, 6.2375168800354, 5.085330963134766, 10.355522155761719, 7.496371269226074, 9.677284240722656, 3.0725631713867188, 4.553361892700195, 6.029423236846924, 8.216609001159668, 10.550420761108398, 3.602755546569824, 5.164034366607666, 3.58638334274292, 2.171119213104248, 12.985137939453125, 6.079795837402344, 4.789803981781006, 5.421103477478027, 10.68667221069336, 3.8163816928863525, 3.111834764480591, 4.05111026763916, 5.376351356506348, 9.01076889038086, 1.9159101247787476, 2.701314926147461, 5.777390003204346, 4.870371341705322, 6.682036876678467, 9.530953407287598, 8.998696327209473, 1.344170093536377, 11.814854621887207, 7.944472312927246, 4.2591776847839355, 5.348179340362549, 3.373453378677368, 4.052989482879639, 2.8697662353515625, 7.864227294921875, 10.971022605895996, 6.162410736083984, 10.833037376403809, 10.109001159667969, 7.214672088623047, 2.916597366333008, 13.164787292480469, 9.905861854553223, 8.157025337219238, 2.516319513320923, 4.71089506149292, 0.6306349635124207, 3.199974775314331, 4.012742519378662, 8.975042343139648, 2.1137654781341553, 0.78729248046875, 7.760708332061768, 2.8910162448883057, 7.510421276092529, 2.5358211994171143, 9.378432273864746, 9.88992977142334, 3.054438352584839, 8.095627784729004, 6.170476913452148, 7.37341833114624, 1.6730036735534668, 10.583291053771973, 2.574185371398926, 4.249958515167236, 5.749767780303955, 5.2894487380981445, 6.159457683563232, 1.5206433534622192, 10.384453773498535, 9.950244903564453, 7.588057518005371, 7.187419891357422, 4.841558456420898, 8.491628646850586, 7.661802768707275, 12.302998542785645, 13.115033149719238, 10.831917762756348, 10.968864440917969, 8.700736045837402, 2.2758007049560547, 13.109182357788086, 2.100147008895874, 5.633565902709961, 9.22096061706543, 10.686700820922852, 9.929203033447266, 8.404086112976074, 12.536178588867188, 9.992844581604004, 2.691781997680664, 1.7560274600982666, 12.69571304321289, 10.519224166870117, 6.83985710144043, 9.306461334228516, 7.912423610687256, 8.00473690032959, 6.098320007324219, 13.825182914733887, 9.48583698272705, 0.787601888179779, 16.228601455688477, 14.810047149658203, 11.981772422790527, 3.7453980445861816, 4.7224955558776855, 9.04389476776123, 9.312244415283203, 14.706920623779297, 10.33051586151123, 9.307018280029297, 7.691669940948486, 15.626466751098633, 5.599675178527832, 6.2261481285095215, 6.419618606567383, 4.225783348083496, 1.7602269649505615, 6.7470316886901855, 4.9953083992004395, -0.020594628527760506, 8.004674911499023, 8.935234069824219, 14.357694625854492, 5.6434149742126465, 7.545158386230469, 5.251439571380615, 8.67860221862793, 8.878351211547852, 7.2643656730651855, 7.449965476989746, 14.321115493774414, 5.952799320220947, 5.1972270011901855, 10.490607261657715, 3.552600860595703, 16.18869400024414, 5.113054275512695, 8.761391639709473, 10.797179222106934, 1.6934043169021606, 5.615617752075195, 3.0161828994750977, 15.772672653198242, 10.590991020202637, 11.618081092834473, 5.21692419052124, 0.4346681237220764, 10.36031436920166, 8.134209632873535, 7.794142723083496, 6.500760078430176, 2.0886454582214355, 5.367900848388672, 13.719722747802734, 9.529662132263184, 8.082206726074219, 4.744389533996582, 3.986886978149414, 6.177110195159912, 9.797041893005371, 14.295380592346191, 8.517035484313965, 6.626249313354492, 2.7551817893981934, 10.776238441467285, 15.737617492675781, 9.088720321655273, 10.587398529052734, 7.971865177154541, 5.937474727630615, 9.50657844543457, 15.772197723388672, 16.411605834960938, 9.023775100708008, 11.54068374633789, 9.75261116027832, 9.170186996459961, 4.180380344390869, 2.0387136936187744, 3.210582733154297, 3.753148317337036, 13.658089637756348, 9.186771392822266, 13.790804862976074, 1.1105804443359375, 7.921452045440674, 5.53817081451416, 9.336352348327637, 8.766950607299805, 5.955771446228027, 10.971698760986328, 10.615402221679688, 0.8769298195838928, 12.961091041564941, 9.28475570678711, 16.600292205810547, 9.853196144104004, 7.40244722366333, 14.285948753356934, 5.573633670806885, 16.547164916992188, 9.187309265136719, 0.9089699387550354, 10.809759140014648, 7.893752574920654, 16.238649368286133, 9.724133491516113, 15.760590553283691, 7.252546787261963, 10.99642562866211, 7.1064653396606445, 8.651366233825684, 8.434988021850586, 2.349721670150757, 1.5349056720733643, 4.836909770965576, 7.511321067810059, 2.2942237854003906, 9.455231666564941, 3.012213945388794, 7.459670543670654, 4.465263366699219, 7.110102653503418, 14.734684944152832, 6.911426544189453, 3.777216911315918, 0.19607402384281158, 4.180973052978516, 12.68755054473877, 8.431304931640625, 6.552539348602295, 4.77707052230835, 4.657122611999512, 12.648961067199707, 7.240666389465332, 6.9023637771606445]}, {\"hoverlabel\": {\"namelength\": 0}, \"hovertemplate\": \"Dominant_Topic=Topic 2<br>0=%{x}<br>1=%{y}<br>2=%{z}\", \"legendgroup\": \"Dominant_Topic=Topic 2\", \"marker\": {\"color\": \"#00cc96\", \"opacity\": 0.7, \"symbol\": \"circle\"}, \"mode\": \"markers\", \"name\": \"Dominant_Topic=Topic 2\", \"scene\": \"scene\", \"showlegend\": true, \"type\": \"scatter3d\", \"x\": [-4.278753280639648, -6.84397554397583, -4.201936721801758, -4.654232501983643, -1.8025730848312378, -5.282873153686523, -4.6128082275390625, -2.6785738468170166, -4.182662487030029, 1.386031985282898, -1.573226809501648, -4.7480645179748535, -6.425816535949707, -5.398548603057861, -2.901872396469116, -3.5364036560058594, 0.43660247325897217, -0.5371909141540527, -6.042519569396973, -5.869702339172363, 5.841183662414551, -3.708766222000122, -4.900045871734619, -6.521440505981445, -1.7401604652404785, -3.9807326793670654, -8.251763343811035, 1.2134917974472046, -3.030496120452881, -5.9669508934021, -5.301216125488281, -5.70571231842041, -3.3705241680145264, 1.4795677661895752, -6.680526256561279, -2.851304769515991, -6.666244983673096, -2.0293960571289062, -3.0736780166625977, -5.691083908081055, -3.6918914318084717, -3.456217050552368, -5.699121952056885, -4.783069610595703, -1.0527658462524414, 3.821591854095459, -5.18042516708374, -3.528294086456299, 0.41724127531051636, -1.1679867506027222, 1.2839592695236206, -1.1110869646072388, -3.180790424346924, -3.305044174194336, -5.625190734863281, -6.130122184753418, 0.787464439868927, -3.58548903465271, -5.198476314544678, -3.410935640335083, -3.2771859169006348, 0.5780736804008484, -3.5518958568573, 0.3437651991844177, -0.9041680097579956, -3.598209857940674, 1.5207101106643677, -3.6889400482177734, -1.0089693069458008, -0.3686072826385498, 1.371012568473816, -1.5558449029922485, -2.121673345565796, -1.9662392139434814, 5.640757083892822, -4.078003883361816, -3.2900209426879883, -6.240898132324219, 1.4228171110153198, -0.9610675573348999, 2.5806989669799805, -5.786108016967773, -5.98188591003418, -6.861416339874268, -2.064899206161499, -0.8947802782058716, -4.681859970092773, -6.103165149688721, -3.31215238571167, 0.2919957935810089, -4.895413398742676, -6.449824333190918, 1.3307418823242188, -0.9248507618904114, -0.7748734951019287, -3.7093136310577393, -8.582958221435547, -5.298656463623047, 0.9084680080413818, -5.145702362060547, 0.9157024025917053, -0.685413122177124, 1.1423532962799072, -5.400899410247803, -0.168426513671875, -3.48162841796875, -5.500261306762695, -2.9470674991607666, -1.407719373703003, 1.089576244354248, -1.3480690717697144, -3.832763910293579, -3.459160566329956, 3.5646567344665527, -0.18755708634853363, 0.8587270975112915, -5.682941913604736, -5.163620471954346, 0.19123204052448273, -8.492338180541992, -6.856045722961426, -0.5985110402107239, -3.345536708831787, 2.9644644260406494, 4.535818576812744, -1.935422420501709, -2.1656858921051025, -7.004729270935059, -5.509117126464844, -5.424252986907959, 1.9721885919570923, -6.0774641036987305, -7.682037353515625, -5.382694244384766, -1.2120610475540161, -2.508051872253418, -6.896814823150635, -0.6190266013145447, -7.028937816619873, -4.750088691711426, -6.4409403800964355, -8.100671768188477, -3.2494499683380127, -2.5835022926330566, -3.850900650024414, -6.872763156890869, -3.986084222793579, -0.8859327435493469, -1.017738938331604, -3.828512668609619, 1.3614510297775269, -4.776508331298828, 2.288719892501831, -2.777663230895996, -7.154104709625244, -2.2368781566619873, 1.2039951086044312, -1.2188918590545654, -3.2357940673828125, -7.944139003753662, -2.347454309463501, -1.5826129913330078, -4.093341827392578, -1.2790441513061523, 1.3451985120773315, -2.316964626312256, -2.5392260551452637, -6.983659744262695, -1.1851056814193726, -3.78145694732666, -1.0479021072387695, -2.067553997039795, -5.813139915466309, -2.9965078830718994, -2.3511180877685547, 2.0424258708953857, -2.2695209980010986, 4.100086212158203, -0.5402294993400574, -0.6457842588424683, 3.6787617206573486, -3.97994065284729, -5.825107574462891, -3.7228341102600098, -2.3089394569396973, -3.0873355865478516, -6.394077777862549, -3.9728305339813232, -0.8110880851745605, -3.3557310104370117, -2.577770233154297, -3.4021780490875244, -1.323393702507019, -3.549454689025879, -3.0167341232299805, 0.3916754126548767, 0.6740139722824097, -3.535959005355835, -7.039393901824951, -4.448009967803955, -0.16078178584575653, -3.559480667114258, -5.512546062469482, -3.7016854286193848, -3.2383053302764893, -1.8524740934371948, -1.4968050718307495, -0.7080295085906982, -6.3992838859558105, -0.3256702125072479, 0.239888533949852, -8.101072311401367, -6.694027900695801, -5.2007341384887695, -5.117677211761475, -0.23727183043956757, -1.741688847541809, -0.06792986392974854, -3.315796375274658, -1.247047781944275, -3.739415407180786, 5.84389066696167, -5.555330753326416, 1.3004738092422485, -2.3385984897613525, 1.4782918691635132, 0.5112624168395996, -3.30340838432312, -3.128368854522705, -0.1675647646188736, 3.6087632179260254, -8.042047500610352, -7.794105052947998, -5.766909122467041, -4.370292663574219, -0.9676415324211121, -1.889201045036316, -4.410495758056641, -1.9412747621536255, -6.816074371337891, -8.062762260437012, -1.5559889078140259, -7.3283514976501465, -3.979109048843384, -0.2151428461074829, -0.02998480014503002, 1.2050031423568726, -6.918747425079346, -1.8784089088439941, -4.470172882080078, -2.908452272415161, 2.219308376312256, -0.7540345788002014, -6.450933456420898, -0.5340002775192261, -0.7405115962028503, -3.3515849113464355, 3.320319652557373, -2.0688235759735107, -5.5763773918151855, -4.405608654022217, 1.9917323589324951, 2.6211233139038086, -0.26227015256881714, -5.290148735046387, 5.893877983093262, -3.4536614418029785, -2.069689989089966, -1.7053649425506592, -4.224110126495361, -1.8826402425765991, -0.4182188808917999, -3.2243993282318115, 0.7481827139854431, 2.494988203048706, -3.357626438140869, -3.527573347091675, -0.8684435486793518, 1.4082319736480713, -0.4656482934951782, -0.01939249411225319, -6.586254119873047, 1.0139957666397095, 4.358510971069336, -0.21300563216209412, 3.027392625808716, -1.772905945777893, 1.8057270050048828, -4.833762168884277, -7.693782806396484, 0.11473505198955536, 5.554304599761963, -3.0374159812927246, 3.6576058864593506, 5.640237808227539, 3.0279717445373535, 2.9740114212036133, -7.760092735290527, 0.25190627574920654, -6.429259777069092, -3.2298011779785156, -6.444728374481201, 0.1740102767944336, 5.066009044647217, -2.1698009967803955, -1.1476855278015137, -0.5131496787071228, 2.954214096069336, -2.8960683345794678, -6.309831619262695, 0.7294492721557617, -0.8353256583213806, -8.583106994628906, 1.6931838989257812, -1.0021147727966309, 4.377452850341797, -3.3214430809020996, -0.852855920791626, -2.81827974319458, -3.009330987930298, 1.025826096534729, -3.04002046585083, 1.1559220552444458, -4.03411865234375, -4.417904853820801, -3.8027849197387695, 0.18731477856636047, 4.57913875579834, -1.2604913711547852, -3.4002201557159424, -2.4225013256073, -2.8041441440582275, -3.509124279022217, -4.757567882537842, -2.17698073387146, -4.959695339202881, -1.526864767074585, -4.120436668395996, -3.1427626609802246, -0.9389367699623108, -2.7668089866638184, 0.15671586990356445, -2.0506865978240967, -5.462790489196777, -7.84798526763916, 1.1912641525268555, -3.194465160369873, -4.228557586669922, -8.009949684143066, -0.8642199635505676, -4.803404808044434, -4.378020763397217, -2.7266085147857666, -4.3584089279174805, -6.6406660079956055, 0.7156246900558472, 0.7894459962844849, 0.7617129683494568, -4.646427154541016, -3.0891222953796387, -4.903633117675781, -0.08635345846414566, -4.017755031585693, -4.7402801513671875, -4.532195568084717, 5.127993583679199, -6.267749786376953, -5.866032123565674, -5.0768866539001465, -1.4122130870819092, -4.093594551086426, -5.211559772491455, -7.551234722137451, -2.2849624156951904, 2.1979787349700928, -2.8352248668670654, -4.596451759338379, -2.401122570037842, -0.47016817331314087, -6.964866638183594, -4.185973644256592, 0.8929241299629211, -3.704024314880371, 3.8162713050842285, -3.534137487411499, -5.8264617919921875, -5.757309913635254, 0.7514969706535339, -6.483218193054199, -0.6501150131225586, -6.451307773590088, -7.340778350830078, -3.2481045722961426, 1.5910042524337769, -0.6724393963813782, -2.1627118587493896, 0.9470548629760742, -1.8733391761779785, -1.5226696729660034, -4.813587188720703, -2.425816297531128, -6.789632797241211, 1.2039051055908203, -1.3223851919174194, -7.954228401184082, 2.4426615238189697, -5.050152778625488, 1.7166138887405396, -2.0941946506500244, 6.461374759674072, -0.6701332330703735, -0.18394331634044647, -2.532358407974243, 2.1190099716186523, 1.465707540512085, -3.044703722000122, -1.855118989944458, -5.4857330322265625, -7.594056606292725, -3.475053310394287, 0.6190391778945923, -7.672523498535156, 1.5989930629730225, -3.6507749557495117, 1.7027565240859985, 4.44388484954834, -4.8573760986328125, 0.42508047819137573, -1.022138237953186, -4.98789644241333, -2.84901762008667, -3.7222702503204346, 0.2944217920303345, -1.5949960947036743, -7.376007080078125, -3.4009344577789307, -8.369400978088379, -0.5592138767242432, 3.6687567234039307, -5.607365608215332, -2.585587978363037, 0.2026195079088211, -2.379035472869873, 3.832233428955078, -4.266396522521973, -3.3501126766204834, -5.691205024719238, 2.0116055011749268, -1.775229573249817, -3.5229153633117676, -0.015549822710454464, -2.738111972808838, -4.305242538452148, -5.8919548988342285, -3.5577778816223145, 1.5839929580688477, 3.704749822616577, -3.537295341491699, -6.945344924926758, 0.9603734016418457, -4.422796726226807, 1.860743522644043, 4.840966701507568, -0.2828168272972107, -3.234687328338623, -7.3661603927612305, -3.0481159687042236, -3.2582573890686035, -5.5805768966674805, -2.9703290462493896, -0.9319528937339783, -0.25044962763786316, 1.1697577238082886, 4.175840854644775, 2.744529962539673, -1.250615119934082, -2.818147659301758, -5.447732448577881, -4.809410095214844, -4.4150004386901855, 5.712828159332275, 1.438043236732483, -3.257185935974121, -0.47001534700393677, -4.387106895446777, -3.006225109100342, -3.135272741317749, -3.0432450771331787, -0.5598822832107544, -6.990904331207275, 0.14651930332183838, -1.7620255947113037, -5.681541442871094, -4.223142623901367, 2.2283663749694824, -0.2357606440782547, -3.7975406646728516, -6.805904865264893, -6.418639659881592, -4.172733783721924, -1.3438317775726318, -4.839235305786133, -6.004810333251953, -3.4216468334198, -0.15306231379508972, -0.8507056832313538, -8.38898754119873, -0.18706049025058746, -4.31427001953125, -3.9385945796966553, 0.4951067864894867, 6.250730037689209, -0.8155415654182434, -3.8892407417297363, -1.5349185466766357, 2.160860538482666, 2.0477797985076904, -2.4909143447875977, 2.031393527984619, 5.365353107452393, 0.6822801828384399, -6.463319778442383, -4.281693935394287, -1.1436749696731567, -1.625863790512085, -3.08160662651062, -4.658466815948486, -1.2091600894927979, -2.989828586578369, 1.8093253374099731, -3.0696873664855957, -1.0532439947128296, -2.4400839805603027, -7.622201919555664, -5.48140287399292, 1.267646312713623, -5.4175543785095215, -0.14513450860977173, -4.775826454162598, 0.09522953629493713, -4.578090190887451, -7.161992073059082, -3.156526803970337, -0.7831560373306274, -1.5318957567214966, -6.829607009887695, -2.3765628337860107, -4.5624918937683105, -0.9250531792640686, 3.5344231128692627, -2.534168243408203, -2.7258832454681396, -0.10421521216630936, -4.442193508148193, -0.2662103474140167, -2.398911237716675, 0.2989467680454254, -6.013245582580566, -4.260637283325195, 1.0543200969696045, 1.2550971508026123, 4.570921897888184, -2.03749942779541, -8.557052612304688, -5.381777763366699, -3.7201080322265625, -1.5373409986495972, -0.48560139536857605, -1.3086905479431152, -1.0607404708862305, 4.5605244636535645, -3.6512186527252197, 0.4750445485115051, -3.52289080619812, 0.5313695669174194, 2.22571063041687, -3.9709298610687256, -3.464111804962158, -3.148740768432617, -6.641878128051758, 5.942224502563477, -4.767177104949951, -4.255270004272461, -2.46328067779541, -4.573473930358887, -3.679358720779419, -2.6851000785827637, -5.099138259887695, -5.494121551513672, -5.7884602546691895, -5.227010250091553, -7.1628289222717285, -7.135557174682617, -3.3207716941833496, -0.7560112476348877, -7.134592533111572, -3.00966739654541, -2.0094692707061768, -3.0321812629699707, -5.24386739730835, -5.035917282104492, -0.016459226608276367, -3.441091299057007, -2.25995135307312, -6.505577564239502, -3.3558597564697266, -3.0911102294921875, -2.90159273147583, -2.9489824771881104, -6.797834873199463, -2.9489428997039795, -3.3648345470428467, -7.897827625274658, -5.136112213134766, -6.656541347503662, -1.1954264640808105, -6.321259021759033, -6.240192890167236, -4.956079483032227, -0.5264452695846558, -2.4733128547668457, -1.171821117401123, 1.5334603786468506, -2.263845920562744, 5.375892162322998, -1.336883306503296, -4.602510929107666, 1.0118135213851929, 1.8605014085769653, -3.259561538696289, -3.2524023056030273, -6.547940731048584, -6.463823318481445, -5.442732810974121, 1.146159291267395, 0.8651549220085144, 1.595313549041748, -2.134514570236206, 2.596578359603882, -3.5366218090057373, -0.699678361415863, -5.339465141296387, -4.041571617126465, 1.9475212097167969, -7.711298942565918, -4.432449817657471, 1.0225106477737427, -3.1855850219726562, -0.2169734239578247, 1.2216373682022095, -3.173344850540161, -0.8085723519325256, -3.1544253826141357, -0.5146506428718567, 1.791769027709961, -7.884408950805664, 2.1932997703552246, -4.638875961303711, -3.5864832401275635, 2.864887237548828, -4.128186225891113, -3.672884464263916, -4.102512359619141, -4.312601089477539, -6.375490665435791, -6.654657363891602, -2.1839587688446045, 3.2766144275665283, -7.96193790435791, -0.21137797832489014, -0.9851003885269165, -1.7089546918869019, -6.262159824371338, -7.850057601928711, -5.269215106964111, 1.2939687967300415, -0.035419099032878876, -6.282153129577637, 0.9079798460006714, -3.340717315673828, -2.743936538696289, -0.30664870142936707, -3.2982795238494873, 0.16474904119968414, -3.1825389862060547, -1.1001076698303223, -0.04689893499016762, -3.5294532775878906, -4.6454925537109375, -6.127658843994141, -7.0383806228637695, -4.765366077423096, -1.5226271152496338, -7.404056549072266, -2.7185585498809814, -5.8066182136535645, -2.0303778648376465, -0.8932838439941406, -3.1668570041656494, -7.571682929992676, -8.408556938171387, -3.837261199951172, 3.3691389560699463, -3.0716288089752197, -2.1403872966766357, -5.370215892791748, 2.1793246269226074, 2.01867938041687, -0.36346757411956787, -1.1880741119384766, 0.014278373681008816, -2.19409441947937, 1.343165397644043, -1.419243574142456, 1.9415013790130615, -0.27234119176864624, 0.07801324874162674, 0.11249471455812454, -8.092368125915527, -0.9862414598464966, -2.9668500423431396, 3.9058589935302734, -6.576345443725586, -6.633557319641113, 1.1468614339828491, -3.3435420989990234, -0.9582414031028748, -2.9571433067321777, -3.055265188217163, -4.870909690856934, -0.12792903184890747, -6.977809906005859, -8.527587890625, -6.3013596534729, -5.636982440948486, 5.900318145751953, -3.189960241317749, -3.5307648181915283, -2.8864097595214844, -3.182814121246338, 2.256176471710205, -0.8233878016471863, -3.5169928073883057, -5.235677719116211, -5.816882610321045, -1.9236949682235718, -2.7737748622894287, -8.194355010986328, -6.855755805969238, -5.862975597381592, -2.6638851165771484, -3.0996205806732178, -5.050113677978516, -6.943698406219482, -8.063958168029785, -3.3514041900634766, -3.1152594089508057, -5.949395656585693, -5.027844429016113, -6.527594089508057, -0.5183982253074646, -6.285065174102783, -3.855290651321411, -6.291431427001953, -2.56844162940979, -3.121828317642212, -4.108974933624268, -4.050036430358887, -5.570886611938477, 3.1968517303466797, -6.11340856552124, -5.235194683074951, -6.9377899169921875, -2.8072073459625244, -3.0857858657836914, -5.164938926696777, -3.7170209884643555, -2.870178699493408, 6.509666442871094, -0.2968045771121979, -6.924807548522949, -3.1911280155181885, 0.5297214984893799, -6.687570095062256, -4.932219505310059, -8.391630172729492, -1.5205469131469727, -4.381828784942627, -2.5188112258911133, 2.4126346111297607, -1.486566424369812, 1.4236117601394653, 5.53098201751709, -0.7440884113311768, 2.7688589096069336, -5.244688987731934, 0.03676550090312958, 0.3325278162956238, -5.0855584144592285, -1.9018818140029907, -5.571372032165527, -0.7094951868057251, 4.151228904724121, -3.9098565578460693, 3.3199033737182617, -5.041403293609619, -5.444212436676025, -3.390347480773926, -4.217867851257324, -5.206902027130127, -6.7770161628723145, -6.291101455688477, -2.729458808898926, -1.562918782234192, -2.9341800212860107, -1.4356659650802612, -0.614044725894928, -1.3039170503616333, -5.279551982879639, 5.888290882110596, -8.507402420043945, -1.2648496627807617, -5.422445297241211, -3.192587375640869, -4.3695969581604, -6.469513893127441, 3.9635403156280518, -0.8813079595565796, 1.8490347862243652, -4.984160900115967, -3.849918842315674, 3.262061595916748, -1.7022875547409058, -5.239089012145996, 5.805910110473633, -8.367395401000977, 5.728382587432861, -0.5192307829856873, 1.0287519693374634, -5.712275505065918, -2.4570658206939697, 2.605391502380371, 0.17399351298809052, 4.496355056762695, -6.50860071182251, -3.484342098236084, 2.433532953262329, -4.466180801391602, 0.900518000125885, -5.320937156677246, -3.28599214553833, -3.3409132957458496, -4.32088565826416, 2.8336730003356934, -0.9804444909095764, -3.5068674087524414, -0.6750594973564148, 3.679365396499634, 2.936232805252075, 1.896639108657837, -8.591116905212402, 1.4639205932617188, 0.45568740367889404, -1.1508713960647583, 1.4920624494552612, 2.09196138381958, -4.165077209472656, -3.0107789039611816, -3.167186737060547, -5.548205852508545, 4.991664409637451, -0.35294705629348755, 1.7546762228012085, -6.396798133850098, -6.083408355712891, 1.1350098848342896, 2.2456777095794678, 1.4646682739257812, -6.760572910308838, -3.3288042545318604, -6.369813919067383, -5.404897212982178, -4.726207256317139, 1.3457216024398804, 2.3516430854797363, -3.0099689960479736, 5.431962490081787, -0.4289858043193817, 6.068902492523193, 1.5732589960098267, -1.8077949285507202, -1.7135412693023682, 1.3935062885284424, 1.904236912727356, -6.790977954864502, -4.537100791931152, -6.336643218994141, -6.571107864379883, -4.06516695022583, -4.408165454864502, -5.299208164215088, 0.6920488476753235, -7.503389835357666, 6.259683132171631, 2.3418161869049072, 5.602522850036621, 1.7398799657821655, 3.5438103675842285, -2.752211809158325, -0.4714299738407135, 2.7552597522735596, -0.9483725428581238, 0.32248634099960327, -7.251498699188232, -2.719322681427002, 0.9377927184104919, -7.791957855224609, 2.0112125873565674, -0.8581072092056274, -3.497424364089966, -3.2223007678985596, 3.6498818397521973, -1.0446741580963135, 0.07334877550601959, -1.729851245880127, -2.0809311866760254, -7.093332767486572, -0.21788550913333893, -0.7293312549591064, -0.7837427258491516, -4.409862041473389, -3.861483573913574, 1.2980334758758545, -4.287158966064453, -3.572850227355957, -3.417067289352417, -3.575496196746826, -6.671359062194824, 0.2072078287601471, -2.746882677078247, -4.387605667114258, -4.253881931304932, -0.6087913513183594, -2.4010162353515625, -3.224660873413086, 5.842074871063232, -4.590007305145264, 1.4302221536636353, -5.119480609893799, -0.33840224146842957, -5.846392631530762, 0.18766166269779205, -4.81017541885376, -5.194092273712158, -3.2878496646881104, 0.555648922920227, -8.184694290161133, 1.9302306175231934, -7.09217643737793, -7.205778121948242, 0.0678412988781929, 1.824022650718689, -7.2085280418396, 1.735973596572876, -2.824617624282837, -0.8297098278999329, -7.71829080581665, 1.8706822395324707, -5.741818428039551, 0.6053024530410767, 0.18381784856319427, 5.59179162979126, 0.20141856372356415, -4.9243574142456055, -4.4870758056640625, -3.180891275405884, -5.349243640899658, 1.3321149349212646, -3.090892791748047, -5.593963146209717, -2.99672269821167, -1.801335334777832, -6.948408603668213, -6.766545295715332, -4.25773286819458, -3.117432117462158, -8.368412017822266, -0.05263929069042206, -2.853618860244751, -4.267287731170654, 4.974703311920166, -6.858492851257324, -5.392858982086182, -2.59930682182312, -2.657150983810425, 1.8927189111709595, -5.307127475738525, 6.0260844230651855, -3.2098724842071533, -3.186302900314331, -4.67490816116333, -1.659348487854004, -3.098483085632324, -0.1799081563949585, 0.09314510226249695, -1.296865463256836, -7.108553886413574, -0.8091608881950378, -1.2929065227508545, -3.7447996139526367, -3.2416274547576904, -0.826047956943512, 3.1362433433532715, 0.8461716771125793, -0.4302559494972229, -1.9728825092315674, -5.968369007110596, -3.20847749710083, -7.630609512329102, 3.43084454536438, -5.491622447967529, 1.031467080116272, -3.291814088821411, -6.646456241607666, 0.14755947887897491, -1.9390652179718018, -4.153299808502197, -5.309528827667236, 0.896945595741272, 1.698716640472412, -0.6956213116645813, -1.1128424406051636, -2.2875161170959473, -6.357966899871826, -5.568150043487549, -0.15747259557247162, -5.8357062339782715, 0.2986808121204376, -6.312572002410889, -6.881347179412842, -6.978732585906982, -3.9175868034362793, 1.0633013248443604, -4.067733287811279, 2.3123908042907715, -5.526047229766846, 1.420796513557434, 0.18879106640815735, -8.290999412536621, -3.426992177963257, -2.8710222244262695, 1.3360878229141235, -1.936314582824707, -5.88439416885376, -0.30622830986976624, -2.6733880043029785, -1.687796711921692, -3.570629358291626, 0.45832353830337524, -5.500434875488281, -4.192415237426758, 1.8065851926803589, -0.5742232203483582, -0.16352856159210205, 5.5975661277771, 1.9782795906066895, 1.8541184663772583, -6.496652126312256, -3.101140260696411, -5.663862228393555, 1.9019075632095337, 1.8354309797286987, -7.065768718719482, -3.814272165298462, -5.912187576293945, -5.568819046020508, 0.030441420152783394, -5.795859336853027, -3.2715659141540527, -1.012654423713684, -3.4275753498077393, 1.8911381959915161, -1.988053560256958, -6.2296576499938965, -5.8889641761779785, -3.1968977451324463, 5.377869129180908, 2.9864604473114014, -1.8059628009796143, 1.4189683198928833, -0.7163244485855103, -2.843336343765259, -1.5926743745803833, -7.070284843444824, -4.600273609161377, -4.274936676025391, -5.455780982971191, 0.5827529430389404, -3.2175393104553223, -1.1297993659973145, -7.135165691375732, 1.6501065492630005, -4.783738136291504, 1.6663211584091187, -5.044353485107422, -5.540994644165039, -0.8935157060623169, -6.38923978805542, -7.259453773498535, -2.3332712650299072, -4.828784942626953, -1.8584909439086914, 0.19322992861270905, -3.9398906230926514, -6.192142963409424, -0.7170839905738831, -6.974895477294922, -0.700336754322052, 3.037039279937744, -0.7285007834434509, 0.6548644304275513, 0.30036017298698425, -6.719215393066406, -0.7068756222724915, 1.245513916015625, -3.9471652507781982, 4.571203231811523, -5.5908918380737305, -0.0802580937743187, -0.080601766705513, -2.481051445007324, 1.2104849815368652, -5.747057914733887, 0.06172351911664009, 1.233747124671936, 2.2846004962921143, -3.933090925216675, -3.679553747177124, -2.9017927646636963, 0.5426533818244934, 1.6498029232025146, 3.1600093841552734, -2.929594039916992, -8.03257942199707, -7.010672569274902, -0.18973484635353088, 6.434324264526367, -1.865300178527832, -2.079162120819092, -1.9389944076538086, -3.4177772998809814, -8.192500114440918, 0.029971659183502197, 0.2525419592857361, -2.919454336166382, -5.099592685699463, 2.2673516273498535, -2.648557186126709, -0.1856774538755417, -4.659726619720459, -1.6191937923431396, -0.9423328042030334, -5.3162455558776855, 1.8870253562927246, -8.544769287109375, -5.521667003631592, 2.84450101852417, -4.989838123321533, -3.960859775543213, -6.449542045593262, 1.0480154752731323, -2.888855457305908, -4.911561489105225, -1.5158108472824097, -4.022841453552246, -1.8406342267990112, 1.5224133729934692, -1.1366288661956787, -5.604928970336914, -4.384031295776367, -1.1389803886413574, -7.64689302444458, -6.0903401374816895, -2.838247537612915, -3.4699981212615967, 5.728238582611084, 2.0196638107299805, -0.49481263756752014, -3.2401344776153564, 4.329513072967529, 0.2123100757598877, -0.21542562544345856, 2.6936159133911133, -0.36753126978874207, -8.555113792419434, 5.423192977905273, -4.005900859832764, -6.605273246765137, -8.5809907913208, -6.774465084075928, 0.33562442660331726, 2.4464282989501953, -5.841464042663574, -5.640662670135498, -2.964977979660034, 2.622058391571045, 1.0322142839431763, -0.02754337713122368, -4.317522048950195, 1.7350817918777466, 0.8519040942192078, -4.159493446350098, -8.07013988494873, -1.0903620719909668, -4.169685363769531, -2.2650046348571777, -7.695600986480713, -2.9694817066192627, 0.9060722589492798, -4.676452159881592, -2.9601433277130127, -0.31086209416389465, -6.75537633895874, -6.236104488372803, -1.1440317630767822, -6.358484268188477], \"y\": [-6.22531795501709, -0.8112130165100098, -0.9929282069206238, -1.2266408205032349, 11.116168975830078, 11.689661026000977, 9.281097412109375, 8.884113311767578, -2.054730176925659, -0.7658149600028992, 9.058197021484375, 8.659529685974121, 10.06054973602295, 1.327088475227356, 11.994935989379883, 14.022456169128418, -2.408783197402954, 6.722827434539795, 9.69975757598877, 10.9030122756958, 0.010081510990858078, 13.023472785949707, 8.75904369354248, 10.483609199523926, -1.309234380722046, -1.6751503944396973, 6.619994163513184, -0.21195268630981445, 14.084074974060059, 10.498623847961426, 11.83215045928955, 11.259796142578125, 14.0224027633667, -0.5412753820419312, 9.455102920532227, 14.501301765441895, 10.013861656188965, 0.8097769618034363, 9.944777488708496, -3.6069021224975586, 13.761663436889648, 4.949241638183594, 8.196390151977539, 13.016087532043457, 1.3976236581802368, -7.3365912437438965, 11.971466064453125, 1.970527172088623, 4.811897277832031, 9.091371536254883, -2.8839898109436035, 8.902459144592285, 14.365408897399902, 14.633013725280762, 10.761764526367188, 8.655344009399414, -4.224671363830566, 13.803497314453125, -2.4264910221099854, 14.270678520202637, 13.394375801086426, 4.389461040496826, -6.628610134124756, -6.230117321014404, 3.6034278869628906, 13.855658531188965, -7.850201606750488, -1.5648126602172852, -4.435107231140137, -3.5500152111053467, -0.6856253147125244, 1.688372254371643, 11.419380187988281, 11.193674087524414, -1.6176512241363525, -6.504780292510986, -0.9209882616996765, 0.31613868474960327, -0.09931701421737671, -4.722672462463379, -6.409978866577148, 8.460244178771973, -4.354944229125977, 6.309587001800537, -0.04072391614317894, 3.3497886657714844, -4.641572952270508, 9.529867172241211, -6.878437519073486, -6.92839241027832, 8.920083999633789, 10.01090145111084, 2.9669713973999023, -4.296099662780762, -3.9691946506500244, 1.168405294418335, 4.135552406311035, -4.421487331390381, -1.9935294389724731, 9.557642936706543, -7.277154445648193, 3.0220227241516113, -2.2013792991638184, 11.903398513793945, 5.880955219268799, 14.110358238220215, 11.6183500289917, 12.826045989990234, 6.356820583343506, -2.392928123474121, 3.999054193496704, 13.425517082214355, 13.357601165771484, -4.120630264282227, 5.979878902435303, -6.700717449188232, 8.155462265014648, -0.06685860455036163, 3.606405735015869, 3.4293413162231445, 9.299127578735352, 7.227989196777344, 13.454824447631836, 1.9593006372451782, -2.5584328174591064, -4.258902072906494, 6.963959693908691, 0.37034276127815247, 3.8486990928649902, 11.50335693359375, -4.315835475921631, -3.0524168014526367, 7.820842266082764, 11.232751846313477, 9.158807754516602, 12.083205223083496, 6.068614482879639, 7.008686542510986, 8.6831693649292, -5.838917255401611, 10.0655517578125, 3.821502685546875, 7.644554138183594, -6.624209880828857, -5.612642288208008, 9.206920623779297, -6.574575424194336, 3.4174840450286865, -2.8337180614471436, -1.1591750383377075, -2.005403757095337, 2.5814285278320312, -5.031789302825928, -1.6831200122833252, 8.60582160949707, 7.388674736022949, -2.517237424850464, -4.647843360900879, -5.857690334320068, 6.873327732086182, 1.7424614429473877, 2.03204607963562, -3.2829599380493164, -4.843024730682373, -3.712092399597168, 1.842299461364746, 8.898225784301758, 8.589019775390625, 6.656874656677246, 5.87843656539917, -4.775110244750977, 1.2198772430419922, 11.018107414245605, -6.248470306396484, -4.133039951324463, -6.069174766540527, 7.243956565856934, 2.103142738342285, 7.103143215179443, -8.503666877746582, -3.804564952850342, 2.923464775085449, 7.847647666931152, 13.63611125946045, 2.170395612716675, 12.84950065612793, 9.77734375, 12.820220947265625, -4.054832935333252, 2.796445846557617, 7.285946369171143, -5.456996440887451, -3.5743610858917236, 13.165367126464844, 13.690862655639648, -6.314780235290527, -6.3985915184021, 14.359719276428223, 9.00475025177002, -0.8360201120376587, 0.4715818166732788, 14.67061710357666, 3.107475757598877, 12.408150672912598, 14.187262535095215, -3.0269722938537598, 8.326794624328613, 1.471956491470337, 10.050985336303711, 7.01849365234375, 5.296209812164307, 6.673431873321533, 9.142393112182617, 11.76565933227539, 12.065164566040039, 1.969402551651001, 10.96014404296875, -5.515539646148682, 13.518025398254395, 2.1935603618621826, 0.6581202149391174, 1.4555810689926147, 11.908246040344238, -2.8277156352996826, 7.633749485015869, -3.1545286178588867, 2.010042905807495, 10.984703063964844, 9.471319198608398, 1.909548044204712, -3.64540433883667, 6.766108512878418, 2.958500385284424, 8.528129577636719, 9.272425651550293, 8.319402694702148, 10.498909950256348, -4.831038475036621, 10.902737617492676, 5.93383264541626, 7.1084723472595215, 9.077357292175293, 8.367643356323242, -2.4520082473754883, -3.4673500061035156, 5.644721984863281, -0.1341293454170227, 6.338103294372559, -3.048856496810913, 9.932299613952637, 4.353543281555176, -4.759854793548584, 7.473567008972168, 9.886759757995605, -3.354235887527466, -3.405352830886841, 13.794612884521484, 1.9116138219833374, -4.56086540222168, 11.889360427856445, -3.245497703552246, -4.203432559967041, -6.430550575256348, -2.033623456954956, 2.672837495803833, 0.8437831401824951, 5.3931965827941895, 6.741137981414795, 9.755332946777344, 2.1050190925598145, 5.724678039550781, 1.715659499168396, 3.1007890701293945, 3.7665975093841553, 1.114695429801941, -6.182584762573242, 14.198281288146973, -2.3850131034851074, -6.77617883682251, -7.934308052062988, 6.180607795715332, 10.127639770507812, -2.9480068683624268, 2.0499484539031982, -4.579392433166504, -4.054847717285156, -4.3470234870910645, -0.5738424062728882, -3.0780160427093506, 7.5897216796875, 2.1772944927215576, -2.1607000827789307, 5.922745227813721, -4.637934684753418, -1.8837648630142212, -4.480805397033691, -4.033374309539795, 1.7065894603729248, -3.9320948123931885, 10.059324264526367, -6.246611595153809, 9.470715522766113, -4.888655662536621, -4.003792762756348, 1.0560251474380493, 5.633108615875244, 7.5325846672058105, 2.041776657104492, 3.242227792739868, -0.09700779616832733, 3.680732488632202, 1.009878158569336, 4.17657470703125, -1.090065360069275, -4.891122341156006, -1.564949870109558, -1.677953839302063, -4.228400707244873, -1.6302932500839233, 11.928571701049805, -8.578009605407715, 12.38991928100586, -4.8366498947143555, -3.6582281589508057, -4.790648460388184, 6.844758033752441, -1.6321864128112793, 2.239926815032959, -4.1440019607543945, 14.293865203857422, 7.70857572555542, 3.7200863361358643, 13.943263053894043, -7.077502250671387, 7.0601487159729, 4.035897731781006, 0.9798417091369629, 12.958221435546875, 9.723150253295898, -1.5353256464004517, 2.446565866470337, 3.921539306640625, 11.375300407409668, 12.208045959472656, 7.482484340667725, -1.9277299642562866, 14.32783317565918, -7.004837989807129, 7.290910720825195, -5.2566070556640625, -5.906106472015381, -3.70692777633667, -6.548915386199951, -6.10084342956543, -1.2731828689575195, -3.256791114807129, -3.4992337226867676, -3.9609334468841553, -6.970799922943115, -7.237297058105469, -2.776892900466919, -4.273624897003174, -6.864793300628662, -6.147342681884766, -6.6747846603393555, -1.2696707248687744, -2.981661796569824, -4.743159770965576, -4.2117743492126465, -4.284595012664795, -5.720924377441406, -7.444450378417969, 3.097505569458008, 7.279670238494873, -0.22073256969451904, 8.836806297302246, 2.8633060455322266, 11.750064849853516, 2.0605838298797607, 8.965498924255371, 2.959174156188965, -6.977622985839844, 13.740072250366211, -6.950488090515137, -5.841695308685303, -4.5936102867126465, 8.529556274414062, -4.408264636993408, 9.204619407653809, 2.122297763824463, 10.035305976867676, 8.485454559326172, 10.76977252960205, -0.9731424450874329, 7.170013904571533, -2.0481998920440674, -7.298288822174072, -1.0830848217010498, 7.168365001678467, 1.8763540983200073, 12.260228157043457, 8.18964958190918, -1.5714874267578125, 9.524171829223633, 7.063726902008057, 0.46501660346984863, 9.49035358428955, -2.1988725662231445, 11.447805404663086, 1.0956896543502808, -3.2588915824890137, 0.7504807114601135, -4.833603382110596, -3.641035795211792, -4.2465033531188965, 5.598879337310791, 11.261143684387207, 12.006341934204102, 8.249591827392578, 13.183331489562988, 4.28269624710083, 3.009305238723755, -4.129810333251953, 4.286848545074463, -1.1194504499435425, 2.0010690689086914, 7.165769577026367, -0.8120484948158264, -6.187739849090576, 12.18465518951416, 9.412772178649902, -6.809092998504639, -5.818577766418457, 6.759415626525879, 2.7404379844665527, -0.7880257964134216, 5.960640907287598, -3.13970947265625, -3.593674421310425, 8.8368501663208, 12.698953628540039, -0.008643732406198978, 5.459600448608398, -3.454477548599243, 1.6126526594161987, 9.326706886291504, 10.367188453674316, -0.7152354121208191, 8.206429481506348, 2.964447021484375, 0.3441624939441681, 4.226962089538574, 3.429832696914673, 10.843334197998047, 13.909536361694336, -1.8586136102676392, -3.689908981323242, 14.415952682495117, 0.07018453627824783, -7.960258483886719, 1.5675448179244995, -5.5858917236328125, -2.676504373550415, -5.525883197784424, 13.40939712524414, 2.26961350440979, 13.58609676361084, -3.2865853309631348, 4.0431809425354, 4.274477958679199, 1.5571426153182983, 2.0625569820404053, -2.466763496398926, -1.8130697011947632, -6.855354309082031, -2.42797589302063, 4.197909355163574, -6.4057207107543945, 9.715717315673828, -4.519983291625977, 2.80869197845459, -0.31037208437919617, 13.37802791595459, 6.753243446350098, -1.838538646697998, 13.819329261779785, 12.670720100402832, 12.783414840698242, -8.930915832519531, 0.9395240545272827, 5.509976863861084, -2.3279755115509033, -0.6531746983528137, 2.864518880844116, -4.562319755554199, 1.3727816343307495, -5.3368024826049805, 9.232234001159668, 10.040631294250488, 1.4884284734725952, -3.150459051132202, 12.952661514282227, -4.21108341217041, 13.459282875061035, 5.987272262573242, 7.536498546600342, 3.8183960914611816, -5.19735050201416, 9.507936477661133, -6.2435784339904785, -2.4216392040252686, -0.3955691158771515, 1.4323875904083252, -3.1386682987213135, 3.8429479598999023, -7.926015377044678, -6.630237579345703, 7.804476261138916, -1.110487937927246, -1.9476550817489624, -6.446667671203613, 9.088190078735352, -4.3360595703125, 2.6959478855133057, 5.999772548675537, 13.396985054016113, -4.018691062927246, 7.216122627258301, 12.494034767150879, -4.7574310302734375, 14.17545223236084, 3.8604929447174072, 0.7147709727287292, 3.4669125080108643, 10.52125072479248, -4.225888252258301, 11.504390716552734, -5.086223602294922, 9.155237197875977, 5.514042854309082, 1.4880893230438232, 7.251370906829834, 13.50097942352295, -4.408542156219482, 3.542504072189331, 0.49216002225875854, 7.497415542602539, -3.091813087463379, -4.343502521514893, -7.984522342681885, 4.306041717529297, -5.064239501953125, 5.9510817527771, 12.647171020507812, 5.9796857833862305, 6.09493350982666, -8.22476577758789, -0.4466608464717865, 3.839244842529297, -7.544461250305176, -3.1107935905456543, -3.3757848739624023, 6.6319122314453125, 4.582551956176758, 11.380830764770508, 13.6612548828125, 8.844430923461914, 6.889529705047607, -2.8097198009490967, 2.35007643699646, -1.708579421043396, 13.888688087463379, -2.836085319519043, 1.9186815023422241, -2.8585548400878906, -4.944030284881592, -1.5119562149047852, -5.607490062713623, 5.000553131103516, 9.978840827941895, -1.6499176025390625, 8.63721752166748, 0.8468506336212158, 3.3984732627868652, -2.8987793922424316, 4.448651313781738, 8.266674995422363, 11.873833656311035, 11.325185775756836, 1.0719283819198608, 11.985629081726074, 1.5611560344696045, 0.23675645887851715, 13.331125259399414, 3.0584716796875, 0.9116401672363281, 12.819314002990723, 4.892314434051514, 9.549905776977539, 3.6592226028442383, 12.319286346435547, 5.619011878967285, 14.286333084106445, 12.244681358337402, 0.6955450773239136, -2.3979663848876953, 12.981795310974121, 9.688433647155762, 14.118746757507324, -0.8077660202980042, 14.097906112670898, 14.87601375579834, 3.9520018100738525, 3.0553693771362305, 10.037078857421875, -2.6616318225860596, -1.9177031517028809, -0.2140493094921112, 0.8178133964538574, -3.233013868331909, 12.248873710632324, -3.904738664627075, -1.588936686515808, 12.1280517578125, -3.0689921379089355, -3.149832248687744, -6.728771209716797, -4.285655498504639, 1.8047844171524048, 13.124547958374023, 14.086935997009277, -1.8868564367294312, 10.06246566772461, 3.822089910507202, -2.6467440128326416, 3.5579097270965576, -2.163207769393921, 11.352363586425781, -6.257676601409912, 14.78909969329834, 7.432453632354736, 11.478164672851562, 13.022146224975586, -4.008418560028076, 3.137315273284912, -6.539426803588867, -7.68669319152832, 10.358904838562012, -3.91222882270813, -6.37308931350708, 14.10614013671875, 1.98911714553833, -3.9364521503448486, -4.688592910766602, -6.739253044128418, 2.4126293659210205, -4.952455520629883, -2.0349886417388916, 3.578040361404419, -0.5044029355049133, 5.763905048370361, 3.098813056945801, 2.436861991882324, -1.2058889865875244, 9.95169734954834, 9.553801536560059, 3.781559705734253, -4.277381896972656, 5.889317989349365, 1.1638439893722534, -3.8773484230041504, 9.759791374206543, 0.41187548637390137, 7.553311347961426, 12.161541938781738, 2.361576795578003, 0.3785364031791687, 9.505337715148926, -6.464876651763916, 14.141462326049805, 2.220679521560669, 2.3007454872131348, -0.29376471042633057, -5.1317243576049805, 13.523576736450195, 8.26407527923584, 4.874253273010254, 1.1972928047180176, -6.867444038391113, -2.7370307445526123, 9.134584426879883, -2.9322972297668457, -6.1788330078125, 2.667667865753174, 1.0975600481033325, 9.565311431884766, 11.227505683898926, 7.696616172790527, 10.58254337310791, 8.259502410888672, 3.1108784675598145, 7.238400936126709, 2.00970721244812, 14.158583641052246, 6.611927032470703, 11.742112159729004, -4.11995267868042, -8.680415153503418, 7.000324726104736, -6.270445346832275, -2.441211700439453, 5.796510696411133, -0.5983178019523621, 8.264979362487793, -2.311095952987671, 6.25365686416626, -5.306877136230469, -2.1718103885650635, 6.2293291091918945, 8.352888107299805, 13.882075309753418, -3.723088264465332, 9.685235023498535, 9.821362495422363, -7.7793660163879395, 14.284697532653809, 6.341788291931152, 14.019477844238281, -5.455820083618164, -2.8492300510406494, 0.5619226694107056, -0.27164310216903687, 3.833721160888672, -2.1009039878845215, 10.45906925201416, 2.9125030040740967, 14.06071662902832, 14.950445175170898, 14.930957794189453, 2.3065614700317383, -6.8057146072387695, 1.2375078201293945, 13.266827583312988, 12.210331916809082, 10.074336051940918, 5.769814968109131, 4.2269606590271, 6.285998344421387, 9.255229949951172, 9.533426284790039, -2.8429784774780273, 13.448982238769531, 4.293274879455566, -0.41066211462020874, 5.941129207611084, 14.248997688293457, 12.656229019165039, -3.1375608444213867, -5.481932640075684, -0.8009542226791382, 1.9029326438903809, -2.210244655609131, 6.183780670166016, 10.243993759155273, 3.1753604412078857, 10.631680488586426, 3.1548731327056885, -2.5633575916290283, 10.82359504699707, 1.9401867389678955, 9.943620681762695, 3.090102434158325, -0.5333464741706848, 13.257855415344238, 5.659171104431152, 9.219391822814941, 13.815258979797363, 3.7829477787017822, 0.35795754194259644, 6.396923542022705, 8.214957237243652, 12.751382827758789, 1.887329339981079, 0.03721107542514801, 2.0765137672424316, 4.000082492828369, 8.986591339111328, -7.46199369430542, 2.341754674911499, -8.434967041015625, 6.3278117179870605, -1.8258205652236938, -1.9785865545272827, 6.356971740722656, -8.944129943847656, 0.06520039588212967, -3.3587777614593506, -8.722612380981445, 9.796005249023438, 10.722315788269043, 10.261353492736816, -3.1313486099243164, -1.9937399625778198, 0.7367442846298218, -8.188827514648438, -2.7153193950653076, 3.2835052013397217, 13.269917488098145, 12.676172256469727, 1.7757869958877563, 0.27056583762168884, 10.751777648925781, -6.5805511474609375, -0.03938246890902519, 9.908868789672852, 0.823997974395752, 6.419105529785156, 2.2056803703308105, 11.80919075012207, -1.450718879699707, 3.4625229835510254, 9.469462394714355, 11.139479637145996, 3.030918836593628, -0.8473289608955383, -1.3383562564849854, 1.8698762655258179, -8.809795379638672, -3.2854323387145996, 8.714890480041504, 0.7901998162269592, -8.52109432220459, -1.2281790971755981, -2.1334357261657715, -1.4501469135284424, 2.9349493980407715, -1.5941083431243896, -7.997653484344482, -4.78575325012207, -6.61954402923584, -1.442489504814148, 1.0657439231872559, -4.946704387664795, -4.29992151260376, 0.34164437651634216, -3.1931138038635254, 1.191755771636963, -7.388291358947754, -4.149744987487793, 11.951217651367188, 3.006585121154785, 14.076279640197754, -2.3021647930145264, -7.215599060058594, -4.477092266082764, 14.964323043823242, 2.8580751419067383, -8.556035041809082, -7.32908821105957, -1.2873711585998535, 4.35299825668335, -4.486016273498535, -8.042461395263672, 7.967164039611816, -3.284597873687744, -4.284486293792725, -1.1797798871994019, 14.317617416381836, 14.349517822265625, 1.2790712118148804, -1.6326463222503662, 6.515440464019775, -2.565904140472412, 10.08673095703125, -3.968963861465454, -3.1530885696411133, -0.5060007572174072, -3.1162376403808594, 6.2660017013549805, 13.346673965454102, 8.375075340270996, 11.56914234161377, 0.5890563726425171, -4.040609836578369, -5.820879936218262, 14.735103607177734, -2.052572727203369, 6.099339008331299, -0.2411491572856903, -6.873149394989014, 0.3244345486164093, -1.591937780380249, -0.8843406438827515, -2.7510201930999756, 9.470566749572754, -4.606991291046143, 8.491552352905273, -1.262734055519104, -1.6750285625457764, 6.855639457702637, 12.056900978088379, -8.084086418151855, 7.850591659545898, 3.0330214500427246, -8.795372009277344, -0.09002959728240967, -6.3061065673828125, -8.78076171875, 9.541340827941895, 6.73264741897583, -5.165769100189209, 3.248051643371582, 5.129124641418457, 8.62735652923584, 8.377910614013672, -8.292764663696289, 7.824490070343018, -4.293668746948242, 1.1133517026901245, 4.66908073425293, 14.014193534851074, 2.007032871246338, -2.8544933795928955, 5.447709560394287, 10.4564847946167, -0.5670876502990723, 8.011966705322266, 0.5839361548423767, -4.46519136428833, -2.499096393585205, -3.732520341873169, 11.45061206817627, -3.06881046295166, 3.187763214111328, -6.680933475494385, -6.67113733291626, 14.520462989807129, 8.43824291229248, 3.5960986614227295, 8.31600284576416, 2.108680486679077, -1.908483862876892, 6.897810935974121, -0.8421263694763184, 10.960237503051758, 2.1318819522857666, -4.364114761352539, -1.0398576259613037, 3.303823232650757, 2.7689695358276367, 10.593767166137695, 3.390974760055542, 8.8786039352417, 3.6295273303985596, 13.6974515914917, -8.671232223510742, 6.656976222991943, -4.350903511047363, 0.30820605158805847, 0.3581158220767975, -5.0993266105651855, -3.312716484069824, 8.26129150390625, -1.9455236196517944, 4.6391143798828125, -3.0174918174743652, 3.4387478828430176, -0.7679852843284607, -1.8342646360397339, -1.4584306478500366, -2.5637764930725098, -4.218349933624268, 2.8773109912872314, 9.900303840637207, -3.764092445373535, 0.8414095640182495, 3.198120355606079, -3.325810670852661, 13.504639625549316, 10.65262508392334, 12.159648895263672, 10.643866539001465, 9.010967254638672, 8.774951934814453, 2.7702219486236572, 13.293539047241211, 5.863700866699219, -2.802544355392456, 13.511331558227539, 4.256575584411621, 1.9642966985702515, 9.801566123962402, 11.671647071838379, 5.601285934448242, 8.14536190032959, -2.873067617416382, 11.95670223236084, 0.5768895745277405, 13.268142700195312, -6.553765773773193, 1.1872106790542603, -2.5808889865875244, 13.765625953674316, -3.314617395401001, -3.640883207321167, 5.824553966522217, 7.332906723022461, 2.057391405105591, 9.02582836151123, 13.018184661865234, 13.418261528015137, -4.633991241455078, -8.137090682983398, -1.7132885456085205, 2.022521495819092, 0.7935683131217957, 7.995826721191406, 13.49924087524414, 1.518079400062561, -9.013938903808594, 9.235634803771973, -2.8214187622070312, 13.359155654907227, 10.045751571655273, 2.7718541622161865, 0.1347665935754776, 6.991691589355469, 10.959134101867676, 2.7703263759613037, -2.2221739292144775, 7.061950206756592, -5.183017730712891, 7.0520548820495605, -1.9140512943267822, 7.8516130447387695, 0.8085961937904358, -0.022611910477280617, -2.6108763217926025, 10.165836334228516, 9.44977855682373, 1.5707334280014038, 8.235548973083496, -7.133227348327637, 3.3312392234802246, -5.29425573348999, 12.12138843536377, -1.5692780017852783, -2.7256619930267334, 2.6985082626342773, -3.0462453365325928, 8.784339904785156, 2.9543581008911133, 10.90041446685791, 10.654465675354004, -3.55240797996521, 12.772204399108887, 10.81058120727539, 5.674640655517578, 4.47582483291626, 11.062188148498535, -3.251068592071533, -4.766757488250732, 6.898280143737793, -4.055097579956055, -1.252806544303894, -4.262996673583984, -3.9155142307281494, 9.602662086486816, -1.8215194940567017, 10.628519058227539, -7.318828105926514, -0.6145532727241516, 1.5196361541748047, 1.5872712135314941, 10.435697555541992, 1.4724335670471191, -8.184789657592773, -4.8051676750183105, 13.359651565551758, 3.302616596221924, 13.573604583740234, -4.957259178161621, 1.7967466115951538, 0.024456266313791275, 10.83202075958252, 13.427631378173828, -1.430234432220459, 1.9130603075027466, -1.3778945207595825, -2.1572365760803223, 6.659231185913086, 5.543230056762695, -3.4071810245513916, 0.023634331300854683, 12.422221183776855, 2.315582513809204, -3.3337719440460205, -1.1654855012893677, 13.576489448547363, -4.616827487945557, 2.578765392303467, -1.7455486059188843, 0.8907566666603088, -6.257061958312988, 1.8865307569503784, 10.979196548461914, 5.950006008148193, 9.218022346496582, 8.154520988464355, 6.878978729248047, 9.89270305633545, 10.901283264160156, 3.5752642154693604, -1.0349853038787842, -2.765057325363159, -5.396894454956055, 7.900875568389893, -5.076457977294922, -8.940550804138184, 5.773709297180176, -3.030217170715332, 2.033125638961792, 6.2320051193237305, 2.9195668697357178, -2.61215877532959, -0.45790526270866394, -3.5757765769958496, 10.352669715881348, -3.138714075088501, -3.1391758918762207, 1.8307358026504517, -2.269052267074585, -6.680840969085693, 0.1362306922674179, -2.540630578994751, -0.07458191365003586, -5.54337215423584, -1.7458126544952393, 9.176491737365723, -7.110230445861816, -2.083951473236084, 1.9606508016586304, -5.955714225769043, 7.249268054962158, 2.2971951961517334, 2.0894691944122314, -0.9016923308372498, -1.3107047080993652, 11.677750587463379, 2.7327122688293457, 2.473458766937256, 2.4089853763580322, 5.199957847595215, -7.214382171630859, 14.321369171142578, -4.436041355133057, 0.4617711007595062, -0.41705286502838135, 2.1970150470733643, 0.35800060629844666, -1.4136799573898315, 2.7973101139068604, 11.632722854614258, -3.3845365047454834, 4.691701889038086, -4.059335231781006, -4.568805694580078, -6.89487361907959, 1.4900884628295898, 8.62087631225586, -4.437376976013184, 10.503074645996094, 1.638420581817627, -3.1896042823791504, 14.125937461853027, 10.679716110229492, -7.5886359214782715, 7.933998107910156, 11.55863094329834, 0.10977615416049957, -3.0030887126922607, 8.177483558654785, 10.563481330871582, 14.811610221862793, 1.513612985610962, -1.7929484844207764, -0.5308123826980591, -8.265060424804688, 2.6129775047302246, -2.923459768295288, -5.275166988372803, 5.9747443199157715, -4.4121856689453125, -1.9373441934585571, 4.260011196136475, -2.4731767177581787, -1.639926791191101, 10.162577629089355, 3.9697072505950928, 1.505671739578247, -6.5330634117126465, -6.028834342956543, 4.783392429351807, -3.933669090270996, 10.315860748291016, -5.2979583740234375, -8.297856330871582, -5.027489185333252, -1.7038514614105225, -2.005061149597168, -7.27004861831665, 12.957122802734375, 2.1753296852111816, 2.116701602935791, 3.3326780796051025, 6.514830589294434, 7.894143104553223, 14.319995880126953, -3.1118478775024414, 0.8297833204269409, 12.742700576782227, -3.960623264312744, 9.37951946258545, -0.2678932845592499, 9.080209732055664, 10.530847549438477], \"z\": [-1.6569641828536987, -0.6115927696228027, -8.152721405029297, -5.679468154907227, -1.5711225271224976, 7.8395843505859375, 0.11847329139709473, -10.694172859191895, -6.908261775970459, -9.4066162109375, -0.2026083767414093, -8.86487102508545, 3.3980484008789062, -7.0388336181640625, -8.092421531677246, -4.6529974937438965, -11.350410461425781, -2.677117347717285, -0.8310956954956055, 2.157280206680298, 1.5548925399780273, 5.781476974487305, -8.675996780395508, 5.721266269683838, -0.3756045997142792, -2.247288227081299, -0.50260329246521, -9.565055847167969, 1.8946340084075928, 6.119110107421875, 8.035625457763672, 7.4242658615112305, -1.6584649085998535, -4.465429306030273, -0.8620553612709045, 3.198483943939209, -2.5752320289611816, -11.287590980529785, -9.720479965209961, -1.1297430992126465, -4.097847938537598, -10.319194793701172, -8.021739959716797, -0.45342081785202026, -1.7646238803863525, -5.605903148651123, 1.15548574924469, -6.0805206298828125, -2.395840644836426, -3.826288938522339, -11.519676208496094, -3.2149693965911865, 0.6322788596153259, -0.1984437108039856, 6.762877941131592, -1.5845353603363037, -10.40195369720459, -4.607331275939941, -3.3681867122650146, -1.3528772592544556, 1.4249011278152466, -2.5140466690063477, -2.5737364292144775, -4.8217620849609375, -12.796058654785156, -4.383425235748291, -7.188775539398193, -8.387292861938477, -8.46312427520752, 1.4377219676971436, -9.042631149291992, -9.937849044799805, 1.0340114831924438, 0.11967719346284866, -0.8913455605506897, -1.77194344997406, -9.316340446472168, -4.425136089324951, -4.339112281799316, -8.286969184875488, -9.616759300231934, -7.725314617156982, 0.6282549500465393, -4.966432571411133, -10.911757469177246, -12.7326078414917, -2.1516342163085938, -6.190397262573242, -2.5707263946533203, -6.733038425445557, -0.22280055284500122, 3.135301113128662, -1.4996346235275269, -2.0412302017211914, -5.044702053070068, -9.755967140197754, -1.0625178813934326, 0.8606404066085815, -5.852123260498047, -7.8121538162231445, -0.5757239460945129, -12.851419448852539, 0.37294596433639526, 0.23172405362129211, -6.668445587158203, -2.0436830520629883, 8.083221435546875, -7.681641578674316, -3.856795310974121, -5.832694053649902, -12.403722763061523, -4.2714314460754395, -5.581466197967529, 4.5712738037109375, -2.6587860584259033, -7.623934745788574, -1.7891093492507935, -4.886969089508057, -7.73826789855957, -1.0762286186218262, -0.9137248396873474, -2.0434088706970215, -5.234048366546631, -1.3621960878372192, 2.590299129486084, -7.319935321807861, -11.67241096496582, -0.8274759650230408, -6.726161003112793, -4.205657482147217, -11.095884323120117, -0.003746684640645981, -1.8278168439865112, 7.4240546226501465, -3.5069217681884766, -6.85562801361084, -4.860419750213623, -6.9584245681762695, -4.127909183502197, -0.8892825841903687, 3.5331742763519287, -2.2060546875, -0.8320716023445129, 3.325993299484253, -3.0809226036071777, 1.4359999895095825, -1.8765952587127686, -12.759477615356445, -7.679140090942383, -8.545106887817383, -1.743618130683899, -2.797032356262207, -10.75003433227539, -1.4025404453277588, -3.339369773864746, -11.611504554748535, -11.706124305725098, -3.226088285446167, -3.704144239425659, -1.780379295349121, -11.271753311157227, -11.934743881225586, -1.9284372329711914, -4.592452526092529, -3.9505984783172607, -9.392948150634766, -9.47351360321045, -4.462216377258301, -2.0243237018585205, -2.186357259750366, -5.272927284240723, -11.391477584838867, 2.1781749725341797, -3.6852805614471436, -6.754027366638184, -9.363176345825195, -11.514165878295898, -0.47265446186065674, -2.9103777408599854, -2.222378730773926, 4.082943916320801, -6.536162376403809, -7.975829601287842, -3.5752029418945312, -11.438448905944824, -6.949273586273193, 2.163015842437744, 6.240989685058594, 0.5154931545257568, -2.1931822299957275, -11.013396263122559, -3.878469467163086, -9.142952919006348, -5.1922454833984375, 3.271442413330078, -4.898428916931152, -7.867982864379883, -2.480072259902954, -3.3021373748779297, -7.836907386779785, -12.339632987976074, -2.623581647872925, -6.572325229644775, -6.4387030601501465, 0.3359704911708832, -8.960073471069336, -0.6897099018096924, -7.379703044891357, 3.144272804260254, -2.1860976219177246, -4.8794779777526855, -1.4619383811950684, -1.471483826637268, -4.364951133728027, 8.142793655395508, -11.102370262145996, -2.085090398788452, -5.884966850280762, 1.312453269958496, -6.0123443603515625, -9.42905330657959, -0.10614670068025589, -0.26350995898246765, -11.447029113769531, -11.390898704528809, -11.499275207519531, -1.440879225730896, -8.654594421386719, -9.796188354492188, -7.314307689666748, 3.7608535289764404, -1.620187759399414, -2.4453442096710205, -7.709810256958008, -8.838991165161133, -3.819735050201416, -4.801403522491455, -2.7911577224731445, 0.9745286703109741, -4.942168235778809, -0.4720778465270996, -0.16270418465137482, -2.0869174003601074, -6.676859378814697, -9.671013832092285, -1.4924383163452148, -9.517107963562012, -4.835934162139893, -9.059162139892578, -8.332930564880371, -2.151108980178833, -10.431499481201172, -4.345947742462158, 2.5822384357452393, 1.5488886833190918, -5.126922607421875, -5.691585540771484, -0.7516173720359802, 1.6266599893569946, -0.265747606754303, -4.49401330947876, -11.192705154418945, -9.656485557556152, -6.307067394256592, -7.348413467407227, -0.13225895166397095, -1.731178879737854, -11.838156700134277, 0.4453169107437134, -9.22752857208252, -10.55981731414795, -7.430423259735107, -2.139357566833496, -1.6715221405029297, -0.7497086524963379, -3.3038535118103027, -0.7292544841766357, -10.428114891052246, -7.956418991088867, -0.5963529348373413, -2.6926236152648926, -3.025317907333374, 1.8633562326431274, -0.2903999090194702, 2.9800143241882324, 4.158016681671143, 1.7299085855484009, -0.41856396198272705, -3.84626841545105, -2.115053653717041, -5.710283279418945, -1.2915277481079102, -10.442651748657227, 5.045931816101074, 2.458789110183716, 4.821013927459717, 3.84053373336792, -1.475296139717102, 2.401172161102295, 3.3747103214263916, -3.392796039581299, -5.891246795654297, 3.530940532684326, 2.9119293689727783, -1.3909285068511963, -4.1155686378479, -2.390716791152954, -1.195743441581726, -2.044938564300537, -1.071846842765808, -1.8261111974716187, -1.5808393955230713, -1.0596420764923096, -1.8634448051452637, -3.6727375984191895, 1.8037573099136353, -8.680868148803711, 2.3212788105010986, -1.410071849822998, -8.040823936462402, -5.64561128616333, -7.8668599128723145, 4.197182655334473, 0.5966273546218872, -2.918898582458496, -1.2137820720672607, -11.687421798706055, -0.22634364664554596, 1.974982500076294, -0.8988829255104065, -11.18733024597168, -11.196715354919434, -2.009490489959717, 0.6820103526115417, -11.692028045654297, -4.820302963256836, -11.720844268798828, -4.290258884429932, -9.63916301727295, -10.461296081542969, -11.089155197143555, -7.512019634246826, 0.5465236306190491, -0.7802356481552124, -1.0410456657409668, -3.8045713901519775, 0.6454711556434631, 2.5077590942382812, -0.2723068296909332, -2.083364248275757, -0.6558740735054016, 0.5982919931411743, 3.345219850540161, 0.15351322293281555, -0.8585516810417175, 0.7444179654121399, 2.3766942024230957, 1.623879075050354, 0.39308562874794006, 2.661041259765625, -4.057091236114502, 2.7655327320098877, 2.8089053630828857, -0.4953831434249878, 1.1902960538864136, 1.936901569366455, -0.031646840274333954, 0.8130072355270386, 0.8344885110855103, 2.0365099906921387, 0.5845864415168762, 1.5561784505844116, -3.0304298400878906, -11.486085891723633, -0.2700096666812897, -10.3186674118042, -3.1170811653137207, 0.98219895362854, -12.72038745880127, -3.9775195121765137, -6.1028828620910645, -0.33424222469329834, -4.1552228927612305, -5.291616916656494, -3.403728485107422, 0.7526101469993591, -7.721565246582031, -10.238001823425293, -1.280275583267212, -6.401730537414551, 3.3366777896881104, -1.065356969833374, -8.815235137939453, -1.6318683624267578, -1.0743954181671143, -0.2625911235809326, -1.6074753999710083, -0.5421130657196045, -1.6834633350372314, -7.068802833557129, -6.917335033416748, -5.428308010101318, -3.34306263923645, -1.70977783203125, -1.8468211889266968, -0.5938968658447266, -8.012883186340332, -8.062973976135254, 0.767825186252594, 1.1948813199996948, -9.990144729614258, -12.485888481140137, -5.259361267089844, -5.702819347381592, -4.888301372528076, -3.054307460784912, -2.0501976013183594, -0.1335199475288391, 0.5991679430007935, 5.294012546539307, -2.5614452362060547, -2.761634111404419, 2.9291608333587646, -10.268195152282715, -3.4705424308776855, -0.5686268210411072, -1.3913533687591553, -12.19473648071289, -5.504932403564453, 1.190638542175293, -10.29065990447998, 2.9147589206695557, -4.642946243286133, -1.429193139076233, -3.1432363986968994, -9.235419273376465, -0.793186604976654, -6.6703596115112305, 3.547213077545166, -0.6876543760299683, -2.3135361671447754, -12.470867156982422, -10.227355003356934, 3.1848809719085693, -9.190085411071777, -9.512616157531738, 5.917791366577148, -0.23401129245758057, -0.7650695443153381, -1.994214653968811, -12.42881965637207, -11.2872896194458, -4.149337291717529, 2.3073275089263916, -4.579719543457031, 0.9373682141304016, 3.9064722061157227, -2.947683334350586, -0.7753353118896484, -6.437639236450195, -8.94930648803711, -9.71072769165039, 2.6879022121429443, -3.3274824619293213, 4.688480854034424, -2.921309232711792, 3.307900905609131, -6.6588239669799805, -6.360070705413818, -10.98901653289795, -11.536133766174316, -6.934741020202637, -3.768982172012329, 1.9187328815460205, -8.996830940246582, -7.968714714050293, -11.20053482055664, 1.6531230211257935, -8.092466354370117, -3.1428260803222656, 0.35079944133758545, -4.448060989379883, 4.773661136627197, -4.183393955230713, -6.653726577758789, 3.0827622413635254, -7.482076168060303, -7.104757308959961, -2.306245803833008, -2.8143112659454346, -4.981201171875, -9.089373588562012, -3.4237630367279053, -2.051731586456299, -7.076875686645508, -12.647017478942871, -3.480053663253784, -4.3418288230896, 3.08526349067688, -9.270013809204102, -9.322402000427246, -1.399474024772644, 0.5621165037155151, -5.671091556549072, -6.091646671295166, -4.003971099853516, -1.5511852502822876, -3.8273370265960693, -8.695732116699219, -2.3711886405944824, 1.1003013849258423, 1.381222128868103, -1.724904179573059, -5.739153861999512, -1.7020173072814941, -5.803717613220215, -8.49552059173584, -11.007189750671387, 0.2795683443546295, 2.2094483375549316, -7.759866237640381, -5.735447406768799, -3.673902988433838, -12.322734832763672, -3.4554684162139893, 3.3236889839172363, 0.8566514849662781, -1.4093414545059204, -7.882103443145752, -7.7133893966674805, 1.7486484050750732, -12.689630508422852, -1.3943873643875122, -3.0607826709747314, 6.448409557342529, -4.33408260345459, 7.8309173583984375, -1.547491431236267, -8.551756858825684, -4.748887062072754, -8.757058143615723, -4.322085380554199, 4.358327865600586, -1.7467830181121826, -1.6918251514434814, -2.9623923301696777, -11.30079174041748, -4.4196248054504395, -8.587919235229492, -5.940540790557861, -11.486283302307129, -4.8547163009643555, -5.2928056716918945, -4.188759803771973, -5.424490451812744, -3.76265811920166, -4.295775890350342, -3.5562260150909424, -5.0038909912109375, -1.0786598920822144, 0.37552493810653687, 3.999282121658325, -11.883451461791992, -1.0520583391189575, 7.588787078857422, -4.128901958465576, -0.4162195920944214, -5.801747798919678, -9.631888389587402, -5.435223579406738, 1.9687697887420654, -3.5695910453796387, -11.215043067932129, -9.33132553100586, -6.408617973327637, -10.778307914733887, -2.2399046421051025, -3.666032552719116, -2.550368309020996, -3.2117555141448975, -0.11808108538389206, -0.2651825249195099, -1.2845784425735474, -2.028125047683716, -4.380383491516113, -10.201685905456543, -10.516472816467285, -4.36912202835083, 7.537079334259033, -5.947250843048096, 8.475241661071777, -2.958008289337158, -0.7889757752418518, 4.969511032104492, -12.783515930175781, -2.4505579471588135, -7.437510967254639, -11.805628776550293, -9.859980583190918, -7.325672626495361, 0.6572460532188416, -1.4342730045318604, -2.20159912109375, -1.8215112686157227, -4.045050621032715, -7.766608238220215, -7.010893821716309, -10.06074047088623, 3.515185832977295, -0.6406286358833313, 2.882477045059204, -1.1330981254577637, -2.6596293449401855, -4.010691165924072, -2.313509941101074, -8.918329238891602, -1.3726110458374023, -3.763322353363037, -7.739895820617676, 1.4862797260284424, -6.786923408508301, 1.783129334449768, -2.7523250579833984, -2.364572048187256, 2.835928440093994, -8.073562622070312, 0.5358375906944275, 3.3625640869140625, -1.318171739578247, 1.9975574016571045, -0.06641130149364471, -0.42029863595962524, 3.676832675933838, -6.799106597900391, -11.621596336364746, -1.739990234375, -0.5517417192459106, -3.6973700523376465, -9.822162628173828, -2.5874688625335693, -1.6772059202194214, 7.95975923538208, -4.232681751251221, -5.494220733642578, -2.7429826259613037, 0.2861137092113495, -6.877139091491699, -9.1533842086792, -9.973617553710938, -2.5831000804901123, 1.1890674829483032, -6.945431232452393, -5.814878463745117, -1.2107635736465454, -8.431113243103027, -1.8830771446228027, -10.690352439880371, -5.7039971351623535, -10.3275728225708, -0.5135422945022583, -1.6660715341567993, -6.626166820526123, -6.020852565765381, -5.201240539550781, -4.834028720855713, 2.083987236022949, -1.8397588729858398, 4.6352410316467285, -2.4559895992279053, -12.649771690368652, 0.31357207894325256, 0.47044816613197327, -4.418425559997559, -1.2780715227127075, 8.578132629394531, -1.3847984075546265, -12.439541816711426, -5.719785213470459, -7.730216979980469, -0.1289679855108261, -11.059842109680176, -5.626559257507324, -9.538594245910645, -4.378118991851807, 4.529489994049072, -1.8784030675888062, -1.5381324291229248, -1.5713400840759277, 1.5134692192077637, -1.01683509349823, 0.5270496606826782, -4.177759647369385, -5.065229892730713, -3.0573244094848633, -1.4411487579345703, 1.6325770616531372, 0.5576725006103516, -1.8754080533981323, -9.10026741027832, 0.5374742150306702, -1.1088415384292603, -0.9987504482269287, -0.7714257836341858, 1.65606689453125, -11.689305305480957, 0.48582249879837036, -10.44973087310791, -6.719168663024902, -2.466787338256836, -5.306926727294922, -6.036794185638428, -10.078319549560547, -8.662801742553711, -0.7569353580474854, -0.6214850544929504, -6.511514186859131, -6.469584941864014, -6.127847671508789, -1.983331561088562, -3.537767171859741, 2.626697540283203, 4.085191249847412, -1.4085108041763306, -1.1932870149612427, -6.894850730895996, -0.4243471324443817, -2.3262851238250732, 3.1551733016967773, -4.226373672485352, -3.7955193519592285, -12.43545150756836, -0.6787841320037842, -1.1627264022827148, -1.2314294576644897, 6.194754600524902, 0.4640216827392578, 0.9474911689758301, -2.526097297668457, 1.8124775886535645, -2.0350894927978516, -8.821367263793945, -1.6697685718536377, -5.483951091766357, 8.646919250488281, -6.018007278442383, -11.903003692626953, -11.232007026672363, -1.4663633108139038, 1.5691882371902466, -6.650126934051514, -8.149682998657227, 3.8948612213134766, -4.986938953399658, -0.6665940284729004, -2.16900634765625, -0.11057359725236893, -6.734155178070068, 0.07758896052837372, -0.5217479467391968, -1.9413807392120361, -12.577550888061523, -1.103479266166687, -1.5484975576400757, -0.6894704699516296, -11.105245590209961, -9.203359603881836, -4.102880001068115, -5.4091081619262695, 6.801164627075195, -0.8475771546363831, -5.585961818695068, -7.519070148468018, -0.6225060820579529, -1.4459483623504639, -3.5109646320343018, -8.055809020996094, -2.7183127403259277, -2.067802667617798, 0.788385272026062, -5.757883548736572, -4.957756519317627, -6.9834747314453125, -1.4099669456481934, -2.809885025024414, -7.95619010925293, -1.5715044736862183, -0.2964026927947998, 0.5336732268333435, -11.287137985229492, -7.553670406341553, -3.7731728553771973, -9.186141967773438, -0.9063379764556885, -4.626307487487793, -7.278936862945557, -0.9954721331596375, -6.070219039916992, -4.0648274421691895, -7.662392616271973, -4.5907301902771, 5.590677738189697, -5.707009315490723, 2.0245468616485596, -9.311495780944824, -7.991360664367676, -3.6055123805999756, -6.603087425231934, 5.129146099090576, 6.726712226867676, -7.338708400726318, -2.770148992538452, 6.392092704772949, 3.400513172149658, -11.346905708312988, -9.50649356842041, -11.67449951171875, -4.886005401611328, -6.221698760986328, 8.088912963867188, 0.7304946780204773, -1.0603500604629517, -2.09861159324646, 7.4671173095703125, -2.2997119426727295, -4.908728122711182, -1.5135700702667236, -0.38005512952804565, -2.2057607173919678, -10.954248428344727, -0.14169232547283173, -1.329216480255127, -8.084662437438965, -10.24144458770752, -4.1190385818481445, 2.287867546081543, -1.090628743171692, 1.2900924682617188, -0.9814584255218506, 4.052093029022217, 1.6225069761276245, -1.1245383024215698, -0.7059037685394287, -1.0886708498001099, 4.5818352699279785, -3.7003681659698486, 0.4600136876106262, -0.7816686034202576, 0.5070236921310425, 3.204294443130493, 8.33139705657959, -6.810405731201172, -1.5033992528915405, -2.6657607555389404, -8.89626693725586, -5.432497024536133, -2.1540462970733643, -12.79716682434082, -7.177006721496582, -8.977941513061523, -4.000472545623779, -1.0321767330169678, -5.199000835418701, -5.4971747398376465, -7.359452724456787, -11.36470890045166, -10.45697021484375, -8.05687141418457, 1.9003254175186157, 0.9001471996307373, -6.695633411407471, 1.117602825164795, -6.087388038635254, -7.4800214767456055, 3.448720932006836, 0.43865764141082764, 1.8562265634536743, -0.006351855583488941, -11.492587089538574, -5.138912677764893, 4.992763042449951, -6.552538871765137, 7.766808986663818, -8.263731002807617, 3.299760580062866, -9.92031192779541, 1.295500636100769, -1.0111358165740967, -1.316124439239502, -0.4150868058204651, -8.116874694824219, -11.274923324584961, -0.18136629462242126, -9.110321998596191, -6.362094879150391, -3.8898801803588867, -2.4980602264404297, -6.563022136688232, -1.0314894914627075, -7.550607204437256, -1.2550872564315796, 8.475152015686035, -5.907293796539307, -2.410667657852173, 0.6357886791229248, -7.009774684906006, 1.536211371421814, -7.726589202880859, -7.525711536407471, -9.494161605834961, -5.270890235900879, 4.456319808959961, -12.649739265441895, -4.78581428527832, -1.1938848495483398, -10.217617988586426, -5.8572235107421875, -0.018761837854981422, -11.119873046875, -12.170310974121094, -10.401318550109863, -1.3441768884658813, -0.6369314789772034, -7.7548112869262695, -4.868603229522705, -4.573955535888672, -10.520488739013672, -5.143219470977783, -11.381728172302246, 2.6460299491882324, -10.415365219116211, -4.008975982666016, -7.0525712966918945, 0.8499091267585754, -5.702474594116211, -2.378146171569824, -2.7231509685516357, -3.1390326023101807, -5.703221321105957, -7.670912742614746, -10.30668830871582, -9.110296249389648, -2.7163784503936768, -7.146615505218506, -1.1289582252502441, -8.73137092590332, 0.051567234098911285, -2.9039485454559326, -9.665909767150879, -5.24628210067749, -7.097167491912842, 6.355961799621582, -7.397007465362549, -8.691566467285156, -5.788129806518555, -5.999206066131592, -4.555934429168701, -0.7777513861656189, -10.430459022521973, -0.9038940072059631, -0.797049343585968, -6.215394496917725, 0.42573967576026917, -3.7012991905212402, -5.315605163574219, -11.193021774291992, -10.07178020477295, -2.898228406906128, -3.061556816101074, -2.8616535663604736, -11.98066520690918, 1.2016117572784424, 3.1103367805480957, -7.4409942626953125, 0.9816075563430786, 0.727493166923523, -9.54808521270752, -7.031169891357422, 2.0447678565979004, 3.7150590419769287, 6.587191581726074, -8.0812349319458, -4.438195705413818, -4.04240083694458, -5.117101669311523, -2.578498601913452, -6.779757022857666, -0.9087348580360413, -10.859886169433594, -1.0593870878219604, -4.907074928283691, -0.32940244674682617, -5.878228664398193, 0.6637570261955261, -4.033915042877197, -10.170101165771484, -6.7569146156311035, 8.490756034851074, -0.4304347038269043, -6.438564300537109, -3.141785144805908, -7.86331844329834, -7.468596458435059, 2.647023916244507, -8.018939018249512, -6.456520080566406, -4.351315975189209, -4.498563289642334, -7.147956848144531, -1.4342231750488281, 5.905425071716309, 4.725403785705566, -8.631065368652344, -5.819161415100098, -12.018654823303223, -12.745984077453613, -11.324145317077637, -7.652191162109375, -6.3056840896606445, -1.6263459920883179, -7.746613025665283, -7.584842681884766, 1.7850693464279175, 4.876130104064941, -2.3862271308898926, -7.417754650115967, -11.135079383850098, -1.1568233966827393, 7.524816036224365, -1.5612962245941162, -9.754368782043457, -7.2899274826049805, -7.202367782592773, -11.433027267456055, -1.2430063486099243, -1.8654179573059082, -12.533673286437988, -0.8932836055755615, -6.445178985595703, 3.515244483947754, -1.1609179973602295, -3.355403423309326, -0.46131619811058044, -1.5638794898986816, -6.78597354888916, -10.482891082763672, -0.617226243019104, -3.7556540966033936, -11.017784118652344, -1.102576494216919, -3.77724027633667, -10.087492942810059, -1.485779881477356, 0.9344668388366699, -4.891461372375488, -3.5661165714263916, -2.2369027137756348, -1.8931529521942139, -2.618962049484253, -1.9074963331222534, 7.253157615661621, -4.955632209777832, -7.82531213760376, -6.961829662322998, -9.765890121459961, 1.1249518394470215, -11.121820449829102, -11.307883262634277, -0.6548587083816528, -8.777517318725586, 6.610419750213623, -7.206315994262695, -0.3134279251098633, -3.119147539138794, -9.716161727905273, 5.999475002288818, -6.614344596862793, -4.214282512664795, 0.5420918464660645, -6.34839391708374, -12.578160285949707, -5.553560256958008, -10.333325386047363, -2.124607801437378, -4.157679557800293, -4.468135356903076, 4.536411285400391, 2.115928888320923, -1.5206940174102783, -0.43467244505882263, -0.6180056929588318, -3.6262083053588867, -11.016349792480469, -7.25693941116333, -0.726078450679779, 7.341347694396973, -1.8140918016433716, 0.32655954360961914, -12.139410018920898, 1.6729793548583984, -2.4665236473083496, -3.479492664337158, -9.308171272277832, -8.177757263183594, -7.33091926574707, -7.781268119812012, 7.109572410583496, -3.0309391021728516, -5.9763054847717285, -3.154874324798584, -11.356931686401367, 5.9923248291015625, -0.6708187460899353, -7.367307186126709, -8.485973358154297, -0.694192111492157, 3.2518701553344727, -4.941951751708984, -8.287932395935059, -7.514330863952637, -3.071838855743408, 1.8575507402420044, -6.583187103271484, -5.208255290985107, -12.775862693786621, -7.457858085632324, -8.801958084106445, 3.0984067916870117, 6.07147741317749, -10.637141227722168, -10.63656997680664, -2.1776747703552246, 0.8855523467063904, 1.6575684547424316, -12.368980407714844, -11.763875961303711, -0.8163430094718933, -3.082068920135498, -8.185142517089844, -10.157648086547852, -4.116422653198242, -0.5961957573890686, -1.1740046739578247, -3.8868579864501953, -0.28652361035346985, -3.5486044883728027, -10.994171142578125, 1.0040652751922607, -0.4362012445926666, -2.6753993034362793, -11.839020729064941, -6.332987308502197, -1.0917237997055054, -4.772247791290283, -6.3649001121521, 2.69757342338562, -0.22945231199264526, -0.7895265817642212, -10.201547622680664, -11.116898536682129, -8.163769721984863, -10.290243148803711, -12.160842895507812, 7.965754985809326, -7.174523830413818, -1.0376259088516235, 0.600818395614624, 4.7386555671691895, 0.7585569024085999, -9.548639297485352, -6.187068462371826, -3.9902703762054443, -9.774511337280273, -8.016265869140625, -9.207803726196289, -1.27594792842865, -4.680587291717529, -6.777127742767334, -0.8073065876960754, 7.841540336608887, -8.558015823364258, -7.414060592651367, 0.5733461976051331, -4.360515117645264, 2.3781681060791016, -9.99484634399414, 0.7281198501586914, -0.3363916873931885, -2.4000418186187744, -10.604022026062012, 3.089905261993408, 4.121698379516602, -6.857300281524658, 4.592264175415039, -6.232351303100586, -1.1311718225479126, -1.3231860399246216, -7.838534832000732, -2.806049108505249, -1.0534521341323853, -3.707289457321167, -7.2639546394348145, -9.862812042236328, -5.883394241333008, 0.38409674167633057, -9.631936073303223, 4.589542865753174, -6.092216968536377, 3.399225950241089, -7.104616165161133, -0.8886154294013977, -7.074863910675049, -4.070228099822998, -1.1488091945648193, -7.108874320983887, -5.745880126953125, -11.371363639831543, -1.1615899801254272, 2.2141897678375244, 1.9776278734207153, -8.381438255310059, -7.9058122634887695, -9.841336250305176, 1.833187460899353, -3.6907804012298584, -2.4637908935546875, 5.971347332000732]}, {\"hoverlabel\": {\"namelength\": 0}, \"hovertemplate\": \"Dominant_Topic=Topic 3<br>0=%{x}<br>1=%{y}<br>2=%{z}\", \"legendgroup\": \"Dominant_Topic=Topic 3\", \"marker\": {\"color\": \"#ab63fa\", \"opacity\": 0.7, \"symbol\": \"circle\"}, \"mode\": \"markers\", \"name\": \"Dominant_Topic=Topic 3\", \"scene\": \"scene\", \"showlegend\": true, \"type\": \"scatter3d\", \"x\": [-1.465192198753357, -2.1578481197357178, -2.864948034286499, 0.7532059550285339, -1.0950411558151245, -4.319212436676025, 0.8415679335594177, -1.3067283630371094, -1.2604103088378906, -3.494173526763916, -1.6271647214889526, -2.524779796600342, 3.7841556072235107, -4.675263404846191, 2.555037021636963, -0.8736356496810913, -0.27065327763557434, 2.638958215713501, 3.293893575668335, 0.8114072680473328, -2.4487144947052, -4.195289134979248, -2.302182197570801, -4.556956768035889, -0.6759421825408936, -3.4061591625213623, -3.078648805618286, -0.36199912428855896, 0.826920211315155, -0.16477492451667786, -3.519604444503784, 1.0638357400894165, -4.925197124481201, -0.1144690215587616, -2.4047489166259766, -4.643105506896973, -4.731535911560059, -2.7580201625823975, -1.9013396501541138, -3.055678129196167, 1.794171929359436, 0.17596818506717682, -1.112343430519104, -2.8887057304382324, 3.488736867904663, -2.4689486026763916, 3.0853939056396484, -4.033535003662109, 0.26156702637672424, 2.706803798675537, 0.5401063561439514, 0.11068228632211685, 2.67026686668396, -2.7833712100982666, -5.057358264923096, -2.4061405658721924, -4.934752941131592, -3.1689419746398926, -4.8601226806640625, -4.45053243637085, -4.652635097503662, 0.34878799319267273, -3.4930503368377686, -4.996297836303711, -4.229306697845459, -5.503370761871338, -4.978823661804199, -1.4891653060913086, -3.3936502933502197, -5.527462482452393, -2.9277639389038086, -2.810680866241455, -4.834821701049805, -0.14309482276439667, -3.3532800674438477, -1.2320938110351562, -3.2101104259490967, -4.168292045593262, -4.984782695770264, 0.2433180958032608, 3.030752420425415, -1.9761834144592285, -1.0521737337112427, 3.023493766784668, -3.7843854427337646, -4.815887451171875, 0.6927462816238403, -4.880308628082275, -3.05214786529541, -3.521562099456787, 0.0160515159368515, 2.736466884613037, -5.047083377838135, -2.6347477436065674, -1.0694975852966309, 2.6931941509246826, -4.309942245483398, -4.577913761138916, -2.060945510864258, -0.48123860359191895, 2.7345683574676514, -4.127084732055664, -3.818465232849121, -5.3774895668029785, 2.2965810298919678, 1.120761513710022, -1.2459959983825684, -2.101154327392578, 4.084601402282715, -4.726917743682861, 1.2944667339324951, 3.6668756008148193, 1.8660132884979248, -0.37544533610343933, -2.972322940826416, -1.3894535303115845, 0.4970338046550751, -4.712162017822266, -0.822038471698761, -0.25762301683425903, -1.4770307540893555, -0.20552539825439453, -2.8730950355529785, -3.056400775909424, -1.7756752967834473, 0.3443613350391388, -0.6143223643302917, -4.622742176055908, -3.373746156692505, -1.1584793329238892, 1.592292070388794, -1.75340735912323, 3.018134832382202, -0.34965622425079346, -2.880176305770874, 3.494558334350586, -1.4447962045669556, -0.8027908802032471, -1.110234260559082, 1.406450629234314, 5.5740647315979, 2.3162941932678223, -1.9713143110275269, -4.8845367431640625, 1.6880007982254028, 2.996765375137329, -4.595608711242676, -5.100152969360352, 1.9840420484542847, -4.947505950927734, -3.0011627674102783, -4.871139049530029, -4.604207515716553, -5.338311672210693, 1.0928548574447632, -5.0017476081848145, -4.7834553718566895, -5.084505558013916, 0.6016440987586975, 1.3880493640899658, -4.920974254608154, 2.256326198577881, -1.15823233127594, -4.720626354217529, -5.5136542320251465, 0.8818939924240112, -4.985086917877197, -1.3285472393035889, -1.5358469486236572, -0.47676822543144226, -2.890608310699463, -5.12716817855835, -3.3984012603759766, 3.6451778411865234, -1.5734424591064453, -4.923009395599365, 1.4321357011795044, -2.5278966426849365, -3.541358470916748, -4.92303466796875, -3.9204964637756348, -1.1482551097869873, 0.3887470066547394, 5.2948689460754395, 3.407078742980957, 3.253929615020752, 3.1201255321502686, -2.477325201034546, 2.382079839706421, -3.9563374519348145, -1.413499116897583, -2.79485821723938, 3.1717443466186523, -4.834679126739502, -2.789480447769165, -1.6694176197052002, -2.8274357318878174, -2.065730571746826, 0.31685978174209595, 5.358767032623291, 3.251878261566162, -5.464215278625488, -4.965798377990723, 2.6647090911865234, 1.1950865983963013, -3.6459767818450928, -3.192889928817749, -0.8477593660354614, 1.7202613353729248, -4.5122904777526855, -2.4058926105499268, 2.81467866897583, -2.329848051071167, 0.3982032537460327, -2.5586063861846924, -1.8903025388717651, -3.4793407917022705, 0.4680382311344147, 2.9598124027252197, -1.652858853340149, -2.999131679534912, -1.900152564048767, 0.9719700813293457, 5.371779918670654, -0.7050027251243591, -2.4103424549102783, -0.16751347482204437, 3.760174512863159, -3.2625174522399902, 6.621488094329834, -2.9220151901245117, -0.026444092392921448, 2.3036141395568848, 2.5230748653411865, -3.3267247676849365, 0.9025774002075195, -3.542050361633301, -5.424971580505371, -2.413050889968872, -0.05600077286362648, 0.31287193298339844, -2.3219408988952637, -4.894676208496094, -3.912752151489258, 3.277184247970581, -2.8220930099487305, -1.6444411277770996, -2.1579599380493164, -1.0467779636383057, -0.3137577176094055, -4.05841064453125, -0.07649806886911392, -4.795619487762451, 3.17085862159729, 6.543991565704346, -2.5337867736816406, 0.7744378447532654, 2.7291171550750732, -4.555011749267578, -3.1238396167755127, -5.064540386199951, -1.3248530626296997, -2.912710189819336, -4.749868869781494, -2.3099453449249268, -4.897737979888916, -3.750241994857788, -4.0198540687561035, 0.1978282630443573, 3.0587737560272217, 3.8187568187713623, 1.0998469591140747, 3.299252510070801, -0.03506872430443764, -3.2176666259765625, 6.231332778930664, -2.159684181213379, -3.2600290775299072, -1.5541877746582031, -1.4202675819396973, 6.322692394256592, 6.325901031494141, 6.5492095947265625, -0.0852593258023262, 2.612027645111084, 2.3815925121307373, -2.120631694793701, -4.887426376342773, -3.447296380996704, -4.426612377166748, -3.7661097049713135, -0.809089720249176, -0.56133633852005, -0.09820395708084106, -0.5310289263725281, 3.7929062843322754, -1.2186449766159058, 3.6898961067199707, -4.9501800537109375, -0.5078732967376709, 0.7491928339004517, 0.9208109378814697, -1.8401947021484375, -5.436384201049805, 3.038505792617798, -1.3621312379837036, 3.6241695880889893, -3.075791597366333, 2.4381651878356934, 1.6752288341522217, -4.934413909912109, -1.7358858585357666, -1.9346423149108887, -2.646232843399048, -5.071915149688721, -1.4082099199295044, 2.4842898845672607, 3.021786689758301, -1.4283915758132935, 0.3708067834377289, 0.8519074320793152, 2.936746120452881, -1.6030383110046387], \"y\": [-8.571672439575195, -15.456814765930176, -7.571008205413818, -10.55713176727295, -14.645410537719727, -17.11821746826172, -7.3280229568481445, -13.694896697998047, -14.721549034118652, -10.740545272827148, -12.352481842041016, -16.114635467529297, -9.520261764526367, -16.01894187927246, -8.983839988708496, -8.462933540344238, -8.132922172546387, -5.467613220214844, -7.0956597328186035, -6.196778297424316, -15.661186218261719, -7.197432994842529, -14.209104537963867, -17.510440826416016, -7.388960838317871, -14.20779037475586, -8.605857849121094, -7.08964729309082, -9.836126327514648, -9.713333129882812, -11.64322280883789, -10.623058319091797, -12.474640846252441, -13.682374954223633, -8.713603973388672, -18.331527709960938, -14.327950477600098, -14.883155822753906, -10.489957809448242, -9.132658004760742, -7.987444877624512, -9.249347686767578, -12.624217987060547, -11.1450777053833, -7.946743965148926, -8.24657154083252, -5.724146842956543, -12.392600059509277, -10.825305938720703, -8.044510841369629, -5.3387956619262695, -5.547651290893555, -9.539656639099121, -7.18282413482666, -17.30116844177246, -7.4901041984558105, -9.119773864746094, -14.934572219848633, -11.256240844726562, -10.467588424682617, -9.251029968261719, -9.801438331604004, -11.871822357177734, -8.262206077575684, -10.438904762268066, -8.341924667358398, -14.743396759033203, -10.355536460876465, -8.500032424926758, -8.10970687866211, -11.803533554077148, -8.922246932983398, -17.972238540649414, -9.890068054199219, -10.4683837890625, -7.1563849449157715, -13.154535293579102, -13.960332870483398, -11.333956718444824, -5.6620330810546875, -6.0426836013793945, -7.531338691711426, -9.654561996459961, -6.418351173400879, -7.105104446411133, -11.387396812438965, -7.733862400054932, -16.915559768676758, -9.874616622924805, -11.825222969055176, -7.690158843994141, -8.662168502807617, -17.061473846435547, -13.28228759765625, -9.392295837402344, -7.978636264801025, -8.371736526489258, -15.932281494140625, -10.46214485168457, -9.029138565063477, -6.5838494300842285, -17.027902603149414, -16.9597110748291, -8.881714820861816, -8.915369033813477, -11.079927444458008, -10.141739845275879, -11.888107299804688, -5.223513126373291, -12.721922874450684, -11.045257568359375, -7.641091823577881, -10.233346939086914, -10.41455364227295, -8.26649284362793, -15.03464412689209, -9.780613899230957, -16.373899459838867, -8.424152374267578, -8.01567268371582, -12.69992446899414, -5.328942775726318, -14.923504829406738, -8.967816352844238, -15.810283660888672, -9.277963638305664, -8.236063003540039, -18.09658432006836, -13.913872718811035, -15.120478630065918, -10.186848640441895, -15.81712818145752, -10.206592559814453, -7.866322040557861, -8.201654434204102, -7.375208854675293, -14.666435241699219, -10.70840835571289, -14.142796516418457, -5.164351940155029, -5.747363090515137, -8.741042137145996, -8.796100616455078, -11.816884994506836, -10.210654258728027, -5.1594085693359375, -14.701292037963867, -17.023666381835938, -9.304961204528809, -17.69137191772461, -9.880511283874512, -16.357826232910156, -7.402517318725586, -8.751534461975098, -10.294988632202148, -11.443726539611816, -11.983916282653809, -16.941883087158203, -10.39105224609375, -12.284761428833008, -13.866012573242188, -7.766476631164551, -9.681001663208008, -8.453722953796387, -8.361555099487305, -7.535159111022949, -16.701478958129883, -12.847978591918945, -13.510050773620605, -7.360517978668213, -15.301275253295898, -16.29503631591797, -8.93842887878418, -5.368369102478027, -10.076170921325684, -17.523168563842773, -7.906147003173828, -13.272132873535156, -10.085220336914062, -17.523160934448242, -12.660082817077637, -8.925193786621094, -5.576172351837158, -5.565402507781982, -4.764737606048584, -6.464329242706299, -6.683762073516846, -8.81126594543457, -7.189267158508301, -16.548179626464844, -8.664558410644531, -10.438215255737305, -9.840875625610352, -17.972339630126953, -8.625957489013672, -12.375283241271973, -6.858828067779541, -13.13222885131836, -12.420549392700195, -5.437123775482178, -7.578945636749268, -8.420002937316895, -16.156841278076172, -7.057204723358154, -9.826056480407715, -8.337455749511719, -13.4845609664917, -9.041580200195312, -8.914774894714355, -17.723581314086914, -10.926231384277344, -9.219112396240234, -8.652307510375977, -6.136199474334717, -9.030843734741211, -11.723188400268555, -8.476106643676758, -8.28897762298584, -10.067095756530762, -9.524531364440918, -8.438278198242188, -9.380642890930176, -10.524880409240723, -5.572070598602295, -8.966191291809082, -7.497852325439453, -9.776124954223633, -9.66094970703125, -8.475260734558105, -8.178363800048828, -11.13026237487793, -7.800347805023193, -8.771876335144043, -8.461938858032227, -14.218982696533203, -5.6081624031066895, -14.078598022460938, -9.164576530456543, -7.176372051239014, -7.703354358673096, -9.062179565429688, -12.682662010192871, -15.047760009765625, -13.994619369506836, -6.438223361968994, -13.630001068115234, -12.679900169372559, -12.936120986938477, -9.057210922241211, -7.306351661682129, -17.057964324951172, -6.767704010009766, -17.549579620361328, -7.695319652557373, -6.330112934112549, -8.734675407409668, -5.393828868865967, -9.639324188232422, -7.62744140625, -15.548184394836426, -16.17022132873535, -8.882759094238281, -15.887399673461914, -18.4293212890625, -11.505365371704102, -12.626058578491211, -13.580194473266602, -10.245710372924805, -7.512815475463867, -6.578437328338623, -7.7319159507751465, -5.165548324584961, -5.388630390167236, -7.758719444274902, -16.393909454345703, -8.029242515563965, -16.377212524414062, -10.3368501663208, -15.14828872680664, -12.864384651184082, -7.658344745635986, -5.8618550300598145, -6.387454509735107, -10.636591911315918, -10.113455772399902, -8.225534439086914, -12.985007286071777, -11.639750480651855, -14.780085563659668, -11.909592628479004, -11.004456520080566, -9.056275367736816, -12.80534553527832, -13.718153953552246, -8.650412559509277, -7.710216045379639, -10.665962219238281, -7.9634785652160645, -14.622600555419922, -6.290500640869141, -12.465279579162598, -10.565123558044434, -15.817845344543457, -8.881426811218262, -7.911163330078125, -11.314627647399902, -8.191515922546387, -14.788411140441895, -8.494377136230469, -11.815167427062988, -13.590587615966797, -11.187767028808594, -8.329854011535645, -13.105642318725586, -16.639558792114258, -8.808788299560547, -7.2950758934021, -7.474986553192139, -8.75063419342041, -7.854602336883545, -11.03415584564209, -6.74141263961792, -8.885926246643066], \"z\": [6.80825138092041, 7.942686080932617, 2.43133282661438, 7.549224853515625, 7.894174098968506, 7.087497234344482, -0.31119051575660706, 8.336287498474121, 7.965746879577637, 5.682275772094727, 8.207886695861816, 7.878894329071045, 9.962495803833008, 5.9832305908203125, 9.199790954589844, -0.36937233805656433, 7.630366802215576, 5.8934326171875, 8.298502922058105, 5.25448751449585, 7.830209255218506, 2.4895262718200684, 7.763815402984619, 7.077615737915039, 6.109307765960693, 6.523827075958252, 0.6849331259727478, 4.18908166885376, 0.1572290062904358, 7.1063103675842285, 4.712220668792725, 9.149712562561035, 5.016713619232178, 8.895861625671387, 2.2239058017730713, 7.313448905944824, 5.750568866729736, 7.427096366882324, 7.606918811798096, 5.222359657287598, 6.977403163909912, -0.902521550655365, 8.509483337402344, 2.799278497695923, 9.09354019165039, 5.214501857757568, 6.224954605102539, 5.756834983825684, 8.944926261901855, 8.523751258850098, 4.453761100769043, 4.562641143798828, 9.466775894165039, 3.6861166954040527, 6.71895694732666, 3.3767619132995605, 2.5467073917388916, 6.094021797180176, 4.510326862335205, 3.4190099239349365, 2.9948208332061768, 6.9540276527404785, 4.17136812210083, 1.8526911735534668, 3.2616350650787354, 2.4428415298461914, 5.816551208496094, 7.922849178314209, 1.2387200593948364, 2.3258492946624756, 3.4875433444976807, 2.1520683765411377, 7.060149669647217, 7.356302738189697, 5.801033020019531, 3.655707359313965, 6.952529430389404, 6.203944206237793, 4.4315948486328125, 4.178437232971191, 6.555698394775391, 3.501826763153076, 7.932929992675781, 7.3259735107421875, 2.907543659210205, 4.611428737640381, -0.4480423033237457, 6.680408954620361, 5.870621681213379, 4.1354498863220215, 7.406870365142822, 7.782212257385254, 6.623549938201904, 7.490246772766113, 7.805100440979004, 7.938409805297852, 1.4096894264221191, 6.196632385253906, 7.31142520904541, 0.14789393544197083, 6.485174655914307, 5.889830589294434, 7.373228549957275, 2.775689125061035, 9.063536643981934, 9.207693099975586, 7.966378211975098, 7.857100486755371, 6.549881458282471, 5.225589275360107, 9.264516830444336, 5.1776041984558105, 9.22753620147705, 8.545991897583008, 4.40984582901001, 7.8339619636535645, -0.2276114970445633, 6.555607318878174, 7.351822376251221, 7.543674945831299, 8.24521255493164, 4.13569450378418, 5.91422700881958, 5.0303544998168945, 8.218567848205566, 6.607771396636963, -0.4408848285675049, 6.949269771575928, 6.843404293060303, 8.563966751098633, 9.259014129638672, 8.18008804321289, 9.8685884475708, 7.274186134338379, 4.026366710662842, 8.664237976074219, 6.705232620239258, 8.46164321899414, 8.33703899383545, 4.502540111541748, 8.47256088256836, 8.976040840148926, 6.508116245269775, 4.7509918212890625, 9.20076847076416, 5.725271224975586, 6.053155422210693, 6.584951400756836, 9.082191467285156, 6.916495323181152, 5.923614025115967, 6.443588733673096, 2.6360106468200684, 2.7494118213653564, 9.02828311920166, 4.494964122772217, 4.918442249298096, 6.5535888671875, 8.465237617492676, 9.515823364257812, 5.556151390075684, 8.204266548156738, 7.6127424240112305, 1.6536272764205933, 2.456768751144409, 6.586639881134033, 6.4823174476623535, 8.392868041992188, 8.229694366455078, 6.214895248413086, 7.451135635375977, 6.289059162139893, 2.841689109802246, 6.432215213775635, 7.596567153930664, 6.868937969207764, -1.440589189529419, 7.5152716636657715, 2.9750828742980957, 6.868920803070068, 6.022700786590576, -1.6815544366836548, 4.466160297393799, 7.995651721954346, 5.422082424163818, 7.598641395568848, 7.706007480621338, 5.783888339996338, 7.279828071594238, 7.139091491699219, 7.0138258934021, 6.48321533203125, 9.81162166595459, 7.0596113204956055, 4.000460147857666, 8.157319068908691, 3.4523556232452393, 4.1457133293151855, 8.531683921813965, 7.865424633026123, 8.696346282958984, 2.501121759414673, 6.195552349090576, 7.761348724365234, 0.28208717703819275, 0.7925347089767456, 6.998487949371338, -1.776707410812378, 8.896332740783691, 6.576344013214111, 7.2863569259643555, 9.314849853515625, 5.921271800994873, 5.142451763153076, 5.946037292480469, 7.993527412414551, 0.793907880783081, -1.2552293539047241, 9.796268463134766, 7.12814998626709, 4.51912784576416, 7.006091594696045, 8.922972679138184, 8.0020112991333, 7.6151533126831055, 3.674783945083618, 7.209907531738281, 10.01193904876709, 1.4877052307128906, 9.635969161987305, 2.8721280097961426, 7.037405014038086, 7.8707427978515625, 8.848015785217285, 6.845606327056885, 4.959544658660889, 6.693765163421631, 2.92431640625, 3.8133010864257812, 6.618141174316406, -1.7545005083084106, 3.8628807067871094, 5.9260735511779785, 6.407806873321533, 7.532249450683594, 7.340571880340576, 8.21699047088623, 4.010998725891113, 0.34207651019096375, 5.950464248657227, 7.2388715744018555, 4.647940158843994, 6.722300052642822, 8.730111122131348, 9.61147403717041, 5.691895961761475, 4.324009895324707, 9.53990650177002, 2.907116651535034, 7.362751483917236, 6.272024631500244, -1.5101850032806396, 7.611588478088379, 7.293667793273926, 7.603055000305176, 5.096829414367676, 6.484347343444824, 3.0399224758148193, 7.332834720611572, 6.575735569000244, 5.154251575469971, 4.425398826599121, 6.236670017242432, 7.400620937347412, 7.565157890319824, 9.721931457519531, 7.928738594055176, 2.428520441055298, 8.07170295715332, 8.346414566040039, 9.626343727111816, 9.246332168579102, 9.392434120178223, 8.595269203186035, 9.598832130432129, 7.408466339111328, 4.041526794433594, 4.646978378295898, 6.102812767028809, 5.198725700378418, 5.351194381713867, -0.13721033930778503, 8.739663124084473, 8.892748832702637, 7.784439563751221, 5.208430290222168, 8.218172073364258, 5.498893737792969, 5.793183326721191, 3.766382932662964, 9.146709442138672, 6.467898845672607, 8.123208999633789, 2.7437849044799805, 8.795974731445312, 8.221258163452148, 5.819451808929443, 6.241683483123779, 8.90709114074707, 9.573921203613281, 5.447278022766113, 8.003424644470215, 6.062024116516113, 7.478978633880615, 6.435741901397705, 7.053272247314453, 7.2613115310668945, 8.439567565917969, 6.720975399017334, 7.80296516418457, 6.797289848327637, 6.624250888824463, -0.9390419721603394]}],\n",
       "                        {\"height\": 800, \"legend\": {\"tracegroupgap\": 0}, \"scene\": {\"domain\": {\"x\": [0.0, 1.0], \"y\": [0.0, 1.0]}, \"xaxis\": {\"title\": {\"text\": \"0\"}}, \"yaxis\": {\"title\": {\"text\": \"1\"}}, \"zaxis\": {\"title\": {\"text\": \"2\"}}}, \"template\": {\"data\": {\"bar\": [{\"error_x\": {\"color\": \"#2a3f5f\"}, \"error_y\": {\"color\": \"#2a3f5f\"}, \"marker\": {\"line\": {\"color\": \"#E5ECF6\", \"width\": 0.5}}, \"type\": \"bar\"}], \"barpolar\": [{\"marker\": {\"line\": {\"color\": \"#E5ECF6\", \"width\": 0.5}}, \"type\": \"barpolar\"}], \"carpet\": [{\"aaxis\": {\"endlinecolor\": \"#2a3f5f\", \"gridcolor\": \"white\", \"linecolor\": \"white\", \"minorgridcolor\": \"white\", \"startlinecolor\": \"#2a3f5f\"}, \"baxis\": {\"endlinecolor\": \"#2a3f5f\", \"gridcolor\": \"white\", \"linecolor\": \"white\", \"minorgridcolor\": \"white\", \"startlinecolor\": \"#2a3f5f\"}, \"type\": \"carpet\"}], \"choropleth\": [{\"colorbar\": {\"outlinewidth\": 0, \"ticks\": \"\"}, \"type\": \"choropleth\"}], \"contour\": [{\"colorbar\": {\"outlinewidth\": 0, \"ticks\": \"\"}, \"colorscale\": [[0.0, \"#0d0887\"], [0.1111111111111111, \"#46039f\"], [0.2222222222222222, \"#7201a8\"], [0.3333333333333333, \"#9c179e\"], [0.4444444444444444, \"#bd3786\"], [0.5555555555555556, \"#d8576b\"], [0.6666666666666666, \"#ed7953\"], [0.7777777777777778, \"#fb9f3a\"], [0.8888888888888888, \"#fdca26\"], [1.0, \"#f0f921\"]], \"type\": \"contour\"}], \"contourcarpet\": [{\"colorbar\": {\"outlinewidth\": 0, \"ticks\": \"\"}, \"type\": \"contourcarpet\"}], \"heatmap\": [{\"colorbar\": {\"outlinewidth\": 0, \"ticks\": \"\"}, \"colorscale\": [[0.0, \"#0d0887\"], [0.1111111111111111, \"#46039f\"], [0.2222222222222222, \"#7201a8\"], [0.3333333333333333, \"#9c179e\"], [0.4444444444444444, \"#bd3786\"], [0.5555555555555556, \"#d8576b\"], [0.6666666666666666, \"#ed7953\"], [0.7777777777777778, \"#fb9f3a\"], [0.8888888888888888, \"#fdca26\"], [1.0, \"#f0f921\"]], \"type\": \"heatmap\"}], \"heatmapgl\": [{\"colorbar\": {\"outlinewidth\": 0, \"ticks\": \"\"}, \"colorscale\": [[0.0, \"#0d0887\"], [0.1111111111111111, \"#46039f\"], [0.2222222222222222, \"#7201a8\"], [0.3333333333333333, \"#9c179e\"], [0.4444444444444444, \"#bd3786\"], [0.5555555555555556, \"#d8576b\"], [0.6666666666666666, \"#ed7953\"], [0.7777777777777778, \"#fb9f3a\"], [0.8888888888888888, \"#fdca26\"], [1.0, \"#f0f921\"]], \"type\": \"heatmapgl\"}], \"histogram\": [{\"marker\": {\"colorbar\": {\"outlinewidth\": 0, \"ticks\": \"\"}}, \"type\": \"histogram\"}], \"histogram2d\": [{\"colorbar\": {\"outlinewidth\": 0, \"ticks\": \"\"}, \"colorscale\": [[0.0, \"#0d0887\"], [0.1111111111111111, \"#46039f\"], [0.2222222222222222, \"#7201a8\"], [0.3333333333333333, \"#9c179e\"], [0.4444444444444444, \"#bd3786\"], [0.5555555555555556, \"#d8576b\"], [0.6666666666666666, \"#ed7953\"], [0.7777777777777778, \"#fb9f3a\"], [0.8888888888888888, \"#fdca26\"], [1.0, \"#f0f921\"]], \"type\": \"histogram2d\"}], \"histogram2dcontour\": [{\"colorbar\": {\"outlinewidth\": 0, \"ticks\": \"\"}, \"colorscale\": [[0.0, \"#0d0887\"], [0.1111111111111111, \"#46039f\"], [0.2222222222222222, \"#7201a8\"], [0.3333333333333333, \"#9c179e\"], [0.4444444444444444, \"#bd3786\"], [0.5555555555555556, \"#d8576b\"], [0.6666666666666666, \"#ed7953\"], [0.7777777777777778, \"#fb9f3a\"], [0.8888888888888888, \"#fdca26\"], [1.0, \"#f0f921\"]], \"type\": \"histogram2dcontour\"}], \"mesh3d\": [{\"colorbar\": {\"outlinewidth\": 0, \"ticks\": \"\"}, \"type\": \"mesh3d\"}], \"parcoords\": [{\"line\": {\"colorbar\": {\"outlinewidth\": 0, \"ticks\": \"\"}}, \"type\": \"parcoords\"}], \"pie\": [{\"automargin\": true, \"type\": \"pie\"}], \"scatter\": [{\"marker\": {\"colorbar\": {\"outlinewidth\": 0, \"ticks\": \"\"}}, \"type\": \"scatter\"}], \"scatter3d\": [{\"line\": {\"colorbar\": {\"outlinewidth\": 0, \"ticks\": \"\"}}, \"marker\": {\"colorbar\": {\"outlinewidth\": 0, \"ticks\": \"\"}}, \"type\": \"scatter3d\"}], \"scattercarpet\": [{\"marker\": {\"colorbar\": {\"outlinewidth\": 0, \"ticks\": \"\"}}, \"type\": \"scattercarpet\"}], \"scattergeo\": [{\"marker\": {\"colorbar\": {\"outlinewidth\": 0, \"ticks\": \"\"}}, \"type\": \"scattergeo\"}], \"scattergl\": [{\"marker\": {\"colorbar\": {\"outlinewidth\": 0, \"ticks\": \"\"}}, \"type\": \"scattergl\"}], \"scattermapbox\": [{\"marker\": {\"colorbar\": {\"outlinewidth\": 0, \"ticks\": \"\"}}, \"type\": \"scattermapbox\"}], \"scatterpolar\": [{\"marker\": {\"colorbar\": {\"outlinewidth\": 0, \"ticks\": \"\"}}, \"type\": \"scatterpolar\"}], \"scatterpolargl\": [{\"marker\": {\"colorbar\": {\"outlinewidth\": 0, \"ticks\": \"\"}}, \"type\": \"scatterpolargl\"}], \"scatterternary\": [{\"marker\": {\"colorbar\": {\"outlinewidth\": 0, \"ticks\": \"\"}}, \"type\": \"scatterternary\"}], \"surface\": [{\"colorbar\": {\"outlinewidth\": 0, \"ticks\": \"\"}, \"colorscale\": [[0.0, \"#0d0887\"], [0.1111111111111111, \"#46039f\"], [0.2222222222222222, \"#7201a8\"], [0.3333333333333333, \"#9c179e\"], [0.4444444444444444, \"#bd3786\"], [0.5555555555555556, \"#d8576b\"], [0.6666666666666666, \"#ed7953\"], [0.7777777777777778, \"#fb9f3a\"], [0.8888888888888888, \"#fdca26\"], [1.0, \"#f0f921\"]], \"type\": \"surface\"}], \"table\": [{\"cells\": {\"fill\": {\"color\": \"#EBF0F8\"}, \"line\": {\"color\": \"white\"}}, \"header\": {\"fill\": {\"color\": \"#C8D4E3\"}, \"line\": {\"color\": \"white\"}}, \"type\": \"table\"}]}, \"layout\": {\"annotationdefaults\": {\"arrowcolor\": \"#2a3f5f\", \"arrowhead\": 0, \"arrowwidth\": 1}, \"coloraxis\": {\"colorbar\": {\"outlinewidth\": 0, \"ticks\": \"\"}}, \"colorscale\": {\"diverging\": [[0, \"#8e0152\"], [0.1, \"#c51b7d\"], [0.2, \"#de77ae\"], [0.3, \"#f1b6da\"], [0.4, \"#fde0ef\"], [0.5, \"#f7f7f7\"], [0.6, \"#e6f5d0\"], [0.7, \"#b8e186\"], [0.8, \"#7fbc41\"], [0.9, \"#4d9221\"], [1, \"#276419\"]], \"sequential\": [[0.0, \"#0d0887\"], [0.1111111111111111, \"#46039f\"], [0.2222222222222222, \"#7201a8\"], [0.3333333333333333, \"#9c179e\"], [0.4444444444444444, \"#bd3786\"], [0.5555555555555556, \"#d8576b\"], [0.6666666666666666, \"#ed7953\"], [0.7777777777777778, \"#fb9f3a\"], [0.8888888888888888, \"#fdca26\"], [1.0, \"#f0f921\"]], \"sequentialminus\": [[0.0, \"#0d0887\"], [0.1111111111111111, \"#46039f\"], [0.2222222222222222, \"#7201a8\"], [0.3333333333333333, \"#9c179e\"], [0.4444444444444444, \"#bd3786\"], [0.5555555555555556, \"#d8576b\"], [0.6666666666666666, \"#ed7953\"], [0.7777777777777778, \"#fb9f3a\"], [0.8888888888888888, \"#fdca26\"], [1.0, \"#f0f921\"]]}, \"colorway\": [\"#636efa\", \"#EF553B\", \"#00cc96\", \"#ab63fa\", \"#FFA15A\", \"#19d3f3\", \"#FF6692\", \"#B6E880\", \"#FF97FF\", \"#FECB52\"], \"font\": {\"color\": \"#2a3f5f\"}, \"geo\": {\"bgcolor\": \"white\", \"lakecolor\": \"white\", \"landcolor\": \"#E5ECF6\", \"showlakes\": true, \"showland\": true, \"subunitcolor\": \"white\"}, \"hoverlabel\": {\"align\": \"left\"}, \"hovermode\": \"closest\", \"mapbox\": {\"style\": \"light\"}, \"paper_bgcolor\": \"white\", \"plot_bgcolor\": \"#E5ECF6\", \"polar\": {\"angularaxis\": {\"gridcolor\": \"white\", \"linecolor\": \"white\", \"ticks\": \"\"}, \"bgcolor\": \"#E5ECF6\", \"radialaxis\": {\"gridcolor\": \"white\", \"linecolor\": \"white\", \"ticks\": \"\"}}, \"scene\": {\"xaxis\": {\"backgroundcolor\": \"#E5ECF6\", \"gridcolor\": \"white\", \"gridwidth\": 2, \"linecolor\": \"white\", \"showbackground\": true, \"ticks\": \"\", \"zerolinecolor\": \"white\"}, \"yaxis\": {\"backgroundcolor\": \"#E5ECF6\", \"gridcolor\": \"white\", \"gridwidth\": 2, \"linecolor\": \"white\", \"showbackground\": true, \"ticks\": \"\", \"zerolinecolor\": \"white\"}, \"zaxis\": {\"backgroundcolor\": \"#E5ECF6\", \"gridcolor\": \"white\", \"gridwidth\": 2, \"linecolor\": \"white\", \"showbackground\": true, \"ticks\": \"\", \"zerolinecolor\": \"white\"}}, \"shapedefaults\": {\"line\": {\"color\": \"#2a3f5f\"}}, \"ternary\": {\"aaxis\": {\"gridcolor\": \"white\", \"linecolor\": \"white\", \"ticks\": \"\"}, \"baxis\": {\"gridcolor\": \"white\", \"linecolor\": \"white\", \"ticks\": \"\"}, \"bgcolor\": \"#E5ECF6\", \"caxis\": {\"gridcolor\": \"white\", \"linecolor\": \"white\", \"ticks\": \"\"}}, \"title\": {\"x\": 0.05}, \"xaxis\": {\"automargin\": true, \"gridcolor\": \"white\", \"linecolor\": \"white\", \"ticks\": \"\", \"title\": {\"standoff\": 15}, \"zerolinecolor\": \"white\", \"zerolinewidth\": 2}, \"yaxis\": {\"automargin\": true, \"gridcolor\": \"white\", \"linecolor\": \"white\", \"ticks\": \"\", \"title\": {\"standoff\": 15}, \"zerolinecolor\": \"white\", \"zerolinewidth\": 2}}}, \"title\": {\"text\": \"3d TSNE Plot for Topic Model\"}, \"width\": 900},\n",
       "                        {\"responsive\": true}\n",
       "                    ).then(function(){\n",
       "                            \n",
       "var gd = document.getElementById('7e0d91e9-be34-4f27-8c9e-cdd7be0bd623');\n",
       "var x = new MutationObserver(function (mutations, observer) {{\n",
       "        var display = window.getComputedStyle(gd).display;\n",
       "        if (!display || display === 'none') {{\n",
       "            console.log([gd, 'removed!']);\n",
       "            Plotly.purge(gd);\n",
       "            observer.disconnect();\n",
       "        }}\n",
       "}});\n",
       "\n",
       "// Listen for the removal of the full notebook cells\n",
       "var notebookContainer = gd.closest('#notebook-container');\n",
       "if (notebookContainer) {{\n",
       "    x.observe(notebookContainer, {childList: true});\n",
       "}}\n",
       "\n",
       "// Listen for the clearing of the current output cell\n",
       "var outputEl = gd.closest('.output');\n",
       "if (outputEl) {{\n",
       "    x.observe(outputEl, {childList: true});\n",
       "}}\n",
       "\n",
       "                        })\n",
       "                };\n",
       "                });\n",
       "            </script>\n",
       "        </div>"
      ]
     },
     "metadata": {},
     "output_type": "display_data"
    }
   ],
   "source": [
    "plot_model(lda, plot='tsne')"
   ]
  },
  {
   "cell_type": "code",
   "execution_count": 22,
   "metadata": {},
   "outputs": [
    {
     "data": {
      "text/html": [
       "        <script type=\"text/javascript\">\n",
       "        window.PlotlyConfig = {MathJaxConfig: 'local'};\n",
       "        if (window.MathJax) {MathJax.Hub.Config({SVG: {font: \"STIX-Web\"}});}\n",
       "        if (typeof require !== 'undefined') {\n",
       "        require.undef(\"plotly\");\n",
       "        requirejs.config({\n",
       "            paths: {\n",
       "                'plotly': ['https://cdn.plot.ly/plotly-latest.min']\n",
       "            }\n",
       "        });\n",
       "        require(['plotly'], function(Plotly) {\n",
       "            window._Plotly = Plotly;\n",
       "        });\n",
       "        }\n",
       "        </script>\n",
       "        "
      ]
     },
     "metadata": {},
     "output_type": "display_data"
    },
    {
     "data": {
      "image/png": "[encoded data removed]",
      "text/plain": [
       "<Figure size 720x432 with 1 Axes>"
      ]
     },
     "metadata": {},
     "output_type": "display_data"
    }
   ],
   "source": [
    "plot_model(lda, plot='umap')"
   ]
  },
  {
   "cell_type": "code",
   "execution_count": 28,
   "metadata": {},
   "outputs": [
    {
     "data": {
      "application/vnd.plotly.v1+json": {
       "config": {
        "plotlyServerURL": "https://plot.ly"
       },
       "data": [
        {
         "alignmentgroup": "True",
         "customdata": [
          [
           "customer, year, girl, run, boy, prepare, food, long, cafeteria, service"
          ],
          [
           "loan, business, child, group, small, life, live, able, woman, thank"
          ],
          [
           "business, loan, sell, year, child, buy, community, entrepreneur, good, old"
          ],
          [
           "loan, business, sell, use, store, sale, home, group, member, buy"
          ]
         ],
         "hoverlabel": {
          "namelength": 0
         },
         "hovertemplate": "Topic=%{x}<br>Documents=%{y}<br>Keyword=%{customdata[0]}",
         "legendgroup": "",
         "marker": {
          "color": "#636efa"
         },
         "name": "",
         "offsetgroup": "",
         "orientation": "v",
         "showlegend": false,
         "textposition": "auto",
         "type": "bar",
         "x": [
          "Topic 0",
          "Topic 1",
          "Topic 2",
          "Topic 3"
         ],
         "xaxis": "x",
         "y": [
          48,
          404,
          1225,
          323
         ],
         "yaxis": "y"
        }
       ],
       "layout": {
        "barmode": "relative",
        "legend": {
         "tracegroupgap": 0
        },
        "template": {
         "data": {
          "bar": [
           {
            "error_x": {
             "color": "#2a3f5f"
            },
            "error_y": {
             "color": "#2a3f5f"
            },
            "marker": {
             "line": {
              "color": "#E5ECF6",
              "width": 0.5
             }
            },
            "type": "bar"
           }
          ],
          "barpolar": [
           {
            "marker": {
             "line": {
              "color": "#E5ECF6",
              "width": 0.5
             }
            },
            "type": "barpolar"
           }
          ],
          "carpet": [
           {
            "aaxis": {
             "endlinecolor": "#2a3f5f",
             "gridcolor": "white",
             "linecolor": "white",
             "minorgridcolor": "white",
             "startlinecolor": "#2a3f5f"
            },
            "baxis": {
             "endlinecolor": "#2a3f5f",
             "gridcolor": "white",
             "linecolor": "white",
             "minorgridcolor": "white",
             "startlinecolor": "#2a3f5f"
            },
            "type": "carpet"
           }
          ],
          "choropleth": [
           {
            "colorbar": {
             "outlinewidth": 0,
             "ticks": ""
            },
            "type": "choropleth"
           }
          ],
          "contour": [
           {
            "colorbar": {
             "outlinewidth": 0,
             "ticks": ""
            },
            "colorscale": [
             [
              0,
              "#0d0887"
             ],
             [
              0.1111111111111111,
              "#46039f"
             ],
             [
              0.2222222222222222,
              "#7201a8"
             ],
             [
              0.3333333333333333,
              "#9c179e"
             ],
             [
              0.4444444444444444,
              "#bd3786"
             ],
             [
              0.5555555555555556,
              "#d8576b"
             ],
             [
              0.6666666666666666,
              "#ed7953"
             ],
             [
              0.7777777777777778,
              "#fb9f3a"
             ],
             [
              0.8888888888888888,
              "#fdca26"
             ],
             [
              1,
              "#f0f921"
             ]
            ],
            "type": "contour"
           }
          ],
          "contourcarpet": [
           {
            "colorbar": {
             "outlinewidth": 0,
             "ticks": ""
            },
            "type": "contourcarpet"
           }
          ],
          "heatmap": [
           {
            "colorbar": {
             "outlinewidth": 0,
             "ticks": ""
            },
            "colorscale": [
             [
              0,
              "#0d0887"
             ],
             [
              0.1111111111111111,
              "#46039f"
             ],
             [
              0.2222222222222222,
              "#7201a8"
             ],
             [
              0.3333333333333333,
              "#9c179e"
             ],
             [
              0.4444444444444444,
              "#bd3786"
             ],
             [
              0.5555555555555556,
              "#d8576b"
             ],
             [
              0.6666666666666666,
              "#ed7953"
             ],
             [
              0.7777777777777778,
              "#fb9f3a"
             ],
             [
              0.8888888888888888,
              "#fdca26"
             ],
             [
              1,
              "#f0f921"
             ]
            ],
            "type": "heatmap"
           }
          ],
          "heatmapgl": [
           {
            "colorbar": {
             "outlinewidth": 0,
             "ticks": ""
            },
            "colorscale": [
             [
              0,
              "#0d0887"
             ],
             [
              0.1111111111111111,
              "#46039f"
             ],
             [
              0.2222222222222222,
              "#7201a8"
             ],
             [
              0.3333333333333333,
              "#9c179e"
             ],
             [
              0.4444444444444444,
              "#bd3786"
             ],
             [
              0.5555555555555556,
              "#d8576b"
             ],
             [
              0.6666666666666666,
              "#ed7953"
             ],
             [
              0.7777777777777778,
              "#fb9f3a"
             ],
             [
              0.8888888888888888,
              "#fdca26"
             ],
             [
              1,
              "#f0f921"
             ]
            ],
            "type": "heatmapgl"
           }
          ],
          "histogram": [
           {
            "marker": {
             "colorbar": {
              "outlinewidth": 0,
              "ticks": ""
             }
            },
            "type": "histogram"
           }
          ],
          "histogram2d": [
           {
            "colorbar": {
             "outlinewidth": 0,
             "ticks": ""
            },
            "colorscale": [
             [
              0,
              "#0d0887"
             ],
             [
              0.1111111111111111,
              "#46039f"
             ],
             [
              0.2222222222222222,
              "#7201a8"
             ],
             [
              0.3333333333333333,
              "#9c179e"
             ],
             [
              0.4444444444444444,
              "#bd3786"
             ],
             [
              0.5555555555555556,
              "#d8576b"
             ],
             [
              0.6666666666666666,
              "#ed7953"
             ],
             [
              0.7777777777777778,
              "#fb9f3a"
             ],
             [
              0.8888888888888888,
              "#fdca26"
             ],
             [
              1,
              "#f0f921"
             ]
            ],
            "type": "histogram2d"
           }
          ],
          "histogram2dcontour": [
           {
            "colorbar": {
             "outlinewidth": 0,
             "ticks": ""
            },
            "colorscale": [
             [
              0,
              "#0d0887"
             ],
             [
              0.1111111111111111,
              "#46039f"
             ],
             [
              0.2222222222222222,
              "#7201a8"
             ],
             [
              0.3333333333333333,
              "#9c179e"
             ],
             [
              0.4444444444444444,
              "#bd3786"
             ],
             [
              0.5555555555555556,
              "#d8576b"
             ],
             [
              0.6666666666666666,
              "#ed7953"
             ],
             [
              0.7777777777777778,
              "#fb9f3a"
             ],
             [
              0.8888888888888888,
              "#fdca26"
             ],
             [
              1,
              "#f0f921"
             ]
            ],
            "type": "histogram2dcontour"
           }
          ],
          "mesh3d": [
           {
            "colorbar": {
             "outlinewidth": 0,
             "ticks": ""
            },
            "type": "mesh3d"
           }
          ],
          "parcoords": [
           {
            "line": {
             "colorbar": {
              "outlinewidth": 0,
              "ticks": ""
             }
            },
            "type": "parcoords"
           }
          ],
          "pie": [
           {
            "automargin": true,
            "type": "pie"
           }
          ],
          "scatter": [
           {
            "marker": {
             "colorbar": {
              "outlinewidth": 0,
              "ticks": ""
             }
            },
            "type": "scatter"
           }
          ],
          "scatter3d": [
           {
            "line": {
             "colorbar": {
              "outlinewidth": 0,
              "ticks": ""
             }
            },
            "marker": {
             "colorbar": {
              "outlinewidth": 0,
              "ticks": ""
             }
            },
            "type": "scatter3d"
           }
          ],
          "scattercarpet": [
           {
            "marker": {
             "colorbar": {
              "outlinewidth": 0,
              "ticks": ""
             }
            },
            "type": "scattercarpet"
           }
          ],
          "scattergeo": [
           {
            "marker": {
             "colorbar": {
              "outlinewidth": 0,
              "ticks": ""
             }
            },
            "type": "scattergeo"
           }
          ],
          "scattergl": [
           {
            "marker": {
             "colorbar": {
              "outlinewidth": 0,
              "ticks": ""
             }
            },
            "type": "scattergl"
           }
          ],
          "scattermapbox": [
           {
            "marker": {
             "colorbar": {
              "outlinewidth": 0,
              "ticks": ""
             }
            },
            "type": "scattermapbox"
           }
          ],
          "scatterpolar": [
           {
            "marker": {
             "colorbar": {
              "outlinewidth": 0,
              "ticks": ""
             }
            },
            "type": "scatterpolar"
           }
          ],
          "scatterpolargl": [
           {
            "marker": {
             "colorbar": {
              "outlinewidth": 0,
              "ticks": ""
             }
            },
            "type": "scatterpolargl"
           }
          ],
          "scatterternary": [
           {
            "marker": {
             "colorbar": {
              "outlinewidth": 0,
              "ticks": ""
             }
            },
            "type": "scatterternary"
           }
          ],
          "surface": [
           {
            "colorbar": {
             "outlinewidth": 0,
             "ticks": ""
            },
            "colorscale": [
             [
              0,
              "#0d0887"
             ],
             [
              0.1111111111111111,
              "#46039f"
             ],
             [
              0.2222222222222222,
              "#7201a8"
             ],
             [
              0.3333333333333333,
              "#9c179e"
             ],
             [
              0.4444444444444444,
              "#bd3786"
             ],
             [
              0.5555555555555556,
              "#d8576b"
             ],
             [
              0.6666666666666666,
              "#ed7953"
             ],
             [
              0.7777777777777778,
              "#fb9f3a"
             ],
             [
              0.8888888888888888,
              "#fdca26"
             ],
             [
              1,
              "#f0f921"
             ]
            ],
            "type": "surface"
           }
          ],
          "table": [
           {
            "cells": {
             "fill": {
              "color": "#EBF0F8"
             },
             "line": {
              "color": "white"
             }
            },
            "header": {
             "fill": {
              "color": "#C8D4E3"
             },
             "line": {
              "color": "white"
             }
            },
            "type": "table"
           }
          ]
         },
         "layout": {
          "annotationdefaults": {
           "arrowcolor": "#2a3f5f",
           "arrowhead": 0,
           "arrowwidth": 1
          },
          "coloraxis": {
           "colorbar": {
            "outlinewidth": 0,
            "ticks": ""
           }
          },
          "colorscale": {
           "diverging": [
            [
             0,
             "#8e0152"
            ],
            [
             0.1,
             "#c51b7d"
            ],
            [
             0.2,
             "#de77ae"
            ],
            [
             0.3,
             "#f1b6da"
            ],
            [
             0.4,
             "#fde0ef"
            ],
            [
             0.5,
             "#f7f7f7"
            ],
            [
             0.6,
             "#e6f5d0"
            ],
            [
             0.7,
             "#b8e186"
            ],
            [
             0.8,
             "#7fbc41"
            ],
            [
             0.9,
             "#4d9221"
            ],
            [
             1,
             "#276419"
            ]
           ],
           "sequential": [
            [
             0,
             "#0d0887"
            ],
            [
             0.1111111111111111,
             "#46039f"
            ],
            [
             0.2222222222222222,
             "#7201a8"
            ],
            [
             0.3333333333333333,
             "#9c179e"
            ],
            [
             0.4444444444444444,
             "#bd3786"
            ],
            [
             0.5555555555555556,
             "#d8576b"
            ],
            [
             0.6666666666666666,
             "#ed7953"
            ],
            [
             0.7777777777777778,
             "#fb9f3a"
            ],
            [
             0.8888888888888888,
             "#fdca26"
            ],
            [
             1,
             "#f0f921"
            ]
           ],
           "sequentialminus": [
            [
             0,
             "#0d0887"
            ],
            [
             0.1111111111111111,
             "#46039f"
            ],
            [
             0.2222222222222222,
             "#7201a8"
            ],
            [
             0.3333333333333333,
             "#9c179e"
            ],
            [
             0.4444444444444444,
             "#bd3786"
            ],
            [
             0.5555555555555556,
             "#d8576b"
            ],
            [
             0.6666666666666666,
             "#ed7953"
            ],
            [
             0.7777777777777778,
             "#fb9f3a"
            ],
            [
             0.8888888888888888,
             "#fdca26"
            ],
            [
             1,
             "#f0f921"
            ]
           ]
          },
          "colorway": [
           "#636efa",
           "#EF553B",
           "#00cc96",
           "#ab63fa",
           "#FFA15A",
           "#19d3f3",
           "#FF6692",
           "#B6E880",
           "#FF97FF",
           "#FECB52"
          ],
          "font": {
           "color": "#2a3f5f"
          },
          "geo": {
           "bgcolor": "white",
           "lakecolor": "white",
           "landcolor": "#E5ECF6",
           "showlakes": true,
           "showland": true,
           "subunitcolor": "white"
          },
          "hoverlabel": {
           "align": "left"
          },
          "hovermode": "closest",
          "mapbox": {
           "style": "light"
          },
          "paper_bgcolor": "white",
          "plot_bgcolor": "#E5ECF6",
          "polar": {
           "angularaxis": {
            "gridcolor": "white",
            "linecolor": "white",
            "ticks": ""
           },
           "bgcolor": "#E5ECF6",
           "radialaxis": {
            "gridcolor": "white",
            "linecolor": "white",
            "ticks": ""
           }
          },
          "scene": {
           "xaxis": {
            "backgroundcolor": "#E5ECF6",
            "gridcolor": "white",
            "gridwidth": 2,
            "linecolor": "white",
            "showbackground": true,
            "ticks": "",
            "zerolinecolor": "white"
           },
           "yaxis": {
            "backgroundcolor": "#E5ECF6",
            "gridcolor": "white",
            "gridwidth": 2,
            "linecolor": "white",
            "showbackground": true,
            "ticks": "",
            "zerolinecolor": "white"
           },
           "zaxis": {
            "backgroundcolor": "#E5ECF6",
            "gridcolor": "white",
            "gridwidth": 2,
            "linecolor": "white",
            "showbackground": true,
            "ticks": "",
            "zerolinecolor": "white"
           }
          },
          "shapedefaults": {
           "line": {
            "color": "#2a3f5f"
           }
          },
          "ternary": {
           "aaxis": {
            "gridcolor": "white",
            "linecolor": "white",
            "ticks": ""
           },
           "baxis": {
            "gridcolor": "white",
            "linecolor": "white",
            "ticks": ""
           },
           "bgcolor": "#E5ECF6",
           "caxis": {
            "gridcolor": "white",
            "linecolor": "white",
            "ticks": ""
           }
          },
          "title": {
           "x": 0.05
          },
          "xaxis": {
           "automargin": true,
           "gridcolor": "white",
           "linecolor": "white",
           "ticks": "",
           "title": {
            "standoff": 15
           },
           "zerolinecolor": "white",
           "zerolinewidth": 2
          },
          "yaxis": {
           "automargin": true,
           "gridcolor": "white",
           "linecolor": "white",
           "ticks": "",
           "title": {
            "standoff": 15
           },
           "zerolinecolor": "white",
           "zerolinewidth": 2
          }
         }
        },
        "title": {
         "text": "Document Distribution by Topics"
        },
        "xaxis": {
         "anchor": "y",
         "domain": [
          0,
          1
         ],
         "title": {
          "text": "Topic"
         }
        },
        "yaxis": {
         "anchor": "x",
         "domain": [
          0,
          1
         ],
         "title": {
          "text": "Documents"
         }
        }
       }
      },
      "text/html": [
       "<div>\n",
       "        \n",
       "        \n",
       "            <div id=\"4d684916-58ce-449f-87b0-1f0ef1ed7ce0\" class=\"plotly-graph-div\" style=\"height:525px; width:100%;\"></div>\n",
       "            <script type=\"text/javascript\">\n",
       "                require([\"plotly\"], function(Plotly) {\n",
       "                    window.PLOTLYENV=window.PLOTLYENV || {};\n",
       "                    \n",
       "                if (document.getElementById(\"4d684916-58ce-449f-87b0-1f0ef1ed7ce0\")) {\n",
       "                    Plotly.newPlot(\n",
       "                        '4d684916-58ce-449f-87b0-1f0ef1ed7ce0',\n",
       "                        [{\"alignmentgroup\": \"True\", \"customdata\": [[\"customer, year, girl, run, boy, prepare, food, long, cafeteria, service\"], [\"loan, business, child, group, small, life, live, able, woman, thank\"], [\"business, loan, sell, year, child, buy, community, entrepreneur, good, old\"], [\"loan, business, sell, use, store, sale, home, group, member, buy\"]], \"hoverlabel\": {\"namelength\": 0}, \"hovertemplate\": \"Topic=%{x}<br>Documents=%{y}<br>Keyword=%{customdata[0]}\", \"legendgroup\": \"\", \"marker\": {\"color\": \"#636efa\"}, \"name\": \"\", \"offsetgroup\": \"\", \"orientation\": \"v\", \"showlegend\": false, \"textposition\": \"auto\", \"type\": \"bar\", \"x\": [\"Topic 0\", \"Topic 1\", \"Topic 2\", \"Topic 3\"], \"xaxis\": \"x\", \"y\": [48, 404, 1225, 323], \"yaxis\": \"y\"}],\n",
       "                        {\"barmode\": \"relative\", \"legend\": {\"tracegroupgap\": 0}, \"template\": {\"data\": {\"bar\": [{\"error_x\": {\"color\": \"#2a3f5f\"}, \"error_y\": {\"color\": \"#2a3f5f\"}, \"marker\": {\"line\": {\"color\": \"#E5ECF6\", \"width\": 0.5}}, \"type\": \"bar\"}], \"barpolar\": [{\"marker\": {\"line\": {\"color\": \"#E5ECF6\", \"width\": 0.5}}, \"type\": \"barpolar\"}], \"carpet\": [{\"aaxis\": {\"endlinecolor\": \"#2a3f5f\", \"gridcolor\": \"white\", \"linecolor\": \"white\", \"minorgridcolor\": \"white\", \"startlinecolor\": \"#2a3f5f\"}, \"baxis\": {\"endlinecolor\": \"#2a3f5f\", \"gridcolor\": \"white\", \"linecolor\": \"white\", \"minorgridcolor\": \"white\", \"startlinecolor\": \"#2a3f5f\"}, \"type\": \"carpet\"}], \"choropleth\": [{\"colorbar\": {\"outlinewidth\": 0, \"ticks\": \"\"}, \"type\": \"choropleth\"}], \"contour\": [{\"colorbar\": {\"outlinewidth\": 0, \"ticks\": \"\"}, \"colorscale\": [[0.0, \"#0d0887\"], [0.1111111111111111, \"#46039f\"], [0.2222222222222222, \"#7201a8\"], [0.3333333333333333, \"#9c179e\"], [0.4444444444444444, \"#bd3786\"], [0.5555555555555556, \"#d8576b\"], [0.6666666666666666, \"#ed7953\"], [0.7777777777777778, \"#fb9f3a\"], [0.8888888888888888, \"#fdca26\"], [1.0, \"#f0f921\"]], \"type\": \"contour\"}], \"contourcarpet\": [{\"colorbar\": {\"outlinewidth\": 0, \"ticks\": \"\"}, \"type\": \"contourcarpet\"}], \"heatmap\": [{\"colorbar\": {\"outlinewidth\": 0, \"ticks\": \"\"}, \"colorscale\": [[0.0, \"#0d0887\"], [0.1111111111111111, \"#46039f\"], [0.2222222222222222, \"#7201a8\"], [0.3333333333333333, \"#9c179e\"], [0.4444444444444444, \"#bd3786\"], [0.5555555555555556, \"#d8576b\"], [0.6666666666666666, \"#ed7953\"], [0.7777777777777778, \"#fb9f3a\"], [0.8888888888888888, \"#fdca26\"], [1.0, \"#f0f921\"]], \"type\": \"heatmap\"}], \"heatmapgl\": [{\"colorbar\": {\"outlinewidth\": 0, \"ticks\": \"\"}, \"colorscale\": [[0.0, \"#0d0887\"], [0.1111111111111111, \"#46039f\"], [0.2222222222222222, \"#7201a8\"], [0.3333333333333333, \"#9c179e\"], [0.4444444444444444, \"#bd3786\"], [0.5555555555555556, \"#d8576b\"], [0.6666666666666666, \"#ed7953\"], [0.7777777777777778, \"#fb9f3a\"], [0.8888888888888888, \"#fdca26\"], [1.0, \"#f0f921\"]], \"type\": \"heatmapgl\"}], \"histogram\": [{\"marker\": {\"colorbar\": {\"outlinewidth\": 0, \"ticks\": \"\"}}, \"type\": \"histogram\"}], \"histogram2d\": [{\"colorbar\": {\"outlinewidth\": 0, \"ticks\": \"\"}, \"colorscale\": [[0.0, \"#0d0887\"], [0.1111111111111111, \"#46039f\"], [0.2222222222222222, \"#7201a8\"], [0.3333333333333333, \"#9c179e\"], [0.4444444444444444, \"#bd3786\"], [0.5555555555555556, \"#d8576b\"], [0.6666666666666666, \"#ed7953\"], [0.7777777777777778, \"#fb9f3a\"], [0.8888888888888888, \"#fdca26\"], [1.0, \"#f0f921\"]], \"type\": \"histogram2d\"}], \"histogram2dcontour\": [{\"colorbar\": {\"outlinewidth\": 0, \"ticks\": \"\"}, \"colorscale\": [[0.0, \"#0d0887\"], [0.1111111111111111, \"#46039f\"], [0.2222222222222222, \"#7201a8\"], [0.3333333333333333, \"#9c179e\"], [0.4444444444444444, \"#bd3786\"], [0.5555555555555556, \"#d8576b\"], [0.6666666666666666, \"#ed7953\"], [0.7777777777777778, \"#fb9f3a\"], [0.8888888888888888, \"#fdca26\"], [1.0, \"#f0f921\"]], \"type\": \"histogram2dcontour\"}], \"mesh3d\": [{\"colorbar\": {\"outlinewidth\": 0, \"ticks\": \"\"}, \"type\": \"mesh3d\"}], \"parcoords\": [{\"line\": {\"colorbar\": {\"outlinewidth\": 0, \"ticks\": \"\"}}, \"type\": \"parcoords\"}], \"pie\": [{\"automargin\": true, \"type\": \"pie\"}], \"scatter\": [{\"marker\": {\"colorbar\": {\"outlinewidth\": 0, \"ticks\": \"\"}}, \"type\": \"scatter\"}], \"scatter3d\": [{\"line\": {\"colorbar\": {\"outlinewidth\": 0, \"ticks\": \"\"}}, \"marker\": {\"colorbar\": {\"outlinewidth\": 0, \"ticks\": \"\"}}, \"type\": \"scatter3d\"}], \"scattercarpet\": [{\"marker\": {\"colorbar\": {\"outlinewidth\": 0, \"ticks\": \"\"}}, \"type\": \"scattercarpet\"}], \"scattergeo\": [{\"marker\": {\"colorbar\": {\"outlinewidth\": 0, \"ticks\": \"\"}}, \"type\": \"scattergeo\"}], \"scattergl\": [{\"marker\": {\"colorbar\": {\"outlinewidth\": 0, \"ticks\": \"\"}}, \"type\": \"scattergl\"}], \"scattermapbox\": [{\"marker\": {\"colorbar\": {\"outlinewidth\": 0, \"ticks\": \"\"}}, \"type\": \"scattermapbox\"}], \"scatterpolar\": [{\"marker\": {\"colorbar\": {\"outlinewidth\": 0, \"ticks\": \"\"}}, \"type\": \"scatterpolar\"}], \"scatterpolargl\": [{\"marker\": {\"colorbar\": {\"outlinewidth\": 0, \"ticks\": \"\"}}, \"type\": \"scatterpolargl\"}], \"scatterternary\": [{\"marker\": {\"colorbar\": {\"outlinewidth\": 0, \"ticks\": \"\"}}, \"type\": \"scatterternary\"}], \"surface\": [{\"colorbar\": {\"outlinewidth\": 0, \"ticks\": \"\"}, \"colorscale\": [[0.0, \"#0d0887\"], [0.1111111111111111, \"#46039f\"], [0.2222222222222222, \"#7201a8\"], [0.3333333333333333, \"#9c179e\"], [0.4444444444444444, \"#bd3786\"], [0.5555555555555556, \"#d8576b\"], [0.6666666666666666, \"#ed7953\"], [0.7777777777777778, \"#fb9f3a\"], [0.8888888888888888, \"#fdca26\"], [1.0, \"#f0f921\"]], \"type\": \"surface\"}], \"table\": [{\"cells\": {\"fill\": {\"color\": \"#EBF0F8\"}, \"line\": {\"color\": \"white\"}}, \"header\": {\"fill\": {\"color\": \"#C8D4E3\"}, \"line\": {\"color\": \"white\"}}, \"type\": \"table\"}]}, \"layout\": {\"annotationdefaults\": {\"arrowcolor\": \"#2a3f5f\", \"arrowhead\": 0, \"arrowwidth\": 1}, \"coloraxis\": {\"colorbar\": {\"outlinewidth\": 0, \"ticks\": \"\"}}, \"colorscale\": {\"diverging\": [[0, \"#8e0152\"], [0.1, \"#c51b7d\"], [0.2, \"#de77ae\"], [0.3, \"#f1b6da\"], [0.4, \"#fde0ef\"], [0.5, \"#f7f7f7\"], [0.6, \"#e6f5d0\"], [0.7, \"#b8e186\"], [0.8, \"#7fbc41\"], [0.9, \"#4d9221\"], [1, \"#276419\"]], \"sequential\": [[0.0, \"#0d0887\"], [0.1111111111111111, \"#46039f\"], [0.2222222222222222, \"#7201a8\"], [0.3333333333333333, \"#9c179e\"], [0.4444444444444444, \"#bd3786\"], [0.5555555555555556, \"#d8576b\"], [0.6666666666666666, \"#ed7953\"], [0.7777777777777778, \"#fb9f3a\"], [0.8888888888888888, \"#fdca26\"], [1.0, \"#f0f921\"]], \"sequentialminus\": [[0.0, \"#0d0887\"], [0.1111111111111111, \"#46039f\"], [0.2222222222222222, \"#7201a8\"], [0.3333333333333333, \"#9c179e\"], [0.4444444444444444, \"#bd3786\"], [0.5555555555555556, \"#d8576b\"], [0.6666666666666666, \"#ed7953\"], [0.7777777777777778, \"#fb9f3a\"], [0.8888888888888888, \"#fdca26\"], [1.0, \"#f0f921\"]]}, \"colorway\": [\"#636efa\", \"#EF553B\", \"#00cc96\", \"#ab63fa\", \"#FFA15A\", \"#19d3f3\", \"#FF6692\", \"#B6E880\", \"#FF97FF\", \"#FECB52\"], \"font\": {\"color\": \"#2a3f5f\"}, \"geo\": {\"bgcolor\": \"white\", \"lakecolor\": \"white\", \"landcolor\": \"#E5ECF6\", \"showlakes\": true, \"showland\": true, \"subunitcolor\": \"white\"}, \"hoverlabel\": {\"align\": \"left\"}, \"hovermode\": \"closest\", \"mapbox\": {\"style\": \"light\"}, \"paper_bgcolor\": \"white\", \"plot_bgcolor\": \"#E5ECF6\", \"polar\": {\"angularaxis\": {\"gridcolor\": \"white\", \"linecolor\": \"white\", \"ticks\": \"\"}, \"bgcolor\": \"#E5ECF6\", \"radialaxis\": {\"gridcolor\": \"white\", \"linecolor\": \"white\", \"ticks\": \"\"}}, \"scene\": {\"xaxis\": {\"backgroundcolor\": \"#E5ECF6\", \"gridcolor\": \"white\", \"gridwidth\": 2, \"linecolor\": \"white\", \"showbackground\": true, \"ticks\": \"\", \"zerolinecolor\": \"white\"}, \"yaxis\": {\"backgroundcolor\": \"#E5ECF6\", \"gridcolor\": \"white\", \"gridwidth\": 2, \"linecolor\": \"white\", \"showbackground\": true, \"ticks\": \"\", \"zerolinecolor\": \"white\"}, \"zaxis\": {\"backgroundcolor\": \"#E5ECF6\", \"gridcolor\": \"white\", \"gridwidth\": 2, \"linecolor\": \"white\", \"showbackground\": true, \"ticks\": \"\", \"zerolinecolor\": \"white\"}}, \"shapedefaults\": {\"line\": {\"color\": \"#2a3f5f\"}}, \"ternary\": {\"aaxis\": {\"gridcolor\": \"white\", \"linecolor\": \"white\", \"ticks\": \"\"}, \"baxis\": {\"gridcolor\": \"white\", \"linecolor\": \"white\", \"ticks\": \"\"}, \"bgcolor\": \"#E5ECF6\", \"caxis\": {\"gridcolor\": \"white\", \"linecolor\": \"white\", \"ticks\": \"\"}}, \"title\": {\"x\": 0.05}, \"xaxis\": {\"automargin\": true, \"gridcolor\": \"white\", \"linecolor\": \"white\", \"ticks\": \"\", \"title\": {\"standoff\": 15}, \"zerolinecolor\": \"white\", \"zerolinewidth\": 2}, \"yaxis\": {\"automargin\": true, \"gridcolor\": \"white\", \"linecolor\": \"white\", \"ticks\": \"\", \"title\": {\"standoff\": 15}, \"zerolinecolor\": \"white\", \"zerolinewidth\": 2}}}, \"title\": {\"text\": \"Document Distribution by Topics\"}, \"xaxis\": {\"anchor\": \"y\", \"domain\": [0.0, 1.0], \"title\": {\"text\": \"Topic\"}}, \"yaxis\": {\"anchor\": \"x\", \"domain\": [0.0, 1.0], \"title\": {\"text\": \"Documents\"}}},\n",
       "                        {\"responsive\": true}\n",
       "                    ).then(function(){\n",
       "                            \n",
       "var gd = document.getElementById('4d684916-58ce-449f-87b0-1f0ef1ed7ce0');\n",
       "var x = new MutationObserver(function (mutations, observer) {{\n",
       "        var display = window.getComputedStyle(gd).display;\n",
       "        if (!display || display === 'none') {{\n",
       "            console.log([gd, 'removed!']);\n",
       "            Plotly.purge(gd);\n",
       "            observer.disconnect();\n",
       "        }}\n",
       "}});\n",
       "\n",
       "// Listen for the removal of the full notebook cells\n",
       "var notebookContainer = gd.closest('#notebook-container');\n",
       "if (notebookContainer) {{\n",
       "    x.observe(notebookContainer, {childList: true});\n",
       "}}\n",
       "\n",
       "// Listen for the clearing of the current output cell\n",
       "var outputEl = gd.closest('.output');\n",
       "if (outputEl) {{\n",
       "    x.observe(outputEl, {childList: true});\n",
       "}}\n",
       "\n",
       "                        })\n",
       "                };\n",
       "                });\n",
       "            </script>\n",
       "        </div>"
      ]
     },
     "metadata": {},
     "output_type": "display_data"
    }
   ],
   "source": [
    "plot_model(lda, plot='topic_distribution')"
   ]
  },
  {
   "cell_type": "code",
   "execution_count": 29,
   "metadata": {},
   "outputs": [
    {
     "data": {
      "application/vnd.jupyter.widget-view+json": {
       "model_id": "305939dc2c014428afc1ad3ae1913ed4",
       "version_major": 2,
       "version_minor": 0
      },
      "text/plain": [
       "interactive(children=(ToggleButtons(description='Plot Type:', icons=('',), options=(('Frequency Plot', 'freque…"
      ]
     },
     "metadata": {},
     "output_type": "display_data"
    }
   ],
   "source": [
    "evaluate_model(nmf)"
   ]
  },
  {
   "cell_type": "markdown",
   "metadata": {},
   "source": [
    "## Tune Model (classifier)"
   ]
  },
  {
   "cell_type": "code",
   "execution_count": 31,
   "metadata": {},
   "outputs": [
    {
     "data": {
      "application/vnd.plotly.v1+json": {
       "config": {
        "plotlyServerURL": "https://plot.ly"
       },
       "data": [
        {
         "hoverlabel": {
          "namelength": 0
         },
         "hovertemplate": "Metric=Accuracy<br># Topics=%{x}<br>Score=%{y}",
         "legendgroup": "Metric=Accuracy",
         "line": {
          "color": "#636efa",
          "dash": "solid",
          "shape": "linear"
         },
         "mode": "lines",
         "name": "Metric=Accuracy",
         "showlegend": true,
         "type": "scatter",
         "x": [
          2,
          4,
          8,
          16,
          32,
          64,
          100,
          200,
          300,
          400
         ],
         "xaxis": "x",
         "y": [
          0.7458729364682342,
          0.75,
          0.765,
          0.758,
          0.768,
          0.78,
          0.7965,
          0.779,
          0.806,
          0.8175
         ],
         "yaxis": "y"
        },
        {
         "hoverlabel": {
          "namelength": 0
         },
         "hovertemplate": "Metric=AUC<br># Topics=%{x}<br>Score=%{y}",
         "legendgroup": "Metric=AUC",
         "line": {
          "color": "#EF553B",
          "dash": "solid",
          "shape": "linear"
         },
         "mode": "lines",
         "name": "Metric=AUC",
         "showlegend": true,
         "type": "scatter",
         "x": [
          2,
          4,
          8,
          16,
          32,
          64,
          100,
          200,
          300,
          400
         ],
         "xaxis": "x",
         "y": [
          0.7330097151057695,
          0.731403154827216,
          0.7393708436075618,
          0.7551423578748111,
          0.7759634833927829,
          0.783110544799569,
          0.8257988991008494,
          0.8026128985319159,
          0.858110118755006,
          0.866843376842315
         ],
         "yaxis": "y"
        },
        {
         "hoverlabel": {
          "namelength": 0
         },
         "hovertemplate": "Metric=Recall<br># Topics=%{x}<br>Score=%{y}",
         "legendgroup": "Metric=Recall",
         "line": {
          "color": "#00cc96",
          "dash": "solid",
          "shape": "linear"
         },
         "mode": "lines",
         "name": "Metric=Recall",
         "showlegend": true,
         "type": "scatter",
         "x": [
          2,
          4,
          8,
          16,
          32,
          64,
          100,
          200,
          300,
          400
         ],
         "xaxis": "x",
         "y": [
          0.1871345029239766,
          0.1968810916179337,
          0.2222222222222222,
          0.2378167641325536,
          0.2651072124756335,
          0.29434697855750486,
          0.3664717348927875,
          0.2787524366471735,
          0.40545808966861596,
          0.442495126705653
         ],
         "yaxis": "y"
        },
        {
         "hoverlabel": {
          "namelength": 0
         },
         "hovertemplate": "Metric=Precision<br># Topics=%{x}<br>Score=%{y}",
         "legendgroup": "Metric=Precision",
         "line": {
          "color": "#ab63fa",
          "dash": "solid",
          "shape": "linear"
         },
         "mode": "lines",
         "name": "Metric=Precision",
         "showlegend": true,
         "type": "scatter",
         "x": [
          2,
          4,
          8,
          16,
          32,
          64,
          100,
          200,
          300,
          400
         ],
         "xaxis": "x",
         "y": [
          0.5133689839572193,
          0.5343915343915344,
          0.6162162162162163,
          0.5674418604651162,
          0.6098654708520179,
          0.6593886462882096,
          0.6962962962962963,
          0.6651162790697674,
          0.7147766323024055,
          0.7418300653594772
         ],
         "yaxis": "y"
        },
        {
         "hoverlabel": {
          "namelength": 0
         },
         "hovertemplate": "Metric=F1<br># Topics=%{x}<br>Score=%{y}",
         "legendgroup": "Metric=F1",
         "line": {
          "color": "#FFA15A",
          "dash": "solid",
          "shape": "linear"
         },
         "mode": "lines",
         "name": "Metric=F1",
         "showlegend": true,
         "type": "scatter",
         "x": [
          2,
          4,
          8,
          16,
          32,
          64,
          100,
          200,
          300,
          400
         ],
         "xaxis": "x",
         "y": [
          0.2742857142857143,
          0.2877492877492877,
          0.326647564469914,
          0.33516483516483514,
          0.3695652173913044,
          0.4070080862533692,
          0.4802043422733077,
          0.39285714285714285,
          0.5174129353233831,
          0.5543345543345544
         ],
         "yaxis": "y"
        },
        {
         "hoverlabel": {
          "namelength": 0
         },
         "hovertemplate": "Metric=Kappa<br># Topics=%{x}<br>Score=%{y}",
         "legendgroup": "Metric=Kappa",
         "line": {
          "color": "#19d3f3",
          "dash": "solid",
          "shape": "linear"
         },
         "mode": "lines",
         "name": "Metric=Kappa",
         "showlegend": true,
         "type": "scatter",
         "x": [
          2,
          4,
          8,
          16,
          32,
          64,
          100,
          200,
          300,
          400
         ],
         "xaxis": "x",
         "y": [
          0.15896965310020061,
          0.17361245399087344,
          0.22068662482693446,
          0.21645445641527916,
          0.2535404544072484,
          0.29546229682493685,
          0.3684929168800136,
          0.28444807796601945,
          0.40737753869229,
          0.4486588059007103
         ],
         "yaxis": "y"
        }
       ],
       "layout": {
        "legend": {
         "tracegroupgap": 0
        },
        "margin": {
         "t": 60
        },
        "plot_bgcolor": "rgb(245,245,245)",
        "template": {
         "data": {
          "bar": [
           {
            "error_x": {
             "color": "#2a3f5f"
            },
            "error_y": {
             "color": "#2a3f5f"
            },
            "marker": {
             "line": {
              "color": "#E5ECF6",
              "width": 0.5
             }
            },
            "type": "bar"
           }
          ],
          "barpolar": [
           {
            "marker": {
             "line": {
              "color": "#E5ECF6",
              "width": 0.5
             }
            },
            "type": "barpolar"
           }
          ],
          "carpet": [
           {
            "aaxis": {
             "endlinecolor": "#2a3f5f",
             "gridcolor": "white",
             "linecolor": "white",
             "minorgridcolor": "white",
             "startlinecolor": "#2a3f5f"
            },
            "baxis": {
             "endlinecolor": "#2a3f5f",
             "gridcolor": "white",
             "linecolor": "white",
             "minorgridcolor": "white",
             "startlinecolor": "#2a3f5f"
            },
            "type": "carpet"
           }
          ],
          "choropleth": [
           {
            "colorbar": {
             "outlinewidth": 0,
             "ticks": ""
            },
            "type": "choropleth"
           }
          ],
          "contour": [
           {
            "colorbar": {
             "outlinewidth": 0,
             "ticks": ""
            },
            "colorscale": [
             [
              0,
              "#0d0887"
             ],
             [
              0.1111111111111111,
              "#46039f"
             ],
             [
              0.2222222222222222,
              "#7201a8"
             ],
             [
              0.3333333333333333,
              "#9c179e"
             ],
             [
              0.4444444444444444,
              "#bd3786"
             ],
             [
              0.5555555555555556,
              "#d8576b"
             ],
             [
              0.6666666666666666,
              "#ed7953"
             ],
             [
              0.7777777777777778,
              "#fb9f3a"
             ],
             [
              0.8888888888888888,
              "#fdca26"
             ],
             [
              1,
              "#f0f921"
             ]
            ],
            "type": "contour"
           }
          ],
          "contourcarpet": [
           {
            "colorbar": {
             "outlinewidth": 0,
             "ticks": ""
            },
            "type": "contourcarpet"
           }
          ],
          "heatmap": [
           {
            "colorbar": {
             "outlinewidth": 0,
             "ticks": ""
            },
            "colorscale": [
             [
              0,
              "#0d0887"
             ],
             [
              0.1111111111111111,
              "#46039f"
             ],
             [
              0.2222222222222222,
              "#7201a8"
             ],
             [
              0.3333333333333333,
              "#9c179e"
             ],
             [
              0.4444444444444444,
              "#bd3786"
             ],
             [
              0.5555555555555556,
              "#d8576b"
             ],
             [
              0.6666666666666666,
              "#ed7953"
             ],
             [
              0.7777777777777778,
              "#fb9f3a"
             ],
             [
              0.8888888888888888,
              "#fdca26"
             ],
             [
              1,
              "#f0f921"
             ]
            ],
            "type": "heatmap"
           }
          ],
          "heatmapgl": [
           {
            "colorbar": {
             "outlinewidth": 0,
             "ticks": ""
            },
            "colorscale": [
             [
              0,
              "#0d0887"
             ],
             [
              0.1111111111111111,
              "#46039f"
             ],
             [
              0.2222222222222222,
              "#7201a8"
             ],
             [
              0.3333333333333333,
              "#9c179e"
             ],
             [
              0.4444444444444444,
              "#bd3786"
             ],
             [
              0.5555555555555556,
              "#d8576b"
             ],
             [
              0.6666666666666666,
              "#ed7953"
             ],
             [
              0.7777777777777778,
              "#fb9f3a"
             ],
             [
              0.8888888888888888,
              "#fdca26"
             ],
             [
              1,
              "#f0f921"
             ]
            ],
            "type": "heatmapgl"
           }
          ],
          "histogram": [
           {
            "marker": {
             "colorbar": {
              "outlinewidth": 0,
              "ticks": ""
             }
            },
            "type": "histogram"
           }
          ],
          "histogram2d": [
           {
            "colorbar": {
             "outlinewidth": 0,
             "ticks": ""
            },
            "colorscale": [
             [
              0,
              "#0d0887"
             ],
             [
              0.1111111111111111,
              "#46039f"
             ],
             [
              0.2222222222222222,
              "#7201a8"
             ],
             [
              0.3333333333333333,
              "#9c179e"
             ],
             [
              0.4444444444444444,
              "#bd3786"
             ],
             [
              0.5555555555555556,
              "#d8576b"
             ],
             [
              0.6666666666666666,
              "#ed7953"
             ],
             [
              0.7777777777777778,
              "#fb9f3a"
             ],
             [
              0.8888888888888888,
              "#fdca26"
             ],
             [
              1,
              "#f0f921"
             ]
            ],
            "type": "histogram2d"
           }
          ],
          "histogram2dcontour": [
           {
            "colorbar": {
             "outlinewidth": 0,
             "ticks": ""
            },
            "colorscale": [
             [
              0,
              "#0d0887"
             ],
             [
              0.1111111111111111,
              "#46039f"
             ],
             [
              0.2222222222222222,
              "#7201a8"
             ],
             [
              0.3333333333333333,
              "#9c179e"
             ],
             [
              0.4444444444444444,
              "#bd3786"
             ],
             [
              0.5555555555555556,
              "#d8576b"
             ],
             [
              0.6666666666666666,
              "#ed7953"
             ],
             [
              0.7777777777777778,
              "#fb9f3a"
             ],
             [
              0.8888888888888888,
              "#fdca26"
             ],
             [
              1,
              "#f0f921"
             ]
            ],
            "type": "histogram2dcontour"
           }
          ],
          "mesh3d": [
           {
            "colorbar": {
             "outlinewidth": 0,
             "ticks": ""
            },
            "type": "mesh3d"
           }
          ],
          "parcoords": [
           {
            "line": {
             "colorbar": {
              "outlinewidth": 0,
              "ticks": ""
             }
            },
            "type": "parcoords"
           }
          ],
          "pie": [
           {
            "automargin": true,
            "type": "pie"
           }
          ],
          "scatter": [
           {
            "marker": {
             "colorbar": {
              "outlinewidth": 0,
              "ticks": ""
             }
            },
            "type": "scatter"
           }
          ],
          "scatter3d": [
           {
            "line": {
             "colorbar": {
              "outlinewidth": 0,
              "ticks": ""
             }
            },
            "marker": {
             "colorbar": {
              "outlinewidth": 0,
              "ticks": ""
             }
            },
            "type": "scatter3d"
           }
          ],
          "scattercarpet": [
           {
            "marker": {
             "colorbar": {
              "outlinewidth": 0,
              "ticks": ""
             }
            },
            "type": "scattercarpet"
           }
          ],
          "scattergeo": [
           {
            "marker": {
             "colorbar": {
              "outlinewidth": 0,
              "ticks": ""
             }
            },
            "type": "scattergeo"
           }
          ],
          "scattergl": [
           {
            "marker": {
             "colorbar": {
              "outlinewidth": 0,
              "ticks": ""
             }
            },
            "type": "scattergl"
           }
          ],
          "scattermapbox": [
           {
            "marker": {
             "colorbar": {
              "outlinewidth": 0,
              "ticks": ""
             }
            },
            "type": "scattermapbox"
           }
          ],
          "scatterpolar": [
           {
            "marker": {
             "colorbar": {
              "outlinewidth": 0,
              "ticks": ""
             }
            },
            "type": "scatterpolar"
           }
          ],
          "scatterpolargl": [
           {
            "marker": {
             "colorbar": {
              "outlinewidth": 0,
              "ticks": ""
             }
            },
            "type": "scatterpolargl"
           }
          ],
          "scatterternary": [
           {
            "marker": {
             "colorbar": {
              "outlinewidth": 0,
              "ticks": ""
             }
            },
            "type": "scatterternary"
           }
          ],
          "surface": [
           {
            "colorbar": {
             "outlinewidth": 0,
             "ticks": ""
            },
            "colorscale": [
             [
              0,
              "#0d0887"
             ],
             [
              0.1111111111111111,
              "#46039f"
             ],
             [
              0.2222222222222222,
              "#7201a8"
             ],
             [
              0.3333333333333333,
              "#9c179e"
             ],
             [
              0.4444444444444444,
              "#bd3786"
             ],
             [
              0.5555555555555556,
              "#d8576b"
             ],
             [
              0.6666666666666666,
              "#ed7953"
             ],
             [
              0.7777777777777778,
              "#fb9f3a"
             ],
             [
              0.8888888888888888,
              "#fdca26"
             ],
             [
              1,
              "#f0f921"
             ]
            ],
            "type": "surface"
           }
          ],
          "table": [
           {
            "cells": {
             "fill": {
              "color": "#EBF0F8"
             },
             "line": {
              "color": "white"
             }
            },
            "header": {
             "fill": {
              "color": "#C8D4E3"
             },
             "line": {
              "color": "white"
             }
            },
            "type": "table"
           }
          ]
         },
         "layout": {
          "annotationdefaults": {
           "arrowcolor": "#2a3f5f",
           "arrowhead": 0,
           "arrowwidth": 1
          },
          "coloraxis": {
           "colorbar": {
            "outlinewidth": 0,
            "ticks": ""
           }
          },
          "colorscale": {
           "diverging": [
            [
             0,
             "#8e0152"
            ],
            [
             0.1,
             "#c51b7d"
            ],
            [
             0.2,
             "#de77ae"
            ],
            [
             0.3,
             "#f1b6da"
            ],
            [
             0.4,
             "#fde0ef"
            ],
            [
             0.5,
             "#f7f7f7"
            ],
            [
             0.6,
             "#e6f5d0"
            ],
            [
             0.7,
             "#b8e186"
            ],
            [
             0.8,
             "#7fbc41"
            ],
            [
             0.9,
             "#4d9221"
            ],
            [
             1,
             "#276419"
            ]
           ],
           "sequential": [
            [
             0,
             "#0d0887"
            ],
            [
             0.1111111111111111,
             "#46039f"
            ],
            [
             0.2222222222222222,
             "#7201a8"
            ],
            [
             0.3333333333333333,
             "#9c179e"
            ],
            [
             0.4444444444444444,
             "#bd3786"
            ],
            [
             0.5555555555555556,
             "#d8576b"
            ],
            [
             0.6666666666666666,
             "#ed7953"
            ],
            [
             0.7777777777777778,
             "#fb9f3a"
            ],
            [
             0.8888888888888888,
             "#fdca26"
            ],
            [
             1,
             "#f0f921"
            ]
           ],
           "sequentialminus": [
            [
             0,
             "#0d0887"
            ],
            [
             0.1111111111111111,
             "#46039f"
            ],
            [
             0.2222222222222222,
             "#7201a8"
            ],
            [
             0.3333333333333333,
             "#9c179e"
            ],
            [
             0.4444444444444444,
             "#bd3786"
            ],
            [
             0.5555555555555556,
             "#d8576b"
            ],
            [
             0.6666666666666666,
             "#ed7953"
            ],
            [
             0.7777777777777778,
             "#fb9f3a"
            ],
            [
             0.8888888888888888,
             "#fdca26"
            ],
            [
             1,
             "#f0f921"
            ]
           ]
          },
          "colorway": [
           "#636efa",
           "#EF553B",
           "#00cc96",
           "#ab63fa",
           "#FFA15A",
           "#19d3f3",
           "#FF6692",
           "#B6E880",
           "#FF97FF",
           "#FECB52"
          ],
          "font": {
           "color": "#2a3f5f"
          },
          "geo": {
           "bgcolor": "white",
           "lakecolor": "white",
           "landcolor": "#E5ECF6",
           "showlakes": true,
           "showland": true,
           "subunitcolor": "white"
          },
          "hoverlabel": {
           "align": "left"
          },
          "hovermode": "closest",
          "mapbox": {
           "style": "light"
          },
          "paper_bgcolor": "white",
          "plot_bgcolor": "#E5ECF6",
          "polar": {
           "angularaxis": {
            "gridcolor": "white",
            "linecolor": "white",
            "ticks": ""
           },
           "bgcolor": "#E5ECF6",
           "radialaxis": {
            "gridcolor": "white",
            "linecolor": "white",
            "ticks": ""
           }
          },
          "scene": {
           "xaxis": {
            "backgroundcolor": "#E5ECF6",
            "gridcolor": "white",
            "gridwidth": 2,
            "linecolor": "white",
            "showbackground": true,
            "ticks": "",
            "zerolinecolor": "white"
           },
           "yaxis": {
            "backgroundcolor": "#E5ECF6",
            "gridcolor": "white",
            "gridwidth": 2,
            "linecolor": "white",
            "showbackground": true,
            "ticks": "",
            "zerolinecolor": "white"
           },
           "zaxis": {
            "backgroundcolor": "#E5ECF6",
            "gridcolor": "white",
            "gridwidth": 2,
            "linecolor": "white",
            "showbackground": true,
            "ticks": "",
            "zerolinecolor": "white"
           }
          },
          "shapedefaults": {
           "line": {
            "color": "#2a3f5f"
           }
          },
          "ternary": {
           "aaxis": {
            "gridcolor": "white",
            "linecolor": "white",
            "ticks": ""
           },
           "baxis": {
            "gridcolor": "white",
            "linecolor": "white",
            "ticks": ""
           },
           "bgcolor": "#E5ECF6",
           "caxis": {
            "gridcolor": "white",
            "linecolor": "white",
            "ticks": ""
           }
          },
          "title": {
           "x": 0.05
          },
          "xaxis": {
           "automargin": true,
           "gridcolor": "white",
           "linecolor": "white",
           "ticks": "",
           "title": {
            "standoff": 15
           },
           "zerolinecolor": "white",
           "zerolinewidth": 2
          },
          "yaxis": {
           "automargin": true,
           "gridcolor": "white",
           "linecolor": "white",
           "ticks": "",
           "title": {
            "standoff": 15
           },
           "zerolinecolor": "white",
           "zerolinewidth": 2
          }
         }
        },
        "title": {
         "text": "Gradient Boosting Classifier Metrics and # of Topics",
         "x": 0.45,
         "xanchor": "center",
         "y": 0.95,
         "yanchor": "top"
        },
        "xaxis": {
         "anchor": "y",
         "domain": [
          0,
          1
         ],
         "title": {
          "text": "# Topics"
         }
        },
        "yaxis": {
         "anchor": "x",
         "domain": [
          0,
          1
         ],
         "range": [
          0,
          1
         ],
         "title": {
          "text": "Score"
         }
        }
       }
      },
      "text/html": [
       "<div>\n",
       "        \n",
       "        \n",
       "            <div id=\"a91ec815-abe3-4b8b-8936-c9003da1fbd5\" class=\"plotly-graph-div\" style=\"height:525px; width:100%;\"></div>\n",
       "            <script type=\"text/javascript\">\n",
       "                require([\"plotly\"], function(Plotly) {\n",
       "                    window.PLOTLYENV=window.PLOTLYENV || {};\n",
       "                    \n",
       "                if (document.getElementById(\"a91ec815-abe3-4b8b-8936-c9003da1fbd5\")) {\n",
       "                    Plotly.newPlot(\n",
       "                        'a91ec815-abe3-4b8b-8936-c9003da1fbd5',\n",
       "                        [{\"hoverlabel\": {\"namelength\": 0}, \"hovertemplate\": \"Metric=Accuracy<br># Topics=%{x}<br>Score=%{y}\", \"legendgroup\": \"Metric=Accuracy\", \"line\": {\"color\": \"#636efa\", \"dash\": \"solid\", \"shape\": \"linear\"}, \"mode\": \"lines\", \"name\": \"Metric=Accuracy\", \"showlegend\": true, \"type\": \"scatter\", \"x\": [2, 4, 8, 16, 32, 64, 100, 200, 300, 400], \"xaxis\": \"x\", \"y\": [0.7458729364682342, 0.75, 0.765, 0.758, 0.768, 0.78, 0.7965, 0.779, 0.806, 0.8175], \"yaxis\": \"y\"}, {\"hoverlabel\": {\"namelength\": 0}, \"hovertemplate\": \"Metric=AUC<br># Topics=%{x}<br>Score=%{y}\", \"legendgroup\": \"Metric=AUC\", \"line\": {\"color\": \"#EF553B\", \"dash\": \"solid\", \"shape\": \"linear\"}, \"mode\": \"lines\", \"name\": \"Metric=AUC\", \"showlegend\": true, \"type\": \"scatter\", \"x\": [2, 4, 8, 16, 32, 64, 100, 200, 300, 400], \"xaxis\": \"x\", \"y\": [0.7330097151057695, 0.731403154827216, 0.7393708436075618, 0.7551423578748111, 0.7759634833927829, 0.783110544799569, 0.8257988991008494, 0.8026128985319159, 0.858110118755006, 0.866843376842315], \"yaxis\": \"y\"}, {\"hoverlabel\": {\"namelength\": 0}, \"hovertemplate\": \"Metric=Recall<br># Topics=%{x}<br>Score=%{y}\", \"legendgroup\": \"Metric=Recall\", \"line\": {\"color\": \"#00cc96\", \"dash\": \"solid\", \"shape\": \"linear\"}, \"mode\": \"lines\", \"name\": \"Metric=Recall\", \"showlegend\": true, \"type\": \"scatter\", \"x\": [2, 4, 8, 16, 32, 64, 100, 200, 300, 400], \"xaxis\": \"x\", \"y\": [0.1871345029239766, 0.1968810916179337, 0.2222222222222222, 0.2378167641325536, 0.2651072124756335, 0.29434697855750486, 0.3664717348927875, 0.2787524366471735, 0.40545808966861596, 0.442495126705653], \"yaxis\": \"y\"}, {\"hoverlabel\": {\"namelength\": 0}, \"hovertemplate\": \"Metric=Precision<br># Topics=%{x}<br>Score=%{y}\", \"legendgroup\": \"Metric=Precision\", \"line\": {\"color\": \"#ab63fa\", \"dash\": \"solid\", \"shape\": \"linear\"}, \"mode\": \"lines\", \"name\": \"Metric=Precision\", \"showlegend\": true, \"type\": \"scatter\", \"x\": [2, 4, 8, 16, 32, 64, 100, 200, 300, 400], \"xaxis\": \"x\", \"y\": [0.5133689839572193, 0.5343915343915344, 0.6162162162162163, 0.5674418604651162, 0.6098654708520179, 0.6593886462882096, 0.6962962962962963, 0.6651162790697674, 0.7147766323024055, 0.7418300653594772], \"yaxis\": \"y\"}, {\"hoverlabel\": {\"namelength\": 0}, \"hovertemplate\": \"Metric=F1<br># Topics=%{x}<br>Score=%{y}\", \"legendgroup\": \"Metric=F1\", \"line\": {\"color\": \"#FFA15A\", \"dash\": \"solid\", \"shape\": \"linear\"}, \"mode\": \"lines\", \"name\": \"Metric=F1\", \"showlegend\": true, \"type\": \"scatter\", \"x\": [2, 4, 8, 16, 32, 64, 100, 200, 300, 400], \"xaxis\": \"x\", \"y\": [0.2742857142857143, 0.2877492877492877, 0.326647564469914, 0.33516483516483514, 0.3695652173913044, 0.4070080862533692, 0.4802043422733077, 0.39285714285714285, 0.5174129353233831, 0.5543345543345544], \"yaxis\": \"y\"}, {\"hoverlabel\": {\"namelength\": 0}, \"hovertemplate\": \"Metric=Kappa<br># Topics=%{x}<br>Score=%{y}\", \"legendgroup\": \"Metric=Kappa\", \"line\": {\"color\": \"#19d3f3\", \"dash\": \"solid\", \"shape\": \"linear\"}, \"mode\": \"lines\", \"name\": \"Metric=Kappa\", \"showlegend\": true, \"type\": \"scatter\", \"x\": [2, 4, 8, 16, 32, 64, 100, 200, 300, 400], \"xaxis\": \"x\", \"y\": [0.15896965310020061, 0.17361245399087344, 0.22068662482693446, 0.21645445641527916, 0.2535404544072484, 0.29546229682493685, 0.3684929168800136, 0.28444807796601945, 0.40737753869229, 0.4486588059007103], \"yaxis\": \"y\"}],\n",
       "                        {\"legend\": {\"tracegroupgap\": 0}, \"margin\": {\"t\": 60}, \"plot_bgcolor\": \"rgb(245,245,245)\", \"template\": {\"data\": {\"bar\": [{\"error_x\": {\"color\": \"#2a3f5f\"}, \"error_y\": {\"color\": \"#2a3f5f\"}, \"marker\": {\"line\": {\"color\": \"#E5ECF6\", \"width\": 0.5}}, \"type\": \"bar\"}], \"barpolar\": [{\"marker\": {\"line\": {\"color\": \"#E5ECF6\", \"width\": 0.5}}, \"type\": \"barpolar\"}], \"carpet\": [{\"aaxis\": {\"endlinecolor\": \"#2a3f5f\", \"gridcolor\": \"white\", \"linecolor\": \"white\", \"minorgridcolor\": \"white\", \"startlinecolor\": \"#2a3f5f\"}, \"baxis\": {\"endlinecolor\": \"#2a3f5f\", \"gridcolor\": \"white\", \"linecolor\": \"white\", \"minorgridcolor\": \"white\", \"startlinecolor\": \"#2a3f5f\"}, \"type\": \"carpet\"}], \"choropleth\": [{\"colorbar\": {\"outlinewidth\": 0, \"ticks\": \"\"}, \"type\": \"choropleth\"}], \"contour\": [{\"colorbar\": {\"outlinewidth\": 0, \"ticks\": \"\"}, \"colorscale\": [[0.0, \"#0d0887\"], [0.1111111111111111, \"#46039f\"], [0.2222222222222222, \"#7201a8\"], [0.3333333333333333, \"#9c179e\"], [0.4444444444444444, \"#bd3786\"], [0.5555555555555556, \"#d8576b\"], [0.6666666666666666, \"#ed7953\"], [0.7777777777777778, \"#fb9f3a\"], [0.8888888888888888, \"#fdca26\"], [1.0, \"#f0f921\"]], \"type\": \"contour\"}], \"contourcarpet\": [{\"colorbar\": {\"outlinewidth\": 0, \"ticks\": \"\"}, \"type\": \"contourcarpet\"}], \"heatmap\": [{\"colorbar\": {\"outlinewidth\": 0, \"ticks\": \"\"}, \"colorscale\": [[0.0, \"#0d0887\"], [0.1111111111111111, \"#46039f\"], [0.2222222222222222, \"#7201a8\"], [0.3333333333333333, \"#9c179e\"], [0.4444444444444444, \"#bd3786\"], [0.5555555555555556, \"#d8576b\"], [0.6666666666666666, \"#ed7953\"], [0.7777777777777778, \"#fb9f3a\"], [0.8888888888888888, \"#fdca26\"], [1.0, \"#f0f921\"]], \"type\": \"heatmap\"}], \"heatmapgl\": [{\"colorbar\": {\"outlinewidth\": 0, \"ticks\": \"\"}, \"colorscale\": [[0.0, \"#0d0887\"], [0.1111111111111111, \"#46039f\"], [0.2222222222222222, \"#7201a8\"], [0.3333333333333333, \"#9c179e\"], [0.4444444444444444, \"#bd3786\"], [0.5555555555555556, \"#d8576b\"], [0.6666666666666666, \"#ed7953\"], [0.7777777777777778, \"#fb9f3a\"], [0.8888888888888888, \"#fdca26\"], [1.0, \"#f0f921\"]], \"type\": \"heatmapgl\"}], \"histogram\": [{\"marker\": {\"colorbar\": {\"outlinewidth\": 0, \"ticks\": \"\"}}, \"type\": \"histogram\"}], \"histogram2d\": [{\"colorbar\": {\"outlinewidth\": 0, \"ticks\": \"\"}, \"colorscale\": [[0.0, \"#0d0887\"], [0.1111111111111111, \"#46039f\"], [0.2222222222222222, \"#7201a8\"], [0.3333333333333333, \"#9c179e\"], [0.4444444444444444, \"#bd3786\"], [0.5555555555555556, \"#d8576b\"], [0.6666666666666666, \"#ed7953\"], [0.7777777777777778, \"#fb9f3a\"], [0.8888888888888888, \"#fdca26\"], [1.0, \"#f0f921\"]], \"type\": \"histogram2d\"}], \"histogram2dcontour\": [{\"colorbar\": {\"outlinewidth\": 0, \"ticks\": \"\"}, \"colorscale\": [[0.0, \"#0d0887\"], [0.1111111111111111, \"#46039f\"], [0.2222222222222222, \"#7201a8\"], [0.3333333333333333, \"#9c179e\"], [0.4444444444444444, \"#bd3786\"], [0.5555555555555556, \"#d8576b\"], [0.6666666666666666, \"#ed7953\"], [0.7777777777777778, \"#fb9f3a\"], [0.8888888888888888, \"#fdca26\"], [1.0, \"#f0f921\"]], \"type\": \"histogram2dcontour\"}], \"mesh3d\": [{\"colorbar\": {\"outlinewidth\": 0, \"ticks\": \"\"}, \"type\": \"mesh3d\"}], \"parcoords\": [{\"line\": {\"colorbar\": {\"outlinewidth\": 0, \"ticks\": \"\"}}, \"type\": \"parcoords\"}], \"pie\": [{\"automargin\": true, \"type\": \"pie\"}], \"scatter\": [{\"marker\": {\"colorbar\": {\"outlinewidth\": 0, \"ticks\": \"\"}}, \"type\": \"scatter\"}], \"scatter3d\": [{\"line\": {\"colorbar\": {\"outlinewidth\": 0, \"ticks\": \"\"}}, \"marker\": {\"colorbar\": {\"outlinewidth\": 0, \"ticks\": \"\"}}, \"type\": \"scatter3d\"}], \"scattercarpet\": [{\"marker\": {\"colorbar\": {\"outlinewidth\": 0, \"ticks\": \"\"}}, \"type\": \"scattercarpet\"}], \"scattergeo\": [{\"marker\": {\"colorbar\": {\"outlinewidth\": 0, \"ticks\": \"\"}}, \"type\": \"scattergeo\"}], \"scattergl\": [{\"marker\": {\"colorbar\": {\"outlinewidth\": 0, \"ticks\": \"\"}}, \"type\": \"scattergl\"}], \"scattermapbox\": [{\"marker\": {\"colorbar\": {\"outlinewidth\": 0, \"ticks\": \"\"}}, \"type\": \"scattermapbox\"}], \"scatterpolar\": [{\"marker\": {\"colorbar\": {\"outlinewidth\": 0, \"ticks\": \"\"}}, \"type\": \"scatterpolar\"}], \"scatterpolargl\": [{\"marker\": {\"colorbar\": {\"outlinewidth\": 0, \"ticks\": \"\"}}, \"type\": \"scatterpolargl\"}], \"scatterternary\": [{\"marker\": {\"colorbar\": {\"outlinewidth\": 0, \"ticks\": \"\"}}, \"type\": \"scatterternary\"}], \"surface\": [{\"colorbar\": {\"outlinewidth\": 0, \"ticks\": \"\"}, \"colorscale\": [[0.0, \"#0d0887\"], [0.1111111111111111, \"#46039f\"], [0.2222222222222222, \"#7201a8\"], [0.3333333333333333, \"#9c179e\"], [0.4444444444444444, \"#bd3786\"], [0.5555555555555556, \"#d8576b\"], [0.6666666666666666, \"#ed7953\"], [0.7777777777777778, \"#fb9f3a\"], [0.8888888888888888, \"#fdca26\"], [1.0, \"#f0f921\"]], \"type\": \"surface\"}], \"table\": [{\"cells\": {\"fill\": {\"color\": \"#EBF0F8\"}, \"line\": {\"color\": \"white\"}}, \"header\": {\"fill\": {\"color\": \"#C8D4E3\"}, \"line\": {\"color\": \"white\"}}, \"type\": \"table\"}]}, \"layout\": {\"annotationdefaults\": {\"arrowcolor\": \"#2a3f5f\", \"arrowhead\": 0, \"arrowwidth\": 1}, \"coloraxis\": {\"colorbar\": {\"outlinewidth\": 0, \"ticks\": \"\"}}, \"colorscale\": {\"diverging\": [[0, \"#8e0152\"], [0.1, \"#c51b7d\"], [0.2, \"#de77ae\"], [0.3, \"#f1b6da\"], [0.4, \"#fde0ef\"], [0.5, \"#f7f7f7\"], [0.6, \"#e6f5d0\"], [0.7, \"#b8e186\"], [0.8, \"#7fbc41\"], [0.9, \"#4d9221\"], [1, \"#276419\"]], \"sequential\": [[0.0, \"#0d0887\"], [0.1111111111111111, \"#46039f\"], [0.2222222222222222, \"#7201a8\"], [0.3333333333333333, \"#9c179e\"], [0.4444444444444444, \"#bd3786\"], [0.5555555555555556, \"#d8576b\"], [0.6666666666666666, \"#ed7953\"], [0.7777777777777778, \"#fb9f3a\"], [0.8888888888888888, \"#fdca26\"], [1.0, \"#f0f921\"]], \"sequentialminus\": [[0.0, \"#0d0887\"], [0.1111111111111111, \"#46039f\"], [0.2222222222222222, \"#7201a8\"], [0.3333333333333333, \"#9c179e\"], [0.4444444444444444, \"#bd3786\"], [0.5555555555555556, \"#d8576b\"], [0.6666666666666666, \"#ed7953\"], [0.7777777777777778, \"#fb9f3a\"], [0.8888888888888888, \"#fdca26\"], [1.0, \"#f0f921\"]]}, \"colorway\": [\"#636efa\", \"#EF553B\", \"#00cc96\", \"#ab63fa\", \"#FFA15A\", \"#19d3f3\", \"#FF6692\", \"#B6E880\", \"#FF97FF\", \"#FECB52\"], \"font\": {\"color\": \"#2a3f5f\"}, \"geo\": {\"bgcolor\": \"white\", \"lakecolor\": \"white\", \"landcolor\": \"#E5ECF6\", \"showlakes\": true, \"showland\": true, \"subunitcolor\": \"white\"}, \"hoverlabel\": {\"align\": \"left\"}, \"hovermode\": \"closest\", \"mapbox\": {\"style\": \"light\"}, \"paper_bgcolor\": \"white\", \"plot_bgcolor\": \"#E5ECF6\", \"polar\": {\"angularaxis\": {\"gridcolor\": \"white\", \"linecolor\": \"white\", \"ticks\": \"\"}, \"bgcolor\": \"#E5ECF6\", \"radialaxis\": {\"gridcolor\": \"white\", \"linecolor\": \"white\", \"ticks\": \"\"}}, \"scene\": {\"xaxis\": {\"backgroundcolor\": \"#E5ECF6\", \"gridcolor\": \"white\", \"gridwidth\": 2, \"linecolor\": \"white\", \"showbackground\": true, \"ticks\": \"\", \"zerolinecolor\": \"white\"}, \"yaxis\": {\"backgroundcolor\": \"#E5ECF6\", \"gridcolor\": \"white\", \"gridwidth\": 2, \"linecolor\": \"white\", \"showbackground\": true, \"ticks\": \"\", \"zerolinecolor\": \"white\"}, \"zaxis\": {\"backgroundcolor\": \"#E5ECF6\", \"gridcolor\": \"white\", \"gridwidth\": 2, \"linecolor\": \"white\", \"showbackground\": true, \"ticks\": \"\", \"zerolinecolor\": \"white\"}}, \"shapedefaults\": {\"line\": {\"color\": \"#2a3f5f\"}}, \"ternary\": {\"aaxis\": {\"gridcolor\": \"white\", \"linecolor\": \"white\", \"ticks\": \"\"}, \"baxis\": {\"gridcolor\": \"white\", \"linecolor\": \"white\", \"ticks\": \"\"}, \"bgcolor\": \"#E5ECF6\", \"caxis\": {\"gridcolor\": \"white\", \"linecolor\": \"white\", \"ticks\": \"\"}}, \"title\": {\"x\": 0.05}, \"xaxis\": {\"automargin\": true, \"gridcolor\": \"white\", \"linecolor\": \"white\", \"ticks\": \"\", \"title\": {\"standoff\": 15}, \"zerolinecolor\": \"white\", \"zerolinewidth\": 2}, \"yaxis\": {\"automargin\": true, \"gridcolor\": \"white\", \"linecolor\": \"white\", \"ticks\": \"\", \"title\": {\"standoff\": 15}, \"zerolinecolor\": \"white\", \"zerolinewidth\": 2}}}, \"title\": {\"text\": \"Gradient Boosting Classifier Metrics and # of Topics\", \"x\": 0.45, \"xanchor\": \"center\", \"y\": 0.95, \"yanchor\": \"top\"}, \"xaxis\": {\"anchor\": \"y\", \"domain\": [0.0, 1.0], \"title\": {\"text\": \"# Topics\"}}, \"yaxis\": {\"anchor\": \"x\", \"domain\": [0.0, 1.0], \"range\": [0, 1], \"title\": {\"text\": \"Score\"}}},\n",
       "                        {\"responsive\": true}\n",
       "                    ).then(function(){\n",
       "                            \n",
       "var gd = document.getElementById('a91ec815-abe3-4b8b-8936-c9003da1fbd5');\n",
       "var x = new MutationObserver(function (mutations, observer) {{\n",
       "        var display = window.getComputedStyle(gd).display;\n",
       "        if (!display || display === 'none') {{\n",
       "            console.log([gd, 'removed!']);\n",
       "            Plotly.purge(gd);\n",
       "            observer.disconnect();\n",
       "        }}\n",
       "}});\n",
       "\n",
       "// Listen for the removal of the full notebook cells\n",
       "var notebookContainer = gd.closest('#notebook-container');\n",
       "if (notebookContainer) {{\n",
       "    x.observe(notebookContainer, {childList: true});\n",
       "}}\n",
       "\n",
       "// Listen for the clearing of the current output cell\n",
       "var outputEl = gd.closest('.output');\n",
       "if (outputEl) {{\n",
       "    x.observe(outputEl, {childList: true});\n",
       "}}\n",
       "\n",
       "                        })\n",
       "                };\n",
       "                });\n",
       "            </script>\n",
       "        </div>"
      ]
     },
     "metadata": {},
     "output_type": "display_data"
    },
    {
     "name": "stdout",
     "output_type": "stream",
     "text": [
      "Best Model: Random Projections | # Topics: 400 | AUC : 0.8668\n"
     ]
    }
   ],
   "source": [
    "%%time\n",
    "tuned_classifier = tune_model(model = 'rp', supervised_target = 'status', estimator = 'gbc', optimize = 'AUC')"
   ]
  },
  {
   "cell_type": "code",
   "execution_count": 33,
   "metadata": {},
   "outputs": [
    {
     "data": {
      "application/vnd.plotly.v1+json": {
       "config": {
        "plotlyServerURL": "https://plot.ly"
       },
       "data": [
        {
         "hoverlabel": {
          "namelength": 0
         },
         "hovertemplate": "Metric=R2<br># Topics=%{x}<br>R2=%{y}",
         "legendgroup": "Metric=R2",
         "line": {
          "color": "#636efa",
          "dash": "solid",
          "shape": "linear"
         },
         "mode": "lines",
         "name": "Metric=R2",
         "showlegend": true,
         "type": "scatter",
         "x": [
          2,
          4,
          8,
          16,
          32,
          64,
          100,
          200,
          300,
          400
         ],
         "xaxis": "x",
         "y": [
          0.2509256330707583,
          0.3002012710437668,
          0.32645092715170054,
          0.36102874835383125,
          0.3540798519752799,
          0.3734053569571324,
          0.36231261679412063,
          0.3502307628566541,
          0.32881666645579366,
          0.3341424064451173
         ],
         "yaxis": "y"
        }
       ],
       "layout": {
        "legend": {
         "tracegroupgap": 0
        },
        "plot_bgcolor": "rgb(245,245,245)",
        "template": {
         "data": {
          "bar": [
           {
            "error_x": {
             "color": "#2a3f5f"
            },
            "error_y": {
             "color": "#2a3f5f"
            },
            "marker": {
             "line": {
              "color": "#E5ECF6",
              "width": 0.5
             }
            },
            "type": "bar"
           }
          ],
          "barpolar": [
           {
            "marker": {
             "line": {
              "color": "#E5ECF6",
              "width": 0.5
             }
            },
            "type": "barpolar"
           }
          ],
          "carpet": [
           {
            "aaxis": {
             "endlinecolor": "#2a3f5f",
             "gridcolor": "white",
             "linecolor": "white",
             "minorgridcolor": "white",
             "startlinecolor": "#2a3f5f"
            },
            "baxis": {
             "endlinecolor": "#2a3f5f",
             "gridcolor": "white",
             "linecolor": "white",
             "minorgridcolor": "white",
             "startlinecolor": "#2a3f5f"
            },
            "type": "carpet"
           }
          ],
          "choropleth": [
           {
            "colorbar": {
             "outlinewidth": 0,
             "ticks": ""
            },
            "type": "choropleth"
           }
          ],
          "contour": [
           {
            "colorbar": {
             "outlinewidth": 0,
             "ticks": ""
            },
            "colorscale": [
             [
              0,
              "#0d0887"
             ],
             [
              0.1111111111111111,
              "#46039f"
             ],
             [
              0.2222222222222222,
              "#7201a8"
             ],
             [
              0.3333333333333333,
              "#9c179e"
             ],
             [
              0.4444444444444444,
              "#bd3786"
             ],
             [
              0.5555555555555556,
              "#d8576b"
             ],
             [
              0.6666666666666666,
              "#ed7953"
             ],
             [
              0.7777777777777778,
              "#fb9f3a"
             ],
             [
              0.8888888888888888,
              "#fdca26"
             ],
             [
              1,
              "#f0f921"
             ]
            ],
            "type": "contour"
           }
          ],
          "contourcarpet": [
           {
            "colorbar": {
             "outlinewidth": 0,
             "ticks": ""
            },
            "type": "contourcarpet"
           }
          ],
          "heatmap": [
           {
            "colorbar": {
             "outlinewidth": 0,
             "ticks": ""
            },
            "colorscale": [
             [
              0,
              "#0d0887"
             ],
             [
              0.1111111111111111,
              "#46039f"
             ],
             [
              0.2222222222222222,
              "#7201a8"
             ],
             [
              0.3333333333333333,
              "#9c179e"
             ],
             [
              0.4444444444444444,
              "#bd3786"
             ],
             [
              0.5555555555555556,
              "#d8576b"
             ],
             [
              0.6666666666666666,
              "#ed7953"
             ],
             [
              0.7777777777777778,
              "#fb9f3a"
             ],
             [
              0.8888888888888888,
              "#fdca26"
             ],
             [
              1,
              "#f0f921"
             ]
            ],
            "type": "heatmap"
           }
          ],
          "heatmapgl": [
           {
            "colorbar": {
             "outlinewidth": 0,
             "ticks": ""
            },
            "colorscale": [
             [
              0,
              "#0d0887"
             ],
             [
              0.1111111111111111,
              "#46039f"
             ],
             [
              0.2222222222222222,
              "#7201a8"
             ],
             [
              0.3333333333333333,
              "#9c179e"
             ],
             [
              0.4444444444444444,
              "#bd3786"
             ],
             [
              0.5555555555555556,
              "#d8576b"
             ],
             [
              0.6666666666666666,
              "#ed7953"
             ],
             [
              0.7777777777777778,
              "#fb9f3a"
             ],
             [
              0.8888888888888888,
              "#fdca26"
             ],
             [
              1,
              "#f0f921"
             ]
            ],
            "type": "heatmapgl"
           }
          ],
          "histogram": [
           {
            "marker": {
             "colorbar": {
              "outlinewidth": 0,
              "ticks": ""
             }
            },
            "type": "histogram"
           }
          ],
          "histogram2d": [
           {
            "colorbar": {
             "outlinewidth": 0,
             "ticks": ""
            },
            "colorscale": [
             [
              0,
              "#0d0887"
             ],
             [
              0.1111111111111111,
              "#46039f"
             ],
             [
              0.2222222222222222,
              "#7201a8"
             ],
             [
              0.3333333333333333,
              "#9c179e"
             ],
             [
              0.4444444444444444,
              "#bd3786"
             ],
             [
              0.5555555555555556,
              "#d8576b"
             ],
             [
              0.6666666666666666,
              "#ed7953"
             ],
             [
              0.7777777777777778,
              "#fb9f3a"
             ],
             [
              0.8888888888888888,
              "#fdca26"
             ],
             [
              1,
              "#f0f921"
             ]
            ],
            "type": "histogram2d"
           }
          ],
          "histogram2dcontour": [
           {
            "colorbar": {
             "outlinewidth": 0,
             "ticks": ""
            },
            "colorscale": [
             [
              0,
              "#0d0887"
             ],
             [
              0.1111111111111111,
              "#46039f"
             ],
             [
              0.2222222222222222,
              "#7201a8"
             ],
             [
              0.3333333333333333,
              "#9c179e"
             ],
             [
              0.4444444444444444,
              "#bd3786"
             ],
             [
              0.5555555555555556,
              "#d8576b"
             ],
             [
              0.6666666666666666,
              "#ed7953"
             ],
             [
              0.7777777777777778,
              "#fb9f3a"
             ],
             [
              0.8888888888888888,
              "#fdca26"
             ],
             [
              1,
              "#f0f921"
             ]
            ],
            "type": "histogram2dcontour"
           }
          ],
          "mesh3d": [
           {
            "colorbar": {
             "outlinewidth": 0,
             "ticks": ""
            },
            "type": "mesh3d"
           }
          ],
          "parcoords": [
           {
            "line": {
             "colorbar": {
              "outlinewidth": 0,
              "ticks": ""
             }
            },
            "type": "parcoords"
           }
          ],
          "pie": [
           {
            "automargin": true,
            "type": "pie"
           }
          ],
          "scatter": [
           {
            "marker": {
             "colorbar": {
              "outlinewidth": 0,
              "ticks": ""
             }
            },
            "type": "scatter"
           }
          ],
          "scatter3d": [
           {
            "line": {
             "colorbar": {
              "outlinewidth": 0,
              "ticks": ""
             }
            },
            "marker": {
             "colorbar": {
              "outlinewidth": 0,
              "ticks": ""
             }
            },
            "type": "scatter3d"
           }
          ],
          "scattercarpet": [
           {
            "marker": {
             "colorbar": {
              "outlinewidth": 0,
              "ticks": ""
             }
            },
            "type": "scattercarpet"
           }
          ],
          "scattergeo": [
           {
            "marker": {
             "colorbar": {
              "outlinewidth": 0,
              "ticks": ""
             }
            },
            "type": "scattergeo"
           }
          ],
          "scattergl": [
           {
            "marker": {
             "colorbar": {
              "outlinewidth": 0,
              "ticks": ""
             }
            },
            "type": "scattergl"
           }
          ],
          "scattermapbox": [
           {
            "marker": {
             "colorbar": {
              "outlinewidth": 0,
              "ticks": ""
             }
            },
            "type": "scattermapbox"
           }
          ],
          "scatterpolar": [
           {
            "marker": {
             "colorbar": {
              "outlinewidth": 0,
              "ticks": ""
             }
            },
            "type": "scatterpolar"
           }
          ],
          "scatterpolargl": [
           {
            "marker": {
             "colorbar": {
              "outlinewidth": 0,
              "ticks": ""
             }
            },
            "type": "scatterpolargl"
           }
          ],
          "scatterternary": [
           {
            "marker": {
             "colorbar": {
              "outlinewidth": 0,
              "ticks": ""
             }
            },
            "type": "scatterternary"
           }
          ],
          "surface": [
           {
            "colorbar": {
             "outlinewidth": 0,
             "ticks": ""
            },
            "colorscale": [
             [
              0,
              "#0d0887"
             ],
             [
              0.1111111111111111,
              "#46039f"
             ],
             [
              0.2222222222222222,
              "#7201a8"
             ],
             [
              0.3333333333333333,
              "#9c179e"
             ],
             [
              0.4444444444444444,
              "#bd3786"
             ],
             [
              0.5555555555555556,
              "#d8576b"
             ],
             [
              0.6666666666666666,
              "#ed7953"
             ],
             [
              0.7777777777777778,
              "#fb9f3a"
             ],
             [
              0.8888888888888888,
              "#fdca26"
             ],
             [
              1,
              "#f0f921"
             ]
            ],
            "type": "surface"
           }
          ],
          "table": [
           {
            "cells": {
             "fill": {
              "color": "#EBF0F8"
             },
             "line": {
              "color": "white"
             }
            },
            "header": {
             "fill": {
              "color": "#C8D4E3"
             },
             "line": {
              "color": "white"
             }
            },
            "type": "table"
           }
          ]
         },
         "layout": {
          "annotationdefaults": {
           "arrowcolor": "#2a3f5f",
           "arrowhead": 0,
           "arrowwidth": 1
          },
          "coloraxis": {
           "colorbar": {
            "outlinewidth": 0,
            "ticks": ""
           }
          },
          "colorscale": {
           "diverging": [
            [
             0,
             "#8e0152"
            ],
            [
             0.1,
             "#c51b7d"
            ],
            [
             0.2,
             "#de77ae"
            ],
            [
             0.3,
             "#f1b6da"
            ],
            [
             0.4,
             "#fde0ef"
            ],
            [
             0.5,
             "#f7f7f7"
            ],
            [
             0.6,
             "#e6f5d0"
            ],
            [
             0.7,
             "#b8e186"
            ],
            [
             0.8,
             "#7fbc41"
            ],
            [
             0.9,
             "#4d9221"
            ],
            [
             1,
             "#276419"
            ]
           ],
           "sequential": [
            [
             0,
             "#0d0887"
            ],
            [
             0.1111111111111111,
             "#46039f"
            ],
            [
             0.2222222222222222,
             "#7201a8"
            ],
            [
             0.3333333333333333,
             "#9c179e"
            ],
            [
             0.4444444444444444,
             "#bd3786"
            ],
            [
             0.5555555555555556,
             "#d8576b"
            ],
            [
             0.6666666666666666,
             "#ed7953"
            ],
            [
             0.7777777777777778,
             "#fb9f3a"
            ],
            [
             0.8888888888888888,
             "#fdca26"
            ],
            [
             1,
             "#f0f921"
            ]
           ],
           "sequentialminus": [
            [
             0,
             "#0d0887"
            ],
            [
             0.1111111111111111,
             "#46039f"
            ],
            [
             0.2222222222222222,
             "#7201a8"
            ],
            [
             0.3333333333333333,
             "#9c179e"
            ],
            [
             0.4444444444444444,
             "#bd3786"
            ],
            [
             0.5555555555555556,
             "#d8576b"
            ],
            [
             0.6666666666666666,
             "#ed7953"
            ],
            [
             0.7777777777777778,
             "#fb9f3a"
            ],
            [
             0.8888888888888888,
             "#fdca26"
            ],
            [
             1,
             "#f0f921"
            ]
           ]
          },
          "colorway": [
           "#636efa",
           "#EF553B",
           "#00cc96",
           "#ab63fa",
           "#FFA15A",
           "#19d3f3",
           "#FF6692",
           "#B6E880",
           "#FF97FF",
           "#FECB52"
          ],
          "font": {
           "color": "#2a3f5f"
          },
          "geo": {
           "bgcolor": "white",
           "lakecolor": "white",
           "landcolor": "#E5ECF6",
           "showlakes": true,
           "showland": true,
           "subunitcolor": "white"
          },
          "hoverlabel": {
           "align": "left"
          },
          "hovermode": "closest",
          "mapbox": {
           "style": "light"
          },
          "paper_bgcolor": "white",
          "plot_bgcolor": "#E5ECF6",
          "polar": {
           "angularaxis": {
            "gridcolor": "white",
            "linecolor": "white",
            "ticks": ""
           },
           "bgcolor": "#E5ECF6",
           "radialaxis": {
            "gridcolor": "white",
            "linecolor": "white",
            "ticks": ""
           }
          },
          "scene": {
           "xaxis": {
            "backgroundcolor": "#E5ECF6",
            "gridcolor": "white",
            "gridwidth": 2,
            "linecolor": "white",
            "showbackground": true,
            "ticks": "",
            "zerolinecolor": "white"
           },
           "yaxis": {
            "backgroundcolor": "#E5ECF6",
            "gridcolor": "white",
            "gridwidth": 2,
            "linecolor": "white",
            "showbackground": true,
            "ticks": "",
            "zerolinecolor": "white"
           },
           "zaxis": {
            "backgroundcolor": "#E5ECF6",
            "gridcolor": "white",
            "gridwidth": 2,
            "linecolor": "white",
            "showbackground": true,
            "ticks": "",
            "zerolinecolor": "white"
           }
          },
          "shapedefaults": {
           "line": {
            "color": "#2a3f5f"
           }
          },
          "ternary": {
           "aaxis": {
            "gridcolor": "white",
            "linecolor": "white",
            "ticks": ""
           },
           "baxis": {
            "gridcolor": "white",
            "linecolor": "white",
            "ticks": ""
           },
           "bgcolor": "#E5ECF6",
           "caxis": {
            "gridcolor": "white",
            "linecolor": "white",
            "ticks": ""
           }
          },
          "title": {
           "x": 0.05
          },
          "xaxis": {
           "automargin": true,
           "gridcolor": "white",
           "linecolor": "white",
           "ticks": "",
           "title": {
            "standoff": 15
           },
           "zerolinecolor": "white",
           "zerolinewidth": 2
          },
          "yaxis": {
           "automargin": true,
           "gridcolor": "white",
           "linecolor": "white",
           "ticks": "",
           "title": {
            "standoff": 15
           },
           "zerolinecolor": "white",
           "zerolinewidth": 2
          }
         }
        },
        "title": {
         "text": "Extreme Gradient Boosting Regressor Metrics and # of Topics"
        },
        "xaxis": {
         "anchor": "y",
         "domain": [
          0,
          1
         ],
         "title": {
          "text": "# Topics"
         }
        },
        "yaxis": {
         "anchor": "x",
         "domain": [
          0,
          1
         ],
         "title": {
          "text": "R2"
         }
        }
       }
      },
      "text/html": [
       "<div>\n",
       "        \n",
       "        \n",
       "            <div id=\"691f1629-a0d0-429b-a7fc-57838f22e538\" class=\"plotly-graph-div\" style=\"height:525px; width:100%;\"></div>\n",
       "            <script type=\"text/javascript\">\n",
       "                require([\"plotly\"], function(Plotly) {\n",
       "                    window.PLOTLYENV=window.PLOTLYENV || {};\n",
       "                    \n",
       "                if (document.getElementById(\"691f1629-a0d0-429b-a7fc-57838f22e538\")) {\n",
       "                    Plotly.newPlot(\n",
       "                        '691f1629-a0d0-429b-a7fc-57838f22e538',\n",
       "                        [{\"hoverlabel\": {\"namelength\": 0}, \"hovertemplate\": \"Metric=R2<br># Topics=%{x}<br>R2=%{y}\", \"legendgroup\": \"Metric=R2\", \"line\": {\"color\": \"#636efa\", \"dash\": \"solid\", \"shape\": \"linear\"}, \"mode\": \"lines\", \"name\": \"Metric=R2\", \"showlegend\": true, \"type\": \"scatter\", \"x\": [2, 4, 8, 16, 32, 64, 100, 200, 300, 400], \"xaxis\": \"x\", \"y\": [0.2509256330707583, 0.3002012710437668, 0.32645092715170054, 0.36102874835383125, 0.3540798519752799, 0.3734053569571324, 0.36231261679412063, 0.3502307628566541, 0.32881666645579366, 0.3341424064451173], \"yaxis\": \"y\"}],\n",
       "                        {\"legend\": {\"tracegroupgap\": 0}, \"plot_bgcolor\": \"rgb(245,245,245)\", \"template\": {\"data\": {\"bar\": [{\"error_x\": {\"color\": \"#2a3f5f\"}, \"error_y\": {\"color\": \"#2a3f5f\"}, \"marker\": {\"line\": {\"color\": \"#E5ECF6\", \"width\": 0.5}}, \"type\": \"bar\"}], \"barpolar\": [{\"marker\": {\"line\": {\"color\": \"#E5ECF6\", \"width\": 0.5}}, \"type\": \"barpolar\"}], \"carpet\": [{\"aaxis\": {\"endlinecolor\": \"#2a3f5f\", \"gridcolor\": \"white\", \"linecolor\": \"white\", \"minorgridcolor\": \"white\", \"startlinecolor\": \"#2a3f5f\"}, \"baxis\": {\"endlinecolor\": \"#2a3f5f\", \"gridcolor\": \"white\", \"linecolor\": \"white\", \"minorgridcolor\": \"white\", \"startlinecolor\": \"#2a3f5f\"}, \"type\": \"carpet\"}], \"choropleth\": [{\"colorbar\": {\"outlinewidth\": 0, \"ticks\": \"\"}, \"type\": \"choropleth\"}], \"contour\": [{\"colorbar\": {\"outlinewidth\": 0, \"ticks\": \"\"}, \"colorscale\": [[0.0, \"#0d0887\"], [0.1111111111111111, \"#46039f\"], [0.2222222222222222, \"#7201a8\"], [0.3333333333333333, \"#9c179e\"], [0.4444444444444444, \"#bd3786\"], [0.5555555555555556, \"#d8576b\"], [0.6666666666666666, \"#ed7953\"], [0.7777777777777778, \"#fb9f3a\"], [0.8888888888888888, \"#fdca26\"], [1.0, \"#f0f921\"]], \"type\": \"contour\"}], \"contourcarpet\": [{\"colorbar\": {\"outlinewidth\": 0, \"ticks\": \"\"}, \"type\": \"contourcarpet\"}], \"heatmap\": [{\"colorbar\": {\"outlinewidth\": 0, \"ticks\": \"\"}, \"colorscale\": [[0.0, \"#0d0887\"], [0.1111111111111111, \"#46039f\"], [0.2222222222222222, \"#7201a8\"], [0.3333333333333333, \"#9c179e\"], [0.4444444444444444, \"#bd3786\"], [0.5555555555555556, \"#d8576b\"], [0.6666666666666666, \"#ed7953\"], [0.7777777777777778, \"#fb9f3a\"], [0.8888888888888888, \"#fdca26\"], [1.0, \"#f0f921\"]], \"type\": \"heatmap\"}], \"heatmapgl\": [{\"colorbar\": {\"outlinewidth\": 0, \"ticks\": \"\"}, \"colorscale\": [[0.0, \"#0d0887\"], [0.1111111111111111, \"#46039f\"], [0.2222222222222222, \"#7201a8\"], [0.3333333333333333, \"#9c179e\"], [0.4444444444444444, \"#bd3786\"], [0.5555555555555556, \"#d8576b\"], [0.6666666666666666, \"#ed7953\"], [0.7777777777777778, \"#fb9f3a\"], [0.8888888888888888, \"#fdca26\"], [1.0, \"#f0f921\"]], \"type\": \"heatmapgl\"}], \"histogram\": [{\"marker\": {\"colorbar\": {\"outlinewidth\": 0, \"ticks\": \"\"}}, \"type\": \"histogram\"}], \"histogram2d\": [{\"colorbar\": {\"outlinewidth\": 0, \"ticks\": \"\"}, \"colorscale\": [[0.0, \"#0d0887\"], [0.1111111111111111, \"#46039f\"], [0.2222222222222222, \"#7201a8\"], [0.3333333333333333, \"#9c179e\"], [0.4444444444444444, \"#bd3786\"], [0.5555555555555556, \"#d8576b\"], [0.6666666666666666, \"#ed7953\"], [0.7777777777777778, \"#fb9f3a\"], [0.8888888888888888, \"#fdca26\"], [1.0, \"#f0f921\"]], \"type\": \"histogram2d\"}], \"histogram2dcontour\": [{\"colorbar\": {\"outlinewidth\": 0, \"ticks\": \"\"}, \"colorscale\": [[0.0, \"#0d0887\"], [0.1111111111111111, \"#46039f\"], [0.2222222222222222, \"#7201a8\"], [0.3333333333333333, \"#9c179e\"], [0.4444444444444444, \"#bd3786\"], [0.5555555555555556, \"#d8576b\"], [0.6666666666666666, \"#ed7953\"], [0.7777777777777778, \"#fb9f3a\"], [0.8888888888888888, \"#fdca26\"], [1.0, \"#f0f921\"]], \"type\": \"histogram2dcontour\"}], \"mesh3d\": [{\"colorbar\": {\"outlinewidth\": 0, \"ticks\": \"\"}, \"type\": \"mesh3d\"}], \"parcoords\": [{\"line\": {\"colorbar\": {\"outlinewidth\": 0, \"ticks\": \"\"}}, \"type\": \"parcoords\"}], \"pie\": [{\"automargin\": true, \"type\": \"pie\"}], \"scatter\": [{\"marker\": {\"colorbar\": {\"outlinewidth\": 0, \"ticks\": \"\"}}, \"type\": \"scatter\"}], \"scatter3d\": [{\"line\": {\"colorbar\": {\"outlinewidth\": 0, \"ticks\": \"\"}}, \"marker\": {\"colorbar\": {\"outlinewidth\": 0, \"ticks\": \"\"}}, \"type\": \"scatter3d\"}], \"scattercarpet\": [{\"marker\": {\"colorbar\": {\"outlinewidth\": 0, \"ticks\": \"\"}}, \"type\": \"scattercarpet\"}], \"scattergeo\": [{\"marker\": {\"colorbar\": {\"outlinewidth\": 0, \"ticks\": \"\"}}, \"type\": \"scattergeo\"}], \"scattergl\": [{\"marker\": {\"colorbar\": {\"outlinewidth\": 0, \"ticks\": \"\"}}, \"type\": \"scattergl\"}], \"scattermapbox\": [{\"marker\": {\"colorbar\": {\"outlinewidth\": 0, \"ticks\": \"\"}}, \"type\": \"scattermapbox\"}], \"scatterpolar\": [{\"marker\": {\"colorbar\": {\"outlinewidth\": 0, \"ticks\": \"\"}}, \"type\": \"scatterpolar\"}], \"scatterpolargl\": [{\"marker\": {\"colorbar\": {\"outlinewidth\": 0, \"ticks\": \"\"}}, \"type\": \"scatterpolargl\"}], \"scatterternary\": [{\"marker\": {\"colorbar\": {\"outlinewidth\": 0, \"ticks\": \"\"}}, \"type\": \"scatterternary\"}], \"surface\": [{\"colorbar\": {\"outlinewidth\": 0, \"ticks\": \"\"}, \"colorscale\": [[0.0, \"#0d0887\"], [0.1111111111111111, \"#46039f\"], [0.2222222222222222, \"#7201a8\"], [0.3333333333333333, \"#9c179e\"], [0.4444444444444444, \"#bd3786\"], [0.5555555555555556, \"#d8576b\"], [0.6666666666666666, \"#ed7953\"], [0.7777777777777778, \"#fb9f3a\"], [0.8888888888888888, \"#fdca26\"], [1.0, \"#f0f921\"]], \"type\": \"surface\"}], \"table\": [{\"cells\": {\"fill\": {\"color\": \"#EBF0F8\"}, \"line\": {\"color\": \"white\"}}, \"header\": {\"fill\": {\"color\": \"#C8D4E3\"}, \"line\": {\"color\": \"white\"}}, \"type\": \"table\"}]}, \"layout\": {\"annotationdefaults\": {\"arrowcolor\": \"#2a3f5f\", \"arrowhead\": 0, \"arrowwidth\": 1}, \"coloraxis\": {\"colorbar\": {\"outlinewidth\": 0, \"ticks\": \"\"}}, \"colorscale\": {\"diverging\": [[0, \"#8e0152\"], [0.1, \"#c51b7d\"], [0.2, \"#de77ae\"], [0.3, \"#f1b6da\"], [0.4, \"#fde0ef\"], [0.5, \"#f7f7f7\"], [0.6, \"#e6f5d0\"], [0.7, \"#b8e186\"], [0.8, \"#7fbc41\"], [0.9, \"#4d9221\"], [1, \"#276419\"]], \"sequential\": [[0.0, \"#0d0887\"], [0.1111111111111111, \"#46039f\"], [0.2222222222222222, \"#7201a8\"], [0.3333333333333333, \"#9c179e\"], [0.4444444444444444, \"#bd3786\"], [0.5555555555555556, \"#d8576b\"], [0.6666666666666666, \"#ed7953\"], [0.7777777777777778, \"#fb9f3a\"], [0.8888888888888888, \"#fdca26\"], [1.0, \"#f0f921\"]], \"sequentialminus\": [[0.0, \"#0d0887\"], [0.1111111111111111, \"#46039f\"], [0.2222222222222222, \"#7201a8\"], [0.3333333333333333, \"#9c179e\"], [0.4444444444444444, \"#bd3786\"], [0.5555555555555556, \"#d8576b\"], [0.6666666666666666, \"#ed7953\"], [0.7777777777777778, \"#fb9f3a\"], [0.8888888888888888, \"#fdca26\"], [1.0, \"#f0f921\"]]}, \"colorway\": [\"#636efa\", \"#EF553B\", \"#00cc96\", \"#ab63fa\", \"#FFA15A\", \"#19d3f3\", \"#FF6692\", \"#B6E880\", \"#FF97FF\", \"#FECB52\"], \"font\": {\"color\": \"#2a3f5f\"}, \"geo\": {\"bgcolor\": \"white\", \"lakecolor\": \"white\", \"landcolor\": \"#E5ECF6\", \"showlakes\": true, \"showland\": true, \"subunitcolor\": \"white\"}, \"hoverlabel\": {\"align\": \"left\"}, \"hovermode\": \"closest\", \"mapbox\": {\"style\": \"light\"}, \"paper_bgcolor\": \"white\", \"plot_bgcolor\": \"#E5ECF6\", \"polar\": {\"angularaxis\": {\"gridcolor\": \"white\", \"linecolor\": \"white\", \"ticks\": \"\"}, \"bgcolor\": \"#E5ECF6\", \"radialaxis\": {\"gridcolor\": \"white\", \"linecolor\": \"white\", \"ticks\": \"\"}}, \"scene\": {\"xaxis\": {\"backgroundcolor\": \"#E5ECF6\", \"gridcolor\": \"white\", \"gridwidth\": 2, \"linecolor\": \"white\", \"showbackground\": true, \"ticks\": \"\", \"zerolinecolor\": \"white\"}, \"yaxis\": {\"backgroundcolor\": \"#E5ECF6\", \"gridcolor\": \"white\", \"gridwidth\": 2, \"linecolor\": \"white\", \"showbackground\": true, \"ticks\": \"\", \"zerolinecolor\": \"white\"}, \"zaxis\": {\"backgroundcolor\": \"#E5ECF6\", \"gridcolor\": \"white\", \"gridwidth\": 2, \"linecolor\": \"white\", \"showbackground\": true, \"ticks\": \"\", \"zerolinecolor\": \"white\"}}, \"shapedefaults\": {\"line\": {\"color\": \"#2a3f5f\"}}, \"ternary\": {\"aaxis\": {\"gridcolor\": \"white\", \"linecolor\": \"white\", \"ticks\": \"\"}, \"baxis\": {\"gridcolor\": \"white\", \"linecolor\": \"white\", \"ticks\": \"\"}, \"bgcolor\": \"#E5ECF6\", \"caxis\": {\"gridcolor\": \"white\", \"linecolor\": \"white\", \"ticks\": \"\"}}, \"title\": {\"x\": 0.05}, \"xaxis\": {\"automargin\": true, \"gridcolor\": \"white\", \"linecolor\": \"white\", \"ticks\": \"\", \"title\": {\"standoff\": 15}, \"zerolinecolor\": \"white\", \"zerolinewidth\": 2}, \"yaxis\": {\"automargin\": true, \"gridcolor\": \"white\", \"linecolor\": \"white\", \"ticks\": \"\", \"title\": {\"standoff\": 15}, \"zerolinecolor\": \"white\", \"zerolinewidth\": 2}}}, \"title\": {\"text\": \"Extreme Gradient Boosting Regressor Metrics and # of Topics\"}, \"xaxis\": {\"anchor\": \"y\", \"domain\": [0.0, 1.0], \"title\": {\"text\": \"# Topics\"}}, \"yaxis\": {\"anchor\": \"x\", \"domain\": [0.0, 1.0], \"title\": {\"text\": \"R2\"}}},\n",
       "                        {\"responsive\": true}\n",
       "                    ).then(function(){\n",
       "                            \n",
       "var gd = document.getElementById('691f1629-a0d0-429b-a7fc-57838f22e538');\n",
       "var x = new MutationObserver(function (mutations, observer) {{\n",
       "        var display = window.getComputedStyle(gd).display;\n",
       "        if (!display || display === 'none') {{\n",
       "            console.log([gd, 'removed!']);\n",
       "            Plotly.purge(gd);\n",
       "            observer.disconnect();\n",
       "        }}\n",
       "}});\n",
       "\n",
       "// Listen for the removal of the full notebook cells\n",
       "var notebookContainer = gd.closest('#notebook-container');\n",
       "if (notebookContainer) {{\n",
       "    x.observe(notebookContainer, {childList: true});\n",
       "}}\n",
       "\n",
       "// Listen for the clearing of the current output cell\n",
       "var outputEl = gd.closest('.output');\n",
       "if (outputEl) {{\n",
       "    x.observe(outputEl, {childList: true});\n",
       "}}\n",
       "\n",
       "                        })\n",
       "                };\n",
       "                });\n",
       "            </script>\n",
       "        </div>"
      ]
     },
     "metadata": {},
     "output_type": "display_data"
    },
    {
     "name": "stdout",
     "output_type": "stream",
     "text": [
      "Best Model: Latent Semantic Indexing | # Topics: 64 | R2 : 0.3734\n",
      "Wall time: 4min 24s\n"
     ]
    }
   ],
   "source": [
    "%%time\n",
    "tuned_regressor = tune_model(model = 'lsi', supervised_target = 'loan_amount', estimator = 'xgboost')"
   ]
  },
  {
   "cell_type": "code",
   "execution_count": null,
   "metadata": {},
   "outputs": [],
   "source": []
  }
 ],
 "metadata": {
  "kernelspec": {
   "display_name": "Python 3",
   "language": "python",
   "name": "python3"
  },
  "language_info": {
   "codemirror_mode": {
    "name": "ipython",
    "version": 3
   },
   "file_extension": ".py",
   "mimetype": "text/x-python",
   "name": "python",
   "nbconvert_exporter": "python",
   "pygments_lexer": "ipython3",
   "version": "3.7.4"
  }
 },
 "nbformat": 4,
 "nbformat_minor": 2
}
